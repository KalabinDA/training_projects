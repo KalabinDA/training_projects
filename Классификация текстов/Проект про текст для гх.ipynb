{
 "cells": [
  {
   "cell_type": "markdown",
   "metadata": {},
   "source": [
    "# Проект для классификации текста с использованием модели BERT"
   ]
  },
  {
   "cell_type": "markdown",
   "metadata": {},
   "source": [
    "Интернет-магазин запускает новый сервис. Теперь пользователи могут редактировать и дополнять описания товаров, как в вики-сообществах. То есть клиенты предлагают свои правки и комментируют изменения других. Магазину нужен инструмент, который будет искать токсичные комментарии и отправлять их на модерацию. \n",
    "\n",
    "Необходимо обучить модель классифицировать комментарии на позитивные и негативные с помощью набора данных с разметкой о токсичности правок.\n",
    "\n",
    "Построить модель со значением метрики качества *F1* не меньше 0.75. \n",
    "\n",
    "**Ход проекта**\n",
    "\n",
    "1. Загрузка и подготовка данных\n",
    "2. Обучите разных моделей\n",
    "3. Общий вывод выводы.\n",
    "\n",
    "**Описание данных**\n",
    "\n",
    "Данные находятся в файле `toxic_comments.csv`. Столбец *text* в нём содержит текст комментария, а *toxic* — целевой признак."
   ]
  },
  {
   "cell_type": "markdown",
   "metadata": {},
   "source": [
    "## Подготовка"
   ]
  },
  {
   "cell_type": "markdown",
   "metadata": {},
   "source": [
    "Импортируем библиотеки, объявляем константы, проверяем работоспособность cuda"
   ]
  },
  {
   "cell_type": "code",
   "execution_count": 1,
   "metadata": {},
   "outputs": [],
   "source": [
    "!pip install --upgrade scikit-learn -q"
   ]
  },
  {
   "cell_type": "code",
   "execution_count": 2,
   "metadata": {},
   "outputs": [],
   "source": [
    "!pip install --upgrade lightgbm -q"
   ]
  },
  {
   "cell_type": "code",
   "execution_count": 3,
   "metadata": {},
   "outputs": [],
   "source": [
    "!pip3 install --pre torch torchvision torchaudio --index-url https://download.pytorch.org/whl/nightly/cu128 -q"
   ]
  },
  {
   "cell_type": "code",
   "execution_count": 4,
   "metadata": {},
   "outputs": [],
   "source": [
    "!pip3 install torch torchvision torchaudio --index-url https://download.pytorch.org/whl/cu126 -q"
   ]
  },
  {
   "cell_type": "code",
   "execution_count": 5,
   "metadata": {},
   "outputs": [],
   "source": [
    "!pip install --upgrade transformers -q"
   ]
  },
  {
   "cell_type": "code",
   "execution_count": 6,
   "metadata": {},
   "outputs": [],
   "source": [
    "import re \n",
    "import warnings\n",
    "import pandas as pd\n",
    "import numpy as np\n",
    "import matplotlib.pyplot as plt\n",
    "import seaborn as sns\n",
    "from sklearn.model_selection import(\n",
    "    train_test_split, RandomizedSearchCV)\n",
    "from sklearn.linear_model import LogisticRegression\n",
    "from sklearn.metrics import f1_score, ConfusionMatrixDisplay\n",
    "from sklearn.feature_extraction.text import TfidfVectorizer \n",
    "\n",
    "import lightgbm as lgb\n",
    "\n",
    "from tqdm import notebook\n",
    "\n",
    "import torch\n",
    "\n",
    "from transformers import AutoModel, AutoTokenizer"
   ]
  },
  {
   "cell_type": "code",
   "execution_count": 7,
   "metadata": {},
   "outputs": [],
   "source": [
    "warnings.filterwarnings('ignore')"
   ]
  },
  {
   "cell_type": "code",
   "execution_count": 8,
   "metadata": {},
   "outputs": [],
   "source": [
    "RANDOM_STATE = 42"
   ]
  },
  {
   "cell_type": "code",
   "execution_count": 9,
   "metadata": {},
   "outputs": [
    {
     "name": "stdout",
     "output_type": "stream",
     "text": [
      "True\n"
     ]
    }
   ],
   "source": [
    "print(torch.cuda.is_available())"
   ]
  },
  {
   "cell_type": "markdown",
   "metadata": {},
   "source": [
    "Загрузим данные, выведем информацию и первые строки"
   ]
  },
  {
   "cell_type": "code",
   "execution_count": 10,
   "metadata": {},
   "outputs": [],
   "source": [
    "try:\n",
    "    data = pd.read_csv('/datasets/toxic_comments.csv')\n",
    "except:\n",
    "    data = pd.read_csv('datasets/toxic_comments.csv')"
   ]
  },
  {
   "cell_type": "code",
   "execution_count": 11,
   "metadata": {},
   "outputs": [
    {
     "data": {
      "text/html": [
       "<div>\n",
       "<style scoped>\n",
       "    .dataframe tbody tr th:only-of-type {\n",
       "        vertical-align: middle;\n",
       "    }\n",
       "\n",
       "    .dataframe tbody tr th {\n",
       "        vertical-align: top;\n",
       "    }\n",
       "\n",
       "    .dataframe thead th {\n",
       "        text-align: right;\n",
       "    }\n",
       "</style>\n",
       "<table border=\"1\" class=\"dataframe\">\n",
       "  <thead>\n",
       "    <tr style=\"text-align: right;\">\n",
       "      <th></th>\n",
       "      <th>Unnamed: 0</th>\n",
       "      <th>text</th>\n",
       "      <th>toxic</th>\n",
       "    </tr>\n",
       "  </thead>\n",
       "  <tbody>\n",
       "    <tr>\n",
       "      <th>0</th>\n",
       "      <td>0</td>\n",
       "      <td>Explanation\\nWhy the edits made under my usern...</td>\n",
       "      <td>0</td>\n",
       "    </tr>\n",
       "    <tr>\n",
       "      <th>1</th>\n",
       "      <td>1</td>\n",
       "      <td>D'aww! He matches this background colour I'm s...</td>\n",
       "      <td>0</td>\n",
       "    </tr>\n",
       "    <tr>\n",
       "      <th>2</th>\n",
       "      <td>2</td>\n",
       "      <td>Hey man, I'm really not trying to edit war. It...</td>\n",
       "      <td>0</td>\n",
       "    </tr>\n",
       "    <tr>\n",
       "      <th>3</th>\n",
       "      <td>3</td>\n",
       "      <td>\"\\nMore\\nI can't make any real suggestions on ...</td>\n",
       "      <td>0</td>\n",
       "    </tr>\n",
       "    <tr>\n",
       "      <th>4</th>\n",
       "      <td>4</td>\n",
       "      <td>You, sir, are my hero. Any chance you remember...</td>\n",
       "      <td>0</td>\n",
       "    </tr>\n",
       "  </tbody>\n",
       "</table>\n",
       "</div>"
      ],
      "text/plain": [
       "   Unnamed: 0                                               text  toxic\n",
       "0           0  Explanation\\nWhy the edits made under my usern...      0\n",
       "1           1  D'aww! He matches this background colour I'm s...      0\n",
       "2           2  Hey man, I'm really not trying to edit war. It...      0\n",
       "3           3  \"\\nMore\\nI can't make any real suggestions on ...      0\n",
       "4           4  You, sir, are my hero. Any chance you remember...      0"
      ]
     },
     "metadata": {},
     "output_type": "display_data"
    },
    {
     "name": "stdout",
     "output_type": "stream",
     "text": [
      "<class 'pandas.core.frame.DataFrame'>\n",
      "RangeIndex: 159292 entries, 0 to 159291\n",
      "Data columns (total 3 columns):\n",
      " #   Column      Non-Null Count   Dtype \n",
      "---  ------      --------------   ----- \n",
      " 0   Unnamed: 0  159292 non-null  int64 \n",
      " 1   text        159292 non-null  object\n",
      " 2   toxic       159292 non-null  int64 \n",
      "dtypes: int64(2), object(1)\n",
      "memory usage: 3.6+ MB\n"
     ]
    }
   ],
   "source": [
    "display(data.head(5))\n",
    "data.info()"
   ]
  },
  {
   "cell_type": "markdown",
   "metadata": {},
   "source": [
    "* Столбец \"Unnamed: 0\" копирует индексы, удалим его\n",
    "* Типы данных записаны корректно\n",
    "* Пропуски отсутствуют\n",
    "* Всего имеется 159292 записи"
   ]
  },
  {
   "cell_type": "code",
   "execution_count": 12,
   "metadata": {},
   "outputs": [
    {
     "data": {
      "text/plain": [
       "Index(['text', 'toxic'], dtype='object')"
      ]
     },
     "execution_count": 12,
     "metadata": {},
     "output_type": "execute_result"
    }
   ],
   "source": [
    "data = data.drop(columns='Unnamed: 0')\n",
    "data.columns"
   ]
  },
  {
   "cell_type": "markdown",
   "metadata": {},
   "source": [
    "Проверим наличие явных дубликатов, удалим при необходимости"
   ]
  },
  {
   "cell_type": "code",
   "execution_count": 13,
   "metadata": {},
   "outputs": [
    {
     "data": {
      "text/plain": [
       "0"
      ]
     },
     "execution_count": 13,
     "metadata": {},
     "output_type": "execute_result"
    }
   ],
   "source": [
    "data['text'].duplicated().sum()"
   ]
  },
  {
   "cell_type": "markdown",
   "metadata": {},
   "source": [
    "Рассмотрим распределение целевого признака"
   ]
  },
  {
   "cell_type": "code",
   "execution_count": 14,
   "metadata": {},
   "outputs": [
    {
     "data": {
      "image/png": "[encoded data removed]",
      "text/plain": [
       "<Figure size 600x600 with 1 Axes>"
      ]
     },
     "metadata": {},
     "output_type": "display_data"
    }
   ],
   "source": [
    "plt.figure(figsize=(6, 6))\n",
    "plt.pie(\n",
    "        data['toxic'].value_counts(), \n",
    "        labels=data['toxic'].value_counts().index,     \n",
    "        autopct='%.1f',  \n",
    "        wedgeprops = { 'linewidth' : 3, 'edgecolor' : 'white' }, \n",
    "        labeldistance = 1.1\n",
    ")\n",
    "plt.title('Распределение целевого признака')\n",
    "plt.legend=True\n",
    "plt.show()"
   ]
  },
  {
   "cell_type": "markdown",
   "metadata": {},
   "source": [
    "Присутствует сильный дисбаланс: токсичных комментариев всего 10% из общего числа. Чтобы учесть это, при разбиении данных на подвыборки будем использовать стратификацию для сохранения пропорции, а при обучении моделей будем подбирать веса для признаков чтобы лучше определять малочисленный класс.\n",
    "\n",
    "Далее рассмотрим примеры токсичных комментариев чтобы решить как обрабатывать текст и на что обращать внимание"
   ]
  },
  {
   "cell_type": "code",
   "execution_count": 15,
   "metadata": {},
   "outputs": [
    {
     "data": {
      "text/html": [
       "<div>\n",
       "<style scoped>\n",
       "    .dataframe tbody tr th:only-of-type {\n",
       "        vertical-align: middle;\n",
       "    }\n",
       "\n",
       "    .dataframe tbody tr th {\n",
       "        vertical-align: top;\n",
       "    }\n",
       "\n",
       "    .dataframe thead th {\n",
       "        text-align: right;\n",
       "    }\n",
       "</style>\n",
       "<table border=\"1\" class=\"dataframe\">\n",
       "  <thead>\n",
       "    <tr style=\"text-align: right;\">\n",
       "      <th></th>\n",
       "      <th>text</th>\n",
       "      <th>toxic</th>\n",
       "    </tr>\n",
       "  </thead>\n",
       "  <tbody>\n",
       "    <tr>\n",
       "      <th>61758</th>\n",
       "      <td>Please keep your whining off my talk page, KTH...</td>\n",
       "      <td>1</td>\n",
       "    </tr>\n",
       "    <tr>\n",
       "      <th>79993</th>\n",
       "      <td>Vandalism Accusation\\nMy edit to Montel Vontav...</td>\n",
       "      <td>1</td>\n",
       "    </tr>\n",
       "    <tr>\n",
       "      <th>59408</th>\n",
       "      <td>So you are another vile little Englishman like...</td>\n",
       "      <td>1</td>\n",
       "    </tr>\n",
       "    <tr>\n",
       "      <th>107348</th>\n",
       "      <td>\"\\n\\n Blocking Mardyks \\n\\nExcellent work ther...</td>\n",
       "      <td>1</td>\n",
       "    </tr>\n",
       "    <tr>\n",
       "      <th>66475</th>\n",
       "      <td>\"Vandalism==\\nI'm damn sick and tired of idiot...</td>\n",
       "      <td>1</td>\n",
       "    </tr>\n",
       "    <tr>\n",
       "      <th>157532</th>\n",
       "      <td>How big is your pee pee.</td>\n",
       "      <td>1</td>\n",
       "    </tr>\n",
       "    <tr>\n",
       "      <th>95912</th>\n",
       "      <td>=when=\\nWhen the fuck im i unblocked you dick ...</td>\n",
       "      <td>1</td>\n",
       "    </tr>\n",
       "    <tr>\n",
       "      <th>147401</th>\n",
       "      <td>Have theguts \\n\\nHave the guts and improve the...</td>\n",
       "      <td>1</td>\n",
       "    </tr>\n",
       "    <tr>\n",
       "      <th>148330</th>\n",
       "      <td>This article is already bad enough, dont make ...</td>\n",
       "      <td>1</td>\n",
       "    </tr>\n",
       "    <tr>\n",
       "      <th>42784</th>\n",
       "      <td>Malta is an Arab! \\n\\nStop lying!</td>\n",
       "      <td>1</td>\n",
       "    </tr>\n",
       "  </tbody>\n",
       "</table>\n",
       "</div>"
      ],
      "text/plain": [
       "                                                     text  toxic\n",
       "61758   Please keep your whining off my talk page, KTH...      1\n",
       "79993   Vandalism Accusation\\nMy edit to Montel Vontav...      1\n",
       "59408   So you are another vile little Englishman like...      1\n",
       "107348  \"\\n\\n Blocking Mardyks \\n\\nExcellent work ther...      1\n",
       "66475   \"Vandalism==\\nI'm damn sick and tired of idiot...      1\n",
       "157532                           How big is your pee pee.      1\n",
       "95912   =when=\\nWhen the fuck im i unblocked you dick ...      1\n",
       "147401  Have theguts \\n\\nHave the guts and improve the...      1\n",
       "148330  This article is already bad enough, dont make ...      1\n",
       "42784                   Malta is an Arab! \\n\\nStop lying!      1"
      ]
     },
     "metadata": {},
     "output_type": "display_data"
    }
   ],
   "source": [
    "display(data.query('toxic == 1').sample(10))"
   ]
  },
  {
   "cell_type": "markdown",
   "metadata": {},
   "source": [
    "В основном в эту категорию попадают комментарии с оскорблениями и нецензурными словами. В первую очеред стоит искать именно их. Причем слова часто написаны с ошибками, а значит лемматизация сработает плохо. Чтобы очистить текст от ненужных символов оставим только латинские буквы и символ ', а получившиеся слова разделим пробелами и оставим как есть."
   ]
  },
  {
   "cell_type": "code",
   "execution_count": 16,
   "metadata": {},
   "outputs": [],
   "source": [
    "def clear_text(text):\n",
    "    t = re.sub(r\"[^a-zA-Z']\", ' ', text) \n",
    "    return ' '.join(t.split())"
   ]
  },
  {
   "cell_type": "code",
   "execution_count": 17,
   "metadata": {
    "scrolled": true
   },
   "outputs": [],
   "source": [
    "for i in list(data.index):\n",
    "    data.at[i, 'text'] = clear_text(data['text'][i])"
   ]
  },
  {
   "cell_type": "markdown",
   "metadata": {},
   "source": [
    "## Обучение"
   ]
  },
  {
   "cell_type": "markdown",
   "metadata": {},
   "source": [
    "### Обучение с помощью Tf-Idf"
   ]
  },
  {
   "cell_type": "markdown",
   "metadata": {},
   "source": [
    "Разделим данные на обучающую и тестовую выборку с исползованием стратификации.\n",
    "\n",
    "Векторизируем фразы с использованием 4-граммов внутри слов, чтобы выделить основную часть бранных слов, даже если они были сложносоставные или написаны с ошибками. Также уберем 4-граммы, встречающиеся больше чем в 10% строк, поскольку они точно не принадлежат только к токсичным фразам. Также уберем очень редко встречающиеся части слов чтоб не создавать шум в данных."
   ]
  },
  {
   "cell_type": "code",
   "execution_count": 18,
   "metadata": {},
   "outputs": [
    {
     "data": {
      "text/plain": [
       "(119469,)"
      ]
     },
     "metadata": {},
     "output_type": "display_data"
    },
    {
     "data": {
      "text/plain": [
       "(39823,)"
      ]
     },
     "metadata": {},
     "output_type": "display_data"
    },
    {
     "data": {
      "text/plain": [
       "(119469,)"
      ]
     },
     "metadata": {},
     "output_type": "display_data"
    },
    {
     "data": {
      "text/plain": [
       "(39823,)"
      ]
     },
     "metadata": {},
     "output_type": "display_data"
    }
   ],
   "source": [
    "X = data['text']\n",
    "y = data['toxic']\n",
    "X_train, X_test, y_train, y_test = train_test_split(\n",
    "    X, y, \n",
    "    test_size=0.25, \n",
    "    random_state=RANDOM_STATE, \n",
    "    stratify=data['toxic']\n",
    ")\n",
    "display(X_train.shape, X_test.shape, y_train.shape, y_test.shape)"
   ]
  },
  {
   "cell_type": "code",
   "execution_count": 19,
   "metadata": {},
   "outputs": [],
   "source": [
    "corpus_train = X_train.values.astype('U')\n",
    "corpus_test = X_test.values.astype('U')"
   ]
  },
  {
   "cell_type": "code",
   "execution_count": 20,
   "metadata": {},
   "outputs": [],
   "source": [
    "tf_idf = TfidfVectorizer(analyzer = 'char_wb', \n",
    "                         strip_accents = 'ascii',\n",
    "                         ngram_range=(4, 4), \n",
    "                         max_df=0.1, \n",
    "                         min_df=50\n",
    "                        ) "
   ]
  },
  {
   "cell_type": "code",
   "execution_count": 21,
   "metadata": {},
   "outputs": [
    {
     "data": {
      "text/plain": [
       "<119469x14493 sparse matrix of type '<class 'numpy.float64'>'\n",
       "\twith 12987454 stored elements in Compressed Sparse Row format>"
      ]
     },
     "execution_count": 21,
     "metadata": {},
     "output_type": "execute_result"
    }
   ],
   "source": [
    "tf_idf_train = tf_idf.fit_transform(corpus_train)\n",
    "tf_idf_test = tf_idf.transform(corpus_test)\n",
    "tf_idf_train"
   ]
  },
  {
   "cell_type": "markdown",
   "metadata": {},
   "source": [
    "Подберем гиперпараметры для моделей логистической регрессии и LightGBM, в том числе веса классов"
   ]
  },
  {
   "cell_type": "code",
   "execution_count": 22,
   "metadata": {},
   "outputs": [],
   "source": [
    "def rs (estimator, params, X, y, niter=20):\n",
    "    rand_search = RandomizedSearchCV(\n",
    "        estimator, \n",
    "        params, \n",
    "        scoring='f1',\n",
    "        n_jobs=-1, \n",
    "        n_iter=niter, \n",
    "        random_state=RANDOM_STATE, \n",
    "        cv=3\n",
    "    )\n",
    "    rand_search.fit(X, y)\n",
    "    print('Лучшая модель и её параметры:', rand_search.best_estimator_)\n",
    "    print (\n",
    "        'Метрика лучшей модели на кросс-валидации:', \n",
    "        rand_search.best_score_.round(3)\n",
    "    )\n",
    "    return rand_search"
   ]
  },
  {
   "cell_type": "code",
   "execution_count": 23,
   "metadata": {},
   "outputs": [],
   "source": [
    "class_weights = ({0:1, 1:1.5}, {0:1, 1:2}, {0:1, 1:2.5})"
   ]
  },
  {
   "cell_type": "code",
   "execution_count": 24,
   "metadata": {},
   "outputs": [],
   "source": [
    "logreg = LogisticRegression(random_state=RANDOM_STATE)"
   ]
  },
  {
   "cell_type": "code",
   "execution_count": 25,
   "metadata": {},
   "outputs": [],
   "source": [
    "parameters_logreg = {'C': np.arange(0.1, 8, 0.05), \n",
    "             'class_weight': class_weights\n",
    "             }"
   ]
  },
  {
   "cell_type": "code",
   "execution_count": 26,
   "metadata": {},
   "outputs": [
    {
     "name": "stdout",
     "output_type": "stream",
     "text": [
      "Лучшая модель и её параметры: LogisticRegression(C=5.200000000000001, class_weight={0: 1, 1: 2},\n",
      "                   random_state=42)\n",
      "Метрика лучшей модели на кросс-валидации: 0.794\n"
     ]
    }
   ],
   "source": [
    "logreg_tfidf = rs(logreg, parameters_logreg, tf_idf_train, y_train)"
   ]
  },
  {
   "cell_type": "code",
   "execution_count": 27,
   "metadata": {},
   "outputs": [],
   "source": [
    "lgbc = lgb.LGBMClassifier(\n",
    "        random_state=RANDOM_STATE, \n",
    "        verbosity=-1, \n",
    "        learning_rate=0.3,\n",
    "        extra_trees=True,\n",
    "        n_jobs=-1,\n",
    "        n_iter=120\n",
    "    )"
   ]
  },
  {
   "cell_type": "code",
   "execution_count": 28,
   "metadata": {},
   "outputs": [],
   "source": [
    "parameters_lgb = {'num_leaves': range(70, 100, 10), \n",
    "                  'class_weight': class_weights}"
   ]
  },
  {
   "cell_type": "code",
   "execution_count": 29,
   "metadata": {},
   "outputs": [
    {
     "name": "stdout",
     "output_type": "stream",
     "text": [
      "Лучшая модель и её параметры: LGBMClassifier(class_weight={0: 1, 1: 2.5}, extra_trees=True, learning_rate=0.3,\n",
      "               n_iter=120, n_jobs=-1, num_leaves=80, random_state=42,\n",
      "               verbosity=-1)\n",
      "Метрика лучшей модели на кросс-валидации: 0.796\n"
     ]
    }
   ],
   "source": [
    "lgbc_tfidf = rs(lgbc, parameters_lgb, tf_idf_train, y_train, niter=5)"
   ]
  },
  {
   "cell_type": "markdown",
   "metadata": {},
   "source": [
    "Бустинг показал себя лучше, для экономии памяти удалим логистическую регрессию"
   ]
  },
  {
   "cell_type": "code",
   "execution_count": 30,
   "metadata": {},
   "outputs": [],
   "source": [
    "del logreg_tfidf"
   ]
  },
  {
   "cell_type": "markdown",
   "metadata": {},
   "source": [
    "### Обучение с помощью BERT"
   ]
  },
  {
   "cell_type": "markdown",
   "metadata": {},
   "source": [
    "Поскольку стоит задача поиска токсичных комментарие, будем использовать специализированную для этого предобученную модель 'unitary/toxic-bert'.\n",
    "\n",
    "Поскольку доступна технология cuda, будем создавать эмбеддинги с использованием видеокарты для ускорения процесса.\n",
    "\n",
    "Будем сиитать эмбеддинги для небольшой выборки для ускорения процесса. Чтобы не тратить слишком много ресурсов, будем делить данные на батчи по 80 строк. Переведем модель и тензоры на gpu, а эмбеддинги переместим обратно на cpu чтобы добавить в список"
   ]
  },
  {
   "cell_type": "code",
   "execution_count": 31,
   "metadata": {},
   "outputs": [
    {
     "data": {
      "text/plain": [
       "(15929, 2)"
      ]
     },
     "metadata": {},
     "output_type": "display_data"
    },
    {
     "data": {
      "text/plain": [
       "(143363, 2)"
      ]
     },
     "metadata": {},
     "output_type": "display_data"
    }
   ],
   "source": [
    "data_bert, data_other = train_test_split(\n",
    "    data, \n",
    "    test_size=0.9, \n",
    "    random_state=RANDOM_STATE, \n",
    "    stratify=data['toxic']\n",
    ")\n",
    "display(data_bert.shape, data_other.shape)"
   ]
  },
  {
   "cell_type": "code",
   "execution_count": 32,
   "metadata": {},
   "outputs": [],
   "source": [
    "del data_other"
   ]
  },
  {
   "cell_type": "code",
   "execution_count": 33,
   "metadata": {},
   "outputs": [],
   "source": [
    "model_class, tokenizer_class, pretrained_weights = (AutoModel, AutoTokenizer, 'unitary/toxic-bert')"
   ]
  },
  {
   "cell_type": "code",
   "execution_count": 34,
   "metadata": {},
   "outputs": [],
   "source": [
    "tokenizer = tokenizer_class.from_pretrained(pretrained_weights)\n",
    "model = model_class.from_pretrained(pretrained_weights)"
   ]
  },
  {
   "cell_type": "code",
   "execution_count": 35,
   "metadata": {},
   "outputs": [],
   "source": [
    "tokenized = data_bert['text'].apply((lambda x: tokenizer.encode(x, add_special_tokens=True, truncation=True, max_length=512)))"
   ]
  },
  {
   "cell_type": "code",
   "execution_count": 36,
   "metadata": {},
   "outputs": [],
   "source": [
    "max_len = 0\n",
    "for i in tokenized.values:\n",
    "    if len(i) > max_len:\n",
    "        max_len = len(i)\n",
    "\n",
    "padded = np.array([i + [0]*(max_len-len(i)) for i in tokenized.values])"
   ]
  },
  {
   "cell_type": "code",
   "execution_count": 37,
   "metadata": {},
   "outputs": [],
   "source": [
    "attention_mask = np.where(padded != 0, 1, 0)"
   ]
  },
  {
   "cell_type": "code",
   "execution_count": 38,
   "metadata": {},
   "outputs": [
    {
     "data": {
      "application/vnd.jupyter.widget-view+json": {
       "model_id": "3baccfa29bc14a8eb728aa9f98591f30",
       "version_major": 2,
       "version_minor": 0
      },
      "text/plain": [
       "  0%|          | 0/199 [00:00<?, ?it/s]"
      ]
     },
     "metadata": {},
     "output_type": "display_data"
    },
    {
     "name": "stdout",
     "output_type": "stream",
     "text": [
      "CPU times: total: 18min 15s\n",
      "Wall time: 18min 25s\n"
     ]
    }
   ],
   "source": [
    "%%time\n",
    "batch_size = 80 \n",
    "embeddings = []\n",
    "model.cuda()  \n",
    "for i in notebook.tqdm(range(padded.shape[0] // batch_size)):\n",
    "        batch = torch.IntTensor(padded[batch_size*i:batch_size*(i+1)]).cuda()\n",
    "        attention_mask_batch = torch.IntTensor(attention_mask[batch_size*i:batch_size*(i+1)]).cuda()\n",
    "\n",
    "        with torch.no_grad():\n",
    "            batch_embeddings = model(batch, attention_mask=attention_mask_batch)\n",
    "\n",
    "        embeddings.append(batch_embeddings[0][:,0,:].cpu().numpy()) \n",
    "        del batch\n",
    "        del attention_mask_batch\n",
    "        del batch_embeddings\n",
    "\n",
    "features = np.concatenate(embeddings)"
   ]
  },
  {
   "cell_type": "markdown",
   "metadata": {},
   "source": [
    "Возьмем целевые признаки для всех получившихся эмбеддингов, разделим выборку и обучим модели"
   ]
  },
  {
   "cell_type": "code",
   "execution_count": 39,
   "metadata": {},
   "outputs": [
    {
     "data": {
      "text/plain": [
       "(15920, 768)"
      ]
     },
     "execution_count": 39,
     "metadata": {},
     "output_type": "execute_result"
    }
   ],
   "source": [
    "features.shape"
   ]
  },
  {
   "cell_type": "code",
   "execution_count": 40,
   "metadata": {},
   "outputs": [
    {
     "data": {
      "text/plain": [
       "(15920,)"
      ]
     },
     "execution_count": 40,
     "metadata": {},
     "output_type": "execute_result"
    }
   ],
   "source": [
    "target = data_bert['toxic'].head(features.shape[0])\n",
    "target.shape"
   ]
  },
  {
   "cell_type": "code",
   "execution_count": 41,
   "metadata": {},
   "outputs": [
    {
     "data": {
      "text/plain": [
       "(7960, 768)"
      ]
     },
     "metadata": {},
     "output_type": "display_data"
    },
    {
     "data": {
      "text/plain": [
       "(7960, 768)"
      ]
     },
     "metadata": {},
     "output_type": "display_data"
    },
    {
     "data": {
      "text/plain": [
       "(7960,)"
      ]
     },
     "metadata": {},
     "output_type": "display_data"
    },
    {
     "data": {
      "text/plain": [
       "(7960,)"
      ]
     },
     "metadata": {},
     "output_type": "display_data"
    }
   ],
   "source": [
    "X_train_bert, X_test_bert, y_train_bert, y_test_bert = train_test_split(\n",
    "    features, target, \n",
    "    test_size=0.5, \n",
    "    random_state=RANDOM_STATE, \n",
    "    stratify=target\n",
    ")\n",
    "display(X_train_bert.shape, X_test_bert.shape, y_train_bert.shape, y_test_bert.shape)"
   ]
  },
  {
   "cell_type": "code",
   "execution_count": 42,
   "metadata": {},
   "outputs": [
    {
     "name": "stdout",
     "output_type": "stream",
     "text": [
      "Лучшая модель и её параметры: LogisticRegression(C=0.25000000000000006, class_weight={0: 1, 1: 1.5},\n",
      "                   random_state=42)\n",
      "Метрика лучшей модели на кросс-валидации: 0.918\n"
     ]
    }
   ],
   "source": [
    "logreg_bert = rs(logreg, parameters_logreg, X_train_bert, y_train_bert)"
   ]
  },
  {
   "cell_type": "markdown",
   "metadata": {},
   "source": [
    "Логистическая регрессия на эмбеддингах показала себя ещё лучше, можно удалить прошлую модель"
   ]
  },
  {
   "cell_type": "code",
   "execution_count": 43,
   "metadata": {},
   "outputs": [],
   "source": [
    "del lgbc_tfidf"
   ]
  },
  {
   "cell_type": "code",
   "execution_count": 44,
   "metadata": {},
   "outputs": [
    {
     "name": "stdout",
     "output_type": "stream",
     "text": [
      "Лучшая модель и её параметры: LGBMClassifier(class_weight={0: 1, 1: 2}, extra_trees=True, learning_rate=0.3,\n",
      "               n_iter=120, n_jobs=-1, num_leaves=90, random_state=42,\n",
      "               verbosity=-1)\n",
      "Метрика лучшей модели на кросс-валидации: 0.92\n"
     ]
    }
   ],
   "source": [
    "lgbc_bert = rs(lgbc, parameters_lgb, X_train_bert, y_train_bert, niter=5)"
   ]
  },
  {
   "cell_type": "code",
   "execution_count": 45,
   "metadata": {},
   "outputs": [],
   "source": [
    "del logreg_bert"
   ]
  },
  {
   "cell_type": "markdown",
   "metadata": {},
   "source": [
    "Лучше всего на кросс-валидации себя показала модель LightGBM на эмбеддингах, можно подобрать для неё порог. Для этого выделим из тренировочной выборки валидационную и с её помощью подберем порог для обученной на оставшейся тестовой выборке модели"
   ]
  },
  {
   "cell_type": "code",
   "execution_count": 46,
   "metadata": {},
   "outputs": [
    {
     "data": {
      "text/plain": [
       "(3980, 768)"
      ]
     },
     "metadata": {},
     "output_type": "display_data"
    },
    {
     "data": {
      "text/plain": [
       "(3980, 768)"
      ]
     },
     "metadata": {},
     "output_type": "display_data"
    },
    {
     "data": {
      "text/plain": [
       "(3980,)"
      ]
     },
     "metadata": {},
     "output_type": "display_data"
    },
    {
     "data": {
      "text/plain": [
       "(3980,)"
      ]
     },
     "metadata": {},
     "output_type": "display_data"
    }
   ],
   "source": [
    "X_train, X_val, y_train, y_val = train_test_split(\n",
    "    X_train_bert, y_train_bert, \n",
    "    test_size=0.5, \n",
    "    random_state=RANDOM_STATE, \n",
    "    stratify=y_train_bert\n",
    ")\n",
    "display(X_train.shape, X_val.shape, y_train.shape, y_val.shape)"
   ]
  },
  {
   "cell_type": "code",
   "execution_count": 47,
   "metadata": {},
   "outputs": [
    {
     "data": {
      "text/html": [
       "<style>#sk-container-id-1 {\n",
       "  /* Definition of color scheme common for light and dark mode */\n",
       "  --sklearn-color-text: #000;\n",
       "  --sklearn-color-text-muted: #666;\n",
       "  --sklearn-color-line: gray;\n",
       "  /* Definition of color scheme for unfitted estimators */\n",
       "  --sklearn-color-unfitted-level-0: #fff5e6;\n",
       "  --sklearn-color-unfitted-level-1: #f6e4d2;\n",
       "  --sklearn-color-unfitted-level-2: #ffe0b3;\n",
       "  --sklearn-color-unfitted-level-3: chocolate;\n",
       "  /* Definition of color scheme for fitted estimators */\n",
       "  --sklearn-color-fitted-level-0: #f0f8ff;\n",
       "  --sklearn-color-fitted-level-1: #d4ebff;\n",
       "  --sklearn-color-fitted-level-2: #b3dbfd;\n",
       "  --sklearn-color-fitted-level-3: cornflowerblue;\n",
       "\n",
       "  /* Specific color for light theme */\n",
       "  --sklearn-color-text-on-default-background: var(--sg-text-color, var(--theme-code-foreground, var(--jp-content-font-color1, black)));\n",
       "  --sklearn-color-background: var(--sg-background-color, var(--theme-background, var(--jp-layout-color0, white)));\n",
       "  --sklearn-color-border-box: var(--sg-text-color, var(--theme-code-foreground, var(--jp-content-font-color1, black)));\n",
       "  --sklearn-color-icon: #696969;\n",
       "\n",
       "  @media (prefers-color-scheme: dark) {\n",
       "    /* Redefinition of color scheme for dark theme */\n",
       "    --sklearn-color-text-on-default-background: var(--sg-text-color, var(--theme-code-foreground, var(--jp-content-font-color1, white)));\n",
       "    --sklearn-color-background: var(--sg-background-color, var(--theme-background, var(--jp-layout-color0, #111)));\n",
       "    --sklearn-color-border-box: var(--sg-text-color, var(--theme-code-foreground, var(--jp-content-font-color1, white)));\n",
       "    --sklearn-color-icon: #878787;\n",
       "  }\n",
       "}\n",
       "\n",
       "#sk-container-id-1 {\n",
       "  color: var(--sklearn-color-text);\n",
       "}\n",
       "\n",
       "#sk-container-id-1 pre {\n",
       "  padding: 0;\n",
       "}\n",
       "\n",
       "#sk-container-id-1 input.sk-hidden--visually {\n",
       "  border: 0;\n",
       "  clip: rect(1px 1px 1px 1px);\n",
       "  clip: rect(1px, 1px, 1px, 1px);\n",
       "  height: 1px;\n",
       "  margin: -1px;\n",
       "  overflow: hidden;\n",
       "  padding: 0;\n",
       "  position: absolute;\n",
       "  width: 1px;\n",
       "}\n",
       "\n",
       "#sk-container-id-1 div.sk-dashed-wrapped {\n",
       "  border: 1px dashed var(--sklearn-color-line);\n",
       "  margin: 0 0.4em 0.5em 0.4em;\n",
       "  box-sizing: border-box;\n",
       "  padding-bottom: 0.4em;\n",
       "  background-color: var(--sklearn-color-background);\n",
       "}\n",
       "\n",
       "#sk-container-id-1 div.sk-container {\n",
       "  /* jupyter's `normalize.less` sets `[hidden] { display: none; }`\n",
       "     but bootstrap.min.css set `[hidden] { display: none !important; }`\n",
       "     so we also need the `!important` here to be able to override the\n",
       "     default hidden behavior on the sphinx rendered scikit-learn.org.\n",
       "     See: https://github.com/scikit-learn/scikit-learn/issues/21755 */\n",
       "  display: inline-block !important;\n",
       "  position: relative;\n",
       "}\n",
       "\n",
       "#sk-container-id-1 div.sk-text-repr-fallback {\n",
       "  display: none;\n",
       "}\n",
       "\n",
       "div.sk-parallel-item,\n",
       "div.sk-serial,\n",
       "div.sk-item {\n",
       "  /* draw centered vertical line to link estimators */\n",
       "  background-image: linear-gradient(var(--sklearn-color-text-on-default-background), var(--sklearn-color-text-on-default-background));\n",
       "  background-size: 2px 100%;\n",
       "  background-repeat: no-repeat;\n",
       "  background-position: center center;\n",
       "}\n",
       "\n",
       "/* Parallel-specific style estimator block */\n",
       "\n",
       "#sk-container-id-1 div.sk-parallel-item::after {\n",
       "  content: \"\";\n",
       "  width: 100%;\n",
       "  border-bottom: 2px solid var(--sklearn-color-text-on-default-background);\n",
       "  flex-grow: 1;\n",
       "}\n",
       "\n",
       "#sk-container-id-1 div.sk-parallel {\n",
       "  display: flex;\n",
       "  align-items: stretch;\n",
       "  justify-content: center;\n",
       "  background-color: var(--sklearn-color-background);\n",
       "  position: relative;\n",
       "}\n",
       "\n",
       "#sk-container-id-1 div.sk-parallel-item {\n",
       "  display: flex;\n",
       "  flex-direction: column;\n",
       "}\n",
       "\n",
       "#sk-container-id-1 div.sk-parallel-item:first-child::after {\n",
       "  align-self: flex-end;\n",
       "  width: 50%;\n",
       "}\n",
       "\n",
       "#sk-container-id-1 div.sk-parallel-item:last-child::after {\n",
       "  align-self: flex-start;\n",
       "  width: 50%;\n",
       "}\n",
       "\n",
       "#sk-container-id-1 div.sk-parallel-item:only-child::after {\n",
       "  width: 0;\n",
       "}\n",
       "\n",
       "/* Serial-specific style estimator block */\n",
       "\n",
       "#sk-container-id-1 div.sk-serial {\n",
       "  display: flex;\n",
       "  flex-direction: column;\n",
       "  align-items: center;\n",
       "  background-color: var(--sklearn-color-background);\n",
       "  padding-right: 1em;\n",
       "  padding-left: 1em;\n",
       "}\n",
       "\n",
       "\n",
       "/* Toggleable style: style used for estimator/Pipeline/ColumnTransformer box that is\n",
       "clickable and can be expanded/collapsed.\n",
       "- Pipeline and ColumnTransformer use this feature and define the default style\n",
       "- Estimators will overwrite some part of the style using the `sk-estimator` class\n",
       "*/\n",
       "\n",
       "/* Pipeline and ColumnTransformer style (default) */\n",
       "\n",
       "#sk-container-id-1 div.sk-toggleable {\n",
       "  /* Default theme specific background. It is overwritten whether we have a\n",
       "  specific estimator or a Pipeline/ColumnTransformer */\n",
       "  background-color: var(--sklearn-color-background);\n",
       "}\n",
       "\n",
       "/* Toggleable label */\n",
       "#sk-container-id-1 label.sk-toggleable__label {\n",
       "  cursor: pointer;\n",
       "  display: flex;\n",
       "  width: 100%;\n",
       "  margin-bottom: 0;\n",
       "  padding: 0.5em;\n",
       "  box-sizing: border-box;\n",
       "  text-align: center;\n",
       "  align-items: start;\n",
       "  justify-content: space-between;\n",
       "  gap: 0.5em;\n",
       "}\n",
       "\n",
       "#sk-container-id-1 label.sk-toggleable__label .caption {\n",
       "  font-size: 0.6rem;\n",
       "  font-weight: lighter;\n",
       "  color: var(--sklearn-color-text-muted);\n",
       "}\n",
       "\n",
       "#sk-container-id-1 label.sk-toggleable__label-arrow:before {\n",
       "  /* Arrow on the left of the label */\n",
       "  content: \"▸\";\n",
       "  float: left;\n",
       "  margin-right: 0.25em;\n",
       "  color: var(--sklearn-color-icon);\n",
       "}\n",
       "\n",
       "#sk-container-id-1 label.sk-toggleable__label-arrow:hover:before {\n",
       "  color: var(--sklearn-color-text);\n",
       "}\n",
       "\n",
       "/* Toggleable content - dropdown */\n",
       "\n",
       "#sk-container-id-1 div.sk-toggleable__content {\n",
       "  max-height: 0;\n",
       "  max-width: 0;\n",
       "  overflow: hidden;\n",
       "  text-align: left;\n",
       "  /* unfitted */\n",
       "  background-color: var(--sklearn-color-unfitted-level-0);\n",
       "}\n",
       "\n",
       "#sk-container-id-1 div.sk-toggleable__content.fitted {\n",
       "  /* fitted */\n",
       "  background-color: var(--sklearn-color-fitted-level-0);\n",
       "}\n",
       "\n",
       "#sk-container-id-1 div.sk-toggleable__content pre {\n",
       "  margin: 0.2em;\n",
       "  border-radius: 0.25em;\n",
       "  color: var(--sklearn-color-text);\n",
       "  /* unfitted */\n",
       "  background-color: var(--sklearn-color-unfitted-level-0);\n",
       "}\n",
       "\n",
       "#sk-container-id-1 div.sk-toggleable__content.fitted pre {\n",
       "  /* unfitted */\n",
       "  background-color: var(--sklearn-color-fitted-level-0);\n",
       "}\n",
       "\n",
       "#sk-container-id-1 input.sk-toggleable__control:checked~div.sk-toggleable__content {\n",
       "  /* Expand drop-down */\n",
       "  max-height: 200px;\n",
       "  max-width: 100%;\n",
       "  overflow: auto;\n",
       "}\n",
       "\n",
       "#sk-container-id-1 input.sk-toggleable__control:checked~label.sk-toggleable__label-arrow:before {\n",
       "  content: \"▾\";\n",
       "}\n",
       "\n",
       "/* Pipeline/ColumnTransformer-specific style */\n",
       "\n",
       "#sk-container-id-1 div.sk-label input.sk-toggleable__control:checked~label.sk-toggleable__label {\n",
       "  color: var(--sklearn-color-text);\n",
       "  background-color: var(--sklearn-color-unfitted-level-2);\n",
       "}\n",
       "\n",
       "#sk-container-id-1 div.sk-label.fitted input.sk-toggleable__control:checked~label.sk-toggleable__label {\n",
       "  background-color: var(--sklearn-color-fitted-level-2);\n",
       "}\n",
       "\n",
       "/* Estimator-specific style */\n",
       "\n",
       "/* Colorize estimator box */\n",
       "#sk-container-id-1 div.sk-estimator input.sk-toggleable__control:checked~label.sk-toggleable__label {\n",
       "  /* unfitted */\n",
       "  background-color: var(--sklearn-color-unfitted-level-2);\n",
       "}\n",
       "\n",
       "#sk-container-id-1 div.sk-estimator.fitted input.sk-toggleable__control:checked~label.sk-toggleable__label {\n",
       "  /* fitted */\n",
       "  background-color: var(--sklearn-color-fitted-level-2);\n",
       "}\n",
       "\n",
       "#sk-container-id-1 div.sk-label label.sk-toggleable__label,\n",
       "#sk-container-id-1 div.sk-label label {\n",
       "  /* The background is the default theme color */\n",
       "  color: var(--sklearn-color-text-on-default-background);\n",
       "}\n",
       "\n",
       "/* On hover, darken the color of the background */\n",
       "#sk-container-id-1 div.sk-label:hover label.sk-toggleable__label {\n",
       "  color: var(--sklearn-color-text);\n",
       "  background-color: var(--sklearn-color-unfitted-level-2);\n",
       "}\n",
       "\n",
       "/* Label box, darken color on hover, fitted */\n",
       "#sk-container-id-1 div.sk-label.fitted:hover label.sk-toggleable__label.fitted {\n",
       "  color: var(--sklearn-color-text);\n",
       "  background-color: var(--sklearn-color-fitted-level-2);\n",
       "}\n",
       "\n",
       "/* Estimator label */\n",
       "\n",
       "#sk-container-id-1 div.sk-label label {\n",
       "  font-family: monospace;\n",
       "  font-weight: bold;\n",
       "  display: inline-block;\n",
       "  line-height: 1.2em;\n",
       "}\n",
       "\n",
       "#sk-container-id-1 div.sk-label-container {\n",
       "  text-align: center;\n",
       "}\n",
       "\n",
       "/* Estimator-specific */\n",
       "#sk-container-id-1 div.sk-estimator {\n",
       "  font-family: monospace;\n",
       "  border: 1px dotted var(--sklearn-color-border-box);\n",
       "  border-radius: 0.25em;\n",
       "  box-sizing: border-box;\n",
       "  margin-bottom: 0.5em;\n",
       "  /* unfitted */\n",
       "  background-color: var(--sklearn-color-unfitted-level-0);\n",
       "}\n",
       "\n",
       "#sk-container-id-1 div.sk-estimator.fitted {\n",
       "  /* fitted */\n",
       "  background-color: var(--sklearn-color-fitted-level-0);\n",
       "}\n",
       "\n",
       "/* on hover */\n",
       "#sk-container-id-1 div.sk-estimator:hover {\n",
       "  /* unfitted */\n",
       "  background-color: var(--sklearn-color-unfitted-level-2);\n",
       "}\n",
       "\n",
       "#sk-container-id-1 div.sk-estimator.fitted:hover {\n",
       "  /* fitted */\n",
       "  background-color: var(--sklearn-color-fitted-level-2);\n",
       "}\n",
       "\n",
       "/* Specification for estimator info (e.g. \"i\" and \"?\") */\n",
       "\n",
       "/* Common style for \"i\" and \"?\" */\n",
       "\n",
       ".sk-estimator-doc-link,\n",
       "a:link.sk-estimator-doc-link,\n",
       "a:visited.sk-estimator-doc-link {\n",
       "  float: right;\n",
       "  font-size: smaller;\n",
       "  line-height: 1em;\n",
       "  font-family: monospace;\n",
       "  background-color: var(--sklearn-color-background);\n",
       "  border-radius: 1em;\n",
       "  height: 1em;\n",
       "  width: 1em;\n",
       "  text-decoration: none !important;\n",
       "  margin-left: 0.5em;\n",
       "  text-align: center;\n",
       "  /* unfitted */\n",
       "  border: var(--sklearn-color-unfitted-level-1) 1pt solid;\n",
       "  color: var(--sklearn-color-unfitted-level-1);\n",
       "}\n",
       "\n",
       ".sk-estimator-doc-link.fitted,\n",
       "a:link.sk-estimator-doc-link.fitted,\n",
       "a:visited.sk-estimator-doc-link.fitted {\n",
       "  /* fitted */\n",
       "  border: var(--sklearn-color-fitted-level-1) 1pt solid;\n",
       "  color: var(--sklearn-color-fitted-level-1);\n",
       "}\n",
       "\n",
       "/* On hover */\n",
       "div.sk-estimator:hover .sk-estimator-doc-link:hover,\n",
       ".sk-estimator-doc-link:hover,\n",
       "div.sk-label-container:hover .sk-estimator-doc-link:hover,\n",
       ".sk-estimator-doc-link:hover {\n",
       "  /* unfitted */\n",
       "  background-color: var(--sklearn-color-unfitted-level-3);\n",
       "  color: var(--sklearn-color-background);\n",
       "  text-decoration: none;\n",
       "}\n",
       "\n",
       "div.sk-estimator.fitted:hover .sk-estimator-doc-link.fitted:hover,\n",
       ".sk-estimator-doc-link.fitted:hover,\n",
       "div.sk-label-container:hover .sk-estimator-doc-link.fitted:hover,\n",
       ".sk-estimator-doc-link.fitted:hover {\n",
       "  /* fitted */\n",
       "  background-color: var(--sklearn-color-fitted-level-3);\n",
       "  color: var(--sklearn-color-background);\n",
       "  text-decoration: none;\n",
       "}\n",
       "\n",
       "/* Span, style for the box shown on hovering the info icon */\n",
       ".sk-estimator-doc-link span {\n",
       "  display: none;\n",
       "  z-index: 9999;\n",
       "  position: relative;\n",
       "  font-weight: normal;\n",
       "  right: .2ex;\n",
       "  padding: .5ex;\n",
       "  margin: .5ex;\n",
       "  width: min-content;\n",
       "  min-width: 20ex;\n",
       "  max-width: 50ex;\n",
       "  color: var(--sklearn-color-text);\n",
       "  box-shadow: 2pt 2pt 4pt #999;\n",
       "  /* unfitted */\n",
       "  background: var(--sklearn-color-unfitted-level-0);\n",
       "  border: .5pt solid var(--sklearn-color-unfitted-level-3);\n",
       "}\n",
       "\n",
       ".sk-estimator-doc-link.fitted span {\n",
       "  /* fitted */\n",
       "  background: var(--sklearn-color-fitted-level-0);\n",
       "  border: var(--sklearn-color-fitted-level-3);\n",
       "}\n",
       "\n",
       ".sk-estimator-doc-link:hover span {\n",
       "  display: block;\n",
       "}\n",
       "\n",
       "/* \"?\"-specific style due to the `<a>` HTML tag */\n",
       "\n",
       "#sk-container-id-1 a.estimator_doc_link {\n",
       "  float: right;\n",
       "  font-size: 1rem;\n",
       "  line-height: 1em;\n",
       "  font-family: monospace;\n",
       "  background-color: var(--sklearn-color-background);\n",
       "  border-radius: 1rem;\n",
       "  height: 1rem;\n",
       "  width: 1rem;\n",
       "  text-decoration: none;\n",
       "  /* unfitted */\n",
       "  color: var(--sklearn-color-unfitted-level-1);\n",
       "  border: var(--sklearn-color-unfitted-level-1) 1pt solid;\n",
       "}\n",
       "\n",
       "#sk-container-id-1 a.estimator_doc_link.fitted {\n",
       "  /* fitted */\n",
       "  border: var(--sklearn-color-fitted-level-1) 1pt solid;\n",
       "  color: var(--sklearn-color-fitted-level-1);\n",
       "}\n",
       "\n",
       "/* On hover */\n",
       "#sk-container-id-1 a.estimator_doc_link:hover {\n",
       "  /* unfitted */\n",
       "  background-color: var(--sklearn-color-unfitted-level-3);\n",
       "  color: var(--sklearn-color-background);\n",
       "  text-decoration: none;\n",
       "}\n",
       "\n",
       "#sk-container-id-1 a.estimator_doc_link.fitted:hover {\n",
       "  /* fitted */\n",
       "  background-color: var(--sklearn-color-fitted-level-3);\n",
       "}\n",
       "</style><div id=\"sk-container-id-1\" class=\"sk-top-container\"><div class=\"sk-text-repr-fallback\"><pre>RandomizedSearchCV(cv=3,\n",
       "                   estimator=LGBMClassifier(extra_trees=True, learning_rate=0.3,\n",
       "                                            n_iter=120, n_jobs=-1,\n",
       "                                            random_state=42, verbosity=-1),\n",
       "                   n_iter=5, n_jobs=-1,\n",
       "                   param_distributions={&#x27;class_weight&#x27;: ({0: 1, 1: 1.5},\n",
       "                                                         {0: 1, 1: 2},\n",
       "                                                         {0: 1, 1: 2.5}),\n",
       "                                        &#x27;num_leaves&#x27;: range(70, 100, 10)},\n",
       "                   random_state=42, scoring=&#x27;f1&#x27;)</pre><b>In a Jupyter environment, please rerun this cell to show the HTML representation or trust the notebook. <br />On GitHub, the HTML representation is unable to render, please try loading this page with nbviewer.org.</b></div><div class=\"sk-container\" hidden><div class=\"sk-item sk-dashed-wrapped\"><div class=\"sk-label-container\"><div class=\"sk-label fitted sk-toggleable\"><input class=\"sk-toggleable__control sk-hidden--visually\" id=\"sk-estimator-id-1\" type=\"checkbox\" ><label for=\"sk-estimator-id-1\" class=\"sk-toggleable__label fitted sk-toggleable__label-arrow\"><div><div>RandomizedSearchCV</div></div><div><a class=\"sk-estimator-doc-link fitted\" rel=\"noreferrer\" target=\"_blank\" href=\"https://scikit-learn.org/1.6/modules/generated/sklearn.model_selection.RandomizedSearchCV.html\">?<span>Documentation for RandomizedSearchCV</span></a><span class=\"sk-estimator-doc-link fitted\">i<span>Fitted</span></span></div></label><div class=\"sk-toggleable__content fitted\"><pre>RandomizedSearchCV(cv=3,\n",
       "                   estimator=LGBMClassifier(extra_trees=True, learning_rate=0.3,\n",
       "                                            n_iter=120, n_jobs=-1,\n",
       "                                            random_state=42, verbosity=-1),\n",
       "                   n_iter=5, n_jobs=-1,\n",
       "                   param_distributions={&#x27;class_weight&#x27;: ({0: 1, 1: 1.5},\n",
       "                                                         {0: 1, 1: 2},\n",
       "                                                         {0: 1, 1: 2.5}),\n",
       "                                        &#x27;num_leaves&#x27;: range(70, 100, 10)},\n",
       "                   random_state=42, scoring=&#x27;f1&#x27;)</pre></div> </div></div><div class=\"sk-parallel\"><div class=\"sk-parallel-item\"><div class=\"sk-item\"><div class=\"sk-label-container\"><div class=\"sk-label fitted sk-toggleable\"><input class=\"sk-toggleable__control sk-hidden--visually\" id=\"sk-estimator-id-2\" type=\"checkbox\" ><label for=\"sk-estimator-id-2\" class=\"sk-toggleable__label fitted sk-toggleable__label-arrow\"><div><div>best_estimator_: LGBMClassifier</div></div></label><div class=\"sk-toggleable__content fitted\"><pre>LGBMClassifier(class_weight={0: 1, 1: 2.5}, extra_trees=True, learning_rate=0.3,\n",
       "               n_iter=120, n_jobs=-1, num_leaves=90, random_state=42,\n",
       "               verbosity=-1)</pre></div> </div></div><div class=\"sk-serial\"><div class=\"sk-item\"><div class=\"sk-estimator fitted sk-toggleable\"><input class=\"sk-toggleable__control sk-hidden--visually\" id=\"sk-estimator-id-3\" type=\"checkbox\" ><label for=\"sk-estimator-id-3\" class=\"sk-toggleable__label fitted sk-toggleable__label-arrow\"><div><div>LGBMClassifier</div></div></label><div class=\"sk-toggleable__content fitted\"><pre>LGBMClassifier(class_weight={0: 1, 1: 2.5}, extra_trees=True, learning_rate=0.3,\n",
       "               n_iter=120, n_jobs=-1, num_leaves=90, random_state=42,\n",
       "               verbosity=-1)</pre></div> </div></div></div></div></div></div></div></div></div>"
      ],
      "text/plain": [
       "RandomizedSearchCV(cv=3,\n",
       "                   estimator=LGBMClassifier(extra_trees=True, learning_rate=0.3,\n",
       "                                            n_iter=120, n_jobs=-1,\n",
       "                                            random_state=42, verbosity=-1),\n",
       "                   n_iter=5, n_jobs=-1,\n",
       "                   param_distributions={'class_weight': ({0: 1, 1: 1.5},\n",
       "                                                         {0: 1, 1: 2},\n",
       "                                                         {0: 1, 1: 2.5}),\n",
       "                                        'num_leaves': range(70, 100, 10)},\n",
       "                   random_state=42, scoring='f1')"
      ]
     },
     "execution_count": 47,
     "metadata": {},
     "output_type": "execute_result"
    }
   ],
   "source": [
    "lgbc_bert.fit(X_train, y_train)"
   ]
  },
  {
   "cell_type": "code",
   "execution_count": 48,
   "metadata": {},
   "outputs": [
    {
     "data": {
      "text/plain": [
       "'f1 = 0.923'"
      ]
     },
     "metadata": {},
     "output_type": "display_data"
    },
    {
     "data": {
      "text/plain": [
       "'Порог = 0.55'"
      ]
     },
     "metadata": {},
     "output_type": "display_data"
    }
   ],
   "source": [
    "max_score = 0\n",
    "value = 0\n",
    "thresholds = [round(i,2) for i in np.linspace(0.1,1,num = 50,endpoint=False)]\n",
    "for i in thresholds:\n",
    "    y_pred = lgbc_bert.predict_proba(X_val)[:,1] >= i\n",
    "    score = f1_score(y_val, y_pred)\n",
    "    if score>max_score:\n",
    "        value=i\n",
    "        max_score=score\n",
    "        max_y_pred=y_pred\n",
    "display(f\"f1 = {max_score:.3f}\")\n",
    "display(f\"Порог = {value}\")"
   ]
  },
  {
   "cell_type": "markdown",
   "metadata": {},
   "source": [
    "Лучшая метрика достигается при пороге классификации в 0,55. Можно снова обучить модель на всех тренировочных данных и проверить на тестовой выборке с применением порога"
   ]
  },
  {
   "cell_type": "code",
   "execution_count": 49,
   "metadata": {},
   "outputs": [
    {
     "data": {
      "text/html": [
       "<style>#sk-container-id-2 {\n",
       "  /* Definition of color scheme common for light and dark mode */\n",
       "  --sklearn-color-text: #000;\n",
       "  --sklearn-color-text-muted: #666;\n",
       "  --sklearn-color-line: gray;\n",
       "  /* Definition of color scheme for unfitted estimators */\n",
       "  --sklearn-color-unfitted-level-0: #fff5e6;\n",
       "  --sklearn-color-unfitted-level-1: #f6e4d2;\n",
       "  --sklearn-color-unfitted-level-2: #ffe0b3;\n",
       "  --sklearn-color-unfitted-level-3: chocolate;\n",
       "  /* Definition of color scheme for fitted estimators */\n",
       "  --sklearn-color-fitted-level-0: #f0f8ff;\n",
       "  --sklearn-color-fitted-level-1: #d4ebff;\n",
       "  --sklearn-color-fitted-level-2: #b3dbfd;\n",
       "  --sklearn-color-fitted-level-3: cornflowerblue;\n",
       "\n",
       "  /* Specific color for light theme */\n",
       "  --sklearn-color-text-on-default-background: var(--sg-text-color, var(--theme-code-foreground, var(--jp-content-font-color1, black)));\n",
       "  --sklearn-color-background: var(--sg-background-color, var(--theme-background, var(--jp-layout-color0, white)));\n",
       "  --sklearn-color-border-box: var(--sg-text-color, var(--theme-code-foreground, var(--jp-content-font-color1, black)));\n",
       "  --sklearn-color-icon: #696969;\n",
       "\n",
       "  @media (prefers-color-scheme: dark) {\n",
       "    /* Redefinition of color scheme for dark theme */\n",
       "    --sklearn-color-text-on-default-background: var(--sg-text-color, var(--theme-code-foreground, var(--jp-content-font-color1, white)));\n",
       "    --sklearn-color-background: var(--sg-background-color, var(--theme-background, var(--jp-layout-color0, #111)));\n",
       "    --sklearn-color-border-box: var(--sg-text-color, var(--theme-code-foreground, var(--jp-content-font-color1, white)));\n",
       "    --sklearn-color-icon: #878787;\n",
       "  }\n",
       "}\n",
       "\n",
       "#sk-container-id-2 {\n",
       "  color: var(--sklearn-color-text);\n",
       "}\n",
       "\n",
       "#sk-container-id-2 pre {\n",
       "  padding: 0;\n",
       "}\n",
       "\n",
       "#sk-container-id-2 input.sk-hidden--visually {\n",
       "  border: 0;\n",
       "  clip: rect(1px 1px 1px 1px);\n",
       "  clip: rect(1px, 1px, 1px, 1px);\n",
       "  height: 1px;\n",
       "  margin: -1px;\n",
       "  overflow: hidden;\n",
       "  padding: 0;\n",
       "  position: absolute;\n",
       "  width: 1px;\n",
       "}\n",
       "\n",
       "#sk-container-id-2 div.sk-dashed-wrapped {\n",
       "  border: 1px dashed var(--sklearn-color-line);\n",
       "  margin: 0 0.4em 0.5em 0.4em;\n",
       "  box-sizing: border-box;\n",
       "  padding-bottom: 0.4em;\n",
       "  background-color: var(--sklearn-color-background);\n",
       "}\n",
       "\n",
       "#sk-container-id-2 div.sk-container {\n",
       "  /* jupyter's `normalize.less` sets `[hidden] { display: none; }`\n",
       "     but bootstrap.min.css set `[hidden] { display: none !important; }`\n",
       "     so we also need the `!important` here to be able to override the\n",
       "     default hidden behavior on the sphinx rendered scikit-learn.org.\n",
       "     See: https://github.com/scikit-learn/scikit-learn/issues/21755 */\n",
       "  display: inline-block !important;\n",
       "  position: relative;\n",
       "}\n",
       "\n",
       "#sk-container-id-2 div.sk-text-repr-fallback {\n",
       "  display: none;\n",
       "}\n",
       "\n",
       "div.sk-parallel-item,\n",
       "div.sk-serial,\n",
       "div.sk-item {\n",
       "  /* draw centered vertical line to link estimators */\n",
       "  background-image: linear-gradient(var(--sklearn-color-text-on-default-background), var(--sklearn-color-text-on-default-background));\n",
       "  background-size: 2px 100%;\n",
       "  background-repeat: no-repeat;\n",
       "  background-position: center center;\n",
       "}\n",
       "\n",
       "/* Parallel-specific style estimator block */\n",
       "\n",
       "#sk-container-id-2 div.sk-parallel-item::after {\n",
       "  content: \"\";\n",
       "  width: 100%;\n",
       "  border-bottom: 2px solid var(--sklearn-color-text-on-default-background);\n",
       "  flex-grow: 1;\n",
       "}\n",
       "\n",
       "#sk-container-id-2 div.sk-parallel {\n",
       "  display: flex;\n",
       "  align-items: stretch;\n",
       "  justify-content: center;\n",
       "  background-color: var(--sklearn-color-background);\n",
       "  position: relative;\n",
       "}\n",
       "\n",
       "#sk-container-id-2 div.sk-parallel-item {\n",
       "  display: flex;\n",
       "  flex-direction: column;\n",
       "}\n",
       "\n",
       "#sk-container-id-2 div.sk-parallel-item:first-child::after {\n",
       "  align-self: flex-end;\n",
       "  width: 50%;\n",
       "}\n",
       "\n",
       "#sk-container-id-2 div.sk-parallel-item:last-child::after {\n",
       "  align-self: flex-start;\n",
       "  width: 50%;\n",
       "}\n",
       "\n",
       "#sk-container-id-2 div.sk-parallel-item:only-child::after {\n",
       "  width: 0;\n",
       "}\n",
       "\n",
       "/* Serial-specific style estimator block */\n",
       "\n",
       "#sk-container-id-2 div.sk-serial {\n",
       "  display: flex;\n",
       "  flex-direction: column;\n",
       "  align-items: center;\n",
       "  background-color: var(--sklearn-color-background);\n",
       "  padding-right: 1em;\n",
       "  padding-left: 1em;\n",
       "}\n",
       "\n",
       "\n",
       "/* Toggleable style: style used for estimator/Pipeline/ColumnTransformer box that is\n",
       "clickable and can be expanded/collapsed.\n",
       "- Pipeline and ColumnTransformer use this feature and define the default style\n",
       "- Estimators will overwrite some part of the style using the `sk-estimator` class\n",
       "*/\n",
       "\n",
       "/* Pipeline and ColumnTransformer style (default) */\n",
       "\n",
       "#sk-container-id-2 div.sk-toggleable {\n",
       "  /* Default theme specific background. It is overwritten whether we have a\n",
       "  specific estimator or a Pipeline/ColumnTransformer */\n",
       "  background-color: var(--sklearn-color-background);\n",
       "}\n",
       "\n",
       "/* Toggleable label */\n",
       "#sk-container-id-2 label.sk-toggleable__label {\n",
       "  cursor: pointer;\n",
       "  display: flex;\n",
       "  width: 100%;\n",
       "  margin-bottom: 0;\n",
       "  padding: 0.5em;\n",
       "  box-sizing: border-box;\n",
       "  text-align: center;\n",
       "  align-items: start;\n",
       "  justify-content: space-between;\n",
       "  gap: 0.5em;\n",
       "}\n",
       "\n",
       "#sk-container-id-2 label.sk-toggleable__label .caption {\n",
       "  font-size: 0.6rem;\n",
       "  font-weight: lighter;\n",
       "  color: var(--sklearn-color-text-muted);\n",
       "}\n",
       "\n",
       "#sk-container-id-2 label.sk-toggleable__label-arrow:before {\n",
       "  /* Arrow on the left of the label */\n",
       "  content: \"▸\";\n",
       "  float: left;\n",
       "  margin-right: 0.25em;\n",
       "  color: var(--sklearn-color-icon);\n",
       "}\n",
       "\n",
       "#sk-container-id-2 label.sk-toggleable__label-arrow:hover:before {\n",
       "  color: var(--sklearn-color-text);\n",
       "}\n",
       "\n",
       "/* Toggleable content - dropdown */\n",
       "\n",
       "#sk-container-id-2 div.sk-toggleable__content {\n",
       "  max-height: 0;\n",
       "  max-width: 0;\n",
       "  overflow: hidden;\n",
       "  text-align: left;\n",
       "  /* unfitted */\n",
       "  background-color: var(--sklearn-color-unfitted-level-0);\n",
       "}\n",
       "\n",
       "#sk-container-id-2 div.sk-toggleable__content.fitted {\n",
       "  /* fitted */\n",
       "  background-color: var(--sklearn-color-fitted-level-0);\n",
       "}\n",
       "\n",
       "#sk-container-id-2 div.sk-toggleable__content pre {\n",
       "  margin: 0.2em;\n",
       "  border-radius: 0.25em;\n",
       "  color: var(--sklearn-color-text);\n",
       "  /* unfitted */\n",
       "  background-color: var(--sklearn-color-unfitted-level-0);\n",
       "}\n",
       "\n",
       "#sk-container-id-2 div.sk-toggleable__content.fitted pre {\n",
       "  /* unfitted */\n",
       "  background-color: var(--sklearn-color-fitted-level-0);\n",
       "}\n",
       "\n",
       "#sk-container-id-2 input.sk-toggleable__control:checked~div.sk-toggleable__content {\n",
       "  /* Expand drop-down */\n",
       "  max-height: 200px;\n",
       "  max-width: 100%;\n",
       "  overflow: auto;\n",
       "}\n",
       "\n",
       "#sk-container-id-2 input.sk-toggleable__control:checked~label.sk-toggleable__label-arrow:before {\n",
       "  content: \"▾\";\n",
       "}\n",
       "\n",
       "/* Pipeline/ColumnTransformer-specific style */\n",
       "\n",
       "#sk-container-id-2 div.sk-label input.sk-toggleable__control:checked~label.sk-toggleable__label {\n",
       "  color: var(--sklearn-color-text);\n",
       "  background-color: var(--sklearn-color-unfitted-level-2);\n",
       "}\n",
       "\n",
       "#sk-container-id-2 div.sk-label.fitted input.sk-toggleable__control:checked~label.sk-toggleable__label {\n",
       "  background-color: var(--sklearn-color-fitted-level-2);\n",
       "}\n",
       "\n",
       "/* Estimator-specific style */\n",
       "\n",
       "/* Colorize estimator box */\n",
       "#sk-container-id-2 div.sk-estimator input.sk-toggleable__control:checked~label.sk-toggleable__label {\n",
       "  /* unfitted */\n",
       "  background-color: var(--sklearn-color-unfitted-level-2);\n",
       "}\n",
       "\n",
       "#sk-container-id-2 div.sk-estimator.fitted input.sk-toggleable__control:checked~label.sk-toggleable__label {\n",
       "  /* fitted */\n",
       "  background-color: var(--sklearn-color-fitted-level-2);\n",
       "}\n",
       "\n",
       "#sk-container-id-2 div.sk-label label.sk-toggleable__label,\n",
       "#sk-container-id-2 div.sk-label label {\n",
       "  /* The background is the default theme color */\n",
       "  color: var(--sklearn-color-text-on-default-background);\n",
       "}\n",
       "\n",
       "/* On hover, darken the color of the background */\n",
       "#sk-container-id-2 div.sk-label:hover label.sk-toggleable__label {\n",
       "  color: var(--sklearn-color-text);\n",
       "  background-color: var(--sklearn-color-unfitted-level-2);\n",
       "}\n",
       "\n",
       "/* Label box, darken color on hover, fitted */\n",
       "#sk-container-id-2 div.sk-label.fitted:hover label.sk-toggleable__label.fitted {\n",
       "  color: var(--sklearn-color-text);\n",
       "  background-color: var(--sklearn-color-fitted-level-2);\n",
       "}\n",
       "\n",
       "/* Estimator label */\n",
       "\n",
       "#sk-container-id-2 div.sk-label label {\n",
       "  font-family: monospace;\n",
       "  font-weight: bold;\n",
       "  display: inline-block;\n",
       "  line-height: 1.2em;\n",
       "}\n",
       "\n",
       "#sk-container-id-2 div.sk-label-container {\n",
       "  text-align: center;\n",
       "}\n",
       "\n",
       "/* Estimator-specific */\n",
       "#sk-container-id-2 div.sk-estimator {\n",
       "  font-family: monospace;\n",
       "  border: 1px dotted var(--sklearn-color-border-box);\n",
       "  border-radius: 0.25em;\n",
       "  box-sizing: border-box;\n",
       "  margin-bottom: 0.5em;\n",
       "  /* unfitted */\n",
       "  background-color: var(--sklearn-color-unfitted-level-0);\n",
       "}\n",
       "\n",
       "#sk-container-id-2 div.sk-estimator.fitted {\n",
       "  /* fitted */\n",
       "  background-color: var(--sklearn-color-fitted-level-0);\n",
       "}\n",
       "\n",
       "/* on hover */\n",
       "#sk-container-id-2 div.sk-estimator:hover {\n",
       "  /* unfitted */\n",
       "  background-color: var(--sklearn-color-unfitted-level-2);\n",
       "}\n",
       "\n",
       "#sk-container-id-2 div.sk-estimator.fitted:hover {\n",
       "  /* fitted */\n",
       "  background-color: var(--sklearn-color-fitted-level-2);\n",
       "}\n",
       "\n",
       "/* Specification for estimator info (e.g. \"i\" and \"?\") */\n",
       "\n",
       "/* Common style for \"i\" and \"?\" */\n",
       "\n",
       ".sk-estimator-doc-link,\n",
       "a:link.sk-estimator-doc-link,\n",
       "a:visited.sk-estimator-doc-link {\n",
       "  float: right;\n",
       "  font-size: smaller;\n",
       "  line-height: 1em;\n",
       "  font-family: monospace;\n",
       "  background-color: var(--sklearn-color-background);\n",
       "  border-radius: 1em;\n",
       "  height: 1em;\n",
       "  width: 1em;\n",
       "  text-decoration: none !important;\n",
       "  margin-left: 0.5em;\n",
       "  text-align: center;\n",
       "  /* unfitted */\n",
       "  border: var(--sklearn-color-unfitted-level-1) 1pt solid;\n",
       "  color: var(--sklearn-color-unfitted-level-1);\n",
       "}\n",
       "\n",
       ".sk-estimator-doc-link.fitted,\n",
       "a:link.sk-estimator-doc-link.fitted,\n",
       "a:visited.sk-estimator-doc-link.fitted {\n",
       "  /* fitted */\n",
       "  border: var(--sklearn-color-fitted-level-1) 1pt solid;\n",
       "  color: var(--sklearn-color-fitted-level-1);\n",
       "}\n",
       "\n",
       "/* On hover */\n",
       "div.sk-estimator:hover .sk-estimator-doc-link:hover,\n",
       ".sk-estimator-doc-link:hover,\n",
       "div.sk-label-container:hover .sk-estimator-doc-link:hover,\n",
       ".sk-estimator-doc-link:hover {\n",
       "  /* unfitted */\n",
       "  background-color: var(--sklearn-color-unfitted-level-3);\n",
       "  color: var(--sklearn-color-background);\n",
       "  text-decoration: none;\n",
       "}\n",
       "\n",
       "div.sk-estimator.fitted:hover .sk-estimator-doc-link.fitted:hover,\n",
       ".sk-estimator-doc-link.fitted:hover,\n",
       "div.sk-label-container:hover .sk-estimator-doc-link.fitted:hover,\n",
       ".sk-estimator-doc-link.fitted:hover {\n",
       "  /* fitted */\n",
       "  background-color: var(--sklearn-color-fitted-level-3);\n",
       "  color: var(--sklearn-color-background);\n",
       "  text-decoration: none;\n",
       "}\n",
       "\n",
       "/* Span, style for the box shown on hovering the info icon */\n",
       ".sk-estimator-doc-link span {\n",
       "  display: none;\n",
       "  z-index: 9999;\n",
       "  position: relative;\n",
       "  font-weight: normal;\n",
       "  right: .2ex;\n",
       "  padding: .5ex;\n",
       "  margin: .5ex;\n",
       "  width: min-content;\n",
       "  min-width: 20ex;\n",
       "  max-width: 50ex;\n",
       "  color: var(--sklearn-color-text);\n",
       "  box-shadow: 2pt 2pt 4pt #999;\n",
       "  /* unfitted */\n",
       "  background: var(--sklearn-color-unfitted-level-0);\n",
       "  border: .5pt solid var(--sklearn-color-unfitted-level-3);\n",
       "}\n",
       "\n",
       ".sk-estimator-doc-link.fitted span {\n",
       "  /* fitted */\n",
       "  background: var(--sklearn-color-fitted-level-0);\n",
       "  border: var(--sklearn-color-fitted-level-3);\n",
       "}\n",
       "\n",
       ".sk-estimator-doc-link:hover span {\n",
       "  display: block;\n",
       "}\n",
       "\n",
       "/* \"?\"-specific style due to the `<a>` HTML tag */\n",
       "\n",
       "#sk-container-id-2 a.estimator_doc_link {\n",
       "  float: right;\n",
       "  font-size: 1rem;\n",
       "  line-height: 1em;\n",
       "  font-family: monospace;\n",
       "  background-color: var(--sklearn-color-background);\n",
       "  border-radius: 1rem;\n",
       "  height: 1rem;\n",
       "  width: 1rem;\n",
       "  text-decoration: none;\n",
       "  /* unfitted */\n",
       "  color: var(--sklearn-color-unfitted-level-1);\n",
       "  border: var(--sklearn-color-unfitted-level-1) 1pt solid;\n",
       "}\n",
       "\n",
       "#sk-container-id-2 a.estimator_doc_link.fitted {\n",
       "  /* fitted */\n",
       "  border: var(--sklearn-color-fitted-level-1) 1pt solid;\n",
       "  color: var(--sklearn-color-fitted-level-1);\n",
       "}\n",
       "\n",
       "/* On hover */\n",
       "#sk-container-id-2 a.estimator_doc_link:hover {\n",
       "  /* unfitted */\n",
       "  background-color: var(--sklearn-color-unfitted-level-3);\n",
       "  color: var(--sklearn-color-background);\n",
       "  text-decoration: none;\n",
       "}\n",
       "\n",
       "#sk-container-id-2 a.estimator_doc_link.fitted:hover {\n",
       "  /* fitted */\n",
       "  background-color: var(--sklearn-color-fitted-level-3);\n",
       "}\n",
       "</style><div id=\"sk-container-id-2\" class=\"sk-top-container\"><div class=\"sk-text-repr-fallback\"><pre>RandomizedSearchCV(cv=3,\n",
       "                   estimator=LGBMClassifier(extra_trees=True, learning_rate=0.3,\n",
       "                                            n_iter=120, n_jobs=-1,\n",
       "                                            random_state=42, verbosity=-1),\n",
       "                   n_iter=5, n_jobs=-1,\n",
       "                   param_distributions={&#x27;class_weight&#x27;: ({0: 1, 1: 1.5},\n",
       "                                                         {0: 1, 1: 2},\n",
       "                                                         {0: 1, 1: 2.5}),\n",
       "                                        &#x27;num_leaves&#x27;: range(70, 100, 10)},\n",
       "                   random_state=42, scoring=&#x27;f1&#x27;)</pre><b>In a Jupyter environment, please rerun this cell to show the HTML representation or trust the notebook. <br />On GitHub, the HTML representation is unable to render, please try loading this page with nbviewer.org.</b></div><div class=\"sk-container\" hidden><div class=\"sk-item sk-dashed-wrapped\"><div class=\"sk-label-container\"><div class=\"sk-label fitted sk-toggleable\"><input class=\"sk-toggleable__control sk-hidden--visually\" id=\"sk-estimator-id-4\" type=\"checkbox\" ><label for=\"sk-estimator-id-4\" class=\"sk-toggleable__label fitted sk-toggleable__label-arrow\"><div><div>RandomizedSearchCV</div></div><div><a class=\"sk-estimator-doc-link fitted\" rel=\"noreferrer\" target=\"_blank\" href=\"https://scikit-learn.org/1.6/modules/generated/sklearn.model_selection.RandomizedSearchCV.html\">?<span>Documentation for RandomizedSearchCV</span></a><span class=\"sk-estimator-doc-link fitted\">i<span>Fitted</span></span></div></label><div class=\"sk-toggleable__content fitted\"><pre>RandomizedSearchCV(cv=3,\n",
       "                   estimator=LGBMClassifier(extra_trees=True, learning_rate=0.3,\n",
       "                                            n_iter=120, n_jobs=-1,\n",
       "                                            random_state=42, verbosity=-1),\n",
       "                   n_iter=5, n_jobs=-1,\n",
       "                   param_distributions={&#x27;class_weight&#x27;: ({0: 1, 1: 1.5},\n",
       "                                                         {0: 1, 1: 2},\n",
       "                                                         {0: 1, 1: 2.5}),\n",
       "                                        &#x27;num_leaves&#x27;: range(70, 100, 10)},\n",
       "                   random_state=42, scoring=&#x27;f1&#x27;)</pre></div> </div></div><div class=\"sk-parallel\"><div class=\"sk-parallel-item\"><div class=\"sk-item\"><div class=\"sk-label-container\"><div class=\"sk-label fitted sk-toggleable\"><input class=\"sk-toggleable__control sk-hidden--visually\" id=\"sk-estimator-id-5\" type=\"checkbox\" ><label for=\"sk-estimator-id-5\" class=\"sk-toggleable__label fitted sk-toggleable__label-arrow\"><div><div>best_estimator_: LGBMClassifier</div></div></label><div class=\"sk-toggleable__content fitted\"><pre>LGBMClassifier(class_weight={0: 1, 1: 2}, extra_trees=True, learning_rate=0.3,\n",
       "               n_iter=120, n_jobs=-1, num_leaves=90, random_state=42,\n",
       "               verbosity=-1)</pre></div> </div></div><div class=\"sk-serial\"><div class=\"sk-item\"><div class=\"sk-estimator fitted sk-toggleable\"><input class=\"sk-toggleable__control sk-hidden--visually\" id=\"sk-estimator-id-6\" type=\"checkbox\" ><label for=\"sk-estimator-id-6\" class=\"sk-toggleable__label fitted sk-toggleable__label-arrow\"><div><div>LGBMClassifier</div></div></label><div class=\"sk-toggleable__content fitted\"><pre>LGBMClassifier(class_weight={0: 1, 1: 2}, extra_trees=True, learning_rate=0.3,\n",
       "               n_iter=120, n_jobs=-1, num_leaves=90, random_state=42,\n",
       "               verbosity=-1)</pre></div> </div></div></div></div></div></div></div></div></div>"
      ],
      "text/plain": [
       "RandomizedSearchCV(cv=3,\n",
       "                   estimator=LGBMClassifier(extra_trees=True, learning_rate=0.3,\n",
       "                                            n_iter=120, n_jobs=-1,\n",
       "                                            random_state=42, verbosity=-1),\n",
       "                   n_iter=5, n_jobs=-1,\n",
       "                   param_distributions={'class_weight': ({0: 1, 1: 1.5},\n",
       "                                                         {0: 1, 1: 2},\n",
       "                                                         {0: 1, 1: 2.5}),\n",
       "                                        'num_leaves': range(70, 100, 10)},\n",
       "                   random_state=42, scoring='f1')"
      ]
     },
     "execution_count": 49,
     "metadata": {},
     "output_type": "execute_result"
    }
   ],
   "source": [
    "lgbc_bert.fit(X_train_bert, y_train_bert)"
   ]
  },
  {
   "cell_type": "markdown",
   "metadata": {},
   "source": [
    "### Тестирование модели"
   ]
  },
  {
   "cell_type": "code",
   "execution_count": 50,
   "metadata": {},
   "outputs": [
    {
     "name": "stdout",
     "output_type": "stream",
     "text": [
      "f1 = 0.919\n"
     ]
    },
    {
     "data": {
      "image/png": "[encoded data removed]",
      "text/plain": [
       "<Figure size 1000x500 with 2 Axes>"
      ]
     },
     "metadata": {},
     "output_type": "display_data"
    }
   ],
   "source": [
    "y_pred = lgbc_bert.predict_proba(X_test_bert)[:,1] >= value\n",
    "print(f\"f1 = {f1_score(y_test_bert, y_pred):.3f}\")\n",
    "fig, ax = plt.subplots(figsize=(10, 5))\n",
    "ConfusionMatrixDisplay.from_predictions(y_test_bert, y_pred, ax=ax)\n",
    "_ = ax.set_title(\n",
    "    f\"Confusion Matrix\"\n",
    ")"
   ]
  },
  {
   "cell_type": "markdown",
   "metadata": {},
   "source": [
    "На тестовых данных модель с порогом показала f1 меру, равную 0,919, что выше заданного условия в 0,75"
   ]
  },
  {
   "cell_type": "markdown",
   "metadata": {},
   "source": [
    "## Выводы"
   ]
  },
  {
   "cell_type": "markdown",
   "metadata": {},
   "source": [
    "**Предобработка и анализ данных**\n",
    "* Для обучения моделей предсказания токсичности текста были получены промаркированные комментарии, всего 159292 записи.\n",
    "* В результате предобработки был удален столбец с индексами, а текст очищен от ненужных символов.\n",
    "* При анализе данных был выявлен сильный дисбаланс целевого признака: токсичные комментарии составляют всего 10% от общего числа."
   ]
  },
  {
   "cell_type": "markdown",
   "metadata": {},
   "source": [
    "**Обучение и тестирование моделей**\n",
    "* Для обучения моделей были использованы два способа преобразования слов в понятный для модели векторный вид. Первый это подсчитывающий уникальные слова Tf-Idf, а другой это оценивающий смысловую близость слов эмбеддинг, реализованный в предобученной модели BERT.\n",
    "* Для предсказания токсичности текста в обоих случаях были подобраны гиперпараметры и веса классов для модели логистической регрессии и градиентного бустинга LightGBM\n",
    "* Лучше всего себя показала модель градиентного бустинга, обучавшаяся на эмбеддингах, с порогом классификации равным 0,55.\n",
    "* Итоговая метрика f1 на тестовых данных составила 0,919, что с запасом соответствует требованию.\n",
    "* Модель допускает примерно одинаковое количество ложноположительных и ложноотрицательных ответов, что связано с настройкой на лучшую f1 меру. Для лучшего определения конкретного класса следует провести настройку исходя из других метрик."
   ]
  }
 ],
 "metadata": {
  "ExecuteTimeLog": [
   {
    "duration": 7584,
    "start_time": "2025-03-11T15:20:43.481Z"
   },
   {
    "duration": 3607,
    "start_time": "2025-03-11T15:20:51.068Z"
   },
   {
    "duration": 1704,
    "start_time": "2025-03-11T15:20:54.677Z"
   },
   {
    "duration": 3,
    "start_time": "2025-03-11T15:22:43.842Z"
   },
   {
    "duration": 1097,
    "start_time": "2025-03-11T15:22:44.543Z"
   },
   {
    "duration": 42,
    "start_time": "2025-03-11T15:23:00.177Z"
   },
   {
    "duration": 36,
    "start_time": "2025-03-11T15:24:13.661Z"
   },
   {
    "duration": 35,
    "start_time": "2025-03-11T15:25:13.022Z"
   },
   {
    "duration": 17,
    "start_time": "2025-03-11T15:29:15.244Z"
   },
   {
    "duration": 19,
    "start_time": "2025-03-11T15:29:23.518Z"
   },
   {
    "duration": 8,
    "start_time": "2025-03-11T15:29:55.233Z"
   },
   {
    "duration": 76,
    "start_time": "2025-03-11T15:30:49.205Z"
   },
   {
    "duration": 15,
    "start_time": "2025-03-11T15:31:41.072Z"
   },
   {
    "duration": 158,
    "start_time": "2025-03-11T15:34:24.073Z"
   },
   {
    "duration": 44,
    "start_time": "2025-03-11T15:34:43.955Z"
   },
   {
    "duration": 39,
    "start_time": "2025-03-11T15:35:01.026Z"
   },
   {
    "duration": 131,
    "start_time": "2025-03-11T15:40:32.238Z"
   },
   {
    "duration": 147,
    "start_time": "2025-03-11T15:42:48.521Z"
   },
   {
    "duration": 77,
    "start_time": "2025-03-11T15:43:20.749Z"
   },
   {
    "duration": 90,
    "start_time": "2025-03-11T15:43:38.291Z"
   },
   {
    "duration": 73,
    "start_time": "2025-03-11T15:43:42.671Z"
   },
   {
    "duration": 95,
    "start_time": "2025-03-11T15:44:14.376Z"
   },
   {
    "duration": 80,
    "start_time": "2025-03-11T15:44:22.383Z"
   },
   {
    "duration": 14,
    "start_time": "2025-03-11T15:49:54.447Z"
   },
   {
    "duration": 12,
    "start_time": "2025-03-11T15:50:08.342Z"
   },
   {
    "duration": 75,
    "start_time": "2025-03-11T15:50:28.484Z"
   },
   {
    "duration": 166,
    "start_time": "2025-03-11T16:04:15.456Z"
   },
   {
    "duration": 2814,
    "start_time": "2025-03-11T16:04:21.439Z"
   },
   {
    "duration": 2,
    "start_time": "2025-03-11T16:06:19.986Z"
   },
   {
    "duration": 29526,
    "start_time": "2025-03-11T16:06:20.781Z"
   },
   {
    "duration": 5,
    "start_time": "2025-03-11T16:10:52.141Z"
   },
   {
    "duration": 2,
    "start_time": "2025-03-11T16:10:58.580Z"
   },
   {
    "duration": 3,
    "start_time": "2025-03-11T16:13:17.539Z"
   },
   {
    "duration": 31,
    "start_time": "2025-03-11T16:13:19.305Z"
   },
   {
    "duration": 14118,
    "start_time": "2025-03-11T16:14:08.141Z"
   },
   {
    "duration": 10,
    "start_time": "2025-03-11T16:20:02.721Z"
   },
   {
    "duration": 3,
    "start_time": "2025-03-11T16:20:21.461Z"
   },
   {
    "duration": 9662,
    "start_time": "2025-03-11T16:20:22.877Z"
   },
   {
    "duration": 2,
    "start_time": "2025-03-11T16:20:47.551Z"
   },
   {
    "duration": 3,
    "start_time": "2025-03-11T16:20:48.393Z"
   },
   {
    "duration": 585312,
    "start_time": "2025-03-11T16:20:49.361Z"
   },
   {
    "duration": 30,
    "start_time": "2025-03-11T16:35:50.722Z"
   },
   {
    "duration": 16,
    "start_time": "2025-03-11T16:36:28.829Z"
   },
   {
    "duration": 15,
    "start_time": "2025-03-11T17:01:44.753Z"
   },
   {
    "duration": 10,
    "start_time": "2025-03-11T17:04:55.685Z"
   },
   {
    "duration": 7,
    "start_time": "2025-03-11T17:05:39.967Z"
   },
   {
    "duration": 10,
    "start_time": "2025-03-11T17:05:44.848Z"
   },
   {
    "duration": 11,
    "start_time": "2025-03-11T17:05:55.117Z"
   },
   {
    "duration": 34,
    "start_time": "2025-03-11T17:06:03.024Z"
   },
   {
    "duration": 854,
    "start_time": "2025-03-11T17:06:07.773Z"
   },
   {
    "duration": 38,
    "start_time": "2025-03-11T17:06:10.244Z"
   },
   {
    "duration": 12,
    "start_time": "2025-03-11T17:06:16.497Z"
   },
   {
    "duration": 14,
    "start_time": "2025-03-11T17:06:27.724Z"
   },
   {
    "duration": 12,
    "start_time": "2025-03-11T17:06:30.113Z"
   },
   {
    "duration": 12,
    "start_time": "2025-03-11T17:07:51.449Z"
   },
   {
    "duration": 12,
    "start_time": "2025-03-11T17:11:36.038Z"
   },
   {
    "duration": 12,
    "start_time": "2025-03-11T17:13:53.985Z"
   },
   {
    "duration": 11,
    "start_time": "2025-03-11T18:09:46.654Z"
   },
   {
    "duration": 192,
    "start_time": "2025-03-11T18:11:25.440Z"
   },
   {
    "duration": 182,
    "start_time": "2025-03-11T18:12:47.893Z"
   },
   {
    "duration": 4,
    "start_time": "2025-03-11T18:14:15.665Z"
   },
   {
    "duration": 7,
    "start_time": "2025-03-11T18:14:21.997Z"
   },
   {
    "duration": 4,
    "start_time": "2025-03-11T18:15:11.917Z"
   },
   {
    "duration": 6,
    "start_time": "2025-03-11T18:16:13.165Z"
   },
   {
    "duration": 637,
    "start_time": "2025-03-11T18:17:34.465Z"
   },
   {
    "duration": 3,
    "start_time": "2025-03-11T18:18:05.307Z"
   },
   {
    "duration": 72,
    "start_time": "2025-03-11T18:18:15.441Z"
   },
   {
    "duration": 3,
    "start_time": "2025-03-11T18:19:29.046Z"
   },
   {
    "duration": 54,
    "start_time": "2025-03-11T18:19:30.163Z"
   },
   {
    "duration": 19,
    "start_time": "2025-03-11T18:24:23.571Z"
   },
   {
    "duration": 12,
    "start_time": "2025-03-11T18:25:12.035Z"
   },
   {
    "duration": 12,
    "start_time": "2025-03-11T18:26:15.848Z"
   },
   {
    "duration": 12,
    "start_time": "2025-03-11T18:26:59.781Z"
   },
   {
    "duration": 12,
    "start_time": "2025-03-11T18:27:28.324Z"
   },
   {
    "duration": 13,
    "start_time": "2025-03-11T18:28:02.036Z"
   },
   {
    "duration": 3,
    "start_time": "2025-03-11T18:38:22.945Z"
   },
   {
    "duration": 3,
    "start_time": "2025-03-11T18:38:23.551Z"
   },
   {
    "duration": 63,
    "start_time": "2025-03-11T18:38:25.065Z"
   },
   {
    "duration": 3,
    "start_time": "2025-03-11T18:39:40.816Z"
   },
   {
    "duration": 3,
    "start_time": "2025-03-11T18:39:41.232Z"
   },
   {
    "duration": 64,
    "start_time": "2025-03-11T18:39:41.729Z"
   },
   {
    "duration": 3,
    "start_time": "2025-03-11T18:39:45.238Z"
   },
   {
    "duration": 3,
    "start_time": "2025-03-11T18:39:45.662Z"
   },
   {
    "duration": 46,
    "start_time": "2025-03-11T18:39:46.526Z"
   },
   {
    "duration": 2,
    "start_time": "2025-03-11T18:39:51.835Z"
   },
   {
    "duration": 3,
    "start_time": "2025-03-11T18:39:52.395Z"
   },
   {
    "duration": 66,
    "start_time": "2025-03-11T18:39:52.950Z"
   },
   {
    "duration": 3,
    "start_time": "2025-03-11T18:41:57.079Z"
   },
   {
    "duration": 1629,
    "start_time": "2025-03-11T18:42:19.388Z"
   },
   {
    "duration": 12,
    "start_time": "2025-03-11T18:44:34.839Z"
   },
   {
    "duration": 10,
    "start_time": "2025-03-11T18:47:43.505Z"
   },
   {
    "duration": 5,
    "start_time": "2025-03-11T18:48:00.949Z"
   },
   {
    "duration": 11,
    "start_time": "2025-03-11T18:48:07.686Z"
   },
   {
    "duration": 4971,
    "start_time": "2025-03-11T18:49:33.244Z"
   },
   {
    "duration": 12,
    "start_time": "2025-03-11T18:49:41.780Z"
   },
   {
    "duration": 87,
    "start_time": "2025-03-11T18:50:19.818Z"
   },
   {
    "duration": 2266,
    "start_time": "2025-03-11T18:50:43.215Z"
   },
   {
    "duration": 2900,
    "start_time": "2025-03-11T18:50:47.657Z"
   },
   {
    "duration": 2876,
    "start_time": "2025-03-11T18:50:50.560Z"
   },
   {
    "duration": 5,
    "start_time": "2025-03-11T18:50:53.439Z"
   },
   {
    "duration": 33,
    "start_time": "2025-03-11T18:50:53.446Z"
   },
   {
    "duration": 846,
    "start_time": "2025-03-11T18:50:53.481Z"
   },
   {
    "duration": 3,
    "start_time": "2025-03-11T18:50:54.329Z"
   },
   {
    "duration": 18,
    "start_time": "2025-03-11T18:50:58.773Z"
   },
   {
    "duration": 5186,
    "start_time": "2025-03-11T18:51:06.531Z"
   },
   {
    "duration": 18,
    "start_time": "2025-03-11T18:51:11.719Z"
   },
   {
    "duration": 69,
    "start_time": "2025-03-11T18:52:51.141Z"
   },
   {
    "duration": 2188,
    "start_time": "2025-03-11T18:52:53.753Z"
   },
   {
    "duration": 3,
    "start_time": "2025-03-11T18:54:41.582Z"
   },
   {
    "duration": 47,
    "start_time": "2025-03-11T18:57:31.104Z"
   },
   {
    "duration": 3015,
    "start_time": "2025-03-11T18:57:36.081Z"
   },
   {
    "duration": 2616,
    "start_time": "2025-03-11T18:57:39.098Z"
   },
   {
    "duration": 2195,
    "start_time": "2025-03-11T18:57:41.716Z"
   },
   {
    "duration": 3,
    "start_time": "2025-03-11T18:57:43.912Z"
   },
   {
    "duration": 841,
    "start_time": "2025-03-11T18:57:43.916Z"
   },
   {
    "duration": 3,
    "start_time": "2025-03-11T18:57:44.758Z"
   },
   {
    "duration": 17,
    "start_time": "2025-03-11T18:57:46.888Z"
   },
   {
    "duration": 16,
    "start_time": "2025-03-11T18:57:52.411Z"
   },
   {
    "duration": 4971,
    "start_time": "2025-03-11T18:57:57.670Z"
   },
   {
    "duration": 13,
    "start_time": "2025-03-11T18:58:04.481Z"
   },
   {
    "duration": 69,
    "start_time": "2025-03-11T18:58:21.530Z"
   },
   {
    "duration": 2306,
    "start_time": "2025-03-11T18:58:25.175Z"
   },
   {
    "duration": 3,
    "start_time": "2025-03-11T18:58:28.694Z"
   },
   {
    "duration": 2999,
    "start_time": "2025-03-11T18:59:25.104Z"
   },
   {
    "duration": 2584,
    "start_time": "2025-03-11T18:59:28.105Z"
   },
   {
    "duration": 2417,
    "start_time": "2025-03-11T18:59:30.691Z"
   },
   {
    "duration": 3,
    "start_time": "2025-03-11T18:59:33.109Z"
   },
   {
    "duration": 872,
    "start_time": "2025-03-11T18:59:33.114Z"
   },
   {
    "duration": 3,
    "start_time": "2025-03-11T18:59:33.987Z"
   },
   {
    "duration": 45,
    "start_time": "2025-03-11T18:59:33.991Z"
   },
   {
    "duration": 7,
    "start_time": "2025-03-11T18:59:34.038Z"
   },
   {
    "duration": 32,
    "start_time": "2025-03-11T18:59:34.046Z"
   },
   {
    "duration": 86,
    "start_time": "2025-03-11T18:59:34.079Z"
   },
   {
    "duration": 99,
    "start_time": "2025-03-11T18:59:34.166Z"
   },
   {
    "duration": 14,
    "start_time": "2025-03-11T18:59:34.266Z"
   },
   {
    "duration": 5024,
    "start_time": "2025-03-11T18:59:34.282Z"
   },
   {
    "duration": 84,
    "start_time": "2025-03-11T18:59:39.309Z"
   },
   {
    "duration": 2240,
    "start_time": "2025-03-11T18:59:39.395Z"
   },
   {
    "duration": 36,
    "start_time": "2025-03-11T18:59:41.637Z"
   },
   {
    "duration": 30799,
    "start_time": "2025-03-11T18:59:41.674Z"
   },
   {
    "duration": 4,
    "start_time": "2025-03-11T19:00:12.475Z"
   },
   {
    "duration": 6,
    "start_time": "2025-03-11T19:00:12.481Z"
   },
   {
    "duration": 2969,
    "start_time": "2025-03-11T19:02:18.291Z"
   },
   {
    "duration": 2622,
    "start_time": "2025-03-11T19:02:21.263Z"
   },
   {
    "duration": 2357,
    "start_time": "2025-03-11T19:02:23.887Z"
   },
   {
    "duration": 3,
    "start_time": "2025-03-11T19:02:26.245Z"
   },
   {
    "duration": 867,
    "start_time": "2025-03-11T19:02:26.250Z"
   },
   {
    "duration": 2,
    "start_time": "2025-03-11T19:02:27.119Z"
   },
   {
    "duration": 50,
    "start_time": "2025-03-11T19:02:27.123Z"
   },
   {
    "duration": 6,
    "start_time": "2025-03-11T19:02:27.175Z"
   },
   {
    "duration": 15,
    "start_time": "2025-03-11T19:02:27.183Z"
   },
   {
    "duration": 92,
    "start_time": "2025-03-11T19:02:27.200Z"
   },
   {
    "duration": 106,
    "start_time": "2025-03-11T19:02:27.295Z"
   },
   {
    "duration": 14,
    "start_time": "2025-03-11T19:02:27.402Z"
   },
   {
    "duration": 5294,
    "start_time": "2025-03-11T19:02:27.418Z"
   },
   {
    "duration": 80,
    "start_time": "2025-03-11T19:02:32.714Z"
   },
   {
    "duration": 2294,
    "start_time": "2025-03-11T19:02:32.796Z"
   },
   {
    "duration": 12,
    "start_time": "2025-03-11T19:02:35.092Z"
   },
   {
    "duration": 30627,
    "start_time": "2025-03-11T19:02:35.106Z"
   },
   {
    "duration": 2,
    "start_time": "2025-03-11T19:03:05.735Z"
   },
   {
    "duration": 55,
    "start_time": "2025-03-11T19:03:05.738Z"
   },
   {
    "duration": 3161,
    "start_time": "2025-03-11T19:03:38.337Z"
   },
   {
    "duration": 2581,
    "start_time": "2025-03-11T19:03:41.500Z"
   },
   {
    "duration": 2353,
    "start_time": "2025-03-11T19:03:44.083Z"
   },
   {
    "duration": 2,
    "start_time": "2025-03-11T19:03:46.437Z"
   },
   {
    "duration": 863,
    "start_time": "2025-03-11T19:03:46.441Z"
   },
   {
    "duration": 3,
    "start_time": "2025-03-11T19:03:47.306Z"
   },
   {
    "duration": 18,
    "start_time": "2025-03-11T19:03:48.319Z"
   },
   {
    "duration": 68,
    "start_time": "2025-03-11T19:03:57.501Z"
   },
   {
    "duration": 2252,
    "start_time": "2025-03-11T19:04:05.132Z"
   },
   {
    "duration": 11,
    "start_time": "2025-03-11T19:04:31.453Z"
   },
   {
    "duration": 4,
    "start_time": "2025-03-11T19:04:34.180Z"
   },
   {
    "duration": 3,
    "start_time": "2025-03-11T19:04:46.433Z"
   },
   {
    "duration": 2943,
    "start_time": "2025-03-11T19:07:52.210Z"
   },
   {
    "duration": 2734,
    "start_time": "2025-03-11T19:07:55.156Z"
   },
   {
    "duration": 1596,
    "start_time": "2025-03-11T19:07:57.892Z"
   },
   {
    "duration": 2,
    "start_time": "2025-03-11T19:07:59.490Z"
   },
   {
    "duration": 878,
    "start_time": "2025-03-11T19:07:59.495Z"
   },
   {
    "duration": 2,
    "start_time": "2025-03-11T19:08:00.375Z"
   },
   {
    "duration": 49,
    "start_time": "2025-03-11T19:08:00.379Z"
   },
   {
    "duration": 7,
    "start_time": "2025-03-11T19:08:00.429Z"
   },
   {
    "duration": 31,
    "start_time": "2025-03-11T19:08:00.437Z"
   },
   {
    "duration": 76,
    "start_time": "2025-03-11T19:08:00.470Z"
   },
   {
    "duration": 102,
    "start_time": "2025-03-11T19:08:00.547Z"
   },
   {
    "duration": 23,
    "start_time": "2025-03-11T19:08:00.650Z"
   },
   {
    "duration": 5043,
    "start_time": "2025-03-11T19:08:00.674Z"
   },
   {
    "duration": 80,
    "start_time": "2025-03-11T19:08:05.720Z"
   },
   {
    "duration": 2248,
    "start_time": "2025-03-11T19:08:05.801Z"
   },
   {
    "duration": 8,
    "start_time": "2025-03-11T19:08:08.050Z"
   },
   {
    "duration": 9563,
    "start_time": "2025-03-11T19:08:08.059Z"
   },
   {
    "duration": 3,
    "start_time": "2025-03-11T19:08:17.624Z"
   },
   {
    "duration": 4,
    "start_time": "2025-03-11T19:08:17.628Z"
   },
   {
    "duration": 23037,
    "start_time": "2025-03-11T19:08:17.634Z"
   },
   {
    "duration": 6,
    "start_time": "2025-03-11T19:08:40.673Z"
   },
   {
    "duration": 8,
    "start_time": "2025-03-11T19:08:40.681Z"
   },
   {
    "duration": 7,
    "start_time": "2025-03-11T19:08:40.690Z"
   },
   {
    "duration": 3094,
    "start_time": "2025-03-11T19:15:19.625Z"
   },
   {
    "duration": 2649,
    "start_time": "2025-03-11T19:15:22.722Z"
   },
   {
    "duration": 2238,
    "start_time": "2025-03-11T19:15:25.374Z"
   },
   {
    "duration": 3,
    "start_time": "2025-03-11T19:15:27.614Z"
   },
   {
    "duration": 884,
    "start_time": "2025-03-11T19:15:27.619Z"
   },
   {
    "duration": 3,
    "start_time": "2025-03-11T19:15:28.505Z"
   },
   {
    "duration": 54,
    "start_time": "2025-03-11T19:15:28.509Z"
   },
   {
    "duration": 6,
    "start_time": "2025-03-11T19:15:28.567Z"
   },
   {
    "duration": 52,
    "start_time": "2025-03-11T19:15:28.575Z"
   },
   {
    "duration": 87,
    "start_time": "2025-03-11T19:15:28.629Z"
   },
   {
    "duration": 102,
    "start_time": "2025-03-11T19:15:28.718Z"
   },
   {
    "duration": 14,
    "start_time": "2025-03-11T19:15:28.822Z"
   },
   {
    "duration": 5008,
    "start_time": "2025-03-11T19:15:28.837Z"
   },
   {
    "duration": 76,
    "start_time": "2025-03-11T19:15:33.848Z"
   },
   {
    "duration": 2262,
    "start_time": "2025-03-11T19:15:33.926Z"
   },
   {
    "duration": 34,
    "start_time": "2025-03-11T19:15:36.190Z"
   },
   {
    "duration": 9699,
    "start_time": "2025-03-11T19:15:36.225Z"
   },
   {
    "duration": 3,
    "start_time": "2025-03-11T19:15:45.926Z"
   },
   {
    "duration": 31,
    "start_time": "2025-03-11T19:15:45.930Z"
   },
   {
    "duration": 22504,
    "start_time": "2025-03-11T19:15:45.963Z"
   },
   {
    "duration": 6,
    "start_time": "2025-03-11T19:16:08.469Z"
   },
   {
    "duration": 13,
    "start_time": "2025-03-11T19:16:08.476Z"
   },
   {
    "duration": 4,
    "start_time": "2025-03-11T19:16:08.491Z"
   },
   {
    "duration": 3071,
    "start_time": "2025-03-11T19:20:15.080Z"
   },
   {
    "duration": 2795,
    "start_time": "2025-03-11T19:20:18.154Z"
   },
   {
    "duration": 2296,
    "start_time": "2025-03-11T19:20:20.951Z"
   },
   {
    "duration": 3,
    "start_time": "2025-03-11T19:20:23.248Z"
   },
   {
    "duration": 897,
    "start_time": "2025-03-11T19:20:23.253Z"
   },
   {
    "duration": 3,
    "start_time": "2025-03-11T19:20:24.152Z"
   },
   {
    "duration": 52,
    "start_time": "2025-03-11T19:20:24.166Z"
   },
   {
    "duration": 6,
    "start_time": "2025-03-11T19:20:24.220Z"
   },
   {
    "duration": 28,
    "start_time": "2025-03-11T19:20:24.228Z"
   },
   {
    "duration": 90,
    "start_time": "2025-03-11T19:20:24.258Z"
   },
   {
    "duration": 97,
    "start_time": "2025-03-11T19:20:24.350Z"
   },
   {
    "duration": 27,
    "start_time": "2025-03-11T19:20:24.448Z"
   },
   {
    "duration": 5233,
    "start_time": "2025-03-11T19:20:24.477Z"
   },
   {
    "duration": 85,
    "start_time": "2025-03-11T19:20:29.713Z"
   },
   {
    "duration": 2331,
    "start_time": "2025-03-11T19:20:29.801Z"
   },
   {
    "duration": 17,
    "start_time": "2025-03-11T19:20:32.133Z"
   },
   {
    "duration": 9802,
    "start_time": "2025-03-11T19:20:32.152Z"
   },
   {
    "duration": 2,
    "start_time": "2025-03-11T19:20:41.956Z"
   },
   {
    "duration": 47,
    "start_time": "2025-03-11T19:20:41.967Z"
   },
   {
    "duration": 23643,
    "start_time": "2025-03-11T19:20:42.015Z"
   },
   {
    "duration": 10,
    "start_time": "2025-03-11T19:21:05.659Z"
   },
   {
    "duration": 43,
    "start_time": "2025-03-11T19:21:05.670Z"
   },
   {
    "duration": 20,
    "start_time": "2025-03-11T19:21:05.715Z"
   },
   {
    "duration": 3284,
    "start_time": "2025-03-11T19:24:15.214Z"
   },
   {
    "duration": 2826,
    "start_time": "2025-03-11T19:24:18.501Z"
   },
   {
    "duration": 2410,
    "start_time": "2025-03-11T19:24:21.329Z"
   },
   {
    "duration": 2,
    "start_time": "2025-03-11T19:24:23.741Z"
   },
   {
    "duration": 935,
    "start_time": "2025-03-11T19:24:23.745Z"
   },
   {
    "duration": 3,
    "start_time": "2025-03-11T19:24:24.682Z"
   },
   {
    "duration": 42,
    "start_time": "2025-03-11T19:24:24.687Z"
   },
   {
    "duration": 7,
    "start_time": "2025-03-11T19:24:24.731Z"
   },
   {
    "duration": 50,
    "start_time": "2025-03-11T19:24:24.739Z"
   },
   {
    "duration": 72,
    "start_time": "2025-03-11T19:24:24.791Z"
   },
   {
    "duration": 105,
    "start_time": "2025-03-11T19:24:24.875Z"
   },
   {
    "duration": 15,
    "start_time": "2025-03-11T19:24:24.982Z"
   },
   {
    "duration": 5849,
    "start_time": "2025-03-11T19:24:24.999Z"
   },
   {
    "duration": 87,
    "start_time": "2025-03-11T19:24:30.851Z"
   },
   {
    "duration": 2311,
    "start_time": "2025-03-11T19:24:30.940Z"
   },
   {
    "duration": 3,
    "start_time": "2025-03-11T19:24:33.252Z"
   },
   {
    "duration": 10369,
    "start_time": "2025-03-11T19:24:33.257Z"
   },
   {
    "duration": 2,
    "start_time": "2025-03-11T19:24:43.628Z"
   },
   {
    "duration": 8,
    "start_time": "2025-03-11T19:24:43.631Z"
   },
   {
    "duration": 23515,
    "start_time": "2025-03-11T19:24:43.640Z"
   },
   {
    "duration": 159,
    "start_time": "2025-03-11T19:25:07.156Z"
   },
   {
    "duration": 0,
    "start_time": "2025-03-11T19:25:07.317Z"
   },
   {
    "duration": 0,
    "start_time": "2025-03-11T19:25:07.318Z"
   },
   {
    "duration": 0,
    "start_time": "2025-03-11T19:25:07.319Z"
   },
   {
    "duration": 0,
    "start_time": "2025-03-11T19:25:07.321Z"
   },
   {
    "duration": 0,
    "start_time": "2025-03-11T19:25:07.322Z"
   },
   {
    "duration": 0,
    "start_time": "2025-03-11T19:25:07.323Z"
   },
   {
    "duration": 17,
    "start_time": "2025-03-11T19:25:53.399Z"
   },
   {
    "duration": 162,
    "start_time": "2025-03-11T19:25:54.798Z"
   },
   {
    "duration": 7,
    "start_time": "2025-03-11T19:29:00.579Z"
   },
   {
    "duration": 3,
    "start_time": "2025-03-11T19:29:01.412Z"
   },
   {
    "duration": 4,
    "start_time": "2025-03-11T19:29:02.447Z"
   },
   {
    "duration": 3181,
    "start_time": "2025-03-11T19:30:28.205Z"
   },
   {
    "duration": 2877,
    "start_time": "2025-03-11T19:30:31.389Z"
   },
   {
    "duration": 2850,
    "start_time": "2025-03-11T19:30:34.268Z"
   },
   {
    "duration": 2,
    "start_time": "2025-03-11T19:30:37.120Z"
   },
   {
    "duration": 897,
    "start_time": "2025-03-11T19:30:37.124Z"
   },
   {
    "duration": 3,
    "start_time": "2025-03-11T19:30:38.022Z"
   },
   {
    "duration": 59,
    "start_time": "2025-03-11T19:30:38.027Z"
   },
   {
    "duration": 7,
    "start_time": "2025-03-11T19:30:38.088Z"
   },
   {
    "duration": 20,
    "start_time": "2025-03-11T19:30:38.097Z"
   },
   {
    "duration": 90,
    "start_time": "2025-03-11T19:30:38.119Z"
   },
   {
    "duration": 105,
    "start_time": "2025-03-11T19:30:38.210Z"
   },
   {
    "duration": 20,
    "start_time": "2025-03-11T19:30:38.318Z"
   },
   {
    "duration": 5279,
    "start_time": "2025-03-11T19:30:38.341Z"
   },
   {
    "duration": 83,
    "start_time": "2025-03-11T19:30:43.623Z"
   },
   {
    "duration": 2354,
    "start_time": "2025-03-11T19:30:43.707Z"
   },
   {
    "duration": 9,
    "start_time": "2025-03-11T19:30:46.066Z"
   },
   {
    "duration": 10149,
    "start_time": "2025-03-11T19:30:46.077Z"
   },
   {
    "duration": 3,
    "start_time": "2025-03-11T19:30:56.228Z"
   },
   {
    "duration": 4,
    "start_time": "2025-03-11T19:30:56.232Z"
   },
   {
    "duration": 23915,
    "start_time": "2025-03-11T19:30:56.237Z"
   },
   {
    "duration": 138,
    "start_time": "2025-03-11T19:31:20.154Z"
   },
   {
    "duration": 0,
    "start_time": "2025-03-11T19:31:20.294Z"
   },
   {
    "duration": 0,
    "start_time": "2025-03-11T19:31:20.295Z"
   },
   {
    "duration": 0,
    "start_time": "2025-03-11T19:31:20.297Z"
   },
   {
    "duration": 0,
    "start_time": "2025-03-11T19:31:20.298Z"
   },
   {
    "duration": 0,
    "start_time": "2025-03-11T19:31:20.299Z"
   },
   {
    "duration": 0,
    "start_time": "2025-03-11T19:31:20.301Z"
   },
   {
    "duration": 7,
    "start_time": "2025-03-11T19:31:22.689Z"
   },
   {
    "duration": 3,
    "start_time": "2025-03-11T19:31:23.398Z"
   },
   {
    "duration": 3,
    "start_time": "2025-03-11T19:31:24.616Z"
   },
   {
    "duration": 3093,
    "start_time": "2025-03-11T19:32:57.180Z"
   },
   {
    "duration": 2853,
    "start_time": "2025-03-11T19:33:00.275Z"
   },
   {
    "duration": 2547,
    "start_time": "2025-03-11T19:33:03.130Z"
   },
   {
    "duration": 3,
    "start_time": "2025-03-11T19:33:05.679Z"
   },
   {
    "duration": 915,
    "start_time": "2025-03-11T19:33:05.685Z"
   },
   {
    "duration": 3,
    "start_time": "2025-03-11T19:33:06.602Z"
   },
   {
    "duration": 65,
    "start_time": "2025-03-11T19:33:06.607Z"
   },
   {
    "duration": 7,
    "start_time": "2025-03-11T19:33:06.674Z"
   },
   {
    "duration": 42,
    "start_time": "2025-03-11T19:33:06.683Z"
   },
   {
    "duration": 80,
    "start_time": "2025-03-11T19:33:06.727Z"
   },
   {
    "duration": 107,
    "start_time": "2025-03-11T19:33:06.809Z"
   },
   {
    "duration": 15,
    "start_time": "2025-03-11T19:33:06.917Z"
   },
   {
    "duration": 5592,
    "start_time": "2025-03-11T19:33:06.933Z"
   },
   {
    "duration": 89,
    "start_time": "2025-03-11T19:33:12.528Z"
   },
   {
    "duration": 2389,
    "start_time": "2025-03-11T19:33:12.619Z"
   },
   {
    "duration": 12,
    "start_time": "2025-03-11T19:33:15.010Z"
   },
   {
    "duration": 10284,
    "start_time": "2025-03-11T19:33:15.023Z"
   },
   {
    "duration": 3,
    "start_time": "2025-03-11T19:33:25.309Z"
   },
   {
    "duration": 21,
    "start_time": "2025-03-11T19:33:25.313Z"
   },
   {
    "duration": 24128,
    "start_time": "2025-03-11T19:33:25.337Z"
   },
   {
    "duration": 148,
    "start_time": "2025-03-11T19:33:49.468Z"
   },
   {
    "duration": 0,
    "start_time": "2025-03-11T19:33:49.618Z"
   },
   {
    "duration": 0,
    "start_time": "2025-03-11T19:33:49.620Z"
   },
   {
    "duration": 0,
    "start_time": "2025-03-11T19:33:49.622Z"
   },
   {
    "duration": 0,
    "start_time": "2025-03-11T19:33:49.623Z"
   },
   {
    "duration": 0,
    "start_time": "2025-03-11T19:33:49.625Z"
   },
   {
    "duration": 0,
    "start_time": "2025-03-11T19:33:49.626Z"
   },
   {
    "duration": 8,
    "start_time": "2025-03-11T19:33:53.176Z"
   },
   {
    "duration": 9,
    "start_time": "2025-03-11T19:34:50.737Z"
   },
   {
    "duration": 3,
    "start_time": "2025-03-11T19:34:53.686Z"
   },
   {
    "duration": 3,
    "start_time": "2025-03-11T19:34:54.380Z"
   },
   {
    "duration": 2979,
    "start_time": "2025-03-11T19:43:13.372Z"
   },
   {
    "duration": 2635,
    "start_time": "2025-03-11T19:43:16.354Z"
   },
   {
    "duration": 2328,
    "start_time": "2025-03-11T19:43:18.991Z"
   },
   {
    "duration": 3,
    "start_time": "2025-03-11T19:43:21.320Z"
   },
   {
    "duration": 888,
    "start_time": "2025-03-11T19:43:21.325Z"
   },
   {
    "duration": 3,
    "start_time": "2025-03-11T19:43:22.215Z"
   },
   {
    "duration": 60,
    "start_time": "2025-03-11T19:43:22.220Z"
   },
   {
    "duration": 8,
    "start_time": "2025-03-11T19:43:22.282Z"
   },
   {
    "duration": 16,
    "start_time": "2025-03-11T19:43:22.291Z"
   },
   {
    "duration": 104,
    "start_time": "2025-03-11T19:43:22.308Z"
   },
   {
    "duration": 106,
    "start_time": "2025-03-11T19:43:22.414Z"
   },
   {
    "duration": 15,
    "start_time": "2025-03-11T19:43:22.521Z"
   },
   {
    "duration": 4911,
    "start_time": "2025-03-11T19:43:22.537Z"
   },
   {
    "duration": 73,
    "start_time": "2025-03-11T19:43:27.451Z"
   },
   {
    "duration": 2287,
    "start_time": "2025-03-11T19:43:27.525Z"
   },
   {
    "duration": 7,
    "start_time": "2025-03-11T19:43:29.814Z"
   },
   {
    "duration": 9617,
    "start_time": "2025-03-11T19:43:29.823Z"
   },
   {
    "duration": 3,
    "start_time": "2025-03-11T19:43:39.441Z"
   },
   {
    "duration": 5,
    "start_time": "2025-03-11T19:43:39.445Z"
   },
   {
    "duration": 22262,
    "start_time": "2025-03-11T19:43:39.451Z"
   },
   {
    "duration": 143,
    "start_time": "2025-03-11T19:44:01.715Z"
   },
   {
    "duration": 0,
    "start_time": "2025-03-11T19:44:01.859Z"
   },
   {
    "duration": 0,
    "start_time": "2025-03-11T19:44:01.860Z"
   },
   {
    "duration": 0,
    "start_time": "2025-03-11T19:44:01.867Z"
   },
   {
    "duration": 0,
    "start_time": "2025-03-11T19:44:01.868Z"
   },
   {
    "duration": 0,
    "start_time": "2025-03-11T19:44:01.869Z"
   },
   {
    "duration": 0,
    "start_time": "2025-03-11T19:44:01.870Z"
   },
   {
    "duration": 0,
    "start_time": "2025-03-11T19:44:01.872Z"
   },
   {
    "duration": 47,
    "start_time": "2025-03-11T19:45:04.775Z"
   },
   {
    "duration": 9,
    "start_time": "2025-03-11T19:45:12.845Z"
   },
   {
    "duration": 3,
    "start_time": "2025-03-11T19:45:17.421Z"
   },
   {
    "duration": 3,
    "start_time": "2025-03-11T19:45:20.687Z"
   },
   {
    "duration": 6116,
    "start_time": "2025-03-11T19:45:41.953Z"
   },
   {
    "duration": 7,
    "start_time": "2025-03-11T19:45:59.483Z"
   },
   {
    "duration": 47544,
    "start_time": "2025-03-11T19:46:00.525Z"
   },
   {
    "duration": 3,
    "start_time": "2025-03-11T19:48:28.667Z"
   },
   {
    "duration": 10,
    "start_time": "2025-03-11T19:48:29.937Z"
   },
   {
    "duration": 4,
    "start_time": "2025-03-11T19:48:36.077Z"
   },
   {
    "duration": 41178,
    "start_time": "2025-03-11T19:48:36.822Z"
   },
   {
    "duration": 3,
    "start_time": "2025-03-11T19:50:17.428Z"
   },
   {
    "duration": 3,
    "start_time": "2025-03-11T19:50:18.909Z"
   },
   {
    "duration": 36152,
    "start_time": "2025-03-11T19:50:19.737Z"
   },
   {
    "duration": 4,
    "start_time": "2025-03-11T19:51:37.611Z"
   },
   {
    "duration": 36744,
    "start_time": "2025-03-11T19:52:48.996Z"
   },
   {
    "duration": 3,
    "start_time": "2025-03-11T19:54:36.365Z"
   },
   {
    "duration": 3,
    "start_time": "2025-03-11T19:54:41.823Z"
   },
   {
    "duration": 99795,
    "start_time": "2025-03-11T19:54:42.910Z"
   },
   {
    "duration": 10,
    "start_time": "2025-03-11T19:58:03.466Z"
   },
   {
    "duration": 10,
    "start_time": "2025-03-11T19:58:30.767Z"
   },
   {
    "duration": 11,
    "start_time": "2025-03-11T19:59:16.162Z"
   },
   {
    "duration": 6,
    "start_time": "2025-03-11T20:00:15.188Z"
   },
   {
    "duration": 4,
    "start_time": "2025-03-11T20:01:08.339Z"
   },
   {
    "duration": 9,
    "start_time": "2025-03-11T20:01:12.034Z"
   },
   {
    "duration": 4,
    "start_time": "2025-03-11T20:03:09.135Z"
   },
   {
    "duration": 9822,
    "start_time": "2025-03-11T20:03:12.949Z"
   },
   {
    "duration": 3,
    "start_time": "2025-03-11T20:03:36.067Z"
   },
   {
    "duration": 2,
    "start_time": "2025-03-11T20:03:37.523Z"
   },
   {
    "duration": 21685,
    "start_time": "2025-03-11T20:03:38.444Z"
   },
   {
    "duration": 17,
    "start_time": "2025-03-11T20:04:09.524Z"
   },
   {
    "duration": 161,
    "start_time": "2025-03-11T20:04:11.126Z"
   },
   {
    "duration": 2005,
    "start_time": "2025-03-12T14:39:43.787Z"
   },
   {
    "duration": 8562,
    "start_time": "2025-03-12T14:40:46.716Z"
   },
   {
    "duration": 3474,
    "start_time": "2025-03-12T14:40:55.281Z"
   },
   {
    "duration": 18,
    "start_time": "2025-03-12T14:40:58.757Z"
   },
   {
    "duration": 0,
    "start_time": "2025-03-12T14:40:58.777Z"
   },
   {
    "duration": 0,
    "start_time": "2025-03-12T14:40:58.779Z"
   },
   {
    "duration": 0,
    "start_time": "2025-03-12T14:40:58.780Z"
   },
   {
    "duration": 0,
    "start_time": "2025-03-12T14:40:58.782Z"
   },
   {
    "duration": 1,
    "start_time": "2025-03-12T14:40:58.783Z"
   },
   {
    "duration": 0,
    "start_time": "2025-03-12T14:40:58.785Z"
   },
   {
    "duration": 14,
    "start_time": "2025-03-12T14:41:41.568Z"
   },
   {
    "duration": 3078,
    "start_time": "2025-03-12T14:42:23.154Z"
   },
   {
    "duration": 2842,
    "start_time": "2025-03-12T14:42:26.235Z"
   },
   {
    "duration": 1470,
    "start_time": "2025-03-12T14:42:29.080Z"
   },
   {
    "duration": 0,
    "start_time": "2025-03-12T14:42:30.552Z"
   },
   {
    "duration": 0,
    "start_time": "2025-03-12T14:42:30.554Z"
   },
   {
    "duration": 0,
    "start_time": "2025-03-12T14:42:30.555Z"
   },
   {
    "duration": 0,
    "start_time": "2025-03-12T14:42:30.561Z"
   },
   {
    "duration": 0,
    "start_time": "2025-03-12T14:42:30.562Z"
   },
   {
    "duration": 0,
    "start_time": "2025-03-12T14:42:30.563Z"
   },
   {
    "duration": 1,
    "start_time": "2025-03-12T14:42:30.564Z"
   },
   {
    "duration": 0,
    "start_time": "2025-03-12T14:42:30.566Z"
   },
   {
    "duration": 0,
    "start_time": "2025-03-12T14:42:30.567Z"
   },
   {
    "duration": 0,
    "start_time": "2025-03-12T14:42:30.568Z"
   },
   {
    "duration": 0,
    "start_time": "2025-03-12T14:42:30.569Z"
   },
   {
    "duration": 0,
    "start_time": "2025-03-12T14:42:30.570Z"
   },
   {
    "duration": 0,
    "start_time": "2025-03-12T14:42:30.571Z"
   },
   {
    "duration": 0,
    "start_time": "2025-03-12T14:42:30.572Z"
   },
   {
    "duration": 0,
    "start_time": "2025-03-12T14:42:30.572Z"
   },
   {
    "duration": 0,
    "start_time": "2025-03-12T14:42:30.573Z"
   },
   {
    "duration": 0,
    "start_time": "2025-03-12T14:42:30.574Z"
   },
   {
    "duration": 0,
    "start_time": "2025-03-12T14:42:30.575Z"
   },
   {
    "duration": 0,
    "start_time": "2025-03-12T14:42:30.577Z"
   },
   {
    "duration": 0,
    "start_time": "2025-03-12T14:42:30.578Z"
   },
   {
    "duration": 0,
    "start_time": "2025-03-12T14:42:30.578Z"
   },
   {
    "duration": 0,
    "start_time": "2025-03-12T14:42:30.579Z"
   },
   {
    "duration": 0,
    "start_time": "2025-03-12T14:42:30.580Z"
   },
   {
    "duration": 0,
    "start_time": "2025-03-12T14:42:30.581Z"
   },
   {
    "duration": 0,
    "start_time": "2025-03-12T14:42:30.582Z"
   },
   {
    "duration": 0,
    "start_time": "2025-03-12T14:42:30.583Z"
   },
   {
    "duration": 0,
    "start_time": "2025-03-12T14:42:30.584Z"
   },
   {
    "duration": 0,
    "start_time": "2025-03-12T14:42:30.585Z"
   },
   {
    "duration": 1386,
    "start_time": "2025-03-12T14:43:25.784Z"
   },
   {
    "duration": 4212,
    "start_time": "2025-03-12T14:43:36.550Z"
   },
   {
    "duration": 436,
    "start_time": "2025-03-12T14:43:55.025Z"
   },
   {
    "duration": 3,
    "start_time": "2025-03-12T14:44:09.349Z"
   },
   {
    "duration": 884,
    "start_time": "2025-03-12T14:44:14.059Z"
   },
   {
    "duration": 3,
    "start_time": "2025-03-12T14:44:19.162Z"
   },
   {
    "duration": 43,
    "start_time": "2025-03-12T14:44:20.067Z"
   },
   {
    "duration": 8,
    "start_time": "2025-03-12T14:44:23.436Z"
   },
   {
    "duration": 17,
    "start_time": "2025-03-12T14:44:24.038Z"
   },
   {
    "duration": 91,
    "start_time": "2025-03-12T14:44:25.412Z"
   },
   {
    "duration": 100,
    "start_time": "2025-03-12T14:44:36.325Z"
   },
   {
    "duration": 15,
    "start_time": "2025-03-12T14:44:46.843Z"
   },
   {
    "duration": 5134,
    "start_time": "2025-03-12T14:45:24.709Z"
   },
   {
    "duration": 14,
    "start_time": "2025-03-12T14:45:33.978Z"
   },
   {
    "duration": 4,
    "start_time": "2025-03-12T14:46:28.893Z"
   },
   {
    "duration": 77,
    "start_time": "2025-03-12T14:47:20.172Z"
   },
   {
    "duration": 48,
    "start_time": "2025-03-12T14:48:40.493Z"
   },
   {
    "duration": 2483,
    "start_time": "2025-03-12T14:53:32.352Z"
   },
   {
    "duration": 19,
    "start_time": "2025-03-12T14:53:46.699Z"
   },
   {
    "duration": 3083,
    "start_time": "2025-03-12T14:54:14.165Z"
   },
   {
    "duration": 2902,
    "start_time": "2025-03-12T14:54:17.250Z"
   },
   {
    "duration": 2398,
    "start_time": "2025-03-12T14:54:20.154Z"
   },
   {
    "duration": 1726,
    "start_time": "2025-03-12T14:54:22.554Z"
   },
   {
    "duration": 2,
    "start_time": "2025-03-12T14:54:24.283Z"
   },
   {
    "duration": 853,
    "start_time": "2025-03-12T14:54:24.287Z"
   },
   {
    "duration": 2,
    "start_time": "2025-03-12T14:54:25.142Z"
   },
   {
    "duration": 197,
    "start_time": "2025-03-12T14:54:25.146Z"
   },
   {
    "duration": 6,
    "start_time": "2025-03-12T14:54:25.344Z"
   },
   {
    "duration": 15,
    "start_time": "2025-03-12T14:54:25.351Z"
   },
   {
    "duration": 76,
    "start_time": "2025-03-12T14:54:25.368Z"
   },
   {
    "duration": 96,
    "start_time": "2025-03-12T14:54:25.446Z"
   },
   {
    "duration": 22,
    "start_time": "2025-03-12T14:54:25.544Z"
   },
   {
    "duration": 3,
    "start_time": "2025-03-12T14:54:25.569Z"
   },
   {
    "duration": 4978,
    "start_time": "2025-03-12T14:54:25.574Z"
   },
   {
    "duration": 77,
    "start_time": "2025-03-12T14:54:30.554Z"
   },
   {
    "duration": 149,
    "start_time": "2025-03-12T14:54:30.632Z"
   },
   {
    "duration": 0,
    "start_time": "2025-03-12T14:54:30.782Z"
   },
   {
    "duration": 0,
    "start_time": "2025-03-12T14:54:30.784Z"
   },
   {
    "duration": 0,
    "start_time": "2025-03-12T14:54:30.785Z"
   },
   {
    "duration": 0,
    "start_time": "2025-03-12T14:54:30.786Z"
   },
   {
    "duration": 0,
    "start_time": "2025-03-12T14:54:30.787Z"
   },
   {
    "duration": 1,
    "start_time": "2025-03-12T14:54:30.788Z"
   },
   {
    "duration": 0,
    "start_time": "2025-03-12T14:54:30.790Z"
   },
   {
    "duration": 0,
    "start_time": "2025-03-12T14:54:30.791Z"
   },
   {
    "duration": 0,
    "start_time": "2025-03-12T14:54:30.792Z"
   },
   {
    "duration": 0,
    "start_time": "2025-03-12T14:54:30.793Z"
   },
   {
    "duration": 0,
    "start_time": "2025-03-12T14:54:30.794Z"
   },
   {
    "duration": 0,
    "start_time": "2025-03-12T14:54:30.795Z"
   },
   {
    "duration": 0,
    "start_time": "2025-03-12T14:54:30.796Z"
   },
   {
    "duration": 0,
    "start_time": "2025-03-12T14:54:30.797Z"
   },
   {
    "duration": 0,
    "start_time": "2025-03-12T14:54:30.799Z"
   },
   {
    "duration": 0,
    "start_time": "2025-03-12T14:54:30.800Z"
   },
   {
    "duration": 0,
    "start_time": "2025-03-12T14:54:30.800Z"
   },
   {
    "duration": 22,
    "start_time": "2025-03-12T14:55:30.935Z"
   },
   {
    "duration": 3024,
    "start_time": "2025-03-12T14:56:21.519Z"
   },
   {
    "duration": 2670,
    "start_time": "2025-03-12T14:56:24.545Z"
   },
   {
    "duration": 2694,
    "start_time": "2025-03-12T14:56:27.219Z"
   },
   {
    "duration": 1653,
    "start_time": "2025-03-12T14:56:29.915Z"
   },
   {
    "duration": 2,
    "start_time": "2025-03-12T14:56:31.570Z"
   },
   {
    "duration": 897,
    "start_time": "2025-03-12T14:56:31.574Z"
   },
   {
    "duration": 3,
    "start_time": "2025-03-12T14:56:32.473Z"
   },
   {
    "duration": 82,
    "start_time": "2025-03-12T14:56:32.478Z"
   },
   {
    "duration": 37,
    "start_time": "2025-03-12T14:56:32.562Z"
   },
   {
    "duration": 68,
    "start_time": "2025-03-12T14:56:32.601Z"
   },
   {
    "duration": 115,
    "start_time": "2025-03-12T14:56:32.671Z"
   },
   {
    "duration": 112,
    "start_time": "2025-03-12T14:56:32.788Z"
   },
   {
    "duration": 14,
    "start_time": "2025-03-12T14:56:32.903Z"
   },
   {
    "duration": 46,
    "start_time": "2025-03-12T14:56:32.919Z"
   },
   {
    "duration": 5035,
    "start_time": "2025-03-12T14:56:32.966Z"
   },
   {
    "duration": 81,
    "start_time": "2025-03-12T14:56:38.003Z"
   },
   {
    "duration": 272,
    "start_time": "2025-03-12T14:56:38.086Z"
   },
   {
    "duration": 0,
    "start_time": "2025-03-12T14:56:38.359Z"
   },
   {
    "duration": 0,
    "start_time": "2025-03-12T14:56:38.361Z"
   },
   {
    "duration": 0,
    "start_time": "2025-03-12T14:56:38.362Z"
   },
   {
    "duration": 0,
    "start_time": "2025-03-12T14:56:38.363Z"
   },
   {
    "duration": 0,
    "start_time": "2025-03-12T14:56:38.365Z"
   },
   {
    "duration": 0,
    "start_time": "2025-03-12T14:56:38.366Z"
   },
   {
    "duration": 0,
    "start_time": "2025-03-12T14:56:38.367Z"
   },
   {
    "duration": 0,
    "start_time": "2025-03-12T14:56:38.368Z"
   },
   {
    "duration": 0,
    "start_time": "2025-03-12T14:56:38.369Z"
   },
   {
    "duration": 0,
    "start_time": "2025-03-12T14:56:38.370Z"
   },
   {
    "duration": 0,
    "start_time": "2025-03-12T14:56:38.371Z"
   },
   {
    "duration": 0,
    "start_time": "2025-03-12T14:56:38.372Z"
   },
   {
    "duration": 0,
    "start_time": "2025-03-12T14:56:38.373Z"
   },
   {
    "duration": 0,
    "start_time": "2025-03-12T14:56:38.374Z"
   },
   {
    "duration": 0,
    "start_time": "2025-03-12T14:56:38.375Z"
   },
   {
    "duration": 0,
    "start_time": "2025-03-12T14:56:38.376Z"
   },
   {
    "duration": 0,
    "start_time": "2025-03-12T14:56:38.378Z"
   },
   {
    "duration": 65,
    "start_time": "2025-03-12T14:59:48.579Z"
   },
   {
    "duration": 20,
    "start_time": "2025-03-12T15:01:34.646Z"
   },
   {
    "duration": 9,
    "start_time": "2025-03-12T15:04:34.389Z"
   },
   {
    "duration": 47,
    "start_time": "2025-03-12T15:04:36.653Z"
   },
   {
    "duration": 2397,
    "start_time": "2025-03-12T15:04:48.310Z"
   },
   {
    "duration": 4,
    "start_time": "2025-03-12T15:05:13.146Z"
   },
   {
    "duration": 17,
    "start_time": "2025-03-12T15:05:14.817Z"
   },
   {
    "duration": 4,
    "start_time": "2025-03-12T15:07:14.624Z"
   },
   {
    "duration": 4,
    "start_time": "2025-03-12T15:07:33.843Z"
   },
   {
    "duration": 3,
    "start_time": "2025-03-12T15:08:13.366Z"
   },
   {
    "duration": 16,
    "start_time": "2025-03-12T15:08:14.367Z"
   },
   {
    "duration": 3038,
    "start_time": "2025-03-12T15:11:26.245Z"
   },
   {
    "duration": 2808,
    "start_time": "2025-03-12T15:11:29.286Z"
   },
   {
    "duration": 2599,
    "start_time": "2025-03-12T15:11:32.096Z"
   },
   {
    "duration": 3008,
    "start_time": "2025-03-12T15:11:34.698Z"
   },
   {
    "duration": 2,
    "start_time": "2025-03-12T15:11:37.709Z"
   },
   {
    "duration": 930,
    "start_time": "2025-03-12T15:11:37.712Z"
   },
   {
    "duration": 3,
    "start_time": "2025-03-12T15:11:38.643Z"
   },
   {
    "duration": 69,
    "start_time": "2025-03-12T15:11:38.648Z"
   },
   {
    "duration": 7,
    "start_time": "2025-03-12T15:11:38.718Z"
   },
   {
    "duration": 35,
    "start_time": "2025-03-12T15:11:38.726Z"
   },
   {
    "duration": 100,
    "start_time": "2025-03-12T15:11:38.763Z"
   },
   {
    "duration": 130,
    "start_time": "2025-03-12T15:11:38.865Z"
   },
   {
    "duration": 14,
    "start_time": "2025-03-12T15:11:38.997Z"
   },
   {
    "duration": 4,
    "start_time": "2025-03-12T15:11:39.014Z"
   },
   {
    "duration": 4990,
    "start_time": "2025-03-12T15:11:39.019Z"
   },
   {
    "duration": 83,
    "start_time": "2025-03-12T15:11:44.011Z"
   },
   {
    "duration": 11,
    "start_time": "2025-03-12T15:11:44.096Z"
   },
   {
    "duration": 89,
    "start_time": "2025-03-12T15:11:44.109Z"
   },
   {
    "duration": 3447,
    "start_time": "2025-03-12T15:11:44.199Z"
   },
   {
    "duration": 3,
    "start_time": "2025-03-12T15:11:47.648Z"
   },
   {
    "duration": 165,
    "start_time": "2025-03-12T15:11:47.653Z"
   },
   {
    "duration": 0,
    "start_time": "2025-03-12T15:11:47.820Z"
   },
   {
    "duration": 0,
    "start_time": "2025-03-12T15:11:47.821Z"
   },
   {
    "duration": 0,
    "start_time": "2025-03-12T15:11:47.822Z"
   },
   {
    "duration": 0,
    "start_time": "2025-03-12T15:11:47.823Z"
   },
   {
    "duration": 0,
    "start_time": "2025-03-12T15:11:47.825Z"
   },
   {
    "duration": 0,
    "start_time": "2025-03-12T15:11:47.826Z"
   },
   {
    "duration": 0,
    "start_time": "2025-03-12T15:11:47.827Z"
   },
   {
    "duration": 0,
    "start_time": "2025-03-12T15:11:47.828Z"
   },
   {
    "duration": 0,
    "start_time": "2025-03-12T15:11:47.829Z"
   },
   {
    "duration": 0,
    "start_time": "2025-03-12T15:11:47.831Z"
   },
   {
    "duration": 0,
    "start_time": "2025-03-12T15:11:47.832Z"
   },
   {
    "duration": 0,
    "start_time": "2025-03-12T15:11:47.833Z"
   },
   {
    "duration": 0,
    "start_time": "2025-03-12T15:11:47.834Z"
   },
   {
    "duration": 0,
    "start_time": "2025-03-12T15:11:47.835Z"
   },
   {
    "duration": 3026,
    "start_time": "2025-03-12T15:16:22.263Z"
   },
   {
    "duration": 2808,
    "start_time": "2025-03-12T15:16:25.291Z"
   },
   {
    "duration": 2851,
    "start_time": "2025-03-12T15:16:28.101Z"
   },
   {
    "duration": 1760,
    "start_time": "2025-03-12T15:16:30.954Z"
   },
   {
    "duration": 3,
    "start_time": "2025-03-12T15:16:32.716Z"
   },
   {
    "duration": 891,
    "start_time": "2025-03-12T15:16:32.720Z"
   },
   {
    "duration": 3,
    "start_time": "2025-03-12T15:16:33.613Z"
   },
   {
    "duration": 61,
    "start_time": "2025-03-12T15:16:33.617Z"
   },
   {
    "duration": 9,
    "start_time": "2025-03-12T15:16:33.680Z"
   },
   {
    "duration": 37,
    "start_time": "2025-03-12T15:16:33.690Z"
   },
   {
    "duration": 78,
    "start_time": "2025-03-12T15:16:33.730Z"
   },
   {
    "duration": 111,
    "start_time": "2025-03-12T15:16:33.810Z"
   },
   {
    "duration": 14,
    "start_time": "2025-03-12T15:16:33.922Z"
   },
   {
    "duration": 6,
    "start_time": "2025-03-12T15:16:33.938Z"
   },
   {
    "duration": 5106,
    "start_time": "2025-03-12T15:16:33.945Z"
   },
   {
    "duration": 84,
    "start_time": "2025-03-12T15:16:39.053Z"
   },
   {
    "duration": 11,
    "start_time": "2025-03-12T15:16:39.138Z"
   },
   {
    "duration": 47,
    "start_time": "2025-03-12T15:16:39.163Z"
   },
   {
    "duration": 1372,
    "start_time": "2025-03-12T15:16:39.211Z"
   },
   {
    "duration": 3,
    "start_time": "2025-03-12T15:16:40.584Z"
   },
   {
    "duration": 150,
    "start_time": "2025-03-12T15:16:40.589Z"
   },
   {
    "duration": 0,
    "start_time": "2025-03-12T15:16:40.741Z"
   },
   {
    "duration": 0,
    "start_time": "2025-03-12T15:16:40.742Z"
   },
   {
    "duration": 0,
    "start_time": "2025-03-12T15:16:40.743Z"
   },
   {
    "duration": 0,
    "start_time": "2025-03-12T15:16:40.745Z"
   },
   {
    "duration": 0,
    "start_time": "2025-03-12T15:16:40.746Z"
   },
   {
    "duration": 0,
    "start_time": "2025-03-12T15:16:40.747Z"
   },
   {
    "duration": 0,
    "start_time": "2025-03-12T15:16:40.748Z"
   },
   {
    "duration": 0,
    "start_time": "2025-03-12T15:16:40.761Z"
   },
   {
    "duration": 0,
    "start_time": "2025-03-12T15:16:40.763Z"
   },
   {
    "duration": 0,
    "start_time": "2025-03-12T15:16:40.764Z"
   },
   {
    "duration": 0,
    "start_time": "2025-03-12T15:16:40.765Z"
   },
   {
    "duration": 0,
    "start_time": "2025-03-12T15:16:40.766Z"
   },
   {
    "duration": 0,
    "start_time": "2025-03-12T15:16:40.767Z"
   },
   {
    "duration": 0,
    "start_time": "2025-03-12T15:16:40.768Z"
   },
   {
    "duration": 2993,
    "start_time": "2025-03-12T15:18:39.190Z"
   },
   {
    "duration": 2719,
    "start_time": "2025-03-12T15:18:42.186Z"
   },
   {
    "duration": 2694,
    "start_time": "2025-03-12T15:18:44.908Z"
   },
   {
    "duration": 1719,
    "start_time": "2025-03-12T15:18:47.604Z"
   },
   {
    "duration": 3,
    "start_time": "2025-03-12T15:18:49.326Z"
   },
   {
    "duration": 905,
    "start_time": "2025-03-12T15:18:49.330Z"
   },
   {
    "duration": 3,
    "start_time": "2025-03-12T15:18:50.236Z"
   },
   {
    "duration": 148,
    "start_time": "2025-03-12T15:18:50.241Z"
   },
   {
    "duration": 6,
    "start_time": "2025-03-12T15:18:50.391Z"
   },
   {
    "duration": 68,
    "start_time": "2025-03-12T15:18:50.399Z"
   },
   {
    "duration": 102,
    "start_time": "2025-03-12T15:18:50.468Z"
   },
   {
    "duration": 133,
    "start_time": "2025-03-12T15:18:50.571Z"
   },
   {
    "duration": 14,
    "start_time": "2025-03-12T15:18:50.706Z"
   },
   {
    "duration": 32,
    "start_time": "2025-03-12T15:18:50.723Z"
   },
   {
    "duration": 5196,
    "start_time": "2025-03-12T15:18:50.757Z"
   },
   {
    "duration": 81,
    "start_time": "2025-03-12T15:18:55.955Z"
   },
   {
    "duration": 28,
    "start_time": "2025-03-12T15:18:56.038Z"
   },
   {
    "duration": 38,
    "start_time": "2025-03-12T15:18:56.068Z"
   },
   {
    "duration": 921,
    "start_time": "2025-03-12T15:18:56.108Z"
   },
   {
    "duration": 32,
    "start_time": "2025-03-12T15:18:57.031Z"
   },
   {
    "duration": 150,
    "start_time": "2025-03-12T15:18:57.065Z"
   },
   {
    "duration": 0,
    "start_time": "2025-03-12T15:18:57.217Z"
   },
   {
    "duration": 0,
    "start_time": "2025-03-12T15:18:57.218Z"
   },
   {
    "duration": 0,
    "start_time": "2025-03-12T15:18:57.219Z"
   },
   {
    "duration": 0,
    "start_time": "2025-03-12T15:18:57.220Z"
   },
   {
    "duration": 0,
    "start_time": "2025-03-12T15:18:57.222Z"
   },
   {
    "duration": 0,
    "start_time": "2025-03-12T15:18:57.223Z"
   },
   {
    "duration": 0,
    "start_time": "2025-03-12T15:18:57.224Z"
   },
   {
    "duration": 0,
    "start_time": "2025-03-12T15:18:57.225Z"
   },
   {
    "duration": 0,
    "start_time": "2025-03-12T15:18:57.226Z"
   },
   {
    "duration": 0,
    "start_time": "2025-03-12T15:18:57.227Z"
   },
   {
    "duration": 0,
    "start_time": "2025-03-12T15:18:57.228Z"
   },
   {
    "duration": 0,
    "start_time": "2025-03-12T15:18:57.229Z"
   },
   {
    "duration": 0,
    "start_time": "2025-03-12T15:18:57.230Z"
   },
   {
    "duration": 0,
    "start_time": "2025-03-12T15:18:57.231Z"
   },
   {
    "duration": 3007,
    "start_time": "2025-03-12T15:21:15.706Z"
   },
   {
    "duration": 2610,
    "start_time": "2025-03-12T15:21:18.715Z"
   },
   {
    "duration": 2652,
    "start_time": "2025-03-12T15:21:21.327Z"
   },
   {
    "duration": 1672,
    "start_time": "2025-03-12T15:21:23.982Z"
   },
   {
    "duration": 6,
    "start_time": "2025-03-12T15:21:25.656Z"
   },
   {
    "duration": 889,
    "start_time": "2025-03-12T15:21:25.664Z"
   },
   {
    "duration": 8,
    "start_time": "2025-03-12T15:21:26.554Z"
   },
   {
    "duration": 40,
    "start_time": "2025-03-12T15:21:26.564Z"
   },
   {
    "duration": 6,
    "start_time": "2025-03-12T15:21:26.606Z"
   },
   {
    "duration": 14,
    "start_time": "2025-03-12T15:21:26.613Z"
   },
   {
    "duration": 94,
    "start_time": "2025-03-12T15:21:26.629Z"
   },
   {
    "duration": 100,
    "start_time": "2025-03-12T15:21:26.725Z"
   },
   {
    "duration": 15,
    "start_time": "2025-03-12T15:21:26.826Z"
   },
   {
    "duration": 18,
    "start_time": "2025-03-12T15:21:26.845Z"
   },
   {
    "duration": 4938,
    "start_time": "2025-03-12T15:21:26.864Z"
   },
   {
    "duration": 81,
    "start_time": "2025-03-12T15:21:31.804Z"
   },
   {
    "duration": 153,
    "start_time": "2025-03-12T15:21:31.887Z"
   },
   {
    "duration": 0,
    "start_time": "2025-03-12T15:21:32.042Z"
   },
   {
    "duration": 0,
    "start_time": "2025-03-12T15:21:32.044Z"
   },
   {
    "duration": 0,
    "start_time": "2025-03-12T15:21:32.045Z"
   },
   {
    "duration": 0,
    "start_time": "2025-03-12T15:21:32.047Z"
   },
   {
    "duration": 0,
    "start_time": "2025-03-12T15:21:32.049Z"
   },
   {
    "duration": 0,
    "start_time": "2025-03-12T15:21:32.050Z"
   },
   {
    "duration": 0,
    "start_time": "2025-03-12T15:21:32.051Z"
   },
   {
    "duration": 0,
    "start_time": "2025-03-12T15:21:32.052Z"
   },
   {
    "duration": 0,
    "start_time": "2025-03-12T15:21:32.062Z"
   },
   {
    "duration": 0,
    "start_time": "2025-03-12T15:21:32.064Z"
   },
   {
    "duration": 0,
    "start_time": "2025-03-12T15:21:32.066Z"
   },
   {
    "duration": 0,
    "start_time": "2025-03-12T15:21:32.067Z"
   },
   {
    "duration": 0,
    "start_time": "2025-03-12T15:21:32.068Z"
   },
   {
    "duration": 0,
    "start_time": "2025-03-12T15:21:32.070Z"
   },
   {
    "duration": 0,
    "start_time": "2025-03-12T15:21:32.071Z"
   },
   {
    "duration": 0,
    "start_time": "2025-03-12T15:21:32.073Z"
   },
   {
    "duration": 0,
    "start_time": "2025-03-12T15:21:32.074Z"
   },
   {
    "duration": 0,
    "start_time": "2025-03-12T15:21:32.076Z"
   },
   {
    "duration": 0,
    "start_time": "2025-03-12T15:21:32.078Z"
   },
   {
    "duration": 2226,
    "start_time": "2025-03-12T15:21:43.795Z"
   },
   {
    "duration": 2,
    "start_time": "2025-03-12T15:22:53.342Z"
   },
   {
    "duration": 9601,
    "start_time": "2025-03-12T15:22:55.117Z"
   },
   {
    "duration": 5,
    "start_time": "2025-03-12T15:23:19.446Z"
   },
   {
    "duration": 12,
    "start_time": "2025-03-12T15:23:32.091Z"
   },
   {
    "duration": 3,
    "start_time": "2025-03-12T15:25:08.019Z"
   },
   {
    "duration": 69,
    "start_time": "2025-03-12T15:25:21.010Z"
   },
   {
    "duration": 12,
    "start_time": "2025-03-12T15:25:23.802Z"
   },
   {
    "duration": 32,
    "start_time": "2025-03-12T15:25:24.478Z"
   },
   {
    "duration": 2992,
    "start_time": "2025-03-12T15:25:45.383Z"
   },
   {
    "duration": 2645,
    "start_time": "2025-03-12T15:25:48.378Z"
   },
   {
    "duration": 2680,
    "start_time": "2025-03-12T15:25:51.025Z"
   },
   {
    "duration": 2635,
    "start_time": "2025-03-12T15:25:53.707Z"
   },
   {
    "duration": 3,
    "start_time": "2025-03-12T15:25:56.344Z"
   },
   {
    "duration": 963,
    "start_time": "2025-03-12T15:25:56.348Z"
   },
   {
    "duration": 3,
    "start_time": "2025-03-12T15:25:57.312Z"
   },
   {
    "duration": 140,
    "start_time": "2025-03-12T15:25:57.316Z"
   },
   {
    "duration": 9,
    "start_time": "2025-03-12T15:25:57.459Z"
   },
   {
    "duration": 53,
    "start_time": "2025-03-12T15:25:57.470Z"
   },
   {
    "duration": 74,
    "start_time": "2025-03-12T15:25:57.525Z"
   },
   {
    "duration": 104,
    "start_time": "2025-03-12T15:25:57.601Z"
   },
   {
    "duration": 14,
    "start_time": "2025-03-12T15:25:57.707Z"
   },
   {
    "duration": 4,
    "start_time": "2025-03-12T15:25:57.724Z"
   },
   {
    "duration": 4845,
    "start_time": "2025-03-12T15:25:57.729Z"
   },
   {
    "duration": 77,
    "start_time": "2025-03-12T15:26:02.575Z"
   },
   {
    "duration": 141,
    "start_time": "2025-03-12T15:26:02.662Z"
   },
   {
    "duration": 0,
    "start_time": "2025-03-12T15:26:02.804Z"
   },
   {
    "duration": 0,
    "start_time": "2025-03-12T15:26:02.806Z"
   },
   {
    "duration": 0,
    "start_time": "2025-03-12T15:26:02.807Z"
   },
   {
    "duration": 0,
    "start_time": "2025-03-12T15:26:02.808Z"
   },
   {
    "duration": 0,
    "start_time": "2025-03-12T15:26:02.809Z"
   },
   {
    "duration": 0,
    "start_time": "2025-03-12T15:26:02.810Z"
   },
   {
    "duration": 0,
    "start_time": "2025-03-12T15:26:02.811Z"
   },
   {
    "duration": 0,
    "start_time": "2025-03-12T15:26:02.812Z"
   },
   {
    "duration": 0,
    "start_time": "2025-03-12T15:26:02.813Z"
   },
   {
    "duration": 0,
    "start_time": "2025-03-12T15:26:02.814Z"
   },
   {
    "duration": 1,
    "start_time": "2025-03-12T15:26:02.815Z"
   },
   {
    "duration": 0,
    "start_time": "2025-03-12T15:26:02.816Z"
   },
   {
    "duration": 0,
    "start_time": "2025-03-12T15:26:02.818Z"
   },
   {
    "duration": 0,
    "start_time": "2025-03-12T15:26:02.819Z"
   },
   {
    "duration": 0,
    "start_time": "2025-03-12T15:26:02.820Z"
   },
   {
    "duration": 0,
    "start_time": "2025-03-12T15:26:02.821Z"
   },
   {
    "duration": 0,
    "start_time": "2025-03-12T15:26:02.822Z"
   },
   {
    "duration": 0,
    "start_time": "2025-03-12T15:26:02.823Z"
   },
   {
    "duration": 0,
    "start_time": "2025-03-12T15:26:02.824Z"
   },
   {
    "duration": 0,
    "start_time": "2025-03-12T15:26:02.825Z"
   },
   {
    "duration": 12,
    "start_time": "2025-03-12T15:26:13.143Z"
   },
   {
    "duration": 36,
    "start_time": "2025-03-12T15:26:13.769Z"
   },
   {
    "duration": 2156,
    "start_time": "2025-03-12T15:26:14.680Z"
   },
   {
    "duration": 4,
    "start_time": "2025-03-12T15:26:17.386Z"
   },
   {
    "duration": 3,
    "start_time": "2025-03-12T15:26:20.967Z"
   },
   {
    "duration": 19,
    "start_time": "2025-03-12T15:26:21.441Z"
   },
   {
    "duration": 13,
    "start_time": "2025-03-12T15:26:48.443Z"
   },
   {
    "duration": 2981,
    "start_time": "2025-03-12T15:27:32.813Z"
   },
   {
    "duration": 2721,
    "start_time": "2025-03-12T15:27:35.797Z"
   },
   {
    "duration": 2585,
    "start_time": "2025-03-12T15:27:38.521Z"
   },
   {
    "duration": 1611,
    "start_time": "2025-03-12T15:27:41.108Z"
   },
   {
    "duration": 2,
    "start_time": "2025-03-12T15:27:42.722Z"
   },
   {
    "duration": 879,
    "start_time": "2025-03-12T15:27:42.726Z"
   },
   {
    "duration": 3,
    "start_time": "2025-03-12T15:27:43.607Z"
   },
   {
    "duration": 59,
    "start_time": "2025-03-12T15:27:43.611Z"
   },
   {
    "duration": 7,
    "start_time": "2025-03-12T15:27:43.672Z"
   },
   {
    "duration": 22,
    "start_time": "2025-03-12T15:27:43.680Z"
   },
   {
    "duration": 89,
    "start_time": "2025-03-12T15:27:43.704Z"
   },
   {
    "duration": 103,
    "start_time": "2025-03-12T15:27:43.795Z"
   },
   {
    "duration": 14,
    "start_time": "2025-03-12T15:27:43.900Z"
   },
   {
    "duration": 3,
    "start_time": "2025-03-12T15:27:43.917Z"
   },
   {
    "duration": 4935,
    "start_time": "2025-03-12T15:27:43.922Z"
   },
   {
    "duration": 69,
    "start_time": "2025-03-12T15:27:48.859Z"
   },
   {
    "duration": 150,
    "start_time": "2025-03-12T15:27:48.929Z"
   },
   {
    "duration": 0,
    "start_time": "2025-03-12T15:27:49.081Z"
   },
   {
    "duration": 0,
    "start_time": "2025-03-12T15:27:49.082Z"
   },
   {
    "duration": 0,
    "start_time": "2025-03-12T15:27:49.083Z"
   },
   {
    "duration": 0,
    "start_time": "2025-03-12T15:27:49.084Z"
   },
   {
    "duration": 0,
    "start_time": "2025-03-12T15:27:49.085Z"
   },
   {
    "duration": 0,
    "start_time": "2025-03-12T15:27:49.086Z"
   },
   {
    "duration": 0,
    "start_time": "2025-03-12T15:27:49.087Z"
   },
   {
    "duration": 0,
    "start_time": "2025-03-12T15:27:49.088Z"
   },
   {
    "duration": 0,
    "start_time": "2025-03-12T15:27:49.089Z"
   },
   {
    "duration": 0,
    "start_time": "2025-03-12T15:27:49.090Z"
   },
   {
    "duration": 0,
    "start_time": "2025-03-12T15:27:49.091Z"
   },
   {
    "duration": 0,
    "start_time": "2025-03-12T15:27:49.092Z"
   },
   {
    "duration": 0,
    "start_time": "2025-03-12T15:27:49.093Z"
   },
   {
    "duration": 0,
    "start_time": "2025-03-12T15:27:49.094Z"
   },
   {
    "duration": 0,
    "start_time": "2025-03-12T15:27:49.095Z"
   },
   {
    "duration": 0,
    "start_time": "2025-03-12T15:27:49.096Z"
   },
   {
    "duration": 0,
    "start_time": "2025-03-12T15:27:49.097Z"
   },
   {
    "duration": 0,
    "start_time": "2025-03-12T15:27:49.099Z"
   },
   {
    "duration": 0,
    "start_time": "2025-03-12T15:27:49.100Z"
   },
   {
    "duration": 0,
    "start_time": "2025-03-12T15:27:49.101Z"
   },
   {
    "duration": 11,
    "start_time": "2025-03-12T15:27:58.918Z"
   },
   {
    "duration": 35,
    "start_time": "2025-03-12T15:27:59.409Z"
   },
   {
    "duration": 15,
    "start_time": "2025-03-12T15:28:00.337Z"
   },
   {
    "duration": 8,
    "start_time": "2025-03-12T15:28:15.980Z"
   },
   {
    "duration": 3,
    "start_time": "2025-03-12T15:28:32.219Z"
   },
   {
    "duration": 893,
    "start_time": "2025-03-12T15:28:41.801Z"
   },
   {
    "duration": 3,
    "start_time": "2025-03-12T15:28:44.668Z"
   },
   {
    "duration": 3541,
    "start_time": "2025-03-12T15:28:45.211Z"
   },
   {
    "duration": 4,
    "start_time": "2025-03-12T15:29:33.298Z"
   },
   {
    "duration": 3435,
    "start_time": "2025-03-12T15:29:35.099Z"
   },
   {
    "duration": 3,
    "start_time": "2025-03-12T15:29:55.578Z"
   },
   {
    "duration": 3,
    "start_time": "2025-03-12T15:29:56.773Z"
   },
   {
    "duration": 20,
    "start_time": "2025-03-12T15:29:58.327Z"
   },
   {
    "duration": 1788,
    "start_time": "2025-03-12T15:30:35.491Z"
   },
   {
    "duration": 2,
    "start_time": "2025-03-12T15:30:53.971Z"
   },
   {
    "duration": 2225,
    "start_time": "2025-03-12T15:30:55.093Z"
   },
   {
    "duration": 14,
    "start_time": "2025-03-12T15:31:19.155Z"
   },
   {
    "duration": 152,
    "start_time": "2025-03-12T15:31:32.733Z"
   },
   {
    "duration": 2938,
    "start_time": "2025-03-12T15:32:06.401Z"
   },
   {
    "duration": 2584,
    "start_time": "2025-03-12T15:32:09.341Z"
   },
   {
    "duration": 2601,
    "start_time": "2025-03-12T15:32:11.927Z"
   },
   {
    "duration": 1672,
    "start_time": "2025-03-12T15:32:14.530Z"
   },
   {
    "duration": 3,
    "start_time": "2025-03-12T15:32:16.205Z"
   },
   {
    "duration": 899,
    "start_time": "2025-03-12T15:32:16.209Z"
   },
   {
    "duration": 3,
    "start_time": "2025-03-12T15:32:17.109Z"
   },
   {
    "duration": 51,
    "start_time": "2025-03-12T15:32:17.114Z"
   },
   {
    "duration": 6,
    "start_time": "2025-03-12T15:32:17.166Z"
   },
   {
    "duration": 22,
    "start_time": "2025-03-12T15:32:17.174Z"
   },
   {
    "duration": 86,
    "start_time": "2025-03-12T15:32:17.197Z"
   },
   {
    "duration": 114,
    "start_time": "2025-03-12T15:32:17.285Z"
   },
   {
    "duration": 16,
    "start_time": "2025-03-12T15:32:17.401Z"
   },
   {
    "duration": 4,
    "start_time": "2025-03-12T15:32:17.420Z"
   },
   {
    "duration": 5010,
    "start_time": "2025-03-12T15:32:17.426Z"
   },
   {
    "duration": 82,
    "start_time": "2025-03-12T15:32:22.438Z"
   },
   {
    "duration": 11,
    "start_time": "2025-03-12T15:32:22.522Z"
   },
   {
    "duration": 76,
    "start_time": "2025-03-12T15:32:22.534Z"
   },
   {
    "duration": 26,
    "start_time": "2025-03-12T15:32:22.611Z"
   },
   {
    "duration": 909,
    "start_time": "2025-03-12T15:32:22.639Z"
   },
   {
    "duration": 29,
    "start_time": "2025-03-12T15:32:23.550Z"
   },
   {
    "duration": 3842,
    "start_time": "2025-03-12T15:32:23.581Z"
   },
   {
    "duration": 3,
    "start_time": "2025-03-12T15:32:27.425Z"
   },
   {
    "duration": 48,
    "start_time": "2025-03-12T15:32:27.429Z"
   },
   {
    "duration": 200789,
    "start_time": "2025-03-12T15:32:27.479Z"
   },
   {
    "duration": 240,
    "start_time": "2025-03-12T15:35:48.270Z"
   },
   {
    "duration": 0,
    "start_time": "2025-03-12T15:35:48.511Z"
   },
   {
    "duration": 0,
    "start_time": "2025-03-12T15:35:48.513Z"
   },
   {
    "duration": 0,
    "start_time": "2025-03-12T15:35:48.514Z"
   },
   {
    "duration": 0,
    "start_time": "2025-03-12T15:35:48.515Z"
   },
   {
    "duration": 0,
    "start_time": "2025-03-12T15:35:48.517Z"
   },
   {
    "duration": 0,
    "start_time": "2025-03-12T15:35:48.518Z"
   },
   {
    "duration": 0,
    "start_time": "2025-03-12T15:35:48.519Z"
   },
   {
    "duration": 0,
    "start_time": "2025-03-12T15:35:48.520Z"
   },
   {
    "duration": 0,
    "start_time": "2025-03-12T15:35:48.521Z"
   },
   {
    "duration": 0,
    "start_time": "2025-03-12T15:35:48.522Z"
   },
   {
    "duration": 18,
    "start_time": "2025-03-12T15:36:10.040Z"
   },
   {
    "duration": 171,
    "start_time": "2025-03-12T15:36:17.477Z"
   },
   {
    "duration": 2980,
    "start_time": "2025-03-12T15:46:49.620Z"
   },
   {
    "duration": 2732,
    "start_time": "2025-03-12T15:46:52.602Z"
   },
   {
    "duration": 2745,
    "start_time": "2025-03-12T15:46:55.336Z"
   },
   {
    "duration": 1692,
    "start_time": "2025-03-12T15:46:58.083Z"
   },
   {
    "duration": 3,
    "start_time": "2025-03-12T15:46:59.777Z"
   },
   {
    "duration": 872,
    "start_time": "2025-03-12T15:46:59.781Z"
   },
   {
    "duration": 3,
    "start_time": "2025-03-12T15:47:00.654Z"
   },
   {
    "duration": 44,
    "start_time": "2025-03-12T15:47:00.662Z"
   },
   {
    "duration": 6,
    "start_time": "2025-03-12T15:47:00.708Z"
   },
   {
    "duration": 22,
    "start_time": "2025-03-12T15:47:00.715Z"
   },
   {
    "duration": 98,
    "start_time": "2025-03-12T15:47:00.738Z"
   },
   {
    "duration": 101,
    "start_time": "2025-03-12T15:47:00.837Z"
   },
   {
    "duration": 23,
    "start_time": "2025-03-12T15:47:00.939Z"
   },
   {
    "duration": 3,
    "start_time": "2025-03-12T15:47:00.965Z"
   },
   {
    "duration": 5004,
    "start_time": "2025-03-12T15:47:00.969Z"
   },
   {
    "duration": 74,
    "start_time": "2025-03-12T15:47:05.974Z"
   },
   {
    "duration": 154,
    "start_time": "2025-03-12T15:47:06.050Z"
   },
   {
    "duration": 0,
    "start_time": "2025-03-12T15:47:06.205Z"
   },
   {
    "duration": 0,
    "start_time": "2025-03-12T15:47:06.206Z"
   },
   {
    "duration": 0,
    "start_time": "2025-03-12T15:47:06.207Z"
   },
   {
    "duration": 0,
    "start_time": "2025-03-12T15:47:06.208Z"
   },
   {
    "duration": 0,
    "start_time": "2025-03-12T15:47:06.209Z"
   },
   {
    "duration": 0,
    "start_time": "2025-03-12T15:47:06.210Z"
   },
   {
    "duration": 0,
    "start_time": "2025-03-12T15:47:06.211Z"
   },
   {
    "duration": 0,
    "start_time": "2025-03-12T15:47:06.212Z"
   },
   {
    "duration": 0,
    "start_time": "2025-03-12T15:47:06.213Z"
   },
   {
    "duration": 0,
    "start_time": "2025-03-12T15:47:06.214Z"
   },
   {
    "duration": 0,
    "start_time": "2025-03-12T15:47:06.215Z"
   },
   {
    "duration": 0,
    "start_time": "2025-03-12T15:47:06.216Z"
   },
   {
    "duration": 0,
    "start_time": "2025-03-12T15:47:06.217Z"
   },
   {
    "duration": 0,
    "start_time": "2025-03-12T15:47:06.218Z"
   },
   {
    "duration": 0,
    "start_time": "2025-03-12T15:47:06.219Z"
   },
   {
    "duration": 0,
    "start_time": "2025-03-12T15:47:06.220Z"
   },
   {
    "duration": 0,
    "start_time": "2025-03-12T15:47:06.221Z"
   },
   {
    "duration": 0,
    "start_time": "2025-03-12T15:47:06.222Z"
   },
   {
    "duration": 0,
    "start_time": "2025-03-12T15:47:06.223Z"
   },
   {
    "duration": 0,
    "start_time": "2025-03-12T15:47:06.224Z"
   },
   {
    "duration": 2171,
    "start_time": "2025-03-12T15:50:19.640Z"
   },
   {
    "duration": 27,
    "start_time": "2025-03-12T15:50:21.813Z"
   },
   {
    "duration": 10319,
    "start_time": "2025-03-12T15:50:25.763Z"
   },
   {
    "duration": 95,
    "start_time": "2025-03-12T15:50:58.411Z"
   },
   {
    "duration": 15,
    "start_time": "2025-03-12T15:51:03.988Z"
   },
   {
    "duration": 9402,
    "start_time": "2025-03-12T15:51:05.471Z"
   },
   {
    "duration": 6,
    "start_time": "2025-03-12T15:51:26.943Z"
   },
   {
    "duration": 9953,
    "start_time": "2025-03-12T15:51:27.869Z"
   },
   {
    "duration": 3,
    "start_time": "2025-03-12T15:52:27.406Z"
   },
   {
    "duration": 3,
    "start_time": "2025-03-12T15:52:27.910Z"
   },
   {
    "duration": 22455,
    "start_time": "2025-03-12T15:52:28.526Z"
   },
   {
    "duration": 16,
    "start_time": "2025-03-12T15:52:58.383Z"
   },
   {
    "duration": 176,
    "start_time": "2025-03-12T15:53:00.043Z"
   },
   {
    "duration": 3,
    "start_time": "2025-03-12T15:54:29.324Z"
   },
   {
    "duration": 3,
    "start_time": "2025-03-12T15:54:29.944Z"
   },
   {
    "duration": 22469,
    "start_time": "2025-03-12T15:54:30.769Z"
   },
   {
    "duration": 15,
    "start_time": "2025-03-12T15:55:03.093Z"
   },
   {
    "duration": 166,
    "start_time": "2025-03-12T15:55:05.205Z"
   },
   {
    "duration": 3,
    "start_time": "2025-03-12T15:57:59.912Z"
   },
   {
    "duration": 3,
    "start_time": "2025-03-12T15:58:00.393Z"
   },
   {
    "duration": 2,
    "start_time": "2025-03-12T15:58:01.683Z"
   },
   {
    "duration": 17760,
    "start_time": "2025-03-12T15:58:02.621Z"
   },
   {
    "duration": 17,
    "start_time": "2025-03-12T15:58:33.456Z"
   },
   {
    "duration": 162,
    "start_time": "2025-03-12T15:58:35.203Z"
   },
   {
    "duration": 3,
    "start_time": "2025-03-12T15:58:49.918Z"
   },
   {
    "duration": 3,
    "start_time": "2025-03-12T15:58:50.556Z"
   },
   {
    "duration": 3,
    "start_time": "2025-03-12T15:58:51.275Z"
   },
   {
    "duration": 25537,
    "start_time": "2025-03-12T15:58:52.383Z"
   },
   {
    "duration": 16,
    "start_time": "2025-03-12T15:59:46.275Z"
   },
   {
    "duration": 159,
    "start_time": "2025-03-12T15:59:52.215Z"
   },
   {
    "duration": 4,
    "start_time": "2025-03-12T16:04:53.507Z"
   },
   {
    "duration": 9837,
    "start_time": "2025-03-12T16:04:54.782Z"
   },
   {
    "duration": 4,
    "start_time": "2025-03-12T16:05:30.472Z"
   },
   {
    "duration": 2,
    "start_time": "2025-03-12T16:05:31.179Z"
   },
   {
    "duration": 3,
    "start_time": "2025-03-12T16:05:41.920Z"
   },
   {
    "duration": 715922,
    "start_time": "2025-03-12T16:05:43.053Z"
   },
   {
    "duration": 16,
    "start_time": "2025-03-12T16:18:54.285Z"
   },
   {
    "duration": 166,
    "start_time": "2025-03-12T16:18:55.845Z"
   },
   {
    "duration": 3067,
    "start_time": "2025-03-12T16:19:33.664Z"
   },
   {
    "duration": 2732,
    "start_time": "2025-03-12T16:19:36.734Z"
   },
   {
    "duration": 2789,
    "start_time": "2025-03-12T16:19:39.468Z"
   },
   {
    "duration": 1767,
    "start_time": "2025-03-12T16:19:42.259Z"
   },
   {
    "duration": 2,
    "start_time": "2025-03-12T16:19:44.028Z"
   },
   {
    "duration": 986,
    "start_time": "2025-03-12T16:19:44.032Z"
   },
   {
    "duration": 3,
    "start_time": "2025-03-12T16:19:45.020Z"
   },
   {
    "duration": 92,
    "start_time": "2025-03-12T16:19:45.025Z"
   },
   {
    "duration": 12,
    "start_time": "2025-03-12T16:19:45.119Z"
   },
   {
    "duration": 34,
    "start_time": "2025-03-12T16:19:45.133Z"
   },
   {
    "duration": 107,
    "start_time": "2025-03-12T16:19:45.169Z"
   },
   {
    "duration": 113,
    "start_time": "2025-03-12T16:19:45.278Z"
   },
   {
    "duration": 14,
    "start_time": "2025-03-12T16:19:45.393Z"
   },
   {
    "duration": 3,
    "start_time": "2025-03-12T16:19:45.411Z"
   },
   {
    "duration": 5097,
    "start_time": "2025-03-12T16:19:45.416Z"
   },
   {
    "duration": 80,
    "start_time": "2025-03-12T16:19:50.514Z"
   },
   {
    "duration": 161,
    "start_time": "2025-03-12T16:19:50.596Z"
   },
   {
    "duration": 0,
    "start_time": "2025-03-12T16:19:50.758Z"
   },
   {
    "duration": 0,
    "start_time": "2025-03-12T16:19:50.759Z"
   },
   {
    "duration": 0,
    "start_time": "2025-03-12T16:19:50.760Z"
   },
   {
    "duration": 0,
    "start_time": "2025-03-12T16:19:50.762Z"
   },
   {
    "duration": 0,
    "start_time": "2025-03-12T16:19:50.763Z"
   },
   {
    "duration": 0,
    "start_time": "2025-03-12T16:19:50.764Z"
   },
   {
    "duration": 0,
    "start_time": "2025-03-12T16:19:50.765Z"
   },
   {
    "duration": 0,
    "start_time": "2025-03-12T16:19:50.766Z"
   },
   {
    "duration": 0,
    "start_time": "2025-03-12T16:19:50.767Z"
   },
   {
    "duration": 0,
    "start_time": "2025-03-12T16:19:50.768Z"
   },
   {
    "duration": 0,
    "start_time": "2025-03-12T16:19:50.769Z"
   },
   {
    "duration": 0,
    "start_time": "2025-03-12T16:19:50.770Z"
   },
   {
    "duration": 0,
    "start_time": "2025-03-12T16:19:50.771Z"
   },
   {
    "duration": 0,
    "start_time": "2025-03-12T16:19:50.772Z"
   },
   {
    "duration": 0,
    "start_time": "2025-03-12T16:19:50.773Z"
   },
   {
    "duration": 0,
    "start_time": "2025-03-12T16:19:50.774Z"
   },
   {
    "duration": 0,
    "start_time": "2025-03-12T16:19:50.776Z"
   },
   {
    "duration": 0,
    "start_time": "2025-03-12T16:19:50.777Z"
   },
   {
    "duration": 0,
    "start_time": "2025-03-12T16:19:50.778Z"
   },
   {
    "duration": 0,
    "start_time": "2025-03-12T16:19:50.779Z"
   },
   {
    "duration": 0,
    "start_time": "2025-03-12T16:19:50.781Z"
   },
   {
    "duration": 57,
    "start_time": "2025-03-12T16:20:09.281Z"
   },
   {
    "duration": 770,
    "start_time": "2025-03-12T16:21:46.479Z"
   },
   {
    "duration": 3,
    "start_time": "2025-03-12T16:24:07.821Z"
   },
   {
    "duration": 9753,
    "start_time": "2025-03-12T16:24:30.802Z"
   },
   {
    "duration": 9786,
    "start_time": "2025-03-12T16:24:49.010Z"
   },
   {
    "duration": 2,
    "start_time": "2025-03-12T16:26:34.380Z"
   },
   {
    "duration": 2,
    "start_time": "2025-03-12T16:26:35.869Z"
   },
   {
    "duration": 16,
    "start_time": "2025-03-12T16:26:37.728Z"
   },
   {
    "duration": 6261,
    "start_time": "2025-03-12T16:27:01.126Z"
   },
   {
    "duration": 26,
    "start_time": "2025-03-12T16:27:24.763Z"
   },
   {
    "duration": 184,
    "start_time": "2025-03-12T16:27:29.719Z"
   },
   {
    "duration": 2,
    "start_time": "2025-03-12T16:27:39.618Z"
   },
   {
    "duration": 2,
    "start_time": "2025-03-12T16:27:40.546Z"
   },
   {
    "duration": 4249,
    "start_time": "2025-03-12T16:27:41.690Z"
   },
   {
    "duration": 27,
    "start_time": "2025-03-12T16:27:49.723Z"
   },
   {
    "duration": 170,
    "start_time": "2025-03-12T16:27:51.067Z"
   },
   {
    "duration": 3097,
    "start_time": "2025-03-12T16:28:44.751Z"
   },
   {
    "duration": 2672,
    "start_time": "2025-03-12T16:28:47.851Z"
   },
   {
    "duration": 2750,
    "start_time": "2025-03-12T16:28:50.525Z"
   },
   {
    "duration": 1943,
    "start_time": "2025-03-12T16:28:53.277Z"
   },
   {
    "duration": 4,
    "start_time": "2025-03-12T16:28:55.222Z"
   },
   {
    "duration": 913,
    "start_time": "2025-03-12T16:28:55.227Z"
   },
   {
    "duration": 2,
    "start_time": "2025-03-12T16:28:56.142Z"
   },
   {
    "duration": 52,
    "start_time": "2025-03-12T16:28:56.145Z"
   },
   {
    "duration": 6,
    "start_time": "2025-03-12T16:28:56.199Z"
   },
   {
    "duration": 18,
    "start_time": "2025-03-12T16:28:56.206Z"
   },
   {
    "duration": 92,
    "start_time": "2025-03-12T16:28:56.226Z"
   },
   {
    "duration": 104,
    "start_time": "2025-03-12T16:28:56.319Z"
   },
   {
    "duration": 14,
    "start_time": "2025-03-12T16:28:56.425Z"
   },
   {
    "duration": 3,
    "start_time": "2025-03-12T16:28:56.443Z"
   },
   {
    "duration": 5074,
    "start_time": "2025-03-12T16:28:56.447Z"
   },
   {
    "duration": 83,
    "start_time": "2025-03-12T16:29:01.523Z"
   },
   {
    "duration": 146,
    "start_time": "2025-03-12T16:29:01.607Z"
   },
   {
    "duration": 0,
    "start_time": "2025-03-12T16:29:01.755Z"
   },
   {
    "duration": 0,
    "start_time": "2025-03-12T16:29:01.761Z"
   },
   {
    "duration": 0,
    "start_time": "2025-03-12T16:29:01.763Z"
   },
   {
    "duration": 0,
    "start_time": "2025-03-12T16:29:01.764Z"
   },
   {
    "duration": 0,
    "start_time": "2025-03-12T16:29:01.765Z"
   },
   {
    "duration": 0,
    "start_time": "2025-03-12T16:29:01.766Z"
   },
   {
    "duration": 0,
    "start_time": "2025-03-12T16:29:01.767Z"
   },
   {
    "duration": 0,
    "start_time": "2025-03-12T16:29:01.768Z"
   },
   {
    "duration": 0,
    "start_time": "2025-03-12T16:29:01.769Z"
   },
   {
    "duration": 0,
    "start_time": "2025-03-12T16:29:01.770Z"
   },
   {
    "duration": 0,
    "start_time": "2025-03-12T16:29:01.770Z"
   },
   {
    "duration": 0,
    "start_time": "2025-03-12T16:29:01.772Z"
   },
   {
    "duration": 0,
    "start_time": "2025-03-12T16:29:01.773Z"
   },
   {
    "duration": 0,
    "start_time": "2025-03-12T16:29:01.774Z"
   },
   {
    "duration": 0,
    "start_time": "2025-03-12T16:29:01.775Z"
   },
   {
    "duration": 0,
    "start_time": "2025-03-12T16:29:01.776Z"
   },
   {
    "duration": 0,
    "start_time": "2025-03-12T16:29:01.777Z"
   },
   {
    "duration": 0,
    "start_time": "2025-03-12T16:29:01.778Z"
   },
   {
    "duration": 0,
    "start_time": "2025-03-12T16:29:01.779Z"
   },
   {
    "duration": 0,
    "start_time": "2025-03-12T16:29:01.780Z"
   },
   {
    "duration": 0,
    "start_time": "2025-03-12T16:29:01.781Z"
   },
   {
    "duration": 0,
    "start_time": "2025-03-12T16:29:01.782Z"
   },
   {
    "duration": 0,
    "start_time": "2025-03-12T16:29:01.783Z"
   },
   {
    "duration": 0,
    "start_time": "2025-03-12T16:29:01.784Z"
   },
   {
    "duration": 0,
    "start_time": "2025-03-12T16:29:01.785Z"
   },
   {
    "duration": 0,
    "start_time": "2025-03-12T16:29:01.786Z"
   },
   {
    "duration": 0,
    "start_time": "2025-03-12T16:29:01.787Z"
   },
   {
    "duration": 54,
    "start_time": "2025-03-12T16:29:34.133Z"
   },
   {
    "duration": 748,
    "start_time": "2025-03-12T16:29:46.240Z"
   },
   {
    "duration": 3,
    "start_time": "2025-03-12T16:29:48.655Z"
   },
   {
    "duration": 8926,
    "start_time": "2025-03-12T16:29:49.288Z"
   },
   {
    "duration": 3,
    "start_time": "2025-03-12T16:30:09.820Z"
   },
   {
    "duration": 3,
    "start_time": "2025-03-12T16:30:10.322Z"
   },
   {
    "duration": 4312,
    "start_time": "2025-03-12T16:30:10.791Z"
   },
   {
    "duration": 26,
    "start_time": "2025-03-12T16:30:19.896Z"
   },
   {
    "duration": 172,
    "start_time": "2025-03-12T16:30:21.241Z"
   },
   {
    "duration": 2,
    "start_time": "2025-03-12T16:30:47.682Z"
   },
   {
    "duration": 3,
    "start_time": "2025-03-12T16:30:48.199Z"
   },
   {
    "duration": 4199,
    "start_time": "2025-03-12T16:30:49.148Z"
   },
   {
    "duration": 25,
    "start_time": "2025-03-12T16:30:57.320Z"
   },
   {
    "duration": 166,
    "start_time": "2025-03-12T16:30:58.915Z"
   },
   {
    "duration": 3088,
    "start_time": "2025-03-12T16:31:44.083Z"
   },
   {
    "duration": 2773,
    "start_time": "2025-03-12T16:31:47.173Z"
   },
   {
    "duration": 2622,
    "start_time": "2025-03-12T16:31:49.948Z"
   },
   {
    "duration": 1734,
    "start_time": "2025-03-12T16:31:52.572Z"
   },
   {
    "duration": 3,
    "start_time": "2025-03-12T16:31:54.308Z"
   },
   {
    "duration": 887,
    "start_time": "2025-03-12T16:31:54.312Z"
   },
   {
    "duration": 2,
    "start_time": "2025-03-12T16:31:55.201Z"
   },
   {
    "duration": 61,
    "start_time": "2025-03-12T16:31:55.205Z"
   },
   {
    "duration": 6,
    "start_time": "2025-03-12T16:31:55.268Z"
   },
   {
    "duration": 14,
    "start_time": "2025-03-12T16:31:55.276Z"
   },
   {
    "duration": 98,
    "start_time": "2025-03-12T16:31:55.291Z"
   },
   {
    "duration": 98,
    "start_time": "2025-03-12T16:31:55.391Z"
   },
   {
    "duration": 13,
    "start_time": "2025-03-12T16:31:55.491Z"
   },
   {
    "duration": 9,
    "start_time": "2025-03-12T16:31:55.506Z"
   },
   {
    "duration": 5121,
    "start_time": "2025-03-12T16:31:55.516Z"
   },
   {
    "duration": 81,
    "start_time": "2025-03-12T16:32:00.639Z"
   },
   {
    "duration": 212,
    "start_time": "2025-03-12T16:32:00.721Z"
   },
   {
    "duration": 1,
    "start_time": "2025-03-12T16:32:00.934Z"
   },
   {
    "duration": 0,
    "start_time": "2025-03-12T16:32:00.936Z"
   },
   {
    "duration": 0,
    "start_time": "2025-03-12T16:32:00.937Z"
   },
   {
    "duration": 0,
    "start_time": "2025-03-12T16:32:00.938Z"
   },
   {
    "duration": 0,
    "start_time": "2025-03-12T16:32:00.939Z"
   },
   {
    "duration": 0,
    "start_time": "2025-03-12T16:32:00.940Z"
   },
   {
    "duration": 0,
    "start_time": "2025-03-12T16:32:00.941Z"
   },
   {
    "duration": 0,
    "start_time": "2025-03-12T16:32:00.942Z"
   },
   {
    "duration": 0,
    "start_time": "2025-03-12T16:32:00.943Z"
   },
   {
    "duration": 0,
    "start_time": "2025-03-12T16:32:00.944Z"
   },
   {
    "duration": 0,
    "start_time": "2025-03-12T16:32:00.945Z"
   },
   {
    "duration": 0,
    "start_time": "2025-03-12T16:32:00.946Z"
   },
   {
    "duration": 1,
    "start_time": "2025-03-12T16:32:00.962Z"
   },
   {
    "duration": 0,
    "start_time": "2025-03-12T16:32:00.964Z"
   },
   {
    "duration": 0,
    "start_time": "2025-03-12T16:32:00.965Z"
   },
   {
    "duration": 0,
    "start_time": "2025-03-12T16:32:00.966Z"
   },
   {
    "duration": 0,
    "start_time": "2025-03-12T16:32:00.967Z"
   },
   {
    "duration": 0,
    "start_time": "2025-03-12T16:32:00.968Z"
   },
   {
    "duration": 0,
    "start_time": "2025-03-12T16:32:00.969Z"
   },
   {
    "duration": 0,
    "start_time": "2025-03-12T16:32:00.970Z"
   },
   {
    "duration": 0,
    "start_time": "2025-03-12T16:32:00.971Z"
   },
   {
    "duration": 0,
    "start_time": "2025-03-12T16:32:00.972Z"
   },
   {
    "duration": 0,
    "start_time": "2025-03-12T16:32:00.973Z"
   },
   {
    "duration": 0,
    "start_time": "2025-03-12T16:32:00.974Z"
   },
   {
    "duration": 0,
    "start_time": "2025-03-12T16:32:00.975Z"
   },
   {
    "duration": 0,
    "start_time": "2025-03-12T16:32:00.976Z"
   },
   {
    "duration": 0,
    "start_time": "2025-03-12T16:32:00.977Z"
   },
   {
    "duration": 65,
    "start_time": "2025-03-12T16:32:23.776Z"
   },
   {
    "duration": 738,
    "start_time": "2025-03-12T16:32:47.129Z"
   },
   {
    "duration": 2,
    "start_time": "2025-03-12T16:32:49.825Z"
   },
   {
    "duration": 10583,
    "start_time": "2025-03-12T16:32:53.142Z"
   },
   {
    "duration": 3,
    "start_time": "2025-03-12T16:33:16.017Z"
   },
   {
    "duration": 3,
    "start_time": "2025-03-12T16:33:16.565Z"
   },
   {
    "duration": 135269,
    "start_time": "2025-03-12T16:33:17.495Z"
   },
   {
    "duration": 30,
    "start_time": "2025-03-12T16:35:39.996Z"
   },
   {
    "duration": 181,
    "start_time": "2025-03-12T16:35:40.865Z"
   },
   {
    "duration": 3,
    "start_time": "2025-03-12T16:36:29.521Z"
   },
   {
    "duration": 3,
    "start_time": "2025-03-12T16:36:30.037Z"
   },
   {
    "duration": 116219,
    "start_time": "2025-03-12T16:36:30.945Z"
   },
   {
    "duration": 31,
    "start_time": "2025-03-12T16:38:32.015Z"
   },
   {
    "duration": 178,
    "start_time": "2025-03-12T16:38:34.423Z"
   },
   {
    "duration": 5,
    "start_time": "2025-03-12T16:39:25.529Z"
   },
   {
    "duration": 20591,
    "start_time": "2025-03-12T16:39:26.985Z"
   },
   {
    "duration": 3,
    "start_time": "2025-03-12T16:39:55.726Z"
   },
   {
    "duration": 4,
    "start_time": "2025-03-12T16:39:56.658Z"
   },
   {
    "duration": 230886,
    "start_time": "2025-03-12T16:39:57.779Z"
   },
   {
    "duration": 46,
    "start_time": "2025-03-12T16:48:37.598Z"
   },
   {
    "duration": 200,
    "start_time": "2025-03-12T16:48:38.642Z"
   },
   {
    "duration": 2956,
    "start_time": "2025-03-12T16:48:55.620Z"
   },
   {
    "duration": 2767,
    "start_time": "2025-03-12T16:48:58.579Z"
   },
   {
    "duration": 2760,
    "start_time": "2025-03-12T16:49:01.348Z"
   },
   {
    "duration": 1695,
    "start_time": "2025-03-12T16:49:04.110Z"
   },
   {
    "duration": 2,
    "start_time": "2025-03-12T16:49:05.808Z"
   },
   {
    "duration": 937,
    "start_time": "2025-03-12T16:49:05.812Z"
   },
   {
    "duration": 2,
    "start_time": "2025-03-12T16:49:06.751Z"
   },
   {
    "duration": 106,
    "start_time": "2025-03-12T16:49:06.762Z"
   },
   {
    "duration": 6,
    "start_time": "2025-03-12T16:49:06.871Z"
   },
   {
    "duration": 68,
    "start_time": "2025-03-12T16:49:06.879Z"
   },
   {
    "duration": 134,
    "start_time": "2025-03-12T16:49:06.949Z"
   },
   {
    "duration": 197,
    "start_time": "2025-03-12T16:49:07.084Z"
   },
   {
    "duration": 15,
    "start_time": "2025-03-12T16:49:07.283Z"
   },
   {
    "duration": 24,
    "start_time": "2025-03-12T16:49:07.301Z"
   },
   {
    "duration": 5080,
    "start_time": "2025-03-12T16:49:07.327Z"
   },
   {
    "duration": 83,
    "start_time": "2025-03-12T16:49:12.409Z"
   },
   {
    "duration": 146,
    "start_time": "2025-03-12T16:49:12.494Z"
   },
   {
    "duration": 0,
    "start_time": "2025-03-12T16:49:12.641Z"
   },
   {
    "duration": 0,
    "start_time": "2025-03-12T16:49:12.643Z"
   },
   {
    "duration": 0,
    "start_time": "2025-03-12T16:49:12.644Z"
   },
   {
    "duration": 0,
    "start_time": "2025-03-12T16:49:12.645Z"
   },
   {
    "duration": 0,
    "start_time": "2025-03-12T16:49:12.646Z"
   },
   {
    "duration": 0,
    "start_time": "2025-03-12T16:49:12.647Z"
   },
   {
    "duration": 0,
    "start_time": "2025-03-12T16:49:12.662Z"
   },
   {
    "duration": 0,
    "start_time": "2025-03-12T16:49:12.663Z"
   },
   {
    "duration": 0,
    "start_time": "2025-03-12T16:49:12.664Z"
   },
   {
    "duration": 0,
    "start_time": "2025-03-12T16:49:12.665Z"
   },
   {
    "duration": 0,
    "start_time": "2025-03-12T16:49:12.666Z"
   },
   {
    "duration": 0,
    "start_time": "2025-03-12T16:49:12.667Z"
   },
   {
    "duration": 0,
    "start_time": "2025-03-12T16:49:12.668Z"
   },
   {
    "duration": 0,
    "start_time": "2025-03-12T16:49:12.669Z"
   },
   {
    "duration": 0,
    "start_time": "2025-03-12T16:49:12.670Z"
   },
   {
    "duration": 0,
    "start_time": "2025-03-12T16:49:12.671Z"
   },
   {
    "duration": 0,
    "start_time": "2025-03-12T16:49:12.672Z"
   },
   {
    "duration": 0,
    "start_time": "2025-03-12T16:49:12.673Z"
   },
   {
    "duration": 0,
    "start_time": "2025-03-12T16:49:12.674Z"
   },
   {
    "duration": 0,
    "start_time": "2025-03-12T16:49:12.675Z"
   },
   {
    "duration": 0,
    "start_time": "2025-03-12T16:49:12.676Z"
   },
   {
    "duration": 0,
    "start_time": "2025-03-12T16:49:12.677Z"
   },
   {
    "duration": 0,
    "start_time": "2025-03-12T16:49:12.678Z"
   },
   {
    "duration": 0,
    "start_time": "2025-03-12T16:49:12.679Z"
   },
   {
    "duration": 0,
    "start_time": "2025-03-12T16:49:12.680Z"
   },
   {
    "duration": 0,
    "start_time": "2025-03-12T16:49:12.681Z"
   },
   {
    "duration": 0,
    "start_time": "2025-03-12T16:49:12.682Z"
   },
   {
    "duration": 3118,
    "start_time": "2025-03-12T16:50:14.304Z"
   },
   {
    "duration": 2762,
    "start_time": "2025-03-12T16:50:17.425Z"
   },
   {
    "duration": 2710,
    "start_time": "2025-03-12T16:50:20.190Z"
   },
   {
    "duration": 1683,
    "start_time": "2025-03-12T16:50:22.902Z"
   },
   {
    "duration": 3,
    "start_time": "2025-03-12T16:50:24.587Z"
   },
   {
    "duration": 955,
    "start_time": "2025-03-12T16:50:24.591Z"
   },
   {
    "duration": 3,
    "start_time": "2025-03-12T16:50:25.548Z"
   },
   {
    "duration": 41,
    "start_time": "2025-03-12T16:50:25.562Z"
   },
   {
    "duration": 7,
    "start_time": "2025-03-12T16:50:25.605Z"
   },
   {
    "duration": 25,
    "start_time": "2025-03-12T16:50:25.613Z"
   },
   {
    "duration": 99,
    "start_time": "2025-03-12T16:50:25.640Z"
   },
   {
    "duration": 116,
    "start_time": "2025-03-12T16:50:25.741Z"
   },
   {
    "duration": 14,
    "start_time": "2025-03-12T16:50:25.862Z"
   },
   {
    "duration": 47,
    "start_time": "2025-03-12T16:50:25.879Z"
   },
   {
    "duration": 5240,
    "start_time": "2025-03-12T16:50:25.927Z"
   },
   {
    "duration": 76,
    "start_time": "2025-03-12T16:50:31.169Z"
   },
   {
    "duration": 145,
    "start_time": "2025-03-12T16:50:31.263Z"
   },
   {
    "duration": 0,
    "start_time": "2025-03-12T16:50:31.410Z"
   },
   {
    "duration": 0,
    "start_time": "2025-03-12T16:50:31.411Z"
   },
   {
    "duration": 0,
    "start_time": "2025-03-12T16:50:31.413Z"
   },
   {
    "duration": 0,
    "start_time": "2025-03-12T16:50:31.414Z"
   },
   {
    "duration": 0,
    "start_time": "2025-03-12T16:50:31.415Z"
   },
   {
    "duration": 0,
    "start_time": "2025-03-12T16:50:31.416Z"
   },
   {
    "duration": 0,
    "start_time": "2025-03-12T16:50:31.417Z"
   },
   {
    "duration": 0,
    "start_time": "2025-03-12T16:50:31.418Z"
   },
   {
    "duration": 0,
    "start_time": "2025-03-12T16:50:31.420Z"
   },
   {
    "duration": 0,
    "start_time": "2025-03-12T16:50:31.421Z"
   },
   {
    "duration": 0,
    "start_time": "2025-03-12T16:50:31.422Z"
   },
   {
    "duration": 0,
    "start_time": "2025-03-12T16:50:31.424Z"
   },
   {
    "duration": 0,
    "start_time": "2025-03-12T16:50:31.425Z"
   },
   {
    "duration": 0,
    "start_time": "2025-03-12T16:50:31.426Z"
   },
   {
    "duration": 0,
    "start_time": "2025-03-12T16:50:31.427Z"
   },
   {
    "duration": 0,
    "start_time": "2025-03-12T16:50:31.428Z"
   },
   {
    "duration": 0,
    "start_time": "2025-03-12T16:50:31.461Z"
   },
   {
    "duration": 0,
    "start_time": "2025-03-12T16:50:31.463Z"
   },
   {
    "duration": 0,
    "start_time": "2025-03-12T16:50:31.464Z"
   },
   {
    "duration": 0,
    "start_time": "2025-03-12T16:50:31.465Z"
   },
   {
    "duration": 0,
    "start_time": "2025-03-12T16:50:31.466Z"
   },
   {
    "duration": 0,
    "start_time": "2025-03-12T16:50:31.467Z"
   },
   {
    "duration": 0,
    "start_time": "2025-03-12T16:50:31.469Z"
   },
   {
    "duration": 0,
    "start_time": "2025-03-12T16:50:31.470Z"
   },
   {
    "duration": 0,
    "start_time": "2025-03-12T16:50:31.471Z"
   },
   {
    "duration": 0,
    "start_time": "2025-03-12T16:50:31.472Z"
   },
   {
    "duration": 0,
    "start_time": "2025-03-12T16:50:31.473Z"
   },
   {
    "duration": 2212,
    "start_time": "2025-03-12T16:50:56.002Z"
   },
   {
    "duration": 3,
    "start_time": "2025-03-12T16:51:15.716Z"
   },
   {
    "duration": 9167,
    "start_time": "2025-03-12T16:51:16.772Z"
   },
   {
    "duration": 3,
    "start_time": "2025-03-12T16:54:25.028Z"
   },
   {
    "duration": 4,
    "start_time": "2025-03-12T16:54:30.158Z"
   },
   {
    "duration": 17711,
    "start_time": "2025-03-12T16:54:31.818Z"
   },
   {
    "duration": 15,
    "start_time": "2025-03-12T16:55:09.492Z"
   },
   {
    "duration": 163,
    "start_time": "2025-03-12T16:55:11.001Z"
   },
   {
    "duration": 4,
    "start_time": "2025-03-12T16:55:23.010Z"
   },
   {
    "duration": 9713,
    "start_time": "2025-03-12T16:55:23.689Z"
   },
   {
    "duration": 3,
    "start_time": "2025-03-12T16:55:39.648Z"
   },
   {
    "duration": 3,
    "start_time": "2025-03-12T16:55:47.236Z"
   },
   {
    "duration": 4,
    "start_time": "2025-03-12T16:55:47.941Z"
   },
   {
    "duration": 695069,
    "start_time": "2025-03-12T16:55:48.997Z"
   },
   {
    "duration": 15,
    "start_time": "2025-03-12T17:07:42.386Z"
   },
   {
    "duration": 164,
    "start_time": "2025-03-12T17:07:45.228Z"
   },
   {
    "duration": 2989,
    "start_time": "2025-03-12T17:13:14.181Z"
   },
   {
    "duration": 2659,
    "start_time": "2025-03-12T17:13:17.173Z"
   },
   {
    "duration": 1161,
    "start_time": "2025-03-12T17:13:19.834Z"
   },
   {
    "duration": 1817,
    "start_time": "2025-03-12T17:13:20.997Z"
   },
   {
    "duration": 0,
    "start_time": "2025-03-12T17:13:22.817Z"
   },
   {
    "duration": 0,
    "start_time": "2025-03-12T17:13:22.818Z"
   },
   {
    "duration": 0,
    "start_time": "2025-03-12T17:13:22.820Z"
   },
   {
    "duration": 0,
    "start_time": "2025-03-12T17:13:22.821Z"
   },
   {
    "duration": 0,
    "start_time": "2025-03-12T17:13:22.822Z"
   },
   {
    "duration": 0,
    "start_time": "2025-03-12T17:13:22.823Z"
   },
   {
    "duration": 0,
    "start_time": "2025-03-12T17:13:22.824Z"
   },
   {
    "duration": 0,
    "start_time": "2025-03-12T17:13:22.826Z"
   },
   {
    "duration": 0,
    "start_time": "2025-03-12T17:13:22.826Z"
   },
   {
    "duration": 0,
    "start_time": "2025-03-12T17:13:22.827Z"
   },
   {
    "duration": 0,
    "start_time": "2025-03-12T17:13:22.828Z"
   },
   {
    "duration": 0,
    "start_time": "2025-03-12T17:13:22.829Z"
   },
   {
    "duration": 0,
    "start_time": "2025-03-12T17:13:22.831Z"
   },
   {
    "duration": 0,
    "start_time": "2025-03-12T17:13:22.831Z"
   },
   {
    "duration": 0,
    "start_time": "2025-03-12T17:13:22.832Z"
   },
   {
    "duration": 0,
    "start_time": "2025-03-12T17:13:22.862Z"
   },
   {
    "duration": 0,
    "start_time": "2025-03-12T17:13:22.864Z"
   },
   {
    "duration": 0,
    "start_time": "2025-03-12T17:13:22.865Z"
   },
   {
    "duration": 0,
    "start_time": "2025-03-12T17:13:22.866Z"
   },
   {
    "duration": 0,
    "start_time": "2025-03-12T17:13:22.867Z"
   },
   {
    "duration": 0,
    "start_time": "2025-03-12T17:13:22.868Z"
   },
   {
    "duration": 0,
    "start_time": "2025-03-12T17:13:22.870Z"
   },
   {
    "duration": 0,
    "start_time": "2025-03-12T17:13:22.871Z"
   },
   {
    "duration": 0,
    "start_time": "2025-03-12T17:13:22.872Z"
   },
   {
    "duration": 0,
    "start_time": "2025-03-12T17:13:22.873Z"
   },
   {
    "duration": 0,
    "start_time": "2025-03-12T17:13:22.873Z"
   },
   {
    "duration": 0,
    "start_time": "2025-03-12T17:13:22.875Z"
   },
   {
    "duration": 0,
    "start_time": "2025-03-12T17:13:22.876Z"
   },
   {
    "duration": 0,
    "start_time": "2025-03-12T17:13:22.877Z"
   },
   {
    "duration": 0,
    "start_time": "2025-03-12T17:13:22.878Z"
   },
   {
    "duration": 0,
    "start_time": "2025-03-12T17:13:22.879Z"
   },
   {
    "duration": 0,
    "start_time": "2025-03-12T17:13:22.880Z"
   },
   {
    "duration": 0,
    "start_time": "2025-03-12T17:13:22.881Z"
   },
   {
    "duration": 0,
    "start_time": "2025-03-12T17:13:22.882Z"
   },
   {
    "duration": 0,
    "start_time": "2025-03-12T17:13:22.884Z"
   },
   {
    "duration": 0,
    "start_time": "2025-03-12T17:13:22.885Z"
   },
   {
    "duration": 0,
    "start_time": "2025-03-12T17:13:22.886Z"
   },
   {
    "duration": 1188,
    "start_time": "2025-03-12T17:13:51.651Z"
   },
   {
    "duration": 74,
    "start_time": "2025-03-12T17:15:29.265Z"
   },
   {
    "duration": 1277,
    "start_time": "2025-03-12T17:15:37.229Z"
   },
   {
    "duration": 1170,
    "start_time": "2025-03-12T17:16:13.581Z"
   },
   {
    "duration": 20,
    "start_time": "2025-03-12T17:17:39.949Z"
   },
   {
    "duration": 4,
    "start_time": "2025-03-12T17:17:55.225Z"
   },
   {
    "duration": 2995,
    "start_time": "2025-03-12T17:18:05.697Z"
   },
   {
    "duration": 2627,
    "start_time": "2025-03-12T17:18:08.695Z"
   },
   {
    "duration": 1406,
    "start_time": "2025-03-12T17:18:11.324Z"
   },
   {
    "duration": 3,
    "start_time": "2025-03-12T17:18:12.731Z"
   },
   {
    "duration": 998,
    "start_time": "2025-03-12T17:18:12.736Z"
   },
   {
    "duration": 3,
    "start_time": "2025-03-12T17:18:13.735Z"
   },
   {
    "duration": 52,
    "start_time": "2025-03-12T17:18:13.740Z"
   },
   {
    "duration": 7,
    "start_time": "2025-03-12T17:18:13.794Z"
   },
   {
    "duration": 18,
    "start_time": "2025-03-12T17:18:13.802Z"
   },
   {
    "duration": 96,
    "start_time": "2025-03-12T17:18:13.822Z"
   },
   {
    "duration": 101,
    "start_time": "2025-03-12T17:18:13.920Z"
   },
   {
    "duration": 15,
    "start_time": "2025-03-12T17:18:14.023Z"
   },
   {
    "duration": 4,
    "start_time": "2025-03-12T17:18:14.040Z"
   },
   {
    "duration": 5339,
    "start_time": "2025-03-12T17:18:14.048Z"
   },
   {
    "duration": 76,
    "start_time": "2025-03-12T17:18:19.389Z"
   },
   {
    "duration": 121,
    "start_time": "2025-03-12T17:18:19.467Z"
   },
   {
    "duration": 0,
    "start_time": "2025-03-12T17:18:19.589Z"
   },
   {
    "duration": 0,
    "start_time": "2025-03-12T17:18:19.590Z"
   },
   {
    "duration": 0,
    "start_time": "2025-03-12T17:18:19.592Z"
   },
   {
    "duration": 0,
    "start_time": "2025-03-12T17:18:19.593Z"
   },
   {
    "duration": 0,
    "start_time": "2025-03-12T17:18:19.594Z"
   },
   {
    "duration": 0,
    "start_time": "2025-03-12T17:18:19.595Z"
   },
   {
    "duration": 0,
    "start_time": "2025-03-12T17:18:19.596Z"
   },
   {
    "duration": 0,
    "start_time": "2025-03-12T17:18:19.597Z"
   },
   {
    "duration": 0,
    "start_time": "2025-03-12T17:18:19.598Z"
   },
   {
    "duration": 0,
    "start_time": "2025-03-12T17:18:19.599Z"
   },
   {
    "duration": 0,
    "start_time": "2025-03-12T17:18:19.600Z"
   },
   {
    "duration": 0,
    "start_time": "2025-03-12T17:18:19.602Z"
   },
   {
    "duration": 0,
    "start_time": "2025-03-12T17:18:19.603Z"
   },
   {
    "duration": 0,
    "start_time": "2025-03-12T17:18:19.604Z"
   },
   {
    "duration": 0,
    "start_time": "2025-03-12T17:18:19.604Z"
   },
   {
    "duration": 0,
    "start_time": "2025-03-12T17:18:19.605Z"
   },
   {
    "duration": 0,
    "start_time": "2025-03-12T17:18:19.607Z"
   },
   {
    "duration": 0,
    "start_time": "2025-03-12T17:18:19.608Z"
   },
   {
    "duration": 0,
    "start_time": "2025-03-12T17:18:19.609Z"
   },
   {
    "duration": 0,
    "start_time": "2025-03-12T17:18:19.610Z"
   },
   {
    "duration": 0,
    "start_time": "2025-03-12T17:18:19.611Z"
   },
   {
    "duration": 0,
    "start_time": "2025-03-12T17:18:19.612Z"
   },
   {
    "duration": 0,
    "start_time": "2025-03-12T17:18:19.613Z"
   },
   {
    "duration": 0,
    "start_time": "2025-03-12T17:18:19.662Z"
   },
   {
    "duration": 2210,
    "start_time": "2025-03-12T17:18:29.866Z"
   },
   {
    "duration": 4,
    "start_time": "2025-03-12T17:18:41.260Z"
   },
   {
    "duration": 9711,
    "start_time": "2025-03-12T17:18:41.761Z"
   },
   {
    "duration": 2,
    "start_time": "2025-03-12T17:21:56.431Z"
   },
   {
    "duration": 3,
    "start_time": "2025-03-12T17:21:56.795Z"
   },
   {
    "duration": 861639,
    "start_time": "2025-03-12T17:21:57.147Z"
   },
   {
    "duration": 3116,
    "start_time": "2025-03-12T17:37:16.550Z"
   },
   {
    "duration": 2722,
    "start_time": "2025-03-12T17:37:19.668Z"
   },
   {
    "duration": 1157,
    "start_time": "2025-03-12T17:37:22.392Z"
   },
   {
    "duration": 1476,
    "start_time": "2025-03-12T17:37:23.551Z"
   },
   {
    "duration": 3,
    "start_time": "2025-03-12T17:37:25.029Z"
   },
   {
    "duration": 977,
    "start_time": "2025-03-12T17:37:25.034Z"
   },
   {
    "duration": 4,
    "start_time": "2025-03-12T17:37:26.012Z"
   },
   {
    "duration": 69,
    "start_time": "2025-03-12T17:37:26.017Z"
   },
   {
    "duration": 7,
    "start_time": "2025-03-12T17:37:26.088Z"
   },
   {
    "duration": 26,
    "start_time": "2025-03-12T17:37:26.097Z"
   },
   {
    "duration": 91,
    "start_time": "2025-03-12T17:37:26.125Z"
   },
   {
    "duration": 114,
    "start_time": "2025-03-12T17:37:26.218Z"
   },
   {
    "duration": 28,
    "start_time": "2025-03-12T17:37:26.335Z"
   },
   {
    "duration": 3,
    "start_time": "2025-03-12T17:37:26.367Z"
   },
   {
    "duration": 4984,
    "start_time": "2025-03-12T17:37:26.372Z"
   },
   {
    "duration": 71,
    "start_time": "2025-03-12T17:37:31.357Z"
   },
   {
    "duration": 2218,
    "start_time": "2025-03-12T17:37:31.429Z"
   },
   {
    "duration": 160,
    "start_time": "2025-03-12T17:37:33.649Z"
   },
   {
    "duration": 0,
    "start_time": "2025-03-12T17:37:33.811Z"
   },
   {
    "duration": 0,
    "start_time": "2025-03-12T17:37:33.812Z"
   },
   {
    "duration": 0,
    "start_time": "2025-03-12T17:37:33.814Z"
   },
   {
    "duration": 0,
    "start_time": "2025-03-12T17:37:33.815Z"
   },
   {
    "duration": 0,
    "start_time": "2025-03-12T17:37:33.817Z"
   },
   {
    "duration": 0,
    "start_time": "2025-03-12T17:37:33.819Z"
   },
   {
    "duration": 0,
    "start_time": "2025-03-12T17:37:33.820Z"
   },
   {
    "duration": 0,
    "start_time": "2025-03-12T17:37:33.821Z"
   },
   {
    "duration": 0,
    "start_time": "2025-03-12T17:37:33.823Z"
   },
   {
    "duration": 0,
    "start_time": "2025-03-12T17:37:33.824Z"
   },
   {
    "duration": 0,
    "start_time": "2025-03-12T17:37:33.826Z"
   },
   {
    "duration": 0,
    "start_time": "2025-03-12T17:37:33.828Z"
   },
   {
    "duration": 0,
    "start_time": "2025-03-12T17:37:33.829Z"
   },
   {
    "duration": 0,
    "start_time": "2025-03-12T17:37:33.862Z"
   },
   {
    "duration": 0,
    "start_time": "2025-03-12T17:37:33.863Z"
   },
   {
    "duration": 0,
    "start_time": "2025-03-12T17:37:33.865Z"
   },
   {
    "duration": 0,
    "start_time": "2025-03-12T17:37:33.866Z"
   },
   {
    "duration": 0,
    "start_time": "2025-03-12T17:37:33.868Z"
   },
   {
    "duration": 0,
    "start_time": "2025-03-12T17:37:33.870Z"
   },
   {
    "duration": 0,
    "start_time": "2025-03-12T17:37:33.872Z"
   },
   {
    "duration": 0,
    "start_time": "2025-03-12T17:37:33.873Z"
   },
   {
    "duration": 0,
    "start_time": "2025-03-12T17:37:33.875Z"
   },
   {
    "duration": 0,
    "start_time": "2025-03-12T17:37:33.876Z"
   },
   {
    "duration": 0,
    "start_time": "2025-03-12T17:37:33.878Z"
   },
   {
    "duration": 0,
    "start_time": "2025-03-12T17:37:33.879Z"
   },
   {
    "duration": 0,
    "start_time": "2025-03-12T17:37:33.880Z"
   },
   {
    "duration": 0,
    "start_time": "2025-03-12T17:37:33.882Z"
   },
   {
    "duration": 0,
    "start_time": "2025-03-12T17:37:33.883Z"
   },
   {
    "duration": 0,
    "start_time": "2025-03-12T17:37:33.884Z"
   },
   {
    "duration": 76,
    "start_time": "2025-03-12T17:38:39.780Z"
   },
   {
    "duration": 3512,
    "start_time": "2025-03-12T17:40:44.810Z"
   },
   {
    "duration": 73,
    "start_time": "2025-03-12T17:41:32.376Z"
   },
   {
    "duration": 295,
    "start_time": "2025-03-12T17:41:40.236Z"
   },
   {
    "duration": 4,
    "start_time": "2025-03-12T17:42:28.506Z"
   },
   {
    "duration": 2714,
    "start_time": "2025-03-12T17:42:28.511Z"
   },
   {
    "duration": 2372,
    "start_time": "2025-03-12T17:42:31.227Z"
   },
   {
    "duration": 1631,
    "start_time": "2025-03-12T17:42:33.601Z"
   },
   {
    "duration": 0,
    "start_time": "2025-03-12T17:42:35.235Z"
   },
   {
    "duration": 0,
    "start_time": "2025-03-12T17:42:35.236Z"
   },
   {
    "duration": 0,
    "start_time": "2025-03-12T17:42:35.237Z"
   },
   {
    "duration": 0,
    "start_time": "2025-03-12T17:42:35.238Z"
   },
   {
    "duration": 0,
    "start_time": "2025-03-12T17:42:35.239Z"
   },
   {
    "duration": 0,
    "start_time": "2025-03-12T17:42:35.240Z"
   },
   {
    "duration": 0,
    "start_time": "2025-03-12T17:42:35.242Z"
   },
   {
    "duration": 0,
    "start_time": "2025-03-12T17:42:35.243Z"
   },
   {
    "duration": 0,
    "start_time": "2025-03-12T17:42:35.244Z"
   },
   {
    "duration": 0,
    "start_time": "2025-03-12T17:42:35.245Z"
   },
   {
    "duration": 0,
    "start_time": "2025-03-12T17:42:35.262Z"
   },
   {
    "duration": 0,
    "start_time": "2025-03-12T17:42:35.263Z"
   },
   {
    "duration": 0,
    "start_time": "2025-03-12T17:42:35.264Z"
   },
   {
    "duration": 0,
    "start_time": "2025-03-12T17:42:35.265Z"
   },
   {
    "duration": 0,
    "start_time": "2025-03-12T17:42:35.266Z"
   },
   {
    "duration": 0,
    "start_time": "2025-03-12T17:42:35.267Z"
   },
   {
    "duration": 0,
    "start_time": "2025-03-12T17:42:35.268Z"
   },
   {
    "duration": 0,
    "start_time": "2025-03-12T17:42:35.269Z"
   },
   {
    "duration": 0,
    "start_time": "2025-03-12T17:42:35.270Z"
   },
   {
    "duration": 0,
    "start_time": "2025-03-12T17:42:35.271Z"
   },
   {
    "duration": 0,
    "start_time": "2025-03-12T17:42:35.272Z"
   },
   {
    "duration": 0,
    "start_time": "2025-03-12T17:42:35.274Z"
   },
   {
    "duration": 0,
    "start_time": "2025-03-12T17:42:35.275Z"
   },
   {
    "duration": 0,
    "start_time": "2025-03-12T17:42:35.276Z"
   },
   {
    "duration": 0,
    "start_time": "2025-03-12T17:42:35.277Z"
   },
   {
    "duration": 0,
    "start_time": "2025-03-12T17:42:35.278Z"
   },
   {
    "duration": 0,
    "start_time": "2025-03-12T17:42:35.279Z"
   },
   {
    "duration": 0,
    "start_time": "2025-03-12T17:42:35.280Z"
   },
   {
    "duration": 0,
    "start_time": "2025-03-12T17:42:35.281Z"
   },
   {
    "duration": 0,
    "start_time": "2025-03-12T17:42:35.282Z"
   },
   {
    "duration": 0,
    "start_time": "2025-03-12T17:42:35.283Z"
   },
   {
    "duration": 0,
    "start_time": "2025-03-12T17:42:35.284Z"
   },
   {
    "duration": 0,
    "start_time": "2025-03-12T17:42:35.285Z"
   },
   {
    "duration": 0,
    "start_time": "2025-03-12T17:42:35.287Z"
   },
   {
    "duration": 0,
    "start_time": "2025-03-12T17:42:35.288Z"
   },
   {
    "duration": 0,
    "start_time": "2025-03-12T17:42:35.289Z"
   },
   {
    "duration": 0,
    "start_time": "2025-03-12T17:42:35.290Z"
   },
   {
    "duration": 0,
    "start_time": "2025-03-12T17:42:35.291Z"
   },
   {
    "duration": 0,
    "start_time": "2025-03-12T17:42:35.292Z"
   },
   {
    "duration": 0,
    "start_time": "2025-03-12T17:42:35.293Z"
   },
   {
    "duration": 0,
    "start_time": "2025-03-12T17:42:35.294Z"
   },
   {
    "duration": 0,
    "start_time": "2025-03-12T17:42:35.295Z"
   },
   {
    "duration": 0,
    "start_time": "2025-03-12T17:42:35.296Z"
   },
   {
    "duration": 2981,
    "start_time": "2025-03-12T17:44:03.231Z"
   },
   {
    "duration": 2626,
    "start_time": "2025-03-12T17:44:06.215Z"
   },
   {
    "duration": 3077,
    "start_time": "2025-03-12T17:44:08.843Z"
   },
   {
    "duration": 2372,
    "start_time": "2025-03-12T17:44:11.922Z"
   },
   {
    "duration": 1594,
    "start_time": "2025-03-12T17:44:14.296Z"
   },
   {
    "duration": 0,
    "start_time": "2025-03-12T17:44:15.893Z"
   },
   {
    "duration": 0,
    "start_time": "2025-03-12T17:44:15.894Z"
   },
   {
    "duration": 0,
    "start_time": "2025-03-12T17:44:15.895Z"
   },
   {
    "duration": 0,
    "start_time": "2025-03-12T17:44:15.896Z"
   },
   {
    "duration": 0,
    "start_time": "2025-03-12T17:44:15.897Z"
   },
   {
    "duration": 0,
    "start_time": "2025-03-12T17:44:15.898Z"
   },
   {
    "duration": 0,
    "start_time": "2025-03-12T17:44:15.899Z"
   },
   {
    "duration": 0,
    "start_time": "2025-03-12T17:44:15.900Z"
   },
   {
    "duration": 0,
    "start_time": "2025-03-12T17:44:15.901Z"
   },
   {
    "duration": 0,
    "start_time": "2025-03-12T17:44:15.903Z"
   },
   {
    "duration": 1,
    "start_time": "2025-03-12T17:44:15.903Z"
   },
   {
    "duration": 0,
    "start_time": "2025-03-12T17:44:15.905Z"
   },
   {
    "duration": 0,
    "start_time": "2025-03-12T17:44:15.906Z"
   },
   {
    "duration": 0,
    "start_time": "2025-03-12T17:44:15.908Z"
   },
   {
    "duration": 0,
    "start_time": "2025-03-12T17:44:15.909Z"
   },
   {
    "duration": 0,
    "start_time": "2025-03-12T17:44:15.910Z"
   },
   {
    "duration": 0,
    "start_time": "2025-03-12T17:44:15.912Z"
   },
   {
    "duration": 0,
    "start_time": "2025-03-12T17:44:15.913Z"
   },
   {
    "duration": 0,
    "start_time": "2025-03-12T17:44:15.914Z"
   },
   {
    "duration": 0,
    "start_time": "2025-03-12T17:44:15.915Z"
   },
   {
    "duration": 0,
    "start_time": "2025-03-12T17:44:15.916Z"
   },
   {
    "duration": 0,
    "start_time": "2025-03-12T17:44:15.917Z"
   },
   {
    "duration": 0,
    "start_time": "2025-03-12T17:44:15.918Z"
   },
   {
    "duration": 0,
    "start_time": "2025-03-12T17:44:15.920Z"
   },
   {
    "duration": 0,
    "start_time": "2025-03-12T17:44:15.962Z"
   },
   {
    "duration": 0,
    "start_time": "2025-03-12T17:44:15.964Z"
   },
   {
    "duration": 0,
    "start_time": "2025-03-12T17:44:15.965Z"
   },
   {
    "duration": 0,
    "start_time": "2025-03-12T17:44:15.966Z"
   },
   {
    "duration": 0,
    "start_time": "2025-03-12T17:44:15.967Z"
   },
   {
    "duration": 0,
    "start_time": "2025-03-12T17:44:15.968Z"
   },
   {
    "duration": 0,
    "start_time": "2025-03-12T17:44:15.969Z"
   },
   {
    "duration": 0,
    "start_time": "2025-03-12T17:44:15.970Z"
   },
   {
    "duration": 0,
    "start_time": "2025-03-12T17:44:15.972Z"
   },
   {
    "duration": 0,
    "start_time": "2025-03-12T17:44:15.973Z"
   },
   {
    "duration": 0,
    "start_time": "2025-03-12T17:44:15.975Z"
   },
   {
    "duration": 0,
    "start_time": "2025-03-12T17:44:15.976Z"
   },
   {
    "duration": 0,
    "start_time": "2025-03-12T17:44:15.977Z"
   },
   {
    "duration": 0,
    "start_time": "2025-03-12T17:44:15.978Z"
   },
   {
    "duration": 0,
    "start_time": "2025-03-12T17:44:15.979Z"
   },
   {
    "duration": 0,
    "start_time": "2025-03-12T17:44:15.981Z"
   },
   {
    "duration": 0,
    "start_time": "2025-03-12T17:44:15.982Z"
   },
   {
    "duration": 0,
    "start_time": "2025-03-12T17:44:15.983Z"
   },
   {
    "duration": 0,
    "start_time": "2025-03-12T17:44:15.985Z"
   },
   {
    "duration": 2950,
    "start_time": "2025-03-12T17:44:44.488Z"
   },
   {
    "duration": 2772,
    "start_time": "2025-03-12T17:44:47.441Z"
   },
   {
    "duration": 3111,
    "start_time": "2025-03-12T17:44:50.216Z"
   },
   {
    "duration": 2344,
    "start_time": "2025-03-12T17:44:53.329Z"
   },
   {
    "duration": 1531,
    "start_time": "2025-03-12T17:44:55.676Z"
   },
   {
    "duration": 0,
    "start_time": "2025-03-12T17:44:57.210Z"
   },
   {
    "duration": 0,
    "start_time": "2025-03-12T17:44:57.211Z"
   },
   {
    "duration": 0,
    "start_time": "2025-03-12T17:44:57.213Z"
   },
   {
    "duration": 0,
    "start_time": "2025-03-12T17:44:57.215Z"
   },
   {
    "duration": 0,
    "start_time": "2025-03-12T17:44:57.216Z"
   },
   {
    "duration": 0,
    "start_time": "2025-03-12T17:44:57.218Z"
   },
   {
    "duration": 0,
    "start_time": "2025-03-12T17:44:57.219Z"
   },
   {
    "duration": 0,
    "start_time": "2025-03-12T17:44:57.220Z"
   },
   {
    "duration": 0,
    "start_time": "2025-03-12T17:44:57.222Z"
   },
   {
    "duration": 0,
    "start_time": "2025-03-12T17:44:57.223Z"
   },
   {
    "duration": 0,
    "start_time": "2025-03-12T17:44:57.225Z"
   },
   {
    "duration": 0,
    "start_time": "2025-03-12T17:44:57.226Z"
   },
   {
    "duration": 0,
    "start_time": "2025-03-12T17:44:57.227Z"
   },
   {
    "duration": 0,
    "start_time": "2025-03-12T17:44:57.228Z"
   },
   {
    "duration": 0,
    "start_time": "2025-03-12T17:44:57.229Z"
   },
   {
    "duration": 0,
    "start_time": "2025-03-12T17:44:57.261Z"
   },
   {
    "duration": 0,
    "start_time": "2025-03-12T17:44:57.263Z"
   },
   {
    "duration": 0,
    "start_time": "2025-03-12T17:44:57.264Z"
   },
   {
    "duration": 0,
    "start_time": "2025-03-12T17:44:57.265Z"
   },
   {
    "duration": 0,
    "start_time": "2025-03-12T17:44:57.266Z"
   },
   {
    "duration": 0,
    "start_time": "2025-03-12T17:44:57.267Z"
   },
   {
    "duration": 0,
    "start_time": "2025-03-12T17:44:57.268Z"
   },
   {
    "duration": 0,
    "start_time": "2025-03-12T17:44:57.268Z"
   },
   {
    "duration": 0,
    "start_time": "2025-03-12T17:44:57.270Z"
   },
   {
    "duration": 0,
    "start_time": "2025-03-12T17:44:57.271Z"
   },
   {
    "duration": 0,
    "start_time": "2025-03-12T17:44:57.272Z"
   },
   {
    "duration": 0,
    "start_time": "2025-03-12T17:44:57.273Z"
   },
   {
    "duration": 0,
    "start_time": "2025-03-12T17:44:57.274Z"
   },
   {
    "duration": 0,
    "start_time": "2025-03-12T17:44:57.275Z"
   },
   {
    "duration": 0,
    "start_time": "2025-03-12T17:44:57.277Z"
   },
   {
    "duration": 0,
    "start_time": "2025-03-12T17:44:57.278Z"
   },
   {
    "duration": 0,
    "start_time": "2025-03-12T17:44:57.279Z"
   },
   {
    "duration": 0,
    "start_time": "2025-03-12T17:44:57.280Z"
   },
   {
    "duration": 0,
    "start_time": "2025-03-12T17:44:57.281Z"
   },
   {
    "duration": 0,
    "start_time": "2025-03-12T17:44:57.282Z"
   },
   {
    "duration": 0,
    "start_time": "2025-03-12T17:44:57.284Z"
   },
   {
    "duration": 0,
    "start_time": "2025-03-12T17:44:57.285Z"
   },
   {
    "duration": 0,
    "start_time": "2025-03-12T17:44:57.286Z"
   },
   {
    "duration": 0,
    "start_time": "2025-03-12T17:44:57.287Z"
   },
   {
    "duration": 0,
    "start_time": "2025-03-12T17:44:57.288Z"
   },
   {
    "duration": 0,
    "start_time": "2025-03-12T17:44:57.289Z"
   },
   {
    "duration": 0,
    "start_time": "2025-03-12T17:44:57.290Z"
   },
   {
    "duration": 0,
    "start_time": "2025-03-12T17:44:57.292Z"
   },
   {
    "duration": 2954,
    "start_time": "2025-03-12T17:45:26.132Z"
   },
   {
    "duration": 2657,
    "start_time": "2025-03-12T17:45:29.089Z"
   },
   {
    "duration": 3908,
    "start_time": "2025-03-12T17:45:31.748Z"
   },
   {
    "duration": 2430,
    "start_time": "2025-03-12T17:45:35.658Z"
   },
   {
    "duration": 1377,
    "start_time": "2025-03-12T17:45:38.091Z"
   },
   {
    "duration": 0,
    "start_time": "2025-03-12T17:45:39.471Z"
   },
   {
    "duration": 0,
    "start_time": "2025-03-12T17:45:39.472Z"
   },
   {
    "duration": 0,
    "start_time": "2025-03-12T17:45:39.473Z"
   },
   {
    "duration": 0,
    "start_time": "2025-03-12T17:45:39.474Z"
   },
   {
    "duration": 0,
    "start_time": "2025-03-12T17:45:39.475Z"
   },
   {
    "duration": 0,
    "start_time": "2025-03-12T17:45:39.477Z"
   },
   {
    "duration": 0,
    "start_time": "2025-03-12T17:45:39.478Z"
   },
   {
    "duration": 0,
    "start_time": "2025-03-12T17:45:39.479Z"
   },
   {
    "duration": 0,
    "start_time": "2025-03-12T17:45:39.480Z"
   },
   {
    "duration": 0,
    "start_time": "2025-03-12T17:45:39.481Z"
   },
   {
    "duration": 0,
    "start_time": "2025-03-12T17:45:39.482Z"
   },
   {
    "duration": 0,
    "start_time": "2025-03-12T17:45:39.484Z"
   },
   {
    "duration": 0,
    "start_time": "2025-03-12T17:45:39.485Z"
   },
   {
    "duration": 0,
    "start_time": "2025-03-12T17:45:39.486Z"
   },
   {
    "duration": 0,
    "start_time": "2025-03-12T17:45:39.487Z"
   },
   {
    "duration": 1,
    "start_time": "2025-03-12T17:45:39.488Z"
   },
   {
    "duration": 0,
    "start_time": "2025-03-12T17:45:39.490Z"
   },
   {
    "duration": 0,
    "start_time": "2025-03-12T17:45:39.491Z"
   },
   {
    "duration": 0,
    "start_time": "2025-03-12T17:45:39.492Z"
   },
   {
    "duration": 0,
    "start_time": "2025-03-12T17:45:39.493Z"
   },
   {
    "duration": 0,
    "start_time": "2025-03-12T17:45:39.494Z"
   },
   {
    "duration": 1,
    "start_time": "2025-03-12T17:45:39.495Z"
   },
   {
    "duration": 0,
    "start_time": "2025-03-12T17:45:39.497Z"
   },
   {
    "duration": 0,
    "start_time": "2025-03-12T17:45:39.498Z"
   },
   {
    "duration": 0,
    "start_time": "2025-03-12T17:45:39.499Z"
   },
   {
    "duration": 0,
    "start_time": "2025-03-12T17:45:39.500Z"
   },
   {
    "duration": 0,
    "start_time": "2025-03-12T17:45:39.502Z"
   },
   {
    "duration": 0,
    "start_time": "2025-03-12T17:45:39.503Z"
   },
   {
    "duration": 0,
    "start_time": "2025-03-12T17:45:39.505Z"
   },
   {
    "duration": 0,
    "start_time": "2025-03-12T17:45:39.563Z"
   },
   {
    "duration": 0,
    "start_time": "2025-03-12T17:45:39.564Z"
   },
   {
    "duration": 0,
    "start_time": "2025-03-12T17:45:39.565Z"
   },
   {
    "duration": 0,
    "start_time": "2025-03-12T17:45:39.567Z"
   },
   {
    "duration": 0,
    "start_time": "2025-03-12T17:45:39.569Z"
   },
   {
    "duration": 0,
    "start_time": "2025-03-12T17:45:39.570Z"
   },
   {
    "duration": 0,
    "start_time": "2025-03-12T17:45:39.572Z"
   },
   {
    "duration": 0,
    "start_time": "2025-03-12T17:45:39.573Z"
   },
   {
    "duration": 0,
    "start_time": "2025-03-12T17:45:39.574Z"
   },
   {
    "duration": 0,
    "start_time": "2025-03-12T17:45:39.576Z"
   },
   {
    "duration": 0,
    "start_time": "2025-03-12T17:45:39.577Z"
   },
   {
    "duration": 0,
    "start_time": "2025-03-12T17:45:39.579Z"
   },
   {
    "duration": 0,
    "start_time": "2025-03-12T17:45:39.580Z"
   },
   {
    "duration": 1,
    "start_time": "2025-03-12T17:45:39.581Z"
   },
   {
    "duration": 2907,
    "start_time": "2025-03-12T17:46:18.397Z"
   },
   {
    "duration": 2698,
    "start_time": "2025-03-12T17:46:21.307Z"
   },
   {
    "duration": 3316,
    "start_time": "2025-03-12T17:46:24.007Z"
   },
   {
    "duration": 2425,
    "start_time": "2025-03-12T17:46:27.325Z"
   },
   {
    "duration": 1606,
    "start_time": "2025-03-12T17:46:29.753Z"
   },
   {
    "duration": 0,
    "start_time": "2025-03-12T17:46:31.362Z"
   },
   {
    "duration": 0,
    "start_time": "2025-03-12T17:46:31.363Z"
   },
   {
    "duration": 0,
    "start_time": "2025-03-12T17:46:31.365Z"
   },
   {
    "duration": 0,
    "start_time": "2025-03-12T17:46:31.367Z"
   },
   {
    "duration": 0,
    "start_time": "2025-03-12T17:46:31.368Z"
   },
   {
    "duration": 0,
    "start_time": "2025-03-12T17:46:31.369Z"
   },
   {
    "duration": 0,
    "start_time": "2025-03-12T17:46:31.371Z"
   },
   {
    "duration": 0,
    "start_time": "2025-03-12T17:46:31.372Z"
   },
   {
    "duration": 0,
    "start_time": "2025-03-12T17:46:31.374Z"
   },
   {
    "duration": 0,
    "start_time": "2025-03-12T17:46:31.375Z"
   },
   {
    "duration": 0,
    "start_time": "2025-03-12T17:46:31.377Z"
   },
   {
    "duration": 0,
    "start_time": "2025-03-12T17:46:31.378Z"
   },
   {
    "duration": 0,
    "start_time": "2025-03-12T17:46:31.380Z"
   },
   {
    "duration": 0,
    "start_time": "2025-03-12T17:46:31.381Z"
   },
   {
    "duration": 0,
    "start_time": "2025-03-12T17:46:31.382Z"
   },
   {
    "duration": 0,
    "start_time": "2025-03-12T17:46:31.384Z"
   },
   {
    "duration": 0,
    "start_time": "2025-03-12T17:46:31.385Z"
   },
   {
    "duration": 0,
    "start_time": "2025-03-12T17:46:31.386Z"
   },
   {
    "duration": 0,
    "start_time": "2025-03-12T17:46:31.388Z"
   },
   {
    "duration": 0,
    "start_time": "2025-03-12T17:46:31.390Z"
   },
   {
    "duration": 0,
    "start_time": "2025-03-12T17:46:31.391Z"
   },
   {
    "duration": 0,
    "start_time": "2025-03-12T17:46:31.392Z"
   },
   {
    "duration": 0,
    "start_time": "2025-03-12T17:46:31.394Z"
   },
   {
    "duration": 0,
    "start_time": "2025-03-12T17:46:31.395Z"
   },
   {
    "duration": 0,
    "start_time": "2025-03-12T17:46:31.396Z"
   },
   {
    "duration": 0,
    "start_time": "2025-03-12T17:46:31.397Z"
   },
   {
    "duration": 0,
    "start_time": "2025-03-12T17:46:31.398Z"
   },
   {
    "duration": 0,
    "start_time": "2025-03-12T17:46:31.400Z"
   },
   {
    "duration": 0,
    "start_time": "2025-03-12T17:46:31.401Z"
   },
   {
    "duration": 0,
    "start_time": "2025-03-12T17:46:31.462Z"
   },
   {
    "duration": 0,
    "start_time": "2025-03-12T17:46:31.463Z"
   },
   {
    "duration": 1,
    "start_time": "2025-03-12T17:46:31.464Z"
   },
   {
    "duration": 0,
    "start_time": "2025-03-12T17:46:31.465Z"
   },
   {
    "duration": 0,
    "start_time": "2025-03-12T17:46:31.466Z"
   },
   {
    "duration": 0,
    "start_time": "2025-03-12T17:46:31.468Z"
   },
   {
    "duration": 0,
    "start_time": "2025-03-12T17:46:31.468Z"
   },
   {
    "duration": 0,
    "start_time": "2025-03-12T17:46:31.470Z"
   },
   {
    "duration": 0,
    "start_time": "2025-03-12T17:46:31.470Z"
   },
   {
    "duration": 0,
    "start_time": "2025-03-12T17:46:31.471Z"
   },
   {
    "duration": 0,
    "start_time": "2025-03-12T17:46:31.473Z"
   },
   {
    "duration": 0,
    "start_time": "2025-03-12T17:46:31.473Z"
   },
   {
    "duration": 0,
    "start_time": "2025-03-12T17:46:31.475Z"
   },
   {
    "duration": 0,
    "start_time": "2025-03-12T17:46:31.475Z"
   },
   {
    "duration": 3866,
    "start_time": "2025-03-12T18:41:00.746Z"
   },
   {
    "duration": 3280,
    "start_time": "2025-03-12T18:41:04.614Z"
   },
   {
    "duration": 3,
    "start_time": "2025-03-12T18:41:07.896Z"
   },
   {
    "duration": 17,
    "start_time": "2025-03-12T18:41:07.900Z"
   },
   {
    "duration": 6247,
    "start_time": "2025-03-12T18:41:07.919Z"
   },
   {
    "duration": 0,
    "start_time": "2025-03-12T18:41:14.169Z"
   },
   {
    "duration": 0,
    "start_time": "2025-03-12T18:41:14.170Z"
   },
   {
    "duration": 0,
    "start_time": "2025-03-12T18:41:14.171Z"
   },
   {
    "duration": 0,
    "start_time": "2025-03-12T18:41:14.172Z"
   },
   {
    "duration": 0,
    "start_time": "2025-03-12T18:41:14.173Z"
   },
   {
    "duration": 0,
    "start_time": "2025-03-12T18:41:14.174Z"
   },
   {
    "duration": 0,
    "start_time": "2025-03-12T18:41:14.175Z"
   },
   {
    "duration": 0,
    "start_time": "2025-03-12T18:41:14.176Z"
   },
   {
    "duration": 1,
    "start_time": "2025-03-12T18:41:14.176Z"
   },
   {
    "duration": 0,
    "start_time": "2025-03-12T18:41:14.177Z"
   },
   {
    "duration": 0,
    "start_time": "2025-03-12T18:41:14.178Z"
   },
   {
    "duration": 0,
    "start_time": "2025-03-12T18:41:14.179Z"
   },
   {
    "duration": 0,
    "start_time": "2025-03-12T18:41:14.180Z"
   },
   {
    "duration": 0,
    "start_time": "2025-03-12T18:41:14.181Z"
   },
   {
    "duration": 0,
    "start_time": "2025-03-12T18:41:14.182Z"
   },
   {
    "duration": 0,
    "start_time": "2025-03-12T18:41:14.183Z"
   },
   {
    "duration": 0,
    "start_time": "2025-03-12T18:41:14.184Z"
   },
   {
    "duration": 0,
    "start_time": "2025-03-12T18:41:14.185Z"
   },
   {
    "duration": 0,
    "start_time": "2025-03-12T18:41:14.186Z"
   },
   {
    "duration": 0,
    "start_time": "2025-03-12T18:41:14.187Z"
   },
   {
    "duration": 0,
    "start_time": "2025-03-12T18:41:14.188Z"
   },
   {
    "duration": 0,
    "start_time": "2025-03-12T18:41:14.189Z"
   },
   {
    "duration": 0,
    "start_time": "2025-03-12T18:41:14.190Z"
   },
   {
    "duration": 0,
    "start_time": "2025-03-12T18:41:14.192Z"
   },
   {
    "duration": 0,
    "start_time": "2025-03-12T18:41:14.193Z"
   },
   {
    "duration": 0,
    "start_time": "2025-03-12T18:41:14.194Z"
   },
   {
    "duration": 0,
    "start_time": "2025-03-12T18:41:14.195Z"
   },
   {
    "duration": 0,
    "start_time": "2025-03-12T18:41:14.196Z"
   },
   {
    "duration": 0,
    "start_time": "2025-03-12T18:41:14.197Z"
   },
   {
    "duration": 0,
    "start_time": "2025-03-12T18:41:14.198Z"
   },
   {
    "duration": 0,
    "start_time": "2025-03-12T18:41:14.199Z"
   },
   {
    "duration": 0,
    "start_time": "2025-03-12T18:41:14.200Z"
   },
   {
    "duration": 0,
    "start_time": "2025-03-12T18:41:14.201Z"
   },
   {
    "duration": 0,
    "start_time": "2025-03-12T18:41:14.202Z"
   },
   {
    "duration": 0,
    "start_time": "2025-03-12T18:41:14.203Z"
   },
   {
    "duration": 0,
    "start_time": "2025-03-12T18:41:14.204Z"
   },
   {
    "duration": 0,
    "start_time": "2025-03-12T18:41:14.205Z"
   },
   {
    "duration": 0,
    "start_time": "2025-03-12T18:41:14.261Z"
   },
   {
    "duration": 0,
    "start_time": "2025-03-12T18:41:14.263Z"
   },
   {
    "duration": 0,
    "start_time": "2025-03-12T18:41:14.264Z"
   },
   {
    "duration": 0,
    "start_time": "2025-03-12T18:41:14.265Z"
   },
   {
    "duration": 0,
    "start_time": "2025-03-12T18:41:14.266Z"
   },
   {
    "duration": 0,
    "start_time": "2025-03-12T18:41:14.267Z"
   }
  ],
  "kernelspec": {
   "display_name": "Python [conda env:practicum]",
   "language": "python",
   "name": "conda-env-practicum-py"
  },
  "language_info": {
   "codemirror_mode": {
    "name": "ipython",
    "version": 3
   },
   "file_extension": ".py",
   "mimetype": "text/x-python",
   "name": "python",
   "nbconvert_exporter": "python",
   "pygments_lexer": "ipython3",
   "version": "3.9.20"
  },
  "toc": {
   "base_numbering": 1,
   "nav_menu": {},
   "number_sections": true,
   "sideBar": true,
   "skip_h1_title": true,
   "title_cell": "Содержание",
   "title_sidebar": "Contents",
   "toc_cell": true,
   "toc_position": {
    "height": "calc(100% - 180px)",
    "left": "10px",
    "top": "150px",
    "width": "302.391px"
   },
   "toc_section_display": true,
   "toc_window_display": false
  }
 },
 "nbformat": 4,
 "nbformat_minor": 4
}
