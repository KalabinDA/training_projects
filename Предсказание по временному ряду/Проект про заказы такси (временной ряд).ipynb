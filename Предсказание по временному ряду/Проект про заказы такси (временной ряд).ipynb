{
 "cells": [
  {
   "cell_type": "markdown",
   "metadata": {},
   "source": [
    "#  Прогнозирование заказов такси"
   ]
  },
  {
   "cell_type": "markdown",
   "metadata": {},
   "source": [
    "Компания «Чётенькое такси» собрала исторические данные о заказах такси в аэропортах. Чтобы привлекать больше водителей в период пиковой нагрузки, нужно спрогнозировать количество заказов такси на следующий час. Постройте модель для такого предсказания.\n",
    "\n",
    "Значение метрики *RMSE* на тестовой выборке должно быть не больше 48.\n",
    "\n",
    "Ход исследования:\n",
    "\n",
    "1. Загрузить данные и выполнить их ресемплирование по одному часу.\n",
    "2. Проанализировать данные.\n",
    "3. Обучить разные модели с различными гиперпараметрами. Сделать тестовую выборку размером 10% от исходных данных.\n",
    "4. Проверить данные на тестовой выборке и сделать выводы."
   ]
  },
  {
   "cell_type": "markdown",
   "metadata": {},
   "source": [
    "## Подготовка"
   ]
  },
  {
   "cell_type": "markdown",
   "metadata": {},
   "source": [
    "Импортируем библиотеки, объявим константы"
   ]
  },
  {
   "cell_type": "code",
   "execution_count": 1,
   "metadata": {},
   "outputs": [],
   "source": [
    "!pip install --upgrade scikit-learn -q"
   ]
  },
  {
   "cell_type": "code",
   "execution_count": 2,
   "metadata": {},
   "outputs": [],
   "source": [
    "!pip install --upgrade lightgbm -q"
   ]
  },
  {
   "cell_type": "code",
   "execution_count": 3,
   "metadata": {},
   "outputs": [],
   "source": [
    "!pip install --upgrade catboost -q"
   ]
  },
  {
   "cell_type": "code",
   "execution_count": 4,
   "metadata": {},
   "outputs": [],
   "source": [
    "!pip install --upgrade prophet -q"
   ]
  },
  {
   "cell_type": "code",
   "execution_count": 5,
   "metadata": {},
   "outputs": [],
   "source": [
    "import warnings\n",
    "import pandas as pd\n",
    "import numpy as np\n",
    "import matplotlib.pyplot as plt\n",
    "from sklearn.model_selection import(\n",
    "    train_test_split, RandomizedSearchCV, \n",
    "    cross_validate, TimeSeriesSplit)\n",
    "from sklearn.linear_model import LinearRegression\n",
    "from sklearn.neighbors import KNeighborsRegressor\n",
    "from sklearn.tree import DecisionTreeRegressor\n",
    "from sklearn.metrics import root_mean_squared_error\n",
    "from statsmodels.tsa.seasonal import seasonal_decompose\n",
    "\n",
    "import lightgbm as lgb\n",
    "from catboost import CatBoostRegressor\n",
    "from statsmodels.tsa.stattools import adfuller\n",
    "from prophet import Prophet"
   ]
  },
  {
   "cell_type": "code",
   "execution_count": 6,
   "metadata": {},
   "outputs": [],
   "source": [
    "RANDOM_STATE = 42"
   ]
  },
  {
   "cell_type": "code",
   "execution_count": 7,
   "metadata": {},
   "outputs": [],
   "source": [
    "warnings.filterwarnings('ignore')"
   ]
  },
  {
   "cell_type": "markdown",
   "metadata": {},
   "source": [
    "Загрузим данные, переведем даты в соответствующий тип данных, сделаем столбец с датами индексом, отсортируем по возрастанию, проведем ресемплинг по одному часу, выведем первые строки таблицы и общую информацию"
   ]
  },
  {
   "cell_type": "code",
   "execution_count": 8,
   "metadata": {},
   "outputs": [
    {
     "data": {
      "text/html": [
       "<div>\n",
       "<style scoped>\n",
       "    .dataframe tbody tr th:only-of-type {\n",
       "        vertical-align: middle;\n",
       "    }\n",
       "\n",
       "    .dataframe tbody tr th {\n",
       "        vertical-align: top;\n",
       "    }\n",
       "\n",
       "    .dataframe thead th {\n",
       "        text-align: right;\n",
       "    }\n",
       "</style>\n",
       "<table border=\"1\" class=\"dataframe\">\n",
       "  <thead>\n",
       "    <tr style=\"text-align: right;\">\n",
       "      <th></th>\n",
       "      <th>num_orders</th>\n",
       "    </tr>\n",
       "    <tr>\n",
       "      <th>datetime</th>\n",
       "      <th></th>\n",
       "    </tr>\n",
       "  </thead>\n",
       "  <tbody>\n",
       "    <tr>\n",
       "      <th>2018-03-01 00:00:00</th>\n",
       "      <td>124</td>\n",
       "    </tr>\n",
       "    <tr>\n",
       "      <th>2018-03-01 01:00:00</th>\n",
       "      <td>85</td>\n",
       "    </tr>\n",
       "    <tr>\n",
       "      <th>2018-03-01 02:00:00</th>\n",
       "      <td>71</td>\n",
       "    </tr>\n",
       "    <tr>\n",
       "      <th>2018-03-01 03:00:00</th>\n",
       "      <td>66</td>\n",
       "    </tr>\n",
       "    <tr>\n",
       "      <th>2018-03-01 04:00:00</th>\n",
       "      <td>43</td>\n",
       "    </tr>\n",
       "  </tbody>\n",
       "</table>\n",
       "</div>"
      ],
      "text/plain": [
       "                     num_orders\n",
       "datetime                       \n",
       "2018-03-01 00:00:00         124\n",
       "2018-03-01 01:00:00          85\n",
       "2018-03-01 02:00:00          71\n",
       "2018-03-01 03:00:00          66\n",
       "2018-03-01 04:00:00          43"
      ]
     },
     "metadata": {},
     "output_type": "display_data"
    },
    {
     "name": "stdout",
     "output_type": "stream",
     "text": [
      "<class 'pandas.core.frame.DataFrame'>\n",
      "DatetimeIndex: 4416 entries, 2018-03-01 00:00:00 to 2018-08-31 23:00:00\n",
      "Freq: H\n",
      "Data columns (total 1 columns):\n",
      " #   Column      Non-Null Count  Dtype\n",
      "---  ------      --------------  -----\n",
      " 0   num_orders  4416 non-null   int64\n",
      "dtypes: int64(1)\n",
      "memory usage: 69.0 KB\n"
     ]
    }
   ],
   "source": [
    "data = pd.read_csv('datasets/taxi.csv', index_col=[0], parse_dates=[0])\n",
    "data.sort_index(inplace=True)\n",
    "data = data.resample('1H').sum()\n",
    "display(data.head(5))\n",
    "data.info()"
   ]
  },
  {
   "cell_type": "markdown",
   "metadata": {},
   "source": [
    "Данные загрузились и преобразовались корректно, получили записи с первого марта 2018 по тридцать первое августа 2018 года, всего 4416 записей, пропусков среди них нет"
   ]
  },
  {
   "cell_type": "markdown",
   "metadata": {},
   "source": [
    "## Анализ"
   ]
  },
  {
   "cell_type": "markdown",
   "metadata": {},
   "source": [
    "Выведем график  зависимости заказов от времени, а также скользящие среднее и стандартное отклонение"
   ]
  },
  {
   "cell_type": "code",
   "execution_count": 9,
   "metadata": {},
   "outputs": [
    {
     "data": {
      "image/png": "[encoded data removed]",
      "text/plain": [
       "<Figure size 1400x600 with 1 Axes>"
      ]
     },
     "metadata": {},
     "output_type": "display_data"
    }
   ],
   "source": [
    "data_rolling = data\n",
    "data['rolling_mean'] = data['num_orders'].rolling(24).mean() \n",
    "data['rolling_std'] = data['num_orders'].rolling(24).std()\n",
    "data.plot(\n",
    "    figsize=(14,6), linewidth=4, title='Скользящие среднее и отклонение', \n",
    "    xlabel='Время', ylabel='Заказы'\n",
    ");\n",
    "data = data.drop(columns=['rolling_mean', 'rolling_std'])"
   ]
  },
  {
   "cell_type": "markdown",
   "metadata": {},
   "source": [
    "Видно небольшое увеличение тенденции и выбросы ближе к концу наблюдений. Чтобы однозначно судить о статичности временного ряда, проведем тест Дики-Фуллера и возьмем допустимым p-value не больше 0,05"
   ]
  },
  {
   "cell_type": "code",
   "execution_count": 10,
   "metadata": {},
   "outputs": [
    {
     "name": "stdout",
     "output_type": "stream",
     "text": [
      "p-value = 0.028940051402613094\n"
     ]
    }
   ],
   "source": [
    "result = adfuller(data)\n",
    "print('p-value =', result[1])"
   ]
  },
  {
   "cell_type": "markdown",
   "metadata": {},
   "source": [
    "p-value в пределах нормы, значит временной ряд можно считать статическим и делать на нем прогнозы."
   ]
  },
  {
   "cell_type": "markdown",
   "metadata": {},
   "source": [
    "Рассмотрим подробнее тренд, а также сезонность в месяцах, неделях и днях, найдём остатки"
   ]
  },
  {
   "cell_type": "code",
   "execution_count": 11,
   "metadata": {},
   "outputs": [],
   "source": [
    "decomposed = seasonal_decompose(data)"
   ]
  },
  {
   "cell_type": "code",
   "execution_count": 12,
   "metadata": {},
   "outputs": [
    {
     "data": {
      "image/png": "[encoded data removed]",
      "text/plain": [
       "<Figure size 1400x1000 with 5 Axes>"
      ]
     },
     "metadata": {},
     "output_type": "display_data"
    }
   ],
   "source": [
    "plt.figure(figsize=(14, 10))\n",
    "plt.subplot(511)\n",
    "decomposed.trend.plot(ax=plt.gca())\n",
    "plt.title('Trend')\n",
    "plt.xlabel('Даты')\n",
    "plt.subplot(512)\n",
    "decomposed.seasonal['2018-08-01':'2018-08-31'].plot(ax=plt.gca()) \n",
    "plt.title('Seasonality_month')\n",
    "plt.xlabel('Дни')\n",
    "plt.subplot(513)\n",
    "decomposed.seasonal['2018-08-01':'2018-08-07'].plot(ax=plt.gca()) \n",
    "plt.title('Seasonality_week')\n",
    "plt.xlabel('Дни')\n",
    "plt.subplot(514)\n",
    "decomposed.seasonal['2018-08-01'].plot(ax=plt.gca()) \n",
    "plt.title('Seasonality_day')\n",
    "plt.xlabel('Часы')\n",
    "plt.subplot(515)\n",
    "decomposed.resid.plot(ax=plt.gca()) \n",
    "plt.title('Residuals')\n",
    "plt.xlabel('Даты')\n",
    "plt.tight_layout()"
   ]
  },
  {
   "cell_type": "markdown",
   "metadata": {},
   "source": [
    "Как мы и предполагали, присутствует небольшое увеличение тренда и выбросы близко к концу наблюдений. Кроме того, наблюдается цикличность в течение дня с пиком в полночь и спадом в 6 утра"
   ]
  },
  {
   "cell_type": "markdown",
   "metadata": {},
   "source": [
    "## Обучение"
   ]
  },
  {
   "cell_type": "markdown",
   "metadata": {},
   "source": [
    "Создадим функции для добавления новых признаков, перебора по сетке для лучшего количества добавления признаков и для подбора гиперпараметров через рандомный поиск"
   ]
  },
  {
   "cell_type": "code",
   "execution_count": 13,
   "metadata": {},
   "outputs": [],
   "source": [
    "def make_features(df, max_lag, rolling_mean_size):\n",
    "#Добавляем месяц, день, день недели, час, несколько отстающих значений и скользящее среднее\n",
    "    df['month'] = df.index.month\n",
    "    df['dayofweek'] = df.index.dayofweek\n",
    "    df['hour'] = df.index.hour\n",
    "    \n",
    "    for lag in range(1, max_lag + 1):\n",
    "        df['lag_{}'.format(lag)] = df['num_orders'].shift(lag)\n",
    "\n",
    "    df['rolling_mean'] = df['num_orders'].shift().rolling(rolling_mean_size).mean()\n",
    "    return df"
   ]
  },
  {
   "cell_type": "code",
   "execution_count": 14,
   "metadata": {},
   "outputs": [],
   "source": [
    "def best_features(max_lag=24, rolling_mean_size=20):\n",
    "#Сравнивать метрику будем с максимальной в поставленной задаче. Минус из-за особенности функции cross_validate\n",
    "    best_score = -48\n",
    "    tscv = TimeSeriesSplit(n_splits=3)\n",
    "#Подбирать будем для линейной регрессии, для других моделей пришлось бы очень долго перебирать тут же параметры\n",
    "    model = LinearRegression()\n",
    "#Поскольку данные цикличны в день, будем делать шаги по дням\n",
    "    for lag in range(24, max_lag+1, 24):\n",
    "        for roll in range(20, rolling_mean_size+1, 10):\n",
    "#Каждый раз создаем датафрейм чтобы убрать изменения предыдущей итерации\n",
    "            data = pd.read_csv('datasets/taxi.csv', index_col=[0], parse_dates=[0])\n",
    "            data.sort_index(inplace=True)\n",
    "            data = data.resample('1H').sum()\n",
    "            make_features(data, lag, roll)\n",
    "            train, test = train_test_split(data, shuffle=False, test_size=0.1)\n",
    "            train = train.dropna()\n",
    "            X_train = train.drop(columns='num_orders')\n",
    "            y_train = train['num_orders']\n",
    "#Метрику находим кросс-валидацией на три фолда методом TimeSeriesSplit для временных рядов\n",
    "            cv_results = cross_validate(\n",
    "                model,\n",
    "                X_train, \n",
    "                y_train, \n",
    "                cv=tscv, \n",
    "                scoring='neg_root_mean_squared_error'\n",
    "            )\n",
    "#Сравниваем метрики, сохраняем результат если лучше\n",
    "            if cv_results['test_score'].mean() > best_score:\n",
    "                best_score = cv_results['test_score'].mean()               \n",
    "                best_lag = lag\n",
    "                best_roll = roll\n",
    "            del data\n",
    "    print('RMSE =', best_score*-1, '|max_lag =', best_lag, '|best_roll =', best_roll)\n",
    "    return  best_lag, best_roll"
   ]
  },
  {
   "cell_type": "code",
   "execution_count": 15,
   "metadata": {},
   "outputs": [],
   "source": [
    "def search(estimator, params={}):\n",
    "    tscv = TimeSeriesSplit(n_splits=3)\n",
    "    model = estimator\n",
    "    grid_search = RandomizedSearchCV(\n",
    "        model, \n",
    "        params, \n",
    "        cv=tscv, \n",
    "        scoring='neg_root_mean_squared_error', \n",
    "        random_state=RANDOM_STATE, \n",
    "        n_iter=50,\n",
    "        n_jobs=-1)\n",
    "    grid_search.fit(X_train, y_train)\n",
    "    best_score = grid_search.best_score_\n",
    "    best_model = grid_search.best_estimator_\n",
    "    print('RMSE =', best_score*-1, '|', best_model)\n",
    "    return best_model"
   ]
  },
  {
   "cell_type": "markdown",
   "metadata": {},
   "source": [
    "Найдём лучшее количество отстающих значений и размер окна скользящего среднего"
   ]
  },
  {
   "cell_type": "code",
   "execution_count": 16,
   "metadata": {},
   "outputs": [
    {
     "name": "stdout",
     "output_type": "stream",
     "text": [
      "RMSE = 23.042889333838517 |max_lag = 168 |best_roll = 40\n"
     ]
    }
   ],
   "source": [
    "best_lag, best_roll = best_features(max_lag=192, rolling_mean_size=100)"
   ]
  },
  {
   "cell_type": "markdown",
   "metadata": {},
   "source": [
    "Лучше всего модель обучается на отстающих значениях за неделю и скользящем окне размером 50. Создадим эти признаки и разделим данные на тестовые и тренировочные"
   ]
  },
  {
   "cell_type": "code",
   "execution_count": 17,
   "metadata": {},
   "outputs": [],
   "source": [
    "data = pd.read_csv('datasets/taxi.csv', index_col=[0], parse_dates=[0])\n",
    "data.sort_index(inplace=True)\n",
    "data = data.resample('1H').sum()\n",
    "make_features(data, best_lag, best_roll)\n",
    "train, test = train_test_split(data, shuffle=False, test_size=0.1)\n",
    "train = train.dropna()\n",
    "X_train = train.drop(columns='num_orders')\n",
    "y_train = train['num_orders']\n",
    "X_test = test.drop(columns='num_orders')\n",
    "y_test = test['num_orders']"
   ]
  },
  {
   "cell_type": "markdown",
   "metadata": {},
   "source": [
    "Подберем параметры для моделей дерева решений, бустинга LightGBM, ближайших соседей, бустинга CatBoost"
   ]
  },
  {
   "cell_type": "code",
   "execution_count": 18,
   "metadata": {},
   "outputs": [],
   "source": [
    "param_tree = {\n",
    "    'max_depth': range(2,20,2),\n",
    "    'min_samples_leaf': range(2,20,2)\n",
    "}"
   ]
  },
  {
   "cell_type": "code",
   "execution_count": 19,
   "metadata": {},
   "outputs": [
    {
     "name": "stdout",
     "output_type": "stream",
     "text": [
      "RMSE = 26.96696830626495 | DecisionTreeRegressor(max_depth=4, min_samples_leaf=16, random_state=42)\n"
     ]
    }
   ],
   "source": [
    "tree = search(\n",
    "    DecisionTreeRegressor(random_state=RANDOM_STATE), \n",
    "    params=param_tree\n",
    ")"
   ]
  },
  {
   "cell_type": "code",
   "execution_count": 20,
   "metadata": {},
   "outputs": [],
   "source": [
    "params_lgbm = {'num_leaves': range(20, 41, 2), \n",
    "                  'learning_rate': np.arange(0.01, 1.0, 0.03), \n",
    "                 'n_estimators': range(100, 301, 100)}"
   ]
  },
  {
   "cell_type": "code",
   "execution_count": 21,
   "metadata": {},
   "outputs": [
    {
     "name": "stdout",
     "output_type": "stream",
     "text": [
      "RMSE = 23.463996857303695 | LGBMRegressor(learning_rate=0.04, n_estimators=300, num_leaves=22,\n",
      "              random_state=42, verbosity=-1)\n"
     ]
    }
   ],
   "source": [
    "lgbm = search(\n",
    "    lgb.LGBMRegressor(\n",
    "        random_state=RANDOM_STATE, \n",
    "        verbosity=-1\n",
    "    ), \n",
    "    params=params_lgbm\n",
    ")"
   ]
  },
  {
   "cell_type": "code",
   "execution_count": 22,
   "metadata": {},
   "outputs": [
    {
     "name": "stdout",
     "output_type": "stream",
     "text": [
      "RMSE = 27.792332730824075 | KNeighborsRegressor(n_neighbors=4)\n"
     ]
    }
   ],
   "source": [
    "knn = search(\n",
    "    KNeighborsRegressor(), \n",
    "    params={'n_neighbors': range(2, 20)}\n",
    ")"
   ]
  },
  {
   "cell_type": "code",
   "execution_count": 23,
   "metadata": {},
   "outputs": [],
   "source": [
    "cat_params = {\n",
    "    'iterations': range(100, 301, 100), \n",
    "    'learning_rate': np.arange(0.01, 1, 0.03)\n",
    "}"
   ]
  },
  {
   "cell_type": "code",
   "execution_count": 24,
   "metadata": {},
   "outputs": [
    {
     "name": "stdout",
     "output_type": "stream",
     "text": [
      "RMSE = 23.687767192959324 | <catboost.core.CatBoostRegressor object at 0x000001F15EF48070>\n"
     ]
    }
   ],
   "source": [
    "cat = search(\n",
    "    CatBoostRegressor(\n",
    "        random_state=RANDOM_STATE, \n",
    "        verbose=False), \n",
    "    params=cat_params\n",
    ")"
   ]
  },
  {
   "cell_type": "markdown",
   "metadata": {},
   "source": [
    "Кроме того, обучим модель Prophet, для которой нужна другая подготовка данных"
   ]
  },
  {
   "cell_type": "code",
   "execution_count": 25,
   "metadata": {},
   "outputs": [
    {
     "data": {
      "text/html": [
       "<div>\n",
       "<style scoped>\n",
       "    .dataframe tbody tr th:only-of-type {\n",
       "        vertical-align: middle;\n",
       "    }\n",
       "\n",
       "    .dataframe tbody tr th {\n",
       "        vertical-align: top;\n",
       "    }\n",
       "\n",
       "    .dataframe thead th {\n",
       "        text-align: right;\n",
       "    }\n",
       "</style>\n",
       "<table border=\"1\" class=\"dataframe\">\n",
       "  <thead>\n",
       "    <tr style=\"text-align: right;\">\n",
       "      <th></th>\n",
       "      <th>ds</th>\n",
       "      <th>y</th>\n",
       "    </tr>\n",
       "  </thead>\n",
       "  <tbody>\n",
       "    <tr>\n",
       "      <th>0</th>\n",
       "      <td>2018-03-01 00:00:00</td>\n",
       "      <td>124</td>\n",
       "    </tr>\n",
       "    <tr>\n",
       "      <th>1</th>\n",
       "      <td>2018-03-01 01:00:00</td>\n",
       "      <td>85</td>\n",
       "    </tr>\n",
       "    <tr>\n",
       "      <th>2</th>\n",
       "      <td>2018-03-01 02:00:00</td>\n",
       "      <td>71</td>\n",
       "    </tr>\n",
       "  </tbody>\n",
       "</table>\n",
       "</div>"
      ],
      "text/plain": [
       "                   ds    y\n",
       "0 2018-03-01 00:00:00  124\n",
       "1 2018-03-01 01:00:00   85\n",
       "2 2018-03-01 02:00:00   71"
      ]
     },
     "execution_count": 25,
     "metadata": {},
     "output_type": "execute_result"
    }
   ],
   "source": [
    "data_proph = pd.read_csv('datasets/taxi.csv', index_col=[0], parse_dates=[0])\n",
    "data_proph.sort_index(inplace=True)\n",
    "data_proph = data_proph.resample('1H').sum()\n",
    "data_proph = data_proph.reset_index()\n",
    "data_proph.columns = ['ds', 'y']\n",
    "data_proph.head(3)"
   ]
  },
  {
   "cell_type": "code",
   "execution_count": 26,
   "metadata": {},
   "outputs": [],
   "source": [
    "train_proph, test_proph = train_test_split(\n",
    "    data_proph, shuffle=False, test_size=0.1\n",
    ")"
   ]
  },
  {
   "cell_type": "code",
   "execution_count": 27,
   "metadata": {},
   "outputs": [],
   "source": [
    "train_proph, val_proph = train_test_split(\n",
    "    train_proph, shuffle=False, test_size=0.3\n",
    ")"
   ]
  },
  {
   "cell_type": "code",
   "execution_count": 28,
   "metadata": {},
   "outputs": [],
   "source": [
    "X_test_proph = test_proph.drop(columns='y')\n",
    "X_val_proph = val_proph.drop(columns='y')\n",
    "y_val_proph = val_proph.drop(columns='ds')"
   ]
  },
  {
   "cell_type": "code",
   "execution_count": 29,
   "metadata": {},
   "outputs": [],
   "source": [
    "model_proph = Prophet(\n",
    "    changepoint_range=1, \n",
    "    n_changepoints=500, \n",
    "    changepoint_prior_scale=0.1, \n",
    "    seasonality_prior_scale=30\n",
    ")"
   ]
  },
  {
   "cell_type": "code",
   "execution_count": 30,
   "metadata": {},
   "outputs": [
    {
     "name": "stderr",
     "output_type": "stream",
     "text": [
      "19:01:15 - cmdstanpy - INFO - Chain [1] start processing\n",
      "19:01:17 - cmdstanpy - INFO - Chain [1] done processing\n"
     ]
    },
    {
     "data": {
      "text/plain": [
       "<prophet.forecaster.Prophet at 0x1f111a07400>"
      ]
     },
     "execution_count": 30,
     "metadata": {},
     "output_type": "execute_result"
    }
   ],
   "source": [
    "model_proph.fit(train_proph)"
   ]
  },
  {
   "cell_type": "code",
   "execution_count": 31,
   "metadata": {},
   "outputs": [
    {
     "name": "stdout",
     "output_type": "stream",
     "text": [
      "Prophet RMSE= 29.831567436167578\n"
     ]
    }
   ],
   "source": [
    "forecast = model_proph.predict(X_val_proph)\n",
    "print(\n",
    "    'Prophet RMSE=', \n",
    "    root_mean_squared_error(y_val_proph, forecast['yhat'])\n",
    ")"
   ]
  },
  {
   "cell_type": "markdown",
   "metadata": {},
   "source": [
    "Все модели обучены, на кросс-валидации лучше всего себя показала модель линейной регрессии. Возьмем её для дальнейшего анализа"
   ]
  },
  {
   "cell_type": "markdown",
   "metadata": {},
   "source": [
    "## Тестирование"
   ]
  },
  {
   "cell_type": "markdown",
   "metadata": {},
   "source": [
    "Выведем RMSE и построим график ошибок "
   ]
  },
  {
   "cell_type": "code",
   "execution_count": 32,
   "metadata": {},
   "outputs": [
    {
     "name": "stdout",
     "output_type": "stream",
     "text": [
      "RMSE тестовой выборки = 34.61658839027881\n"
     ]
    },
    {
     "data": {
      "image/png": "[encoded data removed]",
      "text/plain": [
       "<Figure size 1600x800 with 1 Axes>"
      ]
     },
     "metadata": {},
     "output_type": "display_data"
    }
   ],
   "source": [
    "linreg = LinearRegression()\n",
    "linreg.fit(X_train, y_train)\n",
    "df = test_proph.set_index('ds', drop=True)\n",
    "df['predictions'] = linreg.predict(X_test)\n",
    "df.plot(\n",
    "    figsize=(16,8), \n",
    "    title='Ошибки модели', \n",
    "    xlabel='Время', \n",
    "    ylabel='Заказы'\n",
    ");\n",
    "print(\n",
    "    'RMSE тестовой выборки =', \n",
    "    root_mean_squared_error(y_test, linreg.predict(X_test))\n",
    ")\n"
   ]
  },
  {
   "cell_type": "code",
   "execution_count": 33,
   "metadata": {},
   "outputs": [
    {
     "ename": "KeyError",
     "evalue": "'num_orders'",
     "output_type": "error",
     "traceback": [
      "\u001b[1;31m---------------------------------------------------------------------------\u001b[0m",
      "\u001b[1;31mKeyError\u001b[0m                                  Traceback (most recent call last)",
      "File \u001b[1;32mA:\\Anaconda\\envs\\practicum\\lib\\site-packages\\pandas\\core\\indexes\\base.py:3080\u001b[0m, in \u001b[0;36mIndex.get_loc\u001b[1;34m(self, key, method, tolerance)\u001b[0m\n\u001b[0;32m   3079\u001b[0m \u001b[38;5;28;01mtry\u001b[39;00m:\n\u001b[1;32m-> 3080\u001b[0m     \u001b[38;5;28;01mreturn\u001b[39;00m \u001b[38;5;28;43mself\u001b[39;49m\u001b[38;5;241;43m.\u001b[39;49m\u001b[43m_engine\u001b[49m\u001b[38;5;241;43m.\u001b[39;49m\u001b[43mget_loc\u001b[49m\u001b[43m(\u001b[49m\u001b[43mcasted_key\u001b[49m\u001b[43m)\u001b[49m\n\u001b[0;32m   3081\u001b[0m \u001b[38;5;28;01mexcept\u001b[39;00m \u001b[38;5;167;01mKeyError\u001b[39;00m \u001b[38;5;28;01mas\u001b[39;00m err:\n",
      "File \u001b[1;32mpandas\\_libs\\index.pyx:70\u001b[0m, in \u001b[0;36mpandas._libs.index.IndexEngine.get_loc\u001b[1;34m()\u001b[0m\n",
      "File \u001b[1;32mpandas\\_libs\\index.pyx:101\u001b[0m, in \u001b[0;36mpandas._libs.index.IndexEngine.get_loc\u001b[1;34m()\u001b[0m\n",
      "File \u001b[1;32mpandas\\_libs\\hashtable_class_helper.pxi:4554\u001b[0m, in \u001b[0;36mpandas._libs.hashtable.PyObjectHashTable.get_item\u001b[1;34m()\u001b[0m\n",
      "File \u001b[1;32mpandas\\_libs\\hashtable_class_helper.pxi:4562\u001b[0m, in \u001b[0;36mpandas._libs.hashtable.PyObjectHashTable.get_item\u001b[1;34m()\u001b[0m\n",
      "\u001b[1;31mKeyError\u001b[0m: 'num_orders'",
      "\nThe above exception was the direct cause of the following exception:\n",
      "\u001b[1;31mKeyError\u001b[0m                                  Traceback (most recent call last)",
      "Cell \u001b[1;32mIn[33], line 4\u001b[0m\n\u001b[0;32m      2\u001b[0m df[\u001b[38;5;124m'\u001b[39m\u001b[38;5;124mdayofweek\u001b[39m\u001b[38;5;124m'\u001b[39m] \u001b[38;5;241m=\u001b[39m df\u001b[38;5;241m.\u001b[39mindex\u001b[38;5;241m.\u001b[39mdayofweek\n\u001b[0;32m      3\u001b[0m df[\u001b[38;5;124m'\u001b[39m\u001b[38;5;124mhour\u001b[39m\u001b[38;5;124m'\u001b[39m] \u001b[38;5;241m=\u001b[39m df\u001b[38;5;241m.\u001b[39mindex\u001b[38;5;241m.\u001b[39mhour\n\u001b[1;32m----> 4\u001b[0m df[\u001b[38;5;124m'\u001b[39m\u001b[38;5;124mlag_\u001b[39m\u001b[38;5;132;01m{}\u001b[39;00m\u001b[38;5;124m'\u001b[39m\u001b[38;5;241m.\u001b[39mformat(lag)] \u001b[38;5;241m=\u001b[39m \u001b[43mdf\u001b[49m\u001b[43m[\u001b[49m\u001b[38;5;124;43m'\u001b[39;49m\u001b[38;5;124;43mnum_orders\u001b[39;49m\u001b[38;5;124;43m'\u001b[39;49m\u001b[43m]\u001b[49m\u001b[38;5;241m.\u001b[39mshift(lag)\n\u001b[0;32m      5\u001b[0m df[\u001b[38;5;124m'\u001b[39m\u001b[38;5;124mrolling_mean\u001b[39m\u001b[38;5;124m'\u001b[39m] \u001b[38;5;241m=\u001b[39m df[\u001b[38;5;124m'\u001b[39m\u001b[38;5;124mnum_orders\u001b[39m\u001b[38;5;124m'\u001b[39m]\u001b[38;5;241m.\u001b[39mshift()\u001b[38;5;241m.\u001b[39mrolling(rolling_mean_size)\u001b[38;5;241m.\u001b[39mmean()\n",
      "File \u001b[1;32mA:\\Anaconda\\envs\\practicum\\lib\\site-packages\\pandas\\core\\frame.py:3024\u001b[0m, in \u001b[0;36mDataFrame.__getitem__\u001b[1;34m(self, key)\u001b[0m\n\u001b[0;32m   3022\u001b[0m \u001b[38;5;28;01mif\u001b[39;00m \u001b[38;5;28mself\u001b[39m\u001b[38;5;241m.\u001b[39mcolumns\u001b[38;5;241m.\u001b[39mnlevels \u001b[38;5;241m>\u001b[39m \u001b[38;5;241m1\u001b[39m:\n\u001b[0;32m   3023\u001b[0m     \u001b[38;5;28;01mreturn\u001b[39;00m \u001b[38;5;28mself\u001b[39m\u001b[38;5;241m.\u001b[39m_getitem_multilevel(key)\n\u001b[1;32m-> 3024\u001b[0m indexer \u001b[38;5;241m=\u001b[39m \u001b[38;5;28;43mself\u001b[39;49m\u001b[38;5;241;43m.\u001b[39;49m\u001b[43mcolumns\u001b[49m\u001b[38;5;241;43m.\u001b[39;49m\u001b[43mget_loc\u001b[49m\u001b[43m(\u001b[49m\u001b[43mkey\u001b[49m\u001b[43m)\u001b[49m\n\u001b[0;32m   3025\u001b[0m \u001b[38;5;28;01mif\u001b[39;00m is_integer(indexer):\n\u001b[0;32m   3026\u001b[0m     indexer \u001b[38;5;241m=\u001b[39m [indexer]\n",
      "File \u001b[1;32mA:\\Anaconda\\envs\\practicum\\lib\\site-packages\\pandas\\core\\indexes\\base.py:3082\u001b[0m, in \u001b[0;36mIndex.get_loc\u001b[1;34m(self, key, method, tolerance)\u001b[0m\n\u001b[0;32m   3080\u001b[0m         \u001b[38;5;28;01mreturn\u001b[39;00m \u001b[38;5;28mself\u001b[39m\u001b[38;5;241m.\u001b[39m_engine\u001b[38;5;241m.\u001b[39mget_loc(casted_key)\n\u001b[0;32m   3081\u001b[0m     \u001b[38;5;28;01mexcept\u001b[39;00m \u001b[38;5;167;01mKeyError\u001b[39;00m \u001b[38;5;28;01mas\u001b[39;00m err:\n\u001b[1;32m-> 3082\u001b[0m         \u001b[38;5;28;01mraise\u001b[39;00m \u001b[38;5;167;01mKeyError\u001b[39;00m(key) \u001b[38;5;28;01mfrom\u001b[39;00m \u001b[38;5;21;01merr\u001b[39;00m\n\u001b[0;32m   3084\u001b[0m \u001b[38;5;28;01mif\u001b[39;00m tolerance \u001b[38;5;129;01mis\u001b[39;00m \u001b[38;5;129;01mnot\u001b[39;00m \u001b[38;5;28;01mNone\u001b[39;00m:\n\u001b[0;32m   3085\u001b[0m     tolerance \u001b[38;5;241m=\u001b[39m \u001b[38;5;28mself\u001b[39m\u001b[38;5;241m.\u001b[39m_convert_tolerance(tolerance, np\u001b[38;5;241m.\u001b[39masarray(key))\n",
      "\u001b[1;31mKeyError\u001b[0m: 'num_orders'"
     ]
    }
   ],
   "source": [
    "df['month'] = df.index.month\n",
    "df['dayofweek'] = df.index.dayofweek\n",
    "df['hour'] = df.index.hour\n",
    "df['lag_{}'.format(lag)] = df['num_orders'].shift(lag)\n",
    "df['rolling_mean'] = df['num_orders'].shift().rolling(rolling_mean_size).mean()"
   ]
  },
  {
   "cell_type": "markdown",
   "metadata": {},
   "source": [
    "Значение RMSE с запасом удовлетворяет требованиям. Видно, что линейная регрессия хорошо уловила закономерности в изменении целевого признака. При этом видны резкие скачки и падения, которые не прогнозируются. Скорее всего, они связаны с внешними факторами. "
   ]
  },
  {
   "cell_type": "markdown",
   "metadata": {},
   "source": [
    "### Финальный вывод"
   ]
  },
  {
   "cell_type": "markdown",
   "metadata": {},
   "source": [
    "* Для обучения модели предсказания заказов на следующий час были получены исторические данные о количестве заказов с привязкой ко времени в период с марта 2018 по август 2018. \n",
    "* При анализе временного ряда выяснилось, что это статический ряд, а значит он хорошо подходит для предсказаний. Кроме того, близко к концу наблюдений тренд увеличивается, присутствуют несколько выбросов. Заметна цикличность в течение суток с пиком в полночь и минимумом в 6 утра.\n",
    "* Для решения задачи были выбраны несколько моделей регрессии, а именно линейная регрессия, дерево решений, метод ближайших соседей, CatBoost, LightGBM и специализированный для временных рядов Prophet. Для них в данные были добавлены новые признаки и подобраны параметры.\n",
    "* По результатам обучения лучше всего себя показала **линейная регрессия**, продемонстрировав метрику RMSE примерно 34,6 и схожесть предсказанных значений с реальными.\n",
    "* Для дальнейшего улучшения моделей стоит собрать подобные данные за год для возможного выявления ежегодных и сезонных закономерностей, а также составить список ежегодных праздников для учета повышенной нагрузки в эти дни."
   ]
  }
 ],
 "metadata": {
  "ExecuteTimeLog": [
   {
    "duration": 3245,
    "start_time": "2025-02-24T19:13:36.294Z"
   },
   {
    "duration": 2930,
    "start_time": "2025-02-24T19:13:39.541Z"
   },
   {
    "duration": 1590,
    "start_time": "2025-02-24T19:13:42.474Z"
   },
   {
    "duration": 3,
    "start_time": "2025-02-24T19:14:47.905Z"
   },
   {
    "duration": 68,
    "start_time": "2025-02-24T19:15:25.561Z"
   },
   {
    "duration": 64,
    "start_time": "2025-02-24T19:16:35.953Z"
   },
   {
    "duration": 285,
    "start_time": "2025-02-24T19:25:20.370Z"
   },
   {
    "duration": 249,
    "start_time": "2025-02-24T19:26:59.203Z"
   },
   {
    "duration": 81,
    "start_time": "2025-02-24T19:27:28.278Z"
   },
   {
    "duration": 74,
    "start_time": "2025-02-24T19:27:34.525Z"
   },
   {
    "duration": 215,
    "start_time": "2025-02-24T19:27:42.857Z"
   },
   {
    "duration": 198,
    "start_time": "2025-02-24T19:28:02.565Z"
   },
   {
    "duration": 199,
    "start_time": "2025-02-24T19:28:53.675Z"
   },
   {
    "duration": 35,
    "start_time": "2025-02-24T19:29:51.779Z"
   },
   {
    "duration": 136,
    "start_time": "2025-02-24T19:32:03.807Z"
   },
   {
    "duration": 58,
    "start_time": "2025-02-24T19:32:38.255Z"
   },
   {
    "duration": 199,
    "start_time": "2025-02-24T19:32:41.455Z"
   },
   {
    "duration": 192,
    "start_time": "2025-02-24T19:33:02.696Z"
   },
   {
    "duration": 55,
    "start_time": "2025-02-24T19:33:12.687Z"
   },
   {
    "duration": 211,
    "start_time": "2025-02-24T19:33:17.572Z"
   },
   {
    "duration": 14,
    "start_time": "2025-02-24T19:33:20.507Z"
   },
   {
    "duration": 54,
    "start_time": "2025-02-24T19:33:26.954Z"
   },
   {
    "duration": 12,
    "start_time": "2025-02-24T19:33:30.483Z"
   },
   {
    "duration": 784,
    "start_time": "2025-02-24T19:33:32.367Z"
   },
   {
    "duration": 857,
    "start_time": "2025-02-24T19:34:17.217Z"
   },
   {
    "duration": 782,
    "start_time": "2025-02-24T19:36:05.612Z"
   },
   {
    "duration": 981,
    "start_time": "2025-02-24T19:38:31.576Z"
   },
   {
    "duration": 868,
    "start_time": "2025-02-24T19:38:38.798Z"
   },
   {
    "duration": 961,
    "start_time": "2025-02-24T19:44:42.491Z"
   },
   {
    "duration": 218,
    "start_time": "2025-02-24T19:45:33.444Z"
   },
   {
    "duration": 209,
    "start_time": "2025-02-24T19:45:41.962Z"
   },
   {
    "duration": 241,
    "start_time": "2025-02-24T19:46:33.012Z"
   },
   {
    "duration": 166,
    "start_time": "2025-02-24T19:47:27.164Z"
   },
   {
    "duration": 255,
    "start_time": "2025-02-24T19:47:37.983Z"
   },
   {
    "duration": 230,
    "start_time": "2025-02-24T19:49:00.885Z"
   },
   {
    "duration": 179,
    "start_time": "2025-02-24T19:50:42.429Z"
   },
   {
    "duration": 15259,
    "start_time": "2025-02-24T19:52:16.527Z"
   },
   {
    "duration": 88691,
    "start_time": "2025-02-24T19:53:11.434Z"
   },
   {
    "duration": 6,
    "start_time": "2025-02-24T19:54:40.128Z"
   },
   {
    "duration": 422,
    "start_time": "2025-02-24T19:54:40.135Z"
   },
   {
    "duration": 217,
    "start_time": "2025-02-24T19:54:51.034Z"
   },
   {
    "duration": 206,
    "start_time": "2025-02-24T19:55:10.905Z"
   },
   {
    "duration": 193,
    "start_time": "2025-02-24T19:55:24.457Z"
   },
   {
    "duration": 27,
    "start_time": "2025-02-24T19:56:36.233Z"
   },
   {
    "duration": 775,
    "start_time": "2025-02-24T19:57:02.531Z"
   },
   {
    "duration": 783,
    "start_time": "2025-02-24T19:58:01.727Z"
   },
   {
    "duration": 902,
    "start_time": "2025-02-24T19:58:17.359Z"
   },
   {
    "duration": 785,
    "start_time": "2025-02-24T19:59:15.506Z"
   },
   {
    "duration": 769,
    "start_time": "2025-02-24T20:01:53.581Z"
   },
   {
    "duration": 201,
    "start_time": "2025-02-24T20:02:48.969Z"
   },
   {
    "duration": 251,
    "start_time": "2025-02-24T20:03:10.348Z"
   },
   {
    "duration": 218,
    "start_time": "2025-02-24T20:03:26.832Z"
   },
   {
    "duration": 224,
    "start_time": "2025-02-24T20:03:35.737Z"
   },
   {
    "duration": 892,
    "start_time": "2025-02-24T20:03:57.961Z"
   },
   {
    "duration": 786,
    "start_time": "2025-02-24T20:04:04.150Z"
   },
   {
    "duration": 778,
    "start_time": "2025-02-24T20:05:01.157Z"
   },
   {
    "duration": 747,
    "start_time": "2025-02-24T20:05:43.108Z"
   },
   {
    "duration": 22,
    "start_time": "2025-02-24T20:05:58.232Z"
   },
   {
    "duration": 21,
    "start_time": "2025-02-24T20:06:02.374Z"
   },
   {
    "duration": 24,
    "start_time": "2025-02-24T20:06:10.500Z"
   },
   {
    "duration": 22,
    "start_time": "2025-02-24T20:06:14.977Z"
   },
   {
    "duration": 22,
    "start_time": "2025-02-24T20:06:21.921Z"
   },
   {
    "duration": 920,
    "start_time": "2025-02-24T20:06:29.853Z"
   },
   {
    "duration": 238,
    "start_time": "2025-02-24T20:07:28.031Z"
   },
   {
    "duration": 3101,
    "start_time": "2025-02-25T16:28:43.770Z"
   },
   {
    "duration": 2953,
    "start_time": "2025-02-25T16:28:46.874Z"
   },
   {
    "duration": 3011,
    "start_time": "2025-02-25T16:32:54.492Z"
   },
   {
    "duration": 2826,
    "start_time": "2025-02-25T16:32:57.506Z"
   },
   {
    "duration": 2,
    "start_time": "2025-02-25T16:33:00.335Z"
   },
   {
    "duration": 1432,
    "start_time": "2025-02-25T16:33:00.339Z"
   },
   {
    "duration": 3,
    "start_time": "2025-02-25T16:33:01.773Z"
   },
   {
    "duration": 59,
    "start_time": "2025-02-25T16:33:01.778Z"
   },
   {
    "duration": 245,
    "start_time": "2025-02-25T16:33:01.839Z"
   },
   {
    "duration": 147,
    "start_time": "2025-02-25T16:33:02.086Z"
   },
   {
    "duration": 0,
    "start_time": "2025-02-25T16:33:02.235Z"
   },
   {
    "duration": 0,
    "start_time": "2025-02-25T16:33:02.237Z"
   },
   {
    "duration": 3735,
    "start_time": "2025-02-25T16:34:17.626Z"
   },
   {
    "duration": 2875,
    "start_time": "2025-02-25T16:34:21.364Z"
   },
   {
    "duration": 3,
    "start_time": "2025-02-25T16:34:24.241Z"
   },
   {
    "duration": 1454,
    "start_time": "2025-02-25T16:34:24.246Z"
   },
   {
    "duration": 3,
    "start_time": "2025-02-25T16:34:25.702Z"
   },
   {
    "duration": 69,
    "start_time": "2025-02-25T16:34:25.709Z"
   },
   {
    "duration": 234,
    "start_time": "2025-02-25T16:34:25.779Z"
   },
   {
    "duration": 142,
    "start_time": "2025-02-25T16:34:26.015Z"
   },
   {
    "duration": 0,
    "start_time": "2025-02-25T16:34:26.158Z"
   },
   {
    "duration": 0,
    "start_time": "2025-02-25T16:34:26.160Z"
   },
   {
    "duration": 662,
    "start_time": "2025-02-25T16:35:00.585Z"
   },
   {
    "duration": 51,
    "start_time": "2025-02-25T16:35:20.958Z"
   },
   {
    "duration": 693,
    "start_time": "2025-02-25T16:35:35.132Z"
   },
   {
    "duration": 481,
    "start_time": "2025-02-25T16:35:59.050Z"
   },
   {
    "duration": 529,
    "start_time": "2025-02-25T16:36:11.950Z"
   },
   {
    "duration": 594,
    "start_time": "2025-02-25T16:36:23.634Z"
   },
   {
    "duration": 501,
    "start_time": "2025-02-25T16:36:47.220Z"
   },
   {
    "duration": 489,
    "start_time": "2025-02-25T16:37:02.724Z"
   },
   {
    "duration": 15,
    "start_time": "2025-02-25T16:37:25.117Z"
   },
   {
    "duration": 116,
    "start_time": "2025-02-25T16:37:35.222Z"
   },
   {
    "duration": 187,
    "start_time": "2025-02-25T16:37:45.609Z"
   },
   {
    "duration": 266,
    "start_time": "2025-02-25T16:38:29.045Z"
   },
   {
    "duration": 308,
    "start_time": "2025-02-25T16:39:56.780Z"
   },
   {
    "duration": 253,
    "start_time": "2025-02-25T16:40:16.231Z"
   },
   {
    "duration": 265,
    "start_time": "2025-02-25T16:41:20.089Z"
   },
   {
    "duration": 248,
    "start_time": "2025-02-25T16:41:41.033Z"
   },
   {
    "duration": 389,
    "start_time": "2025-02-25T16:42:14.023Z"
   },
   {
    "duration": 161,
    "start_time": "2025-02-25T16:44:19.723Z"
   },
   {
    "duration": 202,
    "start_time": "2025-02-25T16:44:26.002Z"
   },
   {
    "duration": 333,
    "start_time": "2025-02-25T16:45:28.715Z"
   },
   {
    "duration": 12,
    "start_time": "2025-02-25T16:46:02.607Z"
   },
   {
    "duration": 3247,
    "start_time": "2025-02-25T16:46:59.811Z"
   },
   {
    "duration": 2737,
    "start_time": "2025-02-25T16:47:03.061Z"
   },
   {
    "duration": 2,
    "start_time": "2025-02-25T16:47:05.800Z"
   },
   {
    "duration": 1473,
    "start_time": "2025-02-25T16:47:05.803Z"
   },
   {
    "duration": 3,
    "start_time": "2025-02-25T16:47:07.278Z"
   },
   {
    "duration": 92,
    "start_time": "2025-02-25T16:47:07.282Z"
   },
   {
    "duration": 401,
    "start_time": "2025-02-25T16:47:07.375Z"
   },
   {
    "duration": 130,
    "start_time": "2025-02-25T16:47:07.778Z"
   },
   {
    "duration": 0,
    "start_time": "2025-02-25T16:47:07.910Z"
   },
   {
    "duration": 309,
    "start_time": "2025-02-25T16:48:35.029Z"
   },
   {
    "duration": 51,
    "start_time": "2025-02-25T16:49:48.603Z"
   },
   {
    "duration": 370,
    "start_time": "2025-02-25T16:49:52.247Z"
   },
   {
    "duration": 315,
    "start_time": "2025-02-25T16:50:16.090Z"
   },
   {
    "duration": 74,
    "start_time": "2025-02-25T16:51:08.784Z"
   },
   {
    "duration": 391,
    "start_time": "2025-02-25T16:51:11.563Z"
   },
   {
    "duration": 297,
    "start_time": "2025-02-25T16:51:39.220Z"
   },
   {
    "duration": 7,
    "start_time": "2025-02-25T16:51:42.222Z"
   },
   {
    "duration": 809,
    "start_time": "2025-02-25T16:51:43.310Z"
   },
   {
    "duration": 890,
    "start_time": "2025-02-25T16:52:03.657Z"
   },
   {
    "duration": 624,
    "start_time": "2025-02-25T16:53:58.008Z"
   },
   {
    "duration": 833,
    "start_time": "2025-02-25T16:54:18.340Z"
   },
   {
    "duration": 746,
    "start_time": "2025-02-25T16:55:29.305Z"
   },
   {
    "duration": 798,
    "start_time": "2025-02-25T16:55:35.234Z"
   },
   {
    "duration": 968,
    "start_time": "2025-02-25T16:56:03.471Z"
   },
   {
    "duration": 5,
    "start_time": "2025-02-25T17:09:53.598Z"
   },
   {
    "duration": 5,
    "start_time": "2025-02-25T17:10:03.037Z"
   },
   {
    "duration": 4,
    "start_time": "2025-02-25T17:11:30.513Z"
   },
   {
    "duration": 4,
    "start_time": "2025-02-25T17:12:47.279Z"
   },
   {
    "duration": 19,
    "start_time": "2025-02-25T17:12:56.680Z"
   },
   {
    "duration": 6,
    "start_time": "2025-02-25T17:12:58.777Z"
   },
   {
    "duration": 182,
    "start_time": "2025-02-25T17:13:04.032Z"
   },
   {
    "duration": 22,
    "start_time": "2025-02-25T17:13:17.644Z"
   },
   {
    "duration": 5,
    "start_time": "2025-02-25T17:13:18.203Z"
   },
   {
    "duration": 216,
    "start_time": "2025-02-25T17:13:18.699Z"
   },
   {
    "duration": 17,
    "start_time": "2025-02-25T17:13:47.620Z"
   },
   {
    "duration": 6,
    "start_time": "2025-02-25T17:13:48.775Z"
   },
   {
    "duration": 215,
    "start_time": "2025-02-25T17:13:49.407Z"
   },
   {
    "duration": 20,
    "start_time": "2025-02-25T17:13:55.713Z"
   },
   {
    "duration": 7,
    "start_time": "2025-02-25T17:13:56.185Z"
   },
   {
    "duration": 189,
    "start_time": "2025-02-25T17:13:56.727Z"
   },
   {
    "duration": 15,
    "start_time": "2025-02-25T17:14:02.339Z"
   },
   {
    "duration": 6,
    "start_time": "2025-02-25T17:14:02.922Z"
   },
   {
    "duration": 219,
    "start_time": "2025-02-25T17:14:03.593Z"
   },
   {
    "duration": 21,
    "start_time": "2025-02-25T17:14:41.407Z"
   },
   {
    "duration": 6,
    "start_time": "2025-02-25T17:14:42.046Z"
   },
   {
    "duration": 142,
    "start_time": "2025-02-25T17:14:43.171Z"
   },
   {
    "duration": 15,
    "start_time": "2025-02-25T17:14:52.202Z"
   },
   {
    "duration": 6,
    "start_time": "2025-02-25T17:14:52.805Z"
   },
   {
    "duration": 273,
    "start_time": "2025-02-25T17:14:53.345Z"
   },
   {
    "duration": 3164,
    "start_time": "2025-02-25T17:16:34.645Z"
   },
   {
    "duration": 2797,
    "start_time": "2025-02-25T17:16:37.811Z"
   },
   {
    "duration": 3,
    "start_time": "2025-02-25T17:16:40.610Z"
   },
   {
    "duration": 1474,
    "start_time": "2025-02-25T17:16:40.614Z"
   },
   {
    "duration": 3,
    "start_time": "2025-02-25T17:16:42.090Z"
   },
   {
    "duration": 86,
    "start_time": "2025-02-25T17:16:42.095Z"
   },
   {
    "duration": 432,
    "start_time": "2025-02-25T17:16:42.182Z"
   },
   {
    "duration": 8,
    "start_time": "2025-02-25T17:16:42.616Z"
   },
   {
    "duration": 839,
    "start_time": "2025-02-25T17:16:42.625Z"
   },
   {
    "duration": 4,
    "start_time": "2025-02-25T17:16:43.466Z"
   },
   {
    "duration": 42,
    "start_time": "2025-02-25T17:16:43.472Z"
   },
   {
    "duration": 5,
    "start_time": "2025-02-25T17:16:43.515Z"
   },
   {
    "duration": 189,
    "start_time": "2025-02-25T17:16:43.522Z"
   },
   {
    "duration": 13,
    "start_time": "2025-02-25T17:16:55.477Z"
   },
   {
    "duration": 6,
    "start_time": "2025-02-25T17:16:56.043Z"
   },
   {
    "duration": 85,
    "start_time": "2025-02-25T17:16:57.027Z"
   },
   {
    "duration": 49,
    "start_time": "2025-02-25T17:17:06.425Z"
   },
   {
    "duration": 3126,
    "start_time": "2025-02-25T17:18:23.846Z"
   },
   {
    "duration": 4116,
    "start_time": "2025-02-25T17:18:26.975Z"
   },
   {
    "duration": 3,
    "start_time": "2025-02-25T17:18:31.093Z"
   },
   {
    "duration": 1516,
    "start_time": "2025-02-25T17:18:31.098Z"
   },
   {
    "duration": 3,
    "start_time": "2025-02-25T17:18:32.616Z"
   },
   {
    "duration": 70,
    "start_time": "2025-02-25T17:18:32.620Z"
   },
   {
    "duration": 423,
    "start_time": "2025-02-25T17:18:32.692Z"
   },
   {
    "duration": 7,
    "start_time": "2025-02-25T17:18:33.116Z"
   },
   {
    "duration": 904,
    "start_time": "2025-02-25T17:18:33.127Z"
   },
   {
    "duration": 5,
    "start_time": "2025-02-25T17:18:34.032Z"
   },
   {
    "duration": 151,
    "start_time": "2025-02-25T17:18:34.038Z"
   },
   {
    "duration": 0,
    "start_time": "2025-02-25T17:18:34.191Z"
   },
   {
    "duration": 0,
    "start_time": "2025-02-25T17:18:34.192Z"
   },
   {
    "duration": 55,
    "start_time": "2025-02-25T17:18:46.316Z"
   },
   {
    "duration": 5,
    "start_time": "2025-02-25T17:18:47.064Z"
   },
   {
    "duration": 20,
    "start_time": "2025-02-25T17:18:47.485Z"
   },
   {
    "duration": 589,
    "start_time": "2025-02-25T17:18:53.283Z"
   },
   {
    "duration": 0,
    "start_time": "2025-02-25T17:18:53.875Z"
   },
   {
    "duration": 3412,
    "start_time": "2025-02-25T17:20:09.234Z"
   },
   {
    "duration": 2781,
    "start_time": "2025-02-25T17:20:12.649Z"
   },
   {
    "duration": 3,
    "start_time": "2025-02-25T17:20:15.432Z"
   },
   {
    "duration": 1563,
    "start_time": "2025-02-25T17:20:15.436Z"
   },
   {
    "duration": 3,
    "start_time": "2025-02-25T17:20:17.002Z"
   },
   {
    "duration": 118,
    "start_time": "2025-02-25T17:20:17.009Z"
   },
   {
    "duration": 409,
    "start_time": "2025-02-25T17:20:17.129Z"
   },
   {
    "duration": 7,
    "start_time": "2025-02-25T17:20:17.540Z"
   },
   {
    "duration": 875,
    "start_time": "2025-02-25T17:20:17.548Z"
   },
   {
    "duration": 5,
    "start_time": "2025-02-25T17:20:18.424Z"
   },
   {
    "duration": 64,
    "start_time": "2025-02-25T17:20:18.430Z"
   },
   {
    "duration": 15,
    "start_time": "2025-02-25T17:20:18.496Z"
   },
   {
    "duration": 199,
    "start_time": "2025-02-25T17:20:18.513Z"
   },
   {
    "duration": 727,
    "start_time": "2025-02-25T17:22:24.652Z"
   },
   {
    "duration": 3057,
    "start_time": "2025-02-25T17:23:54.378Z"
   },
   {
    "duration": 2716,
    "start_time": "2025-02-25T17:23:57.437Z"
   },
   {
    "duration": 3,
    "start_time": "2025-02-25T17:24:00.155Z"
   },
   {
    "duration": 1521,
    "start_time": "2025-02-25T17:24:00.159Z"
   },
   {
    "duration": 3,
    "start_time": "2025-02-25T17:24:01.682Z"
   },
   {
    "duration": 95,
    "start_time": "2025-02-25T17:24:01.686Z"
   },
   {
    "duration": 415,
    "start_time": "2025-02-25T17:24:01.782Z"
   },
   {
    "duration": 18,
    "start_time": "2025-02-25T17:24:02.199Z"
   },
   {
    "duration": 902,
    "start_time": "2025-02-25T17:24:02.219Z"
   },
   {
    "duration": 5,
    "start_time": "2025-02-25T17:24:03.123Z"
   },
   {
    "duration": 111,
    "start_time": "2025-02-25T17:24:03.129Z"
   },
   {
    "duration": 6,
    "start_time": "2025-02-25T17:24:03.242Z"
   },
   {
    "duration": 169,
    "start_time": "2025-02-25T17:24:03.249Z"
   },
   {
    "duration": 911,
    "start_time": "2025-02-25T17:24:03.422Z"
   },
   {
    "duration": 3094,
    "start_time": "2025-02-25T17:24:36.317Z"
   },
   {
    "duration": 2657,
    "start_time": "2025-02-25T17:24:39.414Z"
   },
   {
    "duration": 2,
    "start_time": "2025-02-25T17:24:42.074Z"
   },
   {
    "duration": 1497,
    "start_time": "2025-02-25T17:24:42.078Z"
   },
   {
    "duration": 3,
    "start_time": "2025-02-25T17:24:43.577Z"
   },
   {
    "duration": 61,
    "start_time": "2025-02-25T17:24:43.581Z"
   },
   {
    "duration": 413,
    "start_time": "2025-02-25T17:24:43.644Z"
   },
   {
    "duration": 7,
    "start_time": "2025-02-25T17:24:44.059Z"
   },
   {
    "duration": 875,
    "start_time": "2025-02-25T17:24:44.067Z"
   },
   {
    "duration": 5,
    "start_time": "2025-02-25T17:24:44.944Z"
   },
   {
    "duration": 213,
    "start_time": "2025-02-25T17:24:44.950Z"
   },
   {
    "duration": 20,
    "start_time": "2025-02-25T17:24:45.165Z"
   },
   {
    "duration": 224,
    "start_time": "2025-02-25T17:24:45.186Z"
   },
   {
    "duration": 659,
    "start_time": "2025-02-25T17:24:45.414Z"
   },
   {
    "duration": 3141,
    "start_time": "2025-02-25T17:26:04.201Z"
   },
   {
    "duration": 2737,
    "start_time": "2025-02-25T17:26:07.345Z"
   },
   {
    "duration": 2,
    "start_time": "2025-02-25T17:26:10.085Z"
   },
   {
    "duration": 1522,
    "start_time": "2025-02-25T17:26:10.089Z"
   },
   {
    "duration": 3,
    "start_time": "2025-02-25T17:26:11.613Z"
   },
   {
    "duration": 128,
    "start_time": "2025-02-25T17:26:11.617Z"
   },
   {
    "duration": 395,
    "start_time": "2025-02-25T17:26:11.747Z"
   },
   {
    "duration": 7,
    "start_time": "2025-02-25T17:26:12.144Z"
   },
   {
    "duration": 870,
    "start_time": "2025-02-25T17:26:12.152Z"
   },
   {
    "duration": 5,
    "start_time": "2025-02-25T17:26:13.024Z"
   },
   {
    "duration": 233,
    "start_time": "2025-02-25T17:26:13.031Z"
   },
   {
    "duration": 5,
    "start_time": "2025-02-25T17:26:13.265Z"
   },
   {
    "duration": 151,
    "start_time": "2025-02-25T17:26:13.271Z"
   },
   {
    "duration": 842,
    "start_time": "2025-02-25T17:26:13.426Z"
   },
   {
    "duration": 52,
    "start_time": "2025-02-25T17:33:03.574Z"
   },
   {
    "duration": 311,
    "start_time": "2025-02-25T17:33:21.285Z"
   },
   {
    "duration": 944,
    "start_time": "2025-02-25T17:33:24.779Z"
   },
   {
    "duration": 3065,
    "start_time": "2025-02-25T17:34:37.299Z"
   },
   {
    "duration": 2622,
    "start_time": "2025-02-25T17:34:40.366Z"
   },
   {
    "duration": 3,
    "start_time": "2025-02-25T17:34:42.990Z"
   },
   {
    "duration": 1482,
    "start_time": "2025-02-25T17:34:42.995Z"
   },
   {
    "duration": 3,
    "start_time": "2025-02-25T17:34:44.479Z"
   },
   {
    "duration": 61,
    "start_time": "2025-02-25T17:34:44.483Z"
   },
   {
    "duration": 425,
    "start_time": "2025-02-25T17:34:44.546Z"
   },
   {
    "duration": 7,
    "start_time": "2025-02-25T17:34:44.973Z"
   },
   {
    "duration": 845,
    "start_time": "2025-02-25T17:34:44.981Z"
   },
   {
    "duration": 4,
    "start_time": "2025-02-25T17:34:45.827Z"
   },
   {
    "duration": 133,
    "start_time": "2025-02-25T17:34:45.832Z"
   },
   {
    "duration": 0,
    "start_time": "2025-02-25T17:34:45.967Z"
   },
   {
    "duration": 0,
    "start_time": "2025-02-25T17:34:45.968Z"
   },
   {
    "duration": 0,
    "start_time": "2025-02-25T17:34:45.970Z"
   },
   {
    "duration": 29,
    "start_time": "2025-02-25T17:35:20.979Z"
   },
   {
    "duration": 6,
    "start_time": "2025-02-25T17:35:22.100Z"
   },
   {
    "duration": 180,
    "start_time": "2025-02-25T17:35:24.331Z"
   },
   {
    "duration": 10,
    "start_time": "2025-02-25T17:35:26.863Z"
   },
   {
    "duration": 13,
    "start_time": "2025-02-25T17:35:37.831Z"
   },
   {
    "duration": 3075,
    "start_time": "2025-02-25T17:36:01.258Z"
   },
   {
    "duration": 2630,
    "start_time": "2025-02-25T17:36:04.336Z"
   },
   {
    "duration": 2,
    "start_time": "2025-02-25T17:36:06.969Z"
   },
   {
    "duration": 1436,
    "start_time": "2025-02-25T17:36:06.973Z"
   },
   {
    "duration": 3,
    "start_time": "2025-02-25T17:36:08.412Z"
   },
   {
    "duration": 71,
    "start_time": "2025-02-25T17:36:08.417Z"
   },
   {
    "duration": 438,
    "start_time": "2025-02-25T17:36:08.489Z"
   },
   {
    "duration": 8,
    "start_time": "2025-02-25T17:36:08.928Z"
   },
   {
    "duration": 832,
    "start_time": "2025-02-25T17:36:08.938Z"
   },
   {
    "duration": 4,
    "start_time": "2025-02-25T17:36:09.771Z"
   },
   {
    "duration": 46,
    "start_time": "2025-02-25T17:36:09.778Z"
   },
   {
    "duration": 5,
    "start_time": "2025-02-25T17:36:09.826Z"
   },
   {
    "duration": 180,
    "start_time": "2025-02-25T17:36:09.833Z"
   },
   {
    "duration": 196,
    "start_time": "2025-02-25T17:36:10.016Z"
   },
   {
    "duration": 6,
    "start_time": "2025-02-25T17:36:10.214Z"
   },
   {
    "duration": 98,
    "start_time": "2025-02-25T17:36:10.222Z"
   },
   {
    "duration": 3023,
    "start_time": "2025-02-25T17:37:38.301Z"
   },
   {
    "duration": 2662,
    "start_time": "2025-02-25T17:37:41.326Z"
   },
   {
    "duration": 2,
    "start_time": "2025-02-25T17:37:43.990Z"
   },
   {
    "duration": 1483,
    "start_time": "2025-02-25T17:37:43.994Z"
   },
   {
    "duration": 3,
    "start_time": "2025-02-25T17:37:45.479Z"
   },
   {
    "duration": 60,
    "start_time": "2025-02-25T17:37:45.483Z"
   },
   {
    "duration": 428,
    "start_time": "2025-02-25T17:37:45.545Z"
   },
   {
    "duration": 9,
    "start_time": "2025-02-25T17:37:45.975Z"
   },
   {
    "duration": 856,
    "start_time": "2025-02-25T17:37:45.985Z"
   },
   {
    "duration": 4,
    "start_time": "2025-02-25T17:37:46.843Z"
   },
   {
    "duration": 28,
    "start_time": "2025-02-25T17:37:46.849Z"
   },
   {
    "duration": 5,
    "start_time": "2025-02-25T17:37:46.879Z"
   },
   {
    "duration": 201,
    "start_time": "2025-02-25T17:37:46.910Z"
   },
   {
    "duration": 123,
    "start_time": "2025-02-25T17:37:47.114Z"
   },
   {
    "duration": 17,
    "start_time": "2025-02-25T17:37:47.239Z"
   },
   {
    "duration": 8,
    "start_time": "2025-02-25T17:37:47.257Z"
   },
   {
    "duration": 144,
    "start_time": "2025-02-25T17:37:47.266Z"
   },
   {
    "duration": 4,
    "start_time": "2025-02-25T17:58:22.645Z"
   },
   {
    "duration": 40,
    "start_time": "2025-02-25T18:01:14.327Z"
   },
   {
    "duration": 33,
    "start_time": "2025-02-25T18:01:26.112Z"
   },
   {
    "duration": 6,
    "start_time": "2025-02-25T18:01:28.509Z"
   },
   {
    "duration": 3,
    "start_time": "2025-02-25T18:01:32.325Z"
   },
   {
    "duration": 3,
    "start_time": "2025-02-25T18:01:33.395Z"
   },
   {
    "duration": 2,
    "start_time": "2025-02-25T18:01:34.462Z"
   },
   {
    "duration": 123,
    "start_time": "2025-02-25T18:02:32.887Z"
   },
   {
    "duration": 7,
    "start_time": "2025-02-25T18:02:58.791Z"
   },
   {
    "duration": 2645,
    "start_time": "2025-02-25T18:03:03.540Z"
   },
   {
    "duration": 2659,
    "start_time": "2025-02-25T18:03:18.894Z"
   },
   {
    "duration": 2649,
    "start_time": "2025-02-25T18:04:23.700Z"
   },
   {
    "duration": 73,
    "start_time": "2025-02-25T18:26:21.201Z"
   },
   {
    "duration": 7,
    "start_time": "2025-02-25T18:27:16.388Z"
   },
   {
    "duration": 7,
    "start_time": "2025-02-25T18:27:49.224Z"
   },
   {
    "duration": 21,
    "start_time": "2025-02-25T18:29:13.643Z"
   },
   {
    "duration": 8,
    "start_time": "2025-02-25T18:30:20.023Z"
   },
   {
    "duration": 70,
    "start_time": "2025-02-25T18:30:21.782Z"
   },
   {
    "duration": 5,
    "start_time": "2025-02-25T18:30:58.375Z"
   },
   {
    "duration": 2979,
    "start_time": "2025-02-25T18:33:55.754Z"
   },
   {
    "duration": 2709,
    "start_time": "2025-02-25T18:33:58.735Z"
   },
   {
    "duration": 3,
    "start_time": "2025-02-25T18:34:01.447Z"
   },
   {
    "duration": 1441,
    "start_time": "2025-02-25T18:34:01.452Z"
   },
   {
    "duration": 3,
    "start_time": "2025-02-25T18:34:02.895Z"
   },
   {
    "duration": 76,
    "start_time": "2025-02-25T18:34:02.899Z"
   },
   {
    "duration": 407,
    "start_time": "2025-02-25T18:34:02.976Z"
   },
   {
    "duration": 7,
    "start_time": "2025-02-25T18:34:03.385Z"
   },
   {
    "duration": 933,
    "start_time": "2025-02-25T18:34:03.394Z"
   },
   {
    "duration": 6,
    "start_time": "2025-02-25T18:34:04.329Z"
   },
   {
    "duration": 50,
    "start_time": "2025-02-25T18:34:04.337Z"
   },
   {
    "duration": 6,
    "start_time": "2025-02-25T18:34:04.389Z"
   },
   {
    "duration": 315,
    "start_time": "2025-02-25T18:34:04.396Z"
   },
   {
    "duration": 134,
    "start_time": "2025-02-25T18:34:04.719Z"
   },
   {
    "duration": 19,
    "start_time": "2025-02-25T18:34:04.854Z"
   },
   {
    "duration": 6,
    "start_time": "2025-02-25T18:34:04.875Z"
   },
   {
    "duration": 132,
    "start_time": "2025-02-25T18:34:04.883Z"
   },
   {
    "duration": 93,
    "start_time": "2025-02-25T18:34:05.017Z"
   },
   {
    "duration": 14,
    "start_time": "2025-02-25T18:34:05.111Z"
   },
   {
    "duration": 97,
    "start_time": "2025-02-25T18:34:05.126Z"
   },
   {
    "duration": 1584,
    "start_time": "2025-02-25T18:34:05.225Z"
   },
   {
    "duration": 5,
    "start_time": "2025-02-25T18:34:06.811Z"
   },
   {
    "duration": 79400,
    "start_time": "2025-02-25T18:34:06.818Z"
   },
   {
    "duration": 4,
    "start_time": "2025-02-25T18:35:52.685Z"
   },
   {
    "duration": 4,
    "start_time": "2025-02-25T18:35:54.113Z"
   },
   {
    "duration": 51,
    "start_time": "2025-02-25T18:37:57.073Z"
   },
   {
    "duration": 14,
    "start_time": "2025-02-25T18:38:04.699Z"
   },
   {
    "duration": 4,
    "start_time": "2025-02-25T18:38:05.387Z"
   },
   {
    "duration": 18,
    "start_time": "2025-02-25T18:38:08.499Z"
   },
   {
    "duration": 29,
    "start_time": "2025-02-25T18:38:52.653Z"
   },
   {
    "duration": 74,
    "start_time": "2025-02-25T18:40:25.758Z"
   },
   {
    "duration": 6,
    "start_time": "2025-02-25T18:41:09.923Z"
   },
   {
    "duration": 12288,
    "start_time": "2025-02-25T18:41:12.023Z"
   },
   {
    "duration": 6,
    "start_time": "2025-02-25T18:42:03.692Z"
   },
   {
    "duration": 12368,
    "start_time": "2025-02-25T18:42:04.959Z"
   },
   {
    "duration": 90040,
    "start_time": "2025-02-25T18:44:36.044Z"
   },
   {
    "duration": 5,
    "start_time": "2025-02-25T18:46:17.202Z"
   },
   {
    "duration": 12239,
    "start_time": "2025-02-25T18:46:18.989Z"
   },
   {
    "duration": 89678,
    "start_time": "2025-02-25T18:46:36.582Z"
   },
   {
    "duration": 5,
    "start_time": "2025-02-25T18:48:06.262Z"
   },
   {
    "duration": 33117,
    "start_time": "2025-02-25T18:48:38.094Z"
   },
   {
    "duration": 5,
    "start_time": "2025-02-25T18:49:41.168Z"
   },
   {
    "duration": 3,
    "start_time": "2025-02-25T18:49:41.819Z"
   },
   {
    "duration": 256225,
    "start_time": "2025-02-25T18:50:23.994Z"
   },
   {
    "duration": 4,
    "start_time": "2025-02-25T18:54:47.077Z"
   },
   {
    "duration": 4,
    "start_time": "2025-02-25T18:54:48.401Z"
   },
   {
    "duration": 9,
    "start_time": "2025-02-25T18:56:11.462Z"
   },
   {
    "duration": 75011,
    "start_time": "2025-02-25T18:56:12.999Z"
   },
   {
    "duration": 4,
    "start_time": "2025-02-25T18:57:28.016Z"
   },
   {
    "duration": 91,
    "start_time": "2025-02-25T18:57:28.022Z"
   },
   {
    "duration": 6,
    "start_time": "2025-02-25T18:58:56.844Z"
   },
   {
    "duration": 82443,
    "start_time": "2025-02-25T18:58:58.267Z"
   },
   {
    "duration": 6,
    "start_time": "2025-02-25T19:00:20.712Z"
   },
   {
    "duration": 109,
    "start_time": "2025-02-25T19:00:20.719Z"
   },
   {
    "duration": 7,
    "start_time": "2025-02-25T19:01:29.818Z"
   },
   {
    "duration": 31571,
    "start_time": "2025-02-25T19:01:31.046Z"
   },
   {
    "duration": 4,
    "start_time": "2025-02-25T19:02:02.710Z"
   },
   {
    "duration": 32,
    "start_time": "2025-02-25T19:02:02.716Z"
   },
   {
    "duration": 161712,
    "start_time": "2025-02-25T19:02:47.599Z"
   },
   {
    "duration": 5,
    "start_time": "2025-02-25T19:05:29.314Z"
   },
   {
    "duration": 4,
    "start_time": "2025-02-25T19:05:29.410Z"
   },
   {
    "duration": 6,
    "start_time": "2025-02-25T19:06:35.585Z"
   },
   {
    "duration": 51412,
    "start_time": "2025-02-25T19:06:36.898Z"
   },
   {
    "duration": 5,
    "start_time": "2025-02-25T19:07:28.313Z"
   },
   {
    "duration": 91,
    "start_time": "2025-02-25T19:07:28.320Z"
   },
   {
    "duration": 6,
    "start_time": "2025-02-25T19:08:00.797Z"
   },
   {
    "duration": 51682,
    "start_time": "2025-02-25T19:08:01.428Z"
   },
   {
    "duration": 4,
    "start_time": "2025-02-25T19:08:53.113Z"
   },
   {
    "duration": 99,
    "start_time": "2025-02-25T19:08:53.120Z"
   },
   {
    "duration": 5,
    "start_time": "2025-02-25T19:10:35.766Z"
   },
   {
    "duration": 93643,
    "start_time": "2025-02-25T19:10:37.567Z"
   },
   {
    "duration": 4,
    "start_time": "2025-02-25T19:12:11.211Z"
   },
   {
    "duration": 46,
    "start_time": "2025-02-25T19:12:11.217Z"
   },
   {
    "duration": 94,
    "start_time": "2025-02-25T19:12:11.266Z"
   },
   {
    "duration": 12,
    "start_time": "2025-02-25T19:12:11.362Z"
   },
   {
    "duration": 36,
    "start_time": "2025-02-25T19:12:42.367Z"
   },
   {
    "duration": 119,
    "start_time": "2025-02-25T19:12:47.078Z"
   },
   {
    "duration": 7,
    "start_time": "2025-02-25T19:12:48.523Z"
   },
   {
    "duration": 329,
    "start_time": "2025-02-25T19:12:50.481Z"
   },
   {
    "duration": 64,
    "start_time": "2025-02-25T19:18:18.857Z"
   },
   {
    "duration": 8,
    "start_time": "2025-02-25T19:18:22.413Z"
   },
   {
    "duration": 972,
    "start_time": "2025-02-25T19:18:23.609Z"
   },
   {
    "duration": 6,
    "start_time": "2025-02-25T19:25:14.945Z"
   },
   {
    "duration": 2952,
    "start_time": "2025-02-25T19:25:42.985Z"
   },
   {
    "duration": 2824,
    "start_time": "2025-02-25T19:25:45.939Z"
   },
   {
    "duration": 2,
    "start_time": "2025-02-25T19:25:48.765Z"
   },
   {
    "duration": 1454,
    "start_time": "2025-02-25T19:25:48.769Z"
   },
   {
    "duration": 2,
    "start_time": "2025-02-25T19:25:50.225Z"
   },
   {
    "duration": 83,
    "start_time": "2025-02-25T19:25:50.229Z"
   },
   {
    "duration": 415,
    "start_time": "2025-02-25T19:25:50.314Z"
   },
   {
    "duration": 7,
    "start_time": "2025-02-25T19:25:50.731Z"
   },
   {
    "duration": 936,
    "start_time": "2025-02-25T19:25:50.740Z"
   },
   {
    "duration": 4,
    "start_time": "2025-02-25T19:25:51.678Z"
   },
   {
    "duration": 53,
    "start_time": "2025-02-25T19:25:51.683Z"
   },
   {
    "duration": 19,
    "start_time": "2025-02-25T19:25:51.738Z"
   },
   {
    "duration": 6,
    "start_time": "2025-02-25T19:25:51.759Z"
   },
   {
    "duration": 149,
    "start_time": "2025-02-25T19:25:51.768Z"
   },
   {
    "duration": 263,
    "start_time": "2025-02-25T19:25:51.919Z"
   },
   {
    "duration": 0,
    "start_time": "2025-02-25T19:25:52.183Z"
   },
   {
    "duration": 0,
    "start_time": "2025-02-25T19:25:52.184Z"
   },
   {
    "duration": 0,
    "start_time": "2025-02-25T19:25:52.186Z"
   },
   {
    "duration": 0,
    "start_time": "2025-02-25T19:25:52.187Z"
   },
   {
    "duration": 0,
    "start_time": "2025-02-25T19:25:52.189Z"
   },
   {
    "duration": 0,
    "start_time": "2025-02-25T19:25:52.190Z"
   },
   {
    "duration": 1,
    "start_time": "2025-02-25T19:25:52.209Z"
   },
   {
    "duration": 0,
    "start_time": "2025-02-25T19:25:52.211Z"
   },
   {
    "duration": 0,
    "start_time": "2025-02-25T19:25:52.212Z"
   },
   {
    "duration": 0,
    "start_time": "2025-02-25T19:25:52.214Z"
   },
   {
    "duration": 6,
    "start_time": "2025-02-25T19:26:49.135Z"
   },
   {
    "duration": 98186,
    "start_time": "2025-02-25T19:26:49.533Z"
   },
   {
    "duration": 88,
    "start_time": "2025-02-25T19:28:27.722Z"
   },
   {
    "duration": 635431,
    "start_time": "2025-02-25T19:28:27.812Z"
   },
   {
    "duration": 0,
    "start_time": "2025-02-25T19:39:03.330Z"
   },
   {
    "duration": 0,
    "start_time": "2025-02-25T19:39:03.331Z"
   },
   {
    "duration": 440376,
    "start_time": "2025-02-25T19:40:06.275Z"
   },
   {
    "duration": 6,
    "start_time": "2025-02-25T19:49:01.096Z"
   },
   {
    "duration": 55567,
    "start_time": "2025-02-25T19:49:02.656Z"
   },
   {
    "duration": 8,
    "start_time": "2025-02-25T19:50:00.035Z"
   },
   {
    "duration": 2981,
    "start_time": "2025-02-25T19:51:48.656Z"
   },
   {
    "duration": 2741,
    "start_time": "2025-02-25T19:51:51.639Z"
   },
   {
    "duration": 3,
    "start_time": "2025-02-25T19:51:54.382Z"
   },
   {
    "duration": 1499,
    "start_time": "2025-02-25T19:51:54.386Z"
   },
   {
    "duration": 2,
    "start_time": "2025-02-25T19:51:55.888Z"
   },
   {
    "duration": 69,
    "start_time": "2025-02-25T19:51:55.892Z"
   },
   {
    "duration": 410,
    "start_time": "2025-02-25T19:51:55.962Z"
   },
   {
    "duration": 7,
    "start_time": "2025-02-25T19:51:56.373Z"
   },
   {
    "duration": 907,
    "start_time": "2025-02-25T19:51:56.382Z"
   },
   {
    "duration": 4,
    "start_time": "2025-02-25T19:51:57.290Z"
   },
   {
    "duration": 15,
    "start_time": "2025-02-25T19:51:57.296Z"
   },
   {
    "duration": 53799,
    "start_time": "2025-02-25T19:51:57.312Z"
   },
   {
    "duration": 3,
    "start_time": "2025-02-25T19:52:51.114Z"
   },
   {
    "duration": 297619,
    "start_time": "2025-02-25T19:52:51.209Z"
   },
   {
    "duration": 5,
    "start_time": "2025-02-25T19:57:48.831Z"
   },
   {
    "duration": 6916,
    "start_time": "2025-02-26T14:38:41.277Z"
   },
   {
    "duration": 3380,
    "start_time": "2025-02-26T14:38:48.195Z"
   },
   {
    "duration": 3,
    "start_time": "2025-02-26T14:38:51.577Z"
   },
   {
    "duration": 1537,
    "start_time": "2025-02-26T14:38:51.581Z"
   },
   {
    "duration": 2,
    "start_time": "2025-02-26T14:38:53.120Z"
   },
   {
    "duration": 111,
    "start_time": "2025-02-26T14:38:53.123Z"
   },
   {
    "duration": 400,
    "start_time": "2025-02-26T14:38:53.235Z"
   },
   {
    "duration": 6,
    "start_time": "2025-02-26T14:38:53.637Z"
   },
   {
    "duration": 888,
    "start_time": "2025-02-26T14:38:53.645Z"
   },
   {
    "duration": 5,
    "start_time": "2025-02-26T14:38:54.534Z"
   },
   {
    "duration": 7,
    "start_time": "2025-02-26T14:38:54.540Z"
   },
   {
    "duration": 51732,
    "start_time": "2025-02-26T14:38:54.548Z"
   },
   {
    "duration": 3,
    "start_time": "2025-02-26T14:39:46.371Z"
   },
   {
    "duration": 280243,
    "start_time": "2025-02-26T14:39:46.376Z"
   },
   {
    "duration": 3,
    "start_time": "2025-02-26T14:44:26.621Z"
   },
   {
    "duration": 256393,
    "start_time": "2025-02-26T14:44:26.625Z"
   },
   {
    "duration": 0,
    "start_time": "2025-02-26T14:48:43.020Z"
   },
   {
    "duration": 0,
    "start_time": "2025-02-26T14:48:43.021Z"
   },
   {
    "duration": 1,
    "start_time": "2025-02-26T14:48:43.022Z"
   },
   {
    "duration": 6,
    "start_time": "2025-02-26T14:48:51.255Z"
   },
   {
    "duration": 587654,
    "start_time": "2025-02-26T14:48:58.964Z"
   },
   {
    "duration": 6,
    "start_time": "2025-02-26T15:04:18.875Z"
   },
   {
    "duration": 282,
    "start_time": "2025-02-26T15:05:26.697Z"
   },
   {
    "duration": 6,
    "start_time": "2025-02-26T15:06:18.169Z"
   },
   {
    "duration": 612,
    "start_time": "2025-02-26T15:06:20.560Z"
   },
   {
    "duration": 6,
    "start_time": "2025-02-26T15:07:27.313Z"
   },
   {
    "duration": 37922,
    "start_time": "2025-02-26T15:07:41.654Z"
   },
   {
    "duration": 26606,
    "start_time": "2025-02-26T15:09:32.439Z"
   },
   {
    "duration": 5,
    "start_time": "2025-02-26T15:18:30.302Z"
   },
   {
    "duration": 11,
    "start_time": "2025-02-26T15:20:00.133Z"
   },
   {
    "duration": 3,
    "start_time": "2025-02-26T15:20:07.621Z"
   },
   {
    "duration": 49,
    "start_time": "2025-02-26T15:20:10.352Z"
   },
   {
    "duration": 6,
    "start_time": "2025-02-26T15:20:32.686Z"
   },
   {
    "duration": 127,
    "start_time": "2025-02-26T15:20:36.417Z"
   },
   {
    "duration": 5,
    "start_time": "2025-02-26T15:20:48.798Z"
   },
   {
    "duration": 4078,
    "start_time": "2025-02-26T15:20:52.706Z"
   },
   {
    "duration": 88,
    "start_time": "2025-02-26T15:21:47.687Z"
   },
   {
    "duration": 5,
    "start_time": "2025-02-26T15:21:54.656Z"
   },
   {
    "duration": 18877,
    "start_time": "2025-02-26T15:22:05.973Z"
   },
   {
    "duration": 3,
    "start_time": "2025-02-26T15:23:01.276Z"
   },
   {
    "duration": 11452,
    "start_time": "2025-02-26T15:23:08.849Z"
   },
   {
    "duration": 3,
    "start_time": "2025-02-26T15:23:53.680Z"
   },
   {
    "duration": 15259,
    "start_time": "2025-02-26T15:23:56.472Z"
   },
   {
    "duration": 20717,
    "start_time": "2025-02-26T15:25:10.847Z"
   },
   {
    "duration": 5,
    "start_time": "2025-02-26T15:30:17.186Z"
   },
   {
    "duration": 39629,
    "start_time": "2025-02-26T15:31:00.750Z"
   },
   {
    "duration": 2839,
    "start_time": "2025-02-26T15:40:56.573Z"
   },
   {
    "duration": 2711,
    "start_time": "2025-02-26T15:40:59.415Z"
   },
   {
    "duration": 3,
    "start_time": "2025-02-26T15:41:02.128Z"
   },
   {
    "duration": 1402,
    "start_time": "2025-02-26T15:41:02.132Z"
   },
   {
    "duration": 3,
    "start_time": "2025-02-26T15:41:03.537Z"
   },
   {
    "duration": 98,
    "start_time": "2025-02-26T15:41:03.542Z"
   },
   {
    "duration": 413,
    "start_time": "2025-02-26T15:41:03.642Z"
   },
   {
    "duration": 6,
    "start_time": "2025-02-26T15:41:04.057Z"
   },
   {
    "duration": 953,
    "start_time": "2025-02-26T15:41:04.065Z"
   },
   {
    "duration": 4,
    "start_time": "2025-02-26T15:41:05.019Z"
   },
   {
    "duration": 36,
    "start_time": "2025-02-26T15:41:05.025Z"
   },
   {
    "duration": 80,
    "start_time": "2025-02-26T15:41:05.062Z"
   },
   {
    "duration": 0,
    "start_time": "2025-02-26T15:41:05.143Z"
   },
   {
    "duration": 0,
    "start_time": "2025-02-26T15:41:05.144Z"
   },
   {
    "duration": 0,
    "start_time": "2025-02-26T15:41:05.145Z"
   },
   {
    "duration": 0,
    "start_time": "2025-02-26T15:41:05.146Z"
   },
   {
    "duration": 0,
    "start_time": "2025-02-26T15:41:05.147Z"
   },
   {
    "duration": 0,
    "start_time": "2025-02-26T15:41:05.148Z"
   },
   {
    "duration": 0,
    "start_time": "2025-02-26T15:41:05.149Z"
   },
   {
    "duration": 0,
    "start_time": "2025-02-26T15:41:05.150Z"
   },
   {
    "duration": 0,
    "start_time": "2025-02-26T15:41:05.151Z"
   },
   {
    "duration": 0,
    "start_time": "2025-02-26T15:41:05.152Z"
   },
   {
    "duration": 0,
    "start_time": "2025-02-26T15:41:05.152Z"
   },
   {
    "duration": 4,
    "start_time": "2025-02-26T15:41:14.172Z"
   },
   {
    "duration": 69351,
    "start_time": "2025-02-26T15:41:14.924Z"
   },
   {
    "duration": 317,
    "start_time": "2025-02-26T15:42:24.278Z"
   },
   {
    "duration": 0,
    "start_time": "2025-02-26T15:42:24.597Z"
   },
   {
    "duration": 0,
    "start_time": "2025-02-26T15:42:24.598Z"
   },
   {
    "duration": 0,
    "start_time": "2025-02-26T15:42:24.599Z"
   },
   {
    "duration": 0,
    "start_time": "2025-02-26T15:42:24.600Z"
   },
   {
    "duration": 0,
    "start_time": "2025-02-26T15:42:24.601Z"
   },
   {
    "duration": 0,
    "start_time": "2025-02-26T15:42:24.602Z"
   },
   {
    "duration": 0,
    "start_time": "2025-02-26T15:42:24.603Z"
   },
   {
    "duration": 0,
    "start_time": "2025-02-26T15:42:24.604Z"
   },
   {
    "duration": 0,
    "start_time": "2025-02-26T15:42:24.605Z"
   },
   {
    "duration": 145,
    "start_time": "2025-02-26T15:42:37.882Z"
   },
   {
    "duration": 2,
    "start_time": "2025-02-26T15:42:39.184Z"
   },
   {
    "duration": 20105,
    "start_time": "2025-02-26T15:42:39.634Z"
   },
   {
    "duration": 3,
    "start_time": "2025-02-26T15:42:59.741Z"
   },
   {
    "duration": 26,
    "start_time": "2025-02-26T15:42:59.746Z"
   },
   {
    "duration": 0,
    "start_time": "2025-02-26T15:42:59.774Z"
   },
   {
    "duration": 0,
    "start_time": "2025-02-26T15:42:59.775Z"
   },
   {
    "duration": 0,
    "start_time": "2025-02-26T15:42:59.776Z"
   },
   {
    "duration": 0,
    "start_time": "2025-02-26T15:42:59.777Z"
   },
   {
    "duration": 0,
    "start_time": "2025-02-26T15:42:59.778Z"
   },
   {
    "duration": 241429,
    "start_time": "2025-02-26T15:43:13.592Z"
   },
   {
    "duration": 56,
    "start_time": "2025-02-26T15:47:15.022Z"
   },
   {
    "duration": 6,
    "start_time": "2025-02-26T15:47:15.080Z"
   },
   {
    "duration": 289,
    "start_time": "2025-02-26T15:47:15.088Z"
   },
   {
    "duration": 99,
    "start_time": "2025-02-26T15:47:15.380Z"
   },
   {
    "duration": 106,
    "start_time": "2025-02-26T15:47:15.482Z"
   },
   {
    "duration": 25,
    "start_time": "2025-02-26T15:53:12.039Z"
   },
   {
    "duration": 2064,
    "start_time": "2025-02-26T15:53:34.251Z"
   },
   {
    "duration": 2,
    "start_time": "2025-02-26T15:55:39.065Z"
   },
   {
    "duration": 3072,
    "start_time": "2025-02-26T16:09:39.211Z"
   },
   {
    "duration": 2545,
    "start_time": "2025-02-26T16:09:42.285Z"
   },
   {
    "duration": 7628,
    "start_time": "2025-02-26T16:09:44.832Z"
   },
   {
    "duration": 2,
    "start_time": "2025-02-26T16:09:52.463Z"
   },
   {
    "duration": 1828,
    "start_time": "2025-02-26T16:09:52.467Z"
   },
   {
    "duration": 3,
    "start_time": "2025-02-26T16:09:54.296Z"
   },
   {
    "duration": 84,
    "start_time": "2025-02-26T16:09:54.300Z"
   },
   {
    "duration": 345,
    "start_time": "2025-02-26T16:09:54.386Z"
   },
   {
    "duration": 1948,
    "start_time": "2025-02-26T16:09:54.732Z"
   },
   {
    "duration": 97,
    "start_time": "2025-02-26T16:09:56.778Z"
   },
   {
    "duration": 912,
    "start_time": "2025-02-26T16:09:56.877Z"
   },
   {
    "duration": 4,
    "start_time": "2025-02-26T16:09:57.791Z"
   },
   {
    "duration": 6,
    "start_time": "2025-02-26T16:09:57.797Z"
   },
   {
    "duration": 13,
    "start_time": "2025-02-26T16:09:57.806Z"
   },
   {
    "duration": 2940,
    "start_time": "2025-02-26T16:11:00.168Z"
   },
   {
    "duration": 2593,
    "start_time": "2025-02-26T16:11:03.110Z"
   },
   {
    "duration": 2981,
    "start_time": "2025-02-26T16:11:05.705Z"
   },
   {
    "duration": 4,
    "start_time": "2025-02-26T16:11:08.688Z"
   },
   {
    "duration": 1833,
    "start_time": "2025-02-26T16:11:08.694Z"
   },
   {
    "duration": 3,
    "start_time": "2025-02-26T16:11:10.529Z"
   },
   {
    "duration": 76,
    "start_time": "2025-02-26T16:11:10.534Z"
   },
   {
    "duration": 339,
    "start_time": "2025-02-26T16:11:10.612Z"
   },
   {
    "duration": 2320,
    "start_time": "2025-02-26T16:11:10.953Z"
   },
   {
    "duration": 97,
    "start_time": "2025-02-26T16:11:13.275Z"
   },
   {
    "duration": 952,
    "start_time": "2025-02-26T16:11:13.374Z"
   },
   {
    "duration": 5,
    "start_time": "2025-02-26T16:11:14.327Z"
   },
   {
    "duration": 11,
    "start_time": "2025-02-26T16:11:14.333Z"
   },
   {
    "duration": 24,
    "start_time": "2025-02-26T16:11:14.347Z"
   },
   {
    "duration": 3237,
    "start_time": "2025-02-26T16:12:06.386Z"
   },
   {
    "duration": 2525,
    "start_time": "2025-02-26T16:12:09.625Z"
   },
   {
    "duration": 3003,
    "start_time": "2025-02-26T16:12:12.153Z"
   },
   {
    "duration": 3,
    "start_time": "2025-02-26T16:12:15.158Z"
   },
   {
    "duration": 1766,
    "start_time": "2025-02-26T16:12:15.162Z"
   },
   {
    "duration": 3,
    "start_time": "2025-02-26T16:12:16.930Z"
   },
   {
    "duration": 71,
    "start_time": "2025-02-26T16:12:16.934Z"
   },
   {
    "duration": 364,
    "start_time": "2025-02-26T16:12:17.007Z"
   },
   {
    "duration": 2199,
    "start_time": "2025-02-26T16:12:17.373Z"
   },
   {
    "duration": 97,
    "start_time": "2025-02-26T16:12:19.574Z"
   },
   {
    "duration": 830,
    "start_time": "2025-02-26T16:12:19.673Z"
   },
   {
    "duration": 4,
    "start_time": "2025-02-26T16:12:20.505Z"
   },
   {
    "duration": 19,
    "start_time": "2025-02-26T16:12:20.511Z"
   },
   {
    "duration": 13,
    "start_time": "2025-02-26T16:12:20.532Z"
   },
   {
    "duration": 69229,
    "start_time": "2025-02-26T16:12:20.546Z"
   },
   {
    "duration": 235,
    "start_time": "2025-02-26T16:13:29.777Z"
   },
   {
    "duration": 2,
    "start_time": "2025-02-26T16:13:30.014Z"
   },
   {
    "duration": 20198,
    "start_time": "2025-02-26T16:13:30.018Z"
   },
   {
    "duration": 2,
    "start_time": "2025-02-26T16:13:50.218Z"
   },
   {
    "duration": 235702,
    "start_time": "2025-02-26T16:13:50.222Z"
   },
   {
    "duration": 1960,
    "start_time": "2025-02-26T16:17:45.925Z"
   },
   {
    "duration": 4,
    "start_time": "2025-02-26T16:17:47.887Z"
   },
   {
    "duration": 31,
    "start_time": "2025-02-26T16:17:47.892Z"
   },
   {
    "duration": 25,
    "start_time": "2025-02-26T16:17:47.925Z"
   },
   {
    "duration": 888057,
    "start_time": "2025-02-26T16:17:47.952Z"
   },
   {
    "duration": 51,
    "start_time": "2025-02-26T16:32:36.010Z"
   },
   {
    "duration": 80,
    "start_time": "2025-02-26T16:32:36.063Z"
   },
   {
    "duration": 640,
    "start_time": "2025-02-26T16:32:36.144Z"
   },
   {
    "duration": 91,
    "start_time": "2025-02-26T16:32:36.789Z"
   },
   {
    "duration": 45,
    "start_time": "2025-02-26T16:32:36.887Z"
   },
   {
    "duration": 27,
    "start_time": "2025-02-26T16:34:00.717Z"
   },
   {
    "duration": 14,
    "start_time": "2025-02-26T16:34:01.435Z"
   },
   {
    "duration": 391,
    "start_time": "2025-02-26T16:35:36.911Z"
   },
   {
    "duration": 368,
    "start_time": "2025-02-26T16:37:40.029Z"
   },
   {
    "duration": 376,
    "start_time": "2025-02-26T16:38:14.626Z"
   },
   {
    "duration": 1271,
    "start_time": "2025-02-26T16:40:26.875Z"
   },
   {
    "duration": 88013,
    "start_time": "2025-02-26T16:41:16.837Z"
   },
   {
    "duration": 79,
    "start_time": "2025-02-26T16:42:55.195Z"
   },
   {
    "duration": 190,
    "start_time": "2025-02-26T16:46:33.225Z"
   },
   {
    "duration": 85,
    "start_time": "2025-02-26T16:46:49.182Z"
   },
   {
    "duration": 67,
    "start_time": "2025-02-26T16:47:03.138Z"
   },
   {
    "duration": 63,
    "start_time": "2025-02-26T16:47:13.547Z"
   },
   {
    "duration": 58,
    "start_time": "2025-02-26T16:47:41.039Z"
   },
   {
    "duration": 56,
    "start_time": "2025-02-26T16:47:55.952Z"
   },
   {
    "duration": 4,
    "start_time": "2025-02-26T16:51:08.425Z"
   },
   {
    "duration": 62,
    "start_time": "2025-02-26T16:55:52.981Z"
   },
   {
    "duration": 25,
    "start_time": "2025-02-26T16:56:02.341Z"
   },
   {
    "duration": 4,
    "start_time": "2025-02-26T16:56:53.580Z"
   },
   {
    "duration": 56,
    "start_time": "2025-02-26T16:56:54.352Z"
   },
   {
    "duration": 6,
    "start_time": "2025-02-26T16:57:00.470Z"
   },
   {
    "duration": 5,
    "start_time": "2025-02-26T16:57:01.891Z"
   },
   {
    "duration": 19,
    "start_time": "2025-02-26T16:57:03.291Z"
   },
   {
    "duration": 15,
    "start_time": "2025-02-26T16:57:33.881Z"
   },
   {
    "duration": 16,
    "start_time": "2025-02-26T16:59:34.933Z"
   },
   {
    "duration": 12,
    "start_time": "2025-02-26T16:59:59.908Z"
   },
   {
    "duration": 12,
    "start_time": "2025-02-26T17:00:38.371Z"
   },
   {
    "duration": 57,
    "start_time": "2025-02-26T17:03:54.157Z"
   },
   {
    "duration": 3,
    "start_time": "2025-02-26T17:04:39.818Z"
   },
   {
    "duration": 45,
    "start_time": "2025-02-26T17:04:40.558Z"
   },
   {
    "duration": 11,
    "start_time": "2025-02-26T17:04:43.105Z"
   },
   {
    "duration": 3,
    "start_time": "2025-02-26T17:04:46.113Z"
   },
   {
    "duration": 438,
    "start_time": "2025-02-26T17:04:47.180Z"
   },
   {
    "duration": 12,
    "start_time": "2025-02-26T17:07:05.024Z"
   },
   {
    "duration": 903,
    "start_time": "2025-02-26T17:09:56.259Z"
   },
   {
    "duration": 9,
    "start_time": "2025-02-26T17:10:24.165Z"
   },
   {
    "duration": 6,
    "start_time": "2025-02-26T17:10:35.622Z"
   },
   {
    "duration": 3,
    "start_time": "2025-02-26T17:12:53.938Z"
   },
   {
    "duration": 7,
    "start_time": "2025-02-26T17:13:03.179Z"
   },
   {
    "duration": 870,
    "start_time": "2025-02-26T17:13:32.346Z"
   },
   {
    "duration": 9,
    "start_time": "2025-02-26T17:14:08.855Z"
   },
   {
    "duration": 12,
    "start_time": "2025-02-26T17:14:26.516Z"
   },
   {
    "duration": 3,
    "start_time": "2025-02-26T17:15:34.620Z"
   },
   {
    "duration": 51,
    "start_time": "2025-02-26T17:15:35.977Z"
   },
   {
    "duration": 12,
    "start_time": "2025-02-26T17:15:39.311Z"
   },
   {
    "duration": 4,
    "start_time": "2025-02-26T17:15:42.796Z"
   },
   {
    "duration": 9,
    "start_time": "2025-02-26T17:15:43.544Z"
   },
   {
    "duration": 175,
    "start_time": "2025-02-26T17:16:12.647Z"
   },
   {
    "duration": 1309,
    "start_time": "2025-02-26T17:17:32.131Z"
   },
   {
    "duration": 5,
    "start_time": "2025-02-26T17:17:50.147Z"
   },
   {
    "duration": 3,
    "start_time": "2025-02-26T17:18:56.782Z"
   },
   {
    "duration": 41,
    "start_time": "2025-02-26T17:18:58.291Z"
   },
   {
    "duration": 5,
    "start_time": "2025-02-26T17:19:01.335Z"
   },
   {
    "duration": 4,
    "start_time": "2025-02-26T17:19:04.264Z"
   },
   {
    "duration": 9,
    "start_time": "2025-02-26T17:19:08.251Z"
   },
   {
    "duration": 3,
    "start_time": "2025-02-26T17:19:20.419Z"
   },
   {
    "duration": 401,
    "start_time": "2025-02-26T17:19:21.561Z"
   },
   {
    "duration": 134,
    "start_time": "2025-02-26T17:19:27.909Z"
   },
   {
    "duration": 5,
    "start_time": "2025-02-26T17:19:30.077Z"
   },
   {
    "duration": 5,
    "start_time": "2025-02-26T17:24:22.804Z"
   },
   {
    "duration": 410,
    "start_time": "2025-02-26T17:24:23.544Z"
   },
   {
    "duration": 136,
    "start_time": "2025-02-26T17:24:25.527Z"
   },
   {
    "duration": 4,
    "start_time": "2025-02-26T17:24:26.659Z"
   },
   {
    "duration": 4,
    "start_time": "2025-02-26T17:25:26.628Z"
   },
   {
    "duration": 486,
    "start_time": "2025-02-26T17:25:27.363Z"
   },
   {
    "duration": 134,
    "start_time": "2025-02-26T17:25:29.523Z"
   },
   {
    "duration": 5,
    "start_time": "2025-02-26T17:25:31.339Z"
   },
   {
    "duration": 4,
    "start_time": "2025-02-26T17:25:40.555Z"
   },
   {
    "duration": 826,
    "start_time": "2025-02-26T17:25:41.475Z"
   },
   {
    "duration": 134,
    "start_time": "2025-02-26T17:25:43.745Z"
   },
   {
    "duration": 5,
    "start_time": "2025-02-26T17:25:44.629Z"
   },
   {
    "duration": 5,
    "start_time": "2025-02-26T17:25:50.674Z"
   },
   {
    "duration": 525,
    "start_time": "2025-02-26T17:25:51.179Z"
   },
   {
    "duration": 135,
    "start_time": "2025-02-26T17:25:52.418Z"
   },
   {
    "duration": 5,
    "start_time": "2025-02-26T17:25:53.279Z"
   },
   {
    "duration": 4,
    "start_time": "2025-02-26T17:26:03.261Z"
   },
   {
    "duration": 475,
    "start_time": "2025-02-26T17:26:03.742Z"
   },
   {
    "duration": 133,
    "start_time": "2025-02-26T17:26:04.915Z"
   },
   {
    "duration": 5,
    "start_time": "2025-02-26T17:26:06.699Z"
   },
   {
    "duration": 17,
    "start_time": "2025-02-26T17:27:21.535Z"
   },
   {
    "duration": 4,
    "start_time": "2025-02-26T17:27:30.293Z"
   },
   {
    "duration": 638,
    "start_time": "2025-02-26T17:27:31.074Z"
   },
   {
    "duration": 134,
    "start_time": "2025-02-26T17:27:32.819Z"
   },
   {
    "duration": 5,
    "start_time": "2025-02-26T17:27:34.036Z"
   },
   {
    "duration": 4,
    "start_time": "2025-02-26T17:27:44.809Z"
   },
   {
    "duration": 753,
    "start_time": "2025-02-26T17:27:45.410Z"
   },
   {
    "duration": 135,
    "start_time": "2025-02-26T17:27:46.327Z"
   },
   {
    "duration": 5,
    "start_time": "2025-02-26T17:27:48.813Z"
   },
   {
    "duration": 4,
    "start_time": "2025-02-26T17:27:55.572Z"
   },
   {
    "duration": 5686,
    "start_time": "2025-02-26T17:27:56.147Z"
   },
   {
    "duration": 134,
    "start_time": "2025-02-26T17:28:03.285Z"
   },
   {
    "duration": 5,
    "start_time": "2025-02-26T17:28:04.266Z"
   },
   {
    "duration": 4,
    "start_time": "2025-02-26T17:28:12.363Z"
   },
   {
    "duration": 19093,
    "start_time": "2025-02-26T17:28:12.879Z"
   },
   {
    "duration": 142,
    "start_time": "2025-02-26T17:28:31.974Z"
   },
   {
    "duration": 5,
    "start_time": "2025-02-26T17:28:32.118Z"
   },
   {
    "duration": 4,
    "start_time": "2025-02-26T17:29:16.782Z"
   },
   {
    "duration": 14039,
    "start_time": "2025-02-26T17:29:18.564Z"
   },
   {
    "duration": 152,
    "start_time": "2025-02-26T17:29:32.606Z"
   },
   {
    "duration": 5,
    "start_time": "2025-02-26T17:29:32.760Z"
   },
   {
    "duration": 4,
    "start_time": "2025-02-26T17:29:41.514Z"
   },
   {
    "duration": 4232,
    "start_time": "2025-02-26T17:29:41.990Z"
   },
   {
    "duration": 149,
    "start_time": "2025-02-26T17:29:46.224Z"
   },
   {
    "duration": 5,
    "start_time": "2025-02-26T17:29:46.375Z"
   },
   {
    "duration": 4,
    "start_time": "2025-02-26T17:29:52.748Z"
   },
   {
    "duration": 5369,
    "start_time": "2025-02-26T17:29:53.140Z"
   },
   {
    "duration": 161,
    "start_time": "2025-02-26T17:29:58.511Z"
   },
   {
    "duration": 6,
    "start_time": "2025-02-26T17:29:58.674Z"
   },
   {
    "duration": 417,
    "start_time": "2025-02-26T17:30:53.015Z"
   },
   {
    "duration": 3,
    "start_time": "2025-02-26T17:33:23.503Z"
   },
   {
    "duration": 69,
    "start_time": "2025-02-26T17:33:25.055Z"
   },
   {
    "duration": 10,
    "start_time": "2025-02-26T17:35:34.247Z"
   },
   {
    "duration": 114,
    "start_time": "2025-02-26T17:35:46.711Z"
   },
   {
    "duration": 6,
    "start_time": "2025-02-26T17:36:21.393Z"
   },
   {
    "duration": 6,
    "start_time": "2025-02-26T17:36:32.187Z"
   },
   {
    "duration": 168,
    "start_time": "2025-02-26T17:37:11.967Z"
   },
   {
    "duration": 4,
    "start_time": "2025-02-26T17:37:43.003Z"
   },
   {
    "duration": 202,
    "start_time": "2025-02-26T17:38:09.260Z"
   },
   {
    "duration": 319,
    "start_time": "2025-02-26T17:39:15.402Z"
   },
   {
    "duration": 434,
    "start_time": "2025-02-26T17:39:38.506Z"
   },
   {
    "duration": 107,
    "start_time": "2025-02-26T17:43:45.634Z"
   },
   {
    "duration": 113,
    "start_time": "2025-02-26T17:50:02.503Z"
   },
   {
    "duration": 74,
    "start_time": "2025-02-26T17:50:15.482Z"
   },
   {
    "duration": 14,
    "start_time": "2025-02-26T17:50:35.669Z"
   },
   {
    "duration": 14,
    "start_time": "2025-02-26T17:50:54.313Z"
   },
   {
    "duration": 14,
    "start_time": "2025-02-26T17:51:02.476Z"
   },
   {
    "duration": 13,
    "start_time": "2025-02-26T17:51:11.370Z"
   },
   {
    "duration": 3,
    "start_time": "2025-02-26T17:52:11.248Z"
   },
   {
    "duration": 8,
    "start_time": "2025-02-26T17:52:13.339Z"
   },
   {
    "duration": 88,
    "start_time": "2025-02-26T17:56:17.862Z"
   },
   {
    "duration": 12,
    "start_time": "2025-02-26T17:56:25.445Z"
   },
   {
    "duration": 514,
    "start_time": "2025-02-26T17:56:30.065Z"
   },
   {
    "duration": 153,
    "start_time": "2025-02-26T17:57:12.519Z"
   },
   {
    "duration": 23,
    "start_time": "2025-02-26T17:57:17.052Z"
   },
   {
    "duration": 2999,
    "start_time": "2025-02-26T17:59:50.101Z"
   },
   {
    "duration": 2949,
    "start_time": "2025-02-26T17:59:53.102Z"
   },
   {
    "duration": 3067,
    "start_time": "2025-02-26T17:59:56.053Z"
   },
   {
    "duration": 2695,
    "start_time": "2025-02-26T17:59:59.122Z"
   },
   {
    "duration": 2,
    "start_time": "2025-02-26T18:00:01.820Z"
   },
   {
    "duration": 1897,
    "start_time": "2025-02-26T18:00:01.823Z"
   },
   {
    "duration": 3,
    "start_time": "2025-02-26T18:00:03.722Z"
   },
   {
    "duration": 89,
    "start_time": "2025-02-26T18:00:03.726Z"
   },
   {
    "duration": 351,
    "start_time": "2025-02-26T18:00:03.816Z"
   },
   {
    "duration": 1906,
    "start_time": "2025-02-26T18:00:04.169Z"
   },
   {
    "duration": 99,
    "start_time": "2025-02-26T18:00:06.077Z"
   },
   {
    "duration": 962,
    "start_time": "2025-02-26T18:00:06.179Z"
   },
   {
    "duration": 4,
    "start_time": "2025-02-26T18:00:07.143Z"
   },
   {
    "duration": 125,
    "start_time": "2025-02-26T18:00:07.150Z"
   },
   {
    "duration": 40,
    "start_time": "2025-02-26T18:00:07.277Z"
   },
   {
    "duration": 71550,
    "start_time": "2025-02-26T18:00:07.319Z"
   },
   {
    "duration": 230,
    "start_time": "2025-02-26T18:01:18.873Z"
   },
   {
    "duration": 3,
    "start_time": "2025-02-26T18:01:19.104Z"
   },
   {
    "duration": 20219,
    "start_time": "2025-02-26T18:01:19.109Z"
   },
   {
    "duration": 2,
    "start_time": "2025-02-26T18:01:39.330Z"
   },
   {
    "duration": 240189,
    "start_time": "2025-02-26T18:01:39.334Z"
   },
   {
    "duration": 1986,
    "start_time": "2025-02-26T18:05:39.526Z"
   },
   {
    "duration": 5,
    "start_time": "2025-02-26T18:05:41.514Z"
   },
   {
    "duration": 12,
    "start_time": "2025-02-26T18:05:41.521Z"
   },
   {
    "duration": 20,
    "start_time": "2025-02-26T18:05:41.534Z"
   },
   {
    "duration": 860177,
    "start_time": "2025-02-26T18:05:41.556Z"
   },
   {
    "duration": 51,
    "start_time": "2025-02-26T18:20:01.735Z"
   },
   {
    "duration": 4,
    "start_time": "2025-02-26T18:20:01.788Z"
   },
   {
    "duration": 44,
    "start_time": "2025-02-26T18:20:01.793Z"
   },
   {
    "duration": 55,
    "start_time": "2025-02-26T18:20:01.838Z"
   },
   {
    "duration": 5526,
    "start_time": "2025-02-26T18:20:01.895Z"
   },
   {
    "duration": 156,
    "start_time": "2025-02-26T18:20:07.422Z"
   },
   {
    "duration": 6,
    "start_time": "2025-02-26T18:20:07.581Z"
   },
   {
    "duration": 612,
    "start_time": "2025-02-26T18:20:07.589Z"
   },
   {
    "duration": 328,
    "start_time": "2025-02-26T18:20:08.202Z"
   },
   {
    "duration": 0,
    "start_time": "2025-02-26T18:20:08.532Z"
   },
   {
    "duration": 0,
    "start_time": "2025-02-26T18:20:08.533Z"
   },
   {
    "duration": 181,
    "start_time": "2025-02-26T18:25:47.224Z"
   },
   {
    "duration": 5,
    "start_time": "2025-02-26T18:26:10.857Z"
   },
   {
    "duration": 4,
    "start_time": "2025-02-26T18:26:23.097Z"
   },
   {
    "duration": 3,
    "start_time": "2025-02-26T18:26:32.737Z"
   },
   {
    "duration": 10,
    "start_time": "2025-02-26T18:26:43.570Z"
   },
   {
    "duration": 8,
    "start_time": "2025-02-26T18:27:02.066Z"
   },
   {
    "duration": 15,
    "start_time": "2025-02-26T18:27:14.292Z"
   },
   {
    "duration": 29,
    "start_time": "2025-02-26T18:27:26.912Z"
   },
   {
    "duration": 15,
    "start_time": "2025-02-26T18:27:39.182Z"
   },
   {
    "duration": 226,
    "start_time": "2025-02-26T18:28:53.877Z"
   },
   {
    "duration": 231,
    "start_time": "2025-02-26T18:29:26.852Z"
   },
   {
    "duration": 15,
    "start_time": "2025-02-26T18:29:35.283Z"
   },
   {
    "duration": 6,
    "start_time": "2025-02-26T18:29:54.546Z"
   },
   {
    "duration": 11,
    "start_time": "2025-02-26T18:31:12.027Z"
   },
   {
    "duration": 10,
    "start_time": "2025-02-26T18:31:18.343Z"
   },
   {
    "duration": 4,
    "start_time": "2025-02-26T18:31:46.671Z"
   },
   {
    "duration": 12,
    "start_time": "2025-02-26T18:31:59.696Z"
   },
   {
    "duration": 206,
    "start_time": "2025-02-26T18:32:49.394Z"
   },
   {
    "duration": 193,
    "start_time": "2025-02-26T18:33:22.502Z"
   },
   {
    "duration": 15,
    "start_time": "2025-02-26T18:33:24.182Z"
   },
   {
    "duration": 5,
    "start_time": "2025-02-26T18:33:42.400Z"
   },
   {
    "duration": 154,
    "start_time": "2025-02-26T18:36:07.544Z"
   },
   {
    "duration": 14,
    "start_time": "2025-02-26T18:36:09.564Z"
   },
   {
    "duration": 197,
    "start_time": "2025-02-26T18:37:06.700Z"
   },
   {
    "duration": 14,
    "start_time": "2025-02-26T18:37:09.729Z"
   },
   {
    "duration": 218,
    "start_time": "2025-02-26T18:37:14.183Z"
   },
   {
    "duration": 13,
    "start_time": "2025-02-26T18:37:17.716Z"
   },
   {
    "duration": 3,
    "start_time": "2025-02-26T18:38:14.975Z"
   },
   {
    "duration": 29,
    "start_time": "2025-02-26T18:38:15.943Z"
   },
   {
    "duration": 9,
    "start_time": "2025-02-26T18:38:53.705Z"
   },
   {
    "duration": 3,
    "start_time": "2025-02-26T18:39:12.327Z"
   },
   {
    "duration": 9,
    "start_time": "2025-02-26T18:39:14.107Z"
   },
   {
    "duration": 226,
    "start_time": "2025-02-26T18:41:21.080Z"
   },
   {
    "duration": 15,
    "start_time": "2025-02-26T18:41:23.123Z"
   },
   {
    "duration": 3,
    "start_time": "2025-02-26T18:42:00.477Z"
   },
   {
    "duration": 15,
    "start_time": "2025-02-26T18:42:02.186Z"
   },
   {
    "duration": 4,
    "start_time": "2025-02-26T18:42:09.748Z"
   },
   {
    "duration": 15,
    "start_time": "2025-02-26T18:42:10.661Z"
   },
   {
    "duration": 160,
    "start_time": "2025-02-26T18:43:15.235Z"
   },
   {
    "duration": 16,
    "start_time": "2025-02-26T18:43:16.772Z"
   },
   {
    "duration": 2,
    "start_time": "2025-02-26T18:44:31.516Z"
   },
   {
    "duration": 157,
    "start_time": "2025-02-26T18:44:32.253Z"
   },
   {
    "duration": 3,
    "start_time": "2025-02-26T18:44:50.532Z"
   },
   {
    "duration": 239,
    "start_time": "2025-02-26T18:44:54.259Z"
   },
   {
    "duration": 24,
    "start_time": "2025-02-26T18:44:56.933Z"
   },
   {
    "duration": 3215,
    "start_time": "2025-02-26T18:45:41.270Z"
   },
   {
    "duration": 2748,
    "start_time": "2025-02-26T18:45:44.488Z"
   },
   {
    "duration": 2977,
    "start_time": "2025-02-26T18:45:47.238Z"
   },
   {
    "duration": 2664,
    "start_time": "2025-02-26T18:45:50.217Z"
   },
   {
    "duration": 3,
    "start_time": "2025-02-26T18:45:52.883Z"
   },
   {
    "duration": 1794,
    "start_time": "2025-02-26T18:45:52.887Z"
   },
   {
    "duration": 3,
    "start_time": "2025-02-26T18:45:54.683Z"
   },
   {
    "duration": 64,
    "start_time": "2025-02-26T18:45:54.687Z"
   },
   {
    "duration": 326,
    "start_time": "2025-02-26T18:45:54.753Z"
   },
   {
    "duration": 1894,
    "start_time": "2025-02-26T18:45:55.081Z"
   },
   {
    "duration": 102,
    "start_time": "2025-02-26T18:45:56.977Z"
   },
   {
    "duration": 967,
    "start_time": "2025-02-26T18:45:57.081Z"
   },
   {
    "duration": 4,
    "start_time": "2025-02-26T18:45:58.050Z"
   },
   {
    "duration": 130,
    "start_time": "2025-02-26T18:45:58.057Z"
   },
   {
    "duration": 25,
    "start_time": "2025-02-26T18:45:58.188Z"
   },
   {
    "duration": 69460,
    "start_time": "2025-02-26T18:45:58.215Z"
   },
   {
    "duration": 92,
    "start_time": "2025-02-26T18:47:07.680Z"
   },
   {
    "duration": 155,
    "start_time": "2025-02-26T18:47:07.773Z"
   },
   {
    "duration": 3,
    "start_time": "2025-02-26T18:47:07.930Z"
   },
   {
    "duration": 20164,
    "start_time": "2025-02-26T18:47:07.934Z"
   },
   {
    "duration": 3,
    "start_time": "2025-02-26T18:47:28.099Z"
   },
   {
    "duration": 235953,
    "start_time": "2025-02-26T18:47:28.103Z"
   },
   {
    "duration": 2196,
    "start_time": "2025-02-26T18:51:24.057Z"
   },
   {
    "duration": 4,
    "start_time": "2025-02-26T18:51:26.255Z"
   },
   {
    "duration": 79,
    "start_time": "2025-02-26T18:51:26.260Z"
   },
   {
    "duration": 19,
    "start_time": "2025-02-26T18:51:26.340Z"
   },
   {
    "duration": 847014,
    "start_time": "2025-02-26T18:51:26.361Z"
   },
   {
    "duration": 40,
    "start_time": "2025-02-26T19:05:33.377Z"
   },
   {
    "duration": 4,
    "start_time": "2025-02-26T19:05:33.419Z"
   },
   {
    "duration": 30,
    "start_time": "2025-02-26T19:05:33.425Z"
   },
   {
    "duration": 47,
    "start_time": "2025-02-26T19:05:33.456Z"
   },
   {
    "duration": 5655,
    "start_time": "2025-02-26T19:05:33.505Z"
   },
   {
    "duration": 146,
    "start_time": "2025-02-26T19:05:39.170Z"
   },
   {
    "duration": 4,
    "start_time": "2025-02-26T19:05:39.318Z"
   },
   {
    "duration": 482,
    "start_time": "2025-02-26T19:05:39.324Z"
   },
   {
    "duration": 195,
    "start_time": "2025-02-26T19:05:39.807Z"
   },
   {
    "duration": 16,
    "start_time": "2025-02-26T19:05:40.004Z"
   },
   {
    "duration": 152,
    "start_time": "2025-02-26T19:05:40.022Z"
   },
   {
    "duration": 0,
    "start_time": "2025-02-26T19:05:40.176Z"
   },
   {
    "duration": 0,
    "start_time": "2025-02-26T19:05:40.178Z"
   },
   {
    "duration": 0,
    "start_time": "2025-02-26T19:05:40.179Z"
   },
   {
    "duration": 3,
    "start_time": "2025-02-26T19:06:53.652Z"
   },
   {
    "duration": 9,
    "start_time": "2025-02-26T19:06:56.641Z"
   },
   {
    "duration": 234,
    "start_time": "2025-02-26T19:07:00.847Z"
   },
   {
    "duration": 15,
    "start_time": "2025-02-26T19:07:01.802Z"
   },
   {
    "duration": 3,
    "start_time": "2025-02-26T19:07:09.366Z"
   },
   {
    "duration": 9,
    "start_time": "2025-02-26T19:07:52.978Z"
   },
   {
    "duration": 227,
    "start_time": "2025-02-26T19:07:57.166Z"
   },
   {
    "duration": 15,
    "start_time": "2025-02-26T19:08:00.026Z"
   },
   {
    "duration": 4,
    "start_time": "2025-02-26T19:08:04.668Z"
   },
   {
    "duration": 14,
    "start_time": "2025-02-26T19:08:05.979Z"
   },
   {
    "duration": 5,
    "start_time": "2025-02-26T19:08:58.495Z"
   },
   {
    "duration": 222,
    "start_time": "2025-02-26T19:09:04.371Z"
   },
   {
    "duration": 13,
    "start_time": "2025-02-26T19:09:06.746Z"
   },
   {
    "duration": 6,
    "start_time": "2025-02-26T19:09:20.672Z"
   },
   {
    "duration": 3,
    "start_time": "2025-02-26T19:10:13.227Z"
   },
   {
    "duration": 14,
    "start_time": "2025-02-26T19:10:16.087Z"
   },
   {
    "duration": 264,
    "start_time": "2025-02-26T19:10:26.237Z"
   },
   {
    "duration": 280,
    "start_time": "2025-02-26T19:11:02.440Z"
   },
   {
    "duration": 222,
    "start_time": "2025-02-26T19:11:42.820Z"
   },
   {
    "duration": 322,
    "start_time": "2025-02-26T19:12:52.231Z"
   },
   {
    "duration": 375,
    "start_time": "2025-02-26T19:13:59.882Z"
   },
   {
    "duration": 264,
    "start_time": "2025-02-26T19:14:51.126Z"
   },
   {
    "duration": 274,
    "start_time": "2025-02-26T19:14:59.787Z"
   },
   {
    "duration": 270,
    "start_time": "2025-02-26T19:15:14.514Z"
   },
   {
    "duration": 354,
    "start_time": "2025-02-26T19:15:24.629Z"
   },
   {
    "duration": 251,
    "start_time": "2025-02-26T19:16:19.385Z"
   },
   {
    "duration": 105,
    "start_time": "2025-02-26T19:18:38.304Z"
   },
   {
    "duration": 97,
    "start_time": "2025-02-26T19:18:50.154Z"
   },
   {
    "duration": 149,
    "start_time": "2025-02-26T19:18:53.411Z"
   },
   {
    "duration": 147,
    "start_time": "2025-02-26T19:19:42.472Z"
   },
   {
    "duration": 195,
    "start_time": "2025-02-26T19:21:18.193Z"
   },
   {
    "duration": 226,
    "start_time": "2025-02-26T19:21:26.108Z"
   },
   {
    "duration": 206,
    "start_time": "2025-02-26T19:23:22.102Z"
   },
   {
    "duration": 12,
    "start_time": "2025-02-26T19:25:04.635Z"
   },
   {
    "duration": 209,
    "start_time": "2025-02-26T19:25:33.974Z"
   },
   {
    "duration": 207,
    "start_time": "2025-02-26T19:25:56.311Z"
   },
   {
    "duration": 208,
    "start_time": "2025-02-26T19:26:13.045Z"
   },
   {
    "duration": 211,
    "start_time": "2025-02-26T19:26:21.630Z"
   },
   {
    "duration": 213,
    "start_time": "2025-02-26T19:26:44.193Z"
   },
   {
    "duration": 271,
    "start_time": "2025-02-26T19:32:02.232Z"
   },
   {
    "duration": 3050,
    "start_time": "2025-02-26T19:51:08.366Z"
   },
   {
    "duration": 2638,
    "start_time": "2025-02-26T19:51:11.418Z"
   },
   {
    "duration": 3036,
    "start_time": "2025-02-26T19:51:14.059Z"
   },
   {
    "duration": 2698,
    "start_time": "2025-02-26T19:51:17.097Z"
   },
   {
    "duration": 2,
    "start_time": "2025-02-26T19:51:19.799Z"
   },
   {
    "duration": 1901,
    "start_time": "2025-02-26T19:51:19.802Z"
   },
   {
    "duration": 3,
    "start_time": "2025-02-26T19:51:21.705Z"
   },
   {
    "duration": 77,
    "start_time": "2025-02-26T19:51:21.709Z"
   },
   {
    "duration": 335,
    "start_time": "2025-02-26T19:51:21.788Z"
   },
   {
    "duration": 1949,
    "start_time": "2025-02-26T19:51:22.125Z"
   },
   {
    "duration": 99,
    "start_time": "2025-02-26T19:51:24.076Z"
   },
   {
    "duration": 932,
    "start_time": "2025-02-26T19:51:24.177Z"
   },
   {
    "duration": 4,
    "start_time": "2025-02-26T19:51:25.111Z"
   },
   {
    "duration": 130,
    "start_time": "2025-02-26T19:51:25.118Z"
   },
   {
    "duration": 17,
    "start_time": "2025-02-26T19:51:25.249Z"
   },
   {
    "duration": 71501,
    "start_time": "2025-02-26T19:51:25.268Z"
   },
   {
    "duration": 229,
    "start_time": "2025-02-26T19:52:36.772Z"
   },
   {
    "duration": 3,
    "start_time": "2025-02-26T19:52:37.002Z"
   },
   {
    "duration": 20068,
    "start_time": "2025-02-26T19:52:37.007Z"
   },
   {
    "duration": 3,
    "start_time": "2025-02-26T19:52:57.077Z"
   },
   {
    "duration": 2856,
    "start_time": "2025-02-26T19:56:14.473Z"
   },
   {
    "duration": 2662,
    "start_time": "2025-02-26T19:56:17.331Z"
   },
   {
    "duration": 2931,
    "start_time": "2025-02-26T19:56:19.995Z"
   },
   {
    "duration": 2583,
    "start_time": "2025-02-26T19:56:22.929Z"
   },
   {
    "duration": 1772,
    "start_time": "2025-02-26T19:56:25.515Z"
   },
   {
    "duration": 3,
    "start_time": "2025-02-26T19:56:27.289Z"
   },
   {
    "duration": 5,
    "start_time": "2025-02-26T19:56:27.293Z"
   },
   {
    "duration": 64,
    "start_time": "2025-02-26T19:56:27.300Z"
   },
   {
    "duration": 349,
    "start_time": "2025-02-26T19:56:27.366Z"
   },
   {
    "duration": 2253,
    "start_time": "2025-02-26T19:56:27.717Z"
   },
   {
    "duration": 99,
    "start_time": "2025-02-26T19:56:29.973Z"
   },
   {
    "duration": 945,
    "start_time": "2025-02-26T19:56:30.073Z"
   },
   {
    "duration": 4,
    "start_time": "2025-02-26T19:56:31.019Z"
   },
   {
    "duration": 28,
    "start_time": "2025-02-26T19:56:31.026Z"
   },
   {
    "duration": 43,
    "start_time": "2025-02-26T19:56:31.056Z"
   },
   {
    "duration": 70576,
    "start_time": "2025-02-26T19:56:31.100Z"
   },
   {
    "duration": 317,
    "start_time": "2025-02-26T19:57:41.678Z"
   },
   {
    "duration": 3,
    "start_time": "2025-02-26T19:57:41.996Z"
   },
   {
    "duration": 20058,
    "start_time": "2025-02-26T19:57:42.000Z"
   },
   {
    "duration": 3,
    "start_time": "2025-02-26T19:58:02.060Z"
   },
   {
    "duration": 239050,
    "start_time": "2025-02-26T19:58:02.071Z"
   },
   {
    "duration": 2658,
    "start_time": "2025-02-26T20:02:01.122Z"
   },
   {
    "duration": 3,
    "start_time": "2025-02-26T20:02:03.782Z"
   },
   {
    "duration": 857708,
    "start_time": "2025-02-26T20:02:03.787Z"
   },
   {
    "duration": 41,
    "start_time": "2025-02-26T20:16:21.496Z"
   },
   {
    "duration": 4,
    "start_time": "2025-02-26T20:16:21.539Z"
   },
   {
    "duration": 24,
    "start_time": "2025-02-26T20:16:21.544Z"
   },
   {
    "duration": 37,
    "start_time": "2025-02-26T20:16:21.569Z"
   },
   {
    "duration": 5406,
    "start_time": "2025-02-26T20:16:21.608Z"
   },
   {
    "duration": 151,
    "start_time": "2025-02-26T20:16:27.016Z"
   },
   {
    "duration": 525,
    "start_time": "2025-02-26T20:16:27.170Z"
   },
   {
    "duration": 5,
    "start_time": "2025-02-26T20:16:27.696Z"
   },
   {
    "duration": 42,
    "start_time": "2025-02-26T20:16:27.702Z"
   },
   {
    "duration": 329,
    "start_time": "2025-02-26T20:16:27.746Z"
   },
   {
    "duration": 236,
    "start_time": "2025-02-26T20:16:28.077Z"
   },
   {
    "duration": 277,
    "start_time": "2025-02-26T20:16:28.315Z"
   },
   {
    "duration": 278,
    "start_time": "2025-02-26T20:17:01.078Z"
   },
   {
    "duration": 8087,
    "start_time": "2025-02-27T14:43:10.969Z"
   },
   {
    "duration": 3688,
    "start_time": "2025-02-27T14:43:19.058Z"
   },
   {
    "duration": 8981,
    "start_time": "2025-02-27T14:43:22.748Z"
   },
   {
    "duration": 7061,
    "start_time": "2025-02-27T14:43:31.732Z"
   },
   {
    "duration": 2194,
    "start_time": "2025-02-27T14:43:38.796Z"
   },
   {
    "duration": 4,
    "start_time": "2025-02-27T14:43:40.992Z"
   },
   {
    "duration": 59,
    "start_time": "2025-02-27T14:43:41.002Z"
   },
   {
    "duration": 74,
    "start_time": "2025-02-27T14:43:41.062Z"
   },
   {
    "duration": 396,
    "start_time": "2025-02-27T14:43:41.139Z"
   },
   {
    "duration": 3469,
    "start_time": "2025-02-27T14:43:41.537Z"
   },
   {
    "duration": 99,
    "start_time": "2025-02-27T14:43:45.009Z"
   },
   {
    "duration": 1101,
    "start_time": "2025-02-27T14:43:45.110Z"
   },
   {
    "duration": 11,
    "start_time": "2025-02-27T14:43:46.213Z"
   },
   {
    "duration": 92,
    "start_time": "2025-02-27T14:43:46.227Z"
   },
   {
    "duration": 109,
    "start_time": "2025-02-27T14:43:46.321Z"
   },
   {
    "duration": 82885,
    "start_time": "2025-02-27T14:43:46.432Z"
   },
   {
    "duration": 239,
    "start_time": "2025-02-27T14:45:09.427Z"
   },
   {
    "duration": 2,
    "start_time": "2025-02-27T14:45:09.668Z"
   },
   {
    "duration": 24372,
    "start_time": "2025-02-27T14:45:09.672Z"
   },
   {
    "duration": 3,
    "start_time": "2025-02-27T14:45:34.046Z"
   },
   {
    "duration": 287629,
    "start_time": "2025-02-27T14:45:34.051Z"
   },
   {
    "duration": 2325,
    "start_time": "2025-02-27T14:50:21.682Z"
   },
   {
    "duration": 3,
    "start_time": "2025-02-27T14:50:24.009Z"
   },
   {
    "duration": 990227,
    "start_time": "2025-02-27T14:50:24.014Z"
   },
   {
    "duration": 48,
    "start_time": "2025-02-27T15:06:54.242Z"
   },
   {
    "duration": 22,
    "start_time": "2025-02-27T15:06:54.291Z"
   },
   {
    "duration": 137,
    "start_time": "2025-02-27T15:06:54.315Z"
   },
   {
    "duration": 137,
    "start_time": "2025-02-27T15:06:54.454Z"
   },
   {
    "duration": 6594,
    "start_time": "2025-02-27T15:06:54.593Z"
   },
   {
    "duration": 190,
    "start_time": "2025-02-27T15:07:01.190Z"
   },
   {
    "duration": 556,
    "start_time": "2025-02-27T15:07:01.382Z"
   },
   {
    "duration": 5,
    "start_time": "2025-02-27T15:07:01.940Z"
   },
   {
    "duration": 33,
    "start_time": "2025-02-27T15:07:01.946Z"
   },
   {
    "duration": 370,
    "start_time": "2025-02-27T15:07:01.981Z"
   },
   {
    "duration": 190,
    "start_time": "2025-02-27T15:07:02.353Z"
   },
   {
    "duration": 333,
    "start_time": "2025-02-27T15:07:02.545Z"
   },
   {
    "duration": 249,
    "start_time": "2025-02-27T15:08:06.119Z"
   },
   {
    "duration": 60,
    "start_time": "2025-02-27T15:14:03.253Z"
   },
   {
    "duration": 4,
    "start_time": "2025-02-27T15:14:08.386Z"
   },
   {
    "duration": 5,
    "start_time": "2025-02-27T15:14:09.182Z"
   },
   {
    "duration": 4,
    "start_time": "2025-02-27T15:14:10.019Z"
   },
   {
    "duration": 5,
    "start_time": "2025-02-27T15:14:11.111Z"
   },
   {
    "duration": 3136,
    "start_time": "2025-02-27T15:14:14.117Z"
   },
   {
    "duration": 7,
    "start_time": "2025-02-27T15:15:33.012Z"
   },
   {
    "duration": 5,
    "start_time": "2025-02-27T15:15:34.435Z"
   },
   {
    "duration": 3413,
    "start_time": "2025-02-27T15:15:35.419Z"
   },
   {
    "duration": 1584,
    "start_time": "2025-02-27T15:15:42.237Z"
   },
   {
    "duration": 6,
    "start_time": "2025-02-27T15:16:18.230Z"
   },
   {
    "duration": 4,
    "start_time": "2025-02-27T15:16:19.578Z"
   },
   {
    "duration": 3111,
    "start_time": "2025-02-27T15:16:20.093Z"
   },
   {
    "duration": 699,
    "start_time": "2025-02-27T15:16:23.209Z"
   },
   {
    "duration": 6867,
    "start_time": "2025-02-27T15:20:49.382Z"
   },
   {
    "duration": 638,
    "start_time": "2025-02-27T15:21:35.088Z"
   },
   {
    "duration": 14,
    "start_time": "2025-02-27T15:22:09.375Z"
   },
   {
    "duration": 98,
    "start_time": "2025-02-27T15:31:06.107Z"
   },
   {
    "duration": 7,
    "start_time": "2025-02-27T15:31:51.638Z"
   },
   {
    "duration": 53,
    "start_time": "2025-02-27T15:32:11.560Z"
   },
   {
    "duration": 55,
    "start_time": "2025-02-27T15:32:28.952Z"
   },
   {
    "duration": 78,
    "start_time": "2025-02-27T15:32:55.126Z"
   },
   {
    "duration": 12,
    "start_time": "2025-02-27T15:33:08.664Z"
   },
   {
    "duration": 11,
    "start_time": "2025-02-27T15:33:24.845Z"
   },
   {
    "duration": 10,
    "start_time": "2025-02-27T15:33:38.640Z"
   },
   {
    "duration": 64,
    "start_time": "2025-02-27T15:33:48.540Z"
   },
   {
    "duration": 1097,
    "start_time": "2025-02-27T15:35:17.466Z"
   },
   {
    "duration": 3365,
    "start_time": "2025-02-27T15:36:44.815Z"
   },
   {
    "duration": 3234,
    "start_time": "2025-02-27T15:36:48.183Z"
   },
   {
    "duration": 3373,
    "start_time": "2025-02-27T15:36:51.419Z"
   },
   {
    "duration": 3268,
    "start_time": "2025-02-27T15:36:54.795Z"
   },
   {
    "duration": 1993,
    "start_time": "2025-02-27T15:36:58.066Z"
   },
   {
    "duration": 4,
    "start_time": "2025-02-27T15:37:00.062Z"
   },
   {
    "duration": 208,
    "start_time": "2025-02-27T15:37:00.068Z"
   },
   {
    "duration": 148,
    "start_time": "2025-02-27T15:37:00.278Z"
   },
   {
    "duration": 599,
    "start_time": "2025-02-27T15:37:00.428Z"
   },
   {
    "duration": 1885,
    "start_time": "2025-02-27T15:37:01.029Z"
   },
   {
    "duration": 91,
    "start_time": "2025-02-27T15:37:02.916Z"
   },
   {
    "duration": 1183,
    "start_time": "2025-02-27T15:37:03.009Z"
   },
   {
    "duration": 4,
    "start_time": "2025-02-27T15:37:04.202Z"
   },
   {
    "duration": 39,
    "start_time": "2025-02-27T15:37:04.211Z"
   },
   {
    "duration": 21,
    "start_time": "2025-02-27T15:37:04.253Z"
   },
   {
    "duration": 126141,
    "start_time": "2025-02-27T15:37:04.276Z"
   },
   {
    "duration": 188,
    "start_time": "2025-02-27T15:39:10.427Z"
   },
   {
    "duration": 3,
    "start_time": "2025-02-27T15:39:10.618Z"
   },
   {
    "duration": 25776,
    "start_time": "2025-02-27T15:39:10.624Z"
   },
   {
    "duration": 8,
    "start_time": "2025-02-27T15:39:36.401Z"
   },
   {
    "duration": 320018,
    "start_time": "2025-02-27T15:39:36.413Z"
   },
   {
    "duration": 2513,
    "start_time": "2025-02-27T15:44:56.432Z"
   },
   {
    "duration": 4,
    "start_time": "2025-02-27T15:44:58.948Z"
   },
   {
    "duration": 1089850,
    "start_time": "2025-02-27T15:44:58.954Z"
   },
   {
    "duration": 54,
    "start_time": "2025-02-27T16:03:08.811Z"
   },
   {
    "duration": 5,
    "start_time": "2025-02-27T16:03:08.867Z"
   },
   {
    "duration": 14,
    "start_time": "2025-02-27T16:03:08.873Z"
   },
   {
    "duration": 19,
    "start_time": "2025-02-27T16:03:08.889Z"
   },
   {
    "duration": 34,
    "start_time": "2025-02-27T16:03:08.918Z"
   },
   {
    "duration": 3562,
    "start_time": "2025-02-27T16:03:08.954Z"
   },
   {
    "duration": 825,
    "start_time": "2025-02-27T16:03:12.522Z"
   },
   {
    "duration": 1707,
    "start_time": "2025-02-27T16:03:13.349Z"
   },
   {
    "duration": 73,
    "start_time": "2025-02-27T16:03:15.057Z"
   },
   {
    "duration": 353,
    "start_time": "2025-02-27T16:03:15.134Z"
   },
   {
    "duration": 3330,
    "start_time": "2025-02-27T16:30:09.048Z"
   },
   {
    "duration": 3175,
    "start_time": "2025-02-27T16:30:12.382Z"
   },
   {
    "duration": 3636,
    "start_time": "2025-02-27T16:30:15.559Z"
   },
   {
    "duration": 2888,
    "start_time": "2025-02-27T16:30:19.198Z"
   },
   {
    "duration": 1955,
    "start_time": "2025-02-27T16:30:22.089Z"
   },
   {
    "duration": 3,
    "start_time": "2025-02-27T16:30:24.046Z"
   },
   {
    "duration": 17,
    "start_time": "2025-02-27T16:30:24.050Z"
   },
   {
    "duration": 72,
    "start_time": "2025-02-27T16:30:24.069Z"
   },
   {
    "duration": 400,
    "start_time": "2025-02-27T16:30:24.143Z"
   },
   {
    "duration": 2166,
    "start_time": "2025-02-27T16:30:24.544Z"
   },
   {
    "duration": 99,
    "start_time": "2025-02-27T16:30:26.803Z"
   },
   {
    "duration": 1013,
    "start_time": "2025-02-27T16:30:26.904Z"
   },
   {
    "duration": 4,
    "start_time": "2025-02-27T16:30:27.919Z"
   },
   {
    "duration": 83,
    "start_time": "2025-02-27T16:30:27.926Z"
   },
   {
    "duration": 30,
    "start_time": "2025-02-27T16:30:28.011Z"
   },
   {
    "duration": 73869,
    "start_time": "2025-02-27T16:30:28.042Z"
   },
   {
    "duration": 244,
    "start_time": "2025-02-27T16:31:41.913Z"
   },
   {
    "duration": 2,
    "start_time": "2025-02-27T16:31:42.159Z"
   },
   {
    "duration": 23182,
    "start_time": "2025-02-27T16:31:42.163Z"
   },
   {
    "duration": 3,
    "start_time": "2025-02-27T16:32:05.347Z"
   },
   {
    "duration": 276466,
    "start_time": "2025-02-27T16:32:05.351Z"
   },
   {
    "duration": 2212,
    "start_time": "2025-02-27T16:36:41.819Z"
   },
   {
    "duration": 3,
    "start_time": "2025-02-27T16:36:44.034Z"
   },
   {
    "duration": 957614,
    "start_time": "2025-02-27T16:36:44.039Z"
   },
   {
    "duration": 57,
    "start_time": "2025-02-27T16:52:41.655Z"
   },
   {
    "duration": 5,
    "start_time": "2025-02-27T16:52:41.713Z"
   },
   {
    "duration": 11,
    "start_time": "2025-02-27T16:52:41.720Z"
   },
   {
    "duration": 6,
    "start_time": "2025-02-27T16:52:41.733Z"
   },
   {
    "duration": 32,
    "start_time": "2025-02-27T16:52:41.742Z"
   },
   {
    "duration": 3250,
    "start_time": "2025-02-27T16:52:41.776Z"
   },
   {
    "duration": 791,
    "start_time": "2025-02-27T16:52:45.028Z"
   },
   {
    "duration": 152,
    "start_time": "2025-02-27T16:52:45.821Z"
   },
   {
    "duration": 879,
    "start_time": "2025-02-27T16:54:35.373Z"
   },
   {
    "duration": 9911,
    "start_time": "2025-03-04T16:46:01.335Z"
   },
   {
    "duration": 4494,
    "start_time": "2025-03-04T16:46:11.248Z"
   },
   {
    "duration": 8034,
    "start_time": "2025-03-04T16:46:15.744Z"
   },
   {
    "duration": 10232,
    "start_time": "2025-03-04T16:46:23.780Z"
   },
   {
    "duration": 2013,
    "start_time": "2025-03-04T16:46:34.014Z"
   },
   {
    "duration": 4,
    "start_time": "2025-03-04T16:46:36.029Z"
   },
   {
    "duration": 9,
    "start_time": "2025-03-04T16:46:36.034Z"
   },
   {
    "duration": 100,
    "start_time": "2025-03-04T16:46:36.045Z"
   },
   {
    "duration": 351,
    "start_time": "2025-03-04T16:46:36.147Z"
   },
   {
    "duration": 2510,
    "start_time": "2025-03-04T16:46:36.500Z"
   },
   {
    "duration": 188,
    "start_time": "2025-03-04T16:46:39.013Z"
   },
   {
    "duration": 935,
    "start_time": "2025-03-04T16:46:39.203Z"
   },
   {
    "duration": 9,
    "start_time": "2025-03-04T16:46:40.140Z"
   },
   {
    "duration": 129,
    "start_time": "2025-03-04T16:46:40.153Z"
   },
   {
    "duration": 11,
    "start_time": "2025-03-04T16:46:40.283Z"
   }
  ],
  "kernelspec": {
   "display_name": "Python 3 (ipykernel)",
   "language": "python",
   "name": "python3"
  },
  "language_info": {
   "codemirror_mode": {
    "name": "ipython",
    "version": 3
   },
   "file_extension": ".py",
   "mimetype": "text/x-python",
   "name": "python",
   "nbconvert_exporter": "python",
   "pygments_lexer": "ipython3",
   "version": "3.9.20"
  },
  "toc": {
   "base_numbering": 1,
   "nav_menu": {},
   "number_sections": true,
   "sideBar": true,
   "skip_h1_title": true,
   "title_cell": "Содержание",
   "title_sidebar": "Contents",
   "toc_cell": true,
   "toc_position": {},
   "toc_section_display": true,
   "toc_window_display": true
  }
 },
 "nbformat": 4,
 "nbformat_minor": 4
}
