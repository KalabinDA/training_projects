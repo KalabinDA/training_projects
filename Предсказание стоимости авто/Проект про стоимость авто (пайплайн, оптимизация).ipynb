{
 "cells": [
  {
   "cell_type": "markdown",
   "metadata": {},
   "source": [
    "# Определение стоимости автомобилей"
   ]
  },
  {
   "cell_type": "markdown",
   "metadata": {},
   "source": [
    "Сервис по продаже автомобилей с пробегом разрабатывает приложение для привлечения новых клиентов. В нём можно быстро узнать рыночную стоимость своего автомобиля. Имеются исторические данные: технические характеристики, комплектации и цены автомобилей. Необходимо построить модель для определения стоимости. \n",
    "\n",
    "Заказчику важны:\n",
    "\n",
    "- качество предсказания;\n",
    "- скорость предсказания;\n",
    "- время обучения."
   ]
  },
  {
   "cell_type": "markdown",
   "metadata": {},
   "source": [
    "**Цели исследования:**\n",
    "- Обучить несколько моделей для предсказания цены, у которых RMSE менее 2500.\n",
    "- Сравнить модели по метрике и затраченному на обучение и предсказание времени.\n",
    "- Дать рекомендации по выбору подходящей модели и дальнейшему её улучшению."
   ]
  },
  {
   "cell_type": "markdown",
   "metadata": {},
   "source": [
    "**Ход исследования** \n",
    "- Изучить и обработать предоставленные данные.\n",
    "- Подготовить данные для обучения.\n",
    "- Обучить модели, подобрать для них оптимальные параметры.\n",
    "- Сравнить полученные модели, дать рекомендации"
   ]
  },
  {
   "cell_type": "markdown",
   "metadata": {},
   "source": [
    "## Подготовка данных"
   ]
  },
  {
   "cell_type": "markdown",
   "metadata": {},
   "source": [
    "### Загрузка данных"
   ]
  },
  {
   "cell_type": "markdown",
   "metadata": {},
   "source": [
    "Импортируем библиотеки, объявим константы"
   ]
  },
  {
   "cell_type": "code",
   "execution_count": 1,
   "metadata": {},
   "outputs": [],
   "source": [
    "!pip install --upgrade scikit-learn -q"
   ]
  },
  {
   "cell_type": "code",
   "execution_count": 2,
   "metadata": {},
   "outputs": [],
   "source": [
    "!pip install --upgrade lightgbm -q"
   ]
  },
  {
   "cell_type": "code",
   "execution_count": 3,
   "metadata": {},
   "outputs": [],
   "source": [
    "!pip install phik -q"
   ]
  },
  {
   "cell_type": "code",
   "execution_count": 4,
   "metadata": {},
   "outputs": [],
   "source": [
    "import warnings\n",
    "import pandas as pd\n",
    "import numpy as np\n",
    "import matplotlib.pyplot as plt\n",
    "import seaborn as sns\n",
    "from sklearn.model_selection import(\n",
    "    train_test_split, RandomizedSearchCV, \n",
    "    cross_validate)\n",
    "from sklearn.preprocessing import(\n",
    "    OneHotEncoder, TargetEncoder, StandardScaler\n",
    ")\n",
    "from sklearn.linear_model import LinearRegression\n",
    "from sklearn.neighbors import KNeighborsRegressor\n",
    "from sklearn.tree import DecisionTreeRegressor\n",
    "from sklearn.ensemble import RandomForestRegressor\n",
    "from sklearn.metrics import root_mean_squared_error\n",
    "from sklearn.pipeline import Pipeline\n",
    "from sklearn.compose import ColumnTransformer\n",
    "from sklearn.impute import SimpleImputer\n",
    "\n",
    "import lightgbm as lgb\n",
    "import phik"
   ]
  },
  {
   "cell_type": "code",
   "execution_count": 5,
   "metadata": {},
   "outputs": [],
   "source": [
    "RANDOM_STATE = 42"
   ]
  },
  {
   "cell_type": "code",
   "execution_count": 6,
   "metadata": {},
   "outputs": [],
   "source": [
    "warnings.filterwarnings('ignore')"
   ]
  },
  {
   "cell_type": "markdown",
   "metadata": {},
   "source": [
    "Загрузим данные, переведем даты в соответствующий тип данных, настроим показ всех столбцов, выведем первые строки таблицы и общую информацию"
   ]
  },
  {
   "cell_type": "code",
   "execution_count": 7,
   "metadata": {},
   "outputs": [],
   "source": [
    "pd.set_option('display.max_columns', None)\n",
    "data = pd.read_csv('datasets/autos.csv', parse_dates=['DateCrawled', 'DateCreated', 'LastSeen'])"
   ]
  },
  {
   "cell_type": "code",
   "execution_count": 8,
   "metadata": {},
   "outputs": [
    {
     "data": {
      "text/html": [
       "<div>\n",
       "<style scoped>\n",
       "    .dataframe tbody tr th:only-of-type {\n",
       "        vertical-align: middle;\n",
       "    }\n",
       "\n",
       "    .dataframe tbody tr th {\n",
       "        vertical-align: top;\n",
       "    }\n",
       "\n",
       "    .dataframe thead th {\n",
       "        text-align: right;\n",
       "    }\n",
       "</style>\n",
       "<table border=\"1\" class=\"dataframe\">\n",
       "  <thead>\n",
       "    <tr style=\"text-align: right;\">\n",
       "      <th></th>\n",
       "      <th>DateCrawled</th>\n",
       "      <th>Price</th>\n",
       "      <th>VehicleType</th>\n",
       "      <th>RegistrationYear</th>\n",
       "      <th>Gearbox</th>\n",
       "      <th>Power</th>\n",
       "      <th>Model</th>\n",
       "      <th>Kilometer</th>\n",
       "      <th>RegistrationMonth</th>\n",
       "      <th>FuelType</th>\n",
       "      <th>Brand</th>\n",
       "      <th>Repaired</th>\n",
       "      <th>DateCreated</th>\n",
       "      <th>NumberOfPictures</th>\n",
       "      <th>PostalCode</th>\n",
       "      <th>LastSeen</th>\n",
       "    </tr>\n",
       "  </thead>\n",
       "  <tbody>\n",
       "    <tr>\n",
       "      <th>0</th>\n",
       "      <td>2016-03-24 11:52:17</td>\n",
       "      <td>480</td>\n",
       "      <td>NaN</td>\n",
       "      <td>1993</td>\n",
       "      <td>manual</td>\n",
       "      <td>0</td>\n",
       "      <td>golf</td>\n",
       "      <td>150000</td>\n",
       "      <td>0</td>\n",
       "      <td>petrol</td>\n",
       "      <td>volkswagen</td>\n",
       "      <td>NaN</td>\n",
       "      <td>2016-03-24</td>\n",
       "      <td>0</td>\n",
       "      <td>70435</td>\n",
       "      <td>2016-04-07 03:16:57</td>\n",
       "    </tr>\n",
       "    <tr>\n",
       "      <th>1</th>\n",
       "      <td>2016-03-24 10:58:45</td>\n",
       "      <td>18300</td>\n",
       "      <td>coupe</td>\n",
       "      <td>2011</td>\n",
       "      <td>manual</td>\n",
       "      <td>190</td>\n",
       "      <td>NaN</td>\n",
       "      <td>125000</td>\n",
       "      <td>5</td>\n",
       "      <td>gasoline</td>\n",
       "      <td>audi</td>\n",
       "      <td>yes</td>\n",
       "      <td>2016-03-24</td>\n",
       "      <td>0</td>\n",
       "      <td>66954</td>\n",
       "      <td>2016-04-07 01:46:50</td>\n",
       "    </tr>\n",
       "    <tr>\n",
       "      <th>2</th>\n",
       "      <td>2016-03-14 12:52:21</td>\n",
       "      <td>9800</td>\n",
       "      <td>suv</td>\n",
       "      <td>2004</td>\n",
       "      <td>auto</td>\n",
       "      <td>163</td>\n",
       "      <td>grand</td>\n",
       "      <td>125000</td>\n",
       "      <td>8</td>\n",
       "      <td>gasoline</td>\n",
       "      <td>jeep</td>\n",
       "      <td>NaN</td>\n",
       "      <td>2016-03-14</td>\n",
       "      <td>0</td>\n",
       "      <td>90480</td>\n",
       "      <td>2016-04-05 12:47:46</td>\n",
       "    </tr>\n",
       "    <tr>\n",
       "      <th>3</th>\n",
       "      <td>2016-03-17 16:54:04</td>\n",
       "      <td>1500</td>\n",
       "      <td>small</td>\n",
       "      <td>2001</td>\n",
       "      <td>manual</td>\n",
       "      <td>75</td>\n",
       "      <td>golf</td>\n",
       "      <td>150000</td>\n",
       "      <td>6</td>\n",
       "      <td>petrol</td>\n",
       "      <td>volkswagen</td>\n",
       "      <td>no</td>\n",
       "      <td>2016-03-17</td>\n",
       "      <td>0</td>\n",
       "      <td>91074</td>\n",
       "      <td>2016-03-17 17:40:17</td>\n",
       "    </tr>\n",
       "    <tr>\n",
       "      <th>4</th>\n",
       "      <td>2016-03-31 17:25:20</td>\n",
       "      <td>3600</td>\n",
       "      <td>small</td>\n",
       "      <td>2008</td>\n",
       "      <td>manual</td>\n",
       "      <td>69</td>\n",
       "      <td>fabia</td>\n",
       "      <td>90000</td>\n",
       "      <td>7</td>\n",
       "      <td>gasoline</td>\n",
       "      <td>skoda</td>\n",
       "      <td>no</td>\n",
       "      <td>2016-03-31</td>\n",
       "      <td>0</td>\n",
       "      <td>60437</td>\n",
       "      <td>2016-04-06 10:17:21</td>\n",
       "    </tr>\n",
       "  </tbody>\n",
       "</table>\n",
       "</div>"
      ],
      "text/plain": [
       "          DateCrawled  Price VehicleType  RegistrationYear Gearbox  Power  \\\n",
       "0 2016-03-24 11:52:17    480         NaN              1993  manual      0   \n",
       "1 2016-03-24 10:58:45  18300       coupe              2011  manual    190   \n",
       "2 2016-03-14 12:52:21   9800         suv              2004    auto    163   \n",
       "3 2016-03-17 16:54:04   1500       small              2001  manual     75   \n",
       "4 2016-03-31 17:25:20   3600       small              2008  manual     69   \n",
       "\n",
       "   Model  Kilometer  RegistrationMonth  FuelType       Brand Repaired  \\\n",
       "0   golf     150000                  0    petrol  volkswagen      NaN   \n",
       "1    NaN     125000                  5  gasoline        audi      yes   \n",
       "2  grand     125000                  8  gasoline        jeep      NaN   \n",
       "3   golf     150000                  6    petrol  volkswagen       no   \n",
       "4  fabia      90000                  7  gasoline       skoda       no   \n",
       "\n",
       "  DateCreated  NumberOfPictures  PostalCode            LastSeen  \n",
       "0  2016-03-24                 0       70435 2016-04-07 03:16:57  \n",
       "1  2016-03-24                 0       66954 2016-04-07 01:46:50  \n",
       "2  2016-03-14                 0       90480 2016-04-05 12:47:46  \n",
       "3  2016-03-17                 0       91074 2016-03-17 17:40:17  \n",
       "4  2016-03-31                 0       60437 2016-04-06 10:17:21  "
      ]
     },
     "metadata": {},
     "output_type": "display_data"
    },
    {
     "name": "stdout",
     "output_type": "stream",
     "text": [
      "<class 'pandas.core.frame.DataFrame'>\n",
      "RangeIndex: 354369 entries, 0 to 354368\n",
      "Data columns (total 16 columns):\n",
      " #   Column             Non-Null Count   Dtype         \n",
      "---  ------             --------------   -----         \n",
      " 0   DateCrawled        354369 non-null  datetime64[ns]\n",
      " 1   Price              354369 non-null  int64         \n",
      " 2   VehicleType        316879 non-null  object        \n",
      " 3   RegistrationYear   354369 non-null  int64         \n",
      " 4   Gearbox            334536 non-null  object        \n",
      " 5   Power              354369 non-null  int64         \n",
      " 6   Model              334664 non-null  object        \n",
      " 7   Kilometer          354369 non-null  int64         \n",
      " 8   RegistrationMonth  354369 non-null  int64         \n",
      " 9   FuelType           321474 non-null  object        \n",
      " 10  Brand              354369 non-null  object        \n",
      " 11  Repaired           283215 non-null  object        \n",
      " 12  DateCreated        354369 non-null  datetime64[ns]\n",
      " 13  NumberOfPictures   354369 non-null  int64         \n",
      " 14  PostalCode         354369 non-null  int64         \n",
      " 15  LastSeen           354369 non-null  datetime64[ns]\n",
      "dtypes: datetime64[ns](3), int64(7), object(6)\n",
      "memory usage: 43.3+ MB\n"
     ]
    }
   ],
   "source": [
    "display(data.head(5))\n",
    "data.info()"
   ]
  },
  {
   "cell_type": "markdown",
   "metadata": {},
   "source": [
    "- Имеем 354368 записей о продажах автомобилей. \n",
    "- В названиях столбцов присутствуют заглавные буквы, следует перевести в нижний регистр. \n",
    "- Типы данных записаны корректно. \n",
    "- В некоторых столбцах имеются пропуски. \n",
    "- Некоторые столбцы не несут никакой информации об автомобиле, следует оставить только полезные данные."
   ]
  },
  {
   "cell_type": "markdown",
   "metadata": {},
   "source": [
    "### Предобработка данных"
   ]
  },
  {
   "cell_type": "markdown",
   "metadata": {},
   "source": [
    "Переведем названия столбцов в нижний регистр"
   ]
  },
  {
   "cell_type": "code",
   "execution_count": 9,
   "metadata": {},
   "outputs": [],
   "source": [
    "data.columns = data.columns.str.lower()"
   ]
  },
  {
   "cell_type": "markdown",
   "metadata": {},
   "source": [
    "Бренд и модель имеют схожее значение, добавим столбец с полным названием модели автомобиля, а в случае если модель не указана, оставим только бренд"
   ]
  },
  {
   "cell_type": "code",
   "execution_count": 10,
   "metadata": {},
   "outputs": [
    {
     "data": {
      "text/html": [
       "<div>\n",
       "<style scoped>\n",
       "    .dataframe tbody tr th:only-of-type {\n",
       "        vertical-align: middle;\n",
       "    }\n",
       "\n",
       "    .dataframe tbody tr th {\n",
       "        vertical-align: top;\n",
       "    }\n",
       "\n",
       "    .dataframe thead th {\n",
       "        text-align: right;\n",
       "    }\n",
       "</style>\n",
       "<table border=\"1\" class=\"dataframe\">\n",
       "  <thead>\n",
       "    <tr style=\"text-align: right;\">\n",
       "      <th></th>\n",
       "      <th>datecrawled</th>\n",
       "      <th>price</th>\n",
       "      <th>vehicletype</th>\n",
       "      <th>registrationyear</th>\n",
       "      <th>gearbox</th>\n",
       "      <th>power</th>\n",
       "      <th>model</th>\n",
       "      <th>kilometer</th>\n",
       "      <th>registrationmonth</th>\n",
       "      <th>fueltype</th>\n",
       "      <th>brand</th>\n",
       "      <th>repaired</th>\n",
       "      <th>datecreated</th>\n",
       "      <th>numberofpictures</th>\n",
       "      <th>postalcode</th>\n",
       "      <th>lastseen</th>\n",
       "      <th>name</th>\n",
       "    </tr>\n",
       "  </thead>\n",
       "  <tbody>\n",
       "    <tr>\n",
       "      <th>0</th>\n",
       "      <td>2016-03-24 11:52:17</td>\n",
       "      <td>480</td>\n",
       "      <td>NaN</td>\n",
       "      <td>1993</td>\n",
       "      <td>manual</td>\n",
       "      <td>0</td>\n",
       "      <td>golf</td>\n",
       "      <td>150000</td>\n",
       "      <td>0</td>\n",
       "      <td>petrol</td>\n",
       "      <td>volkswagen</td>\n",
       "      <td>NaN</td>\n",
       "      <td>2016-03-24</td>\n",
       "      <td>0</td>\n",
       "      <td>70435</td>\n",
       "      <td>2016-04-07 03:16:57</td>\n",
       "      <td>volkswagen golf</td>\n",
       "    </tr>\n",
       "    <tr>\n",
       "      <th>1</th>\n",
       "      <td>2016-03-24 10:58:45</td>\n",
       "      <td>18300</td>\n",
       "      <td>coupe</td>\n",
       "      <td>2011</td>\n",
       "      <td>manual</td>\n",
       "      <td>190</td>\n",
       "      <td>NaN</td>\n",
       "      <td>125000</td>\n",
       "      <td>5</td>\n",
       "      <td>gasoline</td>\n",
       "      <td>audi</td>\n",
       "      <td>yes</td>\n",
       "      <td>2016-03-24</td>\n",
       "      <td>0</td>\n",
       "      <td>66954</td>\n",
       "      <td>2016-04-07 01:46:50</td>\n",
       "      <td>audi</td>\n",
       "    </tr>\n",
       "    <tr>\n",
       "      <th>2</th>\n",
       "      <td>2016-03-14 12:52:21</td>\n",
       "      <td>9800</td>\n",
       "      <td>suv</td>\n",
       "      <td>2004</td>\n",
       "      <td>auto</td>\n",
       "      <td>163</td>\n",
       "      <td>grand</td>\n",
       "      <td>125000</td>\n",
       "      <td>8</td>\n",
       "      <td>gasoline</td>\n",
       "      <td>jeep</td>\n",
       "      <td>NaN</td>\n",
       "      <td>2016-03-14</td>\n",
       "      <td>0</td>\n",
       "      <td>90480</td>\n",
       "      <td>2016-04-05 12:47:46</td>\n",
       "      <td>jeep grand</td>\n",
       "    </tr>\n",
       "  </tbody>\n",
       "</table>\n",
       "</div>"
      ],
      "text/plain": [
       "          datecrawled  price vehicletype  registrationyear gearbox  power  \\\n",
       "0 2016-03-24 11:52:17    480         NaN              1993  manual      0   \n",
       "1 2016-03-24 10:58:45  18300       coupe              2011  manual    190   \n",
       "2 2016-03-14 12:52:21   9800         suv              2004    auto    163   \n",
       "\n",
       "   model  kilometer  registrationmonth  fueltype       brand repaired  \\\n",
       "0   golf     150000                  0    petrol  volkswagen      NaN   \n",
       "1    NaN     125000                  5  gasoline        audi      yes   \n",
       "2  grand     125000                  8  gasoline        jeep      NaN   \n",
       "\n",
       "  datecreated  numberofpictures  postalcode            lastseen  \\\n",
       "0  2016-03-24                 0       70435 2016-04-07 03:16:57   \n",
       "1  2016-03-24                 0       66954 2016-04-07 01:46:50   \n",
       "2  2016-03-14                 0       90480 2016-04-05 12:47:46   \n",
       "\n",
       "              name  \n",
       "0  volkswagen golf  \n",
       "1             audi  \n",
       "2       jeep grand  "
      ]
     },
     "execution_count": 10,
     "metadata": {},
     "output_type": "execute_result"
    }
   ],
   "source": [
    "data['name'] = data['brand'] + [' '] + data['model']\n",
    "data['name'] = data['name'].fillna(data['brand'])\n",
    "data.head(3)"
   ]
  },
  {
   "cell_type": "code",
   "execution_count": 11,
   "metadata": {},
   "outputs": [
    {
     "data": {
      "text/plain": [
       "4"
      ]
     },
     "execution_count": 11,
     "metadata": {},
     "output_type": "execute_result"
    }
   ],
   "source": [
    "data.duplicated().sum()"
   ]
  },
  {
   "cell_type": "code",
   "execution_count": 12,
   "metadata": {},
   "outputs": [
    {
     "data": {
      "text/plain": [
       "0"
      ]
     },
     "execution_count": 12,
     "metadata": {},
     "output_type": "execute_result"
    }
   ],
   "source": [
    "data = data.drop_duplicates()\n",
    "data.duplicated().sum()"
   ]
  },
  {
   "cell_type": "code",
   "execution_count": 13,
   "metadata": {},
   "outputs": [
    {
     "name": "stdout",
     "output_type": "stream",
     "text": [
      "2014-03-10 00:00:00 2016-04-07 00:00:00\n"
     ]
    }
   ],
   "source": [
    "print(data['datecreated'].min(), data['datecreated'].max())"
   ]
  },
  {
   "cell_type": "markdown",
   "metadata": {},
   "source": [
    "Данные представлены за 2014-2016 годы"
   ]
  },
  {
   "cell_type": "markdown",
   "metadata": {},
   "source": [
    "Создадим списки категориальных и цифровых столбцов, оставим в датафрейме только их и целевой признак"
   ]
  },
  {
   "cell_type": "code",
   "execution_count": 14,
   "metadata": {},
   "outputs": [
    {
     "data": {
      "text/plain": [
       "Index(['vehicletype', 'gearbox', 'name', 'fueltype', 'repaired',\n",
       "       'registrationyear', 'power', 'kilometer', 'price'],\n",
       "      dtype='object')"
      ]
     },
     "execution_count": 14,
     "metadata": {},
     "output_type": "execute_result"
    }
   ],
   "source": [
    "cat_col_names = [\n",
    "    'vehicletype', 'gearbox', \n",
    "    'name', 'fueltype', 'repaired'\n",
    "]\n",
    "num_col_names = ['registrationyear', 'power', 'kilometer']\n",
    "data = data[cat_col_names + num_col_names + ['price']]\n",
    "data.columns"
   ]
  },
  {
   "cell_type": "markdown",
   "metadata": {},
   "source": [
    "Удалим явные дубликаты, сохраним количество строк полученного датафрейма для дальнейшей проверки"
   ]
  },
  {
   "cell_type": "code",
   "execution_count": 15,
   "metadata": {},
   "outputs": [],
   "source": [
    "old_shape = data.shape[0]"
   ]
  },
  {
   "cell_type": "markdown",
   "metadata": {},
   "source": [
    "Рассмотрим пропуски"
   ]
  },
  {
   "cell_type": "code",
   "execution_count": 16,
   "metadata": {},
   "outputs": [
    {
     "data": {
      "text/plain": [
       "vehicletype         37490\n",
       "gearbox             19833\n",
       "name                    0\n",
       "fueltype            32895\n",
       "repaired            71154\n",
       "registrationyear        0\n",
       "power                   0\n",
       "kilometer               0\n",
       "price                   0\n",
       "dtype: int64"
      ]
     },
     "execution_count": 16,
     "metadata": {},
     "output_type": "execute_result"
    }
   ],
   "source": [
    "data.isna().sum()"
   ]
  },
  {
   "cell_type": "markdown",
   "metadata": {},
   "source": [
    "В целевом признаке пропуски отсутствуют, в других столбцах обработаем пропуски в пайплайне при необходимости"
   ]
  },
  {
   "cell_type": "code",
   "execution_count": 17,
   "metadata": {},
   "outputs": [
    {
     "data": {
      "text/plain": [
       "vehicletype             0\n",
       "gearbox                 0\n",
       "name                    0\n",
       "fueltype                0\n",
       "repaired            71154\n",
       "registrationyear        0\n",
       "power                   0\n",
       "kilometer               0\n",
       "price                   0\n",
       "dtype: int64"
      ]
     },
     "execution_count": 17,
     "metadata": {},
     "output_type": "execute_result"
    }
   ],
   "source": [
    "col_nan = ['vehicletype', 'gearbox', 'fueltype']\n",
    "for col in col_nan:\n",
    "    values = data.groupby('name')[col].transform(lambda x: x.mode()[0])\n",
    "    data[col] = data[col].fillna(values)\n",
    "data.isna().sum()"
   ]
  },
  {
   "cell_type": "markdown",
   "metadata": {},
   "source": [
    "### Исследовательский анализ"
   ]
  },
  {
   "cell_type": "code",
   "execution_count": 18,
   "metadata": {},
   "outputs": [],
   "source": [
    "def dia_hist_box (df, col, title, xname):\n",
    "    fig, (ax_box, ax_hist) = plt.subplots(\n",
    "        2, sharex=True, gridspec_kw={\"height_ratios\": (.15, .85)}\n",
    "    )\n",
    "    sns.boxplot(x=df[col], orient=\"h\", ax=ax_box)\n",
    "    sns.histplot(data=df, x=col, ax=ax_hist)\n",
    "    ax_box.set(xlabel='')\n",
    "    ax_box.set_title(title)\n",
    "    plt.xlabel(xname)\n",
    "    plt.ylabel('Количество автомобилей')\n",
    "    plt.grid(True)"
   ]
  },
  {
   "cell_type": "code",
   "execution_count": 19,
   "metadata": {},
   "outputs": [],
   "source": [
    "def bar (df, col, name, xname, hue=None):\n",
    "    sns.countplot(x=col, data=df, hue=hue)\n",
    "    plt.title(name)\n",
    "    plt.ylabel('Количество автомобилей')\n",
    "    plt.xlabel(xname)\n",
    "    plt.xticks(rotation=45)\n",
    "    plt.grid(True)"
   ]
  },
  {
   "cell_type": "code",
   "execution_count": 20,
   "metadata": {},
   "outputs": [],
   "source": [
    "def pie (df, col):\n",
    "    plt.pie(\n",
    "        df[col].value_counts(), \n",
    "        labels=df[col].value_counts().index,     \n",
    "        autopct='%.1f',  \n",
    "        wedgeprops = { 'linewidth' : 3, 'edgecolor' : 'white' }, \n",
    "        labeldistance = 1.3\n",
    "    )\n",
    "    plt.title(col)\n",
    "    plt.legend=True"
   ]
  },
  {
   "cell_type": "markdown",
   "metadata": {},
   "source": [
    "Изучим описание числовых данных"
   ]
  },
  {
   "cell_type": "code",
   "execution_count": 21,
   "metadata": {},
   "outputs": [
    {
     "data": {
      "text/html": [
       "<div>\n",
       "<style scoped>\n",
       "    .dataframe tbody tr th:only-of-type {\n",
       "        vertical-align: middle;\n",
       "    }\n",
       "\n",
       "    .dataframe tbody tr th {\n",
       "        vertical-align: top;\n",
       "    }\n",
       "\n",
       "    .dataframe thead th {\n",
       "        text-align: right;\n",
       "    }\n",
       "</style>\n",
       "<table border=\"1\" class=\"dataframe\">\n",
       "  <thead>\n",
       "    <tr style=\"text-align: right;\">\n",
       "      <th></th>\n",
       "      <th>registrationyear</th>\n",
       "      <th>power</th>\n",
       "      <th>kilometer</th>\n",
       "      <th>price</th>\n",
       "    </tr>\n",
       "  </thead>\n",
       "  <tbody>\n",
       "    <tr>\n",
       "      <th>count</th>\n",
       "      <td>354365.000000</td>\n",
       "      <td>354365.000000</td>\n",
       "      <td>354365.000000</td>\n",
       "      <td>354365.000000</td>\n",
       "    </tr>\n",
       "    <tr>\n",
       "      <th>mean</th>\n",
       "      <td>2004.234481</td>\n",
       "      <td>110.093816</td>\n",
       "      <td>128211.363989</td>\n",
       "      <td>4416.679830</td>\n",
       "    </tr>\n",
       "    <tr>\n",
       "      <th>std</th>\n",
       "      <td>90.228466</td>\n",
       "      <td>189.851330</td>\n",
       "      <td>37905.083858</td>\n",
       "      <td>4514.176349</td>\n",
       "    </tr>\n",
       "    <tr>\n",
       "      <th>min</th>\n",
       "      <td>1000.000000</td>\n",
       "      <td>0.000000</td>\n",
       "      <td>5000.000000</td>\n",
       "      <td>0.000000</td>\n",
       "    </tr>\n",
       "    <tr>\n",
       "      <th>25%</th>\n",
       "      <td>1999.000000</td>\n",
       "      <td>69.000000</td>\n",
       "      <td>125000.000000</td>\n",
       "      <td>1050.000000</td>\n",
       "    </tr>\n",
       "    <tr>\n",
       "      <th>50%</th>\n",
       "      <td>2003.000000</td>\n",
       "      <td>105.000000</td>\n",
       "      <td>150000.000000</td>\n",
       "      <td>2700.000000</td>\n",
       "    </tr>\n",
       "    <tr>\n",
       "      <th>75%</th>\n",
       "      <td>2008.000000</td>\n",
       "      <td>143.000000</td>\n",
       "      <td>150000.000000</td>\n",
       "      <td>6400.000000</td>\n",
       "    </tr>\n",
       "    <tr>\n",
       "      <th>max</th>\n",
       "      <td>9999.000000</td>\n",
       "      <td>20000.000000</td>\n",
       "      <td>150000.000000</td>\n",
       "      <td>20000.000000</td>\n",
       "    </tr>\n",
       "  </tbody>\n",
       "</table>\n",
       "</div>"
      ],
      "text/plain": [
       "       registrationyear          power      kilometer          price\n",
       "count     354365.000000  354365.000000  354365.000000  354365.000000\n",
       "mean        2004.234481     110.093816  128211.363989    4416.679830\n",
       "std           90.228466     189.851330   37905.083858    4514.176349\n",
       "min         1000.000000       0.000000    5000.000000       0.000000\n",
       "25%         1999.000000      69.000000  125000.000000    1050.000000\n",
       "50%         2003.000000     105.000000  150000.000000    2700.000000\n",
       "75%         2008.000000     143.000000  150000.000000    6400.000000\n",
       "max         9999.000000   20000.000000  150000.000000   20000.000000"
      ]
     },
     "execution_count": 21,
     "metadata": {},
     "output_type": "execute_result"
    }
   ],
   "source": [
    "data.describe()"
   ]
  },
  {
   "cell_type": "markdown",
   "metadata": {},
   "source": [
    "- В годе регистрации присутствуют аномальные значения. Просмотрим список уникальных значений.\n",
    "- В столбце с мощностью также присутствуют аномальные значения. Ограничим максимум 350 л.с. Поскольку в этом столбце не было пропусков, скорее всего нулями обозначались те случаи, когда мощность не указана. Заменим нули на пропуски, потом заменим их медианным значением для той же модели авто. \n",
    "- В столбце с пробегом медиана равна максимуму, а значит больше половины значений равны максимальному. Рассмотрим количество уникальных значений. \n",
    "- В целевом признаке медиана значительно меньше среднего, а значит имеются выбросы в большую сторону. Нули могут присутствовать в случаях, когда автомобиль сдают в утиль, однако чтоб модель не училась их предсказывать, уберем такие строчки."
   ]
  },
  {
   "cell_type": "code",
   "execution_count": 22,
   "metadata": {},
   "outputs": [
    {
     "data": {
      "text/plain": [
       "array([1000, 1001, 1039, 1111, 1200, 1234, 1253, 1255, 1300, 1400, 1500,\n",
       "       1600, 1602, 1688, 1800, 1910, 1915, 1919, 1920, 1923, 1925, 1927,\n",
       "       1928, 1929, 1930, 1931, 1932, 1933, 1934, 1935, 1936, 1937, 1938,\n",
       "       1940, 1941, 1942, 1943, 1944, 1945, 1946, 1947, 1948, 1949, 1950,\n",
       "       1951, 1952, 1953, 1954, 1955, 1956, 1957, 1958, 1959, 1960, 1961,\n",
       "       1962, 1963, 1964, 1965, 1966, 1967, 1968, 1969, 1970, 1971, 1972,\n",
       "       1973, 1974, 1975, 1976, 1977, 1978, 1979, 1980, 1981, 1982, 1983,\n",
       "       1984, 1985, 1986, 1987, 1988, 1989, 1990, 1991, 1992, 1993, 1994,\n",
       "       1995, 1996, 1997, 1998, 1999, 2000, 2001, 2002, 2003, 2004, 2005,\n",
       "       2006, 2007, 2008, 2009, 2010, 2011, 2012, 2013, 2014, 2015, 2016,\n",
       "       2017, 2018, 2019, 2066, 2200, 2222, 2290, 2500, 2800, 2900, 3000,\n",
       "       3200, 3500, 3700, 3800, 4000, 4100, 4500, 4800, 5000, 5300, 5555,\n",
       "       5600, 5900, 5911, 6000, 6500, 7000, 7100, 7500, 7800, 8000, 8200,\n",
       "       8455, 8500, 8888, 9000, 9229, 9450, 9996, 9999], dtype=int64)"
      ]
     },
     "execution_count": 22,
     "metadata": {},
     "output_type": "execute_result"
    }
   ],
   "source": [
    "data['registrationyear'].sort_values().unique()"
   ]
  },
  {
   "cell_type": "markdown",
   "metadata": {},
   "source": [
    "Максимальное нормальное значение года должно быть 2016, уберем всё что больше. Будем рассматривать автомобили за последние 30 лет, более старые авто скорее всего являются коллекционными или музейными."
   ]
  },
  {
   "cell_type": "code",
   "execution_count": 23,
   "metadata": {},
   "outputs": [],
   "source": [
    "data = data.query('1986 <= registrationyear <= 2016')"
   ]
  },
  {
   "cell_type": "code",
   "execution_count": 24,
   "metadata": {},
   "outputs": [
    {
     "data": {
      "text/plain": [
       "150000    225362\n",
       "125000     34529\n",
       "100000     13774\n",
       "90000      10899\n",
       "80000       9436\n",
       "70000       8094\n",
       "60000       7035\n",
       "50000       5838\n",
       "5000        5199\n",
       "40000       4647\n",
       "30000       4151\n",
       "20000       3645\n",
       "10000       1022\n",
       "Name: kilometer, dtype: int64"
      ]
     },
     "execution_count": 24,
     "metadata": {},
     "output_type": "execute_result"
    }
   ],
   "source": [
    "data['kilometer'].value_counts()"
   ]
  },
  {
   "cell_type": "markdown",
   "metadata": {},
   "source": [
    "Большинство значений пробега действительно равны 150000 км. Скорее всего большее значение нельзя было указать. Кроме того, значения пробега являются дискретными, не стоит их изучать как непрерывные значения"
   ]
  },
  {
   "cell_type": "code",
   "execution_count": 25,
   "metadata": {},
   "outputs": [],
   "source": [
    "data = data.query('power <= 350')\n",
    "data.loc[data['power'] == 0, 'power'] = np.nan"
   ]
  },
  {
   "cell_type": "code",
   "execution_count": 26,
   "metadata": {},
   "outputs": [],
   "source": [
    "values = data.groupby('name')['power'].transform('median')\n",
    "data['power'] = data['power'].fillna(values)"
   ]
  },
  {
   "cell_type": "code",
   "execution_count": 27,
   "metadata": {},
   "outputs": [],
   "source": [
    "data = data.query('0 < price')"
   ]
  },
  {
   "cell_type": "code",
   "execution_count": 28,
   "metadata": {},
   "outputs": [
    {
     "data": {
      "image/png": "[encoded data removed]",
      "text/plain": [
       "<Figure size 1200x500 with 1 Axes>"
      ]
     },
     "metadata": {},
     "output_type": "display_data"
    }
   ],
   "source": [
    "plt.figure(figsize=(12, 5))\n",
    "bar(data, 'registrationyear', 'Распределение по годам', 'Год')"
   ]
  },
  {
   "cell_type": "markdown",
   "metadata": {},
   "source": [
    "Год регистрации распределен близко к нормальному, но с большим количеством новых автомобилей, которым менее года."
   ]
  },
  {
   "cell_type": "code",
   "execution_count": 29,
   "metadata": {},
   "outputs": [
    {
     "data": {
      "image/png": "[encoded data removed]",
      "text/plain": [
       "<Figure size 600x300 with 1 Axes>"
      ]
     },
     "metadata": {},
     "output_type": "display_data"
    }
   ],
   "source": [
    "plt.figure(figsize=(6, 3))\n",
    "bar(data, 'kilometer', 'Пробег', 'км')"
   ]
  },
  {
   "cell_type": "markdown",
   "metadata": {},
   "source": [
    "Как было видно из описания, почти все автомобили, для которых указан пробег, имеют его значение более 150000 км"
   ]
  },
  {
   "cell_type": "code",
   "execution_count": 30,
   "metadata": {},
   "outputs": [
    {
     "data": {
      "image/png": "[encoded data removed]",
      "text/plain": [
       "<Figure size 640x480 with 2 Axes>"
      ]
     },
     "metadata": {},
     "output_type": "display_data"
    },
    {
     "data": {
      "image/png": "[encoded data removed]",
      "text/plain": [
       "<Figure size 640x480 with 2 Axes>"
      ]
     },
     "metadata": {},
     "output_type": "display_data"
    }
   ],
   "source": [
    "dia_hist_box(data, 'power', 'Мощность', 'л.с.')\n",
    "dia_hist_box(data, 'price', 'Цена', 'Евро')"
   ]
  },
  {
   "cell_type": "markdown",
   "metadata": {},
   "source": [
    "У мощности и целевого признака имеются выбросы в большую сторону. По возможности стоит использовать робастные инструменты"
   ]
  },
  {
   "cell_type": "code",
   "execution_count": 31,
   "metadata": {},
   "outputs": [
    {
     "data": {
      "image/png": "[encoded data removed]",
      "text/plain": [
       "<Figure size 1300x1200 with 4 Axes>"
      ]
     },
     "metadata": {},
     "output_type": "display_data"
    }
   ],
   "source": [
    "col = ['vehicletype', 'gearbox', 'fueltype', 'repaired']\n",
    "plt.figure(figsize=(13, 12))\n",
    "for i in range(0, len(col)):\n",
    "           plt.subplot(2, 2, (i+1))\n",
    "           pie(data, col[i])               \n",
    "plt.legend=True\n",
    "plt.show()   "
   ]
  },
  {
   "cell_type": "code",
   "execution_count": 32,
   "metadata": {},
   "outputs": [
    {
     "data": {
      "text/plain": [
       "array(['petrol', 'gasoline', 'lpg', 'other', 'hybrid', 'cng', 'electric'],\n",
       "      dtype=object)"
      ]
     },
     "execution_count": 32,
     "metadata": {},
     "output_type": "execute_result"
    }
   ],
   "source": [
    "data['fueltype'].unique()"
   ]
  },
  {
   "cell_type": "code",
   "execution_count": 33,
   "metadata": {},
   "outputs": [
    {
     "data": {
      "text/plain": [
       "334"
      ]
     },
     "execution_count": 33,
     "metadata": {},
     "output_type": "execute_result"
    }
   ],
   "source": [
    "len(data['name'].unique())"
   ]
  },
  {
   "cell_type": "markdown",
   "metadata": {},
   "source": [
    "Признаки ремонта и типа коробки передач являются бинарными, с дисбалансом. Среди указаных типов топлива преобладают два, остальные составляют всего 2%. Среди указанных типов кузова 8 несбалансированных категорий. \n",
    "\n",
    "В признаке с моделью автомобиля 334 небольшие категории, стоит это учесть при кодировании признаков"
   ]
  },
  {
   "cell_type": "code",
   "execution_count": 34,
   "metadata": {},
   "outputs": [
    {
     "name": "stdout",
     "output_type": "stream",
     "text": [
      "0.9117378973657105\n"
     ]
    }
   ],
   "source": [
    "print(data.shape[0] / old_shape)"
   ]
  },
  {
   "cell_type": "markdown",
   "metadata": {},
   "source": [
    "В результате предобработки было удалено примерно 9% аномальных и некорректных данных. В некоторых признаках имеются выбросы и дисбаланс классов. Один категориальный признак имеет большое число уникальных категорий"
   ]
  },
  {
   "cell_type": "markdown",
   "metadata": {},
   "source": [
    "### Корреляционный анализ"
   ]
  },
  {
   "cell_type": "code",
   "execution_count": 35,
   "metadata": {},
   "outputs": [
    {
     "data": {
      "image/png": "[encoded data removed]",
      "text/plain": [
       "<Figure size 1000x800 with 2 Axes>"
      ]
     },
     "metadata": {},
     "output_type": "display_data"
    }
   ],
   "source": [
    "corr_matrix = data.phik_matrix(\n",
    "    interval_cols=['price', 'power'] \n",
    ")\n",
    "plt.figure(figsize=(10, 8))\n",
    "sns.heatmap(corr_matrix, annot=True, cmap='coolwarm')\n",
    "plt.title('Phik Correlation Matrix')\n",
    "plt.show()"
   ]
  },
  {
   "cell_type": "markdown",
   "metadata": {},
   "source": [
    "Марка автомобиля имеет высокую корреляцию с типом кузова и мощностью. Цена коррелирует с остальными признаками средне или слабо"
   ]
  },
  {
   "cell_type": "markdown",
   "metadata": {},
   "source": [
    "## Обучение моделей"
   ]
  },
  {
   "cell_type": "markdown",
   "metadata": {},
   "source": [
    "Рассмотрим количество уникальных категорий в категориальных признаках"
   ]
  },
  {
   "cell_type": "code",
   "execution_count": 36,
   "metadata": {},
   "outputs": [
    {
     "data": {
      "text/plain": [
       "vehicletype      8\n",
       "gearbox          2\n",
       "name           334\n",
       "fueltype         7\n",
       "repaired         2\n",
       "dtype: int64"
      ]
     },
     "execution_count": 36,
     "metadata": {},
     "output_type": "execute_result"
    }
   ],
   "source": [
    "n_unique_categories  = data[cat_col_names].nunique()\n",
    "n_unique_categories "
   ]
  },
  {
   "cell_type": "markdown",
   "metadata": {},
   "source": [
    "В названии марки автомобиля очень много уникальных категорий, что в сочетании с OneHotEncoder может негативно сказаться как на времени работы моделей, так и на результате из-за переобучения. Разделим признаки по количеству уникальных категорий равному 20 и попробуем разные варианты кодирования при подборе моделей."
   ]
  },
  {
   "cell_type": "code",
   "execution_count": 37,
   "metadata": {},
   "outputs": [
    {
     "name": "stdout",
     "output_type": "stream",
     "text": [
      "['vehicletype', 'gearbox', 'fueltype', 'repaired']\n"
     ]
    },
    {
     "data": {
      "text/plain": [
       "['name']"
      ]
     },
     "execution_count": 37,
     "metadata": {},
     "output_type": "execute_result"
    }
   ],
   "source": [
    "ohe_col_names = n_unique_categories[n_unique_categories <=20 ].index.tolist()\n",
    "targ_col_names = n_unique_categories[n_unique_categories > 20].index.tolist()\n",
    "print(ohe_col_names)\n",
    "targ_col_names"
   ]
  },
  {
   "cell_type": "markdown",
   "metadata": {},
   "source": [
    "Изменим тип данных категориальных признаков для использования в модели LightGBM"
   ]
  },
  {
   "cell_type": "code",
   "execution_count": 38,
   "metadata": {},
   "outputs": [
    {
     "data": {
      "text/plain": [
       "vehicletype         category\n",
       "gearbox             category\n",
       "name                category\n",
       "fueltype            category\n",
       "repaired            category\n",
       "registrationyear       int64\n",
       "power                float64\n",
       "kilometer              int64\n",
       "price                  int64\n",
       "dtype: object"
      ]
     },
     "execution_count": 38,
     "metadata": {},
     "output_type": "execute_result"
    }
   ],
   "source": [
    "for c in cat_col_names:\n",
    "    data[c] = data[c].astype('category')\n",
    "data.dtypes"
   ]
  },
  {
   "cell_type": "markdown",
   "metadata": {},
   "source": [
    "Разделим датасет на обучающую и тестовую выборки"
   ]
  },
  {
   "cell_type": "code",
   "execution_count": 39,
   "metadata": {},
   "outputs": [
    {
     "data": {
      "text/plain": [
       "(242316, 8)"
      ]
     },
     "metadata": {},
     "output_type": "display_data"
    },
    {
     "data": {
      "text/plain": [
       "(80772, 8)"
      ]
     },
     "metadata": {},
     "output_type": "display_data"
    },
    {
     "data": {
      "text/plain": [
       "(242316,)"
      ]
     },
     "metadata": {},
     "output_type": "display_data"
    },
    {
     "data": {
      "text/plain": [
       "(80772,)"
      ]
     },
     "metadata": {},
     "output_type": "display_data"
    }
   ],
   "source": [
    "X = data[num_col_names + cat_col_names]\n",
    "y = data['price']\n",
    "X_train, X_test, y_train, y_test = train_test_split(\n",
    "    X, y, test_size=0.25, random_state=RANDOM_STATE\n",
    ")\n",
    "display(X_train.shape, X_test.shape, y_train.shape, y_test.shape)"
   ]
  },
  {
   "cell_type": "markdown",
   "metadata": {},
   "source": [
    "Создадим пайплайн:\n",
    "- Пропуски в числовых признаках заменим медианой, а в категориальных - заглушкой.\n",
    "- Для категориальных признаков будем использовать OHE и TargetEncoder.\n",
    "- Создадим три разных трансформера для различной обработки категориальных признаков: только OHE, только TargetEncoder, комбинация двух энкодеров"
   ]
  },
  {
   "cell_type": "code",
   "execution_count": 40,
   "metadata": {},
   "outputs": [
    {
     "data": {
      "text/html": [
       "<style>#sk-container-id-1 {\n",
       "  /* Definition of color scheme common for light and dark mode */\n",
       "  --sklearn-color-text: #000;\n",
       "  --sklearn-color-text-muted: #666;\n",
       "  --sklearn-color-line: gray;\n",
       "  /* Definition of color scheme for unfitted estimators */\n",
       "  --sklearn-color-unfitted-level-0: #fff5e6;\n",
       "  --sklearn-color-unfitted-level-1: #f6e4d2;\n",
       "  --sklearn-color-unfitted-level-2: #ffe0b3;\n",
       "  --sklearn-color-unfitted-level-3: chocolate;\n",
       "  /* Definition of color scheme for fitted estimators */\n",
       "  --sklearn-color-fitted-level-0: #f0f8ff;\n",
       "  --sklearn-color-fitted-level-1: #d4ebff;\n",
       "  --sklearn-color-fitted-level-2: #b3dbfd;\n",
       "  --sklearn-color-fitted-level-3: cornflowerblue;\n",
       "\n",
       "  /* Specific color for light theme */\n",
       "  --sklearn-color-text-on-default-background: var(--sg-text-color, var(--theme-code-foreground, var(--jp-content-font-color1, black)));\n",
       "  --sklearn-color-background: var(--sg-background-color, var(--theme-background, var(--jp-layout-color0, white)));\n",
       "  --sklearn-color-border-box: var(--sg-text-color, var(--theme-code-foreground, var(--jp-content-font-color1, black)));\n",
       "  --sklearn-color-icon: #696969;\n",
       "\n",
       "  @media (prefers-color-scheme: dark) {\n",
       "    /* Redefinition of color scheme for dark theme */\n",
       "    --sklearn-color-text-on-default-background: var(--sg-text-color, var(--theme-code-foreground, var(--jp-content-font-color1, white)));\n",
       "    --sklearn-color-background: var(--sg-background-color, var(--theme-background, var(--jp-layout-color0, #111)));\n",
       "    --sklearn-color-border-box: var(--sg-text-color, var(--theme-code-foreground, var(--jp-content-font-color1, white)));\n",
       "    --sklearn-color-icon: #878787;\n",
       "  }\n",
       "}\n",
       "\n",
       "#sk-container-id-1 {\n",
       "  color: var(--sklearn-color-text);\n",
       "}\n",
       "\n",
       "#sk-container-id-1 pre {\n",
       "  padding: 0;\n",
       "}\n",
       "\n",
       "#sk-container-id-1 input.sk-hidden--visually {\n",
       "  border: 0;\n",
       "  clip: rect(1px 1px 1px 1px);\n",
       "  clip: rect(1px, 1px, 1px, 1px);\n",
       "  height: 1px;\n",
       "  margin: -1px;\n",
       "  overflow: hidden;\n",
       "  padding: 0;\n",
       "  position: absolute;\n",
       "  width: 1px;\n",
       "}\n",
       "\n",
       "#sk-container-id-1 div.sk-dashed-wrapped {\n",
       "  border: 1px dashed var(--sklearn-color-line);\n",
       "  margin: 0 0.4em 0.5em 0.4em;\n",
       "  box-sizing: border-box;\n",
       "  padding-bottom: 0.4em;\n",
       "  background-color: var(--sklearn-color-background);\n",
       "}\n",
       "\n",
       "#sk-container-id-1 div.sk-container {\n",
       "  /* jupyter's `normalize.less` sets `[hidden] { display: none; }`\n",
       "     but bootstrap.min.css set `[hidden] { display: none !important; }`\n",
       "     so we also need the `!important` here to be able to override the\n",
       "     default hidden behavior on the sphinx rendered scikit-learn.org.\n",
       "     See: https://github.com/scikit-learn/scikit-learn/issues/21755 */\n",
       "  display: inline-block !important;\n",
       "  position: relative;\n",
       "}\n",
       "\n",
       "#sk-container-id-1 div.sk-text-repr-fallback {\n",
       "  display: none;\n",
       "}\n",
       "\n",
       "div.sk-parallel-item,\n",
       "div.sk-serial,\n",
       "div.sk-item {\n",
       "  /* draw centered vertical line to link estimators */\n",
       "  background-image: linear-gradient(var(--sklearn-color-text-on-default-background), var(--sklearn-color-text-on-default-background));\n",
       "  background-size: 2px 100%;\n",
       "  background-repeat: no-repeat;\n",
       "  background-position: center center;\n",
       "}\n",
       "\n",
       "/* Parallel-specific style estimator block */\n",
       "\n",
       "#sk-container-id-1 div.sk-parallel-item::after {\n",
       "  content: \"\";\n",
       "  width: 100%;\n",
       "  border-bottom: 2px solid var(--sklearn-color-text-on-default-background);\n",
       "  flex-grow: 1;\n",
       "}\n",
       "\n",
       "#sk-container-id-1 div.sk-parallel {\n",
       "  display: flex;\n",
       "  align-items: stretch;\n",
       "  justify-content: center;\n",
       "  background-color: var(--sklearn-color-background);\n",
       "  position: relative;\n",
       "}\n",
       "\n",
       "#sk-container-id-1 div.sk-parallel-item {\n",
       "  display: flex;\n",
       "  flex-direction: column;\n",
       "}\n",
       "\n",
       "#sk-container-id-1 div.sk-parallel-item:first-child::after {\n",
       "  align-self: flex-end;\n",
       "  width: 50%;\n",
       "}\n",
       "\n",
       "#sk-container-id-1 div.sk-parallel-item:last-child::after {\n",
       "  align-self: flex-start;\n",
       "  width: 50%;\n",
       "}\n",
       "\n",
       "#sk-container-id-1 div.sk-parallel-item:only-child::after {\n",
       "  width: 0;\n",
       "}\n",
       "\n",
       "/* Serial-specific style estimator block */\n",
       "\n",
       "#sk-container-id-1 div.sk-serial {\n",
       "  display: flex;\n",
       "  flex-direction: column;\n",
       "  align-items: center;\n",
       "  background-color: var(--sklearn-color-background);\n",
       "  padding-right: 1em;\n",
       "  padding-left: 1em;\n",
       "}\n",
       "\n",
       "\n",
       "/* Toggleable style: style used for estimator/Pipeline/ColumnTransformer box that is\n",
       "clickable and can be expanded/collapsed.\n",
       "- Pipeline and ColumnTransformer use this feature and define the default style\n",
       "- Estimators will overwrite some part of the style using the `sk-estimator` class\n",
       "*/\n",
       "\n",
       "/* Pipeline and ColumnTransformer style (default) */\n",
       "\n",
       "#sk-container-id-1 div.sk-toggleable {\n",
       "  /* Default theme specific background. It is overwritten whether we have a\n",
       "  specific estimator or a Pipeline/ColumnTransformer */\n",
       "  background-color: var(--sklearn-color-background);\n",
       "}\n",
       "\n",
       "/* Toggleable label */\n",
       "#sk-container-id-1 label.sk-toggleable__label {\n",
       "  cursor: pointer;\n",
       "  display: flex;\n",
       "  width: 100%;\n",
       "  margin-bottom: 0;\n",
       "  padding: 0.5em;\n",
       "  box-sizing: border-box;\n",
       "  text-align: center;\n",
       "  align-items: start;\n",
       "  justify-content: space-between;\n",
       "  gap: 0.5em;\n",
       "}\n",
       "\n",
       "#sk-container-id-1 label.sk-toggleable__label .caption {\n",
       "  font-size: 0.6rem;\n",
       "  font-weight: lighter;\n",
       "  color: var(--sklearn-color-text-muted);\n",
       "}\n",
       "\n",
       "#sk-container-id-1 label.sk-toggleable__label-arrow:before {\n",
       "  /* Arrow on the left of the label */\n",
       "  content: \"▸\";\n",
       "  float: left;\n",
       "  margin-right: 0.25em;\n",
       "  color: var(--sklearn-color-icon);\n",
       "}\n",
       "\n",
       "#sk-container-id-1 label.sk-toggleable__label-arrow:hover:before {\n",
       "  color: var(--sklearn-color-text);\n",
       "}\n",
       "\n",
       "/* Toggleable content - dropdown */\n",
       "\n",
       "#sk-container-id-1 div.sk-toggleable__content {\n",
       "  max-height: 0;\n",
       "  max-width: 0;\n",
       "  overflow: hidden;\n",
       "  text-align: left;\n",
       "  /* unfitted */\n",
       "  background-color: var(--sklearn-color-unfitted-level-0);\n",
       "}\n",
       "\n",
       "#sk-container-id-1 div.sk-toggleable__content.fitted {\n",
       "  /* fitted */\n",
       "  background-color: var(--sklearn-color-fitted-level-0);\n",
       "}\n",
       "\n",
       "#sk-container-id-1 div.sk-toggleable__content pre {\n",
       "  margin: 0.2em;\n",
       "  border-radius: 0.25em;\n",
       "  color: var(--sklearn-color-text);\n",
       "  /* unfitted */\n",
       "  background-color: var(--sklearn-color-unfitted-level-0);\n",
       "}\n",
       "\n",
       "#sk-container-id-1 div.sk-toggleable__content.fitted pre {\n",
       "  /* unfitted */\n",
       "  background-color: var(--sklearn-color-fitted-level-0);\n",
       "}\n",
       "\n",
       "#sk-container-id-1 input.sk-toggleable__control:checked~div.sk-toggleable__content {\n",
       "  /* Expand drop-down */\n",
       "  max-height: 200px;\n",
       "  max-width: 100%;\n",
       "  overflow: auto;\n",
       "}\n",
       "\n",
       "#sk-container-id-1 input.sk-toggleable__control:checked~label.sk-toggleable__label-arrow:before {\n",
       "  content: \"▾\";\n",
       "}\n",
       "\n",
       "/* Pipeline/ColumnTransformer-specific style */\n",
       "\n",
       "#sk-container-id-1 div.sk-label input.sk-toggleable__control:checked~label.sk-toggleable__label {\n",
       "  color: var(--sklearn-color-text);\n",
       "  background-color: var(--sklearn-color-unfitted-level-2);\n",
       "}\n",
       "\n",
       "#sk-container-id-1 div.sk-label.fitted input.sk-toggleable__control:checked~label.sk-toggleable__label {\n",
       "  background-color: var(--sklearn-color-fitted-level-2);\n",
       "}\n",
       "\n",
       "/* Estimator-specific style */\n",
       "\n",
       "/* Colorize estimator box */\n",
       "#sk-container-id-1 div.sk-estimator input.sk-toggleable__control:checked~label.sk-toggleable__label {\n",
       "  /* unfitted */\n",
       "  background-color: var(--sklearn-color-unfitted-level-2);\n",
       "}\n",
       "\n",
       "#sk-container-id-1 div.sk-estimator.fitted input.sk-toggleable__control:checked~label.sk-toggleable__label {\n",
       "  /* fitted */\n",
       "  background-color: var(--sklearn-color-fitted-level-2);\n",
       "}\n",
       "\n",
       "#sk-container-id-1 div.sk-label label.sk-toggleable__label,\n",
       "#sk-container-id-1 div.sk-label label {\n",
       "  /* The background is the default theme color */\n",
       "  color: var(--sklearn-color-text-on-default-background);\n",
       "}\n",
       "\n",
       "/* On hover, darken the color of the background */\n",
       "#sk-container-id-1 div.sk-label:hover label.sk-toggleable__label {\n",
       "  color: var(--sklearn-color-text);\n",
       "  background-color: var(--sklearn-color-unfitted-level-2);\n",
       "}\n",
       "\n",
       "/* Label box, darken color on hover, fitted */\n",
       "#sk-container-id-1 div.sk-label.fitted:hover label.sk-toggleable__label.fitted {\n",
       "  color: var(--sklearn-color-text);\n",
       "  background-color: var(--sklearn-color-fitted-level-2);\n",
       "}\n",
       "\n",
       "/* Estimator label */\n",
       "\n",
       "#sk-container-id-1 div.sk-label label {\n",
       "  font-family: monospace;\n",
       "  font-weight: bold;\n",
       "  display: inline-block;\n",
       "  line-height: 1.2em;\n",
       "}\n",
       "\n",
       "#sk-container-id-1 div.sk-label-container {\n",
       "  text-align: center;\n",
       "}\n",
       "\n",
       "/* Estimator-specific */\n",
       "#sk-container-id-1 div.sk-estimator {\n",
       "  font-family: monospace;\n",
       "  border: 1px dotted var(--sklearn-color-border-box);\n",
       "  border-radius: 0.25em;\n",
       "  box-sizing: border-box;\n",
       "  margin-bottom: 0.5em;\n",
       "  /* unfitted */\n",
       "  background-color: var(--sklearn-color-unfitted-level-0);\n",
       "}\n",
       "\n",
       "#sk-container-id-1 div.sk-estimator.fitted {\n",
       "  /* fitted */\n",
       "  background-color: var(--sklearn-color-fitted-level-0);\n",
       "}\n",
       "\n",
       "/* on hover */\n",
       "#sk-container-id-1 div.sk-estimator:hover {\n",
       "  /* unfitted */\n",
       "  background-color: var(--sklearn-color-unfitted-level-2);\n",
       "}\n",
       "\n",
       "#sk-container-id-1 div.sk-estimator.fitted:hover {\n",
       "  /* fitted */\n",
       "  background-color: var(--sklearn-color-fitted-level-2);\n",
       "}\n",
       "\n",
       "/* Specification for estimator info (e.g. \"i\" and \"?\") */\n",
       "\n",
       "/* Common style for \"i\" and \"?\" */\n",
       "\n",
       ".sk-estimator-doc-link,\n",
       "a:link.sk-estimator-doc-link,\n",
       "a:visited.sk-estimator-doc-link {\n",
       "  float: right;\n",
       "  font-size: smaller;\n",
       "  line-height: 1em;\n",
       "  font-family: monospace;\n",
       "  background-color: var(--sklearn-color-background);\n",
       "  border-radius: 1em;\n",
       "  height: 1em;\n",
       "  width: 1em;\n",
       "  text-decoration: none !important;\n",
       "  margin-left: 0.5em;\n",
       "  text-align: center;\n",
       "  /* unfitted */\n",
       "  border: var(--sklearn-color-unfitted-level-1) 1pt solid;\n",
       "  color: var(--sklearn-color-unfitted-level-1);\n",
       "}\n",
       "\n",
       ".sk-estimator-doc-link.fitted,\n",
       "a:link.sk-estimator-doc-link.fitted,\n",
       "a:visited.sk-estimator-doc-link.fitted {\n",
       "  /* fitted */\n",
       "  border: var(--sklearn-color-fitted-level-1) 1pt solid;\n",
       "  color: var(--sklearn-color-fitted-level-1);\n",
       "}\n",
       "\n",
       "/* On hover */\n",
       "div.sk-estimator:hover .sk-estimator-doc-link:hover,\n",
       ".sk-estimator-doc-link:hover,\n",
       "div.sk-label-container:hover .sk-estimator-doc-link:hover,\n",
       ".sk-estimator-doc-link:hover {\n",
       "  /* unfitted */\n",
       "  background-color: var(--sklearn-color-unfitted-level-3);\n",
       "  color: var(--sklearn-color-background);\n",
       "  text-decoration: none;\n",
       "}\n",
       "\n",
       "div.sk-estimator.fitted:hover .sk-estimator-doc-link.fitted:hover,\n",
       ".sk-estimator-doc-link.fitted:hover,\n",
       "div.sk-label-container:hover .sk-estimator-doc-link.fitted:hover,\n",
       ".sk-estimator-doc-link.fitted:hover {\n",
       "  /* fitted */\n",
       "  background-color: var(--sklearn-color-fitted-level-3);\n",
       "  color: var(--sklearn-color-background);\n",
       "  text-decoration: none;\n",
       "}\n",
       "\n",
       "/* Span, style for the box shown on hovering the info icon */\n",
       ".sk-estimator-doc-link span {\n",
       "  display: none;\n",
       "  z-index: 9999;\n",
       "  position: relative;\n",
       "  font-weight: normal;\n",
       "  right: .2ex;\n",
       "  padding: .5ex;\n",
       "  margin: .5ex;\n",
       "  width: min-content;\n",
       "  min-width: 20ex;\n",
       "  max-width: 50ex;\n",
       "  color: var(--sklearn-color-text);\n",
       "  box-shadow: 2pt 2pt 4pt #999;\n",
       "  /* unfitted */\n",
       "  background: var(--sklearn-color-unfitted-level-0);\n",
       "  border: .5pt solid var(--sklearn-color-unfitted-level-3);\n",
       "}\n",
       "\n",
       ".sk-estimator-doc-link.fitted span {\n",
       "  /* fitted */\n",
       "  background: var(--sklearn-color-fitted-level-0);\n",
       "  border: var(--sklearn-color-fitted-level-3);\n",
       "}\n",
       "\n",
       ".sk-estimator-doc-link:hover span {\n",
       "  display: block;\n",
       "}\n",
       "\n",
       "/* \"?\"-specific style due to the `<a>` HTML tag */\n",
       "\n",
       "#sk-container-id-1 a.estimator_doc_link {\n",
       "  float: right;\n",
       "  font-size: 1rem;\n",
       "  line-height: 1em;\n",
       "  font-family: monospace;\n",
       "  background-color: var(--sklearn-color-background);\n",
       "  border-radius: 1rem;\n",
       "  height: 1rem;\n",
       "  width: 1rem;\n",
       "  text-decoration: none;\n",
       "  /* unfitted */\n",
       "  color: var(--sklearn-color-unfitted-level-1);\n",
       "  border: var(--sklearn-color-unfitted-level-1) 1pt solid;\n",
       "}\n",
       "\n",
       "#sk-container-id-1 a.estimator_doc_link.fitted {\n",
       "  /* fitted */\n",
       "  border: var(--sklearn-color-fitted-level-1) 1pt solid;\n",
       "  color: var(--sklearn-color-fitted-level-1);\n",
       "}\n",
       "\n",
       "/* On hover */\n",
       "#sk-container-id-1 a.estimator_doc_link:hover {\n",
       "  /* unfitted */\n",
       "  background-color: var(--sklearn-color-unfitted-level-3);\n",
       "  color: var(--sklearn-color-background);\n",
       "  text-decoration: none;\n",
       "}\n",
       "\n",
       "#sk-container-id-1 a.estimator_doc_link.fitted:hover {\n",
       "  /* fitted */\n",
       "  background-color: var(--sklearn-color-fitted-level-3);\n",
       "}\n",
       "</style><div id=\"sk-container-id-1\" class=\"sk-top-container\"><div class=\"sk-text-repr-fallback\"><pre>ColumnTransformer(n_jobs=-1, remainder=&#x27;passthrough&#x27;,\n",
       "                  transformers=[(&#x27;num_pipeline&#x27;,\n",
       "                                 Pipeline(steps=[(&#x27;impute&#x27;,\n",
       "                                                  SimpleImputer(strategy=&#x27;median&#x27;)),\n",
       "                                                 (&#x27;scale&#x27;, StandardScaler())]),\n",
       "                                 [&#x27;registrationyear&#x27;, &#x27;power&#x27;, &#x27;kilometer&#x27;]),\n",
       "                                (&#x27;ohe_pipeline&#x27;,\n",
       "                                 Pipeline(steps=[(&#x27;impute&#x27;,\n",
       "                                                  SimpleImputer(fill_value=&#x27;unknown&#x27;,\n",
       "                                                                strategy=&#x27;constant&#x27;)),\n",
       "                                                 (&#x27;one-hot&#x27;,\n",
       "                                                  OneHotEncoder(drop=&#x27;first&#x27;,\n",
       "                                                                handle_unknown=&#x27;ignore&#x27;,\n",
       "                                                                sparse_output=False))]),\n",
       "                                 [&#x27;vehicletype&#x27;, &#x27;gearbox&#x27;, &#x27;fueltype&#x27;,\n",
       "                                  &#x27;repaired&#x27;]),\n",
       "                                (&#x27;targ_pipeline&#x27;,\n",
       "                                 Pipeline(steps=[(&#x27;TargetEncoder&#x27;,\n",
       "                                                  TargetEncoder(target_type=&#x27;continuous&#x27;))]),\n",
       "                                 [&#x27;name&#x27;])])</pre><b>In a Jupyter environment, please rerun this cell to show the HTML representation or trust the notebook. <br />On GitHub, the HTML representation is unable to render, please try loading this page with nbviewer.org.</b></div><div class=\"sk-container\" hidden><div class=\"sk-item sk-dashed-wrapped\"><div class=\"sk-label-container\"><div class=\"sk-label  sk-toggleable\"><input class=\"sk-toggleable__control sk-hidden--visually\" id=\"sk-estimator-id-1\" type=\"checkbox\" ><label for=\"sk-estimator-id-1\" class=\"sk-toggleable__label  sk-toggleable__label-arrow\"><div><div>ColumnTransformer</div></div><div><a class=\"sk-estimator-doc-link \" rel=\"noreferrer\" target=\"_blank\" href=\"https://scikit-learn.org/1.6/modules/generated/sklearn.compose.ColumnTransformer.html\">?<span>Documentation for ColumnTransformer</span></a><span class=\"sk-estimator-doc-link \">i<span>Not fitted</span></span></div></label><div class=\"sk-toggleable__content \"><pre>ColumnTransformer(n_jobs=-1, remainder=&#x27;passthrough&#x27;,\n",
       "                  transformers=[(&#x27;num_pipeline&#x27;,\n",
       "                                 Pipeline(steps=[(&#x27;impute&#x27;,\n",
       "                                                  SimpleImputer(strategy=&#x27;median&#x27;)),\n",
       "                                                 (&#x27;scale&#x27;, StandardScaler())]),\n",
       "                                 [&#x27;registrationyear&#x27;, &#x27;power&#x27;, &#x27;kilometer&#x27;]),\n",
       "                                (&#x27;ohe_pipeline&#x27;,\n",
       "                                 Pipeline(steps=[(&#x27;impute&#x27;,\n",
       "                                                  SimpleImputer(fill_value=&#x27;unknown&#x27;,\n",
       "                                                                strategy=&#x27;constant&#x27;)),\n",
       "                                                 (&#x27;one-hot&#x27;,\n",
       "                                                  OneHotEncoder(drop=&#x27;first&#x27;,\n",
       "                                                                handle_unknown=&#x27;ignore&#x27;,\n",
       "                                                                sparse_output=False))]),\n",
       "                                 [&#x27;vehicletype&#x27;, &#x27;gearbox&#x27;, &#x27;fueltype&#x27;,\n",
       "                                  &#x27;repaired&#x27;]),\n",
       "                                (&#x27;targ_pipeline&#x27;,\n",
       "                                 Pipeline(steps=[(&#x27;TargetEncoder&#x27;,\n",
       "                                                  TargetEncoder(target_type=&#x27;continuous&#x27;))]),\n",
       "                                 [&#x27;name&#x27;])])</pre></div> </div></div><div class=\"sk-parallel\"><div class=\"sk-parallel-item\"><div class=\"sk-item\"><div class=\"sk-label-container\"><div class=\"sk-label  sk-toggleable\"><input class=\"sk-toggleable__control sk-hidden--visually\" id=\"sk-estimator-id-2\" type=\"checkbox\" ><label for=\"sk-estimator-id-2\" class=\"sk-toggleable__label  sk-toggleable__label-arrow\"><div><div>num_pipeline</div></div></label><div class=\"sk-toggleable__content \"><pre>[&#x27;registrationyear&#x27;, &#x27;power&#x27;, &#x27;kilometer&#x27;]</pre></div> </div></div><div class=\"sk-serial\"><div class=\"sk-item\"><div class=\"sk-serial\"><div class=\"sk-item\"><div class=\"sk-estimator  sk-toggleable\"><input class=\"sk-toggleable__control sk-hidden--visually\" id=\"sk-estimator-id-3\" type=\"checkbox\" ><label for=\"sk-estimator-id-3\" class=\"sk-toggleable__label  sk-toggleable__label-arrow\"><div><div>SimpleImputer</div></div><div><a class=\"sk-estimator-doc-link \" rel=\"noreferrer\" target=\"_blank\" href=\"https://scikit-learn.org/1.6/modules/generated/sklearn.impute.SimpleImputer.html\">?<span>Documentation for SimpleImputer</span></a></div></label><div class=\"sk-toggleable__content \"><pre>SimpleImputer(strategy=&#x27;median&#x27;)</pre></div> </div></div><div class=\"sk-item\"><div class=\"sk-estimator  sk-toggleable\"><input class=\"sk-toggleable__control sk-hidden--visually\" id=\"sk-estimator-id-4\" type=\"checkbox\" ><label for=\"sk-estimator-id-4\" class=\"sk-toggleable__label  sk-toggleable__label-arrow\"><div><div>StandardScaler</div></div><div><a class=\"sk-estimator-doc-link \" rel=\"noreferrer\" target=\"_blank\" href=\"https://scikit-learn.org/1.6/modules/generated/sklearn.preprocessing.StandardScaler.html\">?<span>Documentation for StandardScaler</span></a></div></label><div class=\"sk-toggleable__content \"><pre>StandardScaler()</pre></div> </div></div></div></div></div></div></div><div class=\"sk-parallel-item\"><div class=\"sk-item\"><div class=\"sk-label-container\"><div class=\"sk-label  sk-toggleable\"><input class=\"sk-toggleable__control sk-hidden--visually\" id=\"sk-estimator-id-5\" type=\"checkbox\" ><label for=\"sk-estimator-id-5\" class=\"sk-toggleable__label  sk-toggleable__label-arrow\"><div><div>ohe_pipeline</div></div></label><div class=\"sk-toggleable__content \"><pre>[&#x27;vehicletype&#x27;, &#x27;gearbox&#x27;, &#x27;fueltype&#x27;, &#x27;repaired&#x27;]</pre></div> </div></div><div class=\"sk-serial\"><div class=\"sk-item\"><div class=\"sk-serial\"><div class=\"sk-item\"><div class=\"sk-estimator  sk-toggleable\"><input class=\"sk-toggleable__control sk-hidden--visually\" id=\"sk-estimator-id-6\" type=\"checkbox\" ><label for=\"sk-estimator-id-6\" class=\"sk-toggleable__label  sk-toggleable__label-arrow\"><div><div>SimpleImputer</div></div><div><a class=\"sk-estimator-doc-link \" rel=\"noreferrer\" target=\"_blank\" href=\"https://scikit-learn.org/1.6/modules/generated/sklearn.impute.SimpleImputer.html\">?<span>Documentation for SimpleImputer</span></a></div></label><div class=\"sk-toggleable__content \"><pre>SimpleImputer(fill_value=&#x27;unknown&#x27;, strategy=&#x27;constant&#x27;)</pre></div> </div></div><div class=\"sk-item\"><div class=\"sk-estimator  sk-toggleable\"><input class=\"sk-toggleable__control sk-hidden--visually\" id=\"sk-estimator-id-7\" type=\"checkbox\" ><label for=\"sk-estimator-id-7\" class=\"sk-toggleable__label  sk-toggleable__label-arrow\"><div><div>OneHotEncoder</div></div><div><a class=\"sk-estimator-doc-link \" rel=\"noreferrer\" target=\"_blank\" href=\"https://scikit-learn.org/1.6/modules/generated/sklearn.preprocessing.OneHotEncoder.html\">?<span>Documentation for OneHotEncoder</span></a></div></label><div class=\"sk-toggleable__content \"><pre>OneHotEncoder(drop=&#x27;first&#x27;, handle_unknown=&#x27;ignore&#x27;, sparse_output=False)</pre></div> </div></div></div></div></div></div></div><div class=\"sk-parallel-item\"><div class=\"sk-item\"><div class=\"sk-label-container\"><div class=\"sk-label  sk-toggleable\"><input class=\"sk-toggleable__control sk-hidden--visually\" id=\"sk-estimator-id-8\" type=\"checkbox\" ><label for=\"sk-estimator-id-8\" class=\"sk-toggleable__label  sk-toggleable__label-arrow\"><div><div>targ_pipeline</div></div></label><div class=\"sk-toggleable__content \"><pre>[&#x27;name&#x27;]</pre></div> </div></div><div class=\"sk-serial\"><div class=\"sk-item\"><div class=\"sk-serial\"><div class=\"sk-item\"><div class=\"sk-estimator  sk-toggleable\"><input class=\"sk-toggleable__control sk-hidden--visually\" id=\"sk-estimator-id-9\" type=\"checkbox\" ><label for=\"sk-estimator-id-9\" class=\"sk-toggleable__label  sk-toggleable__label-arrow\"><div><div>TargetEncoder</div></div><div><a class=\"sk-estimator-doc-link \" rel=\"noreferrer\" target=\"_blank\" href=\"https://scikit-learn.org/1.6/modules/generated/sklearn.preprocessing.TargetEncoder.html\">?<span>Documentation for TargetEncoder</span></a></div></label><div class=\"sk-toggleable__content \"><pre>TargetEncoder(target_type=&#x27;continuous&#x27;)</pre></div> </div></div></div></div></div></div></div><div class=\"sk-parallel-item\"><div class=\"sk-item\"><div class=\"sk-label-container\"><div class=\"sk-label  sk-toggleable\"><input class=\"sk-toggleable__control sk-hidden--visually\" id=\"sk-estimator-id-10\" type=\"checkbox\" ><label for=\"sk-estimator-id-10\" class=\"sk-toggleable__label  sk-toggleable__label-arrow\"><div><div>remainder</div></div></label><div class=\"sk-toggleable__content \"><pre></pre></div> </div></div><div class=\"sk-serial\"><div class=\"sk-item\"><div class=\"sk-estimator  sk-toggleable\"><input class=\"sk-toggleable__control sk-hidden--visually\" id=\"sk-estimator-id-11\" type=\"checkbox\" ><label for=\"sk-estimator-id-11\" class=\"sk-toggleable__label  sk-toggleable__label-arrow\"><div><div>passthrough</div></div></label><div class=\"sk-toggleable__content \"><pre>passthrough</pre></div> </div></div></div></div></div></div></div></div></div>"
      ],
      "text/plain": [
       "ColumnTransformer(n_jobs=-1, remainder='passthrough',\n",
       "                  transformers=[('num_pipeline',\n",
       "                                 Pipeline(steps=[('impute',\n",
       "                                                  SimpleImputer(strategy='median')),\n",
       "                                                 ('scale', StandardScaler())]),\n",
       "                                 ['registrationyear', 'power', 'kilometer']),\n",
       "                                ('ohe_pipeline',\n",
       "                                 Pipeline(steps=[('impute',\n",
       "                                                  SimpleImputer(fill_value='unknown',\n",
       "                                                                strategy='constant')),\n",
       "                                                 ('one-hot',\n",
       "                                                  OneHotEncoder(drop='first',\n",
       "                                                                handle_unknown='ignore',\n",
       "                                                                sparse_output=False))]),\n",
       "                                 ['vehicletype', 'gearbox', 'fueltype',\n",
       "                                  'repaired']),\n",
       "                                ('targ_pipeline',\n",
       "                                 Pipeline(steps=[('TargetEncoder',\n",
       "                                                  TargetEncoder(target_type='continuous'))]),\n",
       "                                 ['name'])])"
      ]
     },
     "execution_count": 40,
     "metadata": {},
     "output_type": "execute_result"
    }
   ],
   "source": [
    "estimator=LinearRegression()\n",
    "num_pipeline = Pipeline(steps=[\n",
    "    ('impute', SimpleImputer(strategy='median')),\n",
    "    ('scale',StandardScaler())\n",
    "])\n",
    "\n",
    "ohe_pipeline = Pipeline(steps=[\n",
    "    ('impute', SimpleImputer(strategy='constant', fill_value='unknown')),\n",
    "    ('one-hot',OneHotEncoder(drop='first', handle_unknown='ignore', sparse_output=False))\n",
    "])\n",
    "\n",
    "targ_pipeline = Pipeline(steps=[\n",
    "    ('TargetEncoder',TargetEncoder(target_type='continuous'))\n",
    "])\n",
    "\n",
    "col_trans_mix = ColumnTransformer(transformers=[\n",
    "    ('num_pipeline',num_pipeline,num_col_names),\n",
    "    ('ohe_pipeline',ohe_pipeline,ohe_col_names), \n",
    "    ('targ_pipeline',targ_pipeline,targ_col_names)\n",
    "    ],\n",
    "    remainder='passthrough',\n",
    "    n_jobs=-1)\n",
    "col_trans_mix.set_output(transform='pandas')"
   ]
  },
  {
   "cell_type": "code",
   "execution_count": 41,
   "metadata": {},
   "outputs": [
    {
     "data": {
      "text/html": [
       "<style>#sk-container-id-2 {\n",
       "  /* Definition of color scheme common for light and dark mode */\n",
       "  --sklearn-color-text: #000;\n",
       "  --sklearn-color-text-muted: #666;\n",
       "  --sklearn-color-line: gray;\n",
       "  /* Definition of color scheme for unfitted estimators */\n",
       "  --sklearn-color-unfitted-level-0: #fff5e6;\n",
       "  --sklearn-color-unfitted-level-1: #f6e4d2;\n",
       "  --sklearn-color-unfitted-level-2: #ffe0b3;\n",
       "  --sklearn-color-unfitted-level-3: chocolate;\n",
       "  /* Definition of color scheme for fitted estimators */\n",
       "  --sklearn-color-fitted-level-0: #f0f8ff;\n",
       "  --sklearn-color-fitted-level-1: #d4ebff;\n",
       "  --sklearn-color-fitted-level-2: #b3dbfd;\n",
       "  --sklearn-color-fitted-level-3: cornflowerblue;\n",
       "\n",
       "  /* Specific color for light theme */\n",
       "  --sklearn-color-text-on-default-background: var(--sg-text-color, var(--theme-code-foreground, var(--jp-content-font-color1, black)));\n",
       "  --sklearn-color-background: var(--sg-background-color, var(--theme-background, var(--jp-layout-color0, white)));\n",
       "  --sklearn-color-border-box: var(--sg-text-color, var(--theme-code-foreground, var(--jp-content-font-color1, black)));\n",
       "  --sklearn-color-icon: #696969;\n",
       "\n",
       "  @media (prefers-color-scheme: dark) {\n",
       "    /* Redefinition of color scheme for dark theme */\n",
       "    --sklearn-color-text-on-default-background: var(--sg-text-color, var(--theme-code-foreground, var(--jp-content-font-color1, white)));\n",
       "    --sklearn-color-background: var(--sg-background-color, var(--theme-background, var(--jp-layout-color0, #111)));\n",
       "    --sklearn-color-border-box: var(--sg-text-color, var(--theme-code-foreground, var(--jp-content-font-color1, white)));\n",
       "    --sklearn-color-icon: #878787;\n",
       "  }\n",
       "}\n",
       "\n",
       "#sk-container-id-2 {\n",
       "  color: var(--sklearn-color-text);\n",
       "}\n",
       "\n",
       "#sk-container-id-2 pre {\n",
       "  padding: 0;\n",
       "}\n",
       "\n",
       "#sk-container-id-2 input.sk-hidden--visually {\n",
       "  border: 0;\n",
       "  clip: rect(1px 1px 1px 1px);\n",
       "  clip: rect(1px, 1px, 1px, 1px);\n",
       "  height: 1px;\n",
       "  margin: -1px;\n",
       "  overflow: hidden;\n",
       "  padding: 0;\n",
       "  position: absolute;\n",
       "  width: 1px;\n",
       "}\n",
       "\n",
       "#sk-container-id-2 div.sk-dashed-wrapped {\n",
       "  border: 1px dashed var(--sklearn-color-line);\n",
       "  margin: 0 0.4em 0.5em 0.4em;\n",
       "  box-sizing: border-box;\n",
       "  padding-bottom: 0.4em;\n",
       "  background-color: var(--sklearn-color-background);\n",
       "}\n",
       "\n",
       "#sk-container-id-2 div.sk-container {\n",
       "  /* jupyter's `normalize.less` sets `[hidden] { display: none; }`\n",
       "     but bootstrap.min.css set `[hidden] { display: none !important; }`\n",
       "     so we also need the `!important` here to be able to override the\n",
       "     default hidden behavior on the sphinx rendered scikit-learn.org.\n",
       "     See: https://github.com/scikit-learn/scikit-learn/issues/21755 */\n",
       "  display: inline-block !important;\n",
       "  position: relative;\n",
       "}\n",
       "\n",
       "#sk-container-id-2 div.sk-text-repr-fallback {\n",
       "  display: none;\n",
       "}\n",
       "\n",
       "div.sk-parallel-item,\n",
       "div.sk-serial,\n",
       "div.sk-item {\n",
       "  /* draw centered vertical line to link estimators */\n",
       "  background-image: linear-gradient(var(--sklearn-color-text-on-default-background), var(--sklearn-color-text-on-default-background));\n",
       "  background-size: 2px 100%;\n",
       "  background-repeat: no-repeat;\n",
       "  background-position: center center;\n",
       "}\n",
       "\n",
       "/* Parallel-specific style estimator block */\n",
       "\n",
       "#sk-container-id-2 div.sk-parallel-item::after {\n",
       "  content: \"\";\n",
       "  width: 100%;\n",
       "  border-bottom: 2px solid var(--sklearn-color-text-on-default-background);\n",
       "  flex-grow: 1;\n",
       "}\n",
       "\n",
       "#sk-container-id-2 div.sk-parallel {\n",
       "  display: flex;\n",
       "  align-items: stretch;\n",
       "  justify-content: center;\n",
       "  background-color: var(--sklearn-color-background);\n",
       "  position: relative;\n",
       "}\n",
       "\n",
       "#sk-container-id-2 div.sk-parallel-item {\n",
       "  display: flex;\n",
       "  flex-direction: column;\n",
       "}\n",
       "\n",
       "#sk-container-id-2 div.sk-parallel-item:first-child::after {\n",
       "  align-self: flex-end;\n",
       "  width: 50%;\n",
       "}\n",
       "\n",
       "#sk-container-id-2 div.sk-parallel-item:last-child::after {\n",
       "  align-self: flex-start;\n",
       "  width: 50%;\n",
       "}\n",
       "\n",
       "#sk-container-id-2 div.sk-parallel-item:only-child::after {\n",
       "  width: 0;\n",
       "}\n",
       "\n",
       "/* Serial-specific style estimator block */\n",
       "\n",
       "#sk-container-id-2 div.sk-serial {\n",
       "  display: flex;\n",
       "  flex-direction: column;\n",
       "  align-items: center;\n",
       "  background-color: var(--sklearn-color-background);\n",
       "  padding-right: 1em;\n",
       "  padding-left: 1em;\n",
       "}\n",
       "\n",
       "\n",
       "/* Toggleable style: style used for estimator/Pipeline/ColumnTransformer box that is\n",
       "clickable and can be expanded/collapsed.\n",
       "- Pipeline and ColumnTransformer use this feature and define the default style\n",
       "- Estimators will overwrite some part of the style using the `sk-estimator` class\n",
       "*/\n",
       "\n",
       "/* Pipeline and ColumnTransformer style (default) */\n",
       "\n",
       "#sk-container-id-2 div.sk-toggleable {\n",
       "  /* Default theme specific background. It is overwritten whether we have a\n",
       "  specific estimator or a Pipeline/ColumnTransformer */\n",
       "  background-color: var(--sklearn-color-background);\n",
       "}\n",
       "\n",
       "/* Toggleable label */\n",
       "#sk-container-id-2 label.sk-toggleable__label {\n",
       "  cursor: pointer;\n",
       "  display: flex;\n",
       "  width: 100%;\n",
       "  margin-bottom: 0;\n",
       "  padding: 0.5em;\n",
       "  box-sizing: border-box;\n",
       "  text-align: center;\n",
       "  align-items: start;\n",
       "  justify-content: space-between;\n",
       "  gap: 0.5em;\n",
       "}\n",
       "\n",
       "#sk-container-id-2 label.sk-toggleable__label .caption {\n",
       "  font-size: 0.6rem;\n",
       "  font-weight: lighter;\n",
       "  color: var(--sklearn-color-text-muted);\n",
       "}\n",
       "\n",
       "#sk-container-id-2 label.sk-toggleable__label-arrow:before {\n",
       "  /* Arrow on the left of the label */\n",
       "  content: \"▸\";\n",
       "  float: left;\n",
       "  margin-right: 0.25em;\n",
       "  color: var(--sklearn-color-icon);\n",
       "}\n",
       "\n",
       "#sk-container-id-2 label.sk-toggleable__label-arrow:hover:before {\n",
       "  color: var(--sklearn-color-text);\n",
       "}\n",
       "\n",
       "/* Toggleable content - dropdown */\n",
       "\n",
       "#sk-container-id-2 div.sk-toggleable__content {\n",
       "  max-height: 0;\n",
       "  max-width: 0;\n",
       "  overflow: hidden;\n",
       "  text-align: left;\n",
       "  /* unfitted */\n",
       "  background-color: var(--sklearn-color-unfitted-level-0);\n",
       "}\n",
       "\n",
       "#sk-container-id-2 div.sk-toggleable__content.fitted {\n",
       "  /* fitted */\n",
       "  background-color: var(--sklearn-color-fitted-level-0);\n",
       "}\n",
       "\n",
       "#sk-container-id-2 div.sk-toggleable__content pre {\n",
       "  margin: 0.2em;\n",
       "  border-radius: 0.25em;\n",
       "  color: var(--sklearn-color-text);\n",
       "  /* unfitted */\n",
       "  background-color: var(--sklearn-color-unfitted-level-0);\n",
       "}\n",
       "\n",
       "#sk-container-id-2 div.sk-toggleable__content.fitted pre {\n",
       "  /* unfitted */\n",
       "  background-color: var(--sklearn-color-fitted-level-0);\n",
       "}\n",
       "\n",
       "#sk-container-id-2 input.sk-toggleable__control:checked~div.sk-toggleable__content {\n",
       "  /* Expand drop-down */\n",
       "  max-height: 200px;\n",
       "  max-width: 100%;\n",
       "  overflow: auto;\n",
       "}\n",
       "\n",
       "#sk-container-id-2 input.sk-toggleable__control:checked~label.sk-toggleable__label-arrow:before {\n",
       "  content: \"▾\";\n",
       "}\n",
       "\n",
       "/* Pipeline/ColumnTransformer-specific style */\n",
       "\n",
       "#sk-container-id-2 div.sk-label input.sk-toggleable__control:checked~label.sk-toggleable__label {\n",
       "  color: var(--sklearn-color-text);\n",
       "  background-color: var(--sklearn-color-unfitted-level-2);\n",
       "}\n",
       "\n",
       "#sk-container-id-2 div.sk-label.fitted input.sk-toggleable__control:checked~label.sk-toggleable__label {\n",
       "  background-color: var(--sklearn-color-fitted-level-2);\n",
       "}\n",
       "\n",
       "/* Estimator-specific style */\n",
       "\n",
       "/* Colorize estimator box */\n",
       "#sk-container-id-2 div.sk-estimator input.sk-toggleable__control:checked~label.sk-toggleable__label {\n",
       "  /* unfitted */\n",
       "  background-color: var(--sklearn-color-unfitted-level-2);\n",
       "}\n",
       "\n",
       "#sk-container-id-2 div.sk-estimator.fitted input.sk-toggleable__control:checked~label.sk-toggleable__label {\n",
       "  /* fitted */\n",
       "  background-color: var(--sklearn-color-fitted-level-2);\n",
       "}\n",
       "\n",
       "#sk-container-id-2 div.sk-label label.sk-toggleable__label,\n",
       "#sk-container-id-2 div.sk-label label {\n",
       "  /* The background is the default theme color */\n",
       "  color: var(--sklearn-color-text-on-default-background);\n",
       "}\n",
       "\n",
       "/* On hover, darken the color of the background */\n",
       "#sk-container-id-2 div.sk-label:hover label.sk-toggleable__label {\n",
       "  color: var(--sklearn-color-text);\n",
       "  background-color: var(--sklearn-color-unfitted-level-2);\n",
       "}\n",
       "\n",
       "/* Label box, darken color on hover, fitted */\n",
       "#sk-container-id-2 div.sk-label.fitted:hover label.sk-toggleable__label.fitted {\n",
       "  color: var(--sklearn-color-text);\n",
       "  background-color: var(--sklearn-color-fitted-level-2);\n",
       "}\n",
       "\n",
       "/* Estimator label */\n",
       "\n",
       "#sk-container-id-2 div.sk-label label {\n",
       "  font-family: monospace;\n",
       "  font-weight: bold;\n",
       "  display: inline-block;\n",
       "  line-height: 1.2em;\n",
       "}\n",
       "\n",
       "#sk-container-id-2 div.sk-label-container {\n",
       "  text-align: center;\n",
       "}\n",
       "\n",
       "/* Estimator-specific */\n",
       "#sk-container-id-2 div.sk-estimator {\n",
       "  font-family: monospace;\n",
       "  border: 1px dotted var(--sklearn-color-border-box);\n",
       "  border-radius: 0.25em;\n",
       "  box-sizing: border-box;\n",
       "  margin-bottom: 0.5em;\n",
       "  /* unfitted */\n",
       "  background-color: var(--sklearn-color-unfitted-level-0);\n",
       "}\n",
       "\n",
       "#sk-container-id-2 div.sk-estimator.fitted {\n",
       "  /* fitted */\n",
       "  background-color: var(--sklearn-color-fitted-level-0);\n",
       "}\n",
       "\n",
       "/* on hover */\n",
       "#sk-container-id-2 div.sk-estimator:hover {\n",
       "  /* unfitted */\n",
       "  background-color: var(--sklearn-color-unfitted-level-2);\n",
       "}\n",
       "\n",
       "#sk-container-id-2 div.sk-estimator.fitted:hover {\n",
       "  /* fitted */\n",
       "  background-color: var(--sklearn-color-fitted-level-2);\n",
       "}\n",
       "\n",
       "/* Specification for estimator info (e.g. \"i\" and \"?\") */\n",
       "\n",
       "/* Common style for \"i\" and \"?\" */\n",
       "\n",
       ".sk-estimator-doc-link,\n",
       "a:link.sk-estimator-doc-link,\n",
       "a:visited.sk-estimator-doc-link {\n",
       "  float: right;\n",
       "  font-size: smaller;\n",
       "  line-height: 1em;\n",
       "  font-family: monospace;\n",
       "  background-color: var(--sklearn-color-background);\n",
       "  border-radius: 1em;\n",
       "  height: 1em;\n",
       "  width: 1em;\n",
       "  text-decoration: none !important;\n",
       "  margin-left: 0.5em;\n",
       "  text-align: center;\n",
       "  /* unfitted */\n",
       "  border: var(--sklearn-color-unfitted-level-1) 1pt solid;\n",
       "  color: var(--sklearn-color-unfitted-level-1);\n",
       "}\n",
       "\n",
       ".sk-estimator-doc-link.fitted,\n",
       "a:link.sk-estimator-doc-link.fitted,\n",
       "a:visited.sk-estimator-doc-link.fitted {\n",
       "  /* fitted */\n",
       "  border: var(--sklearn-color-fitted-level-1) 1pt solid;\n",
       "  color: var(--sklearn-color-fitted-level-1);\n",
       "}\n",
       "\n",
       "/* On hover */\n",
       "div.sk-estimator:hover .sk-estimator-doc-link:hover,\n",
       ".sk-estimator-doc-link:hover,\n",
       "div.sk-label-container:hover .sk-estimator-doc-link:hover,\n",
       ".sk-estimator-doc-link:hover {\n",
       "  /* unfitted */\n",
       "  background-color: var(--sklearn-color-unfitted-level-3);\n",
       "  color: var(--sklearn-color-background);\n",
       "  text-decoration: none;\n",
       "}\n",
       "\n",
       "div.sk-estimator.fitted:hover .sk-estimator-doc-link.fitted:hover,\n",
       ".sk-estimator-doc-link.fitted:hover,\n",
       "div.sk-label-container:hover .sk-estimator-doc-link.fitted:hover,\n",
       ".sk-estimator-doc-link.fitted:hover {\n",
       "  /* fitted */\n",
       "  background-color: var(--sklearn-color-fitted-level-3);\n",
       "  color: var(--sklearn-color-background);\n",
       "  text-decoration: none;\n",
       "}\n",
       "\n",
       "/* Span, style for the box shown on hovering the info icon */\n",
       ".sk-estimator-doc-link span {\n",
       "  display: none;\n",
       "  z-index: 9999;\n",
       "  position: relative;\n",
       "  font-weight: normal;\n",
       "  right: .2ex;\n",
       "  padding: .5ex;\n",
       "  margin: .5ex;\n",
       "  width: min-content;\n",
       "  min-width: 20ex;\n",
       "  max-width: 50ex;\n",
       "  color: var(--sklearn-color-text);\n",
       "  box-shadow: 2pt 2pt 4pt #999;\n",
       "  /* unfitted */\n",
       "  background: var(--sklearn-color-unfitted-level-0);\n",
       "  border: .5pt solid var(--sklearn-color-unfitted-level-3);\n",
       "}\n",
       "\n",
       ".sk-estimator-doc-link.fitted span {\n",
       "  /* fitted */\n",
       "  background: var(--sklearn-color-fitted-level-0);\n",
       "  border: var(--sklearn-color-fitted-level-3);\n",
       "}\n",
       "\n",
       ".sk-estimator-doc-link:hover span {\n",
       "  display: block;\n",
       "}\n",
       "\n",
       "/* \"?\"-specific style due to the `<a>` HTML tag */\n",
       "\n",
       "#sk-container-id-2 a.estimator_doc_link {\n",
       "  float: right;\n",
       "  font-size: 1rem;\n",
       "  line-height: 1em;\n",
       "  font-family: monospace;\n",
       "  background-color: var(--sklearn-color-background);\n",
       "  border-radius: 1rem;\n",
       "  height: 1rem;\n",
       "  width: 1rem;\n",
       "  text-decoration: none;\n",
       "  /* unfitted */\n",
       "  color: var(--sklearn-color-unfitted-level-1);\n",
       "  border: var(--sklearn-color-unfitted-level-1) 1pt solid;\n",
       "}\n",
       "\n",
       "#sk-container-id-2 a.estimator_doc_link.fitted {\n",
       "  /* fitted */\n",
       "  border: var(--sklearn-color-fitted-level-1) 1pt solid;\n",
       "  color: var(--sklearn-color-fitted-level-1);\n",
       "}\n",
       "\n",
       "/* On hover */\n",
       "#sk-container-id-2 a.estimator_doc_link:hover {\n",
       "  /* unfitted */\n",
       "  background-color: var(--sklearn-color-unfitted-level-3);\n",
       "  color: var(--sklearn-color-background);\n",
       "  text-decoration: none;\n",
       "}\n",
       "\n",
       "#sk-container-id-2 a.estimator_doc_link.fitted:hover {\n",
       "  /* fitted */\n",
       "  background-color: var(--sklearn-color-fitted-level-3);\n",
       "}\n",
       "</style><div id=\"sk-container-id-2\" class=\"sk-top-container\"><div class=\"sk-text-repr-fallback\"><pre>ColumnTransformer(n_jobs=-1, remainder=&#x27;passthrough&#x27;,\n",
       "                  transformers=[(&#x27;num_pipeline&#x27;,\n",
       "                                 Pipeline(steps=[(&#x27;impute&#x27;,\n",
       "                                                  SimpleImputer(strategy=&#x27;median&#x27;)),\n",
       "                                                 (&#x27;scale&#x27;, StandardScaler())]),\n",
       "                                 [&#x27;registrationyear&#x27;, &#x27;power&#x27;, &#x27;kilometer&#x27;]),\n",
       "                                (&#x27;ohe_pipeline&#x27;,\n",
       "                                 Pipeline(steps=[(&#x27;impute&#x27;,\n",
       "                                                  SimpleImputer(fill_value=&#x27;unknown&#x27;,\n",
       "                                                                strategy=&#x27;constant&#x27;)),\n",
       "                                                 (&#x27;one-hot&#x27;,\n",
       "                                                  OneHotEncoder(drop=&#x27;first&#x27;,\n",
       "                                                                handle_unknown=&#x27;ignore&#x27;,\n",
       "                                                                sparse_output=False))]),\n",
       "                                 [&#x27;vehicletype&#x27;, &#x27;gearbox&#x27;, &#x27;name&#x27;, &#x27;fueltype&#x27;,\n",
       "                                  &#x27;repaired&#x27;])])</pre><b>In a Jupyter environment, please rerun this cell to show the HTML representation or trust the notebook. <br />On GitHub, the HTML representation is unable to render, please try loading this page with nbviewer.org.</b></div><div class=\"sk-container\" hidden><div class=\"sk-item sk-dashed-wrapped\"><div class=\"sk-label-container\"><div class=\"sk-label  sk-toggleable\"><input class=\"sk-toggleable__control sk-hidden--visually\" id=\"sk-estimator-id-12\" type=\"checkbox\" ><label for=\"sk-estimator-id-12\" class=\"sk-toggleable__label  sk-toggleable__label-arrow\"><div><div>ColumnTransformer</div></div><div><a class=\"sk-estimator-doc-link \" rel=\"noreferrer\" target=\"_blank\" href=\"https://scikit-learn.org/1.6/modules/generated/sklearn.compose.ColumnTransformer.html\">?<span>Documentation for ColumnTransformer</span></a><span class=\"sk-estimator-doc-link \">i<span>Not fitted</span></span></div></label><div class=\"sk-toggleable__content \"><pre>ColumnTransformer(n_jobs=-1, remainder=&#x27;passthrough&#x27;,\n",
       "                  transformers=[(&#x27;num_pipeline&#x27;,\n",
       "                                 Pipeline(steps=[(&#x27;impute&#x27;,\n",
       "                                                  SimpleImputer(strategy=&#x27;median&#x27;)),\n",
       "                                                 (&#x27;scale&#x27;, StandardScaler())]),\n",
       "                                 [&#x27;registrationyear&#x27;, &#x27;power&#x27;, &#x27;kilometer&#x27;]),\n",
       "                                (&#x27;ohe_pipeline&#x27;,\n",
       "                                 Pipeline(steps=[(&#x27;impute&#x27;,\n",
       "                                                  SimpleImputer(fill_value=&#x27;unknown&#x27;,\n",
       "                                                                strategy=&#x27;constant&#x27;)),\n",
       "                                                 (&#x27;one-hot&#x27;,\n",
       "                                                  OneHotEncoder(drop=&#x27;first&#x27;,\n",
       "                                                                handle_unknown=&#x27;ignore&#x27;,\n",
       "                                                                sparse_output=False))]),\n",
       "                                 [&#x27;vehicletype&#x27;, &#x27;gearbox&#x27;, &#x27;name&#x27;, &#x27;fueltype&#x27;,\n",
       "                                  &#x27;repaired&#x27;])])</pre></div> </div></div><div class=\"sk-parallel\"><div class=\"sk-parallel-item\"><div class=\"sk-item\"><div class=\"sk-label-container\"><div class=\"sk-label  sk-toggleable\"><input class=\"sk-toggleable__control sk-hidden--visually\" id=\"sk-estimator-id-13\" type=\"checkbox\" ><label for=\"sk-estimator-id-13\" class=\"sk-toggleable__label  sk-toggleable__label-arrow\"><div><div>num_pipeline</div></div></label><div class=\"sk-toggleable__content \"><pre>[&#x27;registrationyear&#x27;, &#x27;power&#x27;, &#x27;kilometer&#x27;]</pre></div> </div></div><div class=\"sk-serial\"><div class=\"sk-item\"><div class=\"sk-serial\"><div class=\"sk-item\"><div class=\"sk-estimator  sk-toggleable\"><input class=\"sk-toggleable__control sk-hidden--visually\" id=\"sk-estimator-id-14\" type=\"checkbox\" ><label for=\"sk-estimator-id-14\" class=\"sk-toggleable__label  sk-toggleable__label-arrow\"><div><div>SimpleImputer</div></div><div><a class=\"sk-estimator-doc-link \" rel=\"noreferrer\" target=\"_blank\" href=\"https://scikit-learn.org/1.6/modules/generated/sklearn.impute.SimpleImputer.html\">?<span>Documentation for SimpleImputer</span></a></div></label><div class=\"sk-toggleable__content \"><pre>SimpleImputer(strategy=&#x27;median&#x27;)</pre></div> </div></div><div class=\"sk-item\"><div class=\"sk-estimator  sk-toggleable\"><input class=\"sk-toggleable__control sk-hidden--visually\" id=\"sk-estimator-id-15\" type=\"checkbox\" ><label for=\"sk-estimator-id-15\" class=\"sk-toggleable__label  sk-toggleable__label-arrow\"><div><div>StandardScaler</div></div><div><a class=\"sk-estimator-doc-link \" rel=\"noreferrer\" target=\"_blank\" href=\"https://scikit-learn.org/1.6/modules/generated/sklearn.preprocessing.StandardScaler.html\">?<span>Documentation for StandardScaler</span></a></div></label><div class=\"sk-toggleable__content \"><pre>StandardScaler()</pre></div> </div></div></div></div></div></div></div><div class=\"sk-parallel-item\"><div class=\"sk-item\"><div class=\"sk-label-container\"><div class=\"sk-label  sk-toggleable\"><input class=\"sk-toggleable__control sk-hidden--visually\" id=\"sk-estimator-id-16\" type=\"checkbox\" ><label for=\"sk-estimator-id-16\" class=\"sk-toggleable__label  sk-toggleable__label-arrow\"><div><div>ohe_pipeline</div></div></label><div class=\"sk-toggleable__content \"><pre>[&#x27;vehicletype&#x27;, &#x27;gearbox&#x27;, &#x27;name&#x27;, &#x27;fueltype&#x27;, &#x27;repaired&#x27;]</pre></div> </div></div><div class=\"sk-serial\"><div class=\"sk-item\"><div class=\"sk-serial\"><div class=\"sk-item\"><div class=\"sk-estimator  sk-toggleable\"><input class=\"sk-toggleable__control sk-hidden--visually\" id=\"sk-estimator-id-17\" type=\"checkbox\" ><label for=\"sk-estimator-id-17\" class=\"sk-toggleable__label  sk-toggleable__label-arrow\"><div><div>SimpleImputer</div></div><div><a class=\"sk-estimator-doc-link \" rel=\"noreferrer\" target=\"_blank\" href=\"https://scikit-learn.org/1.6/modules/generated/sklearn.impute.SimpleImputer.html\">?<span>Documentation for SimpleImputer</span></a></div></label><div class=\"sk-toggleable__content \"><pre>SimpleImputer(fill_value=&#x27;unknown&#x27;, strategy=&#x27;constant&#x27;)</pre></div> </div></div><div class=\"sk-item\"><div class=\"sk-estimator  sk-toggleable\"><input class=\"sk-toggleable__control sk-hidden--visually\" id=\"sk-estimator-id-18\" type=\"checkbox\" ><label for=\"sk-estimator-id-18\" class=\"sk-toggleable__label  sk-toggleable__label-arrow\"><div><div>OneHotEncoder</div></div><div><a class=\"sk-estimator-doc-link \" rel=\"noreferrer\" target=\"_blank\" href=\"https://scikit-learn.org/1.6/modules/generated/sklearn.preprocessing.OneHotEncoder.html\">?<span>Documentation for OneHotEncoder</span></a></div></label><div class=\"sk-toggleable__content \"><pre>OneHotEncoder(drop=&#x27;first&#x27;, handle_unknown=&#x27;ignore&#x27;, sparse_output=False)</pre></div> </div></div></div></div></div></div></div><div class=\"sk-parallel-item\"><div class=\"sk-item\"><div class=\"sk-label-container\"><div class=\"sk-label  sk-toggleable\"><input class=\"sk-toggleable__control sk-hidden--visually\" id=\"sk-estimator-id-19\" type=\"checkbox\" ><label for=\"sk-estimator-id-19\" class=\"sk-toggleable__label  sk-toggleable__label-arrow\"><div><div>remainder</div></div></label><div class=\"sk-toggleable__content \"><pre></pre></div> </div></div><div class=\"sk-serial\"><div class=\"sk-item\"><div class=\"sk-estimator  sk-toggleable\"><input class=\"sk-toggleable__control sk-hidden--visually\" id=\"sk-estimator-id-20\" type=\"checkbox\" ><label for=\"sk-estimator-id-20\" class=\"sk-toggleable__label  sk-toggleable__label-arrow\"><div><div>passthrough</div></div></label><div class=\"sk-toggleable__content \"><pre>passthrough</pre></div> </div></div></div></div></div></div></div></div></div>"
      ],
      "text/plain": [
       "ColumnTransformer(n_jobs=-1, remainder='passthrough',\n",
       "                  transformers=[('num_pipeline',\n",
       "                                 Pipeline(steps=[('impute',\n",
       "                                                  SimpleImputer(strategy='median')),\n",
       "                                                 ('scale', StandardScaler())]),\n",
       "                                 ['registrationyear', 'power', 'kilometer']),\n",
       "                                ('ohe_pipeline',\n",
       "                                 Pipeline(steps=[('impute',\n",
       "                                                  SimpleImputer(fill_value='unknown',\n",
       "                                                                strategy='constant')),\n",
       "                                                 ('one-hot',\n",
       "                                                  OneHotEncoder(drop='first',\n",
       "                                                                handle_unknown='ignore',\n",
       "                                                                sparse_output=False))]),\n",
       "                                 ['vehicletype', 'gearbox', 'name', 'fueltype',\n",
       "                                  'repaired'])])"
      ]
     },
     "execution_count": 41,
     "metadata": {},
     "output_type": "execute_result"
    }
   ],
   "source": [
    "col_trans_ohe = ColumnTransformer(transformers=[\n",
    "    ('num_pipeline',num_pipeline,num_col_names),\n",
    "    ('ohe_pipeline',ohe_pipeline,cat_col_names)\n",
    "    ],\n",
    "    remainder='passthrough',\n",
    "    n_jobs=-1)\n",
    "col_trans_ohe.set_output(transform='pandas')"
   ]
  },
  {
   "cell_type": "code",
   "execution_count": 42,
   "metadata": {},
   "outputs": [
    {
     "data": {
      "text/html": [
       "<style>#sk-container-id-3 {\n",
       "  /* Definition of color scheme common for light and dark mode */\n",
       "  --sklearn-color-text: #000;\n",
       "  --sklearn-color-text-muted: #666;\n",
       "  --sklearn-color-line: gray;\n",
       "  /* Definition of color scheme for unfitted estimators */\n",
       "  --sklearn-color-unfitted-level-0: #fff5e6;\n",
       "  --sklearn-color-unfitted-level-1: #f6e4d2;\n",
       "  --sklearn-color-unfitted-level-2: #ffe0b3;\n",
       "  --sklearn-color-unfitted-level-3: chocolate;\n",
       "  /* Definition of color scheme for fitted estimators */\n",
       "  --sklearn-color-fitted-level-0: #f0f8ff;\n",
       "  --sklearn-color-fitted-level-1: #d4ebff;\n",
       "  --sklearn-color-fitted-level-2: #b3dbfd;\n",
       "  --sklearn-color-fitted-level-3: cornflowerblue;\n",
       "\n",
       "  /* Specific color for light theme */\n",
       "  --sklearn-color-text-on-default-background: var(--sg-text-color, var(--theme-code-foreground, var(--jp-content-font-color1, black)));\n",
       "  --sklearn-color-background: var(--sg-background-color, var(--theme-background, var(--jp-layout-color0, white)));\n",
       "  --sklearn-color-border-box: var(--sg-text-color, var(--theme-code-foreground, var(--jp-content-font-color1, black)));\n",
       "  --sklearn-color-icon: #696969;\n",
       "\n",
       "  @media (prefers-color-scheme: dark) {\n",
       "    /* Redefinition of color scheme for dark theme */\n",
       "    --sklearn-color-text-on-default-background: var(--sg-text-color, var(--theme-code-foreground, var(--jp-content-font-color1, white)));\n",
       "    --sklearn-color-background: var(--sg-background-color, var(--theme-background, var(--jp-layout-color0, #111)));\n",
       "    --sklearn-color-border-box: var(--sg-text-color, var(--theme-code-foreground, var(--jp-content-font-color1, white)));\n",
       "    --sklearn-color-icon: #878787;\n",
       "  }\n",
       "}\n",
       "\n",
       "#sk-container-id-3 {\n",
       "  color: var(--sklearn-color-text);\n",
       "}\n",
       "\n",
       "#sk-container-id-3 pre {\n",
       "  padding: 0;\n",
       "}\n",
       "\n",
       "#sk-container-id-3 input.sk-hidden--visually {\n",
       "  border: 0;\n",
       "  clip: rect(1px 1px 1px 1px);\n",
       "  clip: rect(1px, 1px, 1px, 1px);\n",
       "  height: 1px;\n",
       "  margin: -1px;\n",
       "  overflow: hidden;\n",
       "  padding: 0;\n",
       "  position: absolute;\n",
       "  width: 1px;\n",
       "}\n",
       "\n",
       "#sk-container-id-3 div.sk-dashed-wrapped {\n",
       "  border: 1px dashed var(--sklearn-color-line);\n",
       "  margin: 0 0.4em 0.5em 0.4em;\n",
       "  box-sizing: border-box;\n",
       "  padding-bottom: 0.4em;\n",
       "  background-color: var(--sklearn-color-background);\n",
       "}\n",
       "\n",
       "#sk-container-id-3 div.sk-container {\n",
       "  /* jupyter's `normalize.less` sets `[hidden] { display: none; }`\n",
       "     but bootstrap.min.css set `[hidden] { display: none !important; }`\n",
       "     so we also need the `!important` here to be able to override the\n",
       "     default hidden behavior on the sphinx rendered scikit-learn.org.\n",
       "     See: https://github.com/scikit-learn/scikit-learn/issues/21755 */\n",
       "  display: inline-block !important;\n",
       "  position: relative;\n",
       "}\n",
       "\n",
       "#sk-container-id-3 div.sk-text-repr-fallback {\n",
       "  display: none;\n",
       "}\n",
       "\n",
       "div.sk-parallel-item,\n",
       "div.sk-serial,\n",
       "div.sk-item {\n",
       "  /* draw centered vertical line to link estimators */\n",
       "  background-image: linear-gradient(var(--sklearn-color-text-on-default-background), var(--sklearn-color-text-on-default-background));\n",
       "  background-size: 2px 100%;\n",
       "  background-repeat: no-repeat;\n",
       "  background-position: center center;\n",
       "}\n",
       "\n",
       "/* Parallel-specific style estimator block */\n",
       "\n",
       "#sk-container-id-3 div.sk-parallel-item::after {\n",
       "  content: \"\";\n",
       "  width: 100%;\n",
       "  border-bottom: 2px solid var(--sklearn-color-text-on-default-background);\n",
       "  flex-grow: 1;\n",
       "}\n",
       "\n",
       "#sk-container-id-3 div.sk-parallel {\n",
       "  display: flex;\n",
       "  align-items: stretch;\n",
       "  justify-content: center;\n",
       "  background-color: var(--sklearn-color-background);\n",
       "  position: relative;\n",
       "}\n",
       "\n",
       "#sk-container-id-3 div.sk-parallel-item {\n",
       "  display: flex;\n",
       "  flex-direction: column;\n",
       "}\n",
       "\n",
       "#sk-container-id-3 div.sk-parallel-item:first-child::after {\n",
       "  align-self: flex-end;\n",
       "  width: 50%;\n",
       "}\n",
       "\n",
       "#sk-container-id-3 div.sk-parallel-item:last-child::after {\n",
       "  align-self: flex-start;\n",
       "  width: 50%;\n",
       "}\n",
       "\n",
       "#sk-container-id-3 div.sk-parallel-item:only-child::after {\n",
       "  width: 0;\n",
       "}\n",
       "\n",
       "/* Serial-specific style estimator block */\n",
       "\n",
       "#sk-container-id-3 div.sk-serial {\n",
       "  display: flex;\n",
       "  flex-direction: column;\n",
       "  align-items: center;\n",
       "  background-color: var(--sklearn-color-background);\n",
       "  padding-right: 1em;\n",
       "  padding-left: 1em;\n",
       "}\n",
       "\n",
       "\n",
       "/* Toggleable style: style used for estimator/Pipeline/ColumnTransformer box that is\n",
       "clickable and can be expanded/collapsed.\n",
       "- Pipeline and ColumnTransformer use this feature and define the default style\n",
       "- Estimators will overwrite some part of the style using the `sk-estimator` class\n",
       "*/\n",
       "\n",
       "/* Pipeline and ColumnTransformer style (default) */\n",
       "\n",
       "#sk-container-id-3 div.sk-toggleable {\n",
       "  /* Default theme specific background. It is overwritten whether we have a\n",
       "  specific estimator or a Pipeline/ColumnTransformer */\n",
       "  background-color: var(--sklearn-color-background);\n",
       "}\n",
       "\n",
       "/* Toggleable label */\n",
       "#sk-container-id-3 label.sk-toggleable__label {\n",
       "  cursor: pointer;\n",
       "  display: flex;\n",
       "  width: 100%;\n",
       "  margin-bottom: 0;\n",
       "  padding: 0.5em;\n",
       "  box-sizing: border-box;\n",
       "  text-align: center;\n",
       "  align-items: start;\n",
       "  justify-content: space-between;\n",
       "  gap: 0.5em;\n",
       "}\n",
       "\n",
       "#sk-container-id-3 label.sk-toggleable__label .caption {\n",
       "  font-size: 0.6rem;\n",
       "  font-weight: lighter;\n",
       "  color: var(--sklearn-color-text-muted);\n",
       "}\n",
       "\n",
       "#sk-container-id-3 label.sk-toggleable__label-arrow:before {\n",
       "  /* Arrow on the left of the label */\n",
       "  content: \"▸\";\n",
       "  float: left;\n",
       "  margin-right: 0.25em;\n",
       "  color: var(--sklearn-color-icon);\n",
       "}\n",
       "\n",
       "#sk-container-id-3 label.sk-toggleable__label-arrow:hover:before {\n",
       "  color: var(--sklearn-color-text);\n",
       "}\n",
       "\n",
       "/* Toggleable content - dropdown */\n",
       "\n",
       "#sk-container-id-3 div.sk-toggleable__content {\n",
       "  max-height: 0;\n",
       "  max-width: 0;\n",
       "  overflow: hidden;\n",
       "  text-align: left;\n",
       "  /* unfitted */\n",
       "  background-color: var(--sklearn-color-unfitted-level-0);\n",
       "}\n",
       "\n",
       "#sk-container-id-3 div.sk-toggleable__content.fitted {\n",
       "  /* fitted */\n",
       "  background-color: var(--sklearn-color-fitted-level-0);\n",
       "}\n",
       "\n",
       "#sk-container-id-3 div.sk-toggleable__content pre {\n",
       "  margin: 0.2em;\n",
       "  border-radius: 0.25em;\n",
       "  color: var(--sklearn-color-text);\n",
       "  /* unfitted */\n",
       "  background-color: var(--sklearn-color-unfitted-level-0);\n",
       "}\n",
       "\n",
       "#sk-container-id-3 div.sk-toggleable__content.fitted pre {\n",
       "  /* unfitted */\n",
       "  background-color: var(--sklearn-color-fitted-level-0);\n",
       "}\n",
       "\n",
       "#sk-container-id-3 input.sk-toggleable__control:checked~div.sk-toggleable__content {\n",
       "  /* Expand drop-down */\n",
       "  max-height: 200px;\n",
       "  max-width: 100%;\n",
       "  overflow: auto;\n",
       "}\n",
       "\n",
       "#sk-container-id-3 input.sk-toggleable__control:checked~label.sk-toggleable__label-arrow:before {\n",
       "  content: \"▾\";\n",
       "}\n",
       "\n",
       "/* Pipeline/ColumnTransformer-specific style */\n",
       "\n",
       "#sk-container-id-3 div.sk-label input.sk-toggleable__control:checked~label.sk-toggleable__label {\n",
       "  color: var(--sklearn-color-text);\n",
       "  background-color: var(--sklearn-color-unfitted-level-2);\n",
       "}\n",
       "\n",
       "#sk-container-id-3 div.sk-label.fitted input.sk-toggleable__control:checked~label.sk-toggleable__label {\n",
       "  background-color: var(--sklearn-color-fitted-level-2);\n",
       "}\n",
       "\n",
       "/* Estimator-specific style */\n",
       "\n",
       "/* Colorize estimator box */\n",
       "#sk-container-id-3 div.sk-estimator input.sk-toggleable__control:checked~label.sk-toggleable__label {\n",
       "  /* unfitted */\n",
       "  background-color: var(--sklearn-color-unfitted-level-2);\n",
       "}\n",
       "\n",
       "#sk-container-id-3 div.sk-estimator.fitted input.sk-toggleable__control:checked~label.sk-toggleable__label {\n",
       "  /* fitted */\n",
       "  background-color: var(--sklearn-color-fitted-level-2);\n",
       "}\n",
       "\n",
       "#sk-container-id-3 div.sk-label label.sk-toggleable__label,\n",
       "#sk-container-id-3 div.sk-label label {\n",
       "  /* The background is the default theme color */\n",
       "  color: var(--sklearn-color-text-on-default-background);\n",
       "}\n",
       "\n",
       "/* On hover, darken the color of the background */\n",
       "#sk-container-id-3 div.sk-label:hover label.sk-toggleable__label {\n",
       "  color: var(--sklearn-color-text);\n",
       "  background-color: var(--sklearn-color-unfitted-level-2);\n",
       "}\n",
       "\n",
       "/* Label box, darken color on hover, fitted */\n",
       "#sk-container-id-3 div.sk-label.fitted:hover label.sk-toggleable__label.fitted {\n",
       "  color: var(--sklearn-color-text);\n",
       "  background-color: var(--sklearn-color-fitted-level-2);\n",
       "}\n",
       "\n",
       "/* Estimator label */\n",
       "\n",
       "#sk-container-id-3 div.sk-label label {\n",
       "  font-family: monospace;\n",
       "  font-weight: bold;\n",
       "  display: inline-block;\n",
       "  line-height: 1.2em;\n",
       "}\n",
       "\n",
       "#sk-container-id-3 div.sk-label-container {\n",
       "  text-align: center;\n",
       "}\n",
       "\n",
       "/* Estimator-specific */\n",
       "#sk-container-id-3 div.sk-estimator {\n",
       "  font-family: monospace;\n",
       "  border: 1px dotted var(--sklearn-color-border-box);\n",
       "  border-radius: 0.25em;\n",
       "  box-sizing: border-box;\n",
       "  margin-bottom: 0.5em;\n",
       "  /* unfitted */\n",
       "  background-color: var(--sklearn-color-unfitted-level-0);\n",
       "}\n",
       "\n",
       "#sk-container-id-3 div.sk-estimator.fitted {\n",
       "  /* fitted */\n",
       "  background-color: var(--sklearn-color-fitted-level-0);\n",
       "}\n",
       "\n",
       "/* on hover */\n",
       "#sk-container-id-3 div.sk-estimator:hover {\n",
       "  /* unfitted */\n",
       "  background-color: var(--sklearn-color-unfitted-level-2);\n",
       "}\n",
       "\n",
       "#sk-container-id-3 div.sk-estimator.fitted:hover {\n",
       "  /* fitted */\n",
       "  background-color: var(--sklearn-color-fitted-level-2);\n",
       "}\n",
       "\n",
       "/* Specification for estimator info (e.g. \"i\" and \"?\") */\n",
       "\n",
       "/* Common style for \"i\" and \"?\" */\n",
       "\n",
       ".sk-estimator-doc-link,\n",
       "a:link.sk-estimator-doc-link,\n",
       "a:visited.sk-estimator-doc-link {\n",
       "  float: right;\n",
       "  font-size: smaller;\n",
       "  line-height: 1em;\n",
       "  font-family: monospace;\n",
       "  background-color: var(--sklearn-color-background);\n",
       "  border-radius: 1em;\n",
       "  height: 1em;\n",
       "  width: 1em;\n",
       "  text-decoration: none !important;\n",
       "  margin-left: 0.5em;\n",
       "  text-align: center;\n",
       "  /* unfitted */\n",
       "  border: var(--sklearn-color-unfitted-level-1) 1pt solid;\n",
       "  color: var(--sklearn-color-unfitted-level-1);\n",
       "}\n",
       "\n",
       ".sk-estimator-doc-link.fitted,\n",
       "a:link.sk-estimator-doc-link.fitted,\n",
       "a:visited.sk-estimator-doc-link.fitted {\n",
       "  /* fitted */\n",
       "  border: var(--sklearn-color-fitted-level-1) 1pt solid;\n",
       "  color: var(--sklearn-color-fitted-level-1);\n",
       "}\n",
       "\n",
       "/* On hover */\n",
       "div.sk-estimator:hover .sk-estimator-doc-link:hover,\n",
       ".sk-estimator-doc-link:hover,\n",
       "div.sk-label-container:hover .sk-estimator-doc-link:hover,\n",
       ".sk-estimator-doc-link:hover {\n",
       "  /* unfitted */\n",
       "  background-color: var(--sklearn-color-unfitted-level-3);\n",
       "  color: var(--sklearn-color-background);\n",
       "  text-decoration: none;\n",
       "}\n",
       "\n",
       "div.sk-estimator.fitted:hover .sk-estimator-doc-link.fitted:hover,\n",
       ".sk-estimator-doc-link.fitted:hover,\n",
       "div.sk-label-container:hover .sk-estimator-doc-link.fitted:hover,\n",
       ".sk-estimator-doc-link.fitted:hover {\n",
       "  /* fitted */\n",
       "  background-color: var(--sklearn-color-fitted-level-3);\n",
       "  color: var(--sklearn-color-background);\n",
       "  text-decoration: none;\n",
       "}\n",
       "\n",
       "/* Span, style for the box shown on hovering the info icon */\n",
       ".sk-estimator-doc-link span {\n",
       "  display: none;\n",
       "  z-index: 9999;\n",
       "  position: relative;\n",
       "  font-weight: normal;\n",
       "  right: .2ex;\n",
       "  padding: .5ex;\n",
       "  margin: .5ex;\n",
       "  width: min-content;\n",
       "  min-width: 20ex;\n",
       "  max-width: 50ex;\n",
       "  color: var(--sklearn-color-text);\n",
       "  box-shadow: 2pt 2pt 4pt #999;\n",
       "  /* unfitted */\n",
       "  background: var(--sklearn-color-unfitted-level-0);\n",
       "  border: .5pt solid var(--sklearn-color-unfitted-level-3);\n",
       "}\n",
       "\n",
       ".sk-estimator-doc-link.fitted span {\n",
       "  /* fitted */\n",
       "  background: var(--sklearn-color-fitted-level-0);\n",
       "  border: var(--sklearn-color-fitted-level-3);\n",
       "}\n",
       "\n",
       ".sk-estimator-doc-link:hover span {\n",
       "  display: block;\n",
       "}\n",
       "\n",
       "/* \"?\"-specific style due to the `<a>` HTML tag */\n",
       "\n",
       "#sk-container-id-3 a.estimator_doc_link {\n",
       "  float: right;\n",
       "  font-size: 1rem;\n",
       "  line-height: 1em;\n",
       "  font-family: monospace;\n",
       "  background-color: var(--sklearn-color-background);\n",
       "  border-radius: 1rem;\n",
       "  height: 1rem;\n",
       "  width: 1rem;\n",
       "  text-decoration: none;\n",
       "  /* unfitted */\n",
       "  color: var(--sklearn-color-unfitted-level-1);\n",
       "  border: var(--sklearn-color-unfitted-level-1) 1pt solid;\n",
       "}\n",
       "\n",
       "#sk-container-id-3 a.estimator_doc_link.fitted {\n",
       "  /* fitted */\n",
       "  border: var(--sklearn-color-fitted-level-1) 1pt solid;\n",
       "  color: var(--sklearn-color-fitted-level-1);\n",
       "}\n",
       "\n",
       "/* On hover */\n",
       "#sk-container-id-3 a.estimator_doc_link:hover {\n",
       "  /* unfitted */\n",
       "  background-color: var(--sklearn-color-unfitted-level-3);\n",
       "  color: var(--sklearn-color-background);\n",
       "  text-decoration: none;\n",
       "}\n",
       "\n",
       "#sk-container-id-3 a.estimator_doc_link.fitted:hover {\n",
       "  /* fitted */\n",
       "  background-color: var(--sklearn-color-fitted-level-3);\n",
       "}\n",
       "</style><div id=\"sk-container-id-3\" class=\"sk-top-container\"><div class=\"sk-text-repr-fallback\"><pre>ColumnTransformer(n_jobs=-1, remainder=&#x27;passthrough&#x27;,\n",
       "                  transformers=[(&#x27;num_pipeline&#x27;,\n",
       "                                 Pipeline(steps=[(&#x27;impute&#x27;,\n",
       "                                                  SimpleImputer(strategy=&#x27;median&#x27;)),\n",
       "                                                 (&#x27;scale&#x27;, StandardScaler())]),\n",
       "                                 [&#x27;registrationyear&#x27;, &#x27;power&#x27;, &#x27;kilometer&#x27;]),\n",
       "                                (&#x27;targ_pipeline&#x27;,\n",
       "                                 Pipeline(steps=[(&#x27;TargetEncoder&#x27;,\n",
       "                                                  TargetEncoder(target_type=&#x27;continuous&#x27;))]),\n",
       "                                 [&#x27;vehicletype&#x27;, &#x27;gearbox&#x27;, &#x27;name&#x27;, &#x27;fueltype&#x27;,\n",
       "                                  &#x27;repaired&#x27;])])</pre><b>In a Jupyter environment, please rerun this cell to show the HTML representation or trust the notebook. <br />On GitHub, the HTML representation is unable to render, please try loading this page with nbviewer.org.</b></div><div class=\"sk-container\" hidden><div class=\"sk-item sk-dashed-wrapped\"><div class=\"sk-label-container\"><div class=\"sk-label  sk-toggleable\"><input class=\"sk-toggleable__control sk-hidden--visually\" id=\"sk-estimator-id-21\" type=\"checkbox\" ><label for=\"sk-estimator-id-21\" class=\"sk-toggleable__label  sk-toggleable__label-arrow\"><div><div>ColumnTransformer</div></div><div><a class=\"sk-estimator-doc-link \" rel=\"noreferrer\" target=\"_blank\" href=\"https://scikit-learn.org/1.6/modules/generated/sklearn.compose.ColumnTransformer.html\">?<span>Documentation for ColumnTransformer</span></a><span class=\"sk-estimator-doc-link \">i<span>Not fitted</span></span></div></label><div class=\"sk-toggleable__content \"><pre>ColumnTransformer(n_jobs=-1, remainder=&#x27;passthrough&#x27;,\n",
       "                  transformers=[(&#x27;num_pipeline&#x27;,\n",
       "                                 Pipeline(steps=[(&#x27;impute&#x27;,\n",
       "                                                  SimpleImputer(strategy=&#x27;median&#x27;)),\n",
       "                                                 (&#x27;scale&#x27;, StandardScaler())]),\n",
       "                                 [&#x27;registrationyear&#x27;, &#x27;power&#x27;, &#x27;kilometer&#x27;]),\n",
       "                                (&#x27;targ_pipeline&#x27;,\n",
       "                                 Pipeline(steps=[(&#x27;TargetEncoder&#x27;,\n",
       "                                                  TargetEncoder(target_type=&#x27;continuous&#x27;))]),\n",
       "                                 [&#x27;vehicletype&#x27;, &#x27;gearbox&#x27;, &#x27;name&#x27;, &#x27;fueltype&#x27;,\n",
       "                                  &#x27;repaired&#x27;])])</pre></div> </div></div><div class=\"sk-parallel\"><div class=\"sk-parallel-item\"><div class=\"sk-item\"><div class=\"sk-label-container\"><div class=\"sk-label  sk-toggleable\"><input class=\"sk-toggleable__control sk-hidden--visually\" id=\"sk-estimator-id-22\" type=\"checkbox\" ><label for=\"sk-estimator-id-22\" class=\"sk-toggleable__label  sk-toggleable__label-arrow\"><div><div>num_pipeline</div></div></label><div class=\"sk-toggleable__content \"><pre>[&#x27;registrationyear&#x27;, &#x27;power&#x27;, &#x27;kilometer&#x27;]</pre></div> </div></div><div class=\"sk-serial\"><div class=\"sk-item\"><div class=\"sk-serial\"><div class=\"sk-item\"><div class=\"sk-estimator  sk-toggleable\"><input class=\"sk-toggleable__control sk-hidden--visually\" id=\"sk-estimator-id-23\" type=\"checkbox\" ><label for=\"sk-estimator-id-23\" class=\"sk-toggleable__label  sk-toggleable__label-arrow\"><div><div>SimpleImputer</div></div><div><a class=\"sk-estimator-doc-link \" rel=\"noreferrer\" target=\"_blank\" href=\"https://scikit-learn.org/1.6/modules/generated/sklearn.impute.SimpleImputer.html\">?<span>Documentation for SimpleImputer</span></a></div></label><div class=\"sk-toggleable__content \"><pre>SimpleImputer(strategy=&#x27;median&#x27;)</pre></div> </div></div><div class=\"sk-item\"><div class=\"sk-estimator  sk-toggleable\"><input class=\"sk-toggleable__control sk-hidden--visually\" id=\"sk-estimator-id-24\" type=\"checkbox\" ><label for=\"sk-estimator-id-24\" class=\"sk-toggleable__label  sk-toggleable__label-arrow\"><div><div>StandardScaler</div></div><div><a class=\"sk-estimator-doc-link \" rel=\"noreferrer\" target=\"_blank\" href=\"https://scikit-learn.org/1.6/modules/generated/sklearn.preprocessing.StandardScaler.html\">?<span>Documentation for StandardScaler</span></a></div></label><div class=\"sk-toggleable__content \"><pre>StandardScaler()</pre></div> </div></div></div></div></div></div></div><div class=\"sk-parallel-item\"><div class=\"sk-item\"><div class=\"sk-label-container\"><div class=\"sk-label  sk-toggleable\"><input class=\"sk-toggleable__control sk-hidden--visually\" id=\"sk-estimator-id-25\" type=\"checkbox\" ><label for=\"sk-estimator-id-25\" class=\"sk-toggleable__label  sk-toggleable__label-arrow\"><div><div>targ_pipeline</div></div></label><div class=\"sk-toggleable__content \"><pre>[&#x27;vehicletype&#x27;, &#x27;gearbox&#x27;, &#x27;name&#x27;, &#x27;fueltype&#x27;, &#x27;repaired&#x27;]</pre></div> </div></div><div class=\"sk-serial\"><div class=\"sk-item\"><div class=\"sk-serial\"><div class=\"sk-item\"><div class=\"sk-estimator  sk-toggleable\"><input class=\"sk-toggleable__control sk-hidden--visually\" id=\"sk-estimator-id-26\" type=\"checkbox\" ><label for=\"sk-estimator-id-26\" class=\"sk-toggleable__label  sk-toggleable__label-arrow\"><div><div>TargetEncoder</div></div><div><a class=\"sk-estimator-doc-link \" rel=\"noreferrer\" target=\"_blank\" href=\"https://scikit-learn.org/1.6/modules/generated/sklearn.preprocessing.TargetEncoder.html\">?<span>Documentation for TargetEncoder</span></a></div></label><div class=\"sk-toggleable__content \"><pre>TargetEncoder(target_type=&#x27;continuous&#x27;)</pre></div> </div></div></div></div></div></div></div><div class=\"sk-parallel-item\"><div class=\"sk-item\"><div class=\"sk-label-container\"><div class=\"sk-label  sk-toggleable\"><input class=\"sk-toggleable__control sk-hidden--visually\" id=\"sk-estimator-id-27\" type=\"checkbox\" ><label for=\"sk-estimator-id-27\" class=\"sk-toggleable__label  sk-toggleable__label-arrow\"><div><div>remainder</div></div></label><div class=\"sk-toggleable__content \"><pre></pre></div> </div></div><div class=\"sk-serial\"><div class=\"sk-item\"><div class=\"sk-estimator  sk-toggleable\"><input class=\"sk-toggleable__control sk-hidden--visually\" id=\"sk-estimator-id-28\" type=\"checkbox\" ><label for=\"sk-estimator-id-28\" class=\"sk-toggleable__label  sk-toggleable__label-arrow\"><div><div>passthrough</div></div></label><div class=\"sk-toggleable__content \"><pre>passthrough</pre></div> </div></div></div></div></div></div></div></div></div>"
      ],
      "text/plain": [
       "ColumnTransformer(n_jobs=-1, remainder='passthrough',\n",
       "                  transformers=[('num_pipeline',\n",
       "                                 Pipeline(steps=[('impute',\n",
       "                                                  SimpleImputer(strategy='median')),\n",
       "                                                 ('scale', StandardScaler())]),\n",
       "                                 ['registrationyear', 'power', 'kilometer']),\n",
       "                                ('targ_pipeline',\n",
       "                                 Pipeline(steps=[('TargetEncoder',\n",
       "                                                  TargetEncoder(target_type='continuous'))]),\n",
       "                                 ['vehicletype', 'gearbox', 'name', 'fueltype',\n",
       "                                  'repaired'])])"
      ]
     },
     "execution_count": 42,
     "metadata": {},
     "output_type": "execute_result"
    }
   ],
   "source": [
    "col_trans_targ = ColumnTransformer(transformers=[\n",
    "    ('num_pipeline',num_pipeline,num_col_names),\n",
    "    ('targ_pipeline',targ_pipeline,cat_col_names)\n",
    "    ],\n",
    "    remainder='passthrough',\n",
    "    n_jobs=-1)\n",
    "col_trans_targ.set_output(transform='pandas')"
   ]
  },
  {
   "cell_type": "markdown",
   "metadata": {},
   "source": [
    "Создадим функции. Одна для сравнения метрики и затраченного времени модели с разными кодировщиками. Другая для получения искомых значений. Будем оценивать результаты для базовой модели и если нужно подбирать гиперпараметры "
   ]
  },
  {
   "cell_type": "code",
   "execution_count": 43,
   "metadata": {},
   "outputs": [],
   "source": [
    "def test (estimator):\n",
    "    #Создаём пайплайны с разными трансформерами\n",
    "    mix = Pipeline(steps=[\n",
    "            ('col_trans_mix', col_trans_mix),\n",
    "            ('model', estimator)\n",
    "        ])\n",
    "    ohe = Pipeline(steps=[\n",
    "            ('col_trans_ohe', col_trans_ohe),\n",
    "            ('model', estimator)\n",
    "        ])\n",
    "    targ = Pipeline(steps=[\n",
    "            ('col_trans_targ', col_trans_targ),\n",
    "            ('model', estimator)\n",
    "        ])\n",
    "    pipelines = [mix, ohe, targ]\n",
    "    i=0\n",
    "    names = ['mix', 'ohe', 'targ']\n",
    "    #Перебираем пайплайны циклом для заданной модели, \n",
    "    #выводим время и метрику\n",
    "    for pipe in pipelines: \n",
    "        print(names[i])\n",
    "        i+=1\n",
    "        cv_results = cross_validate(\n",
    "            pipe,\n",
    "            X_train, \n",
    "            y_train, \n",
    "            cv=3, \n",
    "            scoring='neg_root_mean_squared_error'\n",
    "        )\n",
    "        print('Время обучения:', cv_results['fit_time'].mean())\n",
    "        print('Время предсказания:', cv_results['score_time'].mean())\n",
    "        print(\n",
    "            'RMSE на тестовых данных:', \n",
    "             cv_results['test_score'].mean()\n",
    "        )"
   ]
  },
  {
   "cell_type": "code",
   "execution_count": 44,
   "metadata": {},
   "outputs": [],
   "source": [
    "def result (estimator, transformer=False):\n",
    "    #Если нужно создаем пайплайн с трансформером и моделью\n",
    "    if transformer != False:\n",
    "        pipe = Pipeline(steps=[\n",
    "            ('transformer', transformer),\n",
    "            ('model', estimator)\n",
    "        ])\n",
    "    #Или используем модель без трансформера\n",
    "    else:\n",
    "        pipe = estimator\n",
    "    #Возвращаем время обучения, предсказания и RMSE\n",
    "    cv_results = cross_validate(\n",
    "        pipe,\n",
    "        X_train, \n",
    "        y_train, \n",
    "        cv=3, \n",
    "        scoring='neg_root_mean_squared_error'\n",
    "    )\n",
    "    learn_time = cv_results['fit_time'].mean()\n",
    "    pred_time =  cv_results['score_time'].mean()\n",
    "    pred = cv_results['test_score'].mean()\n",
    "    return learn_time, pred_time, pred"
   ]
  },
  {
   "cell_type": "markdown",
   "metadata": {},
   "source": [
    "Начнем с обычной линейной регрессии. Если другие модели покажут себя хуже, не будем их даже рассматривать"
   ]
  },
  {
   "cell_type": "code",
   "execution_count": 45,
   "metadata": {},
   "outputs": [
    {
     "name": "stdout",
     "output_type": "stream",
     "text": [
      "mix\n",
      "Время обучения: 0.6997876167297363\n",
      "Время предсказания: 0.41582830746968585\n",
      "RMSE на тестовых данных: -2600.8563927226346\n",
      "ohe\n",
      "Время обучения: 5.811546643575032\n",
      "Время предсказания: 1.335587739944458\n",
      "RMSE на тестовых данных: -2479.725702358717\n",
      "targ\n",
      "Время обучения: 0.48474876085917157\n",
      "Время предсказания: 0.27419646581013996\n",
      "RMSE на тестовых данных: -2628.694891622299\n"
     ]
    }
   ],
   "source": [
    "test(LinearRegression())"
   ]
  },
  {
   "cell_type": "markdown",
   "metadata": {},
   "source": [
    "По метрике прошла только модель с OHE, хотя её время обучения в десятки раз больше. Возьмем её показатели"
   ]
  },
  {
   "cell_type": "code",
   "execution_count": 46,
   "metadata": {},
   "outputs": [],
   "source": [
    "linreg_learntime, linreg_predtime, linreg_pred = result(LinearRegression(), col_trans_ohe)"
   ]
  },
  {
   "cell_type": "markdown",
   "metadata": {},
   "source": [
    "Рассмотрим дерево решений с базовыми параметрами"
   ]
  },
  {
   "cell_type": "code",
   "execution_count": 47,
   "metadata": {},
   "outputs": [
    {
     "name": "stdout",
     "output_type": "stream",
     "text": [
      "mix\n",
      "Время обучения: 1.2962639331817627\n",
      "Время предсказания: 0.34048938751220703\n",
      "RMSE на тестовых данных: -2108.319647026553\n",
      "ohe\n",
      "Время обучения: 6.691746791203816\n",
      "Время предсказания: 1.2518273989359539\n",
      "RMSE на тестовых данных: -1885.7396259438274\n",
      "targ\n",
      "Время обучения: 1.233579397201538\n",
      "Время предсказания: 0.30460460980733234\n",
      "RMSE на тестовых данных: -2110.136222476351\n"
     ]
    }
   ],
   "source": [
    "test(DecisionTreeRegressor(random_state=RANDOM_STATE))"
   ]
  },
  {
   "cell_type": "markdown",
   "metadata": {},
   "source": [
    "При использовании только TargetEncoder модель при незначительном ухудшении метрики показывает значительное ускорение вычислений. Переберем некоторые параметры чтобы улучшить качество предсказания"
   ]
  },
  {
   "cell_type": "code",
   "execution_count": 48,
   "metadata": {},
   "outputs": [],
   "source": [
    "parameters_tree = {'max_depth': range(10, 81, 10), \n",
    "              'max_features': range(2, 30), \n",
    "             'min_samples_leaf': range(3, 15,)}"
   ]
  },
  {
   "cell_type": "code",
   "execution_count": 49,
   "metadata": {},
   "outputs": [
    {
     "name": "stdout",
     "output_type": "stream",
     "text": [
      "Лучшая модель и её параметры:\n",
      " DecisionTreeRegressor(max_depth=20, max_features=12, min_samples_leaf=13,\n",
      "                      random_state=42)\n",
      "Метрика лучшей модели на кросс-валидации: -1806.2272119436882\n"
     ]
    }
   ],
   "source": [
    "rand_search_tree = RandomizedSearchCV(\n",
    "    DecisionTreeRegressor(random_state=RANDOM_STATE), \n",
    "    parameters_tree, \n",
    "    scoring='neg_root_mean_squared_error',\n",
    "    n_jobs=-1, \n",
    "    n_iter=20, \n",
    "    random_state=RANDOM_STATE, \n",
    "    cv=3\n",
    ")\n",
    "rand_search_tree.fit(col_trans_targ.fit_transform(X_train, y_train), y_train)\n",
    "print('Лучшая модель и её параметры:\\n', rand_search_tree.best_estimator_)\n",
    "print ('Метрика лучшей модели на кросс-валидации:', rand_search_tree.best_score_)"
   ]
  },
  {
   "cell_type": "code",
   "execution_count": 50,
   "metadata": {},
   "outputs": [],
   "source": [
    "tree_learntime, tree_predtime, tree_pred = result(rand_search_tree.best_estimator_, col_trans_mix)"
   ]
  },
  {
   "cell_type": "markdown",
   "metadata": {},
   "source": [
    "Получим из результатов рандом серча лучшие параметры по времени, а не по метрике"
   ]
  },
  {
   "cell_type": "code",
   "execution_count": 51,
   "metadata": {},
   "outputs": [
    {
     "data": {
      "text/html": [
       "<div>\n",
       "<style scoped>\n",
       "    .dataframe tbody tr th:only-of-type {\n",
       "        vertical-align: middle;\n",
       "    }\n",
       "\n",
       "    .dataframe tbody tr th {\n",
       "        vertical-align: top;\n",
       "    }\n",
       "\n",
       "    .dataframe thead th {\n",
       "        text-align: right;\n",
       "    }\n",
       "</style>\n",
       "<table border=\"1\" class=\"dataframe\">\n",
       "  <thead>\n",
       "    <tr style=\"text-align: right;\">\n",
       "      <th></th>\n",
       "      <th>time</th>\n",
       "      <th>mean_fit_time</th>\n",
       "      <th>mean_score_time</th>\n",
       "      <th>params</th>\n",
       "      <th>mean_test_score</th>\n",
       "    </tr>\n",
       "  </thead>\n",
       "  <tbody>\n",
       "    <tr>\n",
       "      <th>0</th>\n",
       "      <td>0.477006</td>\n",
       "      <td>0.419672</td>\n",
       "      <td>0.057334</td>\n",
       "      <td>{'min_samples_leaf': 8, 'max_features': 2, 'ma...</td>\n",
       "      <td>-1912.735644</td>\n",
       "    </tr>\n",
       "    <tr>\n",
       "      <th>1</th>\n",
       "      <td>0.820479</td>\n",
       "      <td>0.800813</td>\n",
       "      <td>0.019666</td>\n",
       "      <td>{'min_samples_leaf': 13, 'max_features': 12, '...</td>\n",
       "      <td>-1893.962697</td>\n",
       "    </tr>\n",
       "    <tr>\n",
       "      <th>2</th>\n",
       "      <td>0.874295</td>\n",
       "      <td>0.828742</td>\n",
       "      <td>0.045553</td>\n",
       "      <td>{'min_samples_leaf': 6, 'max_features': 5, 'ma...</td>\n",
       "      <td>-1858.039139</td>\n",
       "    </tr>\n",
       "    <tr>\n",
       "      <th>3</th>\n",
       "      <td>0.878959</td>\n",
       "      <td>0.863929</td>\n",
       "      <td>0.015030</td>\n",
       "      <td>{'min_samples_leaf': 9, 'max_features': 29, 'm...</td>\n",
       "      <td>-1895.299591</td>\n",
       "    </tr>\n",
       "    <tr>\n",
       "      <th>4</th>\n",
       "      <td>0.930361</td>\n",
       "      <td>0.909698</td>\n",
       "      <td>0.020663</td>\n",
       "      <td>{'min_samples_leaf': 11, 'max_features': 27, '...</td>\n",
       "      <td>-1811.109317</td>\n",
       "    </tr>\n",
       "    <tr>\n",
       "      <th>5</th>\n",
       "      <td>0.989025</td>\n",
       "      <td>0.964358</td>\n",
       "      <td>0.024668</td>\n",
       "      <td>{'min_samples_leaf': 10, 'max_features': 25, '...</td>\n",
       "      <td>-1814.218353</td>\n",
       "    </tr>\n",
       "    <tr>\n",
       "      <th>6</th>\n",
       "      <td>1.081056</td>\n",
       "      <td>1.051715</td>\n",
       "      <td>0.029341</td>\n",
       "      <td>{'min_samples_leaf': 6, 'max_features': 19, 'm...</td>\n",
       "      <td>-1850.667074</td>\n",
       "    </tr>\n",
       "    <tr>\n",
       "      <th>7</th>\n",
       "      <td>1.085170</td>\n",
       "      <td>1.049755</td>\n",
       "      <td>0.035415</td>\n",
       "      <td>{'min_samples_leaf': 12, 'max_features': 8, 'm...</td>\n",
       "      <td>-1808.281522</td>\n",
       "    </tr>\n",
       "    <tr>\n",
       "      <th>8</th>\n",
       "      <td>1.120732</td>\n",
       "      <td>1.089935</td>\n",
       "      <td>0.030797</td>\n",
       "      <td>{'min_samples_leaf': 13, 'max_features': 25, '...</td>\n",
       "      <td>-1806.876457</td>\n",
       "    </tr>\n",
       "    <tr>\n",
       "      <th>9</th>\n",
       "      <td>1.131825</td>\n",
       "      <td>1.081103</td>\n",
       "      <td>0.050723</td>\n",
       "      <td>{'min_samples_leaf': 13, 'max_features': 12, '...</td>\n",
       "      <td>-1806.227212</td>\n",
       "    </tr>\n",
       "    <tr>\n",
       "      <th>10</th>\n",
       "      <td>1.134195</td>\n",
       "      <td>1.099746</td>\n",
       "      <td>0.034449</td>\n",
       "      <td>{'min_samples_leaf': 11, 'max_features': 17, '...</td>\n",
       "      <td>-1811.111032</td>\n",
       "    </tr>\n",
       "    <tr>\n",
       "      <th>11</th>\n",
       "      <td>1.153102</td>\n",
       "      <td>1.106442</td>\n",
       "      <td>0.046660</td>\n",
       "      <td>{'min_samples_leaf': 14, 'max_features': 11, '...</td>\n",
       "      <td>-1806.489849</td>\n",
       "    </tr>\n",
       "    <tr>\n",
       "      <th>12</th>\n",
       "      <td>1.173768</td>\n",
       "      <td>1.138450</td>\n",
       "      <td>0.035318</td>\n",
       "      <td>{'min_samples_leaf': 12, 'max_features': 14, '...</td>\n",
       "      <td>-1808.281522</td>\n",
       "    </tr>\n",
       "    <tr>\n",
       "      <th>13</th>\n",
       "      <td>1.240923</td>\n",
       "      <td>1.169253</td>\n",
       "      <td>0.071670</td>\n",
       "      <td>{'min_samples_leaf': 6, 'max_features': 16, 'm...</td>\n",
       "      <td>-1850.667074</td>\n",
       "    </tr>\n",
       "    <tr>\n",
       "      <th>14</th>\n",
       "      <td>1.243766</td>\n",
       "      <td>1.194020</td>\n",
       "      <td>0.049745</td>\n",
       "      <td>{'min_samples_leaf': 9, 'max_features': 26, 'm...</td>\n",
       "      <td>-1821.222876</td>\n",
       "    </tr>\n",
       "    <tr>\n",
       "      <th>15</th>\n",
       "      <td>1.256611</td>\n",
       "      <td>1.171941</td>\n",
       "      <td>0.084670</td>\n",
       "      <td>{'min_samples_leaf': 6, 'max_features': 9, 'ma...</td>\n",
       "      <td>-1850.667074</td>\n",
       "    </tr>\n",
       "    <tr>\n",
       "      <th>16</th>\n",
       "      <td>1.269841</td>\n",
       "      <td>1.205840</td>\n",
       "      <td>0.064002</td>\n",
       "      <td>{'min_samples_leaf': 9, 'max_features': 13, 'm...</td>\n",
       "      <td>-1821.222876</td>\n",
       "    </tr>\n",
       "    <tr>\n",
       "      <th>17</th>\n",
       "      <td>1.283314</td>\n",
       "      <td>1.204974</td>\n",
       "      <td>0.078340</td>\n",
       "      <td>{'min_samples_leaf': 5, 'max_features': 21, 'm...</td>\n",
       "      <td>-1869.913471</td>\n",
       "    </tr>\n",
       "    <tr>\n",
       "      <th>18</th>\n",
       "      <td>1.288965</td>\n",
       "      <td>1.207297</td>\n",
       "      <td>0.081668</td>\n",
       "      <td>{'min_samples_leaf': 5, 'max_features': 12, 'm...</td>\n",
       "      <td>-1869.913471</td>\n",
       "    </tr>\n",
       "    <tr>\n",
       "      <th>19</th>\n",
       "      <td>1.347254</td>\n",
       "      <td>1.287436</td>\n",
       "      <td>0.059818</td>\n",
       "      <td>{'min_samples_leaf': 4, 'max_features': 10, 'm...</td>\n",
       "      <td>-1897.728496</td>\n",
       "    </tr>\n",
       "  </tbody>\n",
       "</table>\n",
       "</div>"
      ],
      "text/plain": [
       "        time  mean_fit_time  mean_score_time  \\\n",
       "0   0.477006       0.419672         0.057334   \n",
       "1   0.820479       0.800813         0.019666   \n",
       "2   0.874295       0.828742         0.045553   \n",
       "3   0.878959       0.863929         0.015030   \n",
       "4   0.930361       0.909698         0.020663   \n",
       "5   0.989025       0.964358         0.024668   \n",
       "6   1.081056       1.051715         0.029341   \n",
       "7   1.085170       1.049755         0.035415   \n",
       "8   1.120732       1.089935         0.030797   \n",
       "9   1.131825       1.081103         0.050723   \n",
       "10  1.134195       1.099746         0.034449   \n",
       "11  1.153102       1.106442         0.046660   \n",
       "12  1.173768       1.138450         0.035318   \n",
       "13  1.240923       1.169253         0.071670   \n",
       "14  1.243766       1.194020         0.049745   \n",
       "15  1.256611       1.171941         0.084670   \n",
       "16  1.269841       1.205840         0.064002   \n",
       "17  1.283314       1.204974         0.078340   \n",
       "18  1.288965       1.207297         0.081668   \n",
       "19  1.347254       1.287436         0.059818   \n",
       "\n",
       "                                               params  mean_test_score  \n",
       "0   {'min_samples_leaf': 8, 'max_features': 2, 'ma...     -1912.735644  \n",
       "1   {'min_samples_leaf': 13, 'max_features': 12, '...     -1893.962697  \n",
       "2   {'min_samples_leaf': 6, 'max_features': 5, 'ma...     -1858.039139  \n",
       "3   {'min_samples_leaf': 9, 'max_features': 29, 'm...     -1895.299591  \n",
       "4   {'min_samples_leaf': 11, 'max_features': 27, '...     -1811.109317  \n",
       "5   {'min_samples_leaf': 10, 'max_features': 25, '...     -1814.218353  \n",
       "6   {'min_samples_leaf': 6, 'max_features': 19, 'm...     -1850.667074  \n",
       "7   {'min_samples_leaf': 12, 'max_features': 8, 'm...     -1808.281522  \n",
       "8   {'min_samples_leaf': 13, 'max_features': 25, '...     -1806.876457  \n",
       "9   {'min_samples_leaf': 13, 'max_features': 12, '...     -1806.227212  \n",
       "10  {'min_samples_leaf': 11, 'max_features': 17, '...     -1811.111032  \n",
       "11  {'min_samples_leaf': 14, 'max_features': 11, '...     -1806.489849  \n",
       "12  {'min_samples_leaf': 12, 'max_features': 14, '...     -1808.281522  \n",
       "13  {'min_samples_leaf': 6, 'max_features': 16, 'm...     -1850.667074  \n",
       "14  {'min_samples_leaf': 9, 'max_features': 26, 'm...     -1821.222876  \n",
       "15  {'min_samples_leaf': 6, 'max_features': 9, 'ma...     -1850.667074  \n",
       "16  {'min_samples_leaf': 9, 'max_features': 13, 'm...     -1821.222876  \n",
       "17  {'min_samples_leaf': 5, 'max_features': 21, 'm...     -1869.913471  \n",
       "18  {'min_samples_leaf': 5, 'max_features': 12, 'm...     -1869.913471  \n",
       "19  {'min_samples_leaf': 4, 'max_features': 10, 'm...     -1897.728496  "
      ]
     },
     "execution_count": 51,
     "metadata": {},
     "output_type": "execute_result"
    }
   ],
   "source": [
    "results=pd.DataFrame(rand_search_tree.cv_results_)\n",
    "results['time'] = results['mean_fit_time'] + results['mean_score_time']\n",
    "results = results[[\n",
    "    'time', 'mean_fit_time', 'mean_score_time', 'params', 'mean_test_score'\n",
    "]].sort_values(by='time').reset_index(drop=True)\n",
    "results"
   ]
  },
  {
   "cell_type": "code",
   "execution_count": 52,
   "metadata": {},
   "outputs": [
    {
     "data": {
      "text/plain": [
       "{'min_samples_leaf': 8, 'max_features': 2, 'max_depth': 60}"
      ]
     },
     "execution_count": 52,
     "metadata": {},
     "output_type": "execute_result"
    }
   ],
   "source": [
    "params = results['params'][0]\n",
    "params"
   ]
  },
  {
   "cell_type": "code",
   "execution_count": 53,
   "metadata": {},
   "outputs": [],
   "source": [
    "tree_learntime_2, tree_predtime_2, tree_pred_2 = result(\n",
    "    DecisionTreeRegressor(\n",
    "        **params,\n",
    "        random_state=RANDOM_STATE\n",
    "    ), col_trans_mix)"
   ]
  },
  {
   "cell_type": "markdown",
   "metadata": {},
   "source": [
    "Далее рассмотрим метод ближайших соседей"
   ]
  },
  {
   "cell_type": "code",
   "execution_count": 54,
   "metadata": {},
   "outputs": [
    {
     "name": "stdout",
     "output_type": "stream",
     "text": [
      "mix\n",
      "Время обучения: 0.5921514828999838\n",
      "Время предсказания: 11.779135465621948\n",
      "RMSE на тестовых данных: -2649.3313400203074\n",
      "ohe\n",
      "Время обучения: 2.503581921259562\n",
      "Время предсказания: 53.43381651242574\n",
      "RMSE на тестовых данных: -1730.7791567430604\n",
      "targ\n",
      "Время обучения: 1.0324947834014893\n",
      "Время предсказания: 4.482097625732422\n",
      "RMSE на тестовых данных: -2693.5578520876547\n"
     ]
    }
   ],
   "source": [
    "test(KNeighborsRegressor())"
   ]
  },
  {
   "cell_type": "markdown",
   "metadata": {},
   "source": [
    "Модель достигла искомого значения метрики только с OHE, затратив очень много времени. Такие результаты значительно хуже чем у других моделей, поэтому не будем сохранять эти результаты.\n",
    "\n",
    "Следом рассмотрим рандомный лес. Для ускорения уменьшим максимальную глубину и количество деревьев"
   ]
  },
  {
   "cell_type": "code",
   "execution_count": 55,
   "metadata": {},
   "outputs": [
    {
     "name": "stdout",
     "output_type": "stream",
     "text": [
      "mix\n",
      "Время обучения: 13.547524770100912\n",
      "Время предсказания: 0.5985522270202637\n",
      "RMSE на тестовых данных: -1812.075981426218\n",
      "ohe\n",
      "Время обучения: 75.75982705752055\n",
      "Время предсказания: 1.598491907119751\n",
      "RMSE на тестовых данных: -1878.6524957503307\n",
      "targ\n",
      "Время обучения: 11.640830834706625\n",
      "Время предсказания: 0.5535403887430826\n",
      "RMSE на тестовых данных: -1802.0757390268375\n"
     ]
    }
   ],
   "source": [
    "test(RandomForestRegressor(random_state=RANDOM_STATE, max_depth=10, n_estimators=50))"
   ]
  },
  {
   "cell_type": "markdown",
   "metadata": {},
   "source": [
    "Модель показала неплохие метрики, однако очень долго обучалась и показала себя не лучше отдельного дерева. Дальнейший перебор параметров либо увеличит время, либо ухудшит метрику, поэтому не будем их подбирать. Сохраним лучший по всем показателям результат с текущими параметрами модели"
   ]
  },
  {
   "cell_type": "code",
   "execution_count": 56,
   "metadata": {},
   "outputs": [],
   "source": [
    "rf_learntime, rf_predtime, rf_pred = result(\n",
    "    RandomForestRegressor(random_state=RANDOM_STATE, max_depth=10, n_estimators=50), \n",
    "    col_trans_targ\n",
    ")"
   ]
  },
  {
   "cell_type": "markdown",
   "metadata": {},
   "source": [
    "Далее рассмотрим градиентный бустинг. В него встроен кодировщик, поэтому можно сразу начинать перебор параметров, обучая на \"сырых\" данных. Сразу сохраним результат лучшей модели"
   ]
  },
  {
   "cell_type": "code",
   "execution_count": 57,
   "metadata": {},
   "outputs": [],
   "source": [
    "parameters_lgb = {'num_leaves': range(20, 40, 2), \n",
    "              'learning_rate': np.arange(0.01, 0.9, 0.03)}"
   ]
  },
  {
   "cell_type": "code",
   "execution_count": 58,
   "metadata": {},
   "outputs": [
    {
     "name": "stdout",
     "output_type": "stream",
     "text": [
      "Лучшая модель и её параметры:\n",
      " LGBMRegressor(learning_rate=0.31, num_leaves=38, random_state=42, verbosity=-1)\n",
      "Метрика лучшей модели на кросс-валидации: -1566.4848977492336\n"
     ]
    }
   ],
   "source": [
    "rand_search_lgb = RandomizedSearchCV(\n",
    "    lgb.LGBMRegressor(\n",
    "        random_state=RANDOM_STATE, \n",
    "        verbosity=-1\n",
    "    ), \n",
    "    parameters_lgb, \n",
    "    scoring='neg_root_mean_squared_error',\n",
    "    n_jobs=-1, \n",
    "    n_iter=20, \n",
    "    random_state=RANDOM_STATE,\n",
    "    cv=3\n",
    ")\n",
    "rand_search_lgb.fit(X_train, y_train)\n",
    "print('Лучшая модель и её параметры:\\n', rand_search_lgb.best_estimator_)\n",
    "print ('Метрика лучшей модели на кросс-валидации:', rand_search_lgb.best_score_)"
   ]
  },
  {
   "cell_type": "code",
   "execution_count": 59,
   "metadata": {},
   "outputs": [],
   "source": [
    "lgb_learntime, lgb_predtime, lgb_pred = result(rand_search_lgb.best_estimator_)"
   ]
  },
  {
   "cell_type": "markdown",
   "metadata": {},
   "source": [
    "Аналогично с деревом выбираем лучшие параметры по времени."
   ]
  },
  {
   "cell_type": "code",
   "execution_count": 60,
   "metadata": {},
   "outputs": [
    {
     "data": {
      "text/html": [
       "<div>\n",
       "<style scoped>\n",
       "    .dataframe tbody tr th:only-of-type {\n",
       "        vertical-align: middle;\n",
       "    }\n",
       "\n",
       "    .dataframe tbody tr th {\n",
       "        vertical-align: top;\n",
       "    }\n",
       "\n",
       "    .dataframe thead th {\n",
       "        text-align: right;\n",
       "    }\n",
       "</style>\n",
       "<table border=\"1\" class=\"dataframe\">\n",
       "  <thead>\n",
       "    <tr style=\"text-align: right;\">\n",
       "      <th></th>\n",
       "      <th>time</th>\n",
       "      <th>mean_fit_time</th>\n",
       "      <th>mean_score_time</th>\n",
       "      <th>params</th>\n",
       "      <th>mean_test_score</th>\n",
       "    </tr>\n",
       "  </thead>\n",
       "  <tbody>\n",
       "    <tr>\n",
       "      <th>0</th>\n",
       "      <td>2.209208</td>\n",
       "      <td>2.042276</td>\n",
       "      <td>0.166933</td>\n",
       "      <td>{'num_leaves': 26, 'learning_rate': 0.7}</td>\n",
       "      <td>-1618.859460</td>\n",
       "    </tr>\n",
       "    <tr>\n",
       "      <th>1</th>\n",
       "      <td>2.301723</td>\n",
       "      <td>2.144270</td>\n",
       "      <td>0.157453</td>\n",
       "      <td>{'num_leaves': 30, 'learning_rate': 0.49}</td>\n",
       "      <td>-1589.614264</td>\n",
       "    </tr>\n",
       "    <tr>\n",
       "      <th>2</th>\n",
       "      <td>2.534263</td>\n",
       "      <td>2.357715</td>\n",
       "      <td>0.176548</td>\n",
       "      <td>{'num_leaves': 26, 'learning_rate': 0.61}</td>\n",
       "      <td>-1610.820332</td>\n",
       "    </tr>\n",
       "    <tr>\n",
       "      <th>3</th>\n",
       "      <td>2.619202</td>\n",
       "      <td>2.456838</td>\n",
       "      <td>0.162364</td>\n",
       "      <td>{'num_leaves': 22, 'learning_rate': 0.66999999...</td>\n",
       "      <td>-1616.761751</td>\n",
       "    </tr>\n",
       "    <tr>\n",
       "      <th>4</th>\n",
       "      <td>2.625295</td>\n",
       "      <td>2.478976</td>\n",
       "      <td>0.146319</td>\n",
       "      <td>{'num_leaves': 22, 'learning_rate': 0.64}</td>\n",
       "      <td>-1614.530013</td>\n",
       "    </tr>\n",
       "    <tr>\n",
       "      <th>5</th>\n",
       "      <td>2.748348</td>\n",
       "      <td>2.624109</td>\n",
       "      <td>0.124239</td>\n",
       "      <td>{'num_leaves': 30, 'learning_rate': 0.52}</td>\n",
       "      <td>-1592.360659</td>\n",
       "    </tr>\n",
       "    <tr>\n",
       "      <th>6</th>\n",
       "      <td>2.820421</td>\n",
       "      <td>2.555573</td>\n",
       "      <td>0.264848</td>\n",
       "      <td>{'num_leaves': 38, 'learning_rate': 0.31}</td>\n",
       "      <td>-1566.484898</td>\n",
       "    </tr>\n",
       "    <tr>\n",
       "      <th>7</th>\n",
       "      <td>2.935338</td>\n",
       "      <td>2.802994</td>\n",
       "      <td>0.132344</td>\n",
       "      <td>{'num_leaves': 24, 'learning_rate': 0.45999999...</td>\n",
       "      <td>-1588.725275</td>\n",
       "    </tr>\n",
       "    <tr>\n",
       "      <th>8</th>\n",
       "      <td>2.939615</td>\n",
       "      <td>2.807722</td>\n",
       "      <td>0.131893</td>\n",
       "      <td>{'num_leaves': 36, 'learning_rate': 0.43}</td>\n",
       "      <td>-1578.410803</td>\n",
       "    </tr>\n",
       "    <tr>\n",
       "      <th>9</th>\n",
       "      <td>2.971959</td>\n",
       "      <td>2.851456</td>\n",
       "      <td>0.120502</td>\n",
       "      <td>{'num_leaves': 32, 'learning_rate': 0.66999999...</td>\n",
       "      <td>-1616.200747</td>\n",
       "    </tr>\n",
       "    <tr>\n",
       "      <th>10</th>\n",
       "      <td>3.147258</td>\n",
       "      <td>3.004819</td>\n",
       "      <td>0.142439</td>\n",
       "      <td>{'num_leaves': 24, 'learning_rate': 0.55}</td>\n",
       "      <td>-1601.188311</td>\n",
       "    </tr>\n",
       "    <tr>\n",
       "      <th>11</th>\n",
       "      <td>3.199730</td>\n",
       "      <td>3.009473</td>\n",
       "      <td>0.190257</td>\n",
       "      <td>{'num_leaves': 30, 'learning_rate': 0.13}</td>\n",
       "      <td>-1585.783517</td>\n",
       "    </tr>\n",
       "    <tr>\n",
       "      <th>12</th>\n",
       "      <td>3.271893</td>\n",
       "      <td>3.142509</td>\n",
       "      <td>0.129384</td>\n",
       "      <td>{'num_leaves': 34, 'learning_rate': 0.7}</td>\n",
       "      <td>-1616.287830</td>\n",
       "    </tr>\n",
       "    <tr>\n",
       "      <th>13</th>\n",
       "      <td>3.387875</td>\n",
       "      <td>3.246536</td>\n",
       "      <td>0.141340</td>\n",
       "      <td>{'num_leaves': 32, 'learning_rate': 0.58}</td>\n",
       "      <td>-1600.480759</td>\n",
       "    </tr>\n",
       "    <tr>\n",
       "      <th>14</th>\n",
       "      <td>3.398491</td>\n",
       "      <td>3.237665</td>\n",
       "      <td>0.160826</td>\n",
       "      <td>{'num_leaves': 36, 'learning_rate': 0.64}</td>\n",
       "      <td>-1604.132366</td>\n",
       "    </tr>\n",
       "    <tr>\n",
       "      <th>15</th>\n",
       "      <td>3.563064</td>\n",
       "      <td>3.431925</td>\n",
       "      <td>0.131139</td>\n",
       "      <td>{'num_leaves': 38, 'learning_rate': 0.85}</td>\n",
       "      <td>-1649.319747</td>\n",
       "    </tr>\n",
       "    <tr>\n",
       "      <th>16</th>\n",
       "      <td>3.954216</td>\n",
       "      <td>3.790466</td>\n",
       "      <td>0.163750</td>\n",
       "      <td>{'num_leaves': 34, 'learning_rate': 0.16}</td>\n",
       "      <td>-1572.946128</td>\n",
       "    </tr>\n",
       "    <tr>\n",
       "      <th>17</th>\n",
       "      <td>4.256308</td>\n",
       "      <td>4.121280</td>\n",
       "      <td>0.135028</td>\n",
       "      <td>{'num_leaves': 32, 'learning_rate': 0.79}</td>\n",
       "      <td>-1638.350686</td>\n",
       "    </tr>\n",
       "    <tr>\n",
       "      <th>18</th>\n",
       "      <td>4.295018</td>\n",
       "      <td>4.129747</td>\n",
       "      <td>0.165271</td>\n",
       "      <td>{'num_leaves': 30, 'learning_rate': 0.01}</td>\n",
       "      <td>-2521.981883</td>\n",
       "    </tr>\n",
       "    <tr>\n",
       "      <th>19</th>\n",
       "      <td>5.235606</td>\n",
       "      <td>4.881476</td>\n",
       "      <td>0.354130</td>\n",
       "      <td>{'num_leaves': 38, 'learning_rate': 0.01}</td>\n",
       "      <td>-2490.395383</td>\n",
       "    </tr>\n",
       "  </tbody>\n",
       "</table>\n",
       "</div>"
      ],
      "text/plain": [
       "        time  mean_fit_time  mean_score_time  \\\n",
       "0   2.209208       2.042276         0.166933   \n",
       "1   2.301723       2.144270         0.157453   \n",
       "2   2.534263       2.357715         0.176548   \n",
       "3   2.619202       2.456838         0.162364   \n",
       "4   2.625295       2.478976         0.146319   \n",
       "5   2.748348       2.624109         0.124239   \n",
       "6   2.820421       2.555573         0.264848   \n",
       "7   2.935338       2.802994         0.132344   \n",
       "8   2.939615       2.807722         0.131893   \n",
       "9   2.971959       2.851456         0.120502   \n",
       "10  3.147258       3.004819         0.142439   \n",
       "11  3.199730       3.009473         0.190257   \n",
       "12  3.271893       3.142509         0.129384   \n",
       "13  3.387875       3.246536         0.141340   \n",
       "14  3.398491       3.237665         0.160826   \n",
       "15  3.563064       3.431925         0.131139   \n",
       "16  3.954216       3.790466         0.163750   \n",
       "17  4.256308       4.121280         0.135028   \n",
       "18  4.295018       4.129747         0.165271   \n",
       "19  5.235606       4.881476         0.354130   \n",
       "\n",
       "                                               params  mean_test_score  \n",
       "0            {'num_leaves': 26, 'learning_rate': 0.7}     -1618.859460  \n",
       "1           {'num_leaves': 30, 'learning_rate': 0.49}     -1589.614264  \n",
       "2           {'num_leaves': 26, 'learning_rate': 0.61}     -1610.820332  \n",
       "3   {'num_leaves': 22, 'learning_rate': 0.66999999...     -1616.761751  \n",
       "4           {'num_leaves': 22, 'learning_rate': 0.64}     -1614.530013  \n",
       "5           {'num_leaves': 30, 'learning_rate': 0.52}     -1592.360659  \n",
       "6           {'num_leaves': 38, 'learning_rate': 0.31}     -1566.484898  \n",
       "7   {'num_leaves': 24, 'learning_rate': 0.45999999...     -1588.725275  \n",
       "8           {'num_leaves': 36, 'learning_rate': 0.43}     -1578.410803  \n",
       "9   {'num_leaves': 32, 'learning_rate': 0.66999999...     -1616.200747  \n",
       "10          {'num_leaves': 24, 'learning_rate': 0.55}     -1601.188311  \n",
       "11          {'num_leaves': 30, 'learning_rate': 0.13}     -1585.783517  \n",
       "12           {'num_leaves': 34, 'learning_rate': 0.7}     -1616.287830  \n",
       "13          {'num_leaves': 32, 'learning_rate': 0.58}     -1600.480759  \n",
       "14          {'num_leaves': 36, 'learning_rate': 0.64}     -1604.132366  \n",
       "15          {'num_leaves': 38, 'learning_rate': 0.85}     -1649.319747  \n",
       "16          {'num_leaves': 34, 'learning_rate': 0.16}     -1572.946128  \n",
       "17          {'num_leaves': 32, 'learning_rate': 0.79}     -1638.350686  \n",
       "18          {'num_leaves': 30, 'learning_rate': 0.01}     -2521.981883  \n",
       "19          {'num_leaves': 38, 'learning_rate': 0.01}     -2490.395383  "
      ]
     },
     "execution_count": 60,
     "metadata": {},
     "output_type": "execute_result"
    }
   ],
   "source": [
    "results=pd.DataFrame(rand_search_lgb.cv_results_)\n",
    "results['time'] = results['mean_fit_time'] + results['mean_score_time']\n",
    "results = results[[\n",
    "    'time', 'mean_fit_time', 'mean_score_time', 'params', 'mean_test_score'\n",
    "]].sort_values(by='time').reset_index(drop=True)\n",
    "results"
   ]
  },
  {
   "cell_type": "code",
   "execution_count": 61,
   "metadata": {},
   "outputs": [
    {
     "data": {
      "text/plain": [
       "{'num_leaves': 26, 'learning_rate': 0.7}"
      ]
     },
     "execution_count": 61,
     "metadata": {},
     "output_type": "execute_result"
    }
   ],
   "source": [
    "params = results['params'][0]\n",
    "params"
   ]
  },
  {
   "cell_type": "code",
   "execution_count": 62,
   "metadata": {},
   "outputs": [],
   "source": [
    "lgb_learntime_2, lgb_predtime_2, lgb_pred_2 = result(\n",
    "    lgb.LGBMRegressor(\n",
    "        **params,\n",
    "        random_state=RANDOM_STATE, \n",
    "        verbosity=-1\n",
    "    ))"
   ]
  },
  {
   "cell_type": "markdown",
   "metadata": {},
   "source": [
    "## Анализ моделей"
   ]
  },
  {
   "cell_type": "markdown",
   "metadata": {},
   "source": [
    "Построим графики и таблицу для сравнения разных моделей, добавив суммарное время на обучение и предсказания"
   ]
  },
  {
   "cell_type": "code",
   "execution_count": 63,
   "metadata": {},
   "outputs": [],
   "source": [
    "df = {\n",
    "    'model': ['linear', 'tree', 'tree+', 'rf', 'lgb', 'lgb+'],\n",
    "    'prediction': [linreg_pred, tree_pred, tree_pred_2, rf_pred, lgb_pred, lgb_pred_2],\n",
    "    'pred_time': [linreg_predtime, tree_predtime, tree_predtime_2, rf_predtime, lgb_predtime, lgb_predtime_2],\n",
    "    'learn_time': [linreg_learntime, tree_learntime, tree_learntime_2, rf_learntime, lgb_learntime, lgb_learntime_2]\n",
    "}\n",
    "models = pd.DataFrame(df)\n",
    "models['sum_time'] = models['pred_time'] + models['learn_time']\n",
    "models['prediction'] = models['prediction'] * -1"
   ]
  },
  {
   "cell_type": "code",
   "execution_count": 64,
   "metadata": {},
   "outputs": [],
   "source": [
    "def dia_bar(col, name, ytitle):\n",
    "    sns.barplot(x='model', data=models, y=col)\n",
    "    plt.title(name)\n",
    "    plt.ylabel(ytitle)\n",
    "    plt.xlabel('Модель')\n",
    "    plt.grid(True) "
   ]
  },
  {
   "cell_type": "code",
   "execution_count": 65,
   "metadata": {},
   "outputs": [
    {
     "data": {
      "image/png": "[encoded data removed]",
      "text/plain": [
       "<Figure size 1000x800 with 4 Axes>"
      ]
     },
     "metadata": {},
     "output_type": "display_data"
    },
    {
     "data": {
      "text/html": [
       "<div>\n",
       "<style scoped>\n",
       "    .dataframe tbody tr th:only-of-type {\n",
       "        vertical-align: middle;\n",
       "    }\n",
       "\n",
       "    .dataframe tbody tr th {\n",
       "        vertical-align: top;\n",
       "    }\n",
       "\n",
       "    .dataframe thead th {\n",
       "        text-align: right;\n",
       "    }\n",
       "</style>\n",
       "<table border=\"1\" class=\"dataframe\">\n",
       "  <thead>\n",
       "    <tr style=\"text-align: right;\">\n",
       "      <th></th>\n",
       "      <th>model</th>\n",
       "      <th>prediction</th>\n",
       "      <th>pred_time</th>\n",
       "      <th>learn_time</th>\n",
       "      <th>sum_time</th>\n",
       "    </tr>\n",
       "  </thead>\n",
       "  <tbody>\n",
       "    <tr>\n",
       "      <th>0</th>\n",
       "      <td>linear</td>\n",
       "      <td>2479.725702</td>\n",
       "      <td>1.245162</td>\n",
       "      <td>5.842551</td>\n",
       "      <td>7.087713</td>\n",
       "    </tr>\n",
       "    <tr>\n",
       "      <th>1</th>\n",
       "      <td>tree</td>\n",
       "      <td>1797.897390</td>\n",
       "      <td>0.316887</td>\n",
       "      <td>0.886485</td>\n",
       "      <td>1.203372</td>\n",
       "    </tr>\n",
       "    <tr>\n",
       "      <th>2</th>\n",
       "      <td>tree+</td>\n",
       "      <td>2194.066096</td>\n",
       "      <td>0.301169</td>\n",
       "      <td>0.645813</td>\n",
       "      <td>0.946982</td>\n",
       "    </tr>\n",
       "    <tr>\n",
       "      <th>3</th>\n",
       "      <td>rf</td>\n",
       "      <td>1802.509057</td>\n",
       "      <td>0.549910</td>\n",
       "      <td>11.622794</td>\n",
       "      <td>12.172704</td>\n",
       "    </tr>\n",
       "    <tr>\n",
       "      <th>4</th>\n",
       "      <td>lgb</td>\n",
       "      <td>1566.484898</td>\n",
       "      <td>0.093088</td>\n",
       "      <td>0.376906</td>\n",
       "      <td>0.469994</td>\n",
       "    </tr>\n",
       "    <tr>\n",
       "      <th>5</th>\n",
       "      <td>lgb+</td>\n",
       "      <td>1618.859460</td>\n",
       "      <td>0.068999</td>\n",
       "      <td>0.338758</td>\n",
       "      <td>0.407758</td>\n",
       "    </tr>\n",
       "  </tbody>\n",
       "</table>\n",
       "</div>"
      ],
      "text/plain": [
       "    model   prediction  pred_time  learn_time   sum_time\n",
       "0  linear  2479.725702   1.245162    5.842551   7.087713\n",
       "1    tree  1797.897390   0.316887    0.886485   1.203372\n",
       "2   tree+  2194.066096   0.301169    0.645813   0.946982\n",
       "3      rf  1802.509057   0.549910   11.622794  12.172704\n",
       "4     lgb  1566.484898   0.093088    0.376906   0.469994\n",
       "5    lgb+  1618.859460   0.068999    0.338758   0.407758"
      ]
     },
     "metadata": {},
     "output_type": "display_data"
    }
   ],
   "source": [
    "col = ['prediction', 'pred_time', 'learn_time', 'sum_time']\n",
    "name = ['RMSE', 'Время на предсказание', 'Время на обучение', 'Суммарное время']\n",
    "y = ['Значение метрики', 'Секунды', 'Секунды', 'Секунды']\n",
    "plt.figure(figsize=(10, 8))\n",
    "plt.subplots_adjust(hspace=0.3)\n",
    "for i in range(0, len(col)):\n",
    "           plt.subplot(2, 2, (i+1))\n",
    "           dia_bar(col[i], name[i], y[i])\n",
    "plt.show() \n",
    "display(models)"
   ]
  },
  {
   "cell_type": "markdown",
   "metadata": {},
   "source": [
    "Наилучшим образом по значению метрики выглядит градиентный бустинг, чуть хуже примерно на одном уровне находятся рандомный лес и дерево решений. По затраченому времени отдельное дерево лидирует, с разницей в десятые доли секунды следом идёт градиентный бустинг. Остальные модели показали себя значительно хуже.\n",
    "**Для быстрых и точных предсказаний следует взять модель градиентного бустинга, если важнее точность, либо дерево решений, если важнее скорость предсказания**\n",
    "Для дальнейшего улучшения модели вне зависимости от выбора следует собирать больше данных, особенно про дорогие автомобили, информации о которых было мало в предоставленных данных. Кроме того, следует обратить внимание на сбор информации о годе регистрации, в котором встречались невозможные значения"
   ]
  },
  {
   "cell_type": "markdown",
   "metadata": {},
   "source": [
    "## Финальный вывод"
   ]
  },
  {
   "cell_type": "markdown",
   "metadata": {},
   "source": [
    "**Предобработка данных**\n",
    "Для обучения моделей предсказания цены автомобиля были получены исторические данные о продажах за 2014-2016 год, всего 354368 записей. В результате предобработки были исключены бесполезные признаки, создан новый признак на основе существующих. Были исправлены названия столбцов и удалены дубликаты"
   ]
  },
  {
   "cell_type": "markdown",
   "metadata": {},
   "source": [
    "**Исследовательский анализ**\n",
    "В результате исследовательского анализа были обнаружены и удалены 7% некорректных и аномальных данных. Кроме того, были обнаружены данные с выбросами, дисбалансом и один признак с большим количеством уникальных категорий"
   ]
  },
  {
   "cell_type": "markdown",
   "metadata": {},
   "source": [
    "**Корреляционный анализ**\n",
    "Целевой признак средне или слабо коррелирует с другими, мультиколлинеарность отсутствует"
   ]
  },
  {
   "cell_type": "markdown",
   "metadata": {},
   "source": [
    "**Обучение моделей**\n",
    "Для выбора оптимальной модели были протестированы несколько вариантов кодирования данных, по возможности подобраны гиперпараметры. Рассмотрены такие модели как линейная регрессия, дерево решений, метод ближайших соседей, случайный лес и градиентный бустинг, получены метрики и время обучения для сравнения. Метод ближайших соседей показал себя хуже базовой линейной модели, поэтому был исключен из рассмотрения."
   ]
  },
  {
   "cell_type": "markdown",
   "metadata": {},
   "source": [
    "**Анализ моделей и рекомендации**\n",
    "Лучше всего себя показали градиентный бустинг и дерево решений. В первом случае была выше точность, во втором - незначительно выше скорость. Для дальнейшего улучшения модели стоит собирать больше данных, особенно о дорогих автомобилях, а также следить за чистотой и качеством сбора данных"
   ]
  },
  {
   "cell_type": "code",
   "execution_count": null,
   "metadata": {},
   "outputs": [],
   "source": []
  }
 ],
 "metadata": {
  "ExecuteTimeLog": [
   {
    "duration": 11434,
    "start_time": "2025-02-18T14:38:14.505Z"
   },
   {
    "duration": 3367,
    "start_time": "2025-02-18T14:38:25.942Z"
   },
   {
    "duration": 1929,
    "start_time": "2025-02-18T14:38:29.312Z"
   },
   {
    "duration": 4,
    "start_time": "2025-02-18T14:40:12.589Z"
   },
   {
    "duration": 1020,
    "start_time": "2025-02-18T14:40:13.233Z"
   },
   {
    "duration": 184,
    "start_time": "2025-02-18T14:40:15.178Z"
   },
   {
    "duration": 1231,
    "start_time": "2025-02-18T14:53:35.460Z"
   },
   {
    "duration": 130,
    "start_time": "2025-02-18T14:53:38.826Z"
   },
   {
    "duration": 296,
    "start_time": "2025-02-18T15:04:23.287Z"
   },
   {
    "duration": 626,
    "start_time": "2025-02-18T15:06:37.531Z"
   },
   {
    "duration": 4,
    "start_time": "2025-02-18T15:09:06.939Z"
   },
   {
    "duration": 123,
    "start_time": "2025-02-18T15:09:27.283Z"
   },
   {
    "duration": 12,
    "start_time": "2025-02-18T15:11:38.247Z"
   },
   {
    "duration": 4,
    "start_time": "2025-02-18T15:11:55.859Z"
   },
   {
    "duration": 3526,
    "start_time": "2025-02-18T15:12:37.867Z"
   },
   {
    "duration": 2770,
    "start_time": "2025-02-18T15:12:41.396Z"
   },
   {
    "duration": 1454,
    "start_time": "2025-02-18T15:12:44.169Z"
   },
   {
    "duration": 3,
    "start_time": "2025-02-18T15:12:45.625Z"
   },
   {
    "duration": 1305,
    "start_time": "2025-02-18T15:12:45.630Z"
   },
   {
    "duration": 172,
    "start_time": "2025-02-18T15:12:46.938Z"
   },
   {
    "duration": 5,
    "start_time": "2025-02-18T15:12:47.113Z"
   },
   {
    "duration": 406,
    "start_time": "2025-02-18T15:12:47.121Z"
   },
   {
    "duration": 753,
    "start_time": "2025-02-18T15:12:47.529Z"
   },
   {
    "duration": 4,
    "start_time": "2025-02-18T15:13:02.358Z"
   },
   {
    "duration": 135,
    "start_time": "2025-02-18T15:13:09.895Z"
   },
   {
    "duration": 98,
    "start_time": "2025-02-18T15:18:23.660Z"
   },
   {
    "duration": 112,
    "start_time": "2025-02-18T15:26:06.640Z"
   },
   {
    "duration": 97,
    "start_time": "2025-02-18T15:26:13.286Z"
   },
   {
    "duration": 194,
    "start_time": "2025-02-18T15:26:13.697Z"
   },
   {
    "duration": 4,
    "start_time": "2025-02-18T15:27:24.234Z"
   },
   {
    "duration": 4,
    "start_time": "2025-02-18T15:27:24.941Z"
   },
   {
    "duration": 5,
    "start_time": "2025-02-18T15:27:25.527Z"
   },
   {
    "duration": 216,
    "start_time": "2025-02-18T15:27:28.107Z"
   },
   {
    "duration": 472,
    "start_time": "2025-02-18T15:28:41.822Z"
   },
   {
    "duration": 290,
    "start_time": "2025-02-18T15:29:50.348Z"
   },
   {
    "duration": 234,
    "start_time": "2025-02-18T15:31:08.992Z"
   },
   {
    "duration": 354,
    "start_time": "2025-02-18T15:32:39.208Z"
   },
   {
    "duration": 284,
    "start_time": "2025-02-18T15:33:35.994Z"
   },
   {
    "duration": 104,
    "start_time": "2025-02-18T15:35:03.451Z"
   },
   {
    "duration": 10,
    "start_time": "2025-02-18T15:36:04.740Z"
   },
   {
    "duration": 11,
    "start_time": "2025-02-18T15:36:21.198Z"
   },
   {
    "duration": 10,
    "start_time": "2025-02-18T15:36:33.627Z"
   },
   {
    "duration": 4,
    "start_time": "2025-02-18T15:44:02.897Z"
   },
   {
    "duration": 9,
    "start_time": "2025-02-18T15:51:22.417Z"
   },
   {
    "duration": 20,
    "start_time": "2025-02-18T15:51:36.383Z"
   },
   {
    "duration": 225,
    "start_time": "2025-02-18T15:53:02.020Z"
   },
   {
    "duration": 3422,
    "start_time": "2025-02-18T16:03:29.560Z"
   },
   {
    "duration": 2614,
    "start_time": "2025-02-18T16:03:32.984Z"
   },
   {
    "duration": 1473,
    "start_time": "2025-02-18T16:03:35.601Z"
   },
   {
    "duration": 3,
    "start_time": "2025-02-18T16:03:37.075Z"
   },
   {
    "duration": 1118,
    "start_time": "2025-02-18T16:03:37.080Z"
   },
   {
    "duration": 129,
    "start_time": "2025-02-18T16:03:38.200Z"
   },
   {
    "duration": 3,
    "start_time": "2025-02-18T16:03:38.330Z"
   },
   {
    "duration": 34,
    "start_time": "2025-02-18T16:03:38.334Z"
   },
   {
    "duration": 213,
    "start_time": "2025-02-18T16:03:38.369Z"
   },
   {
    "duration": 419,
    "start_time": "2025-02-18T16:03:38.584Z"
   },
   {
    "duration": 89,
    "start_time": "2025-02-18T16:03:39.004Z"
   },
   {
    "duration": 4,
    "start_time": "2025-02-18T16:03:39.094Z"
   },
   {
    "duration": 4,
    "start_time": "2025-02-18T16:03:39.100Z"
   },
   {
    "duration": 4,
    "start_time": "2025-02-18T16:03:39.106Z"
   },
   {
    "duration": 71,
    "start_time": "2025-02-18T16:03:39.111Z"
   },
   {
    "duration": 282,
    "start_time": "2025-02-18T16:04:11.099Z"
   },
   {
    "duration": 161,
    "start_time": "2025-02-18T16:04:17.539Z"
   },
   {
    "duration": 329,
    "start_time": "2025-02-18T16:04:22.191Z"
   },
   {
    "duration": 2246,
    "start_time": "2025-02-18T16:09:43.391Z"
   },
   {
    "duration": 2350,
    "start_time": "2025-02-18T16:11:19.330Z"
   },
   {
    "duration": 54424,
    "start_time": "2025-02-18T16:11:57.742Z"
   },
   {
    "duration": 5,
    "start_time": "2025-02-18T16:13:46.657Z"
   },
   {
    "duration": 8,
    "start_time": "2025-02-18T16:14:16.846Z"
   },
   {
    "duration": 17,
    "start_time": "2025-02-18T16:14:34.966Z"
   },
   {
    "duration": 32,
    "start_time": "2025-02-18T16:14:56.535Z"
   },
   {
    "duration": 34,
    "start_time": "2025-02-18T16:21:00.356Z"
   },
   {
    "duration": 59531,
    "start_time": "2025-02-18T16:21:02.662Z"
   },
   {
    "duration": 20,
    "start_time": "2025-02-18T16:22:14.424Z"
   },
   {
    "duration": 2433,
    "start_time": "2025-02-18T16:23:15.091Z"
   },
   {
    "duration": 19,
    "start_time": "2025-02-18T16:24:01.523Z"
   },
   {
    "duration": 7754,
    "start_time": "2025-02-18T16:24:02.951Z"
   },
   {
    "duration": 3800,
    "start_time": "2025-02-18T16:24:38.598Z"
   },
   {
    "duration": 2944,
    "start_time": "2025-02-18T16:24:42.400Z"
   },
   {
    "duration": 1523,
    "start_time": "2025-02-18T16:24:45.346Z"
   },
   {
    "duration": 3,
    "start_time": "2025-02-18T16:24:46.871Z"
   },
   {
    "duration": 1172,
    "start_time": "2025-02-18T16:24:46.876Z"
   },
   {
    "duration": 147,
    "start_time": "2025-02-18T16:24:48.050Z"
   },
   {
    "duration": 3,
    "start_time": "2025-02-18T16:24:48.199Z"
   },
   {
    "duration": 42,
    "start_time": "2025-02-18T16:24:48.204Z"
   },
   {
    "duration": 241,
    "start_time": "2025-02-18T16:24:48.248Z"
   },
   {
    "duration": 384,
    "start_time": "2025-02-18T16:24:48.491Z"
   },
   {
    "duration": 101,
    "start_time": "2025-02-18T16:24:48.877Z"
   },
   {
    "duration": 5,
    "start_time": "2025-02-18T16:24:48.979Z"
   },
   {
    "duration": 4,
    "start_time": "2025-02-18T16:24:48.985Z"
   },
   {
    "duration": 5,
    "start_time": "2025-02-18T16:24:48.991Z"
   },
   {
    "duration": 81,
    "start_time": "2025-02-18T16:24:48.997Z"
   },
   {
    "duration": 25,
    "start_time": "2025-02-18T16:24:49.079Z"
   },
   {
    "duration": 17,
    "start_time": "2025-02-18T16:24:49.106Z"
   },
   {
    "duration": 2457,
    "start_time": "2025-02-18T16:24:49.125Z"
   },
   {
    "duration": 1549,
    "start_time": "2025-02-18T16:26:00.121Z"
   },
   {
    "duration": 5,
    "start_time": "2025-02-18T16:26:18.761Z"
   },
   {
    "duration": 354,
    "start_time": "2025-02-18T16:26:22.657Z"
   },
   {
    "duration": 3227,
    "start_time": "2025-02-18T16:26:59.685Z"
   },
   {
    "duration": 2573,
    "start_time": "2025-02-18T16:27:02.914Z"
   },
   {
    "duration": 1351,
    "start_time": "2025-02-18T16:27:05.489Z"
   },
   {
    "duration": 3,
    "start_time": "2025-02-18T16:27:06.841Z"
   },
   {
    "duration": 1094,
    "start_time": "2025-02-18T16:27:06.846Z"
   },
   {
    "duration": 148,
    "start_time": "2025-02-18T16:27:07.942Z"
   },
   {
    "duration": 3,
    "start_time": "2025-02-18T16:27:08.091Z"
   },
   {
    "duration": 64,
    "start_time": "2025-02-18T16:27:08.096Z"
   },
   {
    "duration": 242,
    "start_time": "2025-02-18T16:27:08.163Z"
   },
   {
    "duration": 420,
    "start_time": "2025-02-18T16:27:08.406Z"
   },
   {
    "duration": 96,
    "start_time": "2025-02-18T16:27:08.828Z"
   },
   {
    "duration": 18,
    "start_time": "2025-02-18T16:27:08.926Z"
   },
   {
    "duration": 10,
    "start_time": "2025-02-18T16:27:08.946Z"
   },
   {
    "duration": 13,
    "start_time": "2025-02-18T16:27:08.959Z"
   },
   {
    "duration": 59,
    "start_time": "2025-02-18T16:27:08.974Z"
   },
   {
    "duration": 26,
    "start_time": "2025-02-18T16:27:09.035Z"
   },
   {
    "duration": 61,
    "start_time": "2025-02-18T16:27:09.062Z"
   },
   {
    "duration": 399,
    "start_time": "2025-02-18T16:27:09.125Z"
   },
   {
    "duration": 3258,
    "start_time": "2025-02-18T16:28:03.506Z"
   },
   {
    "duration": 2570,
    "start_time": "2025-02-18T16:28:06.768Z"
   },
   {
    "duration": 1329,
    "start_time": "2025-02-18T16:28:09.339Z"
   },
   {
    "duration": 4,
    "start_time": "2025-02-18T16:28:10.670Z"
   },
   {
    "duration": 1173,
    "start_time": "2025-02-18T16:28:10.677Z"
   },
   {
    "duration": 143,
    "start_time": "2025-02-18T16:28:11.852Z"
   },
   {
    "duration": 3,
    "start_time": "2025-02-18T16:28:11.998Z"
   },
   {
    "duration": 50,
    "start_time": "2025-02-18T16:28:12.003Z"
   },
   {
    "duration": 228,
    "start_time": "2025-02-18T16:28:12.055Z"
   },
   {
    "duration": 387,
    "start_time": "2025-02-18T16:28:12.284Z"
   },
   {
    "duration": 78,
    "start_time": "2025-02-18T16:28:12.676Z"
   },
   {
    "duration": 6,
    "start_time": "2025-02-18T16:28:12.762Z"
   },
   {
    "duration": 10,
    "start_time": "2025-02-18T16:28:12.770Z"
   },
   {
    "duration": 20,
    "start_time": "2025-02-18T16:28:12.782Z"
   },
   {
    "duration": 65,
    "start_time": "2025-02-18T16:28:12.804Z"
   },
   {
    "duration": 29,
    "start_time": "2025-02-18T16:28:12.871Z"
   },
   {
    "duration": 24,
    "start_time": "2025-02-18T16:28:12.902Z"
   },
   {
    "duration": 496,
    "start_time": "2025-02-18T16:28:12.927Z"
   },
   {
    "duration": 4027,
    "start_time": "2025-02-18T16:28:51.544Z"
   },
   {
    "duration": 2719,
    "start_time": "2025-02-18T16:28:55.573Z"
   },
   {
    "duration": 1351,
    "start_time": "2025-02-18T16:28:58.295Z"
   },
   {
    "duration": 2,
    "start_time": "2025-02-18T16:28:59.648Z"
   },
   {
    "duration": 1130,
    "start_time": "2025-02-18T16:28:59.652Z"
   },
   {
    "duration": 157,
    "start_time": "2025-02-18T16:29:00.784Z"
   },
   {
    "duration": 3,
    "start_time": "2025-02-18T16:29:00.942Z"
   },
   {
    "duration": 51,
    "start_time": "2025-02-18T16:29:00.946Z"
   },
   {
    "duration": 218,
    "start_time": "2025-02-18T16:29:00.999Z"
   },
   {
    "duration": 406,
    "start_time": "2025-02-18T16:29:01.219Z"
   },
   {
    "duration": 120,
    "start_time": "2025-02-18T16:29:01.627Z"
   },
   {
    "duration": 13,
    "start_time": "2025-02-18T16:29:01.748Z"
   },
   {
    "duration": 47,
    "start_time": "2025-02-18T16:29:01.763Z"
   },
   {
    "duration": 10,
    "start_time": "2025-02-18T16:29:01.812Z"
   },
   {
    "duration": 60,
    "start_time": "2025-02-18T16:29:01.824Z"
   },
   {
    "duration": 25,
    "start_time": "2025-02-18T16:29:01.885Z"
   },
   {
    "duration": 26,
    "start_time": "2025-02-18T16:29:01.911Z"
   },
   {
    "duration": 431,
    "start_time": "2025-02-18T16:29:01.938Z"
   },
   {
    "duration": 3,
    "start_time": "2025-02-18T16:35:05.989Z"
   },
   {
    "duration": 425,
    "start_time": "2025-02-18T16:35:44.566Z"
   },
   {
    "duration": 3,
    "start_time": "2025-02-18T16:36:00.483Z"
   },
   {
    "duration": 421,
    "start_time": "2025-02-18T16:36:11.570Z"
   },
   {
    "duration": 300,
    "start_time": "2025-02-18T16:36:24.226Z"
   },
   {
    "duration": 304,
    "start_time": "2025-02-18T16:36:39.259Z"
   },
   {
    "duration": 116,
    "start_time": "2025-02-18T16:44:28.146Z"
   },
   {
    "duration": 13593,
    "start_time": "2025-02-18T16:44:51.978Z"
   },
   {
    "duration": 62,
    "start_time": "2025-02-18T16:45:26.311Z"
   },
   {
    "duration": 419,
    "start_time": "2025-02-18T16:45:31.156Z"
   },
   {
    "duration": 476,
    "start_time": "2025-02-18T16:45:58.415Z"
   },
   {
    "duration": 1513,
    "start_time": "2025-02-18T16:46:05.726Z"
   },
   {
    "duration": 55,
    "start_time": "2025-02-18T16:46:38.995Z"
   },
   {
    "duration": 372,
    "start_time": "2025-02-18T16:46:42.696Z"
   },
   {
    "duration": 482,
    "start_time": "2025-02-18T16:46:45.303Z"
   },
   {
    "duration": 318,
    "start_time": "2025-02-18T16:46:47.045Z"
   },
   {
    "duration": 6,
    "start_time": "2025-02-18T16:50:04.268Z"
   },
   {
    "duration": 194,
    "start_time": "2025-02-18T16:52:20.074Z"
   },
   {
    "duration": 449,
    "start_time": "2025-02-18T16:53:01.830Z"
   },
   {
    "duration": 3068,
    "start_time": "2025-02-18T16:53:21.968Z"
   },
   {
    "duration": 2527,
    "start_time": "2025-02-18T16:53:25.039Z"
   },
   {
    "duration": 1386,
    "start_time": "2025-02-18T16:53:27.568Z"
   },
   {
    "duration": 2,
    "start_time": "2025-02-18T16:53:28.956Z"
   },
   {
    "duration": 1201,
    "start_time": "2025-02-18T16:53:28.961Z"
   },
   {
    "duration": 155,
    "start_time": "2025-02-18T16:53:30.163Z"
   },
   {
    "duration": 3,
    "start_time": "2025-02-18T16:53:30.320Z"
   },
   {
    "duration": 49,
    "start_time": "2025-02-18T16:53:30.325Z"
   },
   {
    "duration": 258,
    "start_time": "2025-02-18T16:53:30.376Z"
   },
   {
    "duration": 484,
    "start_time": "2025-02-18T16:53:30.635Z"
   },
   {
    "duration": 99,
    "start_time": "2025-02-18T16:53:31.121Z"
   },
   {
    "duration": 5,
    "start_time": "2025-02-18T16:53:31.222Z"
   },
   {
    "duration": 8,
    "start_time": "2025-02-18T16:53:31.228Z"
   },
   {
    "duration": 10,
    "start_time": "2025-02-18T16:53:31.239Z"
   },
   {
    "duration": 60,
    "start_time": "2025-02-18T16:53:31.261Z"
   },
   {
    "duration": 41,
    "start_time": "2025-02-18T16:53:31.323Z"
   },
   {
    "duration": 73,
    "start_time": "2025-02-18T16:53:31.366Z"
   },
   {
    "duration": 374,
    "start_time": "2025-02-18T16:53:31.441Z"
   },
   {
    "duration": 502,
    "start_time": "2025-02-18T16:53:31.817Z"
   },
   {
    "duration": 8,
    "start_time": "2025-02-18T16:53:32.322Z"
   },
   {
    "duration": 211,
    "start_time": "2025-02-18T16:53:32.331Z"
   },
   {
    "duration": 399,
    "start_time": "2025-02-18T16:53:32.543Z"
   },
   {
    "duration": 3514,
    "start_time": "2025-02-18T16:57:33.040Z"
   },
   {
    "duration": 2479,
    "start_time": "2025-02-18T16:57:36.557Z"
   },
   {
    "duration": 1361,
    "start_time": "2025-02-18T16:57:39.038Z"
   },
   {
    "duration": 2,
    "start_time": "2025-02-18T16:57:40.401Z"
   },
   {
    "duration": 1095,
    "start_time": "2025-02-18T16:57:40.405Z"
   },
   {
    "duration": 129,
    "start_time": "2025-02-18T16:57:41.502Z"
   },
   {
    "duration": 3,
    "start_time": "2025-02-18T16:57:41.633Z"
   },
   {
    "duration": 97,
    "start_time": "2025-02-18T16:57:41.637Z"
   },
   {
    "duration": 227,
    "start_time": "2025-02-18T16:57:41.735Z"
   },
   {
    "duration": 437,
    "start_time": "2025-02-18T16:57:41.964Z"
   },
   {
    "duration": 90,
    "start_time": "2025-02-18T16:57:42.403Z"
   },
   {
    "duration": 4,
    "start_time": "2025-02-18T16:57:42.495Z"
   },
   {
    "duration": 5,
    "start_time": "2025-02-18T16:57:42.500Z"
   },
   {
    "duration": 16,
    "start_time": "2025-02-18T16:57:42.508Z"
   },
   {
    "duration": 60,
    "start_time": "2025-02-18T16:57:42.526Z"
   },
   {
    "duration": 25,
    "start_time": "2025-02-18T16:57:42.588Z"
   },
   {
    "duration": 7,
    "start_time": "2025-02-18T16:57:42.615Z"
   },
   {
    "duration": 68,
    "start_time": "2025-02-18T16:57:42.624Z"
   },
   {
    "duration": 320,
    "start_time": "2025-02-18T16:57:42.694Z"
   },
   {
    "duration": 210,
    "start_time": "2025-02-18T16:57:43.016Z"
   },
   {
    "duration": 496,
    "start_time": "2025-02-18T16:57:43.227Z"
   },
   {
    "duration": 456,
    "start_time": "2025-02-18T16:57:43.725Z"
   },
   {
    "duration": 3807,
    "start_time": "2025-02-18T17:02:01.371Z"
   },
   {
    "duration": 3270,
    "start_time": "2025-02-18T17:02:05.180Z"
   },
   {
    "duration": 1385,
    "start_time": "2025-02-18T17:02:08.452Z"
   },
   {
    "duration": 3,
    "start_time": "2025-02-18T17:02:09.838Z"
   },
   {
    "duration": 1026,
    "start_time": "2025-02-18T17:02:09.844Z"
   },
   {
    "duration": 137,
    "start_time": "2025-02-18T17:02:10.872Z"
   },
   {
    "duration": 3,
    "start_time": "2025-02-18T17:02:11.010Z"
   },
   {
    "duration": 46,
    "start_time": "2025-02-18T17:02:11.014Z"
   },
   {
    "duration": 211,
    "start_time": "2025-02-18T17:02:11.061Z"
   },
   {
    "duration": 356,
    "start_time": "2025-02-18T17:02:11.273Z"
   },
   {
    "duration": 88,
    "start_time": "2025-02-18T17:02:11.631Z"
   },
   {
    "duration": 4,
    "start_time": "2025-02-18T17:02:11.720Z"
   },
   {
    "duration": 6,
    "start_time": "2025-02-18T17:02:11.725Z"
   },
   {
    "duration": 3,
    "start_time": "2025-02-18T17:02:11.733Z"
   },
   {
    "duration": 67,
    "start_time": "2025-02-18T17:02:11.738Z"
   },
   {
    "duration": 24,
    "start_time": "2025-02-18T17:02:11.807Z"
   },
   {
    "duration": 7,
    "start_time": "2025-02-18T17:02:11.832Z"
   },
   {
    "duration": 44,
    "start_time": "2025-02-18T17:02:11.840Z"
   },
   {
    "duration": 32,
    "start_time": "2025-02-18T17:02:11.886Z"
   },
   {
    "duration": 326,
    "start_time": "2025-02-18T17:02:11.919Z"
   },
   {
    "duration": 197,
    "start_time": "2025-02-18T17:02:12.247Z"
   },
   {
    "duration": 474,
    "start_time": "2025-02-18T17:02:12.446Z"
   },
   {
    "duration": 437,
    "start_time": "2025-02-18T17:02:12.922Z"
   },
   {
    "duration": 3391,
    "start_time": "2025-02-18T17:05:26.831Z"
   },
   {
    "duration": 2770,
    "start_time": "2025-02-18T17:05:30.225Z"
   },
   {
    "duration": 1755,
    "start_time": "2025-02-18T17:05:32.997Z"
   },
   {
    "duration": 3,
    "start_time": "2025-02-18T17:05:34.753Z"
   },
   {
    "duration": 1080,
    "start_time": "2025-02-18T17:05:34.758Z"
   },
   {
    "duration": 134,
    "start_time": "2025-02-18T17:05:35.840Z"
   },
   {
    "duration": 4,
    "start_time": "2025-02-18T17:05:35.975Z"
   },
   {
    "duration": 53,
    "start_time": "2025-02-18T17:05:35.980Z"
   },
   {
    "duration": 213,
    "start_time": "2025-02-18T17:05:36.035Z"
   },
   {
    "duration": 365,
    "start_time": "2025-02-18T17:05:36.251Z"
   },
   {
    "duration": 85,
    "start_time": "2025-02-18T17:05:36.618Z"
   },
   {
    "duration": 49,
    "start_time": "2025-02-18T17:05:36.705Z"
   },
   {
    "duration": 4,
    "start_time": "2025-02-18T17:05:36.756Z"
   },
   {
    "duration": 20,
    "start_time": "2025-02-18T17:05:36.763Z"
   },
   {
    "duration": 78,
    "start_time": "2025-02-18T17:05:36.785Z"
   },
   {
    "duration": 27,
    "start_time": "2025-02-18T17:05:36.865Z"
   },
   {
    "duration": 9,
    "start_time": "2025-02-18T17:05:36.894Z"
   },
   {
    "duration": 40,
    "start_time": "2025-02-18T17:05:36.904Z"
   },
   {
    "duration": 37,
    "start_time": "2025-02-18T17:05:36.946Z"
   },
   {
    "duration": 24,
    "start_time": "2025-02-18T17:05:36.985Z"
   },
   {
    "duration": 351,
    "start_time": "2025-02-18T17:05:37.012Z"
   },
   {
    "duration": 208,
    "start_time": "2025-02-18T17:05:37.365Z"
   },
   {
    "duration": 515,
    "start_time": "2025-02-18T17:05:37.575Z"
   },
   {
    "duration": 393,
    "start_time": "2025-02-18T17:05:38.092Z"
   },
   {
    "duration": 4,
    "start_time": "2025-02-18T17:05:38.486Z"
   },
   {
    "duration": 3285,
    "start_time": "2025-02-18T17:06:28.998Z"
   },
   {
    "duration": 2425,
    "start_time": "2025-02-18T17:06:32.285Z"
   },
   {
    "duration": 1333,
    "start_time": "2025-02-18T17:06:34.712Z"
   },
   {
    "duration": 3,
    "start_time": "2025-02-18T17:06:36.046Z"
   },
   {
    "duration": 1098,
    "start_time": "2025-02-18T17:06:36.051Z"
   },
   {
    "duration": 141,
    "start_time": "2025-02-18T17:06:37.151Z"
   },
   {
    "duration": 3,
    "start_time": "2025-02-18T17:06:37.294Z"
   },
   {
    "duration": 56,
    "start_time": "2025-02-18T17:06:37.298Z"
   },
   {
    "duration": 225,
    "start_time": "2025-02-18T17:06:37.356Z"
   },
   {
    "duration": 379,
    "start_time": "2025-02-18T17:06:37.583Z"
   },
   {
    "duration": 83,
    "start_time": "2025-02-18T17:06:37.964Z"
   },
   {
    "duration": 19,
    "start_time": "2025-02-18T17:06:38.049Z"
   },
   {
    "duration": 17,
    "start_time": "2025-02-18T17:06:38.069Z"
   },
   {
    "duration": 14,
    "start_time": "2025-02-18T17:06:38.090Z"
   },
   {
    "duration": 81,
    "start_time": "2025-02-18T17:06:38.106Z"
   },
   {
    "duration": 26,
    "start_time": "2025-02-18T17:06:38.188Z"
   },
   {
    "duration": 7,
    "start_time": "2025-02-18T17:06:38.216Z"
   },
   {
    "duration": 37,
    "start_time": "2025-02-18T17:06:38.225Z"
   },
   {
    "duration": 8,
    "start_time": "2025-02-18T17:06:38.264Z"
   },
   {
    "duration": 11,
    "start_time": "2025-02-18T17:06:38.274Z"
   },
   {
    "duration": 337,
    "start_time": "2025-02-18T17:06:38.287Z"
   },
   {
    "duration": 216,
    "start_time": "2025-02-18T17:06:38.626Z"
   },
   {
    "duration": 12550,
    "start_time": "2025-02-18T17:06:38.844Z"
   },
   {
    "duration": 1295,
    "start_time": "2025-02-18T17:06:51.396Z"
   },
   {
    "duration": 3,
    "start_time": "2025-02-18T17:06:52.692Z"
   },
   {
    "duration": 3056,
    "start_time": "2025-02-18T17:07:27.814Z"
   },
   {
    "duration": 2494,
    "start_time": "2025-02-18T17:07:30.872Z"
   },
   {
    "duration": 1456,
    "start_time": "2025-02-18T17:07:33.368Z"
   },
   {
    "duration": 3,
    "start_time": "2025-02-18T17:07:34.825Z"
   },
   {
    "duration": 1075,
    "start_time": "2025-02-18T17:07:34.829Z"
   },
   {
    "duration": 137,
    "start_time": "2025-02-18T17:07:35.906Z"
   },
   {
    "duration": 3,
    "start_time": "2025-02-18T17:07:36.044Z"
   },
   {
    "duration": 44,
    "start_time": "2025-02-18T17:07:36.048Z"
   },
   {
    "duration": 221,
    "start_time": "2025-02-18T17:07:36.094Z"
   },
   {
    "duration": 367,
    "start_time": "2025-02-18T17:07:36.316Z"
   },
   {
    "duration": 82,
    "start_time": "2025-02-18T17:07:36.684Z"
   },
   {
    "duration": 4,
    "start_time": "2025-02-18T17:07:36.767Z"
   },
   {
    "duration": 6,
    "start_time": "2025-02-18T17:07:36.773Z"
   },
   {
    "duration": 12,
    "start_time": "2025-02-18T17:07:36.781Z"
   },
   {
    "duration": 69,
    "start_time": "2025-02-18T17:07:36.795Z"
   },
   {
    "duration": 24,
    "start_time": "2025-02-18T17:07:36.866Z"
   },
   {
    "duration": 7,
    "start_time": "2025-02-18T17:07:36.892Z"
   },
   {
    "duration": 43,
    "start_time": "2025-02-18T17:07:36.900Z"
   },
   {
    "duration": 39,
    "start_time": "2025-02-18T17:07:36.945Z"
   },
   {
    "duration": 2,
    "start_time": "2025-02-18T17:07:36.986Z"
   },
   {
    "duration": 319,
    "start_time": "2025-02-18T17:07:36.990Z"
   },
   {
    "duration": 199,
    "start_time": "2025-02-18T17:07:37.310Z"
   },
   {
    "duration": 483,
    "start_time": "2025-02-18T17:07:37.511Z"
   },
   {
    "duration": 426,
    "start_time": "2025-02-18T17:07:37.995Z"
   },
   {
    "duration": 3,
    "start_time": "2025-02-18T17:07:38.422Z"
   },
   {
    "duration": 3553,
    "start_time": "2025-02-18T17:08:57.278Z"
   },
   {
    "duration": 2744,
    "start_time": "2025-02-18T17:09:00.834Z"
   },
   {
    "duration": 1356,
    "start_time": "2025-02-18T17:09:03.580Z"
   },
   {
    "duration": 3,
    "start_time": "2025-02-18T17:09:04.937Z"
   },
   {
    "duration": 1035,
    "start_time": "2025-02-18T17:09:04.942Z"
   },
   {
    "duration": 130,
    "start_time": "2025-02-18T17:09:05.979Z"
   },
   {
    "duration": 3,
    "start_time": "2025-02-18T17:09:06.111Z"
   },
   {
    "duration": 69,
    "start_time": "2025-02-18T17:09:06.115Z"
   },
   {
    "duration": 223,
    "start_time": "2025-02-18T17:09:06.186Z"
   },
   {
    "duration": 356,
    "start_time": "2025-02-18T17:09:06.410Z"
   },
   {
    "duration": 77,
    "start_time": "2025-02-18T17:09:06.767Z"
   },
   {
    "duration": 17,
    "start_time": "2025-02-18T17:09:06.845Z"
   },
   {
    "duration": 8,
    "start_time": "2025-02-18T17:09:06.863Z"
   },
   {
    "duration": 42,
    "start_time": "2025-02-18T17:09:06.873Z"
   },
   {
    "duration": 59,
    "start_time": "2025-02-18T17:09:06.917Z"
   },
   {
    "duration": 25,
    "start_time": "2025-02-18T17:09:06.978Z"
   },
   {
    "duration": 10,
    "start_time": "2025-02-18T17:09:07.005Z"
   },
   {
    "duration": 31,
    "start_time": "2025-02-18T17:09:07.017Z"
   },
   {
    "duration": 40,
    "start_time": "2025-02-18T17:09:07.050Z"
   },
   {
    "duration": 2,
    "start_time": "2025-02-18T17:09:07.092Z"
   },
   {
    "duration": 365,
    "start_time": "2025-02-18T17:09:07.096Z"
   },
   {
    "duration": 198,
    "start_time": "2025-02-18T17:09:07.463Z"
   },
   {
    "duration": 476,
    "start_time": "2025-02-18T17:09:07.662Z"
   },
   {
    "duration": 437,
    "start_time": "2025-02-18T17:09:08.140Z"
   },
   {
    "duration": 3,
    "start_time": "2025-02-18T17:09:08.578Z"
   },
   {
    "duration": 4,
    "start_time": "2025-02-18T17:13:27.692Z"
   },
   {
    "duration": 429,
    "start_time": "2025-02-18T17:13:32.714Z"
   },
   {
    "duration": 3,
    "start_time": "2025-02-18T17:14:42.415Z"
   },
   {
    "duration": 310,
    "start_time": "2025-02-18T17:14:48.125Z"
   },
   {
    "duration": 3133,
    "start_time": "2025-02-18T17:17:14.932Z"
   },
   {
    "duration": 30642,
    "start_time": "2025-02-18T17:17:18.068Z"
   },
   {
    "duration": 9151,
    "start_time": "2025-02-18T17:17:48.712Z"
   },
   {
    "duration": 1697,
    "start_time": "2025-02-18T17:17:57.866Z"
   },
   {
    "duration": 0,
    "start_time": "2025-02-18T17:17:59.565Z"
   },
   {
    "duration": 0,
    "start_time": "2025-02-18T17:17:59.567Z"
   },
   {
    "duration": 0,
    "start_time": "2025-02-18T17:17:59.568Z"
   },
   {
    "duration": 0,
    "start_time": "2025-02-18T17:17:59.569Z"
   },
   {
    "duration": 0,
    "start_time": "2025-02-18T17:17:59.570Z"
   },
   {
    "duration": 0,
    "start_time": "2025-02-18T17:17:59.571Z"
   },
   {
    "duration": 0,
    "start_time": "2025-02-18T17:17:59.572Z"
   },
   {
    "duration": 0,
    "start_time": "2025-02-18T17:17:59.573Z"
   },
   {
    "duration": 0,
    "start_time": "2025-02-18T17:17:59.575Z"
   },
   {
    "duration": 0,
    "start_time": "2025-02-18T17:17:59.575Z"
   },
   {
    "duration": 0,
    "start_time": "2025-02-18T17:17:59.577Z"
   },
   {
    "duration": 0,
    "start_time": "2025-02-18T17:17:59.578Z"
   },
   {
    "duration": 0,
    "start_time": "2025-02-18T17:17:59.579Z"
   },
   {
    "duration": 0,
    "start_time": "2025-02-18T17:17:59.580Z"
   },
   {
    "duration": 0,
    "start_time": "2025-02-18T17:17:59.581Z"
   },
   {
    "duration": 0,
    "start_time": "2025-02-18T17:17:59.582Z"
   },
   {
    "duration": 0,
    "start_time": "2025-02-18T17:17:59.583Z"
   },
   {
    "duration": 0,
    "start_time": "2025-02-18T17:17:59.585Z"
   },
   {
    "duration": 1,
    "start_time": "2025-02-18T17:17:59.585Z"
   },
   {
    "duration": 0,
    "start_time": "2025-02-18T17:17:59.586Z"
   },
   {
    "duration": 0,
    "start_time": "2025-02-18T17:17:59.587Z"
   },
   {
    "duration": 0,
    "start_time": "2025-02-18T17:17:59.588Z"
   },
   {
    "duration": 3264,
    "start_time": "2025-02-18T17:18:13.383Z"
   },
   {
    "duration": 1639,
    "start_time": "2025-02-18T17:18:16.650Z"
   },
   {
    "duration": 2655,
    "start_time": "2025-02-18T17:18:18.291Z"
   },
   {
    "duration": 1525,
    "start_time": "2025-02-18T17:18:20.948Z"
   },
   {
    "duration": 0,
    "start_time": "2025-02-18T17:18:22.476Z"
   },
   {
    "duration": 0,
    "start_time": "2025-02-18T17:18:22.477Z"
   },
   {
    "duration": 0,
    "start_time": "2025-02-18T17:18:22.478Z"
   },
   {
    "duration": 0,
    "start_time": "2025-02-18T17:18:22.480Z"
   },
   {
    "duration": 0,
    "start_time": "2025-02-18T17:18:22.481Z"
   },
   {
    "duration": 0,
    "start_time": "2025-02-18T17:18:22.482Z"
   },
   {
    "duration": 0,
    "start_time": "2025-02-18T17:18:22.483Z"
   },
   {
    "duration": 0,
    "start_time": "2025-02-18T17:18:22.484Z"
   },
   {
    "duration": 0,
    "start_time": "2025-02-18T17:18:22.485Z"
   },
   {
    "duration": 0,
    "start_time": "2025-02-18T17:18:22.486Z"
   },
   {
    "duration": 0,
    "start_time": "2025-02-18T17:18:22.487Z"
   },
   {
    "duration": 0,
    "start_time": "2025-02-18T17:18:22.488Z"
   },
   {
    "duration": 0,
    "start_time": "2025-02-18T17:18:22.490Z"
   },
   {
    "duration": 0,
    "start_time": "2025-02-18T17:18:22.490Z"
   },
   {
    "duration": 0,
    "start_time": "2025-02-18T17:18:22.491Z"
   },
   {
    "duration": 0,
    "start_time": "2025-02-18T17:18:22.492Z"
   },
   {
    "duration": 0,
    "start_time": "2025-02-18T17:18:22.494Z"
   },
   {
    "duration": 0,
    "start_time": "2025-02-18T17:18:22.494Z"
   },
   {
    "duration": 0,
    "start_time": "2025-02-18T17:18:22.495Z"
   },
   {
    "duration": 0,
    "start_time": "2025-02-18T17:18:22.496Z"
   },
   {
    "duration": 0,
    "start_time": "2025-02-18T17:18:22.497Z"
   },
   {
    "duration": 0,
    "start_time": "2025-02-18T17:18:22.499Z"
   },
   {
    "duration": 3272,
    "start_time": "2025-02-18T17:18:55.611Z"
   },
   {
    "duration": 2902,
    "start_time": "2025-02-18T17:18:58.885Z"
   },
   {
    "duration": 1390,
    "start_time": "2025-02-18T17:19:01.789Z"
   },
   {
    "duration": 0,
    "start_time": "2025-02-18T17:19:03.181Z"
   },
   {
    "duration": 0,
    "start_time": "2025-02-18T17:19:03.182Z"
   },
   {
    "duration": 0,
    "start_time": "2025-02-18T17:19:03.183Z"
   },
   {
    "duration": 0,
    "start_time": "2025-02-18T17:19:03.184Z"
   },
   {
    "duration": 0,
    "start_time": "2025-02-18T17:19:03.185Z"
   },
   {
    "duration": 0,
    "start_time": "2025-02-18T17:19:03.186Z"
   },
   {
    "duration": 0,
    "start_time": "2025-02-18T17:19:03.187Z"
   },
   {
    "duration": 0,
    "start_time": "2025-02-18T17:19:03.188Z"
   },
   {
    "duration": 0,
    "start_time": "2025-02-18T17:19:03.189Z"
   },
   {
    "duration": 0,
    "start_time": "2025-02-18T17:19:03.190Z"
   },
   {
    "duration": 0,
    "start_time": "2025-02-18T17:19:03.191Z"
   },
   {
    "duration": 0,
    "start_time": "2025-02-18T17:19:03.191Z"
   },
   {
    "duration": 0,
    "start_time": "2025-02-18T17:19:03.193Z"
   },
   {
    "duration": 0,
    "start_time": "2025-02-18T17:19:03.194Z"
   },
   {
    "duration": 0,
    "start_time": "2025-02-18T17:19:03.195Z"
   },
   {
    "duration": 0,
    "start_time": "2025-02-18T17:19:03.195Z"
   },
   {
    "duration": 0,
    "start_time": "2025-02-18T17:19:03.196Z"
   },
   {
    "duration": 0,
    "start_time": "2025-02-18T17:19:03.197Z"
   },
   {
    "duration": 0,
    "start_time": "2025-02-18T17:19:03.198Z"
   },
   {
    "duration": 0,
    "start_time": "2025-02-18T17:19:03.199Z"
   },
   {
    "duration": 0,
    "start_time": "2025-02-18T17:19:03.201Z"
   },
   {
    "duration": 0,
    "start_time": "2025-02-18T17:19:03.202Z"
   },
   {
    "duration": 3346,
    "start_time": "2025-02-18T17:19:58.334Z"
   },
   {
    "duration": 2643,
    "start_time": "2025-02-18T17:20:01.684Z"
   },
   {
    "duration": 1601,
    "start_time": "2025-02-18T17:20:04.329Z"
   },
   {
    "duration": 0,
    "start_time": "2025-02-18T17:20:05.932Z"
   },
   {
    "duration": 0,
    "start_time": "2025-02-18T17:20:05.933Z"
   },
   {
    "duration": 0,
    "start_time": "2025-02-18T17:20:05.935Z"
   },
   {
    "duration": 0,
    "start_time": "2025-02-18T17:20:05.936Z"
   },
   {
    "duration": 0,
    "start_time": "2025-02-18T17:20:05.937Z"
   },
   {
    "duration": 0,
    "start_time": "2025-02-18T17:20:05.938Z"
   },
   {
    "duration": 0,
    "start_time": "2025-02-18T17:20:05.939Z"
   },
   {
    "duration": 0,
    "start_time": "2025-02-18T17:20:05.941Z"
   },
   {
    "duration": 0,
    "start_time": "2025-02-18T17:20:05.942Z"
   },
   {
    "duration": 0,
    "start_time": "2025-02-18T17:20:05.943Z"
   },
   {
    "duration": 0,
    "start_time": "2025-02-18T17:20:05.944Z"
   },
   {
    "duration": 0,
    "start_time": "2025-02-18T17:20:05.961Z"
   },
   {
    "duration": 0,
    "start_time": "2025-02-18T17:20:05.962Z"
   },
   {
    "duration": 0,
    "start_time": "2025-02-18T17:20:05.963Z"
   },
   {
    "duration": 0,
    "start_time": "2025-02-18T17:20:05.964Z"
   },
   {
    "duration": 0,
    "start_time": "2025-02-18T17:20:05.966Z"
   },
   {
    "duration": 0,
    "start_time": "2025-02-18T17:20:05.967Z"
   },
   {
    "duration": 0,
    "start_time": "2025-02-18T17:20:05.968Z"
   },
   {
    "duration": 0,
    "start_time": "2025-02-18T17:20:05.969Z"
   },
   {
    "duration": 0,
    "start_time": "2025-02-18T17:20:05.970Z"
   },
   {
    "duration": 0,
    "start_time": "2025-02-18T17:20:05.971Z"
   },
   {
    "duration": 0,
    "start_time": "2025-02-18T17:20:05.972Z"
   },
   {
    "duration": 7398,
    "start_time": "2025-02-18T17:21:26.301Z"
   },
   {
    "duration": 2677,
    "start_time": "2025-02-18T17:21:36.417Z"
   },
   {
    "duration": 23,
    "start_time": "2025-02-18T17:21:39.097Z"
   },
   {
    "duration": 13802,
    "start_time": "2025-02-18T17:22:00.166Z"
   },
   {
    "duration": 2986,
    "start_time": "2025-02-18T17:22:24.778Z"
   },
   {
    "duration": 31,
    "start_time": "2025-02-18T17:22:27.768Z"
   },
   {
    "duration": 3375,
    "start_time": "2025-02-18T17:23:30.811Z"
   },
   {
    "duration": 2716,
    "start_time": "2025-02-18T17:23:34.189Z"
   },
   {
    "duration": 1584,
    "start_time": "2025-02-18T17:23:36.907Z"
   },
   {
    "duration": 3,
    "start_time": "2025-02-18T17:23:38.493Z"
   },
   {
    "duration": 1117,
    "start_time": "2025-02-18T17:23:38.499Z"
   },
   {
    "duration": 150,
    "start_time": "2025-02-18T17:23:39.617Z"
   },
   {
    "duration": 4,
    "start_time": "2025-02-18T17:23:39.770Z"
   },
   {
    "duration": 44,
    "start_time": "2025-02-18T17:23:39.776Z"
   },
   {
    "duration": 259,
    "start_time": "2025-02-18T17:23:39.822Z"
   },
   {
    "duration": 417,
    "start_time": "2025-02-18T17:23:40.083Z"
   },
   {
    "duration": 99,
    "start_time": "2025-02-18T17:23:40.502Z"
   },
   {
    "duration": 14,
    "start_time": "2025-02-18T17:23:40.603Z"
   },
   {
    "duration": 6,
    "start_time": "2025-02-18T17:23:40.618Z"
   },
   {
    "duration": 8,
    "start_time": "2025-02-18T17:23:40.627Z"
   },
   {
    "duration": 71,
    "start_time": "2025-02-18T17:23:40.636Z"
   },
   {
    "duration": 27,
    "start_time": "2025-02-18T17:23:40.709Z"
   },
   {
    "duration": 7,
    "start_time": "2025-02-18T17:23:40.737Z"
   },
   {
    "duration": 80,
    "start_time": "2025-02-18T17:23:40.761Z"
   },
   {
    "duration": 32,
    "start_time": "2025-02-18T17:23:40.843Z"
   },
   {
    "duration": 4,
    "start_time": "2025-02-18T17:23:40.877Z"
   },
   {
    "duration": 1236,
    "start_time": "2025-02-18T17:23:40.883Z"
   },
   {
    "duration": 0,
    "start_time": "2025-02-18T17:23:42.121Z"
   },
   {
    "duration": 0,
    "start_time": "2025-02-18T17:23:42.123Z"
   },
   {
    "duration": 0,
    "start_time": "2025-02-18T17:23:42.125Z"
   },
   {
    "duration": 0,
    "start_time": "2025-02-18T17:23:42.126Z"
   },
   {
    "duration": 3272,
    "start_time": "2025-02-18T17:24:05.383Z"
   },
   {
    "duration": 2571,
    "start_time": "2025-02-18T17:24:08.657Z"
   },
   {
    "duration": 1629,
    "start_time": "2025-02-18T17:24:11.230Z"
   },
   {
    "duration": 3,
    "start_time": "2025-02-18T17:24:12.860Z"
   },
   {
    "duration": 1106,
    "start_time": "2025-02-18T17:24:12.865Z"
   },
   {
    "duration": 140,
    "start_time": "2025-02-18T17:24:13.973Z"
   },
   {
    "duration": 3,
    "start_time": "2025-02-18T17:24:14.115Z"
   },
   {
    "duration": 42,
    "start_time": "2025-02-18T17:24:14.120Z"
   },
   {
    "duration": 234,
    "start_time": "2025-02-18T17:24:14.164Z"
   },
   {
    "duration": 421,
    "start_time": "2025-02-18T17:24:14.399Z"
   },
   {
    "duration": 81,
    "start_time": "2025-02-18T17:24:14.822Z"
   },
   {
    "duration": 4,
    "start_time": "2025-02-18T17:24:14.905Z"
   },
   {
    "duration": 7,
    "start_time": "2025-02-18T17:24:14.911Z"
   },
   {
    "duration": 3,
    "start_time": "2025-02-18T17:24:14.921Z"
   },
   {
    "duration": 85,
    "start_time": "2025-02-18T17:24:14.926Z"
   },
   {
    "duration": 31,
    "start_time": "2025-02-18T17:24:15.012Z"
   },
   {
    "duration": 23,
    "start_time": "2025-02-18T17:24:15.045Z"
   },
   {
    "duration": 55,
    "start_time": "2025-02-18T17:24:15.070Z"
   },
   {
    "duration": 45,
    "start_time": "2025-02-18T17:24:15.127Z"
   },
   {
    "duration": 6,
    "start_time": "2025-02-18T17:24:15.174Z"
   },
   {
    "duration": 1265,
    "start_time": "2025-02-18T17:24:15.182Z"
   },
   {
    "duration": 0,
    "start_time": "2025-02-18T17:24:16.449Z"
   },
   {
    "duration": 0,
    "start_time": "2025-02-18T17:24:16.450Z"
   },
   {
    "duration": 0,
    "start_time": "2025-02-18T17:24:16.460Z"
   },
   {
    "duration": 0,
    "start_time": "2025-02-18T17:24:16.462Z"
   },
   {
    "duration": 3,
    "start_time": "2025-02-18T17:27:21.571Z"
   },
   {
    "duration": 1162,
    "start_time": "2025-02-18T17:27:25.070Z"
   },
   {
    "duration": 3415,
    "start_time": "2025-02-18T17:28:09.846Z"
   },
   {
    "duration": 2502,
    "start_time": "2025-02-18T17:28:13.264Z"
   },
   {
    "duration": 1553,
    "start_time": "2025-02-18T17:28:15.769Z"
   },
   {
    "duration": 3,
    "start_time": "2025-02-18T17:28:17.324Z"
   },
   {
    "duration": 1033,
    "start_time": "2025-02-18T17:28:17.328Z"
   },
   {
    "duration": 122,
    "start_time": "2025-02-18T17:28:18.362Z"
   },
   {
    "duration": 4,
    "start_time": "2025-02-18T17:28:18.485Z"
   },
   {
    "duration": 37,
    "start_time": "2025-02-18T17:28:18.490Z"
   },
   {
    "duration": 217,
    "start_time": "2025-02-18T17:28:18.529Z"
   },
   {
    "duration": 361,
    "start_time": "2025-02-18T17:28:18.748Z"
   },
   {
    "duration": 79,
    "start_time": "2025-02-18T17:28:19.111Z"
   },
   {
    "duration": 4,
    "start_time": "2025-02-18T17:28:19.192Z"
   },
   {
    "duration": 3,
    "start_time": "2025-02-18T17:28:19.198Z"
   },
   {
    "duration": 3,
    "start_time": "2025-02-18T17:28:19.204Z"
   },
   {
    "duration": 81,
    "start_time": "2025-02-18T17:28:19.209Z"
   },
   {
    "duration": 27,
    "start_time": "2025-02-18T17:28:19.292Z"
   },
   {
    "duration": 31,
    "start_time": "2025-02-18T17:28:19.320Z"
   },
   {
    "duration": 26,
    "start_time": "2025-02-18T17:28:19.352Z"
   },
   {
    "duration": 29,
    "start_time": "2025-02-18T17:28:19.379Z"
   },
   {
    "duration": 2,
    "start_time": "2025-02-18T17:28:19.410Z"
   },
   {
    "duration": 1076,
    "start_time": "2025-02-18T17:28:19.414Z"
   },
   {
    "duration": 869,
    "start_time": "2025-02-18T17:28:20.492Z"
   },
   {
    "duration": 1164,
    "start_time": "2025-02-18T17:28:21.362Z"
   },
   {
    "duration": 1118,
    "start_time": "2025-02-18T17:28:22.528Z"
   },
   {
    "duration": 4,
    "start_time": "2025-02-18T17:28:23.648Z"
   },
   {
    "duration": 3078,
    "start_time": "2025-02-18T17:29:55.922Z"
   },
   {
    "duration": 2744,
    "start_time": "2025-02-18T17:29:59.004Z"
   },
   {
    "duration": 2284,
    "start_time": "2025-02-18T17:30:01.750Z"
   },
   {
    "duration": 3,
    "start_time": "2025-02-18T17:30:04.035Z"
   },
   {
    "duration": 1105,
    "start_time": "2025-02-18T17:30:04.040Z"
   },
   {
    "duration": 126,
    "start_time": "2025-02-18T17:30:05.146Z"
   },
   {
    "duration": 3,
    "start_time": "2025-02-18T17:30:05.274Z"
   },
   {
    "duration": 43,
    "start_time": "2025-02-18T17:30:05.278Z"
   },
   {
    "duration": 209,
    "start_time": "2025-02-18T17:30:05.322Z"
   },
   {
    "duration": 345,
    "start_time": "2025-02-18T17:30:05.532Z"
   },
   {
    "duration": 83,
    "start_time": "2025-02-18T17:30:05.879Z"
   },
   {
    "duration": 39,
    "start_time": "2025-02-18T17:30:05.963Z"
   },
   {
    "duration": 48,
    "start_time": "2025-02-18T17:30:06.004Z"
   },
   {
    "duration": 8,
    "start_time": "2025-02-18T17:30:06.054Z"
   },
   {
    "duration": 71,
    "start_time": "2025-02-18T17:30:06.063Z"
   },
   {
    "duration": 28,
    "start_time": "2025-02-18T17:30:06.136Z"
   },
   {
    "duration": 8,
    "start_time": "2025-02-18T17:30:06.165Z"
   },
   {
    "duration": 45,
    "start_time": "2025-02-18T17:30:06.174Z"
   },
   {
    "duration": 30,
    "start_time": "2025-02-18T17:30:06.220Z"
   },
   {
    "duration": 32,
    "start_time": "2025-02-18T17:30:06.252Z"
   },
   {
    "duration": 1031,
    "start_time": "2025-02-18T17:30:06.286Z"
   },
   {
    "duration": 889,
    "start_time": "2025-02-18T17:30:07.318Z"
   },
   {
    "duration": 1143,
    "start_time": "2025-02-18T17:30:08.208Z"
   },
   {
    "duration": 993,
    "start_time": "2025-02-18T17:30:09.360Z"
   },
   {
    "duration": 8,
    "start_time": "2025-02-18T17:30:10.354Z"
   },
   {
    "duration": 807,
    "start_time": "2025-02-18T17:31:39.308Z"
   },
   {
    "duration": 1032,
    "start_time": "2025-02-18T17:31:40.440Z"
   },
   {
    "duration": 1012,
    "start_time": "2025-02-18T17:31:41.509Z"
   },
   {
    "duration": 842,
    "start_time": "2025-02-18T17:32:15.876Z"
   },
   {
    "duration": 3154,
    "start_time": "2025-02-18T17:33:19.195Z"
   },
   {
    "duration": 2639,
    "start_time": "2025-02-18T17:33:22.352Z"
   },
   {
    "duration": 1591,
    "start_time": "2025-02-18T17:33:24.993Z"
   },
   {
    "duration": 3,
    "start_time": "2025-02-18T17:33:26.586Z"
   },
   {
    "duration": 1081,
    "start_time": "2025-02-18T17:33:26.591Z"
   },
   {
    "duration": 119,
    "start_time": "2025-02-18T17:33:27.674Z"
   },
   {
    "duration": 3,
    "start_time": "2025-02-18T17:33:27.796Z"
   },
   {
    "duration": 36,
    "start_time": "2025-02-18T17:33:27.801Z"
   },
   {
    "duration": 215,
    "start_time": "2025-02-18T17:33:27.838Z"
   },
   {
    "duration": 388,
    "start_time": "2025-02-18T17:33:28.055Z"
   },
   {
    "duration": 78,
    "start_time": "2025-02-18T17:33:28.444Z"
   },
   {
    "duration": 4,
    "start_time": "2025-02-18T17:33:28.524Z"
   },
   {
    "duration": 7,
    "start_time": "2025-02-18T17:33:28.530Z"
   },
   {
    "duration": 22,
    "start_time": "2025-02-18T17:33:28.540Z"
   },
   {
    "duration": 57,
    "start_time": "2025-02-18T17:33:28.564Z"
   },
   {
    "duration": 46,
    "start_time": "2025-02-18T17:33:28.623Z"
   },
   {
    "duration": 8,
    "start_time": "2025-02-18T17:33:28.671Z"
   },
   {
    "duration": 26,
    "start_time": "2025-02-18T17:33:28.681Z"
   },
   {
    "duration": 55,
    "start_time": "2025-02-18T17:33:28.709Z"
   },
   {
    "duration": 2,
    "start_time": "2025-02-18T17:33:28.765Z"
   },
   {
    "duration": 1151,
    "start_time": "2025-02-18T17:33:28.769Z"
   },
   {
    "duration": 909,
    "start_time": "2025-02-18T17:33:29.921Z"
   },
   {
    "duration": 1188,
    "start_time": "2025-02-18T17:33:30.831Z"
   },
   {
    "duration": 1075,
    "start_time": "2025-02-18T17:33:32.021Z"
   },
   {
    "duration": 4,
    "start_time": "2025-02-18T17:33:33.098Z"
   },
   {
    "duration": 907,
    "start_time": "2025-02-18T17:34:08.707Z"
   },
   {
    "duration": 923,
    "start_time": "2025-02-18T17:34:27.255Z"
   },
   {
    "duration": 877,
    "start_time": "2025-02-18T17:34:32.481Z"
   },
   {
    "duration": 885,
    "start_time": "2025-02-18T17:35:26.269Z"
   },
   {
    "duration": 892,
    "start_time": "2025-02-18T17:35:35.679Z"
   },
   {
    "duration": 4510,
    "start_time": "2025-02-18T17:44:47.720Z"
   },
   {
    "duration": 2568,
    "start_time": "2025-02-18T17:44:52.232Z"
   },
   {
    "duration": 1533,
    "start_time": "2025-02-18T17:44:54.802Z"
   },
   {
    "duration": 3,
    "start_time": "2025-02-18T17:44:56.336Z"
   },
   {
    "duration": 976,
    "start_time": "2025-02-18T17:44:56.341Z"
   },
   {
    "duration": 123,
    "start_time": "2025-02-18T17:44:57.318Z"
   },
   {
    "duration": 3,
    "start_time": "2025-02-18T17:44:57.442Z"
   },
   {
    "duration": 42,
    "start_time": "2025-02-18T17:44:57.446Z"
   },
   {
    "duration": 210,
    "start_time": "2025-02-18T17:44:57.490Z"
   },
   {
    "duration": 343,
    "start_time": "2025-02-18T17:44:57.701Z"
   },
   {
    "duration": 78,
    "start_time": "2025-02-18T17:44:58.045Z"
   },
   {
    "duration": 11,
    "start_time": "2025-02-18T17:44:58.125Z"
   },
   {
    "duration": 4,
    "start_time": "2025-02-18T17:44:58.137Z"
   },
   {
    "duration": 3,
    "start_time": "2025-02-18T17:44:58.143Z"
   },
   {
    "duration": 54,
    "start_time": "2025-02-18T17:44:58.161Z"
   },
   {
    "duration": 28,
    "start_time": "2025-02-18T17:44:58.216Z"
   },
   {
    "duration": 7,
    "start_time": "2025-02-18T17:44:58.261Z"
   },
   {
    "duration": 53,
    "start_time": "2025-02-18T17:44:58.269Z"
   },
   {
    "duration": 27,
    "start_time": "2025-02-18T17:44:58.323Z"
   },
   {
    "duration": 21,
    "start_time": "2025-02-18T17:44:58.351Z"
   },
   {
    "duration": 921,
    "start_time": "2025-02-18T17:44:58.374Z"
   },
   {
    "duration": 816,
    "start_time": "2025-02-18T17:44:59.296Z"
   },
   {
    "duration": 119,
    "start_time": "2025-02-18T17:45:00.113Z"
   },
   {
    "duration": 0,
    "start_time": "2025-02-18T17:45:00.233Z"
   },
   {
    "duration": 0,
    "start_time": "2025-02-18T17:45:00.235Z"
   },
   {
    "duration": 4055,
    "start_time": "2025-02-18T17:45:56.418Z"
   },
   {
    "duration": 2491,
    "start_time": "2025-02-18T17:46:00.476Z"
   },
   {
    "duration": 1645,
    "start_time": "2025-02-18T17:46:02.970Z"
   },
   {
    "duration": 3,
    "start_time": "2025-02-18T17:46:04.616Z"
   },
   {
    "duration": 986,
    "start_time": "2025-02-18T17:46:04.620Z"
   },
   {
    "duration": 126,
    "start_time": "2025-02-18T17:46:05.607Z"
   },
   {
    "duration": 3,
    "start_time": "2025-02-18T17:46:05.735Z"
   },
   {
    "duration": 44,
    "start_time": "2025-02-18T17:46:05.739Z"
   },
   {
    "duration": 216,
    "start_time": "2025-02-18T17:46:05.785Z"
   },
   {
    "duration": 365,
    "start_time": "2025-02-18T17:46:06.003Z"
   },
   {
    "duration": 72,
    "start_time": "2025-02-18T17:46:06.369Z"
   },
   {
    "duration": 4,
    "start_time": "2025-02-18T17:46:06.442Z"
   },
   {
    "duration": 15,
    "start_time": "2025-02-18T17:46:06.447Z"
   },
   {
    "duration": 19,
    "start_time": "2025-02-18T17:46:06.464Z"
   },
   {
    "duration": 100,
    "start_time": "2025-02-18T17:46:06.484Z"
   },
   {
    "duration": 26,
    "start_time": "2025-02-18T17:46:06.585Z"
   },
   {
    "duration": 7,
    "start_time": "2025-02-18T17:46:06.613Z"
   },
   {
    "duration": 45,
    "start_time": "2025-02-18T17:46:06.621Z"
   },
   {
    "duration": 28,
    "start_time": "2025-02-18T17:46:06.667Z"
   },
   {
    "duration": 26,
    "start_time": "2025-02-18T17:46:06.696Z"
   },
   {
    "duration": 948,
    "start_time": "2025-02-18T17:46:06.724Z"
   },
   {
    "duration": 820,
    "start_time": "2025-02-18T17:46:07.673Z"
   },
   {
    "duration": 1097,
    "start_time": "2025-02-18T17:46:08.495Z"
   },
   {
    "duration": 983,
    "start_time": "2025-02-18T17:46:09.593Z"
   },
   {
    "duration": 4,
    "start_time": "2025-02-18T17:46:10.577Z"
   },
   {
    "duration": 116,
    "start_time": "2025-02-18T17:49:04.775Z"
   },
   {
    "duration": 211,
    "start_time": "2025-02-18T17:49:17.386Z"
   },
   {
    "duration": 2402,
    "start_time": "2025-02-18T17:50:31.640Z"
   },
   {
    "duration": 3,
    "start_time": "2025-02-18T17:53:42.312Z"
   },
   {
    "duration": 2383,
    "start_time": "2025-02-18T17:55:42.926Z"
   },
   {
    "duration": 1380,
    "start_time": "2025-02-18T17:57:31.300Z"
   },
   {
    "duration": 17,
    "start_time": "2025-02-18T17:58:17.585Z"
   },
   {
    "duration": 4562,
    "start_time": "2025-02-18T18:13:11.808Z"
   },
   {
    "duration": 66,
    "start_time": "2025-02-18T18:21:39.950Z"
   },
   {
    "duration": 124,
    "start_time": "2025-02-18T18:22:01.167Z"
   },
   {
    "duration": 3144,
    "start_time": "2025-02-18T18:23:08.972Z"
   },
   {
    "duration": 2585,
    "start_time": "2025-02-18T18:23:12.118Z"
   },
   {
    "duration": 2280,
    "start_time": "2025-02-18T18:23:14.705Z"
   },
   {
    "duration": 3,
    "start_time": "2025-02-18T18:23:16.987Z"
   },
   {
    "duration": 1077,
    "start_time": "2025-02-18T18:23:16.992Z"
   },
   {
    "duration": 132,
    "start_time": "2025-02-18T18:23:18.071Z"
   },
   {
    "duration": 3,
    "start_time": "2025-02-18T18:23:18.205Z"
   },
   {
    "duration": 171,
    "start_time": "2025-02-18T18:23:18.209Z"
   },
   {
    "duration": 112,
    "start_time": "2025-02-18T18:23:18.381Z"
   },
   {
    "duration": 205,
    "start_time": "2025-02-18T18:23:18.495Z"
   },
   {
    "duration": 368,
    "start_time": "2025-02-18T18:23:18.702Z"
   },
   {
    "duration": 66,
    "start_time": "2025-02-18T18:23:19.071Z"
   },
   {
    "duration": 24,
    "start_time": "2025-02-18T18:23:19.139Z"
   },
   {
    "duration": 23,
    "start_time": "2025-02-18T18:23:19.167Z"
   },
   {
    "duration": 9,
    "start_time": "2025-02-18T18:23:19.191Z"
   },
   {
    "duration": 56,
    "start_time": "2025-02-18T18:23:19.202Z"
   },
   {
    "duration": 28,
    "start_time": "2025-02-18T18:23:19.260Z"
   },
   {
    "duration": 9,
    "start_time": "2025-02-18T18:23:19.290Z"
   },
   {
    "duration": 32,
    "start_time": "2025-02-18T18:23:19.301Z"
   },
   {
    "duration": 64,
    "start_time": "2025-02-18T18:23:19.335Z"
   },
   {
    "duration": 27,
    "start_time": "2025-02-18T18:23:19.400Z"
   },
   {
    "duration": 966,
    "start_time": "2025-02-18T18:23:19.429Z"
   },
   {
    "duration": 804,
    "start_time": "2025-02-18T18:23:20.397Z"
   },
   {
    "duration": 1108,
    "start_time": "2025-02-18T18:23:21.203Z"
   },
   {
    "duration": 961,
    "start_time": "2025-02-18T18:23:22.313Z"
   },
   {
    "duration": 2530,
    "start_time": "2025-02-18T18:23:23.276Z"
   },
   {
    "duration": 16,
    "start_time": "2025-02-18T18:23:25.808Z"
   },
   {
    "duration": 5,
    "start_time": "2025-02-18T18:23:25.825Z"
   },
   {
    "duration": 3740,
    "start_time": "2025-02-18T18:23:25.832Z"
   },
   {
    "duration": 117,
    "start_time": "2025-02-18T18:25:49.471Z"
   },
   {
    "duration": 15,
    "start_time": "2025-02-18T18:27:33.827Z"
   },
   {
    "duration": 9,
    "start_time": "2025-02-18T18:27:57.531Z"
   },
   {
    "duration": 3,
    "start_time": "2025-02-18T18:28:14.702Z"
   },
   {
    "duration": 3165,
    "start_time": "2025-02-18T18:30:30.625Z"
   },
   {
    "duration": 2587,
    "start_time": "2025-02-18T18:30:33.793Z"
   },
   {
    "duration": 1576,
    "start_time": "2025-02-18T18:30:36.382Z"
   },
   {
    "duration": 2,
    "start_time": "2025-02-18T18:30:37.960Z"
   },
   {
    "duration": 1090,
    "start_time": "2025-02-18T18:30:37.965Z"
   },
   {
    "duration": 128,
    "start_time": "2025-02-18T18:30:39.056Z"
   },
   {
    "duration": 3,
    "start_time": "2025-02-18T18:30:39.186Z"
   },
   {
    "duration": 172,
    "start_time": "2025-02-18T18:30:39.190Z"
   },
   {
    "duration": 114,
    "start_time": "2025-02-18T18:30:39.363Z"
   },
   {
    "duration": 200,
    "start_time": "2025-02-18T18:30:39.479Z"
   },
   {
    "duration": 356,
    "start_time": "2025-02-18T18:30:39.680Z"
   },
   {
    "duration": 67,
    "start_time": "2025-02-18T18:30:40.038Z"
   },
   {
    "duration": 4,
    "start_time": "2025-02-18T18:30:40.107Z"
   },
   {
    "duration": 3,
    "start_time": "2025-02-18T18:30:40.113Z"
   },
   {
    "duration": 10,
    "start_time": "2025-02-18T18:30:40.117Z"
   },
   {
    "duration": 68,
    "start_time": "2025-02-18T18:30:40.129Z"
   },
   {
    "duration": 28,
    "start_time": "2025-02-18T18:30:40.198Z"
   },
   {
    "duration": 6,
    "start_time": "2025-02-18T18:30:40.227Z"
   },
   {
    "duration": 44,
    "start_time": "2025-02-18T18:30:40.235Z"
   },
   {
    "duration": 38,
    "start_time": "2025-02-18T18:30:40.280Z"
   },
   {
    "duration": 24,
    "start_time": "2025-02-18T18:30:40.319Z"
   },
   {
    "duration": 939,
    "start_time": "2025-02-18T18:30:40.360Z"
   },
   {
    "duration": 867,
    "start_time": "2025-02-18T18:30:41.301Z"
   },
   {
    "duration": 1155,
    "start_time": "2025-02-18T18:30:42.169Z"
   },
   {
    "duration": 1009,
    "start_time": "2025-02-18T18:30:43.326Z"
   },
   {
    "duration": 4,
    "start_time": "2025-02-18T18:30:44.337Z"
   },
   {
    "duration": 6,
    "start_time": "2025-02-18T18:30:44.343Z"
   },
   {
    "duration": 130,
    "start_time": "2025-02-18T18:30:44.351Z"
   },
   {
    "duration": 0,
    "start_time": "2025-02-18T18:30:44.483Z"
   },
   {
    "duration": 0,
    "start_time": "2025-02-18T18:30:44.484Z"
   },
   {
    "duration": 0,
    "start_time": "2025-02-18T18:30:44.485Z"
   },
   {
    "duration": 3341,
    "start_time": "2025-02-18T18:31:12.333Z"
   },
   {
    "duration": 2563,
    "start_time": "2025-02-18T18:31:15.676Z"
   },
   {
    "duration": 1563,
    "start_time": "2025-02-18T18:31:18.241Z"
   },
   {
    "duration": 2,
    "start_time": "2025-02-18T18:31:19.806Z"
   },
   {
    "duration": 1034,
    "start_time": "2025-02-18T18:31:19.810Z"
   },
   {
    "duration": 134,
    "start_time": "2025-02-18T18:31:20.845Z"
   },
   {
    "duration": 3,
    "start_time": "2025-02-18T18:31:20.981Z"
   },
   {
    "duration": 179,
    "start_time": "2025-02-18T18:31:20.986Z"
   },
   {
    "duration": 121,
    "start_time": "2025-02-18T18:31:21.167Z"
   },
   {
    "duration": 212,
    "start_time": "2025-02-18T18:31:21.289Z"
   },
   {
    "duration": 403,
    "start_time": "2025-02-18T18:31:21.503Z"
   },
   {
    "duration": 64,
    "start_time": "2025-02-18T18:31:21.907Z"
   },
   {
    "duration": 23,
    "start_time": "2025-02-18T18:31:21.973Z"
   },
   {
    "duration": 4,
    "start_time": "2025-02-18T18:31:21.998Z"
   },
   {
    "duration": 5,
    "start_time": "2025-02-18T18:31:22.003Z"
   },
   {
    "duration": 57,
    "start_time": "2025-02-18T18:31:22.010Z"
   },
   {
    "duration": 27,
    "start_time": "2025-02-18T18:31:22.068Z"
   },
   {
    "duration": 6,
    "start_time": "2025-02-18T18:31:22.097Z"
   },
   {
    "duration": 29,
    "start_time": "2025-02-18T18:31:22.105Z"
   },
   {
    "duration": 61,
    "start_time": "2025-02-18T18:31:22.135Z"
   },
   {
    "duration": 26,
    "start_time": "2025-02-18T18:31:22.198Z"
   },
   {
    "duration": 978,
    "start_time": "2025-02-18T18:31:22.226Z"
   },
   {
    "duration": 920,
    "start_time": "2025-02-18T18:31:23.206Z"
   },
   {
    "duration": 1091,
    "start_time": "2025-02-18T18:31:24.128Z"
   },
   {
    "duration": 967,
    "start_time": "2025-02-18T18:31:25.220Z"
   },
   {
    "duration": 143,
    "start_time": "2025-02-18T18:31:26.189Z"
   },
   {
    "duration": 0,
    "start_time": "2025-02-18T18:31:26.334Z"
   },
   {
    "duration": 0,
    "start_time": "2025-02-18T18:31:26.335Z"
   },
   {
    "duration": 0,
    "start_time": "2025-02-18T18:31:26.336Z"
   },
   {
    "duration": 10,
    "start_time": "2025-02-18T18:31:54.884Z"
   },
   {
    "duration": 3656,
    "start_time": "2025-02-18T18:32:58.691Z"
   },
   {
    "duration": 2582,
    "start_time": "2025-02-18T18:33:02.349Z"
   },
   {
    "duration": 1633,
    "start_time": "2025-02-18T18:33:04.934Z"
   },
   {
    "duration": 2,
    "start_time": "2025-02-18T18:33:06.569Z"
   },
   {
    "duration": 1074,
    "start_time": "2025-02-18T18:33:06.573Z"
   },
   {
    "duration": 152,
    "start_time": "2025-02-18T18:33:07.648Z"
   },
   {
    "duration": 2,
    "start_time": "2025-02-18T18:33:07.802Z"
   },
   {
    "duration": 182,
    "start_time": "2025-02-18T18:33:07.806Z"
   },
   {
    "duration": 123,
    "start_time": "2025-02-18T18:33:07.990Z"
   },
   {
    "duration": 222,
    "start_time": "2025-02-18T18:33:08.114Z"
   },
   {
    "duration": 366,
    "start_time": "2025-02-18T18:33:08.338Z"
   },
   {
    "duration": 67,
    "start_time": "2025-02-18T18:33:08.706Z"
   },
   {
    "duration": 9,
    "start_time": "2025-02-18T18:33:08.775Z"
   },
   {
    "duration": 15,
    "start_time": "2025-02-18T18:33:08.787Z"
   },
   {
    "duration": 4,
    "start_time": "2025-02-18T18:33:08.804Z"
   },
   {
    "duration": 66,
    "start_time": "2025-02-18T18:33:08.810Z"
   },
   {
    "duration": 29,
    "start_time": "2025-02-18T18:33:08.878Z"
   },
   {
    "duration": 7,
    "start_time": "2025-02-18T18:33:08.909Z"
   },
   {
    "duration": 52,
    "start_time": "2025-02-18T18:33:08.918Z"
   },
   {
    "duration": 43,
    "start_time": "2025-02-18T18:33:08.972Z"
   },
   {
    "duration": 44,
    "start_time": "2025-02-18T18:33:09.017Z"
   },
   {
    "duration": 968,
    "start_time": "2025-02-18T18:33:09.063Z"
   },
   {
    "duration": 849,
    "start_time": "2025-02-18T18:33:10.033Z"
   },
   {
    "duration": 1173,
    "start_time": "2025-02-18T18:33:10.884Z"
   },
   {
    "duration": 991,
    "start_time": "2025-02-18T18:33:12.059Z"
   },
   {
    "duration": 579,
    "start_time": "2025-02-18T18:33:13.063Z"
   },
   {
    "duration": 18,
    "start_time": "2025-02-18T18:33:13.661Z"
   },
   {
    "duration": 5,
    "start_time": "2025-02-18T18:33:13.681Z"
   },
   {
    "duration": 3928,
    "start_time": "2025-02-18T18:33:13.687Z"
   },
   {
    "duration": 152,
    "start_time": "2025-02-18T18:42:13.820Z"
   },
   {
    "duration": 5,
    "start_time": "2025-02-18T18:42:44.448Z"
   },
   {
    "duration": 53,
    "start_time": "2025-02-18T18:42:51.727Z"
   },
   {
    "duration": 85,
    "start_time": "2025-02-18T18:43:39.617Z"
   },
   {
    "duration": 28,
    "start_time": "2025-02-18T18:46:47.457Z"
   },
   {
    "duration": 2,
    "start_time": "2025-02-18T18:50:29.834Z"
   },
   {
    "duration": 36,
    "start_time": "2025-02-18T18:51:09.494Z"
   },
   {
    "duration": 35,
    "start_time": "2025-02-18T18:54:17.809Z"
   },
   {
    "duration": 3621,
    "start_time": "2025-02-18T18:58:49.448Z"
   },
   {
    "duration": 6,
    "start_time": "2025-02-18T18:58:56.999Z"
   },
   {
    "duration": 3,
    "start_time": "2025-02-18T18:59:06.504Z"
   },
   {
    "duration": 50,
    "start_time": "2025-02-18T18:59:08.619Z"
   },
   {
    "duration": 41,
    "start_time": "2025-02-18T18:59:51.156Z"
   },
   {
    "duration": 34,
    "start_time": "2025-02-18T19:00:08.308Z"
   },
   {
    "duration": 3,
    "start_time": "2025-02-18T19:04:07.264Z"
   },
   {
    "duration": 33,
    "start_time": "2025-02-18T19:04:10.765Z"
   },
   {
    "duration": 43,
    "start_time": "2025-02-18T19:04:24.461Z"
   },
   {
    "duration": 151,
    "start_time": "2025-02-18T19:27:15.261Z"
   },
   {
    "duration": 14,
    "start_time": "2025-02-18T19:27:31.933Z"
   },
   {
    "duration": 15,
    "start_time": "2025-02-18T19:27:50.256Z"
   },
   {
    "duration": 22,
    "start_time": "2025-02-18T19:28:08.048Z"
   },
   {
    "duration": 3,
    "start_time": "2025-02-18T19:28:27.977Z"
   },
   {
    "duration": 4901,
    "start_time": "2025-02-18T19:28:31.961Z"
   },
   {
    "duration": 50,
    "start_time": "2025-02-18T19:29:02.294Z"
   },
   {
    "duration": 3,
    "start_time": "2025-02-18T19:29:07.331Z"
   },
   {
    "duration": 4538,
    "start_time": "2025-02-18T19:29:09.633Z"
   },
   {
    "duration": 4,
    "start_time": "2025-02-18T19:31:22.724Z"
   },
   {
    "duration": 646,
    "start_time": "2025-02-18T19:32:06.432Z"
   },
   {
    "duration": 3042,
    "start_time": "2025-02-18T19:34:51.930Z"
   },
   {
    "duration": 2720,
    "start_time": "2025-02-18T19:34:54.975Z"
   },
   {
    "duration": 2570,
    "start_time": "2025-02-18T19:34:57.697Z"
   },
   {
    "duration": 1681,
    "start_time": "2025-02-18T19:35:00.269Z"
   },
   {
    "duration": 2,
    "start_time": "2025-02-18T19:35:01.952Z"
   },
   {
    "duration": 1046,
    "start_time": "2025-02-18T19:35:01.955Z"
   },
   {
    "duration": 125,
    "start_time": "2025-02-18T19:35:03.003Z"
   },
   {
    "duration": 3,
    "start_time": "2025-02-18T19:35:03.129Z"
   },
   {
    "duration": 173,
    "start_time": "2025-02-18T19:35:03.134Z"
   },
   {
    "duration": 116,
    "start_time": "2025-02-18T19:35:03.309Z"
   },
   {
    "duration": 228,
    "start_time": "2025-02-18T19:35:03.427Z"
   },
   {
    "duration": 373,
    "start_time": "2025-02-18T19:35:03.657Z"
   },
   {
    "duration": 70,
    "start_time": "2025-02-18T19:35:04.031Z"
   },
   {
    "duration": 14,
    "start_time": "2025-02-18T19:35:04.103Z"
   },
   {
    "duration": 24,
    "start_time": "2025-02-18T19:35:04.118Z"
   },
   {
    "duration": 82,
    "start_time": "2025-02-18T19:35:04.143Z"
   },
   {
    "duration": 69,
    "start_time": "2025-02-18T19:35:04.227Z"
   },
   {
    "duration": 27,
    "start_time": "2025-02-18T19:35:04.297Z"
   },
   {
    "duration": 6,
    "start_time": "2025-02-18T19:35:04.325Z"
   },
   {
    "duration": 53,
    "start_time": "2025-02-18T19:35:04.333Z"
   },
   {
    "duration": 39,
    "start_time": "2025-02-18T19:35:04.388Z"
   },
   {
    "duration": 38,
    "start_time": "2025-02-18T19:35:04.428Z"
   },
   {
    "duration": 1015,
    "start_time": "2025-02-18T19:35:04.467Z"
   },
   {
    "duration": 803,
    "start_time": "2025-02-18T19:35:05.484Z"
   },
   {
    "duration": 985,
    "start_time": "2025-02-18T19:35:06.288Z"
   },
   {
    "duration": 921,
    "start_time": "2025-02-18T19:35:07.275Z"
   },
   {
    "duration": 573,
    "start_time": "2025-02-18T19:35:08.197Z"
   },
   {
    "duration": 17,
    "start_time": "2025-02-18T19:35:08.772Z"
   },
   {
    "duration": 8,
    "start_time": "2025-02-18T19:35:08.790Z"
   },
   {
    "duration": 3773,
    "start_time": "2025-02-18T19:35:08.799Z"
   },
   {
    "duration": 100,
    "start_time": "2025-02-18T19:35:12.573Z"
   },
   {
    "duration": 153,
    "start_time": "2025-02-18T19:35:12.675Z"
   },
   {
    "duration": 55,
    "start_time": "2025-02-18T19:35:12.829Z"
   },
   {
    "duration": 18,
    "start_time": "2025-02-18T19:35:12.886Z"
   },
   {
    "duration": 17,
    "start_time": "2025-02-18T19:35:12.905Z"
   },
   {
    "duration": 1348,
    "start_time": "2025-02-18T19:35:12.923Z"
   },
   {
    "duration": 552,
    "start_time": "2025-02-18T19:35:14.272Z"
   },
   {
    "duration": 6,
    "start_time": "2025-02-18T19:41:18.479Z"
   },
   {
    "duration": 116,
    "start_time": "2025-02-18T19:41:43.048Z"
   },
   {
    "duration": 12,
    "start_time": "2025-02-18T19:41:50.447Z"
   },
   {
    "duration": 11,
    "start_time": "2025-02-18T19:42:06.235Z"
   },
   {
    "duration": 3029,
    "start_time": "2025-02-18T19:42:13.655Z"
   },
   {
    "duration": 2707,
    "start_time": "2025-02-18T19:42:16.686Z"
   },
   {
    "duration": 2487,
    "start_time": "2025-02-18T19:42:19.396Z"
   },
   {
    "duration": 1529,
    "start_time": "2025-02-18T19:42:21.885Z"
   },
   {
    "duration": 2,
    "start_time": "2025-02-18T19:42:23.416Z"
   },
   {
    "duration": 1065,
    "start_time": "2025-02-18T19:42:23.420Z"
   },
   {
    "duration": 123,
    "start_time": "2025-02-18T19:42:24.487Z"
   },
   {
    "duration": 2,
    "start_time": "2025-02-18T19:42:24.612Z"
   },
   {
    "duration": 162,
    "start_time": "2025-02-18T19:42:24.616Z"
   },
   {
    "duration": 113,
    "start_time": "2025-02-18T19:42:24.779Z"
   },
   {
    "duration": 199,
    "start_time": "2025-02-18T19:42:24.894Z"
   },
   {
    "duration": 362,
    "start_time": "2025-02-18T19:42:25.094Z"
   },
   {
    "duration": 64,
    "start_time": "2025-02-18T19:42:25.461Z"
   },
   {
    "duration": 3,
    "start_time": "2025-02-18T19:42:25.529Z"
   },
   {
    "duration": 8,
    "start_time": "2025-02-18T19:42:25.533Z"
   },
   {
    "duration": 20,
    "start_time": "2025-02-18T19:42:25.542Z"
   },
   {
    "duration": 54,
    "start_time": "2025-02-18T19:42:25.564Z"
   },
   {
    "duration": 27,
    "start_time": "2025-02-18T19:42:25.620Z"
   },
   {
    "duration": 6,
    "start_time": "2025-02-18T19:42:25.662Z"
   },
   {
    "duration": 30,
    "start_time": "2025-02-18T19:42:25.669Z"
   },
   {
    "duration": 40,
    "start_time": "2025-02-18T19:42:25.700Z"
   },
   {
    "duration": 44,
    "start_time": "2025-02-18T19:42:25.741Z"
   },
   {
    "duration": 1067,
    "start_time": "2025-02-18T19:42:25.787Z"
   },
   {
    "duration": 830,
    "start_time": "2025-02-18T19:42:26.856Z"
   },
   {
    "duration": 1013,
    "start_time": "2025-02-18T19:42:27.688Z"
   },
   {
    "duration": 968,
    "start_time": "2025-02-18T19:42:28.703Z"
   },
   {
    "duration": 631,
    "start_time": "2025-02-18T19:42:29.673Z"
   },
   {
    "duration": 19,
    "start_time": "2025-02-18T19:42:30.306Z"
   },
   {
    "duration": 20,
    "start_time": "2025-02-18T19:42:30.326Z"
   },
   {
    "duration": 3836,
    "start_time": "2025-02-18T19:42:30.348Z"
   },
   {
    "duration": 102,
    "start_time": "2025-02-18T19:42:34.186Z"
   },
   {
    "duration": 151,
    "start_time": "2025-02-18T19:42:34.290Z"
   },
   {
    "duration": 55,
    "start_time": "2025-02-18T19:42:34.443Z"
   },
   {
    "duration": 5,
    "start_time": "2025-02-18T19:42:34.500Z"
   },
   {
    "duration": 14,
    "start_time": "2025-02-18T19:42:34.507Z"
   },
   {
    "duration": 18,
    "start_time": "2025-02-18T19:42:34.523Z"
   },
   {
    "duration": 1262,
    "start_time": "2025-02-18T19:42:34.543Z"
   },
   {
    "duration": 550,
    "start_time": "2025-02-18T19:42:35.806Z"
   },
   {
    "duration": 133,
    "start_time": "2025-02-18T19:59:01.629Z"
   },
   {
    "duration": 4,
    "start_time": "2025-02-18T19:59:16.639Z"
   },
   {
    "duration": 2,
    "start_time": "2025-02-18T20:01:39.214Z"
   },
   {
    "duration": 11,
    "start_time": "2025-02-18T20:01:39.915Z"
   },
   {
    "duration": 73880,
    "start_time": "2025-02-18T20:01:52.421Z"
   },
   {
    "duration": 10,
    "start_time": "2025-02-18T20:03:44.301Z"
   },
   {
    "duration": 4,
    "start_time": "2025-02-18T20:03:57.463Z"
   },
   {
    "duration": 10,
    "start_time": "2025-02-18T20:04:02.763Z"
   },
   {
    "duration": 3095,
    "start_time": "2025-02-18T20:05:18.058Z"
   },
   {
    "duration": 3057,
    "start_time": "2025-02-18T20:05:21.156Z"
   },
   {
    "duration": 2502,
    "start_time": "2025-02-18T20:05:24.215Z"
   },
   {
    "duration": 1529,
    "start_time": "2025-02-18T20:05:26.720Z"
   },
   {
    "duration": 3,
    "start_time": "2025-02-18T20:05:28.251Z"
   },
   {
    "duration": 1055,
    "start_time": "2025-02-18T20:05:28.255Z"
   },
   {
    "duration": 134,
    "start_time": "2025-02-18T20:05:29.312Z"
   },
   {
    "duration": 3,
    "start_time": "2025-02-18T20:05:29.448Z"
   },
   {
    "duration": 164,
    "start_time": "2025-02-18T20:05:29.460Z"
   },
   {
    "duration": 116,
    "start_time": "2025-02-18T20:05:29.625Z"
   },
   {
    "duration": 208,
    "start_time": "2025-02-18T20:05:29.743Z"
   },
   {
    "duration": 385,
    "start_time": "2025-02-18T20:05:29.952Z"
   },
   {
    "duration": 68,
    "start_time": "2025-02-18T20:05:30.338Z"
   },
   {
    "duration": 4,
    "start_time": "2025-02-18T20:05:30.409Z"
   },
   {
    "duration": 30,
    "start_time": "2025-02-18T20:05:30.415Z"
   },
   {
    "duration": 5,
    "start_time": "2025-02-18T20:05:30.446Z"
   },
   {
    "duration": 57,
    "start_time": "2025-02-18T20:05:30.453Z"
   },
   {
    "duration": 29,
    "start_time": "2025-02-18T20:05:30.511Z"
   },
   {
    "duration": 21,
    "start_time": "2025-02-18T20:05:30.541Z"
   },
   {
    "duration": 31,
    "start_time": "2025-02-18T20:05:30.563Z"
   },
   {
    "duration": 37,
    "start_time": "2025-02-18T20:05:30.596Z"
   },
   {
    "duration": 41,
    "start_time": "2025-02-18T20:05:30.635Z"
   },
   {
    "duration": 1054,
    "start_time": "2025-02-18T20:05:30.678Z"
   },
   {
    "duration": 785,
    "start_time": "2025-02-18T20:05:31.734Z"
   },
   {
    "duration": 996,
    "start_time": "2025-02-18T20:05:32.520Z"
   },
   {
    "duration": 932,
    "start_time": "2025-02-18T20:05:33.517Z"
   },
   {
    "duration": 569,
    "start_time": "2025-02-18T20:05:34.450Z"
   },
   {
    "duration": 18,
    "start_time": "2025-02-18T20:05:35.021Z"
   },
   {
    "duration": 34,
    "start_time": "2025-02-18T20:05:35.040Z"
   },
   {
    "duration": 3724,
    "start_time": "2025-02-18T20:05:35.076Z"
   },
   {
    "duration": 99,
    "start_time": "2025-02-18T20:05:38.804Z"
   },
   {
    "duration": 150,
    "start_time": "2025-02-18T20:05:38.904Z"
   },
   {
    "duration": 53,
    "start_time": "2025-02-18T20:05:39.055Z"
   },
   {
    "duration": 5,
    "start_time": "2025-02-18T20:05:39.109Z"
   },
   {
    "duration": 28,
    "start_time": "2025-02-18T20:05:39.115Z"
   },
   {
    "duration": 9,
    "start_time": "2025-02-18T20:05:39.145Z"
   },
   {
    "duration": 1338,
    "start_time": "2025-02-18T20:05:39.156Z"
   },
   {
    "duration": 543,
    "start_time": "2025-02-18T20:05:40.496Z"
   },
   {
    "duration": 4,
    "start_time": "2025-02-18T20:05:41.041Z"
   },
   {
    "duration": 18,
    "start_time": "2025-02-18T20:05:41.047Z"
   },
   {
    "duration": 19,
    "start_time": "2025-02-18T20:05:41.068Z"
   },
   {
    "duration": 72325,
    "start_time": "2025-02-18T20:05:41.089Z"
   },
   {
    "duration": 0,
    "start_time": "2025-02-18T20:06:53.416Z"
   },
   {
    "duration": 2952,
    "start_time": "2025-02-18T20:09:41.879Z"
   },
   {
    "duration": 2552,
    "start_time": "2025-02-18T20:09:44.834Z"
   },
   {
    "duration": 2381,
    "start_time": "2025-02-18T20:09:47.388Z"
   },
   {
    "duration": 1562,
    "start_time": "2025-02-18T20:09:49.771Z"
   },
   {
    "duration": 3,
    "start_time": "2025-02-18T20:09:51.335Z"
   },
   {
    "duration": 1006,
    "start_time": "2025-02-18T20:09:51.339Z"
   },
   {
    "duration": 125,
    "start_time": "2025-02-18T20:09:52.347Z"
   },
   {
    "duration": 3,
    "start_time": "2025-02-18T20:09:52.473Z"
   },
   {
    "duration": 161,
    "start_time": "2025-02-18T20:09:52.477Z"
   },
   {
    "duration": 108,
    "start_time": "2025-02-18T20:09:52.640Z"
   },
   {
    "duration": 193,
    "start_time": "2025-02-18T20:09:52.750Z"
   },
   {
    "duration": 346,
    "start_time": "2025-02-18T20:09:52.945Z"
   },
   {
    "duration": 72,
    "start_time": "2025-02-18T20:09:53.292Z"
   },
   {
    "duration": 4,
    "start_time": "2025-02-18T20:09:53.367Z"
   },
   {
    "duration": 6,
    "start_time": "2025-02-18T20:09:53.372Z"
   },
   {
    "duration": 5,
    "start_time": "2025-02-18T20:09:53.379Z"
   },
   {
    "duration": 71,
    "start_time": "2025-02-18T20:09:53.386Z"
   },
   {
    "duration": 25,
    "start_time": "2025-02-18T20:09:53.458Z"
   },
   {
    "duration": 7,
    "start_time": "2025-02-18T20:09:53.485Z"
   },
   {
    "duration": 31,
    "start_time": "2025-02-18T20:09:53.493Z"
   },
   {
    "duration": 49,
    "start_time": "2025-02-18T20:09:53.525Z"
   },
   {
    "duration": 24,
    "start_time": "2025-02-18T20:09:53.576Z"
   },
   {
    "duration": 1040,
    "start_time": "2025-02-18T20:09:53.602Z"
   },
   {
    "duration": 762,
    "start_time": "2025-02-18T20:09:54.644Z"
   },
   {
    "duration": 980,
    "start_time": "2025-02-18T20:09:55.407Z"
   },
   {
    "duration": 857,
    "start_time": "2025-02-18T20:09:56.388Z"
   },
   {
    "duration": 559,
    "start_time": "2025-02-18T20:09:57.246Z"
   },
   {
    "duration": 16,
    "start_time": "2025-02-18T20:09:57.806Z"
   },
   {
    "duration": 8,
    "start_time": "2025-02-18T20:09:57.823Z"
   },
   {
    "duration": 3749,
    "start_time": "2025-02-18T20:09:57.832Z"
   },
   {
    "duration": 101,
    "start_time": "2025-02-18T20:10:01.582Z"
   },
   {
    "duration": 7,
    "start_time": "2025-02-18T20:10:01.685Z"
   },
   {
    "duration": 86,
    "start_time": "2025-02-18T20:10:01.694Z"
   },
   {
    "duration": 55,
    "start_time": "2025-02-18T20:10:01.781Z"
   },
   {
    "duration": 67,
    "start_time": "2025-02-18T20:10:01.838Z"
   },
   {
    "duration": 43,
    "start_time": "2025-02-18T20:10:01.907Z"
   },
   {
    "duration": 77076,
    "start_time": "2025-02-18T20:10:01.951Z"
   },
   {
    "duration": 0,
    "start_time": "2025-02-18T20:11:19.029Z"
   },
   {
    "duration": 0,
    "start_time": "2025-02-18T20:11:19.030Z"
   },
   {
    "duration": 0,
    "start_time": "2025-02-18T20:11:19.031Z"
   },
   {
    "duration": 0,
    "start_time": "2025-02-18T20:11:19.032Z"
   },
   {
    "duration": 0,
    "start_time": "2025-02-18T20:11:19.033Z"
   },
   {
    "duration": 0,
    "start_time": "2025-02-18T20:11:19.034Z"
   },
   {
    "duration": 4,
    "start_time": "2025-02-18T20:12:17.075Z"
   },
   {
    "duration": 3,
    "start_time": "2025-02-18T20:12:46.596Z"
   },
   {
    "duration": 3,
    "start_time": "2025-02-18T20:12:47.125Z"
   },
   {
    "duration": 76907,
    "start_time": "2025-02-18T20:13:40.811Z"
   },
   {
    "duration": 3,
    "start_time": "2025-02-18T20:16:26.061Z"
   },
   {
    "duration": 3089,
    "start_time": "2025-02-18T20:22:13.883Z"
   },
   {
    "duration": 2702,
    "start_time": "2025-02-18T20:22:16.975Z"
   },
   {
    "duration": 2455,
    "start_time": "2025-02-18T20:22:19.679Z"
   },
   {
    "duration": 1606,
    "start_time": "2025-02-18T20:22:22.136Z"
   },
   {
    "duration": 2,
    "start_time": "2025-02-18T20:22:23.744Z"
   },
   {
    "duration": 1087,
    "start_time": "2025-02-18T20:22:23.748Z"
   },
   {
    "duration": 133,
    "start_time": "2025-02-18T20:22:24.837Z"
   },
   {
    "duration": 3,
    "start_time": "2025-02-18T20:22:24.972Z"
   },
   {
    "duration": 185,
    "start_time": "2025-02-18T20:22:24.977Z"
   },
   {
    "duration": 122,
    "start_time": "2025-02-18T20:22:25.164Z"
   },
   {
    "duration": 197,
    "start_time": "2025-02-18T20:22:25.289Z"
   },
   {
    "duration": 349,
    "start_time": "2025-02-18T20:22:25.488Z"
   },
   {
    "duration": 67,
    "start_time": "2025-02-18T20:22:25.838Z"
   },
   {
    "duration": 4,
    "start_time": "2025-02-18T20:22:25.908Z"
   },
   {
    "duration": 3,
    "start_time": "2025-02-18T20:22:25.914Z"
   },
   {
    "duration": 3,
    "start_time": "2025-02-18T20:22:25.918Z"
   },
   {
    "duration": 76,
    "start_time": "2025-02-18T20:22:25.923Z"
   },
   {
    "duration": 29,
    "start_time": "2025-02-18T20:22:26.000Z"
   },
   {
    "duration": 7,
    "start_time": "2025-02-18T20:22:26.031Z"
   },
   {
    "duration": 50,
    "start_time": "2025-02-18T20:22:26.039Z"
   },
   {
    "duration": 39,
    "start_time": "2025-02-18T20:22:26.091Z"
   },
   {
    "duration": 42,
    "start_time": "2025-02-18T20:22:26.131Z"
   },
   {
    "duration": 1027,
    "start_time": "2025-02-18T20:22:26.176Z"
   },
   {
    "duration": 813,
    "start_time": "2025-02-18T20:22:27.204Z"
   },
   {
    "duration": 1011,
    "start_time": "2025-02-18T20:22:28.019Z"
   },
   {
    "duration": 986,
    "start_time": "2025-02-18T20:22:29.031Z"
   },
   {
    "duration": 612,
    "start_time": "2025-02-18T20:22:30.019Z"
   },
   {
    "duration": 28,
    "start_time": "2025-02-18T20:22:30.633Z"
   },
   {
    "duration": 4,
    "start_time": "2025-02-18T20:22:30.663Z"
   },
   {
    "duration": 3843,
    "start_time": "2025-02-18T20:22:30.668Z"
   },
   {
    "duration": 107,
    "start_time": "2025-02-18T20:22:34.513Z"
   },
   {
    "duration": 5,
    "start_time": "2025-02-18T20:22:34.622Z"
   },
   {
    "duration": 16,
    "start_time": "2025-02-18T20:22:34.629Z"
   },
   {
    "duration": 25,
    "start_time": "2025-02-18T20:22:34.647Z"
   },
   {
    "duration": 31,
    "start_time": "2025-02-18T20:22:34.674Z"
   },
   {
    "duration": 17,
    "start_time": "2025-02-18T20:22:34.707Z"
   },
   {
    "duration": 130,
    "start_time": "2025-02-18T20:22:34.726Z"
   },
   {
    "duration": 0,
    "start_time": "2025-02-18T20:22:34.857Z"
   },
   {
    "duration": 0,
    "start_time": "2025-02-18T20:22:34.859Z"
   },
   {
    "duration": 0,
    "start_time": "2025-02-18T20:22:34.860Z"
   },
   {
    "duration": 0,
    "start_time": "2025-02-18T20:22:34.861Z"
   },
   {
    "duration": 0,
    "start_time": "2025-02-18T20:22:34.862Z"
   },
   {
    "duration": 0,
    "start_time": "2025-02-18T20:22:34.864Z"
   },
   {
    "duration": 0,
    "start_time": "2025-02-18T20:22:34.865Z"
   },
   {
    "duration": 0,
    "start_time": "2025-02-18T20:22:34.867Z"
   },
   {
    "duration": 0,
    "start_time": "2025-02-18T20:22:34.869Z"
   },
   {
    "duration": 0,
    "start_time": "2025-02-18T20:22:34.870Z"
   },
   {
    "duration": 0,
    "start_time": "2025-02-18T20:22:34.872Z"
   },
   {
    "duration": 13,
    "start_time": "2025-02-18T20:26:35.065Z"
   },
   {
    "duration": 76021,
    "start_time": "2025-02-18T20:28:16.842Z"
   },
   {
    "duration": 4,
    "start_time": "2025-02-18T20:32:39.850Z"
   },
   {
    "duration": 3,
    "start_time": "2025-02-18T20:34:18.490Z"
   },
   {
    "duration": 11863,
    "start_time": "2025-02-18T20:34:19.487Z"
   },
   {
    "duration": 1188,
    "start_time": "2025-02-18T20:35:56.549Z"
   },
   {
    "duration": 4,
    "start_time": "2025-02-18T20:44:50.931Z"
   },
   {
    "duration": 3,
    "start_time": "2025-02-18T20:44:54.595Z"
   },
   {
    "duration": 3,
    "start_time": "2025-02-18T20:44:55.416Z"
   },
   {
    "duration": 30,
    "start_time": "2025-02-18T20:44:56.916Z"
   },
   {
    "duration": 4,
    "start_time": "2025-02-18T20:47:22.992Z"
   },
   {
    "duration": 2,
    "start_time": "2025-02-18T20:47:24.283Z"
   },
   {
    "duration": 28,
    "start_time": "2025-02-18T20:47:25.324Z"
   },
   {
    "duration": 4,
    "start_time": "2025-02-18T20:49:13.289Z"
   },
   {
    "duration": 3,
    "start_time": "2025-02-18T20:49:13.845Z"
   },
   {
    "duration": 28,
    "start_time": "2025-02-18T20:49:14.426Z"
   },
   {
    "duration": 88,
    "start_time": "2025-02-18T20:53:05.940Z"
   },
   {
    "duration": 11,
    "start_time": "2025-02-18T20:56:40.400Z"
   },
   {
    "duration": 5,
    "start_time": "2025-02-18T20:56:50.015Z"
   },
   {
    "duration": 2,
    "start_time": "2025-02-18T20:56:52.492Z"
   },
   {
    "duration": 50,
    "start_time": "2025-02-18T20:56:54.018Z"
   },
   {
    "duration": 4,
    "start_time": "2025-02-18T21:00:06.458Z"
   },
   {
    "duration": 3,
    "start_time": "2025-02-18T21:00:08.507Z"
   },
   {
    "duration": 3,
    "start_time": "2025-02-18T21:00:09.523Z"
   },
   {
    "duration": 74909,
    "start_time": "2025-02-18T21:00:10.712Z"
   },
   {
    "duration": 4,
    "start_time": "2025-02-18T21:02:02.316Z"
   },
   {
    "duration": 4,
    "start_time": "2025-02-18T21:02:02.862Z"
   },
   {
    "duration": 3,
    "start_time": "2025-02-18T21:02:03.265Z"
   },
   {
    "duration": 76116,
    "start_time": "2025-02-18T21:02:04.097Z"
   },
   {
    "duration": 10,
    "start_time": "2025-02-18T21:09:51.274Z"
   },
   {
    "duration": 11,
    "start_time": "2025-02-18T21:10:14.010Z"
   },
   {
    "duration": 4,
    "start_time": "2025-02-18T21:10:24.702Z"
   },
   {
    "duration": 1589,
    "start_time": "2025-02-18T21:11:27.807Z"
   },
   {
    "duration": 3,
    "start_time": "2025-02-18T21:14:44.307Z"
   },
   {
    "duration": 1616,
    "start_time": "2025-02-18T21:14:45.505Z"
   },
   {
    "duration": 4,
    "start_time": "2025-02-18T21:16:18.162Z"
   },
   {
    "duration": 19620,
    "start_time": "2025-02-18T21:16:21.445Z"
   },
   {
    "duration": 1341,
    "start_time": "2025-02-18T21:17:12.950Z"
   },
   {
    "duration": 20105,
    "start_time": "2025-02-18T21:18:10.556Z"
   },
   {
    "duration": 2,
    "start_time": "2025-02-18T21:20:37.619Z"
   },
   {
    "duration": 1304,
    "start_time": "2025-02-18T21:20:40.575Z"
   },
   {
    "duration": 1438,
    "start_time": "2025-02-18T21:24:31.983Z"
   },
   {
    "duration": 1419,
    "start_time": "2025-02-18T21:24:59.949Z"
   },
   {
    "duration": 1623,
    "start_time": "2025-02-18T21:25:39.061Z"
   },
   {
    "duration": 3028,
    "start_time": "2025-02-18T21:27:43.656Z"
   },
   {
    "duration": 3036,
    "start_time": "2025-02-18T21:27:46.686Z"
   },
   {
    "duration": 2672,
    "start_time": "2025-02-18T21:27:49.724Z"
   },
   {
    "duration": 1635,
    "start_time": "2025-02-18T21:27:52.398Z"
   },
   {
    "duration": 3,
    "start_time": "2025-02-18T21:27:54.035Z"
   },
   {
    "duration": 1026,
    "start_time": "2025-02-18T21:27:54.039Z"
   },
   {
    "duration": 114,
    "start_time": "2025-02-18T21:27:55.067Z"
   },
   {
    "duration": 3,
    "start_time": "2025-02-18T21:27:55.183Z"
   },
   {
    "duration": 165,
    "start_time": "2025-02-18T21:27:55.187Z"
   },
   {
    "duration": 116,
    "start_time": "2025-02-18T21:27:55.353Z"
   },
   {
    "duration": 199,
    "start_time": "2025-02-18T21:27:55.470Z"
   },
   {
    "duration": 374,
    "start_time": "2025-02-18T21:27:55.671Z"
   },
   {
    "duration": 67,
    "start_time": "2025-02-18T21:27:56.046Z"
   },
   {
    "duration": 12,
    "start_time": "2025-02-18T21:27:56.116Z"
   },
   {
    "duration": 9,
    "start_time": "2025-02-18T21:27:56.129Z"
   },
   {
    "duration": 5,
    "start_time": "2025-02-18T21:27:56.139Z"
   },
   {
    "duration": 59,
    "start_time": "2025-02-18T21:27:56.145Z"
   },
   {
    "duration": 29,
    "start_time": "2025-02-18T21:27:56.205Z"
   },
   {
    "duration": 26,
    "start_time": "2025-02-18T21:27:56.236Z"
   },
   {
    "duration": 31,
    "start_time": "2025-02-18T21:27:56.263Z"
   },
   {
    "duration": 39,
    "start_time": "2025-02-18T21:27:56.295Z"
   },
   {
    "duration": 45,
    "start_time": "2025-02-18T21:27:56.335Z"
   },
   {
    "duration": 963,
    "start_time": "2025-02-18T21:27:56.382Z"
   },
   {
    "duration": 746,
    "start_time": "2025-02-18T21:27:57.347Z"
   },
   {
    "duration": 972,
    "start_time": "2025-02-18T21:27:58.095Z"
   },
   {
    "duration": 869,
    "start_time": "2025-02-18T21:27:59.068Z"
   },
   {
    "duration": 570,
    "start_time": "2025-02-18T21:27:59.939Z"
   },
   {
    "duration": 21,
    "start_time": "2025-02-18T21:28:00.511Z"
   },
   {
    "duration": 11,
    "start_time": "2025-02-18T21:28:00.534Z"
   },
   {
    "duration": 3662,
    "start_time": "2025-02-18T21:28:00.562Z"
   },
   {
    "duration": 93,
    "start_time": "2025-02-18T21:28:04.225Z"
   },
   {
    "duration": 4,
    "start_time": "2025-02-18T21:28:04.319Z"
   },
   {
    "duration": 1394,
    "start_time": "2025-02-18T21:28:04.324Z"
   },
   {
    "duration": 20048,
    "start_time": "2025-02-18T21:28:05.719Z"
   },
   {
    "duration": 5,
    "start_time": "2025-02-18T21:28:25.862Z"
   },
   {
    "duration": 1812,
    "start_time": "2025-02-18T21:28:25.869Z"
   },
   {
    "duration": 0,
    "start_time": "2025-02-18T21:28:27.683Z"
   },
   {
    "duration": 0,
    "start_time": "2025-02-18T21:28:27.685Z"
   },
   {
    "duration": 0,
    "start_time": "2025-02-18T21:28:27.686Z"
   },
   {
    "duration": 0,
    "start_time": "2025-02-18T21:28:27.688Z"
   },
   {
    "duration": 0,
    "start_time": "2025-02-18T21:28:27.689Z"
   },
   {
    "duration": 0,
    "start_time": "2025-02-18T21:28:27.691Z"
   },
   {
    "duration": 0,
    "start_time": "2025-02-18T21:28:27.692Z"
   },
   {
    "duration": 1284,
    "start_time": "2025-02-18T21:28:54.235Z"
   },
   {
    "duration": 3748,
    "start_time": "2025-02-18T21:33:25.153Z"
   },
   {
    "duration": 6250,
    "start_time": "2025-02-18T21:33:28.903Z"
   },
   {
    "duration": 6479,
    "start_time": "2025-02-18T21:33:35.155Z"
   },
   {
    "duration": 2585,
    "start_time": "2025-02-18T21:33:41.637Z"
   },
   {
    "duration": 1621,
    "start_time": "2025-02-18T21:33:44.225Z"
   },
   {
    "duration": 3,
    "start_time": "2025-02-18T21:33:45.847Z"
   },
   {
    "duration": 1125,
    "start_time": "2025-02-18T21:33:45.851Z"
   },
   {
    "duration": 119,
    "start_time": "2025-02-18T21:33:46.978Z"
   },
   {
    "duration": 3,
    "start_time": "2025-02-18T21:33:47.099Z"
   },
   {
    "duration": 159,
    "start_time": "2025-02-18T21:33:47.103Z"
   },
   {
    "duration": 115,
    "start_time": "2025-02-18T21:33:47.263Z"
   },
   {
    "duration": 205,
    "start_time": "2025-02-18T21:33:47.380Z"
   },
   {
    "duration": 361,
    "start_time": "2025-02-18T21:33:47.586Z"
   },
   {
    "duration": 67,
    "start_time": "2025-02-18T21:33:47.960Z"
   },
   {
    "duration": 5,
    "start_time": "2025-02-18T21:33:48.029Z"
   },
   {
    "duration": 23,
    "start_time": "2025-02-18T21:33:48.036Z"
   },
   {
    "duration": 22,
    "start_time": "2025-02-18T21:33:48.060Z"
   },
   {
    "duration": 73,
    "start_time": "2025-02-18T21:33:48.083Z"
   },
   {
    "duration": 28,
    "start_time": "2025-02-18T21:33:48.158Z"
   },
   {
    "duration": 8,
    "start_time": "2025-02-18T21:33:48.187Z"
   },
   {
    "duration": 31,
    "start_time": "2025-02-18T21:33:48.196Z"
   },
   {
    "duration": 62,
    "start_time": "2025-02-18T21:33:48.229Z"
   },
   {
    "duration": 29,
    "start_time": "2025-02-18T21:33:48.293Z"
   },
   {
    "duration": 1047,
    "start_time": "2025-02-18T21:33:48.323Z"
   },
   {
    "duration": 820,
    "start_time": "2025-02-18T21:33:49.371Z"
   },
   {
    "duration": 1043,
    "start_time": "2025-02-18T21:33:50.193Z"
   },
   {
    "duration": 948,
    "start_time": "2025-02-18T21:33:51.238Z"
   },
   {
    "duration": 581,
    "start_time": "2025-02-18T21:33:52.188Z"
   },
   {
    "duration": 18,
    "start_time": "2025-02-18T21:33:52.771Z"
   },
   {
    "duration": 17,
    "start_time": "2025-02-18T21:33:52.790Z"
   },
   {
    "duration": 3869,
    "start_time": "2025-02-18T21:33:52.809Z"
   },
   {
    "duration": 90,
    "start_time": "2025-02-18T21:33:56.680Z"
   },
   {
    "duration": 5,
    "start_time": "2025-02-18T21:33:56.771Z"
   },
   {
    "duration": 1438,
    "start_time": "2025-02-18T21:33:56.777Z"
   },
   {
    "duration": 20348,
    "start_time": "2025-02-18T21:33:58.217Z"
   },
   {
    "duration": 3,
    "start_time": "2025-02-18T21:34:18.660Z"
   },
   {
    "duration": 1456,
    "start_time": "2025-02-18T21:34:18.665Z"
   },
   {
    "duration": 0,
    "start_time": "2025-02-18T21:34:20.124Z"
   },
   {
    "duration": 0,
    "start_time": "2025-02-18T21:34:20.125Z"
   },
   {
    "duration": 0,
    "start_time": "2025-02-18T21:34:20.126Z"
   },
   {
    "duration": 0,
    "start_time": "2025-02-18T21:34:20.127Z"
   },
   {
    "duration": 0,
    "start_time": "2025-02-18T21:34:20.128Z"
   },
   {
    "duration": 0,
    "start_time": "2025-02-18T21:34:20.129Z"
   },
   {
    "duration": 0,
    "start_time": "2025-02-18T21:34:20.130Z"
   },
   {
    "duration": 3418,
    "start_time": "2025-02-18T21:34:48.166Z"
   },
   {
    "duration": 9277,
    "start_time": "2025-02-18T21:34:51.587Z"
   },
   {
    "duration": 8916,
    "start_time": "2025-02-18T21:35:00.866Z"
   },
   {
    "duration": 6368,
    "start_time": "2025-02-18T21:35:09.783Z"
   },
   {
    "duration": 2770,
    "start_time": "2025-02-18T21:35:16.153Z"
   },
   {
    "duration": 2522,
    "start_time": "2025-02-18T21:35:18.925Z"
   },
   {
    "duration": 904,
    "start_time": "2025-02-18T21:35:21.449Z"
   },
   {
    "duration": 0,
    "start_time": "2025-02-18T21:35:22.356Z"
   },
   {
    "duration": 0,
    "start_time": "2025-02-18T21:35:22.357Z"
   },
   {
    "duration": 0,
    "start_time": "2025-02-18T21:35:22.358Z"
   },
   {
    "duration": 0,
    "start_time": "2025-02-18T21:35:22.359Z"
   },
   {
    "duration": 0,
    "start_time": "2025-02-18T21:35:22.360Z"
   },
   {
    "duration": 0,
    "start_time": "2025-02-18T21:35:22.362Z"
   },
   {
    "duration": 0,
    "start_time": "2025-02-18T21:35:22.363Z"
   },
   {
    "duration": 0,
    "start_time": "2025-02-18T21:35:22.364Z"
   },
   {
    "duration": 0,
    "start_time": "2025-02-18T21:35:22.365Z"
   },
   {
    "duration": 0,
    "start_time": "2025-02-18T21:35:22.366Z"
   },
   {
    "duration": 0,
    "start_time": "2025-02-18T21:35:22.367Z"
   },
   {
    "duration": 0,
    "start_time": "2025-02-18T21:35:22.368Z"
   },
   {
    "duration": 0,
    "start_time": "2025-02-18T21:35:22.369Z"
   },
   {
    "duration": 0,
    "start_time": "2025-02-18T21:35:22.370Z"
   },
   {
    "duration": 0,
    "start_time": "2025-02-18T21:35:22.371Z"
   },
   {
    "duration": 0,
    "start_time": "2025-02-18T21:35:22.372Z"
   },
   {
    "duration": 0,
    "start_time": "2025-02-18T21:35:22.373Z"
   },
   {
    "duration": 0,
    "start_time": "2025-02-18T21:35:22.374Z"
   },
   {
    "duration": 0,
    "start_time": "2025-02-18T21:35:22.375Z"
   },
   {
    "duration": 0,
    "start_time": "2025-02-18T21:35:22.376Z"
   },
   {
    "duration": 0,
    "start_time": "2025-02-18T21:35:22.377Z"
   },
   {
    "duration": 0,
    "start_time": "2025-02-18T21:35:22.378Z"
   },
   {
    "duration": 0,
    "start_time": "2025-02-18T21:35:22.379Z"
   },
   {
    "duration": 0,
    "start_time": "2025-02-18T21:35:22.380Z"
   },
   {
    "duration": 0,
    "start_time": "2025-02-18T21:35:22.381Z"
   },
   {
    "duration": 0,
    "start_time": "2025-02-18T21:35:22.382Z"
   },
   {
    "duration": 0,
    "start_time": "2025-02-18T21:35:22.383Z"
   },
   {
    "duration": 0,
    "start_time": "2025-02-18T21:35:22.384Z"
   },
   {
    "duration": 0,
    "start_time": "2025-02-18T21:35:22.385Z"
   },
   {
    "duration": 0,
    "start_time": "2025-02-18T21:35:22.386Z"
   },
   {
    "duration": 0,
    "start_time": "2025-02-18T21:35:22.387Z"
   },
   {
    "duration": 0,
    "start_time": "2025-02-18T21:35:22.388Z"
   },
   {
    "duration": 0,
    "start_time": "2025-02-18T21:35:22.389Z"
   },
   {
    "duration": 0,
    "start_time": "2025-02-18T21:35:22.390Z"
   },
   {
    "duration": 0,
    "start_time": "2025-02-18T21:35:22.391Z"
   },
   {
    "duration": 0,
    "start_time": "2025-02-18T21:35:22.393Z"
   },
   {
    "duration": 0,
    "start_time": "2025-02-18T21:35:22.394Z"
   },
   {
    "duration": 0,
    "start_time": "2025-02-18T21:35:22.396Z"
   },
   {
    "duration": 0,
    "start_time": "2025-02-18T21:35:22.397Z"
   },
   {
    "duration": 3977,
    "start_time": "2025-02-18T21:36:18.999Z"
   },
   {
    "duration": 3171,
    "start_time": "2025-02-18T21:36:22.979Z"
   },
   {
    "duration": 3246,
    "start_time": "2025-02-18T21:36:26.151Z"
   },
   {
    "duration": 3654,
    "start_time": "2025-02-18T21:36:29.399Z"
   },
   {
    "duration": 10397,
    "start_time": "2025-02-18T21:36:33.057Z"
   },
   {
    "duration": 2852,
    "start_time": "2025-02-18T21:36:43.456Z"
   },
   {
    "duration": 2573,
    "start_time": "2025-02-18T21:36:46.310Z"
   },
   {
    "duration": 1673,
    "start_time": "2025-02-18T21:36:48.885Z"
   },
   {
    "duration": 3,
    "start_time": "2025-02-18T21:36:50.559Z"
   },
   {
    "duration": 1117,
    "start_time": "2025-02-18T21:36:50.564Z"
   },
   {
    "duration": 124,
    "start_time": "2025-02-18T21:36:51.684Z"
   },
   {
    "duration": 3,
    "start_time": "2025-02-18T21:36:51.810Z"
   },
   {
    "duration": 129,
    "start_time": "2025-02-18T21:36:51.815Z"
   },
   {
    "duration": 23,
    "start_time": "2025-02-18T21:36:51.947Z"
   },
   {
    "duration": 172,
    "start_time": "2025-02-18T21:36:51.972Z"
   },
   {
    "duration": 307,
    "start_time": "2025-02-18T21:36:52.146Z"
   },
   {
    "duration": 65,
    "start_time": "2025-02-18T21:36:52.455Z"
   },
   {
    "duration": 7,
    "start_time": "2025-02-18T21:36:52.521Z"
   },
   {
    "duration": 11,
    "start_time": "2025-02-18T21:36:52.530Z"
   },
   {
    "duration": 12,
    "start_time": "2025-02-18T21:36:52.543Z"
   },
   {
    "duration": 50,
    "start_time": "2025-02-18T21:36:52.556Z"
   },
   {
    "duration": 17,
    "start_time": "2025-02-18T21:36:52.608Z"
   },
   {
    "duration": 6,
    "start_time": "2025-02-18T21:36:52.627Z"
   },
   {
    "duration": 46,
    "start_time": "2025-02-18T21:36:52.635Z"
   },
   {
    "duration": 29,
    "start_time": "2025-02-18T21:36:52.683Z"
   },
   {
    "duration": 27,
    "start_time": "2025-02-18T21:36:52.713Z"
   },
   {
    "duration": 682,
    "start_time": "2025-02-18T21:36:52.742Z"
   },
   {
    "duration": 571,
    "start_time": "2025-02-18T21:36:53.425Z"
   },
   {
    "duration": 864,
    "start_time": "2025-02-18T21:36:53.998Z"
   },
   {
    "duration": 748,
    "start_time": "2025-02-18T21:36:54.864Z"
   },
   {
    "duration": 408,
    "start_time": "2025-02-18T21:36:55.613Z"
   },
   {
    "duration": 16,
    "start_time": "2025-02-18T21:36:56.023Z"
   },
   {
    "duration": 20,
    "start_time": "2025-02-18T21:36:56.041Z"
   },
   {
    "duration": 3029,
    "start_time": "2025-02-18T21:36:56.063Z"
   },
   {
    "duration": 89,
    "start_time": "2025-02-18T21:36:59.094Z"
   },
   {
    "duration": 4,
    "start_time": "2025-02-18T21:36:59.185Z"
   },
   {
    "duration": 1430,
    "start_time": "2025-02-18T21:36:59.190Z"
   },
   {
    "duration": 17364,
    "start_time": "2025-02-18T21:37:00.622Z"
   },
   {
    "duration": 4,
    "start_time": "2025-02-18T21:37:18.062Z"
   },
   {
    "duration": 1578,
    "start_time": "2025-02-18T21:37:18.068Z"
   },
   {
    "duration": 0,
    "start_time": "2025-02-18T21:37:19.648Z"
   },
   {
    "duration": 0,
    "start_time": "2025-02-18T21:37:19.649Z"
   },
   {
    "duration": 0,
    "start_time": "2025-02-18T21:37:19.651Z"
   },
   {
    "duration": 0,
    "start_time": "2025-02-18T21:37:19.652Z"
   },
   {
    "duration": 0,
    "start_time": "2025-02-18T21:37:19.652Z"
   },
   {
    "duration": 0,
    "start_time": "2025-02-18T21:37:19.653Z"
   },
   {
    "duration": 0,
    "start_time": "2025-02-18T21:37:19.654Z"
   },
   {
    "duration": 7861,
    "start_time": "2025-02-19T14:48:30.344Z"
   },
   {
    "duration": 3,
    "start_time": "2025-02-19T14:48:38.208Z"
   },
   {
    "duration": 25,
    "start_time": "2025-02-19T14:48:38.213Z"
   },
   {
    "duration": 10,
    "start_time": "2025-02-19T14:48:38.240Z"
   },
   {
    "duration": 4,
    "start_time": "2025-02-19T14:48:38.253Z"
   },
   {
    "duration": 128831,
    "start_time": "2025-02-19T14:48:38.258Z"
   },
   {
    "duration": 3389,
    "start_time": "2025-02-19T14:50:47.091Z"
   },
   {
    "duration": 1783,
    "start_time": "2025-02-19T14:50:50.483Z"
   },
   {
    "duration": 3,
    "start_time": "2025-02-19T14:50:52.268Z"
   },
   {
    "duration": 1104,
    "start_time": "2025-02-19T14:50:52.273Z"
   },
   {
    "duration": 132,
    "start_time": "2025-02-19T14:50:53.379Z"
   },
   {
    "duration": 3,
    "start_time": "2025-02-19T14:50:53.513Z"
   },
   {
    "duration": 176,
    "start_time": "2025-02-19T14:50:53.518Z"
   },
   {
    "duration": 112,
    "start_time": "2025-02-19T14:50:53.698Z"
   },
   {
    "duration": 206,
    "start_time": "2025-02-19T14:50:53.812Z"
   },
   {
    "duration": 374,
    "start_time": "2025-02-19T14:50:54.020Z"
   },
   {
    "duration": 73,
    "start_time": "2025-02-19T14:50:54.396Z"
   },
   {
    "duration": 5,
    "start_time": "2025-02-19T14:50:54.470Z"
   },
   {
    "duration": 12,
    "start_time": "2025-02-19T14:50:54.476Z"
   },
   {
    "duration": 26,
    "start_time": "2025-02-19T14:50:54.489Z"
   },
   {
    "duration": 54,
    "start_time": "2025-02-19T14:50:54.516Z"
   },
   {
    "duration": 42,
    "start_time": "2025-02-19T14:50:54.572Z"
   },
   {
    "duration": 11,
    "start_time": "2025-02-19T14:50:54.616Z"
   },
   {
    "duration": 32,
    "start_time": "2025-02-19T14:50:54.629Z"
   },
   {
    "duration": 61,
    "start_time": "2025-02-19T14:50:54.663Z"
   },
   {
    "duration": 25,
    "start_time": "2025-02-19T14:50:54.726Z"
   },
   {
    "duration": 331,
    "start_time": "2025-02-19T14:50:54.753Z"
   },
   {
    "duration": 281,
    "start_time": "2025-02-19T14:50:55.085Z"
   },
   {
    "duration": 416,
    "start_time": "2025-02-19T14:50:55.368Z"
   },
   {
    "duration": 388,
    "start_time": "2025-02-19T14:50:55.785Z"
   },
   {
    "duration": 583,
    "start_time": "2025-02-19T14:50:56.175Z"
   },
   {
    "duration": 17,
    "start_time": "2025-02-19T14:50:56.760Z"
   },
   {
    "duration": 64,
    "start_time": "2025-02-19T14:50:56.779Z"
   },
   {
    "duration": 4310,
    "start_time": "2025-02-19T14:50:56.845Z"
   },
   {
    "duration": 113,
    "start_time": "2025-02-19T14:51:01.157Z"
   },
   {
    "duration": 4,
    "start_time": "2025-02-19T14:51:01.272Z"
   },
   {
    "duration": 1503,
    "start_time": "2025-02-19T14:51:01.278Z"
   },
   {
    "duration": 30136,
    "start_time": "2025-02-19T14:51:02.783Z"
   },
   {
    "duration": 88,
    "start_time": "2025-02-19T14:51:32.922Z"
   },
   {
    "duration": 1499,
    "start_time": "2025-02-19T14:51:33.012Z"
   },
   {
    "duration": 0,
    "start_time": "2025-02-19T14:51:34.513Z"
   },
   {
    "duration": 0,
    "start_time": "2025-02-19T14:51:34.514Z"
   },
   {
    "duration": 0,
    "start_time": "2025-02-19T14:51:34.515Z"
   },
   {
    "duration": 0,
    "start_time": "2025-02-19T14:51:34.516Z"
   },
   {
    "duration": 0,
    "start_time": "2025-02-19T14:51:34.518Z"
   },
   {
    "duration": 0,
    "start_time": "2025-02-19T14:51:34.519Z"
   },
   {
    "duration": 0,
    "start_time": "2025-02-19T14:51:34.519Z"
   },
   {
    "duration": 6,
    "start_time": "2025-02-19T15:00:56.143Z"
   },
   {
    "duration": 25925,
    "start_time": "2025-02-19T15:01:23.787Z"
   },
   {
    "duration": 3,
    "start_time": "2025-02-19T15:06:33.831Z"
   },
   {
    "duration": 45,
    "start_time": "2025-02-19T15:06:35.129Z"
   },
   {
    "duration": 1539,
    "start_time": "2025-02-19T15:07:34.769Z"
   },
   {
    "duration": 4,
    "start_time": "2025-02-19T15:11:27.346Z"
   },
   {
    "duration": 428,
    "start_time": "2025-02-19T15:11:58.763Z"
   },
   {
    "duration": 15,
    "start_time": "2025-02-19T15:12:23.612Z"
   },
   {
    "duration": 331,
    "start_time": "2025-02-19T15:13:05.767Z"
   },
   {
    "duration": 52,
    "start_time": "2025-02-19T15:15:12.926Z"
   },
   {
    "duration": 92,
    "start_time": "2025-02-19T15:15:54.256Z"
   },
   {
    "duration": 2994,
    "start_time": "2025-02-19T15:16:20.608Z"
   },
   {
    "duration": 3,
    "start_time": "2025-02-19T15:16:23.604Z"
   },
   {
    "duration": 9,
    "start_time": "2025-02-19T15:16:23.608Z"
   },
   {
    "duration": 7,
    "start_time": "2025-02-19T15:16:23.618Z"
   },
   {
    "duration": 4,
    "start_time": "2025-02-19T15:16:23.627Z"
   },
   {
    "duration": 3302,
    "start_time": "2025-02-19T15:16:23.633Z"
   },
   {
    "duration": 2385,
    "start_time": "2025-02-19T15:16:26.937Z"
   },
   {
    "duration": 1457,
    "start_time": "2025-02-19T15:16:29.324Z"
   },
   {
    "duration": 3,
    "start_time": "2025-02-19T15:16:30.782Z"
   },
   {
    "duration": 1070,
    "start_time": "2025-02-19T15:16:30.786Z"
   },
   {
    "duration": 125,
    "start_time": "2025-02-19T15:16:31.857Z"
   },
   {
    "duration": 3,
    "start_time": "2025-02-19T15:16:31.983Z"
   },
   {
    "duration": 171,
    "start_time": "2025-02-19T15:16:31.987Z"
   },
   {
    "duration": 112,
    "start_time": "2025-02-19T15:16:32.161Z"
   },
   {
    "duration": 227,
    "start_time": "2025-02-19T15:16:32.275Z"
   },
   {
    "duration": 357,
    "start_time": "2025-02-19T15:16:32.503Z"
   },
   {
    "duration": 76,
    "start_time": "2025-02-19T15:16:32.861Z"
   },
   {
    "duration": 17,
    "start_time": "2025-02-19T15:16:32.939Z"
   },
   {
    "duration": 5,
    "start_time": "2025-02-19T15:16:32.958Z"
   },
   {
    "duration": 13,
    "start_time": "2025-02-19T15:16:32.964Z"
   },
   {
    "duration": 65,
    "start_time": "2025-02-19T15:16:32.979Z"
   },
   {
    "duration": 25,
    "start_time": "2025-02-19T15:16:33.046Z"
   },
   {
    "duration": 6,
    "start_time": "2025-02-19T15:16:33.073Z"
   },
   {
    "duration": 44,
    "start_time": "2025-02-19T15:16:33.081Z"
   },
   {
    "duration": 38,
    "start_time": "2025-02-19T15:16:33.127Z"
   },
   {
    "duration": 43,
    "start_time": "2025-02-19T15:16:33.167Z"
   },
   {
    "duration": 305,
    "start_time": "2025-02-19T15:16:33.211Z"
   },
   {
    "duration": 265,
    "start_time": "2025-02-19T15:16:33.517Z"
   },
   {
    "duration": 399,
    "start_time": "2025-02-19T15:16:33.784Z"
   },
   {
    "duration": 363,
    "start_time": "2025-02-19T15:16:34.185Z"
   },
   {
    "duration": 573,
    "start_time": "2025-02-19T15:16:34.549Z"
   },
   {
    "duration": 17,
    "start_time": "2025-02-19T15:16:35.124Z"
   },
   {
    "duration": 16,
    "start_time": "2025-02-19T15:16:35.142Z"
   },
   {
    "duration": 4145,
    "start_time": "2025-02-19T15:16:35.159Z"
   },
   {
    "duration": 103,
    "start_time": "2025-02-19T15:16:39.309Z"
   },
   {
    "duration": 5,
    "start_time": "2025-02-19T15:16:39.414Z"
   },
   {
    "duration": 23,
    "start_time": "2025-02-19T15:16:39.421Z"
   },
   {
    "duration": 1433,
    "start_time": "2025-02-19T15:16:39.446Z"
   },
   {
    "duration": 20132,
    "start_time": "2025-02-19T15:16:40.881Z"
   },
   {
    "duration": 92,
    "start_time": "2025-02-19T15:17:01.018Z"
   },
   {
    "duration": 17,
    "start_time": "2025-02-19T15:17:01.114Z"
   },
   {
    "duration": 20,
    "start_time": "2025-02-19T15:17:01.133Z"
   },
   {
    "duration": 320,
    "start_time": "2025-02-19T15:17:01.154Z"
   },
   {
    "duration": 50,
    "start_time": "2025-02-19T15:17:01.476Z"
   },
   {
    "duration": 208,
    "start_time": "2025-02-19T15:17:01.527Z"
   },
   {
    "duration": 0,
    "start_time": "2025-02-19T15:17:01.737Z"
   },
   {
    "duration": 0,
    "start_time": "2025-02-19T15:17:01.738Z"
   },
   {
    "duration": 0,
    "start_time": "2025-02-19T15:17:01.739Z"
   },
   {
    "duration": 0,
    "start_time": "2025-02-19T15:17:01.740Z"
   },
   {
    "duration": 0,
    "start_time": "2025-02-19T15:17:01.741Z"
   },
   {
    "duration": 0,
    "start_time": "2025-02-19T15:17:01.742Z"
   },
   {
    "duration": 0,
    "start_time": "2025-02-19T15:17:01.743Z"
   },
   {
    "duration": 1201,
    "start_time": "2025-02-19T15:27:16.965Z"
   },
   {
    "duration": 4272,
    "start_time": "2025-02-19T15:28:02.391Z"
   },
   {
    "duration": 1553,
    "start_time": "2025-02-19T15:32:25.134Z"
   },
   {
    "duration": 1561,
    "start_time": "2025-02-19T15:32:35.485Z"
   },
   {
    "duration": 5,
    "start_time": "2025-02-19T15:36:20.183Z"
   },
   {
    "duration": 3,
    "start_time": "2025-02-19T15:36:58.683Z"
   },
   {
    "duration": 136,
    "start_time": "2025-02-19T15:37:08.580Z"
   },
   {
    "duration": 611,
    "start_time": "2025-02-19T15:40:35.363Z"
   },
   {
    "duration": 2096,
    "start_time": "2025-02-19T15:41:47.517Z"
   },
   {
    "duration": 15,
    "start_time": "2025-02-19T15:42:55.407Z"
   },
   {
    "duration": 1547,
    "start_time": "2025-02-19T15:44:48.333Z"
   },
   {
    "duration": 388,
    "start_time": "2025-02-19T15:44:52.186Z"
   },
   {
    "duration": 583,
    "start_time": "2025-02-19T15:44:58.040Z"
   },
   {
    "duration": 14,
    "start_time": "2025-02-19T15:45:18.475Z"
   },
   {
    "duration": 348,
    "start_time": "2025-02-19T15:45:56.615Z"
   },
   {
    "duration": 3360,
    "start_time": "2025-02-19T15:57:46.674Z"
   },
   {
    "duration": 3,
    "start_time": "2025-02-19T15:57:50.036Z"
   },
   {
    "duration": 11,
    "start_time": "2025-02-19T15:57:50.041Z"
   },
   {
    "duration": 5,
    "start_time": "2025-02-19T15:57:50.054Z"
   },
   {
    "duration": 6,
    "start_time": "2025-02-19T15:57:50.060Z"
   },
   {
    "duration": 2884,
    "start_time": "2025-02-19T15:57:50.067Z"
   },
   {
    "duration": 2534,
    "start_time": "2025-02-19T15:57:52.953Z"
   },
   {
    "duration": 1523,
    "start_time": "2025-02-19T15:57:55.489Z"
   },
   {
    "duration": 3,
    "start_time": "2025-02-19T15:57:57.014Z"
   },
   {
    "duration": 1275,
    "start_time": "2025-02-19T15:57:57.020Z"
   },
   {
    "duration": 127,
    "start_time": "2025-02-19T15:57:58.297Z"
   },
   {
    "duration": 3,
    "start_time": "2025-02-19T15:57:58.426Z"
   },
   {
    "duration": 181,
    "start_time": "2025-02-19T15:57:58.431Z"
   },
   {
    "duration": 129,
    "start_time": "2025-02-19T15:57:58.614Z"
   },
   {
    "duration": 274,
    "start_time": "2025-02-19T15:57:58.745Z"
   },
   {
    "duration": 391,
    "start_time": "2025-02-19T15:57:59.020Z"
   },
   {
    "duration": 69,
    "start_time": "2025-02-19T15:57:59.413Z"
   },
   {
    "duration": 59,
    "start_time": "2025-02-19T15:57:59.484Z"
   },
   {
    "duration": 6,
    "start_time": "2025-02-19T15:57:59.546Z"
   },
   {
    "duration": 5,
    "start_time": "2025-02-19T15:57:59.554Z"
   },
   {
    "duration": 55,
    "start_time": "2025-02-19T15:57:59.561Z"
   },
   {
    "duration": 37,
    "start_time": "2025-02-19T15:57:59.618Z"
   },
   {
    "duration": 11,
    "start_time": "2025-02-19T15:57:59.657Z"
   },
   {
    "duration": 60,
    "start_time": "2025-02-19T15:57:59.671Z"
   },
   {
    "duration": 42,
    "start_time": "2025-02-19T15:57:59.734Z"
   },
   {
    "duration": 38,
    "start_time": "2025-02-19T15:57:59.778Z"
   },
   {
    "duration": 328,
    "start_time": "2025-02-19T15:57:59.818Z"
   },
   {
    "duration": 288,
    "start_time": "2025-02-19T15:58:00.150Z"
   },
   {
    "duration": 435,
    "start_time": "2025-02-19T15:58:00.439Z"
   },
   {
    "duration": 442,
    "start_time": "2025-02-19T15:58:00.875Z"
   },
   {
    "duration": 671,
    "start_time": "2025-02-19T15:58:01.319Z"
   },
   {
    "duration": 19,
    "start_time": "2025-02-19T15:58:01.992Z"
   },
   {
    "duration": 18,
    "start_time": "2025-02-19T15:58:02.013Z"
   },
   {
    "duration": 5234,
    "start_time": "2025-02-19T15:58:02.033Z"
   },
   {
    "duration": 105,
    "start_time": "2025-02-19T15:58:07.269Z"
   },
   {
    "duration": 6,
    "start_time": "2025-02-19T15:58:07.376Z"
   },
   {
    "duration": 3082,
    "start_time": "2025-02-19T16:03:57.813Z"
   },
   {
    "duration": 4,
    "start_time": "2025-02-19T16:04:00.898Z"
   },
   {
    "duration": 40,
    "start_time": "2025-02-19T16:04:00.904Z"
   },
   {
    "duration": 8,
    "start_time": "2025-02-19T16:04:00.946Z"
   },
   {
    "duration": 18,
    "start_time": "2025-02-19T16:04:00.958Z"
   },
   {
    "duration": 2742,
    "start_time": "2025-02-19T16:04:00.978Z"
   },
   {
    "duration": 2464,
    "start_time": "2025-02-19T16:04:03.723Z"
   },
   {
    "duration": 1465,
    "start_time": "2025-02-19T16:04:06.189Z"
   },
   {
    "duration": 2,
    "start_time": "2025-02-19T16:04:07.656Z"
   },
   {
    "duration": 1065,
    "start_time": "2025-02-19T16:04:07.659Z"
   },
   {
    "duration": 158,
    "start_time": "2025-02-19T16:04:08.725Z"
   },
   {
    "duration": 4,
    "start_time": "2025-02-19T16:04:08.885Z"
   },
   {
    "duration": 181,
    "start_time": "2025-02-19T16:04:08.890Z"
   },
   {
    "duration": 113,
    "start_time": "2025-02-19T16:04:09.074Z"
   },
   {
    "duration": 220,
    "start_time": "2025-02-19T16:04:09.189Z"
   },
   {
    "duration": 372,
    "start_time": "2025-02-19T16:04:09.412Z"
   },
   {
    "duration": 74,
    "start_time": "2025-02-19T16:04:09.785Z"
   },
   {
    "duration": 4,
    "start_time": "2025-02-19T16:04:09.861Z"
   },
   {
    "duration": 5,
    "start_time": "2025-02-19T16:04:09.866Z"
   },
   {
    "duration": 17,
    "start_time": "2025-02-19T16:04:09.873Z"
   },
   {
    "duration": 73,
    "start_time": "2025-02-19T16:04:09.892Z"
   },
   {
    "duration": 26,
    "start_time": "2025-02-19T16:04:09.966Z"
   },
   {
    "duration": 36,
    "start_time": "2025-02-19T16:04:09.994Z"
   },
   {
    "duration": 38,
    "start_time": "2025-02-19T16:04:10.032Z"
   },
   {
    "duration": 38,
    "start_time": "2025-02-19T16:04:10.072Z"
   },
   {
    "duration": 26,
    "start_time": "2025-02-19T16:04:10.112Z"
   },
   {
    "duration": 318,
    "start_time": "2025-02-19T16:04:10.139Z"
   },
   {
    "duration": 286,
    "start_time": "2025-02-19T16:04:10.459Z"
   },
   {
    "duration": 423,
    "start_time": "2025-02-19T16:04:10.747Z"
   },
   {
    "duration": 384,
    "start_time": "2025-02-19T16:04:11.173Z"
   },
   {
    "duration": 583,
    "start_time": "2025-02-19T16:04:11.559Z"
   },
   {
    "duration": 19,
    "start_time": "2025-02-19T16:04:12.143Z"
   },
   {
    "duration": 4,
    "start_time": "2025-02-19T16:04:12.163Z"
   },
   {
    "duration": 4235,
    "start_time": "2025-02-19T16:04:12.168Z"
   },
   {
    "duration": 130,
    "start_time": "2025-02-19T16:04:16.405Z"
   },
   {
    "duration": 5,
    "start_time": "2025-02-19T16:04:16.536Z"
   },
   {
    "duration": 25870,
    "start_time": "2025-02-19T16:04:16.542Z"
   },
   {
    "duration": 5,
    "start_time": "2025-02-19T16:04:42.414Z"
   },
   {
    "duration": 17,
    "start_time": "2025-02-19T16:04:42.512Z"
   },
   {
    "duration": 4868,
    "start_time": "2025-02-19T16:04:42.530Z"
   },
   {
    "duration": 128,
    "start_time": "2025-02-19T16:04:47.401Z"
   },
   {
    "duration": 0,
    "start_time": "2025-02-19T16:04:47.531Z"
   },
   {
    "duration": 0,
    "start_time": "2025-02-19T16:04:47.532Z"
   },
   {
    "duration": 0,
    "start_time": "2025-02-19T16:04:47.533Z"
   },
   {
    "duration": 0,
    "start_time": "2025-02-19T16:04:47.534Z"
   },
   {
    "duration": 0,
    "start_time": "2025-02-19T16:04:47.535Z"
   },
   {
    "duration": 0,
    "start_time": "2025-02-19T16:04:47.536Z"
   },
   {
    "duration": 0,
    "start_time": "2025-02-19T16:04:47.537Z"
   },
   {
    "duration": 1586,
    "start_time": "2025-02-19T16:05:46.658Z"
   },
   {
    "duration": 29,
    "start_time": "2025-02-19T16:06:38.119Z"
   },
   {
    "duration": 4,
    "start_time": "2025-02-19T16:13:10.189Z"
   },
   {
    "duration": 3062,
    "start_time": "2025-02-19T16:18:13.441Z"
   },
   {
    "duration": 3,
    "start_time": "2025-02-19T16:18:16.506Z"
   },
   {
    "duration": 5,
    "start_time": "2025-02-19T16:18:16.511Z"
   },
   {
    "duration": 5,
    "start_time": "2025-02-19T16:18:16.518Z"
   },
   {
    "duration": 13,
    "start_time": "2025-02-19T16:18:16.526Z"
   },
   {
    "duration": 3042,
    "start_time": "2025-02-19T16:18:16.541Z"
   },
   {
    "duration": 2499,
    "start_time": "2025-02-19T16:18:19.586Z"
   },
   {
    "duration": 1442,
    "start_time": "2025-02-19T16:18:22.087Z"
   },
   {
    "duration": 0,
    "start_time": "2025-02-19T16:18:23.533Z"
   },
   {
    "duration": 0,
    "start_time": "2025-02-19T16:18:23.534Z"
   },
   {
    "duration": 0,
    "start_time": "2025-02-19T16:18:23.535Z"
   },
   {
    "duration": 0,
    "start_time": "2025-02-19T16:18:23.537Z"
   },
   {
    "duration": 0,
    "start_time": "2025-02-19T16:18:23.538Z"
   },
   {
    "duration": 0,
    "start_time": "2025-02-19T16:18:23.539Z"
   },
   {
    "duration": 0,
    "start_time": "2025-02-19T16:18:23.541Z"
   },
   {
    "duration": 0,
    "start_time": "2025-02-19T16:18:23.542Z"
   },
   {
    "duration": 0,
    "start_time": "2025-02-19T16:18:23.544Z"
   },
   {
    "duration": 0,
    "start_time": "2025-02-19T16:18:23.545Z"
   },
   {
    "duration": 0,
    "start_time": "2025-02-19T16:18:23.547Z"
   },
   {
    "duration": 0,
    "start_time": "2025-02-19T16:18:23.548Z"
   },
   {
    "duration": 0,
    "start_time": "2025-02-19T16:18:23.550Z"
   },
   {
    "duration": 0,
    "start_time": "2025-02-19T16:18:23.551Z"
   },
   {
    "duration": 0,
    "start_time": "2025-02-19T16:18:23.553Z"
   },
   {
    "duration": 0,
    "start_time": "2025-02-19T16:18:23.555Z"
   },
   {
    "duration": 0,
    "start_time": "2025-02-19T16:18:23.556Z"
   },
   {
    "duration": 0,
    "start_time": "2025-02-19T16:18:23.558Z"
   },
   {
    "duration": 0,
    "start_time": "2025-02-19T16:18:23.559Z"
   },
   {
    "duration": 0,
    "start_time": "2025-02-19T16:18:23.561Z"
   },
   {
    "duration": 0,
    "start_time": "2025-02-19T16:18:23.609Z"
   },
   {
    "duration": 0,
    "start_time": "2025-02-19T16:18:23.612Z"
   },
   {
    "duration": 0,
    "start_time": "2025-02-19T16:18:23.613Z"
   },
   {
    "duration": 0,
    "start_time": "2025-02-19T16:18:23.614Z"
   },
   {
    "duration": 0,
    "start_time": "2025-02-19T16:18:23.616Z"
   },
   {
    "duration": 0,
    "start_time": "2025-02-19T16:18:23.618Z"
   },
   {
    "duration": 0,
    "start_time": "2025-02-19T16:18:23.619Z"
   },
   {
    "duration": 0,
    "start_time": "2025-02-19T16:18:23.621Z"
   },
   {
    "duration": 0,
    "start_time": "2025-02-19T16:18:23.622Z"
   },
   {
    "duration": 0,
    "start_time": "2025-02-19T16:18:23.625Z"
   },
   {
    "duration": 0,
    "start_time": "2025-02-19T16:18:23.626Z"
   },
   {
    "duration": 0,
    "start_time": "2025-02-19T16:18:23.628Z"
   },
   {
    "duration": 0,
    "start_time": "2025-02-19T16:18:23.631Z"
   },
   {
    "duration": 0,
    "start_time": "2025-02-19T16:18:23.632Z"
   },
   {
    "duration": 0,
    "start_time": "2025-02-19T16:18:23.634Z"
   },
   {
    "duration": 0,
    "start_time": "2025-02-19T16:18:23.635Z"
   },
   {
    "duration": 0,
    "start_time": "2025-02-19T16:18:23.637Z"
   },
   {
    "duration": 0,
    "start_time": "2025-02-19T16:18:23.639Z"
   },
   {
    "duration": 0,
    "start_time": "2025-02-19T16:18:23.641Z"
   },
   {
    "duration": 0,
    "start_time": "2025-02-19T16:18:23.642Z"
   },
   {
    "duration": 0,
    "start_time": "2025-02-19T16:18:23.644Z"
   },
   {
    "duration": 212,
    "start_time": "2025-02-19T16:19:50.061Z"
   },
   {
    "duration": 2951,
    "start_time": "2025-02-19T16:21:18.021Z"
   },
   {
    "duration": 3,
    "start_time": "2025-02-19T16:21:20.975Z"
   },
   {
    "duration": 3,
    "start_time": "2025-02-19T16:21:20.980Z"
   },
   {
    "duration": 3,
    "start_time": "2025-02-19T16:21:20.985Z"
   },
   {
    "duration": 3,
    "start_time": "2025-02-19T16:21:20.990Z"
   },
   {
    "duration": 2669,
    "start_time": "2025-02-19T16:21:20.994Z"
   },
   {
    "duration": 2356,
    "start_time": "2025-02-19T16:21:23.666Z"
   },
   {
    "duration": 1335,
    "start_time": "2025-02-19T16:21:26.025Z"
   },
   {
    "duration": 3,
    "start_time": "2025-02-19T16:21:27.362Z"
   },
   {
    "duration": 1039,
    "start_time": "2025-02-19T16:21:27.367Z"
   },
   {
    "duration": 124,
    "start_time": "2025-02-19T16:21:28.410Z"
   },
   {
    "duration": 4,
    "start_time": "2025-02-19T16:21:28.536Z"
   },
   {
    "duration": 162,
    "start_time": "2025-02-19T16:21:28.542Z"
   },
   {
    "duration": 119,
    "start_time": "2025-02-19T16:21:28.709Z"
   },
   {
    "duration": 221,
    "start_time": "2025-02-19T16:21:28.831Z"
   },
   {
    "duration": 368,
    "start_time": "2025-02-19T16:21:29.054Z"
   },
   {
    "duration": 70,
    "start_time": "2025-02-19T16:21:29.424Z"
   },
   {
    "duration": 17,
    "start_time": "2025-02-19T16:21:29.496Z"
   },
   {
    "duration": 6,
    "start_time": "2025-02-19T16:21:29.514Z"
   },
   {
    "duration": 4,
    "start_time": "2025-02-19T16:21:29.521Z"
   },
   {
    "duration": 51,
    "start_time": "2025-02-19T16:21:29.526Z"
   },
   {
    "duration": 46,
    "start_time": "2025-02-19T16:21:29.579Z"
   },
   {
    "duration": 7,
    "start_time": "2025-02-19T16:21:29.626Z"
   },
   {
    "duration": 29,
    "start_time": "2025-02-19T16:21:29.635Z"
   },
   {
    "duration": 62,
    "start_time": "2025-02-19T16:21:29.666Z"
   },
   {
    "duration": 26,
    "start_time": "2025-02-19T16:21:29.730Z"
   },
   {
    "duration": 321,
    "start_time": "2025-02-19T16:21:29.758Z"
   },
   {
    "duration": 300,
    "start_time": "2025-02-19T16:21:30.080Z"
   },
   {
    "duration": 421,
    "start_time": "2025-02-19T16:21:30.381Z"
   },
   {
    "duration": 385,
    "start_time": "2025-02-19T16:21:30.809Z"
   },
   {
    "duration": 618,
    "start_time": "2025-02-19T16:21:31.196Z"
   },
   {
    "duration": 20,
    "start_time": "2025-02-19T16:21:31.816Z"
   },
   {
    "duration": 16,
    "start_time": "2025-02-19T16:21:31.838Z"
   },
   {
    "duration": 4337,
    "start_time": "2025-02-19T16:21:31.855Z"
   },
   {
    "duration": 95,
    "start_time": "2025-02-19T16:21:36.194Z"
   },
   {
    "duration": 35,
    "start_time": "2025-02-19T16:21:36.291Z"
   },
   {
    "duration": 20783,
    "start_time": "2025-02-19T16:21:36.328Z"
   },
   {
    "duration": 4,
    "start_time": "2025-02-19T16:21:57.113Z"
   },
   {
    "duration": 22,
    "start_time": "2025-02-19T16:21:57.209Z"
   },
   {
    "duration": 4234,
    "start_time": "2025-02-19T16:21:57.233Z"
   },
   {
    "duration": 2,
    "start_time": "2025-02-19T16:22:01.471Z"
   },
   {
    "duration": 131517,
    "start_time": "2025-02-19T16:22:01.474Z"
   },
   {
    "duration": 0,
    "start_time": "2025-02-19T16:24:12.993Z"
   },
   {
    "duration": 0,
    "start_time": "2025-02-19T16:24:12.994Z"
   },
   {
    "duration": 0,
    "start_time": "2025-02-19T16:24:12.996Z"
   },
   {
    "duration": 0,
    "start_time": "2025-02-19T16:24:12.998Z"
   },
   {
    "duration": 0,
    "start_time": "2025-02-19T16:24:13.009Z"
   },
   {
    "duration": 0,
    "start_time": "2025-02-19T16:24:13.011Z"
   },
   {
    "duration": 0,
    "start_time": "2025-02-19T16:24:13.012Z"
   },
   {
    "duration": 0,
    "start_time": "2025-02-19T16:24:13.013Z"
   },
   {
    "duration": 3,
    "start_time": "2025-02-19T16:24:15.543Z"
   },
   {
    "duration": 38041,
    "start_time": "2025-02-19T16:24:18.071Z"
   },
   {
    "duration": 3,
    "start_time": "2025-02-19T16:26:12.039Z"
   },
   {
    "duration": 506789,
    "start_time": "2025-02-19T16:26:18.405Z"
   },
   {
    "duration": 78987,
    "start_time": "2025-02-19T16:34:58.377Z"
   },
   {
    "duration": 2003,
    "start_time": "2025-02-19T16:37:06.155Z"
   },
   {
    "duration": 128,
    "start_time": "2025-02-19T16:37:41.177Z"
   },
   {
    "duration": 86,
    "start_time": "2025-02-19T16:39:27.907Z"
   },
   {
    "duration": 3,
    "start_time": "2025-02-19T16:40:02.110Z"
   },
   {
    "duration": 3881,
    "start_time": "2025-02-19T16:40:08.356Z"
   },
   {
    "duration": 134012,
    "start_time": "2025-02-19T16:40:23.707Z"
   },
   {
    "duration": 3076,
    "start_time": "2025-02-19T16:44:30.287Z"
   },
   {
    "duration": 3,
    "start_time": "2025-02-19T16:44:33.365Z"
   },
   {
    "duration": 9,
    "start_time": "2025-02-19T16:44:33.372Z"
   },
   {
    "duration": 6,
    "start_time": "2025-02-19T16:44:33.383Z"
   },
   {
    "duration": 5,
    "start_time": "2025-02-19T16:44:33.391Z"
   },
   {
    "duration": 4141,
    "start_time": "2025-02-19T16:44:33.397Z"
   },
   {
    "duration": 2506,
    "start_time": "2025-02-19T16:44:37.540Z"
   },
   {
    "duration": 1412,
    "start_time": "2025-02-19T16:44:40.048Z"
   },
   {
    "duration": 3,
    "start_time": "2025-02-19T16:44:41.461Z"
   },
   {
    "duration": 1099,
    "start_time": "2025-02-19T16:44:41.465Z"
   },
   {
    "duration": 137,
    "start_time": "2025-02-19T16:44:42.566Z"
   },
   {
    "duration": 5,
    "start_time": "2025-02-19T16:44:42.705Z"
   },
   {
    "duration": 172,
    "start_time": "2025-02-19T16:44:42.713Z"
   },
   {
    "duration": 123,
    "start_time": "2025-02-19T16:44:42.887Z"
   },
   {
    "duration": 239,
    "start_time": "2025-02-19T16:44:43.013Z"
   },
   {
    "duration": 367,
    "start_time": "2025-02-19T16:44:43.255Z"
   },
   {
    "duration": 69,
    "start_time": "2025-02-19T16:44:43.623Z"
   },
   {
    "duration": 70,
    "start_time": "2025-02-19T16:44:43.694Z"
   },
   {
    "duration": 24,
    "start_time": "2025-02-19T16:44:43.765Z"
   },
   {
    "duration": 6,
    "start_time": "2025-02-19T16:44:43.791Z"
   },
   {
    "duration": 56,
    "start_time": "2025-02-19T16:44:43.798Z"
   },
   {
    "duration": 26,
    "start_time": "2025-02-19T16:44:43.855Z"
   },
   {
    "duration": 7,
    "start_time": "2025-02-19T16:44:43.883Z"
   },
   {
    "duration": 30,
    "start_time": "2025-02-19T16:44:43.909Z"
   },
   {
    "duration": 12,
    "start_time": "2025-02-19T16:44:43.941Z"
   },
   {
    "duration": 3,
    "start_time": "2025-02-19T16:44:43.954Z"
   },
   {
    "duration": 340,
    "start_time": "2025-02-19T16:44:43.959Z"
   },
   {
    "duration": 265,
    "start_time": "2025-02-19T16:44:44.301Z"
   },
   {
    "duration": 13218,
    "start_time": "2025-02-19T16:44:44.568Z"
   },
   {
    "duration": 448,
    "start_time": "2025-02-19T16:44:57.788Z"
   },
   {
    "duration": 606,
    "start_time": "2025-02-19T16:44:58.237Z"
   },
   {
    "duration": 30,
    "start_time": "2025-02-19T16:44:58.845Z"
   },
   {
    "duration": 3,
    "start_time": "2025-02-19T16:44:58.878Z"
   },
   {
    "duration": 5705,
    "start_time": "2025-02-19T16:44:58.884Z"
   },
   {
    "duration": 118,
    "start_time": "2025-02-19T16:45:04.591Z"
   },
   {
    "duration": 5,
    "start_time": "2025-02-19T16:45:04.711Z"
   },
   {
    "duration": 29196,
    "start_time": "2025-02-19T16:45:04.718Z"
   },
   {
    "duration": 90,
    "start_time": "2025-02-19T16:45:33.920Z"
   },
   {
    "duration": 34,
    "start_time": "2025-02-19T16:45:34.012Z"
   },
   {
    "duration": 5270,
    "start_time": "2025-02-19T16:45:34.050Z"
   },
   {
    "duration": 3,
    "start_time": "2025-02-19T16:45:39.322Z"
   },
   {
    "duration": 4115,
    "start_time": "2025-02-19T16:46:40.129Z"
   },
   {
    "duration": 2,
    "start_time": "2025-02-19T16:46:44.249Z"
   },
   {
    "duration": 27,
    "start_time": "2025-02-19T16:46:44.253Z"
   },
   {
    "duration": 16,
    "start_time": "2025-02-19T16:46:44.282Z"
   },
   {
    "duration": 60,
    "start_time": "2025-02-19T16:46:44.300Z"
   },
   {
    "duration": 2637,
    "start_time": "2025-02-19T16:46:44.362Z"
   },
   {
    "duration": 2528,
    "start_time": "2025-02-19T16:46:47.003Z"
   },
   {
    "duration": 1437,
    "start_time": "2025-02-19T16:46:49.534Z"
   },
   {
    "duration": 3,
    "start_time": "2025-02-19T16:46:50.972Z"
   },
   {
    "duration": 1089,
    "start_time": "2025-02-19T16:46:50.976Z"
   },
   {
    "duration": 134,
    "start_time": "2025-02-19T16:46:52.067Z"
   },
   {
    "duration": 7,
    "start_time": "2025-02-19T16:46:52.202Z"
   },
   {
    "duration": 191,
    "start_time": "2025-02-19T16:46:52.210Z"
   },
   {
    "duration": 116,
    "start_time": "2025-02-19T16:46:52.409Z"
   },
   {
    "duration": 204,
    "start_time": "2025-02-19T16:46:52.527Z"
   },
   {
    "duration": 378,
    "start_time": "2025-02-19T16:46:52.732Z"
   },
   {
    "duration": 69,
    "start_time": "2025-02-19T16:46:53.112Z"
   },
   {
    "duration": 110,
    "start_time": "2025-02-19T16:46:53.183Z"
   },
   {
    "duration": 7,
    "start_time": "2025-02-19T16:46:53.294Z"
   },
   {
    "duration": 5,
    "start_time": "2025-02-19T16:46:53.303Z"
   },
   {
    "duration": 63,
    "start_time": "2025-02-19T16:46:53.309Z"
   },
   {
    "duration": 25,
    "start_time": "2025-02-19T16:46:53.373Z"
   },
   {
    "duration": 11,
    "start_time": "2025-02-19T16:46:53.400Z"
   },
   {
    "duration": 30,
    "start_time": "2025-02-19T16:46:53.413Z"
   },
   {
    "duration": 45,
    "start_time": "2025-02-19T16:46:53.445Z"
   },
   {
    "duration": 2,
    "start_time": "2025-02-19T16:46:53.509Z"
   },
   {
    "duration": 334,
    "start_time": "2025-02-19T16:46:53.514Z"
   },
   {
    "duration": 280,
    "start_time": "2025-02-19T16:46:53.849Z"
   },
   {
    "duration": 448,
    "start_time": "2025-02-19T16:46:54.130Z"
   },
   {
    "duration": 437,
    "start_time": "2025-02-19T16:46:54.580Z"
   },
   {
    "duration": 604,
    "start_time": "2025-02-19T16:46:55.018Z"
   },
   {
    "duration": 20,
    "start_time": "2025-02-19T16:46:55.624Z"
   },
   {
    "duration": 4,
    "start_time": "2025-02-19T16:46:55.645Z"
   },
   {
    "duration": 4440,
    "start_time": "2025-02-19T16:46:55.651Z"
   },
   {
    "duration": 132,
    "start_time": "2025-02-19T16:47:00.092Z"
   },
   {
    "duration": 5,
    "start_time": "2025-02-19T16:47:00.225Z"
   },
   {
    "duration": 28879,
    "start_time": "2025-02-19T16:47:00.232Z"
   },
   {
    "duration": 3,
    "start_time": "2025-02-19T16:47:29.113Z"
   },
   {
    "duration": 111,
    "start_time": "2025-02-19T16:47:29.118Z"
   },
   {
    "duration": 5019,
    "start_time": "2025-02-19T16:47:29.231Z"
   },
   {
    "duration": 3,
    "start_time": "2025-02-19T16:47:34.253Z"
   },
   {
    "duration": 169325,
    "start_time": "2025-02-19T16:47:34.257Z"
   },
   {
    "duration": 173,
    "start_time": "2025-02-19T16:50:23.584Z"
   },
   {
    "duration": 73,
    "start_time": "2025-02-19T16:50:23.760Z"
   },
   {
    "duration": 6,
    "start_time": "2025-02-19T16:50:23.835Z"
   },
   {
    "duration": 15,
    "start_time": "2025-02-19T16:50:23.843Z"
   },
   {
    "duration": 4,
    "start_time": "2025-02-19T16:50:23.860Z"
   },
   {
    "duration": 1616,
    "start_time": "2025-02-19T16:50:23.866Z"
   },
   {
    "duration": 658,
    "start_time": "2025-02-19T16:50:25.484Z"
   },
   {
    "duration": 3,
    "start_time": "2025-02-19T17:05:40.376Z"
   },
   {
    "duration": 326,
    "start_time": "2025-02-19T17:05:41.104Z"
   },
   {
    "duration": 3,
    "start_time": "2025-02-19T17:07:11.046Z"
   },
   {
    "duration": 7975,
    "start_time": "2025-02-19T17:07:12.671Z"
   },
   {
    "duration": 537,
    "start_time": "2025-02-19T17:07:20.648Z"
   },
   {
    "duration": 3,
    "start_time": "2025-02-19T17:07:49.265Z"
   },
   {
    "duration": 213,
    "start_time": "2025-02-19T17:07:51.325Z"
   },
   {
    "duration": 24,
    "start_time": "2025-02-19T17:08:02.111Z"
   },
   {
    "duration": 1288,
    "start_time": "2025-02-19T17:08:24.007Z"
   },
   {
    "duration": 4,
    "start_time": "2025-02-19T17:12:58.450Z"
   },
   {
    "duration": 11,
    "start_time": "2025-02-19T17:14:33.799Z"
   },
   {
    "duration": 5,
    "start_time": "2025-02-19T17:15:40.496Z"
   },
   {
    "duration": 5,
    "start_time": "2025-02-19T17:17:12.232Z"
   },
   {
    "duration": 3281,
    "start_time": "2025-02-19T17:20:45.820Z"
   },
   {
    "duration": 3,
    "start_time": "2025-02-19T17:20:49.104Z"
   },
   {
    "duration": 8,
    "start_time": "2025-02-19T17:20:49.108Z"
   },
   {
    "duration": 3,
    "start_time": "2025-02-19T17:20:49.118Z"
   },
   {
    "duration": 4,
    "start_time": "2025-02-19T17:20:49.123Z"
   },
   {
    "duration": 2663,
    "start_time": "2025-02-19T17:20:49.128Z"
   },
   {
    "duration": 2383,
    "start_time": "2025-02-19T17:20:51.793Z"
   },
   {
    "duration": 1377,
    "start_time": "2025-02-19T17:20:54.178Z"
   },
   {
    "duration": 3,
    "start_time": "2025-02-19T17:20:55.556Z"
   },
   {
    "duration": 1065,
    "start_time": "2025-02-19T17:20:55.562Z"
   },
   {
    "duration": 137,
    "start_time": "2025-02-19T17:20:56.629Z"
   },
   {
    "duration": 4,
    "start_time": "2025-02-19T17:20:56.767Z"
   },
   {
    "duration": 182,
    "start_time": "2025-02-19T17:20:56.773Z"
   },
   {
    "duration": 106,
    "start_time": "2025-02-19T17:20:56.957Z"
   },
   {
    "duration": 167,
    "start_time": "2025-02-19T17:20:57.064Z"
   },
   {
    "duration": 240,
    "start_time": "2025-02-19T17:20:57.232Z"
   },
   {
    "duration": 56,
    "start_time": "2025-02-19T17:20:57.474Z"
   },
   {
    "duration": 5,
    "start_time": "2025-02-19T17:20:57.532Z"
   },
   {
    "duration": 5,
    "start_time": "2025-02-19T17:20:57.539Z"
   },
   {
    "duration": 5,
    "start_time": "2025-02-19T17:20:57.546Z"
   },
   {
    "duration": 74,
    "start_time": "2025-02-19T17:20:57.552Z"
   },
   {
    "duration": 25,
    "start_time": "2025-02-19T17:20:57.628Z"
   },
   {
    "duration": 6,
    "start_time": "2025-02-19T17:20:57.655Z"
   },
   {
    "duration": 49,
    "start_time": "2025-02-19T17:20:57.663Z"
   },
   {
    "duration": 29,
    "start_time": "2025-02-19T17:20:57.713Z"
   },
   {
    "duration": 20,
    "start_time": "2025-02-19T17:20:57.743Z"
   },
   {
    "duration": 333,
    "start_time": "2025-02-19T17:20:57.764Z"
   },
   {
    "duration": 263,
    "start_time": "2025-02-19T17:20:58.100Z"
   },
   {
    "duration": 462,
    "start_time": "2025-02-19T17:20:58.364Z"
   },
   {
    "duration": 448,
    "start_time": "2025-02-19T17:20:58.828Z"
   },
   {
    "duration": 584,
    "start_time": "2025-02-19T17:20:59.278Z"
   },
   {
    "duration": 18,
    "start_time": "2025-02-19T17:20:59.864Z"
   },
   {
    "duration": 50,
    "start_time": "2025-02-19T17:20:59.884Z"
   },
   {
    "duration": 2663,
    "start_time": "2025-02-19T17:20:59.935Z"
   },
   {
    "duration": 72,
    "start_time": "2025-02-19T17:21:02.599Z"
   },
   {
    "duration": 5,
    "start_time": "2025-02-19T17:21:02.672Z"
   },
   {
    "duration": 1139,
    "start_time": "2025-02-19T17:21:02.678Z"
   },
   {
    "duration": 91,
    "start_time": "2025-02-19T17:21:03.820Z"
   },
   {
    "duration": 40,
    "start_time": "2025-02-19T17:21:03.914Z"
   },
   {
    "duration": 580,
    "start_time": "2025-02-19T17:21:03.956Z"
   },
   {
    "duration": 3,
    "start_time": "2025-02-19T17:21:04.538Z"
   },
   {
    "duration": 24932,
    "start_time": "2025-02-19T17:21:04.542Z"
   },
   {
    "duration": 73,
    "start_time": "2025-02-19T17:21:29.475Z"
   },
   {
    "duration": 28,
    "start_time": "2025-02-19T17:21:29.550Z"
   },
   {
    "duration": 5,
    "start_time": "2025-02-19T17:21:29.580Z"
   },
   {
    "duration": 29,
    "start_time": "2025-02-19T17:21:29.587Z"
   },
   {
    "duration": 3,
    "start_time": "2025-02-19T17:21:29.618Z"
   },
   {
    "duration": 1225,
    "start_time": "2025-02-19T17:21:29.623Z"
   },
   {
    "duration": 477,
    "start_time": "2025-02-19T17:21:30.849Z"
   },
   {
    "duration": 5,
    "start_time": "2025-02-19T17:21:31.327Z"
   },
   {
    "duration": 3071,
    "start_time": "2025-02-19T17:24:17.438Z"
   },
   {
    "duration": 2,
    "start_time": "2025-02-19T17:24:20.512Z"
   },
   {
    "duration": 10,
    "start_time": "2025-02-19T17:24:20.516Z"
   },
   {
    "duration": 20,
    "start_time": "2025-02-19T17:24:20.528Z"
   },
   {
    "duration": 3,
    "start_time": "2025-02-19T17:24:20.550Z"
   },
   {
    "duration": 2639,
    "start_time": "2025-02-19T17:24:20.554Z"
   },
   {
    "duration": 2345,
    "start_time": "2025-02-19T17:24:23.195Z"
   },
   {
    "duration": 1417,
    "start_time": "2025-02-19T17:24:25.542Z"
   },
   {
    "duration": 2,
    "start_time": "2025-02-19T17:24:26.961Z"
   },
   {
    "duration": 1030,
    "start_time": "2025-02-19T17:24:26.965Z"
   },
   {
    "duration": 118,
    "start_time": "2025-02-19T17:24:27.996Z"
   },
   {
    "duration": 3,
    "start_time": "2025-02-19T17:24:28.115Z"
   },
   {
    "duration": 146,
    "start_time": "2025-02-19T17:24:28.120Z"
   },
   {
    "duration": 105,
    "start_time": "2025-02-19T17:24:28.268Z"
   },
   {
    "duration": 200,
    "start_time": "2025-02-19T17:24:28.375Z"
   },
   {
    "duration": 401,
    "start_time": "2025-02-19T17:24:28.577Z"
   },
   {
    "duration": 72,
    "start_time": "2025-02-19T17:24:28.979Z"
   },
   {
    "duration": 5,
    "start_time": "2025-02-19T17:24:29.053Z"
   },
   {
    "duration": 4,
    "start_time": "2025-02-19T17:24:29.059Z"
   },
   {
    "duration": 5,
    "start_time": "2025-02-19T17:24:29.064Z"
   },
   {
    "duration": 75,
    "start_time": "2025-02-19T17:24:29.070Z"
   },
   {
    "duration": 25,
    "start_time": "2025-02-19T17:24:29.147Z"
   },
   {
    "duration": 8,
    "start_time": "2025-02-19T17:24:29.174Z"
   },
   {
    "duration": 48,
    "start_time": "2025-02-19T17:24:29.184Z"
   },
   {
    "duration": 37,
    "start_time": "2025-02-19T17:24:29.233Z"
   },
   {
    "duration": 40,
    "start_time": "2025-02-19T17:24:29.272Z"
   },
   {
    "duration": 299,
    "start_time": "2025-02-19T17:24:29.314Z"
   },
   {
    "duration": 273,
    "start_time": "2025-02-19T17:24:29.615Z"
   },
   {
    "duration": 429,
    "start_time": "2025-02-19T17:24:29.889Z"
   },
   {
    "duration": 408,
    "start_time": "2025-02-19T17:24:30.319Z"
   },
   {
    "duration": 573,
    "start_time": "2025-02-19T17:24:30.729Z"
   },
   {
    "duration": 19,
    "start_time": "2025-02-19T17:24:31.303Z"
   },
   {
    "duration": 100,
    "start_time": "2025-02-19T17:24:31.323Z"
   },
   {
    "duration": 4228,
    "start_time": "2025-02-19T17:24:31.425Z"
   },
   {
    "duration": 107,
    "start_time": "2025-02-19T17:24:35.654Z"
   },
   {
    "duration": 5,
    "start_time": "2025-02-19T17:24:35.763Z"
   },
   {
    "duration": 22044,
    "start_time": "2025-02-19T17:24:35.769Z"
   },
   {
    "duration": 92,
    "start_time": "2025-02-19T17:24:57.818Z"
   },
   {
    "duration": 4188,
    "start_time": "2025-02-19T17:24:57.913Z"
   },
   {
    "duration": 8,
    "start_time": "2025-02-19T17:25:02.103Z"
   },
   {
    "duration": 160076,
    "start_time": "2025-02-19T17:25:02.116Z"
   },
   {
    "duration": 175,
    "start_time": "2025-02-19T17:27:42.194Z"
   },
   {
    "duration": 55,
    "start_time": "2025-02-19T17:27:42.370Z"
   },
   {
    "duration": 5,
    "start_time": "2025-02-19T17:27:42.427Z"
   },
   {
    "duration": 15,
    "start_time": "2025-02-19T17:27:42.434Z"
   },
   {
    "duration": 3,
    "start_time": "2025-02-19T17:27:42.451Z"
   },
   {
    "duration": 1442,
    "start_time": "2025-02-19T17:27:42.455Z"
   },
   {
    "duration": 580,
    "start_time": "2025-02-19T17:27:43.898Z"
   },
   {
    "duration": 5,
    "start_time": "2025-02-19T17:27:44.480Z"
   },
   {
    "duration": 4184,
    "start_time": "2025-02-19T17:29:03.170Z"
   },
   {
    "duration": 3,
    "start_time": "2025-02-19T17:29:07.356Z"
   },
   {
    "duration": 66,
    "start_time": "2025-02-19T17:29:07.361Z"
   },
   {
    "duration": 7,
    "start_time": "2025-02-19T17:29:07.429Z"
   },
   {
    "duration": 6,
    "start_time": "2025-02-19T17:29:07.438Z"
   },
   {
    "duration": 2795,
    "start_time": "2025-02-19T17:29:07.445Z"
   },
   {
    "duration": 2423,
    "start_time": "2025-02-19T17:29:10.242Z"
   },
   {
    "duration": 1401,
    "start_time": "2025-02-19T17:29:12.668Z"
   },
   {
    "duration": 3,
    "start_time": "2025-02-19T17:29:14.070Z"
   },
   {
    "duration": 1073,
    "start_time": "2025-02-19T17:29:14.075Z"
   },
   {
    "duration": 138,
    "start_time": "2025-02-19T17:29:15.150Z"
   },
   {
    "duration": 3,
    "start_time": "2025-02-19T17:29:15.289Z"
   },
   {
    "duration": 179,
    "start_time": "2025-02-19T17:29:15.294Z"
   },
   {
    "duration": 120,
    "start_time": "2025-02-19T17:29:15.476Z"
   },
   {
    "duration": 222,
    "start_time": "2025-02-19T17:29:15.598Z"
   },
   {
    "duration": 378,
    "start_time": "2025-02-19T17:29:15.822Z"
   },
   {
    "duration": 73,
    "start_time": "2025-02-19T17:29:16.202Z"
   },
   {
    "duration": 25,
    "start_time": "2025-02-19T17:29:16.276Z"
   },
   {
    "duration": 15,
    "start_time": "2025-02-19T17:29:16.303Z"
   },
   {
    "duration": 6,
    "start_time": "2025-02-19T17:29:16.320Z"
   },
   {
    "duration": 51,
    "start_time": "2025-02-19T17:29:16.328Z"
   },
   {
    "duration": 31,
    "start_time": "2025-02-19T17:29:16.381Z"
   },
   {
    "duration": 48,
    "start_time": "2025-02-19T17:29:16.413Z"
   },
   {
    "duration": 29,
    "start_time": "2025-02-19T17:29:16.463Z"
   },
   {
    "duration": 39,
    "start_time": "2025-02-19T17:29:16.494Z"
   },
   {
    "duration": 3,
    "start_time": "2025-02-19T17:29:16.535Z"
   },
   {
    "duration": 326,
    "start_time": "2025-02-19T17:29:16.539Z"
   },
   {
    "duration": 280,
    "start_time": "2025-02-19T17:29:16.867Z"
   },
   {
    "duration": 459,
    "start_time": "2025-02-19T17:29:17.149Z"
   },
   {
    "duration": 433,
    "start_time": "2025-02-19T17:29:17.610Z"
   },
   {
    "duration": 613,
    "start_time": "2025-02-19T17:29:18.045Z"
   },
   {
    "duration": 19,
    "start_time": "2025-02-19T17:29:18.660Z"
   },
   {
    "duration": 5,
    "start_time": "2025-02-19T17:29:18.680Z"
   },
   {
    "duration": 4461,
    "start_time": "2025-02-19T17:29:18.686Z"
   },
   {
    "duration": 120,
    "start_time": "2025-02-19T17:29:23.148Z"
   },
   {
    "duration": 6,
    "start_time": "2025-02-19T17:29:23.270Z"
   },
   {
    "duration": 25433,
    "start_time": "2025-02-19T17:29:23.278Z"
   },
   {
    "duration": 3,
    "start_time": "2025-02-19T17:29:48.712Z"
   },
   {
    "duration": 4373,
    "start_time": "2025-02-19T17:29:48.718Z"
   },
   {
    "duration": 5,
    "start_time": "2025-02-19T17:29:53.093Z"
   },
   {
    "duration": 168788,
    "start_time": "2025-02-19T17:29:53.108Z"
   },
   {
    "duration": 156,
    "start_time": "2025-02-19T17:32:41.898Z"
   },
   {
    "duration": 55,
    "start_time": "2025-02-19T17:32:42.055Z"
   },
   {
    "duration": 4,
    "start_time": "2025-02-19T17:32:42.112Z"
   },
   {
    "duration": 12,
    "start_time": "2025-02-19T17:32:42.118Z"
   },
   {
    "duration": 3,
    "start_time": "2025-02-19T17:32:42.131Z"
   },
   {
    "duration": 1474,
    "start_time": "2025-02-19T17:32:42.135Z"
   },
   {
    "duration": 580,
    "start_time": "2025-02-19T17:32:43.611Z"
   },
   {
    "duration": 5,
    "start_time": "2025-02-19T17:32:44.192Z"
   },
   {
    "duration": 1441,
    "start_time": "2025-02-19T17:34:16.941Z"
   },
   {
    "duration": 599,
    "start_time": "2025-02-19T17:34:48.340Z"
   },
   {
    "duration": 29411,
    "start_time": "2025-02-19T17:37:52.703Z"
   },
   {
    "duration": 75,
    "start_time": "2025-02-19T17:38:33.015Z"
   },
   {
    "duration": 3967,
    "start_time": "2025-02-19T17:38:42.869Z"
   },
   {
    "duration": 3187,
    "start_time": "2025-02-19T17:41:34.662Z"
   },
   {
    "duration": 3,
    "start_time": "2025-02-19T17:41:37.852Z"
   },
   {
    "duration": 7,
    "start_time": "2025-02-19T17:41:37.856Z"
   },
   {
    "duration": 12,
    "start_time": "2025-02-19T17:41:37.864Z"
   },
   {
    "duration": 3,
    "start_time": "2025-02-19T17:41:37.879Z"
   },
   {
    "duration": 2849,
    "start_time": "2025-02-19T17:41:37.883Z"
   },
   {
    "duration": 2584,
    "start_time": "2025-02-19T17:41:40.735Z"
   },
   {
    "duration": 1465,
    "start_time": "2025-02-19T17:41:43.321Z"
   },
   {
    "duration": 2,
    "start_time": "2025-02-19T17:41:44.788Z"
   },
   {
    "duration": 1087,
    "start_time": "2025-02-19T17:41:44.792Z"
   },
   {
    "duration": 132,
    "start_time": "2025-02-19T17:41:45.880Z"
   },
   {
    "duration": 3,
    "start_time": "2025-02-19T17:41:46.013Z"
   },
   {
    "duration": 174,
    "start_time": "2025-02-19T17:41:46.018Z"
   },
   {
    "duration": 120,
    "start_time": "2025-02-19T17:41:46.195Z"
   },
   {
    "duration": 206,
    "start_time": "2025-02-19T17:41:46.316Z"
   },
   {
    "duration": 393,
    "start_time": "2025-02-19T17:41:46.523Z"
   },
   {
    "duration": 72,
    "start_time": "2025-02-19T17:41:46.917Z"
   },
   {
    "duration": 28,
    "start_time": "2025-02-19T17:41:46.991Z"
   },
   {
    "duration": 6,
    "start_time": "2025-02-19T17:41:47.021Z"
   },
   {
    "duration": 4,
    "start_time": "2025-02-19T17:41:47.028Z"
   },
   {
    "duration": 53,
    "start_time": "2025-02-19T17:41:47.034Z"
   },
   {
    "duration": 39,
    "start_time": "2025-02-19T17:41:47.089Z"
   },
   {
    "duration": 10,
    "start_time": "2025-02-19T17:41:47.130Z"
   },
   {
    "duration": 32,
    "start_time": "2025-02-19T17:41:47.142Z"
   },
   {
    "duration": 66,
    "start_time": "2025-02-19T17:41:47.176Z"
   },
   {
    "duration": 3,
    "start_time": "2025-02-19T17:41:47.244Z"
   },
   {
    "duration": 338,
    "start_time": "2025-02-19T17:41:47.248Z"
   },
   {
    "duration": 283,
    "start_time": "2025-02-19T17:41:47.588Z"
   },
   {
    "duration": 458,
    "start_time": "2025-02-19T17:41:47.873Z"
   },
   {
    "duration": 435,
    "start_time": "2025-02-19T17:41:48.333Z"
   },
   {
    "duration": 640,
    "start_time": "2025-02-19T17:41:48.770Z"
   },
   {
    "duration": 19,
    "start_time": "2025-02-19T17:41:49.412Z"
   },
   {
    "duration": 61,
    "start_time": "2025-02-19T17:41:49.433Z"
   },
   {
    "duration": 4481,
    "start_time": "2025-02-19T17:41:49.496Z"
   },
   {
    "duration": 118,
    "start_time": "2025-02-19T17:41:53.979Z"
   },
   {
    "duration": 4,
    "start_time": "2025-02-19T17:41:54.110Z"
   },
   {
    "duration": 28500,
    "start_time": "2025-02-19T17:41:54.116Z"
   },
   {
    "duration": 4916,
    "start_time": "2025-02-19T17:42:22.618Z"
   },
   {
    "duration": 2,
    "start_time": "2025-02-19T17:42:27.536Z"
   },
   {
    "duration": 158526,
    "start_time": "2025-02-19T17:42:27.539Z"
   },
   {
    "duration": 0,
    "start_time": "2025-02-19T17:45:06.067Z"
   },
   {
    "duration": 0,
    "start_time": "2025-02-19T17:45:06.069Z"
   },
   {
    "duration": 0,
    "start_time": "2025-02-19T17:45:06.069Z"
   },
   {
    "duration": 0,
    "start_time": "2025-02-19T17:45:06.070Z"
   },
   {
    "duration": 1,
    "start_time": "2025-02-19T17:45:06.071Z"
   },
   {
    "duration": 0,
    "start_time": "2025-02-19T17:45:06.073Z"
   },
   {
    "duration": 0,
    "start_time": "2025-02-19T17:45:06.074Z"
   },
   {
    "duration": 0,
    "start_time": "2025-02-19T17:45:06.075Z"
   },
   {
    "duration": 3,
    "start_time": "2025-02-19T17:45:56.185Z"
   },
   {
    "duration": 0,
    "start_time": "2025-02-19T17:46:23.268Z"
   },
   {
    "duration": 3,
    "start_time": "2025-02-19T17:46:26.834Z"
   },
   {
    "duration": 178135,
    "start_time": "2025-02-19T17:46:30.686Z"
   },
   {
    "duration": 150,
    "start_time": "2025-02-19T17:49:57.612Z"
   },
   {
    "duration": 50,
    "start_time": "2025-02-19T17:49:58.346Z"
   },
   {
    "duration": 6,
    "start_time": "2025-02-19T17:49:58.833Z"
   },
   {
    "duration": 12,
    "start_time": "2025-02-19T17:50:00.173Z"
   },
   {
    "duration": 2,
    "start_time": "2025-02-19T17:50:01.153Z"
   },
   {
    "duration": 1434,
    "start_time": "2025-02-19T17:50:01.549Z"
   },
   {
    "duration": 591,
    "start_time": "2025-02-19T17:50:02.984Z"
   },
   {
    "duration": 5,
    "start_time": "2025-02-19T17:50:03.578Z"
   },
   {
    "duration": 3,
    "start_time": "2025-02-19T17:53:04.497Z"
   },
   {
    "duration": 10280,
    "start_time": "2025-02-19T17:53:05.250Z"
   },
   {
    "duration": 535,
    "start_time": "2025-02-19T17:53:15.531Z"
   },
   {
    "duration": 99,
    "start_time": "2025-02-19T17:54:32.807Z"
   },
   {
    "duration": 3625,
    "start_time": "2025-02-19T17:54:39.404Z"
   },
   {
    "duration": 5,
    "start_time": "2025-02-19T17:57:22.440Z"
   },
   {
    "duration": 2,
    "start_time": "2025-02-19T18:00:21.779Z"
   },
   {
    "duration": 10,
    "start_time": "2025-02-19T18:00:22.503Z"
   },
   {
    "duration": 3124,
    "start_time": "2025-02-19T18:01:03.633Z"
   },
   {
    "duration": 3,
    "start_time": "2025-02-19T18:01:06.759Z"
   },
   {
    "duration": 4,
    "start_time": "2025-02-19T18:01:06.763Z"
   },
   {
    "duration": 7,
    "start_time": "2025-02-19T18:01:06.769Z"
   },
   {
    "duration": 9,
    "start_time": "2025-02-19T18:01:06.777Z"
   },
   {
    "duration": 2733,
    "start_time": "2025-02-19T18:01:06.787Z"
   },
   {
    "duration": 2385,
    "start_time": "2025-02-19T18:01:09.523Z"
   },
   {
    "duration": 2302,
    "start_time": "2025-02-19T18:01:11.910Z"
   },
   {
    "duration": 3,
    "start_time": "2025-02-19T18:01:14.214Z"
   },
   {
    "duration": 1118,
    "start_time": "2025-02-19T18:01:14.220Z"
   },
   {
    "duration": 124,
    "start_time": "2025-02-19T18:01:15.340Z"
   },
   {
    "duration": 3,
    "start_time": "2025-02-19T18:01:15.466Z"
   },
   {
    "duration": 261,
    "start_time": "2025-02-19T18:01:15.470Z"
   },
   {
    "duration": 112,
    "start_time": "2025-02-19T18:01:15.733Z"
   },
   {
    "duration": 200,
    "start_time": "2025-02-19T18:01:15.847Z"
   },
   {
    "duration": 356,
    "start_time": "2025-02-19T18:01:16.049Z"
   },
   {
    "duration": 68,
    "start_time": "2025-02-19T18:01:16.410Z"
   },
   {
    "duration": 74,
    "start_time": "2025-02-19T18:01:16.480Z"
   },
   {
    "duration": 5,
    "start_time": "2025-02-19T18:01:16.556Z"
   },
   {
    "duration": 4,
    "start_time": "2025-02-19T18:01:16.562Z"
   },
   {
    "duration": 59,
    "start_time": "2025-02-19T18:01:16.567Z"
   },
   {
    "duration": 26,
    "start_time": "2025-02-19T18:01:16.627Z"
   },
   {
    "duration": 8,
    "start_time": "2025-02-19T18:01:16.654Z"
   },
   {
    "duration": 27,
    "start_time": "2025-02-19T18:01:16.663Z"
   },
   {
    "duration": 53,
    "start_time": "2025-02-19T18:01:16.692Z"
   },
   {
    "duration": 3,
    "start_time": "2025-02-19T18:01:16.746Z"
   },
   {
    "duration": 311,
    "start_time": "2025-02-19T18:01:16.750Z"
   },
   {
    "duration": 270,
    "start_time": "2025-02-19T18:01:17.064Z"
   },
   {
    "duration": 431,
    "start_time": "2025-02-19T18:01:17.335Z"
   },
   {
    "duration": 411,
    "start_time": "2025-02-19T18:01:17.767Z"
   },
   {
    "duration": 566,
    "start_time": "2025-02-19T18:01:18.180Z"
   },
   {
    "duration": 20,
    "start_time": "2025-02-19T18:01:18.748Z"
   },
   {
    "duration": 14,
    "start_time": "2025-02-19T18:01:18.770Z"
   },
   {
    "duration": 4307,
    "start_time": "2025-02-19T18:01:18.786Z"
   },
   {
    "duration": 119,
    "start_time": "2025-02-19T18:01:23.094Z"
   },
   {
    "duration": 5,
    "start_time": "2025-02-19T18:01:23.214Z"
   },
   {
    "duration": 21940,
    "start_time": "2025-02-19T18:01:23.220Z"
   },
   {
    "duration": 604,
    "start_time": "2025-02-19T18:01:45.210Z"
   },
   {
    "duration": 4360,
    "start_time": "2025-02-19T18:01:45.819Z"
   },
   {
    "duration": 4,
    "start_time": "2025-02-19T18:01:50.181Z"
   },
   {
    "duration": 180246,
    "start_time": "2025-02-19T18:01:50.186Z"
   },
   {
    "duration": 3,
    "start_time": "2025-02-19T18:04:50.434Z"
   },
   {
    "duration": 9588,
    "start_time": "2025-02-19T18:04:50.438Z"
   },
   {
    "duration": 583,
    "start_time": "2025-02-19T18:05:00.028Z"
   },
   {
    "duration": 3,
    "start_time": "2025-02-19T18:05:00.612Z"
   },
   {
    "duration": 0,
    "start_time": "2025-02-19T18:08:52.021Z"
   },
   {
    "duration": 0,
    "start_time": "2025-02-19T18:08:52.022Z"
   },
   {
    "duration": 0,
    "start_time": "2025-02-19T18:08:52.023Z"
   },
   {
    "duration": 0,
    "start_time": "2025-02-19T18:08:52.024Z"
   },
   {
    "duration": 0,
    "start_time": "2025-02-19T18:08:52.025Z"
   },
   {
    "duration": 0,
    "start_time": "2025-02-19T18:08:52.026Z"
   },
   {
    "duration": 0,
    "start_time": "2025-02-19T18:08:52.027Z"
   },
   {
    "duration": 0,
    "start_time": "2025-02-19T18:08:52.028Z"
   },
   {
    "duration": 0,
    "start_time": "2025-02-19T18:08:52.029Z"
   },
   {
    "duration": 0,
    "start_time": "2025-02-19T18:08:52.033Z"
   },
   {
    "duration": 0,
    "start_time": "2025-02-19T18:08:52.034Z"
   },
   {
    "duration": 3071,
    "start_time": "2025-02-19T18:08:59.325Z"
   },
   {
    "duration": 3,
    "start_time": "2025-02-19T18:09:02.398Z"
   },
   {
    "duration": 37,
    "start_time": "2025-02-19T18:09:02.402Z"
   },
   {
    "duration": 43,
    "start_time": "2025-02-19T18:09:02.441Z"
   },
   {
    "duration": 59,
    "start_time": "2025-02-19T18:09:02.486Z"
   },
   {
    "duration": 2727,
    "start_time": "2025-02-19T18:09:02.547Z"
   },
   {
    "duration": 2571,
    "start_time": "2025-02-19T18:09:05.276Z"
   },
   {
    "duration": 1439,
    "start_time": "2025-02-19T18:09:07.850Z"
   },
   {
    "duration": 3,
    "start_time": "2025-02-19T18:09:09.290Z"
   },
   {
    "duration": 1032,
    "start_time": "2025-02-19T18:09:09.294Z"
   },
   {
    "duration": 126,
    "start_time": "2025-02-19T18:09:10.327Z"
   },
   {
    "duration": 3,
    "start_time": "2025-02-19T18:09:10.455Z"
   },
   {
    "duration": 247,
    "start_time": "2025-02-19T18:09:10.459Z"
   },
   {
    "duration": 109,
    "start_time": "2025-02-19T18:09:10.709Z"
   },
   {
    "duration": 200,
    "start_time": "2025-02-19T18:09:10.819Z"
   },
   {
    "duration": 364,
    "start_time": "2025-02-19T18:09:11.020Z"
   },
   {
    "duration": 71,
    "start_time": "2025-02-19T18:09:11.386Z"
   },
   {
    "duration": 4,
    "start_time": "2025-02-19T18:09:11.458Z"
   },
   {
    "duration": 6,
    "start_time": "2025-02-19T18:09:11.464Z"
   },
   {
    "duration": 5,
    "start_time": "2025-02-19T18:09:11.471Z"
   },
   {
    "duration": 68,
    "start_time": "2025-02-19T18:09:11.477Z"
   },
   {
    "duration": 74,
    "start_time": "2025-02-19T18:09:11.546Z"
   },
   {
    "duration": 6,
    "start_time": "2025-02-19T18:09:11.621Z"
   },
   {
    "duration": 29,
    "start_time": "2025-02-19T18:09:11.629Z"
   },
   {
    "duration": 37,
    "start_time": "2025-02-19T18:09:11.659Z"
   },
   {
    "duration": 2,
    "start_time": "2025-02-19T18:09:11.710Z"
   },
   {
    "duration": 302,
    "start_time": "2025-02-19T18:09:11.713Z"
   },
   {
    "duration": 276,
    "start_time": "2025-02-19T18:09:12.016Z"
   },
   {
    "duration": 445,
    "start_time": "2025-02-19T18:09:12.294Z"
   },
   {
    "duration": 431,
    "start_time": "2025-02-19T18:09:12.741Z"
   },
   {
    "duration": 581,
    "start_time": "2025-02-19T18:09:13.173Z"
   },
   {
    "duration": 18,
    "start_time": "2025-02-19T18:09:13.756Z"
   },
   {
    "duration": 15,
    "start_time": "2025-02-19T18:09:13.776Z"
   },
   {
    "duration": 4201,
    "start_time": "2025-02-19T18:09:13.793Z"
   },
   {
    "duration": 116,
    "start_time": "2025-02-19T18:09:17.995Z"
   },
   {
    "duration": 4,
    "start_time": "2025-02-19T18:09:18.112Z"
   },
   {
    "duration": 22241,
    "start_time": "2025-02-19T18:09:18.118Z"
   },
   {
    "duration": 650,
    "start_time": "2025-02-19T18:09:40.360Z"
   },
   {
    "duration": 4284,
    "start_time": "2025-02-19T18:09:41.013Z"
   },
   {
    "duration": 10,
    "start_time": "2025-02-19T18:09:45.299Z"
   },
   {
    "duration": 180988,
    "start_time": "2025-02-19T18:09:45.313Z"
   },
   {
    "duration": 7,
    "start_time": "2025-02-19T18:12:46.302Z"
   },
   {
    "duration": 9509,
    "start_time": "2025-02-19T18:12:46.311Z"
   },
   {
    "duration": 578,
    "start_time": "2025-02-19T18:12:55.822Z"
   },
   {
    "duration": 9,
    "start_time": "2025-02-19T18:12:56.401Z"
   },
   {
    "duration": 3195,
    "start_time": "2025-02-19T18:25:27.013Z"
   },
   {
    "duration": 2,
    "start_time": "2025-02-19T18:25:30.212Z"
   },
   {
    "duration": 71,
    "start_time": "2025-02-19T18:25:30.216Z"
   },
   {
    "duration": 28,
    "start_time": "2025-02-19T18:25:30.289Z"
   },
   {
    "duration": 51,
    "start_time": "2025-02-19T18:25:30.320Z"
   },
   {
    "duration": 2795,
    "start_time": "2025-02-19T18:25:30.373Z"
   },
   {
    "duration": 2443,
    "start_time": "2025-02-19T18:25:33.171Z"
   },
   {
    "duration": 1431,
    "start_time": "2025-02-19T18:25:35.616Z"
   },
   {
    "duration": 3,
    "start_time": "2025-02-19T18:25:37.049Z"
   },
   {
    "duration": 1119,
    "start_time": "2025-02-19T18:25:37.053Z"
   },
   {
    "duration": 123,
    "start_time": "2025-02-19T18:25:38.174Z"
   },
   {
    "duration": 3,
    "start_time": "2025-02-19T18:25:38.299Z"
   },
   {
    "duration": 156,
    "start_time": "2025-02-19T18:25:38.309Z"
   },
   {
    "duration": 112,
    "start_time": "2025-02-19T18:25:38.468Z"
   },
   {
    "duration": 265,
    "start_time": "2025-02-19T18:25:38.582Z"
   },
   {
    "duration": 390,
    "start_time": "2025-02-19T18:25:38.850Z"
   },
   {
    "duration": 74,
    "start_time": "2025-02-19T18:25:39.242Z"
   },
   {
    "duration": 4,
    "start_time": "2025-02-19T18:25:39.318Z"
   },
   {
    "duration": 20,
    "start_time": "2025-02-19T18:25:39.324Z"
   },
   {
    "duration": 11,
    "start_time": "2025-02-19T18:25:39.345Z"
   },
   {
    "duration": 58,
    "start_time": "2025-02-19T18:25:39.357Z"
   },
   {
    "duration": 25,
    "start_time": "2025-02-19T18:25:39.417Z"
   },
   {
    "duration": 6,
    "start_time": "2025-02-19T18:25:39.443Z"
   },
   {
    "duration": 30,
    "start_time": "2025-02-19T18:25:39.451Z"
   },
   {
    "duration": 58,
    "start_time": "2025-02-19T18:25:39.482Z"
   },
   {
    "duration": 2,
    "start_time": "2025-02-19T18:25:39.542Z"
   },
   {
    "duration": 325,
    "start_time": "2025-02-19T18:25:39.546Z"
   },
   {
    "duration": 264,
    "start_time": "2025-02-19T18:25:39.873Z"
   },
   {
    "duration": 432,
    "start_time": "2025-02-19T18:25:40.139Z"
   },
   {
    "duration": 426,
    "start_time": "2025-02-19T18:25:40.573Z"
   },
   {
    "duration": 577,
    "start_time": "2025-02-19T18:25:41.009Z"
   },
   {
    "duration": 19,
    "start_time": "2025-02-19T18:25:41.587Z"
   },
   {
    "duration": 59,
    "start_time": "2025-02-19T18:25:41.608Z"
   },
   {
    "duration": 4304,
    "start_time": "2025-02-19T18:25:41.669Z"
   },
   {
    "duration": 112,
    "start_time": "2025-02-19T18:25:45.975Z"
   },
   {
    "duration": 5,
    "start_time": "2025-02-19T18:25:46.088Z"
   },
   {
    "duration": 23649,
    "start_time": "2025-02-19T18:25:46.109Z"
   },
   {
    "duration": 649,
    "start_time": "2025-02-19T18:26:09.760Z"
   },
   {
    "duration": 4553,
    "start_time": "2025-02-19T18:26:10.412Z"
   },
   {
    "duration": 3,
    "start_time": "2025-02-19T18:26:14.966Z"
   },
   {
    "duration": 181779,
    "start_time": "2025-02-19T18:26:14.972Z"
   },
   {
    "duration": 2,
    "start_time": "2025-02-19T18:29:16.753Z"
   },
   {
    "duration": 9542,
    "start_time": "2025-02-19T18:29:16.757Z"
   },
   {
    "duration": 555,
    "start_time": "2025-02-19T18:29:26.309Z"
   },
   {
    "duration": 3,
    "start_time": "2025-02-19T18:29:26.866Z"
   },
   {
    "duration": 3043,
    "start_time": "2025-02-19T18:32:15.562Z"
   },
   {
    "duration": 2,
    "start_time": "2025-02-19T18:32:18.608Z"
   },
   {
    "duration": 11,
    "start_time": "2025-02-19T18:32:18.612Z"
   },
   {
    "duration": 3,
    "start_time": "2025-02-19T18:32:18.625Z"
   },
   {
    "duration": 4,
    "start_time": "2025-02-19T18:32:18.630Z"
   },
   {
    "duration": 3059,
    "start_time": "2025-02-19T18:32:18.635Z"
   },
   {
    "duration": 2440,
    "start_time": "2025-02-19T18:32:21.696Z"
   },
   {
    "duration": 1460,
    "start_time": "2025-02-19T18:32:24.138Z"
   },
   {
    "duration": 3,
    "start_time": "2025-02-19T18:32:25.600Z"
   },
   {
    "duration": 1129,
    "start_time": "2025-02-19T18:32:25.605Z"
   },
   {
    "duration": 137,
    "start_time": "2025-02-19T18:32:26.736Z"
   },
   {
    "duration": 4,
    "start_time": "2025-02-19T18:32:26.875Z"
   },
   {
    "duration": 180,
    "start_time": "2025-02-19T18:32:26.881Z"
   },
   {
    "duration": 113,
    "start_time": "2025-02-19T18:32:27.064Z"
   },
   {
    "duration": 203,
    "start_time": "2025-02-19T18:32:27.179Z"
   },
   {
    "duration": 367,
    "start_time": "2025-02-19T18:32:27.383Z"
   },
   {
    "duration": 74,
    "start_time": "2025-02-19T18:32:27.752Z"
   },
   {
    "duration": 4,
    "start_time": "2025-02-19T18:32:27.828Z"
   },
   {
    "duration": 4,
    "start_time": "2025-02-19T18:32:27.833Z"
   },
   {
    "duration": 6,
    "start_time": "2025-02-19T18:32:27.839Z"
   },
   {
    "duration": 76,
    "start_time": "2025-02-19T18:32:27.847Z"
   },
   {
    "duration": 25,
    "start_time": "2025-02-19T18:32:27.925Z"
   },
   {
    "duration": 7,
    "start_time": "2025-02-19T18:32:27.952Z"
   },
   {
    "duration": 49,
    "start_time": "2025-02-19T18:32:27.961Z"
   },
   {
    "duration": 39,
    "start_time": "2025-02-19T18:32:28.011Z"
   },
   {
    "duration": 3,
    "start_time": "2025-02-19T18:32:28.051Z"
   },
   {
    "duration": 323,
    "start_time": "2025-02-19T18:32:28.056Z"
   },
   {
    "duration": 291,
    "start_time": "2025-02-19T18:32:28.381Z"
   },
   {
    "duration": 498,
    "start_time": "2025-02-19T18:32:28.673Z"
   },
   {
    "duration": 438,
    "start_time": "2025-02-19T18:32:29.173Z"
   },
   {
    "duration": 605,
    "start_time": "2025-02-19T18:32:29.613Z"
   },
   {
    "duration": 20,
    "start_time": "2025-02-19T18:32:30.219Z"
   },
   {
    "duration": 67,
    "start_time": "2025-02-19T18:32:30.241Z"
   },
   {
    "duration": 4410,
    "start_time": "2025-02-19T18:32:30.310Z"
   },
   {
    "duration": 123,
    "start_time": "2025-02-19T18:32:34.722Z"
   },
   {
    "duration": 6,
    "start_time": "2025-02-19T18:32:34.847Z"
   },
   {
    "duration": 27559,
    "start_time": "2025-02-19T18:32:34.854Z"
   },
   {
    "duration": 597,
    "start_time": "2025-02-19T18:33:02.415Z"
   },
   {
    "duration": 4953,
    "start_time": "2025-02-19T18:33:03.014Z"
   },
   {
    "duration": 3,
    "start_time": "2025-02-19T18:33:07.968Z"
   },
   {
    "duration": 184258,
    "start_time": "2025-02-19T18:33:07.975Z"
   },
   {
    "duration": 3,
    "start_time": "2025-02-19T18:36:12.234Z"
   },
   {
    "duration": 9378,
    "start_time": "2025-02-19T18:36:12.239Z"
   },
   {
    "duration": 563,
    "start_time": "2025-02-19T18:36:21.619Z"
   },
   {
    "duration": 3,
    "start_time": "2025-02-19T18:36:22.184Z"
   },
   {
    "duration": 14,
    "start_time": "2025-02-19T18:36:22.188Z"
   },
   {
    "duration": 1678,
    "start_time": "2025-02-19T18:36:22.203Z"
   },
   {
    "duration": 3084,
    "start_time": "2025-02-19T18:38:59.803Z"
   },
   {
    "duration": 3,
    "start_time": "2025-02-19T18:39:02.889Z"
   },
   {
    "duration": 35,
    "start_time": "2025-02-19T18:39:02.894Z"
   },
   {
    "duration": 10,
    "start_time": "2025-02-19T18:39:02.931Z"
   },
   {
    "duration": 6,
    "start_time": "2025-02-19T18:39:02.943Z"
   },
   {
    "duration": 2662,
    "start_time": "2025-02-19T18:39:02.950Z"
   },
   {
    "duration": 2521,
    "start_time": "2025-02-19T18:39:05.614Z"
   },
   {
    "duration": 1514,
    "start_time": "2025-02-19T18:39:08.137Z"
   },
   {
    "duration": 3,
    "start_time": "2025-02-19T18:39:09.653Z"
   },
   {
    "duration": 1150,
    "start_time": "2025-02-19T18:39:09.658Z"
   },
   {
    "duration": 127,
    "start_time": "2025-02-19T18:39:10.809Z"
   },
   {
    "duration": 3,
    "start_time": "2025-02-19T18:39:10.938Z"
   },
   {
    "duration": 154,
    "start_time": "2025-02-19T18:39:10.943Z"
   },
   {
    "duration": 122,
    "start_time": "2025-02-19T18:39:11.100Z"
   },
   {
    "duration": 210,
    "start_time": "2025-02-19T18:39:11.224Z"
   },
   {
    "duration": 366,
    "start_time": "2025-02-19T18:39:11.435Z"
   },
   {
    "duration": 69,
    "start_time": "2025-02-19T18:39:11.802Z"
   },
   {
    "duration": 4,
    "start_time": "2025-02-19T18:39:11.872Z"
   },
   {
    "duration": 4,
    "start_time": "2025-02-19T18:39:11.878Z"
   },
   {
    "duration": 35,
    "start_time": "2025-02-19T18:39:11.883Z"
   },
   {
    "duration": 55,
    "start_time": "2025-02-19T18:39:11.920Z"
   },
   {
    "duration": 32,
    "start_time": "2025-02-19T18:39:11.977Z"
   },
   {
    "duration": 8,
    "start_time": "2025-02-19T18:39:12.011Z"
   },
   {
    "duration": 27,
    "start_time": "2025-02-19T18:39:12.020Z"
   },
   {
    "duration": 30,
    "start_time": "2025-02-19T18:39:12.050Z"
   },
   {
    "duration": 27,
    "start_time": "2025-02-19T18:39:12.082Z"
   },
   {
    "duration": 375,
    "start_time": "2025-02-19T18:39:12.111Z"
   },
   {
    "duration": 294,
    "start_time": "2025-02-19T18:39:12.488Z"
   },
   {
    "duration": 510,
    "start_time": "2025-02-19T18:39:12.784Z"
   },
   {
    "duration": 477,
    "start_time": "2025-02-19T18:39:13.296Z"
   },
   {
    "duration": 600,
    "start_time": "2025-02-19T18:39:13.774Z"
   },
   {
    "duration": 19,
    "start_time": "2025-02-19T18:39:14.375Z"
   },
   {
    "duration": 4,
    "start_time": "2025-02-19T18:39:14.396Z"
   },
   {
    "duration": 4381,
    "start_time": "2025-02-19T18:39:14.402Z"
   },
   {
    "duration": 135,
    "start_time": "2025-02-19T18:39:18.785Z"
   },
   {
    "duration": 11,
    "start_time": "2025-02-19T18:39:18.922Z"
   },
   {
    "duration": 26381,
    "start_time": "2025-02-19T18:39:18.935Z"
   },
   {
    "duration": 790,
    "start_time": "2025-02-19T18:39:45.318Z"
   },
   {
    "duration": 4388,
    "start_time": "2025-02-19T18:39:46.111Z"
   },
   {
    "duration": 8,
    "start_time": "2025-02-19T18:39:50.501Z"
   },
   {
    "duration": 181351,
    "start_time": "2025-02-19T18:39:50.514Z"
   },
   {
    "duration": 3,
    "start_time": "2025-02-19T18:42:51.866Z"
   },
   {
    "duration": 9622,
    "start_time": "2025-02-19T18:42:51.871Z"
   },
   {
    "duration": 569,
    "start_time": "2025-02-19T18:43:01.494Z"
   },
   {
    "duration": 2,
    "start_time": "2025-02-19T18:43:02.065Z"
   },
   {
    "duration": 21,
    "start_time": "2025-02-19T18:43:02.068Z"
   },
   {
    "duration": 1688,
    "start_time": "2025-02-19T18:43:02.091Z"
   },
   {
    "duration": 241183,
    "start_time": "2025-02-19T18:43:03.781Z"
   },
   {
    "duration": 173,
    "start_time": "2025-02-19T18:47:04.966Z"
   },
   {
    "duration": 51,
    "start_time": "2025-02-19T18:47:05.140Z"
   },
   {
    "duration": 3,
    "start_time": "2025-02-19T18:47:05.192Z"
   },
   {
    "duration": 14,
    "start_time": "2025-02-19T18:47:05.196Z"
   },
   {
    "duration": 1491,
    "start_time": "2025-02-19T18:47:05.212Z"
   },
   {
    "duration": 598,
    "start_time": "2025-02-19T18:47:06.705Z"
   },
   {
    "duration": 5,
    "start_time": "2025-02-19T18:47:07.309Z"
   },
   {
    "duration": 76429,
    "start_time": "2025-02-19T18:54:26.341Z"
   },
   {
    "duration": 3,
    "start_time": "2025-02-19T18:58:06.219Z"
   },
   {
    "duration": 41223,
    "start_time": "2025-02-19T18:58:09.623Z"
   },
   {
    "duration": 3,
    "start_time": "2025-02-19T18:59:48.559Z"
   },
   {
    "duration": 60828,
    "start_time": "2025-02-19T18:59:50.752Z"
   },
   {
    "duration": 3,
    "start_time": "2025-02-19T19:02:39.758Z"
   },
   {
    "duration": 61841,
    "start_time": "2025-02-19T19:02:41.710Z"
   },
   {
    "duration": 4,
    "start_time": "2025-02-19T19:06:36.730Z"
   },
   {
    "duration": 71,
    "start_time": "2025-02-19T19:06:37.994Z"
   },
   {
    "duration": 6,
    "start_time": "2025-02-19T19:07:28.799Z"
   },
   {
    "duration": 10144,
    "start_time": "2025-02-19T19:07:30.199Z"
   },
   {
    "duration": 235,
    "start_time": "2025-02-19T19:08:12.595Z"
   },
   {
    "duration": 329,
    "start_time": "2025-02-19T19:09:50.166Z"
   },
   {
    "duration": 100,
    "start_time": "2025-02-19T19:10:18.038Z"
   },
   {
    "duration": 116240,
    "start_time": "2025-02-19T19:10:24.616Z"
   },
   {
    "duration": 72318,
    "start_time": "2025-02-19T19:12:52.625Z"
   },
   {
    "duration": 60432,
    "start_time": "2025-02-19T19:15:14.409Z"
   },
   {
    "duration": 1100,
    "start_time": "2025-02-19T19:16:27.256Z"
   },
   {
    "duration": 427,
    "start_time": "2025-02-19T19:16:34.559Z"
   },
   {
    "duration": 3030,
    "start_time": "2025-02-19T19:25:42.581Z"
   },
   {
    "duration": 3,
    "start_time": "2025-02-19T19:25:45.613Z"
   },
   {
    "duration": 5,
    "start_time": "2025-02-19T19:25:45.617Z"
   },
   {
    "duration": 3,
    "start_time": "2025-02-19T19:25:45.623Z"
   },
   {
    "duration": 3,
    "start_time": "2025-02-19T19:25:45.627Z"
   },
   {
    "duration": 2657,
    "start_time": "2025-02-19T19:25:45.631Z"
   },
   {
    "duration": 2390,
    "start_time": "2025-02-19T19:25:48.291Z"
   },
   {
    "duration": 1389,
    "start_time": "2025-02-19T19:25:50.682Z"
   },
   {
    "duration": 2,
    "start_time": "2025-02-19T19:25:52.073Z"
   },
   {
    "duration": 1070,
    "start_time": "2025-02-19T19:25:52.077Z"
   },
   {
    "duration": 133,
    "start_time": "2025-02-19T19:25:53.149Z"
   },
   {
    "duration": 3,
    "start_time": "2025-02-19T19:25:53.283Z"
   },
   {
    "duration": 169,
    "start_time": "2025-02-19T19:25:53.287Z"
   },
   {
    "duration": 108,
    "start_time": "2025-02-19T19:25:53.459Z"
   },
   {
    "duration": 161,
    "start_time": "2025-02-19T19:25:53.569Z"
   },
   {
    "duration": 283,
    "start_time": "2025-02-19T19:25:53.732Z"
   },
   {
    "duration": 52,
    "start_time": "2025-02-19T19:25:54.017Z"
   },
   {
    "duration": 4,
    "start_time": "2025-02-19T19:25:54.071Z"
   },
   {
    "duration": 4,
    "start_time": "2025-02-19T19:25:54.077Z"
   },
   {
    "duration": 27,
    "start_time": "2025-02-19T19:25:54.083Z"
   },
   {
    "duration": 47,
    "start_time": "2025-02-19T19:25:54.112Z"
   },
   {
    "duration": 23,
    "start_time": "2025-02-19T19:25:54.161Z"
   },
   {
    "duration": 27,
    "start_time": "2025-02-19T19:25:54.185Z"
   },
   {
    "duration": 17,
    "start_time": "2025-02-19T19:25:54.213Z"
   },
   {
    "duration": 21,
    "start_time": "2025-02-19T19:25:54.232Z"
   },
   {
    "duration": 2,
    "start_time": "2025-02-19T19:25:54.255Z"
   },
   {
    "duration": 314,
    "start_time": "2025-02-19T19:25:54.258Z"
   },
   {
    "duration": 270,
    "start_time": "2025-02-19T19:25:54.574Z"
   },
   {
    "duration": 470,
    "start_time": "2025-02-19T19:25:54.845Z"
   },
   {
    "duration": 417,
    "start_time": "2025-02-19T19:25:55.317Z"
   },
   {
    "duration": 614,
    "start_time": "2025-02-19T19:25:55.736Z"
   },
   {
    "duration": 17,
    "start_time": "2025-02-19T19:25:56.352Z"
   },
   {
    "duration": 3,
    "start_time": "2025-02-19T19:25:56.371Z"
   },
   {
    "duration": 2737,
    "start_time": "2025-02-19T19:25:56.376Z"
   },
   {
    "duration": 71,
    "start_time": "2025-02-19T19:25:59.115Z"
   },
   {
    "duration": 22,
    "start_time": "2025-02-19T19:25:59.188Z"
   },
   {
    "duration": 900,
    "start_time": "2025-02-19T19:25:59.211Z"
   },
   {
    "duration": 130,
    "start_time": "2025-02-19T19:26:00.112Z"
   },
   {
    "duration": 654,
    "start_time": "2025-02-19T19:26:00.309Z"
   },
   {
    "duration": 3,
    "start_time": "2025-02-19T19:26:00.965Z"
   },
   {
    "duration": 22178,
    "start_time": "2025-02-19T19:26:00.972Z"
   },
   {
    "duration": 3,
    "start_time": "2025-02-19T19:26:23.152Z"
   },
   {
    "duration": 982,
    "start_time": "2025-02-19T19:26:23.156Z"
   },
   {
    "duration": 99,
    "start_time": "2025-02-19T19:26:24.140Z"
   },
   {
    "duration": 3,
    "start_time": "2025-02-19T19:26:24.241Z"
   },
   {
    "duration": 4,
    "start_time": "2025-02-19T19:26:24.245Z"
   },
   {
    "duration": 377,
    "start_time": "2025-02-19T19:26:24.251Z"
   },
   {
    "duration": 52575,
    "start_time": "2025-02-19T19:26:24.630Z"
   },
   {
    "duration": 68,
    "start_time": "2025-02-19T19:27:17.209Z"
   },
   {
    "duration": 38,
    "start_time": "2025-02-19T19:27:17.278Z"
   },
   {
    "duration": 2,
    "start_time": "2025-02-19T19:27:17.318Z"
   },
   {
    "duration": 49322,
    "start_time": "2025-02-19T19:27:17.321Z"
   },
   {
    "duration": 929,
    "start_time": "2025-02-19T19:28:06.645Z"
   },
   {
    "duration": 336,
    "start_time": "2025-02-19T19:28:07.576Z"
   },
   {
    "duration": 124,
    "start_time": "2025-02-19T19:28:07.914Z"
   },
   {
    "duration": 3066,
    "start_time": "2025-02-19T19:29:22.120Z"
   },
   {
    "duration": 2,
    "start_time": "2025-02-19T19:29:25.189Z"
   },
   {
    "duration": 4,
    "start_time": "2025-02-19T19:29:25.193Z"
   },
   {
    "duration": 4,
    "start_time": "2025-02-19T19:29:25.198Z"
   },
   {
    "duration": 2,
    "start_time": "2025-02-19T19:29:25.204Z"
   },
   {
    "duration": 2663,
    "start_time": "2025-02-19T19:29:25.208Z"
   },
   {
    "duration": 2415,
    "start_time": "2025-02-19T19:29:27.873Z"
   },
   {
    "duration": 1378,
    "start_time": "2025-02-19T19:29:30.291Z"
   },
   {
    "duration": 3,
    "start_time": "2025-02-19T19:29:31.670Z"
   },
   {
    "duration": 1055,
    "start_time": "2025-02-19T19:29:31.674Z"
   },
   {
    "duration": 129,
    "start_time": "2025-02-19T19:29:32.731Z"
   },
   {
    "duration": 3,
    "start_time": "2025-02-19T19:29:32.861Z"
   },
   {
    "duration": 180,
    "start_time": "2025-02-19T19:29:32.866Z"
   },
   {
    "duration": 106,
    "start_time": "2025-02-19T19:29:33.049Z"
   },
   {
    "duration": 168,
    "start_time": "2025-02-19T19:29:33.156Z"
   },
   {
    "duration": 284,
    "start_time": "2025-02-19T19:29:33.326Z"
   },
   {
    "duration": 51,
    "start_time": "2025-02-19T19:29:33.611Z"
   },
   {
    "duration": 4,
    "start_time": "2025-02-19T19:29:33.664Z"
   },
   {
    "duration": 5,
    "start_time": "2025-02-19T19:29:33.669Z"
   },
   {
    "duration": 5,
    "start_time": "2025-02-19T19:29:33.676Z"
   },
   {
    "duration": 68,
    "start_time": "2025-02-19T19:29:33.683Z"
   },
   {
    "duration": 23,
    "start_time": "2025-02-19T19:29:33.753Z"
   },
   {
    "duration": 8,
    "start_time": "2025-02-19T19:29:33.778Z"
   },
   {
    "duration": 37,
    "start_time": "2025-02-19T19:29:33.788Z"
   },
   {
    "duration": 67,
    "start_time": "2025-02-19T19:29:33.826Z"
   },
   {
    "duration": 3,
    "start_time": "2025-02-19T19:29:33.895Z"
   },
   {
    "duration": 304,
    "start_time": "2025-02-19T19:29:33.899Z"
   },
   {
    "duration": 278,
    "start_time": "2025-02-19T19:29:34.205Z"
   },
   {
    "duration": 452,
    "start_time": "2025-02-19T19:29:34.485Z"
   },
   {
    "duration": 395,
    "start_time": "2025-02-19T19:29:34.939Z"
   },
   {
    "duration": 579,
    "start_time": "2025-02-19T19:29:35.335Z"
   },
   {
    "duration": 19,
    "start_time": "2025-02-19T19:29:35.916Z"
   },
   {
    "duration": 4,
    "start_time": "2025-02-19T19:29:35.937Z"
   },
   {
    "duration": 2609,
    "start_time": "2025-02-19T19:29:35.943Z"
   },
   {
    "duration": 77,
    "start_time": "2025-02-19T19:29:38.554Z"
   },
   {
    "duration": 4,
    "start_time": "2025-02-19T19:29:38.633Z"
   },
   {
    "duration": 981,
    "start_time": "2025-02-19T19:29:38.638Z"
   },
   {
    "duration": 194,
    "start_time": "2025-02-19T19:29:39.622Z"
   },
   {
    "duration": 702,
    "start_time": "2025-02-19T19:29:39.818Z"
   },
   {
    "duration": 3,
    "start_time": "2025-02-19T19:29:40.522Z"
   },
   {
    "duration": 26731,
    "start_time": "2025-02-19T19:29:40.528Z"
   },
   {
    "duration": 2,
    "start_time": "2025-02-19T19:30:07.261Z"
   },
   {
    "duration": 1154,
    "start_time": "2025-02-19T19:30:07.265Z"
   },
   {
    "duration": 122,
    "start_time": "2025-02-19T19:30:08.420Z"
   },
   {
    "duration": 3,
    "start_time": "2025-02-19T19:30:08.544Z"
   },
   {
    "duration": 46,
    "start_time": "2025-02-19T19:30:08.548Z"
   },
   {
    "duration": 443,
    "start_time": "2025-02-19T19:30:08.595Z"
   },
   {
    "duration": 54155,
    "start_time": "2025-02-19T19:30:09.039Z"
   },
   {
    "duration": 69,
    "start_time": "2025-02-19T19:31:03.196Z"
   },
   {
    "duration": 24,
    "start_time": "2025-02-19T19:31:03.267Z"
   },
   {
    "duration": 17,
    "start_time": "2025-02-19T19:31:03.293Z"
   },
   {
    "duration": 48808,
    "start_time": "2025-02-19T19:31:03.312Z"
   },
   {
    "duration": 955,
    "start_time": "2025-02-19T19:31:52.122Z"
   },
   {
    "duration": 335,
    "start_time": "2025-02-19T19:31:53.079Z"
   },
   {
    "duration": 130,
    "start_time": "2025-02-19T19:31:53.416Z"
   },
   {
    "duration": 5,
    "start_time": "2025-02-19T19:33:03.614Z"
   },
   {
    "duration": 721,
    "start_time": "2025-02-19T19:33:05.397Z"
   },
   {
    "duration": 155,
    "start_time": "2025-02-19T19:33:07.761Z"
   },
   {
    "duration": 3,
    "start_time": "2025-02-19T19:33:16.399Z"
   },
   {
    "duration": 28484,
    "start_time": "2025-02-19T19:33:17.675Z"
   },
   {
    "duration": 3,
    "start_time": "2025-02-19T19:33:46.161Z"
   },
   {
    "duration": 1086,
    "start_time": "2025-02-19T19:33:46.166Z"
   },
   {
    "duration": 106,
    "start_time": "2025-02-19T19:33:47.254Z"
   },
   {
    "duration": 3,
    "start_time": "2025-02-19T19:34:49.277Z"
   },
   {
    "duration": 363,
    "start_time": "2025-02-19T19:34:50.321Z"
   },
   {
    "duration": 50896,
    "start_time": "2025-02-19T19:34:53.982Z"
   },
   {
    "duration": 418,
    "start_time": "2025-02-19T19:36:30.158Z"
   },
   {
    "duration": 4,
    "start_time": "2025-02-19T19:37:09.792Z"
   },
   {
    "duration": 1813,
    "start_time": "2025-02-19T19:40:52.758Z"
   },
   {
    "duration": 2944,
    "start_time": "2025-02-19T19:41:32.270Z"
   },
   {
    "duration": 3,
    "start_time": "2025-02-19T19:41:35.217Z"
   },
   {
    "duration": 9,
    "start_time": "2025-02-19T19:41:35.221Z"
   },
   {
    "duration": 6,
    "start_time": "2025-02-19T19:41:35.231Z"
   },
   {
    "duration": 3,
    "start_time": "2025-02-19T19:41:35.239Z"
   },
   {
    "duration": 3328,
    "start_time": "2025-02-19T19:41:35.244Z"
   },
   {
    "duration": 2383,
    "start_time": "2025-02-19T19:41:38.574Z"
   },
   {
    "duration": 1307,
    "start_time": "2025-02-19T19:41:40.960Z"
   },
   {
    "duration": 2,
    "start_time": "2025-02-19T19:41:42.269Z"
   },
   {
    "duration": 1058,
    "start_time": "2025-02-19T19:41:42.273Z"
   },
   {
    "duration": 131,
    "start_time": "2025-02-19T19:41:43.333Z"
   },
   {
    "duration": 2,
    "start_time": "2025-02-19T19:41:43.466Z"
   },
   {
    "duration": 168,
    "start_time": "2025-02-19T19:41:43.470Z"
   },
   {
    "duration": 113,
    "start_time": "2025-02-19T19:41:43.641Z"
   },
   {
    "duration": 203,
    "start_time": "2025-02-19T19:41:43.756Z"
   },
   {
    "duration": 354,
    "start_time": "2025-02-19T19:41:43.960Z"
   },
   {
    "duration": 67,
    "start_time": "2025-02-19T19:41:44.316Z"
   },
   {
    "duration": 4,
    "start_time": "2025-02-19T19:41:44.385Z"
   },
   {
    "duration": 20,
    "start_time": "2025-02-19T19:41:44.390Z"
   },
   {
    "duration": 6,
    "start_time": "2025-02-19T19:41:44.412Z"
   },
   {
    "duration": 50,
    "start_time": "2025-02-19T19:41:44.419Z"
   },
   {
    "duration": 24,
    "start_time": "2025-02-19T19:41:44.470Z"
   },
   {
    "duration": 6,
    "start_time": "2025-02-19T19:41:44.509Z"
   },
   {
    "duration": 31,
    "start_time": "2025-02-19T19:41:44.517Z"
   },
   {
    "duration": 39,
    "start_time": "2025-02-19T19:41:44.550Z"
   },
   {
    "duration": 3,
    "start_time": "2025-02-19T19:41:44.609Z"
   },
   {
    "duration": 319,
    "start_time": "2025-02-19T19:41:44.614Z"
   },
   {
    "duration": 279,
    "start_time": "2025-02-19T19:41:44.935Z"
   },
   {
    "duration": 443,
    "start_time": "2025-02-19T19:41:45.216Z"
   },
   {
    "duration": 421,
    "start_time": "2025-02-19T19:41:45.661Z"
   },
   {
    "duration": 571,
    "start_time": "2025-02-19T19:41:46.083Z"
   },
   {
    "duration": 19,
    "start_time": "2025-02-19T19:41:46.655Z"
   },
   {
    "duration": 67,
    "start_time": "2025-02-19T19:41:46.675Z"
   },
   {
    "duration": 4289,
    "start_time": "2025-02-19T19:41:46.743Z"
   },
   {
    "duration": 118,
    "start_time": "2025-02-19T19:41:51.033Z"
   },
   {
    "duration": 4,
    "start_time": "2025-02-19T19:41:51.153Z"
   },
   {
    "duration": 20551,
    "start_time": "2025-02-19T19:41:51.159Z"
   },
   {
    "duration": 606,
    "start_time": "2025-02-19T19:42:11.711Z"
   },
   {
    "duration": 4128,
    "start_time": "2025-02-19T19:42:12.322Z"
   },
   {
    "duration": 3,
    "start_time": "2025-02-19T19:42:16.452Z"
   },
   {
    "duration": 181839,
    "start_time": "2025-02-19T19:42:16.460Z"
   },
   {
    "duration": 8,
    "start_time": "2025-02-19T19:45:18.301Z"
   },
   {
    "duration": 8917,
    "start_time": "2025-02-19T19:45:18.311Z"
   },
   {
    "duration": 575,
    "start_time": "2025-02-19T19:45:27.230Z"
   },
   {
    "duration": 2,
    "start_time": "2025-02-19T19:45:27.809Z"
   },
   {
    "duration": 3,
    "start_time": "2025-02-19T19:45:27.813Z"
   },
   {
    "duration": 1568,
    "start_time": "2025-02-19T19:45:27.817Z"
   },
   {
    "duration": 238833,
    "start_time": "2025-02-19T19:45:29.387Z"
   },
   {
    "duration": 171,
    "start_time": "2025-02-19T19:49:28.222Z"
   },
   {
    "duration": 52,
    "start_time": "2025-02-19T19:49:28.395Z"
   },
   {
    "duration": 2,
    "start_time": "2025-02-19T19:49:28.449Z"
   },
   {
    "duration": 59130,
    "start_time": "2025-02-19T19:49:28.453Z"
   },
   {
    "duration": 1113,
    "start_time": "2025-02-19T19:50:27.584Z"
   },
   {
    "duration": 438,
    "start_time": "2025-02-19T19:50:28.698Z"
   },
   {
    "duration": 5,
    "start_time": "2025-02-19T19:50:29.138Z"
   },
   {
    "duration": 156,
    "start_time": "2025-02-19T19:50:29.145Z"
   },
   {
    "duration": 29,
    "start_time": "2025-02-19T19:51:58.241Z"
   },
   {
    "duration": 23,
    "start_time": "2025-02-19T19:52:07.952Z"
   },
   {
    "duration": 22,
    "start_time": "2025-02-19T19:52:21.396Z"
   },
   {
    "duration": 4,
    "start_time": "2025-02-19T19:52:59.806Z"
   },
   {
    "duration": 979,
    "start_time": "2025-02-19T20:00:20.251Z"
   },
   {
    "duration": 116,
    "start_time": "2025-02-19T20:00:21.349Z"
   },
   {
    "duration": 3,
    "start_time": "2025-02-19T20:00:25.864Z"
   },
   {
    "duration": 165,
    "start_time": "2025-02-19T20:00:32.174Z"
   },
   {
    "duration": 6,
    "start_time": "2025-02-19T20:01:05.369Z"
   },
   {
    "duration": 152,
    "start_time": "2025-02-19T20:02:30.549Z"
   },
   {
    "duration": 32,
    "start_time": "2025-02-19T20:02:33.806Z"
   },
   {
    "duration": 30,
    "start_time": "2025-02-19T20:03:20.856Z"
   },
   {
    "duration": 86,
    "start_time": "2025-02-19T20:03:41.316Z"
   },
   {
    "duration": 162,
    "start_time": "2025-02-19T20:03:48.050Z"
   },
   {
    "duration": 79,
    "start_time": "2025-02-19T20:04:13.094Z"
   },
   {
    "duration": 69,
    "start_time": "2025-02-19T20:04:19.874Z"
   },
   {
    "duration": 28,
    "start_time": "2025-02-19T20:05:53.955Z"
   },
   {
    "duration": 26,
    "start_time": "2025-02-19T20:06:01.838Z"
   },
   {
    "duration": 263,
    "start_time": "2025-02-19T20:06:36.201Z"
   },
   {
    "duration": 3109,
    "start_time": "2025-02-19T20:08:02.919Z"
   },
   {
    "duration": 3,
    "start_time": "2025-02-19T20:08:06.030Z"
   },
   {
    "duration": 11,
    "start_time": "2025-02-19T20:08:06.034Z"
   },
   {
    "duration": 12,
    "start_time": "2025-02-19T20:08:06.046Z"
   },
   {
    "duration": 7,
    "start_time": "2025-02-19T20:08:06.060Z"
   },
   {
    "duration": 2780,
    "start_time": "2025-02-19T20:08:06.069Z"
   },
   {
    "duration": 2345,
    "start_time": "2025-02-19T20:08:08.852Z"
   },
   {
    "duration": 1381,
    "start_time": "2025-02-19T20:08:11.198Z"
   },
   {
    "duration": 3,
    "start_time": "2025-02-19T20:08:12.580Z"
   },
   {
    "duration": 1051,
    "start_time": "2025-02-19T20:08:12.584Z"
   },
   {
    "duration": 128,
    "start_time": "2025-02-19T20:08:13.637Z"
   },
   {
    "duration": 3,
    "start_time": "2025-02-19T20:08:13.766Z"
   },
   {
    "duration": 167,
    "start_time": "2025-02-19T20:08:13.771Z"
   },
   {
    "duration": 31,
    "start_time": "2025-02-19T20:08:13.940Z"
   },
   {
    "duration": 157,
    "start_time": "2025-02-19T20:08:13.972Z"
   },
   {
    "duration": 180,
    "start_time": "2025-02-19T20:08:14.130Z"
   },
   {
    "duration": 306,
    "start_time": "2025-02-19T20:08:14.311Z"
   },
   {
    "duration": 71,
    "start_time": "2025-02-19T20:08:14.618Z"
   },
   {
    "duration": 21,
    "start_time": "2025-02-19T20:08:14.691Z"
   },
   {
    "duration": 117,
    "start_time": "2025-02-19T20:08:14.714Z"
   },
   {
    "duration": 6,
    "start_time": "2025-02-19T20:08:14.833Z"
   },
   {
    "duration": 77,
    "start_time": "2025-02-19T20:08:14.841Z"
   },
   {
    "duration": 26,
    "start_time": "2025-02-19T20:08:14.920Z"
   },
   {
    "duration": 8,
    "start_time": "2025-02-19T20:08:14.948Z"
   },
   {
    "duration": 28,
    "start_time": "2025-02-19T20:08:14.957Z"
   },
   {
    "duration": 26,
    "start_time": "2025-02-19T20:08:15.010Z"
   },
   {
    "duration": 54,
    "start_time": "2025-02-19T20:08:15.038Z"
   },
   {
    "duration": 2,
    "start_time": "2025-02-19T20:08:15.093Z"
   },
   {
    "duration": 303,
    "start_time": "2025-02-19T20:08:15.097Z"
   },
   {
    "duration": 339,
    "start_time": "2025-02-19T20:08:15.408Z"
   },
   {
    "duration": 193,
    "start_time": "2025-02-19T20:08:15.749Z"
   },
   {
    "duration": 435,
    "start_time": "2025-02-19T20:08:15.943Z"
   },
   {
    "duration": 399,
    "start_time": "2025-02-19T20:08:16.379Z"
   },
   {
    "duration": 583,
    "start_time": "2025-02-19T20:08:16.779Z"
   },
   {
    "duration": 17,
    "start_time": "2025-02-19T20:08:17.364Z"
   },
   {
    "duration": 20,
    "start_time": "2025-02-19T20:08:17.382Z"
   },
   {
    "duration": 4865,
    "start_time": "2025-02-19T20:08:17.403Z"
   },
   {
    "duration": 120,
    "start_time": "2025-02-19T20:08:22.269Z"
   },
   {
    "duration": 5,
    "start_time": "2025-02-19T20:08:22.391Z"
   },
   {
    "duration": 20000,
    "start_time": "2025-02-19T20:08:22.409Z"
   },
   {
    "duration": 697,
    "start_time": "2025-02-19T20:08:42.414Z"
   },
   {
    "duration": 3481,
    "start_time": "2025-02-19T20:08:43.113Z"
   },
   {
    "duration": 3,
    "start_time": "2025-02-19T20:08:46.595Z"
   },
   {
    "duration": 172482,
    "start_time": "2025-02-19T20:08:46.600Z"
   },
   {
    "duration": 3,
    "start_time": "2025-02-19T20:11:39.084Z"
   },
   {
    "duration": 9979,
    "start_time": "2025-02-19T20:11:39.088Z"
   },
   {
    "duration": 548,
    "start_time": "2025-02-19T20:11:49.069Z"
   },
   {
    "duration": 2,
    "start_time": "2025-02-19T20:11:49.619Z"
   },
   {
    "duration": 12,
    "start_time": "2025-02-19T20:11:49.622Z"
   },
   {
    "duration": 1518,
    "start_time": "2025-02-19T20:11:49.635Z"
   },
   {
    "duration": 220269,
    "start_time": "2025-02-19T20:11:51.154Z"
   },
   {
    "duration": 159,
    "start_time": "2025-02-19T20:15:31.424Z"
   },
   {
    "duration": 53,
    "start_time": "2025-02-19T20:15:31.584Z"
   },
   {
    "duration": 3,
    "start_time": "2025-02-19T20:15:31.638Z"
   },
   {
    "duration": 62079,
    "start_time": "2025-02-19T20:15:31.643Z"
   },
   {
    "duration": 1251,
    "start_time": "2025-02-19T20:16:33.724Z"
   },
   {
    "duration": 417,
    "start_time": "2025-02-19T20:16:34.976Z"
   },
   {
    "duration": 5,
    "start_time": "2025-02-19T20:16:35.394Z"
   },
   {
    "duration": 24,
    "start_time": "2025-02-19T20:16:35.410Z"
   },
   {
    "duration": 5,
    "start_time": "2025-02-19T20:16:35.436Z"
   },
   {
    "duration": 3170,
    "start_time": "2025-02-19T20:30:04.139Z"
   },
   {
    "duration": 3,
    "start_time": "2025-02-19T20:30:07.312Z"
   },
   {
    "duration": 28,
    "start_time": "2025-02-19T20:30:07.316Z"
   },
   {
    "duration": 27,
    "start_time": "2025-02-19T20:30:07.345Z"
   },
   {
    "duration": 5,
    "start_time": "2025-02-19T20:30:07.374Z"
   },
   {
    "duration": 4594,
    "start_time": "2025-02-19T20:30:07.381Z"
   },
   {
    "duration": 2413,
    "start_time": "2025-02-19T20:30:11.977Z"
   },
   {
    "duration": 1386,
    "start_time": "2025-02-19T20:30:14.392Z"
   },
   {
    "duration": 3,
    "start_time": "2025-02-19T20:30:15.780Z"
   },
   {
    "duration": 1084,
    "start_time": "2025-02-19T20:30:15.784Z"
   },
   {
    "duration": 133,
    "start_time": "2025-02-19T20:30:16.870Z"
   },
   {
    "duration": 3,
    "start_time": "2025-02-19T20:30:17.009Z"
   },
   {
    "duration": 172,
    "start_time": "2025-02-19T20:30:17.013Z"
   },
   {
    "duration": 37,
    "start_time": "2025-02-19T20:30:17.188Z"
   },
   {
    "duration": 126,
    "start_time": "2025-02-19T20:30:17.227Z"
   },
   {
    "duration": 174,
    "start_time": "2025-02-19T20:30:17.354Z"
   },
   {
    "duration": 311,
    "start_time": "2025-02-19T20:30:17.530Z"
   },
   {
    "duration": 74,
    "start_time": "2025-02-19T20:30:17.843Z"
   },
   {
    "duration": 4,
    "start_time": "2025-02-19T20:30:17.919Z"
   },
   {
    "duration": 16,
    "start_time": "2025-02-19T20:30:17.924Z"
   },
   {
    "duration": 12,
    "start_time": "2025-02-19T20:30:17.941Z"
   },
   {
    "duration": 68,
    "start_time": "2025-02-19T20:30:17.954Z"
   },
   {
    "duration": 27,
    "start_time": "2025-02-19T20:30:18.023Z"
   },
   {
    "duration": 7,
    "start_time": "2025-02-19T20:30:18.051Z"
   },
   {
    "duration": 25,
    "start_time": "2025-02-19T20:30:18.059Z"
   },
   {
    "duration": 43,
    "start_time": "2025-02-19T20:30:18.086Z"
   },
   {
    "duration": 32,
    "start_time": "2025-02-19T20:30:18.130Z"
   },
   {
    "duration": 2,
    "start_time": "2025-02-19T20:30:18.163Z"
   },
   {
    "duration": 307,
    "start_time": "2025-02-19T20:30:18.167Z"
   },
   {
    "duration": 360,
    "start_time": "2025-02-19T20:30:18.475Z"
   },
   {
    "duration": 234,
    "start_time": "2025-02-19T20:30:18.836Z"
   },
   {
    "duration": 434,
    "start_time": "2025-02-19T20:30:19.071Z"
   },
   {
    "duration": 405,
    "start_time": "2025-02-19T20:30:19.509Z"
   },
   {
    "duration": 575,
    "start_time": "2025-02-19T20:30:19.915Z"
   },
   {
    "duration": 18,
    "start_time": "2025-02-19T20:30:20.492Z"
   },
   {
    "duration": 29,
    "start_time": "2025-02-19T20:30:20.511Z"
   },
   {
    "duration": 4831,
    "start_time": "2025-02-19T20:30:20.542Z"
   },
   {
    "duration": 108,
    "start_time": "2025-02-19T20:30:25.375Z"
   },
   {
    "duration": 4,
    "start_time": "2025-02-19T20:30:25.485Z"
   },
   {
    "duration": 18723,
    "start_time": "2025-02-19T20:30:25.491Z"
   },
   {
    "duration": 595,
    "start_time": "2025-02-19T20:30:44.218Z"
   },
   {
    "duration": 3644,
    "start_time": "2025-02-19T20:30:44.818Z"
   },
   {
    "duration": 3,
    "start_time": "2025-02-19T20:30:48.464Z"
   },
   {
    "duration": 87483,
    "start_time": "2025-02-19T20:30:48.469Z"
   },
   {
    "duration": 2,
    "start_time": "2025-02-19T20:32:15.954Z"
   },
   {
    "duration": 9933,
    "start_time": "2025-02-19T20:32:15.958Z"
   },
   {
    "duration": 537,
    "start_time": "2025-02-19T20:32:25.892Z"
   },
   {
    "duration": 3,
    "start_time": "2025-02-19T20:32:26.430Z"
   },
   {
    "duration": 1488,
    "start_time": "2025-02-19T20:32:26.434Z"
   },
   {
    "duration": 219888,
    "start_time": "2025-02-19T20:32:27.923Z"
   },
   {
    "duration": 159,
    "start_time": "2025-02-19T20:36:07.813Z"
   },
   {
    "duration": 54,
    "start_time": "2025-02-19T20:36:07.974Z"
   },
   {
    "duration": 3,
    "start_time": "2025-02-19T20:36:08.030Z"
   },
   {
    "duration": 60045,
    "start_time": "2025-02-19T20:36:08.034Z"
   },
   {
    "duration": 1295,
    "start_time": "2025-02-19T20:37:08.081Z"
   },
   {
    "duration": 0,
    "start_time": "2025-02-19T20:37:09.377Z"
   },
   {
    "duration": 0,
    "start_time": "2025-02-19T20:37:09.379Z"
   },
   {
    "duration": 0,
    "start_time": "2025-02-19T20:37:09.380Z"
   },
   {
    "duration": 0,
    "start_time": "2025-02-19T20:37:09.381Z"
   },
   {
    "duration": 1255,
    "start_time": "2025-02-19T20:40:37.846Z"
   },
   {
    "duration": 439,
    "start_time": "2025-02-19T20:40:40.834Z"
   },
   {
    "duration": 7,
    "start_time": "2025-02-19T20:40:42.323Z"
   },
   {
    "duration": 26,
    "start_time": "2025-02-19T20:40:43.015Z"
   },
   {
    "duration": 4,
    "start_time": "2025-02-19T20:40:44.680Z"
   },
   {
    "duration": 11,
    "start_time": "2025-02-19T20:40:46.733Z"
   },
   {
    "duration": 15,
    "start_time": "2025-02-19T20:41:22.150Z"
   },
   {
    "duration": 2930,
    "start_time": "2025-02-19T20:44:29.632Z"
   },
   {
    "duration": 3,
    "start_time": "2025-02-19T20:44:32.565Z"
   },
   {
    "duration": 3,
    "start_time": "2025-02-19T20:44:32.570Z"
   },
   {
    "duration": 6,
    "start_time": "2025-02-19T20:44:32.574Z"
   },
   {
    "duration": 4,
    "start_time": "2025-02-19T20:44:32.582Z"
   },
   {
    "duration": 2639,
    "start_time": "2025-02-19T20:44:32.588Z"
   },
   {
    "duration": 2404,
    "start_time": "2025-02-19T20:44:35.229Z"
   },
   {
    "duration": 1407,
    "start_time": "2025-02-19T20:44:37.635Z"
   },
   {
    "duration": 3,
    "start_time": "2025-02-19T20:44:39.043Z"
   },
   {
    "duration": 1091,
    "start_time": "2025-02-19T20:44:39.047Z"
   },
   {
    "duration": 131,
    "start_time": "2025-02-19T20:44:40.139Z"
   },
   {
    "duration": 3,
    "start_time": "2025-02-19T20:44:40.272Z"
   },
   {
    "duration": 182,
    "start_time": "2025-02-19T20:44:40.276Z"
   },
   {
    "duration": 31,
    "start_time": "2025-02-19T20:44:40.461Z"
   },
   {
    "duration": 128,
    "start_time": "2025-02-19T20:44:40.494Z"
   },
   {
    "duration": 187,
    "start_time": "2025-02-19T20:44:40.623Z"
   },
   {
    "duration": 318,
    "start_time": "2025-02-19T20:44:40.811Z"
   },
   {
    "duration": 78,
    "start_time": "2025-02-19T20:44:41.131Z"
   },
   {
    "duration": 4,
    "start_time": "2025-02-19T20:44:41.211Z"
   },
   {
    "duration": 5,
    "start_time": "2025-02-19T20:44:41.217Z"
   },
   {
    "duration": 4,
    "start_time": "2025-02-19T20:44:41.223Z"
   },
   {
    "duration": 80,
    "start_time": "2025-02-19T20:44:41.229Z"
   },
   {
    "duration": 27,
    "start_time": "2025-02-19T20:44:41.311Z"
   },
   {
    "duration": 8,
    "start_time": "2025-02-19T20:44:41.340Z"
   },
   {
    "duration": 26,
    "start_time": "2025-02-19T20:44:41.350Z"
   },
   {
    "duration": 47,
    "start_time": "2025-02-19T20:44:41.378Z"
   },
   {
    "duration": 33,
    "start_time": "2025-02-19T20:44:41.427Z"
   },
   {
    "duration": 2,
    "start_time": "2025-02-19T20:44:41.462Z"
   },
   {
    "duration": 320,
    "start_time": "2025-02-19T20:44:41.466Z"
   },
   {
    "duration": 341,
    "start_time": "2025-02-19T20:44:41.787Z"
   },
   {
    "duration": 226,
    "start_time": "2025-02-19T20:44:42.130Z"
   },
   {
    "duration": 437,
    "start_time": "2025-02-19T20:44:42.357Z"
   },
   {
    "duration": 448,
    "start_time": "2025-02-19T20:44:42.796Z"
   },
   {
    "duration": 597,
    "start_time": "2025-02-19T20:44:43.245Z"
   },
   {
    "duration": 18,
    "start_time": "2025-02-19T20:44:43.843Z"
   },
   {
    "duration": 4,
    "start_time": "2025-02-19T20:44:43.862Z"
   },
   {
    "duration": 4879,
    "start_time": "2025-02-19T20:44:43.867Z"
   },
   {
    "duration": 135,
    "start_time": "2025-02-19T20:44:48.748Z"
   },
   {
    "duration": 4,
    "start_time": "2025-02-19T20:44:48.885Z"
   },
   {
    "duration": 26228,
    "start_time": "2025-02-19T20:44:48.891Z"
   },
   {
    "duration": 787,
    "start_time": "2025-02-19T20:45:15.123Z"
   },
   {
    "duration": 3531,
    "start_time": "2025-02-19T20:45:15.912Z"
   },
   {
    "duration": 2,
    "start_time": "2025-02-19T20:45:19.445Z"
   },
   {
    "duration": 88919,
    "start_time": "2025-02-19T20:45:19.449Z"
   },
   {
    "duration": 3,
    "start_time": "2025-02-19T20:46:48.369Z"
   },
   {
    "duration": 10314,
    "start_time": "2025-02-19T20:46:48.373Z"
   },
   {
    "duration": 586,
    "start_time": "2025-02-19T20:46:58.689Z"
   },
   {
    "duration": 5,
    "start_time": "2025-02-19T20:46:59.276Z"
   },
   {
    "duration": 1529,
    "start_time": "2025-02-19T20:46:59.282Z"
   },
   {
    "duration": 155,
    "start_time": "2025-02-19T20:47:00.813Z"
   },
   {
    "duration": 0,
    "start_time": "2025-02-19T20:47:00.970Z"
   },
   {
    "duration": 0,
    "start_time": "2025-02-19T20:47:00.971Z"
   },
   {
    "duration": 0,
    "start_time": "2025-02-19T20:47:00.973Z"
   },
   {
    "duration": 0,
    "start_time": "2025-02-19T20:47:00.974Z"
   },
   {
    "duration": 0,
    "start_time": "2025-02-19T20:47:00.975Z"
   },
   {
    "duration": 0,
    "start_time": "2025-02-19T20:47:00.977Z"
   },
   {
    "duration": 0,
    "start_time": "2025-02-19T20:47:00.978Z"
   },
   {
    "duration": 0,
    "start_time": "2025-02-19T20:47:00.979Z"
   },
   {
    "duration": 0,
    "start_time": "2025-02-19T20:47:00.980Z"
   },
   {
    "duration": 0,
    "start_time": "2025-02-19T20:47:00.981Z"
   },
   {
    "duration": 219514,
    "start_time": "2025-02-19T20:48:47.738Z"
   },
   {
    "duration": 158,
    "start_time": "2025-02-19T20:52:27.254Z"
   },
   {
    "duration": 46,
    "start_time": "2025-02-19T20:52:27.413Z"
   },
   {
    "duration": 3,
    "start_time": "2025-02-19T20:52:27.461Z"
   },
   {
    "duration": 60190,
    "start_time": "2025-02-19T20:52:27.465Z"
   },
   {
    "duration": 1194,
    "start_time": "2025-02-19T20:53:27.656Z"
   },
   {
    "duration": 418,
    "start_time": "2025-02-19T20:53:28.852Z"
   },
   {
    "duration": 4,
    "start_time": "2025-02-19T20:53:29.272Z"
   },
   {
    "duration": 38,
    "start_time": "2025-02-19T20:53:29.277Z"
   },
   {
    "duration": 3,
    "start_time": "2025-02-19T20:53:29.317Z"
   },
   {
    "duration": 12,
    "start_time": "2025-02-19T20:53:29.322Z"
   },
   {
    "duration": 131,
    "start_time": "2025-02-19T20:53:29.336Z"
   },
   {
    "duration": 129,
    "start_time": "2025-02-19T20:55:26.620Z"
   },
   {
    "duration": 283,
    "start_time": "2025-02-19T20:57:28.149Z"
   },
   {
    "duration": 513,
    "start_time": "2025-02-19T20:59:32.828Z"
   },
   {
    "duration": 6,
    "start_time": "2025-02-19T21:01:00.964Z"
   },
   {
    "duration": 444,
    "start_time": "2025-02-19T21:01:04.137Z"
   },
   {
    "duration": 3,
    "start_time": "2025-02-19T21:12:25.121Z"
   },
   {
    "duration": 390,
    "start_time": "2025-02-19T21:12:29.491Z"
   },
   {
    "duration": 368,
    "start_time": "2025-02-19T21:13:38.183Z"
   },
   {
    "duration": 369,
    "start_time": "2025-02-19T21:13:46.987Z"
   },
   {
    "duration": 14,
    "start_time": "2025-02-19T21:19:16.072Z"
   },
   {
    "duration": 382,
    "start_time": "2025-02-19T21:19:30.482Z"
   },
   {
    "duration": 496,
    "start_time": "2025-02-19T21:19:38.400Z"
   },
   {
    "duration": 360,
    "start_time": "2025-02-19T21:19:44.117Z"
   },
   {
    "duration": 375,
    "start_time": "2025-02-19T21:19:49.411Z"
   },
   {
    "duration": 356,
    "start_time": "2025-02-19T21:19:57.204Z"
   },
   {
    "duration": 367,
    "start_time": "2025-02-19T21:20:06.485Z"
   },
   {
    "duration": 3,
    "start_time": "2025-02-19T21:25:55.173Z"
   },
   {
    "duration": 605,
    "start_time": "2025-02-19T21:26:00.510Z"
   },
   {
    "duration": 3,
    "start_time": "2025-02-19T21:26:36.090Z"
   },
   {
    "duration": 160,
    "start_time": "2025-02-19T21:26:40.530Z"
   },
   {
    "duration": 3,
    "start_time": "2025-02-19T21:27:02.349Z"
   },
   {
    "duration": 504,
    "start_time": "2025-02-19T21:27:07.216Z"
   },
   {
    "duration": 4,
    "start_time": "2025-02-19T21:27:34.301Z"
   },
   {
    "duration": 150,
    "start_time": "2025-02-19T21:27:38.516Z"
   },
   {
    "duration": 3,
    "start_time": "2025-02-19T21:27:50.772Z"
   },
   {
    "duration": 580,
    "start_time": "2025-02-19T21:27:55.855Z"
   },
   {
    "duration": 4,
    "start_time": "2025-02-19T21:28:08.384Z"
   },
   {
    "duration": 569,
    "start_time": "2025-02-19T21:28:12.157Z"
   },
   {
    "duration": 3,
    "start_time": "2025-02-19T21:31:25.766Z"
   },
   {
    "duration": 153,
    "start_time": "2025-02-19T21:31:52.638Z"
   },
   {
    "duration": 590,
    "start_time": "2025-02-19T21:32:09.867Z"
   },
   {
    "duration": 80,
    "start_time": "2025-02-19T21:32:50.114Z"
   },
   {
    "duration": 3,
    "start_time": "2025-02-19T21:33:00.964Z"
   },
   {
    "duration": 492,
    "start_time": "2025-02-19T21:33:13.129Z"
   },
   {
    "duration": 486,
    "start_time": "2025-02-19T21:33:23.370Z"
   },
   {
    "duration": 3,
    "start_time": "2025-02-19T21:33:47.490Z"
   },
   {
    "duration": 499,
    "start_time": "2025-02-19T21:33:51.790Z"
   },
   {
    "duration": 9284,
    "start_time": "2025-02-20T16:17:47.174Z"
   },
   {
    "duration": 4,
    "start_time": "2025-02-20T16:17:56.460Z"
   },
   {
    "duration": 94,
    "start_time": "2025-02-20T16:17:56.466Z"
   },
   {
    "duration": 9,
    "start_time": "2025-02-20T16:17:56.562Z"
   },
   {
    "duration": 24,
    "start_time": "2025-02-20T16:17:56.573Z"
   },
   {
    "duration": 4838,
    "start_time": "2025-02-20T16:17:56.598Z"
   },
   {
    "duration": 3848,
    "start_time": "2025-02-20T16:18:01.438Z"
   },
   {
    "duration": 1709,
    "start_time": "2025-02-20T16:18:05.288Z"
   },
   {
    "duration": 3,
    "start_time": "2025-02-20T16:18:06.999Z"
   },
   {
    "duration": 1236,
    "start_time": "2025-02-20T16:18:07.003Z"
   },
   {
    "duration": 151,
    "start_time": "2025-02-20T16:18:08.241Z"
   },
   {
    "duration": 3,
    "start_time": "2025-02-20T16:18:08.394Z"
   },
   {
    "duration": 359,
    "start_time": "2025-02-20T16:18:08.398Z"
   },
   {
    "duration": 32,
    "start_time": "2025-02-20T16:18:08.761Z"
   },
   {
    "duration": 125,
    "start_time": "2025-02-20T16:18:08.795Z"
   },
   {
    "duration": 213,
    "start_time": "2025-02-20T16:18:08.922Z"
   },
   {
    "duration": 319,
    "start_time": "2025-02-20T16:18:09.137Z"
   },
   {
    "duration": 65,
    "start_time": "2025-02-20T16:18:09.458Z"
   },
   {
    "duration": 4,
    "start_time": "2025-02-20T16:18:09.525Z"
   },
   {
    "duration": 19,
    "start_time": "2025-02-20T16:18:09.531Z"
   },
   {
    "duration": 8,
    "start_time": "2025-02-20T16:18:09.552Z"
   },
   {
    "duration": 66,
    "start_time": "2025-02-20T16:18:09.562Z"
   },
   {
    "duration": 50,
    "start_time": "2025-02-20T16:18:09.629Z"
   },
   {
    "duration": 7,
    "start_time": "2025-02-20T16:18:09.680Z"
   },
   {
    "duration": 27,
    "start_time": "2025-02-20T16:18:09.689Z"
   },
   {
    "duration": 52,
    "start_time": "2025-02-20T16:18:09.718Z"
   },
   {
    "duration": 33,
    "start_time": "2025-02-20T16:18:09.772Z"
   },
   {
    "duration": 2,
    "start_time": "2025-02-20T16:18:09.806Z"
   },
   {
    "duration": 382,
    "start_time": "2025-02-20T16:18:09.810Z"
   },
   {
    "duration": 402,
    "start_time": "2025-02-20T16:18:10.194Z"
   },
   {
    "duration": 212,
    "start_time": "2025-02-20T16:18:10.598Z"
   },
   {
    "duration": 923,
    "start_time": "2025-02-20T16:18:10.811Z"
   },
   {
    "duration": 483,
    "start_time": "2025-02-20T16:18:11.736Z"
   },
   {
    "duration": 724,
    "start_time": "2025-02-20T16:18:12.221Z"
   },
   {
    "duration": 23,
    "start_time": "2025-02-20T16:18:12.946Z"
   },
   {
    "duration": 66,
    "start_time": "2025-02-20T16:18:12.971Z"
   },
   {
    "duration": 5626,
    "start_time": "2025-02-20T16:18:13.039Z"
   },
   {
    "duration": 142,
    "start_time": "2025-02-20T16:18:18.668Z"
   },
   {
    "duration": 0,
    "start_time": "2025-02-20T16:18:18.812Z"
   },
   {
    "duration": 0,
    "start_time": "2025-02-20T16:18:18.814Z"
   },
   {
    "duration": 0,
    "start_time": "2025-02-20T16:18:18.816Z"
   },
   {
    "duration": 0,
    "start_time": "2025-02-20T16:18:18.817Z"
   },
   {
    "duration": 0,
    "start_time": "2025-02-20T16:18:18.819Z"
   },
   {
    "duration": 0,
    "start_time": "2025-02-20T16:18:18.820Z"
   },
   {
    "duration": 0,
    "start_time": "2025-02-20T16:18:18.821Z"
   },
   {
    "duration": 0,
    "start_time": "2025-02-20T16:18:18.823Z"
   },
   {
    "duration": 0,
    "start_time": "2025-02-20T16:18:18.848Z"
   },
   {
    "duration": 0,
    "start_time": "2025-02-20T16:18:18.850Z"
   },
   {
    "duration": 0,
    "start_time": "2025-02-20T16:18:18.851Z"
   },
   {
    "duration": 0,
    "start_time": "2025-02-20T16:18:18.853Z"
   },
   {
    "duration": 0,
    "start_time": "2025-02-20T16:18:18.854Z"
   },
   {
    "duration": 0,
    "start_time": "2025-02-20T16:18:18.857Z"
   },
   {
    "duration": 0,
    "start_time": "2025-02-20T16:18:18.859Z"
   },
   {
    "duration": 0,
    "start_time": "2025-02-20T16:18:18.861Z"
   },
   {
    "duration": 0,
    "start_time": "2025-02-20T16:18:18.862Z"
   },
   {
    "duration": 0,
    "start_time": "2025-02-20T16:18:18.864Z"
   },
   {
    "duration": 0,
    "start_time": "2025-02-20T16:18:18.866Z"
   },
   {
    "duration": 0,
    "start_time": "2025-02-20T16:18:18.867Z"
   },
   {
    "duration": 0,
    "start_time": "2025-02-20T16:18:18.869Z"
   },
   {
    "duration": 0,
    "start_time": "2025-02-20T16:18:18.869Z"
   },
   {
    "duration": 0,
    "start_time": "2025-02-20T16:18:18.871Z"
   },
   {
    "duration": 0,
    "start_time": "2025-02-20T16:18:18.873Z"
   },
   {
    "duration": 0,
    "start_time": "2025-02-20T16:18:18.874Z"
   },
   {
    "duration": 5,
    "start_time": "2025-02-20T16:36:10.897Z"
   },
   {
    "duration": 198,
    "start_time": "2025-02-20T16:36:52.137Z"
   },
   {
    "duration": 10,
    "start_time": "2025-02-20T16:38:39.699Z"
   },
   {
    "duration": 6,
    "start_time": "2025-02-20T16:39:44.792Z"
   },
   {
    "duration": 3196,
    "start_time": "2025-02-20T16:44:31.241Z"
   },
   {
    "duration": 4,
    "start_time": "2025-02-20T16:44:34.439Z"
   },
   {
    "duration": 31,
    "start_time": "2025-02-20T16:44:34.445Z"
   },
   {
    "duration": 21,
    "start_time": "2025-02-20T16:44:34.478Z"
   },
   {
    "duration": 157,
    "start_time": "2025-02-20T16:44:34.501Z"
   },
   {
    "duration": 2858,
    "start_time": "2025-02-20T16:44:34.660Z"
   },
   {
    "duration": 2421,
    "start_time": "2025-02-20T16:44:37.520Z"
   },
   {
    "duration": 1493,
    "start_time": "2025-02-20T16:44:39.943Z"
   },
   {
    "duration": 3,
    "start_time": "2025-02-20T16:44:41.438Z"
   },
   {
    "duration": 1076,
    "start_time": "2025-02-20T16:44:41.444Z"
   },
   {
    "duration": 126,
    "start_time": "2025-02-20T16:44:42.522Z"
   },
   {
    "duration": 36,
    "start_time": "2025-02-20T16:44:42.650Z"
   },
   {
    "duration": 170,
    "start_time": "2025-02-20T16:44:42.688Z"
   },
   {
    "duration": 35,
    "start_time": "2025-02-20T16:44:42.860Z"
   },
   {
    "duration": 132,
    "start_time": "2025-02-20T16:44:42.896Z"
   },
   {
    "duration": 200,
    "start_time": "2025-02-20T16:44:43.029Z"
   },
   {
    "duration": 320,
    "start_time": "2025-02-20T16:44:43.231Z"
   },
   {
    "duration": 79,
    "start_time": "2025-02-20T16:44:43.552Z"
   },
   {
    "duration": 15,
    "start_time": "2025-02-20T16:44:43.633Z"
   },
   {
    "duration": 10,
    "start_time": "2025-02-20T16:44:43.650Z"
   },
   {
    "duration": 24,
    "start_time": "2025-02-20T16:44:43.662Z"
   },
   {
    "duration": 73,
    "start_time": "2025-02-20T16:44:43.687Z"
   },
   {
    "duration": 29,
    "start_time": "2025-02-20T16:44:43.762Z"
   },
   {
    "duration": 26,
    "start_time": "2025-02-20T16:44:43.793Z"
   },
   {
    "duration": 49,
    "start_time": "2025-02-20T16:44:43.820Z"
   },
   {
    "duration": 26,
    "start_time": "2025-02-20T16:44:43.871Z"
   },
   {
    "duration": 50,
    "start_time": "2025-02-20T16:44:43.899Z"
   },
   {
    "duration": 3,
    "start_time": "2025-02-20T16:44:43.955Z"
   },
   {
    "duration": 477,
    "start_time": "2025-02-20T16:44:43.959Z"
   },
   {
    "duration": 392,
    "start_time": "2025-02-20T16:44:44.438Z"
   },
   {
    "duration": 216,
    "start_time": "2025-02-20T16:44:44.832Z"
   },
   {
    "duration": 935,
    "start_time": "2025-02-20T16:44:45.049Z"
   },
   {
    "duration": 456,
    "start_time": "2025-02-20T16:44:45.986Z"
   },
   {
    "duration": 689,
    "start_time": "2025-02-20T16:44:46.447Z"
   },
   {
    "duration": 26,
    "start_time": "2025-02-20T16:44:47.139Z"
   },
   {
    "duration": 12,
    "start_time": "2025-02-20T16:44:47.169Z"
   },
   {
    "duration": 5369,
    "start_time": "2025-02-20T16:44:47.182Z"
   },
   {
    "duration": 187,
    "start_time": "2025-02-20T16:44:52.553Z"
   },
   {
    "duration": 73,
    "start_time": "2025-02-20T16:44:52.742Z"
   },
   {
    "duration": 0,
    "start_time": "2025-02-20T16:44:52.817Z"
   },
   {
    "duration": 0,
    "start_time": "2025-02-20T16:44:52.819Z"
   },
   {
    "duration": 0,
    "start_time": "2025-02-20T16:44:52.821Z"
   },
   {
    "duration": 0,
    "start_time": "2025-02-20T16:44:52.823Z"
   },
   {
    "duration": 0,
    "start_time": "2025-02-20T16:44:52.824Z"
   },
   {
    "duration": 0,
    "start_time": "2025-02-20T16:44:52.826Z"
   },
   {
    "duration": 0,
    "start_time": "2025-02-20T16:44:52.827Z"
   },
   {
    "duration": 0,
    "start_time": "2025-02-20T16:44:52.829Z"
   },
   {
    "duration": 0,
    "start_time": "2025-02-20T16:44:52.831Z"
   },
   {
    "duration": 0,
    "start_time": "2025-02-20T16:44:52.832Z"
   },
   {
    "duration": 0,
    "start_time": "2025-02-20T16:44:52.833Z"
   },
   {
    "duration": 0,
    "start_time": "2025-02-20T16:44:52.835Z"
   },
   {
    "duration": 0,
    "start_time": "2025-02-20T16:44:52.836Z"
   },
   {
    "duration": 0,
    "start_time": "2025-02-20T16:44:52.837Z"
   },
   {
    "duration": 0,
    "start_time": "2025-02-20T16:44:52.838Z"
   },
   {
    "duration": 0,
    "start_time": "2025-02-20T16:44:52.840Z"
   },
   {
    "duration": 0,
    "start_time": "2025-02-20T16:44:52.841Z"
   },
   {
    "duration": 0,
    "start_time": "2025-02-20T16:44:52.842Z"
   },
   {
    "duration": 0,
    "start_time": "2025-02-20T16:44:52.843Z"
   },
   {
    "duration": 0,
    "start_time": "2025-02-20T16:44:52.844Z"
   },
   {
    "duration": 0,
    "start_time": "2025-02-20T16:44:52.845Z"
   },
   {
    "duration": 0,
    "start_time": "2025-02-20T16:44:52.846Z"
   },
   {
    "duration": 0,
    "start_time": "2025-02-20T16:44:52.850Z"
   },
   {
    "duration": 0,
    "start_time": "2025-02-20T16:44:52.851Z"
   },
   {
    "duration": 0,
    "start_time": "2025-02-20T16:44:52.852Z"
   },
   {
    "duration": 0,
    "start_time": "2025-02-20T16:44:52.854Z"
   },
   {
    "duration": 80,
    "start_time": "2025-02-20T16:47:04.528Z"
   },
   {
    "duration": 129,
    "start_time": "2025-02-20T16:48:24.134Z"
   },
   {
    "duration": 10,
    "start_time": "2025-02-20T16:49:02.931Z"
   },
   {
    "duration": 166,
    "start_time": "2025-02-20T16:50:21.823Z"
   },
   {
    "duration": 166,
    "start_time": "2025-02-20T16:50:44.053Z"
   },
   {
    "duration": 158,
    "start_time": "2025-02-20T16:52:28.830Z"
   },
   {
    "duration": 7,
    "start_time": "2025-02-20T16:53:14.505Z"
   },
   {
    "duration": 8,
    "start_time": "2025-02-20T16:53:45.814Z"
   },
   {
    "duration": 130,
    "start_time": "2025-02-20T16:54:50.462Z"
   },
   {
    "duration": 46,
    "start_time": "2025-02-20T17:03:04.363Z"
   },
   {
    "duration": 6,
    "start_time": "2025-02-20T17:03:09.923Z"
   },
   {
    "duration": 3489,
    "start_time": "2025-02-20T17:05:53.320Z"
   },
   {
    "duration": 3,
    "start_time": "2025-02-20T17:05:56.813Z"
   },
   {
    "duration": 19,
    "start_time": "2025-02-20T17:05:56.818Z"
   },
   {
    "duration": 5,
    "start_time": "2025-02-20T17:05:56.840Z"
   },
   {
    "duration": 16,
    "start_time": "2025-02-20T17:05:56.847Z"
   },
   {
    "duration": 2876,
    "start_time": "2025-02-20T17:05:56.866Z"
   },
   {
    "duration": 2587,
    "start_time": "2025-02-20T17:05:59.745Z"
   },
   {
    "duration": 2765,
    "start_time": "2025-02-20T17:06:02.335Z"
   },
   {
    "duration": 3,
    "start_time": "2025-02-20T17:06:05.102Z"
   },
   {
    "duration": 1242,
    "start_time": "2025-02-20T17:06:05.106Z"
   },
   {
    "duration": 136,
    "start_time": "2025-02-20T17:06:06.350Z"
   },
   {
    "duration": 3,
    "start_time": "2025-02-20T17:06:06.488Z"
   },
   {
    "duration": 168,
    "start_time": "2025-02-20T17:06:06.492Z"
   },
   {
    "duration": 30,
    "start_time": "2025-02-20T17:06:06.664Z"
   },
   {
    "duration": 125,
    "start_time": "2025-02-20T17:06:06.696Z"
   },
   {
    "duration": 200,
    "start_time": "2025-02-20T17:06:06.822Z"
   },
   {
    "duration": 311,
    "start_time": "2025-02-20T17:06:07.024Z"
   },
   {
    "duration": 72,
    "start_time": "2025-02-20T17:06:07.337Z"
   },
   {
    "duration": 66,
    "start_time": "2025-02-20T17:06:07.410Z"
   },
   {
    "duration": 21,
    "start_time": "2025-02-20T17:06:07.478Z"
   },
   {
    "duration": 11,
    "start_time": "2025-02-20T17:06:07.501Z"
   },
   {
    "duration": 84,
    "start_time": "2025-02-20T17:06:07.514Z"
   },
   {
    "duration": 28,
    "start_time": "2025-02-20T17:06:07.600Z"
   },
   {
    "duration": 29,
    "start_time": "2025-02-20T17:06:07.630Z"
   },
   {
    "duration": 26,
    "start_time": "2025-02-20T17:06:07.662Z"
   },
   {
    "duration": 23,
    "start_time": "2025-02-20T17:06:07.690Z"
   },
   {
    "duration": 63,
    "start_time": "2025-02-20T17:06:07.714Z"
   },
   {
    "duration": 3,
    "start_time": "2025-02-20T17:06:07.778Z"
   },
   {
    "duration": 433,
    "start_time": "2025-02-20T17:06:07.782Z"
   },
   {
    "duration": 416,
    "start_time": "2025-02-20T17:06:08.220Z"
   },
   {
    "duration": 213,
    "start_time": "2025-02-20T17:06:08.637Z"
   },
   {
    "duration": 946,
    "start_time": "2025-02-20T17:06:08.852Z"
   },
   {
    "duration": 487,
    "start_time": "2025-02-20T17:06:09.799Z"
   },
   {
    "duration": 749,
    "start_time": "2025-02-20T17:06:10.287Z"
   },
   {
    "duration": 25,
    "start_time": "2025-02-20T17:06:11.038Z"
   },
   {
    "duration": 119,
    "start_time": "2025-02-20T17:06:11.064Z"
   },
   {
    "duration": 5660,
    "start_time": "2025-02-20T17:06:11.184Z"
   },
   {
    "duration": 187,
    "start_time": "2025-02-20T17:06:16.846Z"
   },
   {
    "duration": 6,
    "start_time": "2025-02-20T17:06:17.035Z"
   },
   {
    "duration": 160,
    "start_time": "2025-02-20T17:06:17.048Z"
   },
   {
    "duration": 140,
    "start_time": "2025-02-20T17:06:17.214Z"
   },
   {
    "duration": 0,
    "start_time": "2025-02-20T17:06:17.357Z"
   },
   {
    "duration": 0,
    "start_time": "2025-02-20T17:06:17.359Z"
   },
   {
    "duration": 0,
    "start_time": "2025-02-20T17:06:17.361Z"
   },
   {
    "duration": 0,
    "start_time": "2025-02-20T17:06:17.363Z"
   },
   {
    "duration": 1,
    "start_time": "2025-02-20T17:06:17.364Z"
   },
   {
    "duration": 0,
    "start_time": "2025-02-20T17:06:17.366Z"
   },
   {
    "duration": 0,
    "start_time": "2025-02-20T17:06:17.367Z"
   },
   {
    "duration": 0,
    "start_time": "2025-02-20T17:06:17.369Z"
   },
   {
    "duration": 0,
    "start_time": "2025-02-20T17:06:17.370Z"
   },
   {
    "duration": 0,
    "start_time": "2025-02-20T17:06:17.372Z"
   },
   {
    "duration": 0,
    "start_time": "2025-02-20T17:06:17.373Z"
   },
   {
    "duration": 0,
    "start_time": "2025-02-20T17:06:17.375Z"
   },
   {
    "duration": 0,
    "start_time": "2025-02-20T17:06:17.376Z"
   },
   {
    "duration": 0,
    "start_time": "2025-02-20T17:06:17.377Z"
   },
   {
    "duration": 0,
    "start_time": "2025-02-20T17:06:17.379Z"
   },
   {
    "duration": 0,
    "start_time": "2025-02-20T17:06:17.380Z"
   },
   {
    "duration": 0,
    "start_time": "2025-02-20T17:06:17.381Z"
   },
   {
    "duration": 0,
    "start_time": "2025-02-20T17:06:17.382Z"
   },
   {
    "duration": 0,
    "start_time": "2025-02-20T17:06:17.383Z"
   },
   {
    "duration": 0,
    "start_time": "2025-02-20T17:06:17.385Z"
   },
   {
    "duration": 0,
    "start_time": "2025-02-20T17:06:17.386Z"
   },
   {
    "duration": 0,
    "start_time": "2025-02-20T17:06:17.387Z"
   },
   {
    "duration": 0,
    "start_time": "2025-02-20T17:06:17.388Z"
   },
   {
    "duration": 0,
    "start_time": "2025-02-20T17:06:17.390Z"
   },
   {
    "duration": 0,
    "start_time": "2025-02-20T17:06:17.391Z"
   },
   {
    "duration": 45,
    "start_time": "2025-02-20T17:07:11.420Z"
   },
   {
    "duration": 5,
    "start_time": "2025-02-20T17:07:44.658Z"
   },
   {
    "duration": 509,
    "start_time": "2025-02-20T17:08:18.142Z"
   },
   {
    "duration": 5,
    "start_time": "2025-02-20T17:10:03.502Z"
   },
   {
    "duration": 529,
    "start_time": "2025-02-20T17:10:05.469Z"
   },
   {
    "duration": 5,
    "start_time": "2025-02-20T17:10:24.200Z"
   },
   {
    "duration": 466,
    "start_time": "2025-02-20T17:10:24.717Z"
   },
   {
    "duration": 12,
    "start_time": "2025-02-20T17:12:03.300Z"
   },
   {
    "duration": 5,
    "start_time": "2025-02-20T17:12:15.476Z"
   },
   {
    "duration": 5,
    "start_time": "2025-02-20T17:13:03.531Z"
   },
   {
    "duration": 429,
    "start_time": "2025-02-20T17:13:04.833Z"
   },
   {
    "duration": 15,
    "start_time": "2025-02-20T17:13:41.936Z"
   },
   {
    "duration": 17,
    "start_time": "2025-02-20T17:13:49.057Z"
   },
   {
    "duration": 11,
    "start_time": "2025-02-20T17:14:02.232Z"
   },
   {
    "duration": 3209,
    "start_time": "2025-02-20T17:16:49.073Z"
   },
   {
    "duration": 3,
    "start_time": "2025-02-20T17:16:52.285Z"
   },
   {
    "duration": 7,
    "start_time": "2025-02-20T17:16:52.290Z"
   },
   {
    "duration": 77,
    "start_time": "2025-02-20T17:16:52.298Z"
   },
   {
    "duration": 32,
    "start_time": "2025-02-20T17:16:52.377Z"
   },
   {
    "duration": 3428,
    "start_time": "2025-02-20T17:16:52.411Z"
   },
   {
    "duration": 2511,
    "start_time": "2025-02-20T17:16:55.842Z"
   },
   {
    "duration": 1501,
    "start_time": "2025-02-20T17:16:58.355Z"
   },
   {
    "duration": 3,
    "start_time": "2025-02-20T17:16:59.858Z"
   },
   {
    "duration": 1159,
    "start_time": "2025-02-20T17:16:59.862Z"
   },
   {
    "duration": 130,
    "start_time": "2025-02-20T17:17:01.023Z"
   },
   {
    "duration": 4,
    "start_time": "2025-02-20T17:17:01.155Z"
   },
   {
    "duration": 268,
    "start_time": "2025-02-20T17:17:01.161Z"
   },
   {
    "duration": 38,
    "start_time": "2025-02-20T17:17:01.432Z"
   },
   {
    "duration": 169,
    "start_time": "2025-02-20T17:17:01.472Z"
   },
   {
    "duration": 199,
    "start_time": "2025-02-20T17:17:01.643Z"
   },
   {
    "duration": 386,
    "start_time": "2025-02-20T17:17:01.844Z"
   },
   {
    "duration": 79,
    "start_time": "2025-02-20T17:17:02.232Z"
   },
   {
    "duration": 113,
    "start_time": "2025-02-20T17:17:02.313Z"
   },
   {
    "duration": 34,
    "start_time": "2025-02-20T17:17:02.428Z"
   },
   {
    "duration": 49,
    "start_time": "2025-02-20T17:17:02.464Z"
   },
   {
    "duration": 89,
    "start_time": "2025-02-20T17:17:02.515Z"
   },
   {
    "duration": 27,
    "start_time": "2025-02-20T17:17:02.606Z"
   },
   {
    "duration": 16,
    "start_time": "2025-02-20T17:17:02.635Z"
   },
   {
    "duration": 113,
    "start_time": "2025-02-20T17:17:02.652Z"
   },
   {
    "duration": 71,
    "start_time": "2025-02-20T17:17:02.767Z"
   },
   {
    "duration": 216,
    "start_time": "2025-02-20T17:17:02.840Z"
   },
   {
    "duration": 26,
    "start_time": "2025-02-20T17:17:03.058Z"
   },
   {
    "duration": 360,
    "start_time": "2025-02-20T17:17:03.085Z"
   },
   {
    "duration": 397,
    "start_time": "2025-02-20T17:17:03.447Z"
   },
   {
    "duration": 211,
    "start_time": "2025-02-20T17:17:03.845Z"
   },
   {
    "duration": 903,
    "start_time": "2025-02-20T17:17:04.058Z"
   },
   {
    "duration": 444,
    "start_time": "2025-02-20T17:17:04.963Z"
   },
   {
    "duration": 675,
    "start_time": "2025-02-20T17:17:05.409Z"
   },
   {
    "duration": 21,
    "start_time": "2025-02-20T17:17:06.086Z"
   },
   {
    "duration": 59,
    "start_time": "2025-02-20T17:17:06.109Z"
   },
   {
    "duration": 5242,
    "start_time": "2025-02-20T17:17:06.170Z"
   },
   {
    "duration": 186,
    "start_time": "2025-02-20T17:17:11.413Z"
   },
   {
    "duration": 6,
    "start_time": "2025-02-20T17:17:11.601Z"
   },
   {
    "duration": 150,
    "start_time": "2025-02-20T17:17:11.609Z"
   },
   {
    "duration": 135,
    "start_time": "2025-02-20T17:17:11.763Z"
   },
   {
    "duration": 0,
    "start_time": "2025-02-20T17:17:11.900Z"
   },
   {
    "duration": 0,
    "start_time": "2025-02-20T17:17:11.902Z"
   },
   {
    "duration": 0,
    "start_time": "2025-02-20T17:17:11.903Z"
   },
   {
    "duration": 0,
    "start_time": "2025-02-20T17:17:11.904Z"
   },
   {
    "duration": 0,
    "start_time": "2025-02-20T17:17:11.905Z"
   },
   {
    "duration": 0,
    "start_time": "2025-02-20T17:17:11.906Z"
   },
   {
    "duration": 0,
    "start_time": "2025-02-20T17:17:11.907Z"
   },
   {
    "duration": 0,
    "start_time": "2025-02-20T17:17:11.908Z"
   },
   {
    "duration": 0,
    "start_time": "2025-02-20T17:17:11.909Z"
   },
   {
    "duration": 0,
    "start_time": "2025-02-20T17:17:11.910Z"
   },
   {
    "duration": 0,
    "start_time": "2025-02-20T17:17:11.911Z"
   },
   {
    "duration": 0,
    "start_time": "2025-02-20T17:17:11.912Z"
   },
   {
    "duration": 0,
    "start_time": "2025-02-20T17:17:11.913Z"
   },
   {
    "duration": 0,
    "start_time": "2025-02-20T17:17:11.914Z"
   },
   {
    "duration": 0,
    "start_time": "2025-02-20T17:17:11.916Z"
   },
   {
    "duration": 0,
    "start_time": "2025-02-20T17:17:11.917Z"
   },
   {
    "duration": 0,
    "start_time": "2025-02-20T17:17:11.918Z"
   },
   {
    "duration": 0,
    "start_time": "2025-02-20T17:17:11.947Z"
   },
   {
    "duration": 0,
    "start_time": "2025-02-20T17:17:11.949Z"
   },
   {
    "duration": 0,
    "start_time": "2025-02-20T17:17:11.950Z"
   },
   {
    "duration": 0,
    "start_time": "2025-02-20T17:17:11.951Z"
   },
   {
    "duration": 0,
    "start_time": "2025-02-20T17:17:11.953Z"
   },
   {
    "duration": 0,
    "start_time": "2025-02-20T17:17:11.954Z"
   },
   {
    "duration": 0,
    "start_time": "2025-02-20T17:17:11.955Z"
   },
   {
    "duration": 0,
    "start_time": "2025-02-20T17:17:11.956Z"
   },
   {
    "duration": 0,
    "start_time": "2025-02-20T17:17:11.957Z"
   },
   {
    "duration": 0,
    "start_time": "2025-02-20T17:17:11.959Z"
   },
   {
    "duration": 4296,
    "start_time": "2025-02-20T17:18:38.311Z"
   },
   {
    "duration": 4,
    "start_time": "2025-02-20T17:18:42.609Z"
   },
   {
    "duration": 4,
    "start_time": "2025-02-20T17:18:42.614Z"
   },
   {
    "duration": 3,
    "start_time": "2025-02-20T17:18:42.620Z"
   },
   {
    "duration": 3,
    "start_time": "2025-02-20T17:18:42.625Z"
   },
   {
    "duration": 3047,
    "start_time": "2025-02-20T17:18:42.629Z"
   },
   {
    "duration": 2524,
    "start_time": "2025-02-20T17:18:45.678Z"
   },
   {
    "duration": 1560,
    "start_time": "2025-02-20T17:18:48.204Z"
   },
   {
    "duration": 3,
    "start_time": "2025-02-20T17:18:49.767Z"
   },
   {
    "duration": 1100,
    "start_time": "2025-02-20T17:18:49.772Z"
   },
   {
    "duration": 132,
    "start_time": "2025-02-20T17:18:50.874Z"
   },
   {
    "duration": 4,
    "start_time": "2025-02-20T17:18:51.008Z"
   },
   {
    "duration": 213,
    "start_time": "2025-02-20T17:18:51.013Z"
   },
   {
    "duration": 39,
    "start_time": "2025-02-20T17:18:51.229Z"
   },
   {
    "duration": 123,
    "start_time": "2025-02-20T17:18:51.270Z"
   },
   {
    "duration": 182,
    "start_time": "2025-02-20T17:18:51.395Z"
   },
   {
    "duration": 322,
    "start_time": "2025-02-20T17:18:51.579Z"
   },
   {
    "duration": 75,
    "start_time": "2025-02-20T17:18:51.903Z"
   },
   {
    "duration": 6,
    "start_time": "2025-02-20T17:18:51.981Z"
   },
   {
    "duration": 13,
    "start_time": "2025-02-20T17:18:51.989Z"
   },
   {
    "duration": 5,
    "start_time": "2025-02-20T17:18:52.004Z"
   },
   {
    "duration": 85,
    "start_time": "2025-02-20T17:18:52.010Z"
   },
   {
    "duration": 27,
    "start_time": "2025-02-20T17:18:52.096Z"
   },
   {
    "duration": 43,
    "start_time": "2025-02-20T17:18:52.125Z"
   },
   {
    "duration": 28,
    "start_time": "2025-02-20T17:18:52.169Z"
   },
   {
    "duration": 25,
    "start_time": "2025-02-20T17:18:52.199Z"
   },
   {
    "duration": 96,
    "start_time": "2025-02-20T17:18:52.226Z"
   },
   {
    "duration": 3,
    "start_time": "2025-02-20T17:18:52.323Z"
   },
   {
    "duration": 435,
    "start_time": "2025-02-20T17:18:52.328Z"
   },
   {
    "duration": 475,
    "start_time": "2025-02-20T17:18:52.764Z"
   },
   {
    "duration": 198,
    "start_time": "2025-02-20T17:18:53.240Z"
   },
   {
    "duration": 933,
    "start_time": "2025-02-20T17:18:53.447Z"
   },
   {
    "duration": 446,
    "start_time": "2025-02-20T17:18:54.383Z"
   },
   {
    "duration": 677,
    "start_time": "2025-02-20T17:18:54.831Z"
   },
   {
    "duration": 19,
    "start_time": "2025-02-20T17:18:55.511Z"
   },
   {
    "duration": 6,
    "start_time": "2025-02-20T17:18:55.532Z"
   },
   {
    "duration": 5458,
    "start_time": "2025-02-20T17:18:55.540Z"
   },
   {
    "duration": 186,
    "start_time": "2025-02-20T17:19:01.000Z"
   },
   {
    "duration": 7,
    "start_time": "2025-02-20T17:19:01.188Z"
   },
   {
    "duration": 209,
    "start_time": "2025-02-20T17:19:01.197Z"
   },
   {
    "duration": 129,
    "start_time": "2025-02-20T17:19:01.411Z"
   },
   {
    "duration": 0,
    "start_time": "2025-02-20T17:19:01.547Z"
   },
   {
    "duration": 0,
    "start_time": "2025-02-20T17:19:01.549Z"
   },
   {
    "duration": 0,
    "start_time": "2025-02-20T17:19:01.550Z"
   },
   {
    "duration": 0,
    "start_time": "2025-02-20T17:19:01.552Z"
   },
   {
    "duration": 0,
    "start_time": "2025-02-20T17:19:01.554Z"
   },
   {
    "duration": 0,
    "start_time": "2025-02-20T17:19:01.555Z"
   },
   {
    "duration": 0,
    "start_time": "2025-02-20T17:19:01.556Z"
   },
   {
    "duration": 0,
    "start_time": "2025-02-20T17:19:01.557Z"
   },
   {
    "duration": 0,
    "start_time": "2025-02-20T17:19:01.559Z"
   },
   {
    "duration": 0,
    "start_time": "2025-02-20T17:19:01.560Z"
   },
   {
    "duration": 0,
    "start_time": "2025-02-20T17:19:01.561Z"
   },
   {
    "duration": 0,
    "start_time": "2025-02-20T17:19:01.562Z"
   },
   {
    "duration": 0,
    "start_time": "2025-02-20T17:19:01.563Z"
   },
   {
    "duration": 0,
    "start_time": "2025-02-20T17:19:01.565Z"
   },
   {
    "duration": 0,
    "start_time": "2025-02-20T17:19:01.566Z"
   },
   {
    "duration": 0,
    "start_time": "2025-02-20T17:19:01.567Z"
   },
   {
    "duration": 0,
    "start_time": "2025-02-20T17:19:01.568Z"
   },
   {
    "duration": 0,
    "start_time": "2025-02-20T17:19:01.569Z"
   },
   {
    "duration": 0,
    "start_time": "2025-02-20T17:19:01.571Z"
   },
   {
    "duration": 0,
    "start_time": "2025-02-20T17:19:01.571Z"
   },
   {
    "duration": 0,
    "start_time": "2025-02-20T17:19:01.573Z"
   },
   {
    "duration": 0,
    "start_time": "2025-02-20T17:19:01.574Z"
   },
   {
    "duration": 0,
    "start_time": "2025-02-20T17:19:01.575Z"
   },
   {
    "duration": 0,
    "start_time": "2025-02-20T17:19:01.577Z"
   },
   {
    "duration": 0,
    "start_time": "2025-02-20T17:19:01.578Z"
   },
   {
    "duration": 0,
    "start_time": "2025-02-20T17:19:01.579Z"
   },
   {
    "duration": 0,
    "start_time": "2025-02-20T17:19:01.581Z"
   },
   {
    "duration": 43,
    "start_time": "2025-02-20T17:19:27.156Z"
   },
   {
    "duration": 6,
    "start_time": "2025-02-20T17:19:32.241Z"
   },
   {
    "duration": 13,
    "start_time": "2025-02-20T17:19:41.045Z"
   },
   {
    "duration": 455,
    "start_time": "2025-02-20T17:19:46.151Z"
   },
   {
    "duration": 440,
    "start_time": "2025-02-20T17:20:23.067Z"
   },
   {
    "duration": 14,
    "start_time": "2025-02-20T17:22:12.069Z"
   },
   {
    "duration": 13,
    "start_time": "2025-02-20T17:23:02.912Z"
   },
   {
    "duration": 3485,
    "start_time": "2025-02-20T17:24:49.541Z"
   },
   {
    "duration": 3,
    "start_time": "2025-02-20T17:24:53.028Z"
   },
   {
    "duration": 31,
    "start_time": "2025-02-20T17:24:53.033Z"
   },
   {
    "duration": 18,
    "start_time": "2025-02-20T17:24:53.066Z"
   },
   {
    "duration": 28,
    "start_time": "2025-02-20T17:24:53.087Z"
   },
   {
    "duration": 2857,
    "start_time": "2025-02-20T17:24:53.117Z"
   },
   {
    "duration": 2423,
    "start_time": "2025-02-20T17:24:55.976Z"
   },
   {
    "duration": 2295,
    "start_time": "2025-02-20T17:24:58.401Z"
   },
   {
    "duration": 3,
    "start_time": "2025-02-20T17:25:00.697Z"
   },
   {
    "duration": 1150,
    "start_time": "2025-02-20T17:25:00.701Z"
   },
   {
    "duration": 137,
    "start_time": "2025-02-20T17:25:01.853Z"
   },
   {
    "duration": 4,
    "start_time": "2025-02-20T17:25:01.991Z"
   },
   {
    "duration": 218,
    "start_time": "2025-02-20T17:25:01.997Z"
   },
   {
    "duration": 40,
    "start_time": "2025-02-20T17:25:02.218Z"
   },
   {
    "duration": 126,
    "start_time": "2025-02-20T17:25:02.260Z"
   },
   {
    "duration": 195,
    "start_time": "2025-02-20T17:25:02.387Z"
   },
   {
    "duration": 320,
    "start_time": "2025-02-20T17:25:02.583Z"
   },
   {
    "duration": 72,
    "start_time": "2025-02-20T17:25:02.905Z"
   },
   {
    "duration": 16,
    "start_time": "2025-02-20T17:25:02.978Z"
   },
   {
    "duration": 20,
    "start_time": "2025-02-20T17:25:02.996Z"
   },
   {
    "duration": 18,
    "start_time": "2025-02-20T17:25:03.017Z"
   },
   {
    "duration": 72,
    "start_time": "2025-02-20T17:25:03.037Z"
   },
   {
    "duration": 26,
    "start_time": "2025-02-20T17:25:03.111Z"
   },
   {
    "duration": 11,
    "start_time": "2025-02-20T17:25:03.139Z"
   },
   {
    "duration": 171,
    "start_time": "2025-02-20T17:25:03.152Z"
   },
   {
    "duration": 24,
    "start_time": "2025-02-20T17:25:03.325Z"
   },
   {
    "duration": 32,
    "start_time": "2025-02-20T17:25:03.350Z"
   },
   {
    "duration": 3,
    "start_time": "2025-02-20T17:25:03.383Z"
   },
   {
    "duration": 341,
    "start_time": "2025-02-20T17:25:03.387Z"
   },
   {
    "duration": 404,
    "start_time": "2025-02-20T17:25:03.730Z"
   },
   {
    "duration": 202,
    "start_time": "2025-02-20T17:25:04.136Z"
   },
   {
    "duration": 885,
    "start_time": "2025-02-20T17:25:04.340Z"
   },
   {
    "duration": 438,
    "start_time": "2025-02-20T17:25:05.227Z"
   },
   {
    "duration": 718,
    "start_time": "2025-02-20T17:25:05.667Z"
   },
   {
    "duration": 20,
    "start_time": "2025-02-20T17:25:06.387Z"
   },
   {
    "duration": 76,
    "start_time": "2025-02-20T17:25:06.409Z"
   },
   {
    "duration": 5414,
    "start_time": "2025-02-20T17:25:06.487Z"
   },
   {
    "duration": 191,
    "start_time": "2025-02-20T17:25:11.903Z"
   },
   {
    "duration": 6,
    "start_time": "2025-02-20T17:25:12.096Z"
   },
   {
    "duration": 150,
    "start_time": "2025-02-20T17:25:12.104Z"
   },
   {
    "duration": 125,
    "start_time": "2025-02-20T17:25:12.259Z"
   },
   {
    "duration": 0,
    "start_time": "2025-02-20T17:25:12.386Z"
   },
   {
    "duration": 0,
    "start_time": "2025-02-20T17:25:12.388Z"
   },
   {
    "duration": 0,
    "start_time": "2025-02-20T17:25:12.389Z"
   },
   {
    "duration": 0,
    "start_time": "2025-02-20T17:25:12.391Z"
   },
   {
    "duration": 0,
    "start_time": "2025-02-20T17:25:12.393Z"
   },
   {
    "duration": 0,
    "start_time": "2025-02-20T17:25:12.395Z"
   },
   {
    "duration": 0,
    "start_time": "2025-02-20T17:25:12.396Z"
   },
   {
    "duration": 0,
    "start_time": "2025-02-20T17:25:12.397Z"
   },
   {
    "duration": 0,
    "start_time": "2025-02-20T17:25:12.399Z"
   },
   {
    "duration": 0,
    "start_time": "2025-02-20T17:25:12.401Z"
   },
   {
    "duration": 0,
    "start_time": "2025-02-20T17:25:12.402Z"
   },
   {
    "duration": 0,
    "start_time": "2025-02-20T17:25:12.404Z"
   },
   {
    "duration": 0,
    "start_time": "2025-02-20T17:25:12.405Z"
   },
   {
    "duration": 0,
    "start_time": "2025-02-20T17:25:12.407Z"
   },
   {
    "duration": 0,
    "start_time": "2025-02-20T17:25:12.448Z"
   },
   {
    "duration": 0,
    "start_time": "2025-02-20T17:25:12.450Z"
   },
   {
    "duration": 0,
    "start_time": "2025-02-20T17:25:12.452Z"
   },
   {
    "duration": 0,
    "start_time": "2025-02-20T17:25:12.453Z"
   },
   {
    "duration": 0,
    "start_time": "2025-02-20T17:25:12.455Z"
   },
   {
    "duration": 0,
    "start_time": "2025-02-20T17:25:12.456Z"
   },
   {
    "duration": 0,
    "start_time": "2025-02-20T17:25:12.458Z"
   },
   {
    "duration": 0,
    "start_time": "2025-02-20T17:25:12.459Z"
   },
   {
    "duration": 0,
    "start_time": "2025-02-20T17:25:12.460Z"
   },
   {
    "duration": 0,
    "start_time": "2025-02-20T17:25:12.463Z"
   },
   {
    "duration": 0,
    "start_time": "2025-02-20T17:25:12.464Z"
   },
   {
    "duration": 0,
    "start_time": "2025-02-20T17:25:12.466Z"
   },
   {
    "duration": 0,
    "start_time": "2025-02-20T17:25:12.467Z"
   },
   {
    "duration": 0,
    "start_time": "2025-02-20T17:25:12.469Z"
   },
   {
    "duration": 0,
    "start_time": "2025-02-20T17:25:12.470Z"
   },
   {
    "duration": 47,
    "start_time": "2025-02-20T17:25:58.700Z"
   },
   {
    "duration": 6,
    "start_time": "2025-02-20T17:26:00.169Z"
   },
   {
    "duration": 13,
    "start_time": "2025-02-20T17:26:07.592Z"
   },
   {
    "duration": 7633,
    "start_time": "2025-02-20T17:26:10.671Z"
   },
   {
    "duration": 493,
    "start_time": "2025-02-20T17:26:36.058Z"
   },
   {
    "duration": 88,
    "start_time": "2025-02-20T17:31:07.686Z"
   },
   {
    "duration": 11,
    "start_time": "2025-02-20T17:31:19.721Z"
   },
   {
    "duration": 12,
    "start_time": "2025-02-20T17:31:37.252Z"
   },
   {
    "duration": 57,
    "start_time": "2025-02-20T17:32:10.728Z"
   },
   {
    "duration": 1276,
    "start_time": "2025-02-20T17:33:27.821Z"
   },
   {
    "duration": 1273,
    "start_time": "2025-02-20T17:34:42.780Z"
   },
   {
    "duration": 172,
    "start_time": "2025-02-20T17:34:47.586Z"
   },
   {
    "duration": 153,
    "start_time": "2025-02-20T17:36:31.576Z"
   },
   {
    "duration": 676,
    "start_time": "2025-02-20T17:36:48.148Z"
   },
   {
    "duration": 73,
    "start_time": "2025-02-20T17:41:23.110Z"
   },
   {
    "duration": 1210,
    "start_time": "2025-02-20T17:42:02.754Z"
   },
   {
    "duration": 176,
    "start_time": "2025-02-20T17:42:06.000Z"
   },
   {
    "duration": 660,
    "start_time": "2025-02-20T17:43:13.874Z"
   },
   {
    "duration": 1193,
    "start_time": "2025-02-20T17:44:20.362Z"
   },
   {
    "duration": 276,
    "start_time": "2025-02-20T17:44:28.975Z"
   },
   {
    "duration": 1254,
    "start_time": "2025-02-20T17:44:32.510Z"
   },
   {
    "duration": 207,
    "start_time": "2025-02-20T17:44:35.545Z"
   },
   {
    "duration": 3418,
    "start_time": "2025-02-20T17:45:25.406Z"
   },
   {
    "duration": 3,
    "start_time": "2025-02-20T17:45:28.827Z"
   },
   {
    "duration": 13,
    "start_time": "2025-02-20T17:45:28.831Z"
   },
   {
    "duration": 3,
    "start_time": "2025-02-20T17:45:28.846Z"
   },
   {
    "duration": 3,
    "start_time": "2025-02-20T17:45:28.851Z"
   },
   {
    "duration": 2776,
    "start_time": "2025-02-20T17:45:28.856Z"
   },
   {
    "duration": 2556,
    "start_time": "2025-02-20T17:45:31.634Z"
   },
   {
    "duration": 1551,
    "start_time": "2025-02-20T17:45:34.193Z"
   },
   {
    "duration": 6,
    "start_time": "2025-02-20T17:45:35.747Z"
   },
   {
    "duration": 1158,
    "start_time": "2025-02-20T17:45:35.756Z"
   },
   {
    "duration": 137,
    "start_time": "2025-02-20T17:45:36.916Z"
   },
   {
    "duration": 4,
    "start_time": "2025-02-20T17:45:37.057Z"
   },
   {
    "duration": 218,
    "start_time": "2025-02-20T17:45:37.063Z"
   },
   {
    "duration": 32,
    "start_time": "2025-02-20T17:45:37.282Z"
   },
   {
    "duration": 187,
    "start_time": "2025-02-20T17:45:37.316Z"
   },
   {
    "duration": 214,
    "start_time": "2025-02-20T17:45:37.506Z"
   },
   {
    "duration": 317,
    "start_time": "2025-02-20T17:45:37.721Z"
   },
   {
    "duration": 67,
    "start_time": "2025-02-20T17:45:38.039Z"
   },
   {
    "duration": 40,
    "start_time": "2025-02-20T17:45:38.108Z"
   },
   {
    "duration": 53,
    "start_time": "2025-02-20T17:45:38.149Z"
   },
   {
    "duration": 24,
    "start_time": "2025-02-20T17:45:38.203Z"
   },
   {
    "duration": 96,
    "start_time": "2025-02-20T17:45:38.229Z"
   },
   {
    "duration": 31,
    "start_time": "2025-02-20T17:45:38.327Z"
   },
   {
    "duration": 67,
    "start_time": "2025-02-20T17:45:38.359Z"
   },
   {
    "duration": 28,
    "start_time": "2025-02-20T17:45:38.428Z"
   },
   {
    "duration": 99,
    "start_time": "2025-02-20T17:45:38.458Z"
   },
   {
    "duration": 34,
    "start_time": "2025-02-20T17:45:38.559Z"
   },
   {
    "duration": 3,
    "start_time": "2025-02-20T17:45:38.597Z"
   },
   {
    "duration": 351,
    "start_time": "2025-02-20T17:45:38.602Z"
   },
   {
    "duration": 404,
    "start_time": "2025-02-20T17:45:38.955Z"
   },
   {
    "duration": 208,
    "start_time": "2025-02-20T17:45:39.361Z"
   },
   {
    "duration": 905,
    "start_time": "2025-02-20T17:45:39.571Z"
   },
   {
    "duration": 438,
    "start_time": "2025-02-20T17:45:40.478Z"
   },
   {
    "duration": 690,
    "start_time": "2025-02-20T17:45:40.918Z"
   },
   {
    "duration": 21,
    "start_time": "2025-02-20T17:45:41.610Z"
   },
   {
    "duration": 3,
    "start_time": "2025-02-20T17:45:41.632Z"
   },
   {
    "duration": 5305,
    "start_time": "2025-02-20T17:45:41.637Z"
   },
   {
    "duration": 177,
    "start_time": "2025-02-20T17:45:46.947Z"
   },
   {
    "duration": 5,
    "start_time": "2025-02-20T17:45:47.126Z"
   },
   {
    "duration": 147,
    "start_time": "2025-02-20T17:45:47.133Z"
   },
   {
    "duration": 125,
    "start_time": "2025-02-20T17:45:47.282Z"
   },
   {
    "duration": 0,
    "start_time": "2025-02-20T17:45:47.409Z"
   },
   {
    "duration": 0,
    "start_time": "2025-02-20T17:45:47.411Z"
   },
   {
    "duration": 0,
    "start_time": "2025-02-20T17:45:47.412Z"
   },
   {
    "duration": 0,
    "start_time": "2025-02-20T17:45:47.413Z"
   },
   {
    "duration": 0,
    "start_time": "2025-02-20T17:45:47.414Z"
   },
   {
    "duration": 0,
    "start_time": "2025-02-20T17:45:47.415Z"
   },
   {
    "duration": 0,
    "start_time": "2025-02-20T17:45:47.417Z"
   },
   {
    "duration": 0,
    "start_time": "2025-02-20T17:45:47.418Z"
   },
   {
    "duration": 0,
    "start_time": "2025-02-20T17:45:47.419Z"
   },
   {
    "duration": 0,
    "start_time": "2025-02-20T17:45:47.421Z"
   },
   {
    "duration": 1,
    "start_time": "2025-02-20T17:45:47.422Z"
   },
   {
    "duration": 0,
    "start_time": "2025-02-20T17:45:47.449Z"
   },
   {
    "duration": 0,
    "start_time": "2025-02-20T17:45:47.450Z"
   },
   {
    "duration": 0,
    "start_time": "2025-02-20T17:45:47.452Z"
   },
   {
    "duration": 0,
    "start_time": "2025-02-20T17:45:47.453Z"
   },
   {
    "duration": 0,
    "start_time": "2025-02-20T17:45:47.454Z"
   },
   {
    "duration": 0,
    "start_time": "2025-02-20T17:45:47.455Z"
   },
   {
    "duration": 0,
    "start_time": "2025-02-20T17:45:47.457Z"
   },
   {
    "duration": 0,
    "start_time": "2025-02-20T17:45:47.458Z"
   },
   {
    "duration": 0,
    "start_time": "2025-02-20T17:45:47.458Z"
   },
   {
    "duration": 0,
    "start_time": "2025-02-20T17:45:47.459Z"
   },
   {
    "duration": 0,
    "start_time": "2025-02-20T17:45:47.460Z"
   },
   {
    "duration": 0,
    "start_time": "2025-02-20T17:45:47.461Z"
   },
   {
    "duration": 0,
    "start_time": "2025-02-20T17:45:47.462Z"
   },
   {
    "duration": 0,
    "start_time": "2025-02-20T17:45:47.464Z"
   },
   {
    "duration": 0,
    "start_time": "2025-02-20T17:45:47.465Z"
   },
   {
    "duration": 0,
    "start_time": "2025-02-20T17:45:47.468Z"
   },
   {
    "duration": 0,
    "start_time": "2025-02-20T17:45:47.469Z"
   },
   {
    "duration": 0,
    "start_time": "2025-02-20T17:45:47.470Z"
   },
   {
    "duration": 0,
    "start_time": "2025-02-20T17:45:47.471Z"
   },
   {
    "duration": 0,
    "start_time": "2025-02-20T17:45:47.472Z"
   },
   {
    "duration": 0,
    "start_time": "2025-02-20T17:45:47.473Z"
   },
   {
    "duration": 0,
    "start_time": "2025-02-20T17:45:47.474Z"
   },
   {
    "duration": 43,
    "start_time": "2025-02-20T17:45:57.537Z"
   },
   {
    "duration": 77,
    "start_time": "2025-02-20T17:45:58.844Z"
   },
   {
    "duration": 60,
    "start_time": "2025-02-20T17:46:00.220Z"
   },
   {
    "duration": 675,
    "start_time": "2025-02-20T17:46:01.909Z"
   },
   {
    "duration": 1160,
    "start_time": "2025-02-20T17:46:04.807Z"
   },
   {
    "duration": 20,
    "start_time": "2025-02-20T17:46:07.126Z"
   },
   {
    "duration": 262,
    "start_time": "2025-02-20T17:47:01.186Z"
   },
   {
    "duration": 1229,
    "start_time": "2025-02-20T17:47:04.431Z"
   },
   {
    "duration": 209,
    "start_time": "2025-02-20T17:47:06.643Z"
   },
   {
    "duration": 3611,
    "start_time": "2025-02-20T17:47:50.215Z"
   },
   {
    "duration": 3,
    "start_time": "2025-02-20T17:47:53.828Z"
   },
   {
    "duration": 6,
    "start_time": "2025-02-20T17:47:53.833Z"
   },
   {
    "duration": 18,
    "start_time": "2025-02-20T17:47:53.840Z"
   },
   {
    "duration": 31,
    "start_time": "2025-02-20T17:47:53.865Z"
   },
   {
    "duration": 3012,
    "start_time": "2025-02-20T17:47:53.897Z"
   },
   {
    "duration": 2588,
    "start_time": "2025-02-20T17:47:56.912Z"
   },
   {
    "duration": 1475,
    "start_time": "2025-02-20T17:47:59.502Z"
   },
   {
    "duration": 2,
    "start_time": "2025-02-20T17:48:00.979Z"
   },
   {
    "duration": 1288,
    "start_time": "2025-02-20T17:48:00.983Z"
   },
   {
    "duration": 137,
    "start_time": "2025-02-20T17:48:02.272Z"
   },
   {
    "duration": 3,
    "start_time": "2025-02-20T17:48:02.411Z"
   },
   {
    "duration": 314,
    "start_time": "2025-02-20T17:48:02.416Z"
   },
   {
    "duration": 42,
    "start_time": "2025-02-20T17:48:02.733Z"
   },
   {
    "duration": 188,
    "start_time": "2025-02-20T17:48:02.777Z"
   },
   {
    "duration": 206,
    "start_time": "2025-02-20T17:48:02.968Z"
   },
   {
    "duration": 420,
    "start_time": "2025-02-20T17:48:03.175Z"
   },
   {
    "duration": 84,
    "start_time": "2025-02-20T17:48:03.597Z"
   },
   {
    "duration": 11,
    "start_time": "2025-02-20T17:48:03.683Z"
   },
   {
    "duration": 20,
    "start_time": "2025-02-20T17:48:03.696Z"
   },
   {
    "duration": 9,
    "start_time": "2025-02-20T17:48:03.718Z"
   },
   {
    "duration": 75,
    "start_time": "2025-02-20T17:48:03.729Z"
   },
   {
    "duration": 58,
    "start_time": "2025-02-20T17:48:03.806Z"
   },
   {
    "duration": 11,
    "start_time": "2025-02-20T17:48:03.866Z"
   },
   {
    "duration": 41,
    "start_time": "2025-02-20T17:48:03.879Z"
   },
   {
    "duration": 29,
    "start_time": "2025-02-20T17:48:03.922Z"
   },
   {
    "duration": 44,
    "start_time": "2025-02-20T17:48:03.956Z"
   },
   {
    "duration": 3,
    "start_time": "2025-02-20T17:48:04.002Z"
   },
   {
    "duration": 380,
    "start_time": "2025-02-20T17:48:04.006Z"
   },
   {
    "duration": 435,
    "start_time": "2025-02-20T17:48:04.388Z"
   },
   {
    "duration": 239,
    "start_time": "2025-02-20T17:48:04.832Z"
   },
   {
    "duration": 999,
    "start_time": "2025-02-20T17:48:05.073Z"
   },
   {
    "duration": 493,
    "start_time": "2025-02-20T17:48:06.074Z"
   },
   {
    "duration": 763,
    "start_time": "2025-02-20T17:48:06.569Z"
   },
   {
    "duration": 26,
    "start_time": "2025-02-20T17:48:07.335Z"
   },
   {
    "duration": 36,
    "start_time": "2025-02-20T17:48:07.364Z"
   },
   {
    "duration": 6005,
    "start_time": "2025-02-20T17:48:07.403Z"
   },
   {
    "duration": 220,
    "start_time": "2025-02-20T17:48:13.410Z"
   },
   {
    "duration": 6,
    "start_time": "2025-02-20T17:48:13.631Z"
   },
   {
    "duration": 178,
    "start_time": "2025-02-20T17:48:13.639Z"
   },
   {
    "duration": 153,
    "start_time": "2025-02-20T17:48:13.823Z"
   },
   {
    "duration": 0,
    "start_time": "2025-02-20T17:48:13.979Z"
   },
   {
    "duration": 0,
    "start_time": "2025-02-20T17:48:13.980Z"
   },
   {
    "duration": 0,
    "start_time": "2025-02-20T17:48:13.982Z"
   },
   {
    "duration": 0,
    "start_time": "2025-02-20T17:48:13.983Z"
   },
   {
    "duration": 0,
    "start_time": "2025-02-20T17:48:13.984Z"
   },
   {
    "duration": 0,
    "start_time": "2025-02-20T17:48:13.985Z"
   },
   {
    "duration": 0,
    "start_time": "2025-02-20T17:48:13.986Z"
   },
   {
    "duration": 0,
    "start_time": "2025-02-20T17:48:13.988Z"
   },
   {
    "duration": 0,
    "start_time": "2025-02-20T17:48:13.989Z"
   },
   {
    "duration": 0,
    "start_time": "2025-02-20T17:48:13.991Z"
   },
   {
    "duration": 0,
    "start_time": "2025-02-20T17:48:13.992Z"
   },
   {
    "duration": 0,
    "start_time": "2025-02-20T17:48:13.992Z"
   },
   {
    "duration": 0,
    "start_time": "2025-02-20T17:48:13.994Z"
   },
   {
    "duration": 0,
    "start_time": "2025-02-20T17:48:13.996Z"
   },
   {
    "duration": 0,
    "start_time": "2025-02-20T17:48:13.998Z"
   },
   {
    "duration": 0,
    "start_time": "2025-02-20T17:48:14.000Z"
   },
   {
    "duration": 0,
    "start_time": "2025-02-20T17:48:14.002Z"
   },
   {
    "duration": 0,
    "start_time": "2025-02-20T17:48:14.004Z"
   },
   {
    "duration": 0,
    "start_time": "2025-02-20T17:48:14.048Z"
   },
   {
    "duration": 0,
    "start_time": "2025-02-20T17:48:14.050Z"
   },
   {
    "duration": 0,
    "start_time": "2025-02-20T17:48:14.051Z"
   },
   {
    "duration": 0,
    "start_time": "2025-02-20T17:48:14.052Z"
   },
   {
    "duration": 0,
    "start_time": "2025-02-20T17:48:14.052Z"
   },
   {
    "duration": 0,
    "start_time": "2025-02-20T17:48:14.053Z"
   },
   {
    "duration": 0,
    "start_time": "2025-02-20T17:48:14.054Z"
   },
   {
    "duration": 0,
    "start_time": "2025-02-20T17:48:14.054Z"
   },
   {
    "duration": 0,
    "start_time": "2025-02-20T17:48:14.063Z"
   },
   {
    "duration": 0,
    "start_time": "2025-02-20T17:48:14.064Z"
   },
   {
    "duration": 0,
    "start_time": "2025-02-20T17:48:14.067Z"
   },
   {
    "duration": 0,
    "start_time": "2025-02-20T17:48:14.069Z"
   },
   {
    "duration": 0,
    "start_time": "2025-02-20T17:48:14.070Z"
   },
   {
    "duration": 0,
    "start_time": "2025-02-20T17:48:14.070Z"
   },
   {
    "duration": 1,
    "start_time": "2025-02-20T17:48:14.071Z"
   },
   {
    "duration": 47,
    "start_time": "2025-02-20T17:48:17.151Z"
   },
   {
    "duration": 76,
    "start_time": "2025-02-20T17:48:18.101Z"
   },
   {
    "duration": 68,
    "start_time": "2025-02-20T17:48:19.020Z"
   },
   {
    "duration": 698,
    "start_time": "2025-02-20T17:48:19.863Z"
   },
   {
    "duration": 1371,
    "start_time": "2025-02-20T17:48:21.390Z"
   },
   {
    "duration": 192,
    "start_time": "2025-02-20T17:48:24.270Z"
   },
   {
    "duration": 1408,
    "start_time": "2025-02-20T17:48:30.846Z"
   },
   {
    "duration": 160,
    "start_time": "2025-02-20T17:48:34.193Z"
   },
   {
    "duration": 75,
    "start_time": "2025-02-20T17:50:49.388Z"
   },
   {
    "duration": 1145,
    "start_time": "2025-02-20T17:51:16.722Z"
   },
   {
    "duration": 159,
    "start_time": "2025-02-20T17:51:18.696Z"
   },
   {
    "duration": 39774,
    "start_time": "2025-02-20T17:51:20.477Z"
   },
   {
    "duration": 1235,
    "start_time": "2025-02-20T17:52:02.320Z"
   },
   {
    "duration": 59,
    "start_time": "2025-02-20T17:55:04.383Z"
   },
   {
    "duration": 56197,
    "start_time": "2025-02-20T17:58:42.759Z"
   },
   {
    "duration": 5,
    "start_time": "2025-02-20T18:11:24.009Z"
   },
   {
    "duration": 11,
    "start_time": "2025-02-20T18:11:44.707Z"
   },
   {
    "duration": 0,
    "start_time": "2025-02-20T18:12:49.253Z"
   },
   {
    "duration": 0,
    "start_time": "2025-02-20T18:12:49.255Z"
   },
   {
    "duration": 7,
    "start_time": "2025-02-20T18:12:53.642Z"
   },
   {
    "duration": 59696,
    "start_time": "2025-02-20T18:12:57.274Z"
   },
   {
    "duration": 7,
    "start_time": "2025-02-20T18:14:01.213Z"
   },
   {
    "duration": 3616,
    "start_time": "2025-02-20T18:14:16.625Z"
   },
   {
    "duration": 11,
    "start_time": "2025-02-20T18:14:20.244Z"
   },
   {
    "duration": 5,
    "start_time": "2025-02-20T18:14:20.257Z"
   },
   {
    "duration": 7,
    "start_time": "2025-02-20T18:14:20.266Z"
   },
   {
    "duration": 6,
    "start_time": "2025-02-20T18:14:20.275Z"
   },
   {
    "duration": 3059,
    "start_time": "2025-02-20T18:14:20.283Z"
   },
   {
    "duration": 2820,
    "start_time": "2025-02-20T18:14:23.344Z"
   },
   {
    "duration": 2326,
    "start_time": "2025-02-20T18:14:26.167Z"
   },
   {
    "duration": 4,
    "start_time": "2025-02-20T18:14:28.495Z"
   },
   {
    "duration": 1311,
    "start_time": "2025-02-20T18:14:28.500Z"
   },
   {
    "duration": 146,
    "start_time": "2025-02-20T18:14:29.812Z"
   },
   {
    "duration": 3,
    "start_time": "2025-02-20T18:14:29.967Z"
   },
   {
    "duration": 229,
    "start_time": "2025-02-20T18:14:29.973Z"
   },
   {
    "duration": 32,
    "start_time": "2025-02-20T18:14:30.206Z"
   },
   {
    "duration": 140,
    "start_time": "2025-02-20T18:14:30.240Z"
   },
   {
    "duration": 203,
    "start_time": "2025-02-20T18:14:30.382Z"
   },
   {
    "duration": 345,
    "start_time": "2025-02-20T18:14:30.586Z"
   },
   {
    "duration": 87,
    "start_time": "2025-02-20T18:14:30.932Z"
   },
   {
    "duration": 6,
    "start_time": "2025-02-20T18:14:31.021Z"
   },
   {
    "duration": 7,
    "start_time": "2025-02-20T18:14:31.029Z"
   },
   {
    "duration": 13,
    "start_time": "2025-02-20T18:14:31.050Z"
   },
   {
    "duration": 80,
    "start_time": "2025-02-20T18:14:31.065Z"
   },
   {
    "duration": 32,
    "start_time": "2025-02-20T18:14:31.147Z"
   },
   {
    "duration": 101,
    "start_time": "2025-02-20T18:14:31.181Z"
   },
   {
    "duration": 39,
    "start_time": "2025-02-20T18:14:31.284Z"
   },
   {
    "duration": 32,
    "start_time": "2025-02-20T18:14:31.325Z"
   },
   {
    "duration": 160,
    "start_time": "2025-02-20T18:14:31.359Z"
   },
   {
    "duration": 2,
    "start_time": "2025-02-20T18:14:31.521Z"
   },
   {
    "duration": 385,
    "start_time": "2025-02-20T18:14:31.525Z"
   },
   {
    "duration": 447,
    "start_time": "2025-02-20T18:14:31.912Z"
   },
   {
    "duration": 220,
    "start_time": "2025-02-20T18:14:32.361Z"
   },
   {
    "duration": 999,
    "start_time": "2025-02-20T18:14:32.583Z"
   },
   {
    "duration": 468,
    "start_time": "2025-02-20T18:14:33.584Z"
   },
   {
    "duration": 705,
    "start_time": "2025-02-20T18:14:34.058Z"
   },
   {
    "duration": 22,
    "start_time": "2025-02-20T18:14:34.765Z"
   },
   {
    "duration": 15,
    "start_time": "2025-02-20T18:14:34.789Z"
   },
   {
    "duration": 5865,
    "start_time": "2025-02-20T18:14:34.806Z"
   },
   {
    "duration": 211,
    "start_time": "2025-02-20T18:14:40.673Z"
   },
   {
    "duration": 6,
    "start_time": "2025-02-20T18:14:40.886Z"
   },
   {
    "duration": 208,
    "start_time": "2025-02-20T18:14:40.893Z"
   },
   {
    "duration": 123,
    "start_time": "2025-02-20T18:14:41.106Z"
   },
   {
    "duration": 0,
    "start_time": "2025-02-20T18:14:41.231Z"
   },
   {
    "duration": 0,
    "start_time": "2025-02-20T18:14:41.232Z"
   },
   {
    "duration": 0,
    "start_time": "2025-02-20T18:14:41.233Z"
   },
   {
    "duration": 0,
    "start_time": "2025-02-20T18:14:41.234Z"
   },
   {
    "duration": 0,
    "start_time": "2025-02-20T18:14:41.235Z"
   },
   {
    "duration": 0,
    "start_time": "2025-02-20T18:14:41.236Z"
   },
   {
    "duration": 0,
    "start_time": "2025-02-20T18:14:41.260Z"
   },
   {
    "duration": 0,
    "start_time": "2025-02-20T18:14:41.262Z"
   },
   {
    "duration": 0,
    "start_time": "2025-02-20T18:14:41.263Z"
   },
   {
    "duration": 0,
    "start_time": "2025-02-20T18:14:41.265Z"
   },
   {
    "duration": 0,
    "start_time": "2025-02-20T18:14:41.266Z"
   },
   {
    "duration": 0,
    "start_time": "2025-02-20T18:14:41.267Z"
   },
   {
    "duration": 0,
    "start_time": "2025-02-20T18:14:41.268Z"
   },
   {
    "duration": 0,
    "start_time": "2025-02-20T18:14:41.270Z"
   },
   {
    "duration": 0,
    "start_time": "2025-02-20T18:14:41.271Z"
   },
   {
    "duration": 0,
    "start_time": "2025-02-20T18:14:41.274Z"
   },
   {
    "duration": 0,
    "start_time": "2025-02-20T18:14:41.276Z"
   },
   {
    "duration": 0,
    "start_time": "2025-02-20T18:14:41.278Z"
   },
   {
    "duration": 0,
    "start_time": "2025-02-20T18:14:41.280Z"
   },
   {
    "duration": 0,
    "start_time": "2025-02-20T18:14:41.282Z"
   },
   {
    "duration": 0,
    "start_time": "2025-02-20T18:14:41.284Z"
   },
   {
    "duration": 0,
    "start_time": "2025-02-20T18:14:41.286Z"
   },
   {
    "duration": 0,
    "start_time": "2025-02-20T18:14:41.287Z"
   },
   {
    "duration": 0,
    "start_time": "2025-02-20T18:14:41.290Z"
   },
   {
    "duration": 0,
    "start_time": "2025-02-20T18:14:41.292Z"
   },
   {
    "duration": 0,
    "start_time": "2025-02-20T18:14:41.293Z"
   },
   {
    "duration": 0,
    "start_time": "2025-02-20T18:14:41.295Z"
   },
   {
    "duration": 0,
    "start_time": "2025-02-20T18:14:41.297Z"
   },
   {
    "duration": 0,
    "start_time": "2025-02-20T18:14:41.299Z"
   },
   {
    "duration": 0,
    "start_time": "2025-02-20T18:14:41.348Z"
   },
   {
    "duration": 0,
    "start_time": "2025-02-20T18:14:41.351Z"
   },
   {
    "duration": 0,
    "start_time": "2025-02-20T18:14:41.352Z"
   },
   {
    "duration": 0,
    "start_time": "2025-02-20T18:14:41.353Z"
   },
   {
    "duration": 0,
    "start_time": "2025-02-20T18:14:41.354Z"
   },
   {
    "duration": 0,
    "start_time": "2025-02-20T18:14:41.355Z"
   },
   {
    "duration": 0,
    "start_time": "2025-02-20T18:14:41.356Z"
   },
   {
    "duration": 51,
    "start_time": "2025-02-20T18:15:18.635Z"
   },
   {
    "duration": 13,
    "start_time": "2025-02-20T18:15:22.012Z"
   },
   {
    "duration": 87,
    "start_time": "2025-02-20T18:15:30.178Z"
   },
   {
    "duration": 55,
    "start_time": "2025-02-20T18:15:36.194Z"
   },
   {
    "duration": 12,
    "start_time": "2025-02-20T18:15:38.671Z"
   },
   {
    "duration": 61,
    "start_time": "2025-02-20T18:16:05.846Z"
   },
   {
    "duration": 6,
    "start_time": "2025-02-20T18:16:26.720Z"
   },
   {
    "duration": 15,
    "start_time": "2025-02-20T18:16:42.965Z"
   },
   {
    "duration": 5,
    "start_time": "2025-02-20T18:17:09.066Z"
   },
   {
    "duration": 62101,
    "start_time": "2025-02-20T18:17:12.598Z"
   },
   {
    "duration": 6,
    "start_time": "2025-02-20T18:20:55.292Z"
   },
   {
    "duration": 13,
    "start_time": "2025-02-20T18:20:57.733Z"
   },
   {
    "duration": 6,
    "start_time": "2025-02-20T18:22:09.875Z"
   },
   {
    "duration": 67232,
    "start_time": "2025-02-20T18:22:12.516Z"
   },
   {
    "duration": 4,
    "start_time": "2025-02-20T18:30:25.276Z"
   },
   {
    "duration": 56024,
    "start_time": "2025-02-20T18:32:10.732Z"
   },
   {
    "duration": 6,
    "start_time": "2025-02-20T18:36:07.070Z"
   },
   {
    "duration": 5,
    "start_time": "2025-02-20T18:36:09.471Z"
   },
   {
    "duration": 79245,
    "start_time": "2025-02-20T18:36:11.317Z"
   },
   {
    "duration": 80099,
    "start_time": "2025-02-20T18:37:30.564Z"
   },
   {
    "duration": 3,
    "start_time": "2025-02-20T18:40:49.332Z"
   },
   {
    "duration": 22350,
    "start_time": "2025-02-20T18:45:40.555Z"
   },
   {
    "duration": 3,
    "start_time": "2025-02-20T18:48:36.079Z"
   },
   {
    "duration": 129479,
    "start_time": "2025-02-20T18:48:37.116Z"
   },
   {
    "duration": 3713,
    "start_time": "2025-02-20T18:56:01.812Z"
   },
   {
    "duration": 3,
    "start_time": "2025-02-20T18:56:05.528Z"
   },
   {
    "duration": 79,
    "start_time": "2025-02-20T18:56:05.533Z"
   },
   {
    "duration": 151,
    "start_time": "2025-02-20T18:56:05.614Z"
   },
   {
    "duration": 16,
    "start_time": "2025-02-20T18:56:05.767Z"
   },
   {
    "duration": 3039,
    "start_time": "2025-02-20T18:56:05.785Z"
   },
   {
    "duration": 2641,
    "start_time": "2025-02-20T18:56:08.826Z"
   },
   {
    "duration": 1637,
    "start_time": "2025-02-20T18:56:11.470Z"
   },
   {
    "duration": 4,
    "start_time": "2025-02-20T18:56:13.109Z"
   },
   {
    "duration": 1270,
    "start_time": "2025-02-20T18:56:13.116Z"
   },
   {
    "duration": 140,
    "start_time": "2025-02-20T18:56:14.387Z"
   },
   {
    "duration": 3,
    "start_time": "2025-02-20T18:56:14.529Z"
   },
   {
    "duration": 248,
    "start_time": "2025-02-20T18:56:14.533Z"
   },
   {
    "duration": 31,
    "start_time": "2025-02-20T18:56:14.783Z"
   },
   {
    "duration": 161,
    "start_time": "2025-02-20T18:56:14.815Z"
   },
   {
    "duration": 192,
    "start_time": "2025-02-20T18:56:14.978Z"
   },
   {
    "duration": 345,
    "start_time": "2025-02-20T18:56:15.172Z"
   },
   {
    "duration": 88,
    "start_time": "2025-02-20T18:56:15.520Z"
   },
   {
    "duration": 141,
    "start_time": "2025-02-20T18:56:15.610Z"
   },
   {
    "duration": 26,
    "start_time": "2025-02-20T18:56:15.755Z"
   },
   {
    "duration": 7,
    "start_time": "2025-02-20T18:56:15.784Z"
   },
   {
    "duration": 84,
    "start_time": "2025-02-20T18:56:15.792Z"
   },
   {
    "duration": 33,
    "start_time": "2025-02-20T18:56:15.877Z"
   },
   {
    "duration": 7,
    "start_time": "2025-02-20T18:56:15.912Z"
   },
   {
    "duration": 56,
    "start_time": "2025-02-20T18:56:15.920Z"
   },
   {
    "duration": 25,
    "start_time": "2025-02-20T18:56:15.978Z"
   },
   {
    "duration": 33,
    "start_time": "2025-02-20T18:56:16.005Z"
   },
   {
    "duration": 10,
    "start_time": "2025-02-20T18:56:16.049Z"
   },
   {
    "duration": 368,
    "start_time": "2025-02-20T18:56:16.070Z"
   },
   {
    "duration": 414,
    "start_time": "2025-02-20T18:56:16.440Z"
   },
   {
    "duration": 224,
    "start_time": "2025-02-20T18:56:16.855Z"
   },
   {
    "duration": 962,
    "start_time": "2025-02-20T18:56:17.080Z"
   },
   {
    "duration": 527,
    "start_time": "2025-02-20T18:56:18.048Z"
   },
   {
    "duration": 723,
    "start_time": "2025-02-20T18:56:18.577Z"
   },
   {
    "duration": 20,
    "start_time": "2025-02-20T18:56:19.302Z"
   },
   {
    "duration": 4,
    "start_time": "2025-02-20T18:56:19.324Z"
   },
   {
    "duration": 6404,
    "start_time": "2025-02-20T18:56:19.330Z"
   },
   {
    "duration": 241,
    "start_time": "2025-02-20T18:56:25.736Z"
   },
   {
    "duration": 6,
    "start_time": "2025-02-20T18:56:25.980Z"
   },
   {
    "duration": 189,
    "start_time": "2025-02-20T18:56:25.989Z"
   },
   {
    "duration": 47,
    "start_time": "2025-02-20T18:56:26.180Z"
   },
   {
    "duration": 97,
    "start_time": "2025-02-20T18:56:26.229Z"
   },
   {
    "duration": 40,
    "start_time": "2025-02-20T18:56:26.328Z"
   },
   {
    "duration": 19,
    "start_time": "2025-02-20T18:56:26.372Z"
   },
   {
    "duration": 45,
    "start_time": "2025-02-20T18:56:26.392Z"
   },
   {
    "duration": 6,
    "start_time": "2025-02-20T18:56:26.438Z"
   },
   {
    "duration": 81130,
    "start_time": "2025-02-20T18:56:26.445Z"
   },
   {
    "duration": 80214,
    "start_time": "2025-02-20T18:57:47.648Z"
   },
   {
    "duration": 269,
    "start_time": "2025-02-20T18:59:07.866Z"
   },
   {
    "duration": 0,
    "start_time": "2025-02-20T18:59:08.137Z"
   },
   {
    "duration": 0,
    "start_time": "2025-02-20T18:59:08.138Z"
   },
   {
    "duration": 0,
    "start_time": "2025-02-20T18:59:08.147Z"
   },
   {
    "duration": 0,
    "start_time": "2025-02-20T18:59:08.148Z"
   },
   {
    "duration": 0,
    "start_time": "2025-02-20T18:59:08.149Z"
   },
   {
    "duration": 0,
    "start_time": "2025-02-20T18:59:08.150Z"
   },
   {
    "duration": 0,
    "start_time": "2025-02-20T18:59:08.151Z"
   },
   {
    "duration": 0,
    "start_time": "2025-02-20T18:59:08.151Z"
   },
   {
    "duration": 0,
    "start_time": "2025-02-20T18:59:08.152Z"
   },
   {
    "duration": 0,
    "start_time": "2025-02-20T18:59:08.153Z"
   },
   {
    "duration": 0,
    "start_time": "2025-02-20T18:59:08.153Z"
   },
   {
    "duration": 0,
    "start_time": "2025-02-20T18:59:08.157Z"
   },
   {
    "duration": 0,
    "start_time": "2025-02-20T18:59:08.159Z"
   },
   {
    "duration": 0,
    "start_time": "2025-02-20T18:59:08.160Z"
   },
   {
    "duration": 0,
    "start_time": "2025-02-20T18:59:08.161Z"
   },
   {
    "duration": 0,
    "start_time": "2025-02-20T18:59:08.163Z"
   },
   {
    "duration": 0,
    "start_time": "2025-02-20T18:59:08.165Z"
   },
   {
    "duration": 0,
    "start_time": "2025-02-20T18:59:08.167Z"
   },
   {
    "duration": 0,
    "start_time": "2025-02-20T18:59:08.168Z"
   },
   {
    "duration": 0,
    "start_time": "2025-02-20T18:59:08.170Z"
   },
   {
    "duration": 21529,
    "start_time": "2025-02-20T18:59:34.974Z"
   },
   {
    "duration": 2,
    "start_time": "2025-02-20T19:00:19.498Z"
   },
   {
    "duration": 585,
    "start_time": "2025-02-20T19:00:21.756Z"
   },
   {
    "duration": 33275,
    "start_time": "2025-02-20T19:00:46.168Z"
   },
   {
    "duration": 2049,
    "start_time": "2025-02-20T19:01:42.159Z"
   },
   {
    "duration": 380028,
    "start_time": "2025-02-20T19:02:22.692Z"
   },
   {
    "duration": 133,
    "start_time": "2025-02-20T19:08:42.722Z"
   },
   {
    "duration": 46837,
    "start_time": "2025-02-20T19:09:47.558Z"
   },
   {
    "duration": 181022,
    "start_time": "2025-02-20T19:11:15.499Z"
   },
   {
    "duration": 3231,
    "start_time": "2025-02-20T19:19:18.738Z"
   },
   {
    "duration": 3,
    "start_time": "2025-02-20T19:19:21.971Z"
   },
   {
    "duration": 7,
    "start_time": "2025-02-20T19:19:21.976Z"
   },
   {
    "duration": 7,
    "start_time": "2025-02-20T19:19:21.985Z"
   },
   {
    "duration": 8,
    "start_time": "2025-02-20T19:19:21.995Z"
   },
   {
    "duration": 2667,
    "start_time": "2025-02-20T19:19:22.005Z"
   },
   {
    "duration": 2492,
    "start_time": "2025-02-20T19:19:24.674Z"
   },
   {
    "duration": 2379,
    "start_time": "2025-02-20T19:19:27.168Z"
   },
   {
    "duration": 2,
    "start_time": "2025-02-20T19:19:29.549Z"
   },
   {
    "duration": 1165,
    "start_time": "2025-02-20T19:19:29.553Z"
   },
   {
    "duration": 119,
    "start_time": "2025-02-20T19:19:30.725Z"
   },
   {
    "duration": 36,
    "start_time": "2025-02-20T19:19:30.849Z"
   },
   {
    "duration": 211,
    "start_time": "2025-02-20T19:19:30.887Z"
   },
   {
    "duration": 31,
    "start_time": "2025-02-20T19:19:31.101Z"
   },
   {
    "duration": 136,
    "start_time": "2025-02-20T19:19:31.133Z"
   },
   {
    "duration": 186,
    "start_time": "2025-02-20T19:19:31.271Z"
   },
   {
    "duration": 322,
    "start_time": "2025-02-20T19:19:31.459Z"
   },
   {
    "duration": 75,
    "start_time": "2025-02-20T19:19:31.782Z"
   },
   {
    "duration": 19,
    "start_time": "2025-02-20T19:19:31.858Z"
   },
   {
    "duration": 14,
    "start_time": "2025-02-20T19:19:31.879Z"
   },
   {
    "duration": 17,
    "start_time": "2025-02-20T19:19:31.895Z"
   },
   {
    "duration": 78,
    "start_time": "2025-02-20T19:19:31.913Z"
   },
   {
    "duration": 27,
    "start_time": "2025-02-20T19:19:31.993Z"
   },
   {
    "duration": 27,
    "start_time": "2025-02-20T19:19:32.022Z"
   },
   {
    "duration": 28,
    "start_time": "2025-02-20T19:19:32.051Z"
   },
   {
    "duration": 25,
    "start_time": "2025-02-20T19:19:32.081Z"
   },
   {
    "duration": 56,
    "start_time": "2025-02-20T19:19:32.108Z"
   },
   {
    "duration": 3,
    "start_time": "2025-02-20T19:19:32.165Z"
   },
   {
    "duration": 334,
    "start_time": "2025-02-20T19:19:32.169Z"
   },
   {
    "duration": 383,
    "start_time": "2025-02-20T19:19:32.505Z"
   },
   {
    "duration": 201,
    "start_time": "2025-02-20T19:19:32.889Z"
   },
   {
    "duration": 866,
    "start_time": "2025-02-20T19:19:33.092Z"
   },
   {
    "duration": 422,
    "start_time": "2025-02-20T19:19:33.959Z"
   },
   {
    "duration": 641,
    "start_time": "2025-02-20T19:19:34.383Z"
   },
   {
    "duration": 20,
    "start_time": "2025-02-20T19:19:35.026Z"
   },
   {
    "duration": 18,
    "start_time": "2025-02-20T19:19:35.048Z"
   },
   {
    "duration": 5353,
    "start_time": "2025-02-20T19:19:35.068Z"
   },
   {
    "duration": 184,
    "start_time": "2025-02-20T19:19:40.422Z"
   },
   {
    "duration": 6,
    "start_time": "2025-02-20T19:19:40.608Z"
   },
   {
    "duration": 145,
    "start_time": "2025-02-20T19:19:40.615Z"
   },
   {
    "duration": 44,
    "start_time": "2025-02-20T19:19:40.763Z"
   },
   {
    "duration": 129,
    "start_time": "2025-02-20T19:19:40.808Z"
   },
   {
    "duration": 22,
    "start_time": "2025-02-20T19:19:40.938Z"
   },
   {
    "duration": 22,
    "start_time": "2025-02-20T19:19:40.961Z"
   },
   {
    "duration": 7,
    "start_time": "2025-02-20T19:19:40.985Z"
   },
   {
    "duration": 11,
    "start_time": "2025-02-20T19:19:40.994Z"
   },
   {
    "duration": 126,
    "start_time": "2025-02-20T19:19:41.007Z"
   },
   {
    "duration": 0,
    "start_time": "2025-02-20T19:19:41.134Z"
   },
   {
    "duration": 0,
    "start_time": "2025-02-20T19:19:41.135Z"
   },
   {
    "duration": 0,
    "start_time": "2025-02-20T19:19:41.137Z"
   },
   {
    "duration": 0,
    "start_time": "2025-02-20T19:19:41.138Z"
   },
   {
    "duration": 0,
    "start_time": "2025-02-20T19:19:41.148Z"
   },
   {
    "duration": 0,
    "start_time": "2025-02-20T19:19:41.149Z"
   },
   {
    "duration": 0,
    "start_time": "2025-02-20T19:19:41.150Z"
   },
   {
    "duration": 0,
    "start_time": "2025-02-20T19:19:41.151Z"
   },
   {
    "duration": 0,
    "start_time": "2025-02-20T19:19:41.152Z"
   },
   {
    "duration": 0,
    "start_time": "2025-02-20T19:19:41.153Z"
   },
   {
    "duration": 0,
    "start_time": "2025-02-20T19:19:41.154Z"
   },
   {
    "duration": 0,
    "start_time": "2025-02-20T19:19:41.155Z"
   },
   {
    "duration": 0,
    "start_time": "2025-02-20T19:19:41.156Z"
   },
   {
    "duration": 0,
    "start_time": "2025-02-20T19:19:41.158Z"
   },
   {
    "duration": 0,
    "start_time": "2025-02-20T19:19:41.159Z"
   },
   {
    "duration": 0,
    "start_time": "2025-02-20T19:19:41.160Z"
   },
   {
    "duration": 0,
    "start_time": "2025-02-20T19:19:41.161Z"
   },
   {
    "duration": 0,
    "start_time": "2025-02-20T19:19:41.162Z"
   },
   {
    "duration": 0,
    "start_time": "2025-02-20T19:19:41.163Z"
   },
   {
    "duration": 0,
    "start_time": "2025-02-20T19:19:41.164Z"
   },
   {
    "duration": 0,
    "start_time": "2025-02-20T19:19:41.165Z"
   },
   {
    "duration": 0,
    "start_time": "2025-02-20T19:19:41.167Z"
   },
   {
    "duration": 0,
    "start_time": "2025-02-20T19:19:41.168Z"
   },
   {
    "duration": 220405,
    "start_time": "2025-02-20T19:20:33.637Z"
   },
   {
    "duration": 3,
    "start_time": "2025-02-20T19:33:28.968Z"
   },
   {
    "duration": 429996,
    "start_time": "2025-02-20T19:33:30.634Z"
   },
   {
    "duration": 438518,
    "start_time": "2025-02-20T19:40:53.532Z"
   },
   {
    "duration": 3,
    "start_time": "2025-02-20T19:51:03.801Z"
   },
   {
    "duration": 115,
    "start_time": "2025-02-20T19:51:17.598Z"
   },
   {
    "duration": 2856,
    "start_time": "2025-02-20T19:55:58.376Z"
   },
   {
    "duration": 2,
    "start_time": "2025-02-20T19:56:01.235Z"
   },
   {
    "duration": 11,
    "start_time": "2025-02-20T19:56:01.239Z"
   },
   {
    "duration": 26,
    "start_time": "2025-02-20T19:56:01.252Z"
   },
   {
    "duration": 9,
    "start_time": "2025-02-20T19:56:01.280Z"
   },
   {
    "duration": 2566,
    "start_time": "2025-02-20T19:56:01.291Z"
   },
   {
    "duration": 2264,
    "start_time": "2025-02-20T19:56:03.860Z"
   },
   {
    "duration": 1380,
    "start_time": "2025-02-20T19:56:06.126Z"
   },
   {
    "duration": 3,
    "start_time": "2025-02-20T19:56:07.508Z"
   },
   {
    "duration": 1028,
    "start_time": "2025-02-20T19:56:07.512Z"
   },
   {
    "duration": 125,
    "start_time": "2025-02-20T19:56:08.541Z"
   },
   {
    "duration": 2,
    "start_time": "2025-02-20T19:56:08.668Z"
   },
   {
    "duration": 205,
    "start_time": "2025-02-20T19:56:08.672Z"
   },
   {
    "duration": 29,
    "start_time": "2025-02-20T19:56:08.880Z"
   },
   {
    "duration": 136,
    "start_time": "2025-02-20T19:56:08.910Z"
   },
   {
    "duration": 165,
    "start_time": "2025-02-20T19:56:09.048Z"
   },
   {
    "duration": 296,
    "start_time": "2025-02-20T19:56:09.215Z"
   },
   {
    "duration": 66,
    "start_time": "2025-02-20T19:56:09.513Z"
   },
   {
    "duration": 9,
    "start_time": "2025-02-20T19:56:09.580Z"
   },
   {
    "duration": 19,
    "start_time": "2025-02-20T19:56:09.590Z"
   },
   {
    "duration": 80,
    "start_time": "2025-02-20T19:56:09.611Z"
   },
   {
    "duration": 183,
    "start_time": "2025-02-20T19:56:09.693Z"
   },
   {
    "duration": 24,
    "start_time": "2025-02-20T19:56:09.878Z"
   },
   {
    "duration": 68,
    "start_time": "2025-02-20T19:56:09.904Z"
   },
   {
    "duration": 40,
    "start_time": "2025-02-20T19:56:09.973Z"
   },
   {
    "duration": 31,
    "start_time": "2025-02-20T19:56:10.015Z"
   },
   {
    "duration": 29,
    "start_time": "2025-02-20T19:56:10.048Z"
   },
   {
    "duration": 8,
    "start_time": "2025-02-20T19:56:10.078Z"
   },
   {
    "duration": 376,
    "start_time": "2025-02-20T19:56:10.088Z"
   },
   {
    "duration": 264,
    "start_time": "2025-02-20T19:56:10.465Z"
   },
   {
    "duration": 184,
    "start_time": "2025-02-20T19:56:10.731Z"
   },
   {
    "duration": 789,
    "start_time": "2025-02-20T19:56:10.917Z"
   },
   {
    "duration": 522,
    "start_time": "2025-02-20T19:56:11.707Z"
   },
   {
    "duration": 514,
    "start_time": "2025-02-20T19:56:12.230Z"
   },
   {
    "duration": 18,
    "start_time": "2025-02-20T19:56:12.746Z"
   },
   {
    "duration": 5,
    "start_time": "2025-02-20T19:56:12.765Z"
   },
   {
    "duration": 4952,
    "start_time": "2025-02-20T19:56:12.771Z"
   },
   {
    "duration": 170,
    "start_time": "2025-02-20T19:56:17.724Z"
   },
   {
    "duration": 5,
    "start_time": "2025-02-20T19:56:17.895Z"
   },
   {
    "duration": 180,
    "start_time": "2025-02-20T19:56:17.901Z"
   },
   {
    "duration": 37,
    "start_time": "2025-02-20T19:56:18.085Z"
   },
   {
    "duration": 68,
    "start_time": "2025-02-20T19:56:18.124Z"
   },
   {
    "duration": 31,
    "start_time": "2025-02-20T19:56:18.193Z"
   },
   {
    "duration": 39,
    "start_time": "2025-02-20T19:56:18.226Z"
   },
   {
    "duration": 18,
    "start_time": "2025-02-20T19:56:18.267Z"
   },
   {
    "duration": 5,
    "start_time": "2025-02-20T19:56:18.286Z"
   },
   {
    "duration": 28490,
    "start_time": "2025-02-20T19:56:18.293Z"
   },
   {
    "duration": 25621,
    "start_time": "2025-02-20T19:56:46.849Z"
   },
   {
    "duration": 18116,
    "start_time": "2025-02-20T19:57:12.472Z"
   },
   {
    "duration": 3,
    "start_time": "2025-02-20T19:57:30.590Z"
   },
   {
    "duration": 25982,
    "start_time": "2025-02-20T19:57:30.594Z"
   },
   {
    "duration": 1765,
    "start_time": "2025-02-20T19:57:56.577Z"
   },
   {
    "duration": 306838,
    "start_time": "2025-02-20T19:57:58.343Z"
   },
   {
    "duration": 194366,
    "start_time": "2025-02-20T20:03:05.183Z"
   },
   {
    "duration": 18191,
    "start_time": "2025-02-20T20:06:19.551Z"
   },
   {
    "duration": 3,
    "start_time": "2025-02-20T20:06:37.744Z"
   },
   {
    "duration": 57594,
    "start_time": "2025-02-20T20:06:37.749Z"
   },
   {
    "duration": 121,
    "start_time": "2025-02-20T20:07:35.348Z"
   },
   {
    "duration": 0,
    "start_time": "2025-02-20T20:07:35.471Z"
   },
   {
    "duration": 0,
    "start_time": "2025-02-20T20:07:35.472Z"
   },
   {
    "duration": 0,
    "start_time": "2025-02-20T20:07:35.473Z"
   },
   {
    "duration": 0,
    "start_time": "2025-02-20T20:07:35.474Z"
   },
   {
    "duration": 0,
    "start_time": "2025-02-20T20:07:35.475Z"
   },
   {
    "duration": 0,
    "start_time": "2025-02-20T20:07:35.476Z"
   },
   {
    "duration": 0,
    "start_time": "2025-02-20T20:07:35.477Z"
   },
   {
    "duration": 0,
    "start_time": "2025-02-20T20:07:35.478Z"
   },
   {
    "duration": 0,
    "start_time": "2025-02-20T20:07:35.479Z"
   },
   {
    "duration": 4,
    "start_time": "2025-02-20T20:09:31.729Z"
   },
   {
    "duration": 1551,
    "start_time": "2025-02-20T20:09:39.497Z"
   },
   {
    "duration": 2,
    "start_time": "2025-02-20T20:09:41.050Z"
   },
   {
    "duration": 10,
    "start_time": "2025-02-20T20:09:41.358Z"
   },
   {
    "duration": 9,
    "start_time": "2025-02-20T20:09:41.834Z"
   },
   {
    "duration": 4,
    "start_time": "2025-02-20T20:09:42.413Z"
   },
   {
    "duration": 1369,
    "start_time": "2025-02-20T20:10:08.114Z"
   },
   {
    "duration": 89,
    "start_time": "2025-02-20T20:10:53.698Z"
   },
   {
    "duration": 10,
    "start_time": "2025-02-20T20:10:59.773Z"
   },
   {
    "duration": 1645,
    "start_time": "2025-02-20T20:11:42.345Z"
   },
   {
    "duration": 22,
    "start_time": "2025-02-20T20:13:51.537Z"
   },
   {
    "duration": 3,
    "start_time": "2025-02-20T20:13:53.616Z"
   },
   {
    "duration": 2465,
    "start_time": "2025-02-20T20:13:54.589Z"
   },
   {
    "duration": 88,
    "start_time": "2025-02-20T20:15:11.098Z"
   },
   {
    "duration": 1223,
    "start_time": "2025-02-20T20:15:56.458Z"
   },
   {
    "duration": 1534,
    "start_time": "2025-02-20T20:16:43.891Z"
   },
   {
    "duration": 104,
    "start_time": "2025-02-20T20:20:08.109Z"
   },
   {
    "duration": 1531,
    "start_time": "2025-02-20T20:20:16.067Z"
   },
   {
    "duration": 7977,
    "start_time": "2025-02-20T20:25:48.629Z"
   },
   {
    "duration": 5,
    "start_time": "2025-02-20T20:25:59.222Z"
   },
   {
    "duration": 1603,
    "start_time": "2025-02-20T20:26:17.726Z"
   },
   {
    "duration": 8,
    "start_time": "2025-02-20T20:28:09.817Z"
   },
   {
    "duration": 9,
    "start_time": "2025-02-20T20:28:12.882Z"
   },
   {
    "duration": 11,
    "start_time": "2025-02-20T20:31:04.694Z"
   },
   {
    "duration": 5,
    "start_time": "2025-02-20T20:31:17.040Z"
   },
   {
    "duration": 3,
    "start_time": "2025-02-20T20:31:18.702Z"
   },
   {
    "duration": 358,
    "start_time": "2025-02-20T20:31:19.629Z"
   },
   {
    "duration": 92,
    "start_time": "2025-02-20T20:39:47.097Z"
   },
   {
    "duration": 10,
    "start_time": "2025-02-20T20:39:53.075Z"
   },
   {
    "duration": 1663,
    "start_time": "2025-02-20T20:39:59.618Z"
   },
   {
    "duration": 11745,
    "start_time": "2025-02-20T20:41:46.781Z"
   },
   {
    "duration": 4,
    "start_time": "2025-02-20T20:44:00.424Z"
   },
   {
    "duration": 10800,
    "start_time": "2025-02-20T20:45:34.310Z"
   },
   {
    "duration": 19,
    "start_time": "2025-02-20T20:47:07.293Z"
   },
   {
    "duration": 10473,
    "start_time": "2025-02-20T20:47:52.153Z"
   },
   {
    "duration": 77,
    "start_time": "2025-02-20T20:50:39.763Z"
   },
   {
    "duration": 2182,
    "start_time": "2025-02-20T20:51:10.969Z"
   },
   {
    "duration": 7,
    "start_time": "2025-02-20T20:51:48.226Z"
   },
   {
    "duration": 4,
    "start_time": "2025-02-20T21:58:04.566Z"
   },
   {
    "duration": 351,
    "start_time": "2025-02-20T21:58:09.268Z"
   },
   {
    "duration": 7,
    "start_time": "2025-02-20T22:02:44.060Z"
   },
   {
    "duration": 2989,
    "start_time": "2025-02-20T22:11:10.769Z"
   },
   {
    "duration": 2638,
    "start_time": "2025-02-20T22:11:13.760Z"
   },
   {
    "duration": 2439,
    "start_time": "2025-02-20T22:11:16.400Z"
   },
   {
    "duration": 1484,
    "start_time": "2025-02-20T22:11:18.841Z"
   },
   {
    "duration": 2,
    "start_time": "2025-02-20T22:11:20.328Z"
   },
   {
    "duration": 1138,
    "start_time": "2025-02-20T22:11:20.332Z"
   },
   {
    "duration": 130,
    "start_time": "2025-02-20T22:11:21.472Z"
   },
   {
    "duration": 2,
    "start_time": "2025-02-20T22:11:21.604Z"
   },
   {
    "duration": 210,
    "start_time": "2025-02-20T22:11:21.608Z"
   },
   {
    "duration": 115,
    "start_time": "2025-02-20T22:11:21.819Z"
   },
   {
    "duration": 212,
    "start_time": "2025-02-20T22:11:21.936Z"
   },
   {
    "duration": 302,
    "start_time": "2025-02-20T22:11:22.150Z"
   },
   {
    "duration": 65,
    "start_time": "2025-02-20T22:11:22.454Z"
   },
   {
    "duration": 84,
    "start_time": "2025-02-20T22:11:22.522Z"
   },
   {
    "duration": 12,
    "start_time": "2025-02-20T22:11:22.608Z"
   },
   {
    "duration": 8,
    "start_time": "2025-02-20T22:11:22.621Z"
   },
   {
    "duration": 67,
    "start_time": "2025-02-20T22:11:22.631Z"
   },
   {
    "duration": 25,
    "start_time": "2025-02-20T22:11:22.700Z"
   },
   {
    "duration": 33,
    "start_time": "2025-02-20T22:11:22.726Z"
   },
   {
    "duration": 8,
    "start_time": "2025-02-20T22:11:22.760Z"
   },
   {
    "duration": 31,
    "start_time": "2025-02-20T22:11:22.769Z"
   },
   {
    "duration": 357,
    "start_time": "2025-02-20T22:11:22.802Z"
   },
   {
    "duration": 264,
    "start_time": "2025-02-20T22:11:23.161Z"
   },
   {
    "duration": 836,
    "start_time": "2025-02-20T22:11:23.426Z"
   },
   {
    "duration": 589,
    "start_time": "2025-02-20T22:11:24.263Z"
   },
   {
    "duration": 19,
    "start_time": "2025-02-20T22:11:24.854Z"
   },
   {
    "duration": 31,
    "start_time": "2025-02-20T22:11:24.874Z"
   },
   {
    "duration": 3,
    "start_time": "2025-02-20T22:11:24.907Z"
   },
   {
    "duration": 4643,
    "start_time": "2025-02-20T22:11:24.911Z"
   },
   {
    "duration": 174,
    "start_time": "2025-02-20T22:11:29.555Z"
   },
   {
    "duration": 5,
    "start_time": "2025-02-20T22:11:29.730Z"
   },
   {
    "duration": 193,
    "start_time": "2025-02-20T22:11:29.747Z"
   },
   {
    "duration": 40,
    "start_time": "2025-02-20T22:11:29.947Z"
   },
   {
    "duration": 77,
    "start_time": "2025-02-20T22:11:29.989Z"
   },
   {
    "duration": 57,
    "start_time": "2025-02-20T22:11:30.068Z"
   },
   {
    "duration": 154,
    "start_time": "2025-02-20T22:11:30.127Z"
   },
   {
    "duration": 37,
    "start_time": "2025-02-20T22:11:30.283Z"
   },
   {
    "duration": 82,
    "start_time": "2025-02-20T22:11:30.322Z"
   },
   {
    "duration": 30448,
    "start_time": "2025-02-20T22:11:30.406Z"
   },
   {
    "duration": 28897,
    "start_time": "2025-02-20T22:12:00.858Z"
   },
   {
    "duration": 20235,
    "start_time": "2025-02-20T22:12:29.760Z"
   },
   {
    "duration": 4,
    "start_time": "2025-02-20T22:12:49.996Z"
   },
   {
    "duration": 28182,
    "start_time": "2025-02-20T22:12:50.001Z"
   },
   {
    "duration": 1736,
    "start_time": "2025-02-20T22:13:18.185Z"
   },
   {
    "duration": 2865,
    "start_time": "2025-02-20T22:14:55.197Z"
   },
   {
    "duration": 2931,
    "start_time": "2025-02-20T22:14:58.065Z"
   },
   {
    "duration": 2593,
    "start_time": "2025-02-20T22:15:00.998Z"
   },
   {
    "duration": 1530,
    "start_time": "2025-02-20T22:15:03.593Z"
   },
   {
    "duration": 2,
    "start_time": "2025-02-20T22:15:05.126Z"
   },
   {
    "duration": 1096,
    "start_time": "2025-02-20T22:15:05.130Z"
   },
   {
    "duration": 127,
    "start_time": "2025-02-20T22:15:06.228Z"
   },
   {
    "duration": 3,
    "start_time": "2025-02-20T22:15:06.357Z"
   },
   {
    "duration": 242,
    "start_time": "2025-02-20T22:15:06.362Z"
   },
   {
    "duration": 5,
    "start_time": "2025-02-20T22:15:06.606Z"
   },
   {
    "duration": 237,
    "start_time": "2025-02-20T22:15:06.612Z"
   },
   {
    "duration": 185,
    "start_time": "2025-02-20T22:15:06.850Z"
   },
   {
    "duration": 336,
    "start_time": "2025-02-20T22:15:07.037Z"
   },
   {
    "duration": 75,
    "start_time": "2025-02-20T22:15:07.376Z"
   },
   {
    "duration": 4,
    "start_time": "2025-02-20T22:15:07.452Z"
   },
   {
    "duration": 123,
    "start_time": "2025-02-20T22:15:07.458Z"
   },
   {
    "duration": 136,
    "start_time": "2025-02-20T22:15:07.583Z"
   },
   {
    "duration": 172,
    "start_time": "2025-02-20T22:15:07.720Z"
   },
   {
    "duration": 105,
    "start_time": "2025-02-20T22:15:07.893Z"
   },
   {
    "duration": 28,
    "start_time": "2025-02-20T22:15:08.000Z"
   },
   {
    "duration": 7,
    "start_time": "2025-02-20T22:15:08.029Z"
   },
   {
    "duration": 111,
    "start_time": "2025-02-20T22:15:08.037Z"
   },
   {
    "duration": 321,
    "start_time": "2025-02-20T22:15:08.150Z"
   },
   {
    "duration": 277,
    "start_time": "2025-02-20T22:15:08.472Z"
   },
   {
    "duration": 814,
    "start_time": "2025-02-20T22:15:08.751Z"
   },
   {
    "duration": 585,
    "start_time": "2025-02-20T22:15:09.567Z"
   },
   {
    "duration": 17,
    "start_time": "2025-02-20T22:15:10.154Z"
   },
   {
    "duration": 69,
    "start_time": "2025-02-20T22:15:10.173Z"
   },
   {
    "duration": 4,
    "start_time": "2025-02-20T22:15:10.243Z"
   },
   {
    "duration": 4275,
    "start_time": "2025-02-20T22:15:10.248Z"
   },
   {
    "duration": 169,
    "start_time": "2025-02-20T22:15:14.525Z"
   },
   {
    "duration": 6,
    "start_time": "2025-02-20T22:15:14.696Z"
   },
   {
    "duration": 143,
    "start_time": "2025-02-20T22:15:14.704Z"
   },
   {
    "duration": 48,
    "start_time": "2025-02-20T22:15:14.849Z"
   },
   {
    "duration": 82,
    "start_time": "2025-02-20T22:15:14.899Z"
   },
   {
    "duration": 22,
    "start_time": "2025-02-20T22:15:14.983Z"
   },
   {
    "duration": 102,
    "start_time": "2025-02-20T22:15:15.007Z"
   },
   {
    "duration": 44,
    "start_time": "2025-02-20T22:15:15.111Z"
   },
   {
    "duration": 49,
    "start_time": "2025-02-20T22:15:15.156Z"
   },
   {
    "duration": 28366,
    "start_time": "2025-02-20T22:15:15.207Z"
   },
   {
    "duration": 3234,
    "start_time": "2025-02-20T22:16:06.516Z"
   },
   {
    "duration": 2603,
    "start_time": "2025-02-20T22:16:09.752Z"
   },
   {
    "duration": 2277,
    "start_time": "2025-02-20T22:16:12.356Z"
   },
   {
    "duration": 1369,
    "start_time": "2025-02-20T22:16:14.634Z"
   },
   {
    "duration": 2,
    "start_time": "2025-02-20T22:16:16.006Z"
   },
   {
    "duration": 985,
    "start_time": "2025-02-20T22:16:16.009Z"
   },
   {
    "duration": 129,
    "start_time": "2025-02-20T22:16:16.996Z"
   },
   {
    "duration": 3,
    "start_time": "2025-02-20T22:16:17.127Z"
   },
   {
    "duration": 196,
    "start_time": "2025-02-20T22:16:17.131Z"
   },
   {
    "duration": 7,
    "start_time": "2025-02-20T22:16:17.328Z"
   },
   {
    "duration": 110,
    "start_time": "2025-02-20T22:16:17.347Z"
   },
   {
    "duration": 184,
    "start_time": "2025-02-20T22:16:17.458Z"
   },
   {
    "duration": 313,
    "start_time": "2025-02-20T22:16:17.644Z"
   },
   {
    "duration": 64,
    "start_time": "2025-02-20T22:16:17.960Z"
   },
   {
    "duration": 75,
    "start_time": "2025-02-20T22:16:18.025Z"
   },
   {
    "duration": 4,
    "start_time": "2025-02-20T22:16:18.101Z"
   },
   {
    "duration": 12,
    "start_time": "2025-02-20T22:16:18.106Z"
   },
   {
    "duration": 49,
    "start_time": "2025-02-20T22:16:18.119Z"
   },
   {
    "duration": 24,
    "start_time": "2025-02-20T22:16:18.169Z"
   },
   {
    "duration": 72,
    "start_time": "2025-02-20T22:16:18.195Z"
   },
   {
    "duration": 10,
    "start_time": "2025-02-20T22:16:18.270Z"
   },
   {
    "duration": 43,
    "start_time": "2025-02-20T22:16:18.282Z"
   },
   {
    "duration": 300,
    "start_time": "2025-02-20T22:16:18.326Z"
   },
   {
    "duration": 259,
    "start_time": "2025-02-20T22:16:18.628Z"
   },
   {
    "duration": 787,
    "start_time": "2025-02-20T22:16:18.889Z"
   },
   {
    "duration": 542,
    "start_time": "2025-02-20T22:16:19.678Z"
   },
   {
    "duration": 18,
    "start_time": "2025-02-20T22:16:20.222Z"
   },
   {
    "duration": 26,
    "start_time": "2025-02-20T22:16:20.242Z"
   },
   {
    "duration": 3,
    "start_time": "2025-02-20T22:16:20.270Z"
   },
   {
    "duration": 4297,
    "start_time": "2025-02-20T22:16:20.274Z"
   },
   {
    "duration": 168,
    "start_time": "2025-02-20T22:16:24.572Z"
   },
   {
    "duration": 9,
    "start_time": "2025-02-20T22:16:24.742Z"
   },
   {
    "duration": 134,
    "start_time": "2025-02-20T22:16:24.752Z"
   },
   {
    "duration": 45,
    "start_time": "2025-02-20T22:16:24.888Z"
   },
   {
    "duration": 68,
    "start_time": "2025-02-20T22:16:24.934Z"
   },
   {
    "duration": 20,
    "start_time": "2025-02-20T22:16:25.003Z"
   },
   {
    "duration": 32,
    "start_time": "2025-02-20T22:16:25.024Z"
   },
   {
    "duration": 6,
    "start_time": "2025-02-20T22:16:25.057Z"
   },
   {
    "duration": 4,
    "start_time": "2025-02-20T22:16:25.064Z"
   },
   {
    "duration": 27378,
    "start_time": "2025-02-20T22:16:25.069Z"
   },
   {
    "duration": 26397,
    "start_time": "2025-02-20T22:16:52.454Z"
   },
   {
    "duration": 18440,
    "start_time": "2025-02-20T22:17:18.854Z"
   },
   {
    "duration": 3,
    "start_time": "2025-02-20T22:17:37.296Z"
   },
   {
    "duration": 2746,
    "start_time": "2025-02-20T22:18:00.168Z"
   },
   {
    "duration": 2457,
    "start_time": "2025-02-20T22:18:02.916Z"
   },
   {
    "duration": 2234,
    "start_time": "2025-02-20T22:18:05.375Z"
   },
   {
    "duration": 1561,
    "start_time": "2025-02-20T22:18:07.611Z"
   },
   {
    "duration": 3,
    "start_time": "2025-02-20T22:18:09.174Z"
   },
   {
    "duration": 1458,
    "start_time": "2025-02-20T22:18:09.179Z"
   },
   {
    "duration": 114,
    "start_time": "2025-02-20T22:18:10.638Z"
   },
   {
    "duration": 3,
    "start_time": "2025-02-20T22:18:10.754Z"
   },
   {
    "duration": 195,
    "start_time": "2025-02-20T22:18:10.758Z"
   },
   {
    "duration": 4,
    "start_time": "2025-02-20T22:18:10.955Z"
   },
   {
    "duration": 113,
    "start_time": "2025-02-20T22:18:10.961Z"
   },
   {
    "duration": 185,
    "start_time": "2025-02-20T22:18:11.076Z"
   },
   {
    "duration": 312,
    "start_time": "2025-02-20T22:18:11.262Z"
   },
   {
    "duration": 71,
    "start_time": "2025-02-20T22:18:11.577Z"
   },
   {
    "duration": 32,
    "start_time": "2025-02-20T22:18:11.650Z"
   },
   {
    "duration": 3,
    "start_time": "2025-02-20T22:18:11.684Z"
   },
   {
    "duration": 10,
    "start_time": "2025-02-20T22:18:11.688Z"
   },
   {
    "duration": 48,
    "start_time": "2025-02-20T22:18:11.700Z"
   },
   {
    "duration": 23,
    "start_time": "2025-02-20T22:18:11.749Z"
   },
   {
    "duration": 84,
    "start_time": "2025-02-20T22:18:11.774Z"
   },
   {
    "duration": 6,
    "start_time": "2025-02-20T22:18:11.860Z"
   },
   {
    "duration": 38,
    "start_time": "2025-02-20T22:18:11.868Z"
   },
   {
    "duration": 333,
    "start_time": "2025-02-20T22:18:11.908Z"
   },
   {
    "duration": 246,
    "start_time": "2025-02-20T22:18:12.243Z"
   },
   {
    "duration": 776,
    "start_time": "2025-02-20T22:18:12.490Z"
   },
   {
    "duration": 549,
    "start_time": "2025-02-20T22:18:13.267Z"
   },
   {
    "duration": 17,
    "start_time": "2025-02-20T22:18:13.818Z"
   },
   {
    "duration": 28,
    "start_time": "2025-02-20T22:18:13.837Z"
   },
   {
    "duration": 2,
    "start_time": "2025-02-20T22:18:13.867Z"
   },
   {
    "duration": 4244,
    "start_time": "2025-02-20T22:18:13.871Z"
   },
   {
    "duration": 193,
    "start_time": "2025-02-20T22:18:18.116Z"
   },
   {
    "duration": 5,
    "start_time": "2025-02-20T22:18:18.311Z"
   },
   {
    "duration": 139,
    "start_time": "2025-02-20T22:18:18.317Z"
   },
   {
    "duration": 36,
    "start_time": "2025-02-20T22:18:18.458Z"
   },
   {
    "duration": 76,
    "start_time": "2025-02-20T22:18:18.495Z"
   },
   {
    "duration": 20,
    "start_time": "2025-02-20T22:18:18.573Z"
   },
   {
    "duration": 81,
    "start_time": "2025-02-20T22:18:18.594Z"
   },
   {
    "duration": 9,
    "start_time": "2025-02-20T22:18:18.677Z"
   },
   {
    "duration": 5,
    "start_time": "2025-02-20T22:18:18.687Z"
   },
   {
    "duration": 27553,
    "start_time": "2025-02-20T22:18:18.694Z"
   },
   {
    "duration": 25095,
    "start_time": "2025-02-20T22:18:46.253Z"
   },
   {
    "duration": 18655,
    "start_time": "2025-02-20T22:19:11.349Z"
   },
   {
    "duration": 3,
    "start_time": "2025-02-20T22:19:30.006Z"
   },
   {
    "duration": 26870,
    "start_time": "2025-02-20T22:19:30.010Z"
   },
   {
    "duration": 1735,
    "start_time": "2025-02-20T22:19:56.881Z"
   },
   {
    "duration": 311039,
    "start_time": "2025-02-20T22:19:58.617Z"
   },
   {
    "duration": 194690,
    "start_time": "2025-02-20T22:25:09.658Z"
   },
   {
    "duration": 16747,
    "start_time": "2025-02-20T22:28:24.350Z"
   },
   {
    "duration": 3,
    "start_time": "2025-02-20T22:28:41.099Z"
   },
   {
    "duration": 53737,
    "start_time": "2025-02-20T22:28:41.103Z"
   },
   {
    "duration": 1495,
    "start_time": "2025-02-20T22:29:34.841Z"
   },
   {
    "duration": 11,
    "start_time": "2025-02-20T22:29:36.337Z"
   },
   {
    "duration": 9,
    "start_time": "2025-02-20T22:29:36.350Z"
   },
   {
    "duration": 377,
    "start_time": "2025-02-20T22:29:36.360Z"
   },
   {
    "duration": 2744,
    "start_time": "2025-02-20T22:54:39.148Z"
   },
   {
    "duration": 2525,
    "start_time": "2025-02-20T22:54:41.894Z"
   },
   {
    "duration": 2253,
    "start_time": "2025-02-20T22:54:44.423Z"
   },
   {
    "duration": 1306,
    "start_time": "2025-02-20T22:54:46.678Z"
   },
   {
    "duration": 3,
    "start_time": "2025-02-20T22:54:47.985Z"
   },
   {
    "duration": 1007,
    "start_time": "2025-02-20T22:54:47.989Z"
   },
   {
    "duration": 121,
    "start_time": "2025-02-20T22:54:48.997Z"
   },
   {
    "duration": 3,
    "start_time": "2025-02-20T22:54:49.119Z"
   },
   {
    "duration": 199,
    "start_time": "2025-02-20T22:54:49.123Z"
   },
   {
    "duration": 5,
    "start_time": "2025-02-20T22:54:49.324Z"
   },
   {
    "duration": 110,
    "start_time": "2025-02-20T22:54:49.330Z"
   },
   {
    "duration": 186,
    "start_time": "2025-02-20T22:54:49.441Z"
   },
   {
    "duration": 323,
    "start_time": "2025-02-20T22:54:49.630Z"
   },
   {
    "duration": 64,
    "start_time": "2025-02-20T22:54:49.954Z"
   },
   {
    "duration": 4,
    "start_time": "2025-02-20T22:54:50.019Z"
   },
   {
    "duration": 20,
    "start_time": "2025-02-20T22:54:50.024Z"
   },
   {
    "duration": 5,
    "start_time": "2025-02-20T22:54:50.045Z"
   },
   {
    "duration": 47,
    "start_time": "2025-02-20T22:54:50.052Z"
   },
   {
    "duration": 23,
    "start_time": "2025-02-20T22:54:50.100Z"
   },
   {
    "duration": 48,
    "start_time": "2025-02-20T22:54:50.124Z"
   },
   {
    "duration": 6,
    "start_time": "2025-02-20T22:54:50.174Z"
   },
   {
    "duration": 91,
    "start_time": "2025-02-20T22:54:50.182Z"
   },
   {
    "duration": 308,
    "start_time": "2025-02-20T22:54:50.274Z"
   },
   {
    "duration": 236,
    "start_time": "2025-02-20T22:54:50.583Z"
   },
   {
    "duration": 784,
    "start_time": "2025-02-20T22:54:50.821Z"
   },
   {
    "duration": 541,
    "start_time": "2025-02-20T22:54:51.607Z"
   },
   {
    "duration": 19,
    "start_time": "2025-02-20T22:54:52.150Z"
   },
   {
    "duration": 102,
    "start_time": "2025-02-20T22:54:52.171Z"
   },
   {
    "duration": 102,
    "start_time": "2025-02-20T22:54:52.275Z"
   },
   {
    "duration": 4269,
    "start_time": "2025-02-20T22:54:52.379Z"
   },
   {
    "duration": 166,
    "start_time": "2025-02-20T22:54:56.649Z"
   },
   {
    "duration": 5,
    "start_time": "2025-02-20T22:54:56.816Z"
   },
   {
    "duration": 157,
    "start_time": "2025-02-20T22:54:56.822Z"
   },
   {
    "duration": 34,
    "start_time": "2025-02-20T22:54:56.981Z"
   },
   {
    "duration": 74,
    "start_time": "2025-02-20T22:54:57.017Z"
   },
   {
    "duration": 20,
    "start_time": "2025-02-20T22:54:57.092Z"
   },
   {
    "duration": 18,
    "start_time": "2025-02-20T22:54:57.113Z"
   },
   {
    "duration": 17,
    "start_time": "2025-02-20T22:54:57.132Z"
   },
   {
    "duration": 7,
    "start_time": "2025-02-20T22:54:57.151Z"
   },
   {
    "duration": 27908,
    "start_time": "2025-02-20T22:54:57.161Z"
   },
   {
    "duration": 25196,
    "start_time": "2025-02-20T22:55:25.153Z"
   },
   {
    "duration": 18340,
    "start_time": "2025-02-20T22:55:50.351Z"
   },
   {
    "duration": 3,
    "start_time": "2025-02-20T22:56:08.693Z"
   },
   {
    "duration": 29757,
    "start_time": "2025-02-20T22:56:08.697Z"
   },
   {
    "duration": 1204,
    "start_time": "2025-02-20T22:56:38.456Z"
   },
   {
    "duration": 316098,
    "start_time": "2025-02-20T22:56:39.661Z"
   },
   {
    "duration": 196539,
    "start_time": "2025-02-20T23:01:55.761Z"
   },
   {
    "duration": 17229,
    "start_time": "2025-02-20T23:05:12.302Z"
   },
   {
    "duration": 3,
    "start_time": "2025-02-20T23:05:29.532Z"
   },
   {
    "duration": 54356,
    "start_time": "2025-02-20T23:05:29.537Z"
   },
   {
    "duration": 1637,
    "start_time": "2025-02-20T23:06:23.894Z"
   },
   {
    "duration": 6,
    "start_time": "2025-02-20T23:06:25.533Z"
   },
   {
    "duration": 2,
    "start_time": "2025-02-20T23:06:25.548Z"
   },
   {
    "duration": 391,
    "start_time": "2025-02-20T23:06:25.552Z"
   },
   {
    "duration": 4,
    "start_time": "2025-02-20T23:08:49.111Z"
   },
   {
    "duration": 4,
    "start_time": "2025-02-20T23:09:09.607Z"
   },
   {
    "duration": 9,
    "start_time": "2025-02-20T23:09:26.783Z"
   },
   {
    "duration": 359,
    "start_time": "2025-02-20T23:14:28.382Z"
   },
   {
    "duration": 2854,
    "start_time": "2025-02-20T23:25:47.850Z"
   },
   {
    "duration": 2510,
    "start_time": "2025-02-20T23:25:50.706Z"
   },
   {
    "duration": 2234,
    "start_time": "2025-02-20T23:25:53.218Z"
   },
   {
    "duration": 1328,
    "start_time": "2025-02-20T23:25:55.455Z"
   },
   {
    "duration": 3,
    "start_time": "2025-02-20T23:25:56.784Z"
   },
   {
    "duration": 974,
    "start_time": "2025-02-20T23:25:56.789Z"
   },
   {
    "duration": 119,
    "start_time": "2025-02-20T23:25:57.765Z"
   },
   {
    "duration": 3,
    "start_time": "2025-02-20T23:25:57.886Z"
   },
   {
    "duration": 203,
    "start_time": "2025-02-20T23:25:57.890Z"
   },
   {
    "duration": 4,
    "start_time": "2025-02-20T23:25:58.096Z"
   },
   {
    "duration": 151,
    "start_time": "2025-02-20T23:25:58.102Z"
   },
   {
    "duration": 177,
    "start_time": "2025-02-20T23:25:58.254Z"
   },
   {
    "duration": 289,
    "start_time": "2025-02-20T23:25:58.432Z"
   },
   {
    "duration": 63,
    "start_time": "2025-02-20T23:25:58.723Z"
   },
   {
    "duration": 4,
    "start_time": "2025-02-20T23:25:58.787Z"
   },
   {
    "duration": 3,
    "start_time": "2025-02-20T23:25:58.792Z"
   },
   {
    "duration": 4,
    "start_time": "2025-02-20T23:25:58.797Z"
   },
   {
    "duration": 71,
    "start_time": "2025-02-20T23:25:58.802Z"
   },
   {
    "duration": 24,
    "start_time": "2025-02-20T23:25:58.874Z"
   },
   {
    "duration": 52,
    "start_time": "2025-02-20T23:25:58.899Z"
   },
   {
    "duration": 6,
    "start_time": "2025-02-20T23:25:58.952Z"
   },
   {
    "duration": 123,
    "start_time": "2025-02-20T23:25:58.960Z"
   },
   {
    "duration": 305,
    "start_time": "2025-02-20T23:25:59.084Z"
   },
   {
    "duration": 240,
    "start_time": "2025-02-20T23:25:59.391Z"
   },
   {
    "duration": 767,
    "start_time": "2025-02-20T23:25:59.632Z"
   },
   {
    "duration": 535,
    "start_time": "2025-02-20T23:26:00.401Z"
   },
   {
    "duration": 17,
    "start_time": "2025-02-20T23:26:00.938Z"
   },
   {
    "duration": 118,
    "start_time": "2025-02-20T23:26:00.958Z"
   },
   {
    "duration": 3,
    "start_time": "2025-02-20T23:26:01.078Z"
   },
   {
    "duration": 4239,
    "start_time": "2025-02-20T23:26:01.082Z"
   },
   {
    "duration": 163,
    "start_time": "2025-02-20T23:26:05.323Z"
   },
   {
    "duration": 6,
    "start_time": "2025-02-20T23:26:05.487Z"
   },
   {
    "duration": 138,
    "start_time": "2025-02-20T23:26:05.495Z"
   },
   {
    "duration": 43,
    "start_time": "2025-02-20T23:26:05.634Z"
   },
   {
    "duration": 81,
    "start_time": "2025-02-20T23:26:05.678Z"
   },
   {
    "duration": 22,
    "start_time": "2025-02-20T23:26:05.761Z"
   },
   {
    "duration": 45,
    "start_time": "2025-02-20T23:26:05.784Z"
   },
   {
    "duration": 205,
    "start_time": "2025-02-20T23:26:05.832Z"
   },
   {
    "duration": 110,
    "start_time": "2025-02-20T23:26:06.039Z"
   },
   {
    "duration": 28498,
    "start_time": "2025-02-20T23:26:06.151Z"
   },
   {
    "duration": 25499,
    "start_time": "2025-02-20T23:26:34.651Z"
   },
   {
    "duration": 19073,
    "start_time": "2025-02-20T23:27:00.153Z"
   },
   {
    "duration": 3,
    "start_time": "2025-02-20T23:27:19.227Z"
   },
   {
    "duration": 29605,
    "start_time": "2025-02-20T23:27:19.231Z"
   },
   {
    "duration": 1182,
    "start_time": "2025-02-20T23:27:48.838Z"
   },
   {
    "duration": 311461,
    "start_time": "2025-02-20T23:27:50.022Z"
   },
   {
    "duration": 190226,
    "start_time": "2025-02-20T23:33:01.485Z"
   },
   {
    "duration": 17326,
    "start_time": "2025-02-20T23:36:11.712Z"
   },
   {
    "duration": 3,
    "start_time": "2025-02-20T23:36:29.039Z"
   },
   {
    "duration": 54754,
    "start_time": "2025-02-20T23:36:29.043Z"
   },
   {
    "duration": 1496,
    "start_time": "2025-02-20T23:37:23.799Z"
   },
   {
    "duration": 5,
    "start_time": "2025-02-20T23:37:25.297Z"
   },
   {
    "duration": 3,
    "start_time": "2025-02-20T23:37:25.303Z"
   },
   {
    "duration": 369,
    "start_time": "2025-02-20T23:37:25.308Z"
   },
   {
    "duration": 7989,
    "start_time": "2025-02-21T12:37:41.057Z"
   },
   {
    "duration": 4862,
    "start_time": "2025-02-21T12:37:49.049Z"
   },
   {
    "duration": 3827,
    "start_time": "2025-02-21T12:37:53.913Z"
   },
   {
    "duration": 1810,
    "start_time": "2025-02-21T12:37:57.743Z"
   },
   {
    "duration": 3,
    "start_time": "2025-02-21T12:37:59.554Z"
   },
   {
    "duration": 1184,
    "start_time": "2025-02-21T12:38:58.785Z"
   },
   {
    "duration": 148,
    "start_time": "2025-02-21T12:38:59.971Z"
   },
   {
    "duration": 3,
    "start_time": "2025-02-21T12:39:00.765Z"
   },
   {
    "duration": 212,
    "start_time": "2025-02-21T12:39:01.711Z"
   },
   {
    "duration": 106,
    "start_time": "2025-02-21T12:42:24.394Z"
   },
   {
    "duration": 1189,
    "start_time": "2025-02-22T09:58:26.863Z"
   },
   {
    "duration": 1350,
    "start_time": "2025-02-22T09:58:30.759Z"
   },
   {
    "duration": 3,
    "start_time": "2025-02-22T09:58:34.796Z"
   },
   {
    "duration": 164,
    "start_time": "2025-02-22T09:58:36.552Z"
   },
   {
    "duration": 282,
    "start_time": "2025-02-22T09:58:40.333Z"
   },
   {
    "duration": 617,
    "start_time": "2025-02-22T09:58:42.078Z"
   },
   {
    "duration": 22,
    "start_time": "2025-02-22T09:58:46.707Z"
   },
   {
    "duration": 3,
    "start_time": "2025-02-22T09:58:51.337Z"
   },
   {
    "duration": 75,
    "start_time": "2025-02-22T09:58:54.133Z"
   },
   {
    "duration": 756,
    "start_time": "2025-02-22T09:58:56.795Z"
   },
   {
    "duration": 178,
    "start_time": "2025-02-22T10:00:57.940Z"
   },
   {
    "duration": 21,
    "start_time": "2025-02-22T10:00:59.072Z"
   },
   {
    "duration": 649,
    "start_time": "2025-02-22T10:01:22.753Z"
   },
   {
    "duration": 63,
    "start_time": "2025-02-22T10:31:07.488Z"
   },
   {
    "duration": 6,
    "start_time": "2025-02-22T10:40:24.893Z"
   },
   {
    "duration": 4,
    "start_time": "2025-02-22T10:43:10.446Z"
   },
   {
    "duration": 2894,
    "start_time": "2025-02-22T10:46:17.764Z"
   },
   {
    "duration": 2515,
    "start_time": "2025-02-22T10:46:20.660Z"
   },
   {
    "duration": 2259,
    "start_time": "2025-02-22T10:46:23.177Z"
   },
   {
    "duration": 1373,
    "start_time": "2025-02-22T10:46:25.438Z"
   },
   {
    "duration": 3,
    "start_time": "2025-02-22T10:46:26.812Z"
   },
   {
    "duration": 1107,
    "start_time": "2025-02-22T10:46:26.816Z"
   },
   {
    "duration": 181,
    "start_time": "2025-02-22T10:46:27.924Z"
   },
   {
    "duration": 5,
    "start_time": "2025-02-22T10:46:28.107Z"
   },
   {
    "duration": 202,
    "start_time": "2025-02-22T10:46:28.113Z"
   },
   {
    "duration": 334,
    "start_time": "2025-02-22T10:46:28.317Z"
   },
   {
    "duration": 740,
    "start_time": "2025-02-22T10:46:28.653Z"
   },
   {
    "duration": 6,
    "start_time": "2025-02-22T10:46:29.394Z"
   },
   {
    "duration": 23,
    "start_time": "2025-02-22T10:46:29.401Z"
   },
   {
    "duration": 3,
    "start_time": "2025-02-22T10:46:29.426Z"
   },
   {
    "duration": 94,
    "start_time": "2025-02-22T10:46:29.430Z"
   },
   {
    "duration": 670,
    "start_time": "2025-02-22T10:46:29.525Z"
   },
   {
    "duration": 4,
    "start_time": "2025-02-22T10:46:30.197Z"
   },
   {
    "duration": 28,
    "start_time": "2025-02-22T10:46:30.203Z"
   },
   {
    "duration": 61,
    "start_time": "2025-02-22T10:46:30.233Z"
   },
   {
    "duration": 95,
    "start_time": "2025-02-22T10:46:30.295Z"
   },
   {
    "duration": 27,
    "start_time": "2025-02-22T10:46:30.391Z"
   },
   {
    "duration": 26,
    "start_time": "2025-02-22T10:46:30.419Z"
   },
   {
    "duration": 25,
    "start_time": "2025-02-22T10:46:30.446Z"
   },
   {
    "duration": 36,
    "start_time": "2025-02-22T10:46:30.473Z"
   },
   {
    "duration": 50,
    "start_time": "2025-02-22T10:46:30.510Z"
   },
   {
    "duration": 25,
    "start_time": "2025-02-22T10:46:30.562Z"
   },
   {
    "duration": 438,
    "start_time": "2025-02-22T10:46:30.588Z"
   },
   {
    "duration": 165,
    "start_time": "2025-02-22T10:46:31.028Z"
   },
   {
    "duration": 848,
    "start_time": "2025-02-22T10:46:31.195Z"
   },
   {
    "duration": 569,
    "start_time": "2025-02-22T10:46:32.044Z"
   },
   {
    "duration": 19,
    "start_time": "2025-02-22T10:46:32.614Z"
   },
   {
    "duration": 68,
    "start_time": "2025-02-22T10:46:32.634Z"
   },
   {
    "duration": 3,
    "start_time": "2025-02-22T10:46:32.704Z"
   },
   {
    "duration": 4331,
    "start_time": "2025-02-22T10:46:32.709Z"
   },
   {
    "duration": 181,
    "start_time": "2025-02-22T10:46:37.041Z"
   },
   {
    "duration": 4,
    "start_time": "2025-02-22T10:46:37.224Z"
   },
   {
    "duration": 166,
    "start_time": "2025-02-22T10:46:37.230Z"
   },
   {
    "duration": 37,
    "start_time": "2025-02-22T10:46:37.398Z"
   },
   {
    "duration": 79,
    "start_time": "2025-02-22T10:46:37.437Z"
   },
   {
    "duration": 24,
    "start_time": "2025-02-22T10:46:37.518Z"
   },
   {
    "duration": 38,
    "start_time": "2025-02-22T10:46:37.549Z"
   },
   {
    "duration": 19,
    "start_time": "2025-02-22T10:46:37.589Z"
   },
   {
    "duration": 7,
    "start_time": "2025-02-22T10:46:37.609Z"
   },
   {
    "duration": 131,
    "start_time": "2025-02-22T10:46:37.617Z"
   },
   {
    "duration": 0,
    "start_time": "2025-02-22T10:46:37.750Z"
   },
   {
    "duration": 0,
    "start_time": "2025-02-22T10:46:37.751Z"
   },
   {
    "duration": 0,
    "start_time": "2025-02-22T10:46:37.752Z"
   },
   {
    "duration": 0,
    "start_time": "2025-02-22T10:46:37.753Z"
   },
   {
    "duration": 0,
    "start_time": "2025-02-22T10:46:37.754Z"
   },
   {
    "duration": 0,
    "start_time": "2025-02-22T10:46:37.755Z"
   },
   {
    "duration": 0,
    "start_time": "2025-02-22T10:46:37.755Z"
   },
   {
    "duration": 0,
    "start_time": "2025-02-22T10:46:37.757Z"
   },
   {
    "duration": 0,
    "start_time": "2025-02-22T10:46:37.770Z"
   },
   {
    "duration": 0,
    "start_time": "2025-02-22T10:46:37.771Z"
   },
   {
    "duration": 0,
    "start_time": "2025-02-22T10:46:37.772Z"
   },
   {
    "duration": 0,
    "start_time": "2025-02-22T10:46:37.772Z"
   },
   {
    "duration": 0,
    "start_time": "2025-02-22T10:46:37.773Z"
   },
   {
    "duration": 0,
    "start_time": "2025-02-22T10:46:37.774Z"
   },
   {
    "duration": 2882,
    "start_time": "2025-02-22T10:47:56.736Z"
   },
   {
    "duration": 2598,
    "start_time": "2025-02-22T10:47:59.620Z"
   },
   {
    "duration": 2230,
    "start_time": "2025-02-22T10:48:02.221Z"
   },
   {
    "duration": 1346,
    "start_time": "2025-02-22T10:48:04.453Z"
   },
   {
    "duration": 3,
    "start_time": "2025-02-22T10:48:05.800Z"
   },
   {
    "duration": 24,
    "start_time": "2025-02-22T10:48:05.805Z"
   },
   {
    "duration": 987,
    "start_time": "2025-02-22T10:48:05.831Z"
   },
   {
    "duration": 126,
    "start_time": "2025-02-22T10:48:06.819Z"
   },
   {
    "duration": 4,
    "start_time": "2025-02-22T10:48:06.947Z"
   },
   {
    "duration": 203,
    "start_time": "2025-02-22T10:48:06.955Z"
   },
   {
    "duration": 334,
    "start_time": "2025-02-22T10:48:07.160Z"
   },
   {
    "duration": 767,
    "start_time": "2025-02-22T10:48:07.496Z"
   },
   {
    "duration": 10,
    "start_time": "2025-02-22T10:48:08.264Z"
   },
   {
    "duration": 22,
    "start_time": "2025-02-22T10:48:08.275Z"
   },
   {
    "duration": 2,
    "start_time": "2025-02-22T10:48:08.299Z"
   },
   {
    "duration": 113,
    "start_time": "2025-02-22T10:48:08.302Z"
   },
   {
    "duration": 704,
    "start_time": "2025-02-22T10:48:08.416Z"
   },
   {
    "duration": 4,
    "start_time": "2025-02-22T10:48:09.122Z"
   },
   {
    "duration": 30,
    "start_time": "2025-02-22T10:48:09.127Z"
   },
   {
    "duration": 27,
    "start_time": "2025-02-22T10:48:09.159Z"
   },
   {
    "duration": 63,
    "start_time": "2025-02-22T10:48:09.187Z"
   },
   {
    "duration": 28,
    "start_time": "2025-02-22T10:48:09.252Z"
   },
   {
    "duration": 33,
    "start_time": "2025-02-22T10:48:09.281Z"
   },
   {
    "duration": 7,
    "start_time": "2025-02-22T10:48:09.316Z"
   },
   {
    "duration": 49,
    "start_time": "2025-02-22T10:48:09.324Z"
   },
   {
    "duration": 39,
    "start_time": "2025-02-22T10:48:09.375Z"
   },
   {
    "duration": 27,
    "start_time": "2025-02-22T10:48:09.416Z"
   },
   {
    "duration": 398,
    "start_time": "2025-02-22T10:48:09.447Z"
   },
   {
    "duration": 176,
    "start_time": "2025-02-22T10:48:09.847Z"
   },
   {
    "duration": 860,
    "start_time": "2025-02-22T10:48:10.025Z"
   },
   {
    "duration": 572,
    "start_time": "2025-02-22T10:48:10.887Z"
   },
   {
    "duration": 24,
    "start_time": "2025-02-22T10:48:11.461Z"
   },
   {
    "duration": 27,
    "start_time": "2025-02-22T10:48:11.487Z"
   },
   {
    "duration": 4,
    "start_time": "2025-02-22T10:48:11.516Z"
   },
   {
    "duration": 4463,
    "start_time": "2025-02-22T10:48:11.522Z"
   },
   {
    "duration": 186,
    "start_time": "2025-02-22T10:48:15.988Z"
   },
   {
    "duration": 5,
    "start_time": "2025-02-22T10:48:16.176Z"
   },
   {
    "duration": 147,
    "start_time": "2025-02-22T10:48:16.183Z"
   },
   {
    "duration": 48,
    "start_time": "2025-02-22T10:48:16.331Z"
   },
   {
    "duration": 64,
    "start_time": "2025-02-22T10:48:16.381Z"
   },
   {
    "duration": 23,
    "start_time": "2025-02-22T10:48:16.470Z"
   },
   {
    "duration": 30,
    "start_time": "2025-02-22T10:48:16.494Z"
   },
   {
    "duration": 10,
    "start_time": "2025-02-22T10:48:16.526Z"
   },
   {
    "duration": 11,
    "start_time": "2025-02-22T10:48:16.538Z"
   },
   {
    "duration": 95621,
    "start_time": "2025-02-22T10:48:16.550Z"
   },
   {
    "duration": 60204,
    "start_time": "2025-02-22T10:49:52.173Z"
   },
   {
    "duration": 37790,
    "start_time": "2025-02-22T10:50:52.380Z"
   },
   {
    "duration": 2,
    "start_time": "2025-02-22T10:51:30.172Z"
   },
   {
    "duration": 32048,
    "start_time": "2025-02-22T10:51:30.175Z"
   },
   {
    "duration": 2875,
    "start_time": "2025-02-22T10:52:02.224Z"
   },
   {
    "duration": 806127,
    "start_time": "2025-02-22T10:52:05.101Z"
   },
   {
    "duration": 361013,
    "start_time": "2025-02-22T11:05:31.230Z"
   },
   {
    "duration": 38096,
    "start_time": "2025-02-22T11:11:32.244Z"
   },
   {
    "duration": 3,
    "start_time": "2025-02-22T11:12:10.341Z"
   },
   {
    "duration": 60452,
    "start_time": "2025-02-22T11:12:10.346Z"
   },
   {
    "duration": 3561,
    "start_time": "2025-02-22T11:13:10.799Z"
   },
   {
    "duration": 10,
    "start_time": "2025-02-22T11:13:14.362Z"
   },
   {
    "duration": 17,
    "start_time": "2025-02-22T11:13:14.374Z"
   },
   {
    "duration": 399,
    "start_time": "2025-02-22T11:13:14.393Z"
   },
   {
    "duration": 7,
    "start_time": "2025-02-22T11:18:23.626Z"
   },
   {
    "duration": 3,
    "start_time": "2025-02-22T11:18:24.799Z"
   },
   {
    "duration": 494,
    "start_time": "2025-02-22T11:18:26.340Z"
   },
   {
    "duration": 5,
    "start_time": "2025-02-22T11:18:44.838Z"
   },
   {
    "duration": 112,
    "start_time": "2025-02-22T11:18:45.714Z"
   },
   {
    "duration": 573,
    "start_time": "2025-02-22T11:20:57.029Z"
   },
   {
    "duration": 4,
    "start_time": "2025-02-22T11:21:23.358Z"
   },
   {
    "duration": 540,
    "start_time": "2025-02-22T11:21:31.292Z"
   },
   {
    "duration": 748,
    "start_time": "2025-02-22T11:21:46.587Z"
   },
   {
    "duration": 5,
    "start_time": "2025-02-22T11:23:07.158Z"
   },
   {
    "duration": 576,
    "start_time": "2025-02-22T11:23:08.555Z"
   },
   {
    "duration": 5,
    "start_time": "2025-02-22T11:23:17.179Z"
   },
   {
    "duration": 552,
    "start_time": "2025-02-22T11:23:18.700Z"
   },
   {
    "duration": 873,
    "start_time": "2025-02-22T11:23:32.056Z"
   },
   {
    "duration": 6897,
    "start_time": "2025-02-22T18:52:23.111Z"
   },
   {
    "duration": 3482,
    "start_time": "2025-02-22T18:52:30.010Z"
   },
   {
    "duration": 3084,
    "start_time": "2025-02-22T18:52:33.494Z"
   },
   {
    "duration": 2535,
    "start_time": "2025-02-22T18:52:36.581Z"
   },
   {
    "duration": 2,
    "start_time": "2025-02-22T18:52:56.926Z"
   },
   {
    "duration": 3,
    "start_time": "2025-02-22T18:52:57.539Z"
   },
   {
    "duration": 1057,
    "start_time": "2025-02-22T18:52:58.260Z"
   },
   {
    "duration": 119,
    "start_time": "2025-02-22T18:52:59.319Z"
   },
   {
    "duration": 3,
    "start_time": "2025-02-22T18:52:59.989Z"
   },
   {
    "duration": 194,
    "start_time": "2025-02-22T18:53:00.920Z"
   },
   {
    "duration": 349,
    "start_time": "2025-02-22T18:53:01.917Z"
   },
   {
    "duration": 783,
    "start_time": "2025-02-22T18:53:02.305Z"
   },
   {
    "duration": 6,
    "start_time": "2025-02-22T18:53:03.090Z"
   },
   {
    "duration": 23,
    "start_time": "2025-02-22T18:53:04.000Z"
   },
   {
    "duration": 3,
    "start_time": "2025-02-22T18:53:05.864Z"
   },
   {
    "duration": 85,
    "start_time": "2025-02-22T18:53:07.880Z"
   },
   {
    "duration": 720,
    "start_time": "2025-02-22T18:53:10.179Z"
   },
   {
    "duration": 4,
    "start_time": "2025-02-22T18:53:15.970Z"
   },
   {
    "duration": 4,
    "start_time": "2025-02-22T18:53:16.236Z"
   },
   {
    "duration": 3,
    "start_time": "2025-02-22T18:53:16.569Z"
   },
   {
    "duration": 56,
    "start_time": "2025-02-22T18:53:18.037Z"
   },
   {
    "duration": 32,
    "start_time": "2025-02-22T18:53:21.421Z"
   },
   {
    "duration": 122,
    "start_time": "2025-02-22T18:53:27.769Z"
   },
   {
    "duration": 36,
    "start_time": "2025-02-22T18:53:55.546Z"
   },
   {
    "duration": 1123,
    "start_time": "2025-02-22T18:55:05.762Z"
   },
   {
    "duration": 9,
    "start_time": "2025-02-22T18:59:04.424Z"
   },
   {
    "duration": 11,
    "start_time": "2025-02-22T18:59:44.999Z"
   },
   {
    "duration": 18,
    "start_time": "2025-02-22T18:59:53.422Z"
   },
   {
    "duration": 67,
    "start_time": "2025-02-22T19:01:35.041Z"
   },
   {
    "duration": 1300,
    "start_time": "2025-02-22T19:01:52.362Z"
   },
   {
    "duration": 33,
    "start_time": "2025-02-22T19:02:25.784Z"
   },
   {
    "duration": 153,
    "start_time": "2025-02-22T19:02:26.615Z"
   },
   {
    "duration": 102,
    "start_time": "2025-02-23T12:29:35.350Z"
   },
   {
    "duration": 45,
    "start_time": "2025-02-23T12:29:49.021Z"
   },
   {
    "duration": 7251,
    "start_time": "2025-02-23T12:30:56.033Z"
   },
   {
    "duration": 3520,
    "start_time": "2025-02-23T12:31:03.287Z"
   },
   {
    "duration": 3290,
    "start_time": "2025-02-23T12:31:06.809Z"
   },
   {
    "duration": 1694,
    "start_time": "2025-02-23T12:31:10.102Z"
   },
   {
    "duration": 3,
    "start_time": "2025-02-23T12:31:11.797Z"
   },
   {
    "duration": 23,
    "start_time": "2025-02-23T12:31:11.802Z"
   },
   {
    "duration": 1063,
    "start_time": "2025-02-23T12:31:11.827Z"
   },
   {
    "duration": 125,
    "start_time": "2025-02-23T12:31:12.892Z"
   },
   {
    "duration": 5,
    "start_time": "2025-02-23T12:31:13.019Z"
   },
   {
    "duration": 193,
    "start_time": "2025-02-23T12:31:13.027Z"
   },
   {
    "duration": 366,
    "start_time": "2025-02-23T12:31:13.221Z"
   },
   {
    "duration": 808,
    "start_time": "2025-02-23T12:31:13.588Z"
   },
   {
    "duration": 6,
    "start_time": "2025-02-23T12:31:14.397Z"
   },
   {
    "duration": 24,
    "start_time": "2025-02-23T12:31:14.404Z"
   },
   {
    "duration": 3,
    "start_time": "2025-02-23T12:31:14.429Z"
   },
   {
    "duration": 102,
    "start_time": "2025-02-23T12:31:14.434Z"
   },
   {
    "duration": 778,
    "start_time": "2025-02-23T12:31:14.538Z"
   },
   {
    "duration": 4,
    "start_time": "2025-02-23T12:31:15.318Z"
   },
   {
    "duration": 22,
    "start_time": "2025-02-23T12:31:15.324Z"
   },
   {
    "duration": 5,
    "start_time": "2025-02-23T12:31:15.348Z"
   },
   {
    "duration": 63,
    "start_time": "2025-02-23T12:31:15.358Z"
   },
   {
    "duration": 38,
    "start_time": "2025-02-23T12:31:15.422Z"
   },
   {
    "duration": 29,
    "start_time": "2025-02-23T12:31:15.461Z"
   },
   {
    "duration": 8,
    "start_time": "2025-02-23T12:31:15.492Z"
   },
   {
    "duration": 70,
    "start_time": "2025-02-23T12:31:15.502Z"
   },
   {
    "duration": 43,
    "start_time": "2025-02-23T12:31:15.574Z"
   },
   {
    "duration": 98,
    "start_time": "2025-02-23T12:31:15.619Z"
   },
   {
    "duration": 408,
    "start_time": "2025-02-23T12:31:15.721Z"
   },
   {
    "duration": 194,
    "start_time": "2025-02-23T12:31:16.131Z"
   },
   {
    "duration": 975,
    "start_time": "2025-02-23T12:31:16.327Z"
   },
   {
    "duration": 683,
    "start_time": "2025-02-23T12:31:17.304Z"
   },
   {
    "duration": 20,
    "start_time": "2025-02-23T12:31:17.988Z"
   },
   {
    "duration": 38,
    "start_time": "2025-02-23T12:31:18.010Z"
   },
   {
    "duration": 3,
    "start_time": "2025-02-23T12:31:18.050Z"
   },
   {
    "duration": 4911,
    "start_time": "2025-02-23T12:31:18.054Z"
   },
   {
    "duration": 193,
    "start_time": "2025-02-23T12:31:22.966Z"
   },
   {
    "duration": 7,
    "start_time": "2025-02-23T12:31:23.161Z"
   },
   {
    "duration": 151,
    "start_time": "2025-02-23T12:31:23.170Z"
   },
   {
    "duration": 54,
    "start_time": "2025-02-23T12:31:23.322Z"
   },
   {
    "duration": 88,
    "start_time": "2025-02-23T12:31:23.378Z"
   },
   {
    "duration": 29,
    "start_time": "2025-02-23T12:31:23.469Z"
   },
   {
    "duration": 19,
    "start_time": "2025-02-23T12:31:23.500Z"
   },
   {
    "duration": 6,
    "start_time": "2025-02-23T12:31:23.521Z"
   },
   {
    "duration": 11,
    "start_time": "2025-02-23T12:31:23.562Z"
   },
   {
    "duration": 3,
    "start_time": "2025-02-23T12:31:23.576Z"
   },
   {
    "duration": 75781,
    "start_time": "2025-02-23T12:31:23.580Z"
   },
   {
    "duration": 2,
    "start_time": "2025-02-23T12:32:39.363Z"
   },
   {
    "duration": 6,
    "start_time": "2025-02-23T12:32:39.367Z"
   },
   {
    "duration": 36138,
    "start_time": "2025-02-23T12:32:39.374Z"
   },
   {
    "duration": 3039,
    "start_time": "2025-02-23T12:33:15.513Z"
   },
   {
    "duration": 4,
    "start_time": "2025-02-23T12:33:18.554Z"
   },
   {
    "duration": 11,
    "start_time": "2025-02-23T12:33:18.559Z"
   },
   {
    "duration": 40515,
    "start_time": "2025-02-23T12:33:18.571Z"
   },
   {
    "duration": 3,
    "start_time": "2025-02-23T12:33:59.088Z"
   },
   {
    "duration": 39548,
    "start_time": "2025-02-23T12:33:59.092Z"
   },
   {
    "duration": 3848,
    "start_time": "2025-02-23T12:34:38.642Z"
   },
   {
    "duration": 6,
    "start_time": "2025-02-23T12:34:42.492Z"
   },
   {
    "duration": 4,
    "start_time": "2025-02-23T12:34:42.499Z"
   },
   {
    "duration": 439,
    "start_time": "2025-02-23T12:34:42.504Z"
   },
   {
    "duration": 5,
    "start_time": "2025-02-23T12:34:42.944Z"
   },
   {
    "duration": 188,
    "start_time": "2025-02-23T12:34:42.958Z"
   },
   {
    "duration": 714,
    "start_time": "2025-02-23T12:34:43.147Z"
   },
   {
    "duration": 881,
    "start_time": "2025-02-23T12:34:43.862Z"
   },
   {
    "duration": 6,
    "start_time": "2025-02-23T12:36:58.652Z"
   },
   {
    "duration": 196,
    "start_time": "2025-02-23T12:37:02.804Z"
   },
   {
    "duration": 683,
    "start_time": "2025-02-23T12:37:15.321Z"
   },
   {
    "duration": 873,
    "start_time": "2025-02-23T12:37:19.387Z"
   },
   {
    "duration": 8,
    "start_time": "2025-02-23T12:39:11.590Z"
   },
   {
    "duration": 688,
    "start_time": "2025-02-23T12:39:13.892Z"
   },
   {
    "duration": 5,
    "start_time": "2025-02-23T12:39:22.210Z"
   },
   {
    "duration": 580,
    "start_time": "2025-02-23T12:39:24.482Z"
   },
   {
    "duration": 6,
    "start_time": "2025-02-23T12:40:11.535Z"
   },
   {
    "duration": 555,
    "start_time": "2025-02-23T12:40:14.280Z"
   },
   {
    "duration": 979,
    "start_time": "2025-02-23T12:40:38.654Z"
   },
   {
    "duration": 2976,
    "start_time": "2025-02-23T12:45:48.224Z"
   },
   {
    "duration": 2709,
    "start_time": "2025-02-23T12:45:51.202Z"
   },
   {
    "duration": 2411,
    "start_time": "2025-02-23T12:45:53.913Z"
   },
   {
    "duration": 1404,
    "start_time": "2025-02-23T12:45:56.327Z"
   },
   {
    "duration": 2,
    "start_time": "2025-02-23T12:45:57.733Z"
   },
   {
    "duration": 4,
    "start_time": "2025-02-23T12:45:57.737Z"
   },
   {
    "duration": 1039,
    "start_time": "2025-02-23T12:45:57.742Z"
   },
   {
    "duration": 130,
    "start_time": "2025-02-23T12:45:58.783Z"
   },
   {
    "duration": 5,
    "start_time": "2025-02-23T12:45:58.915Z"
   },
   {
    "duration": 207,
    "start_time": "2025-02-23T12:45:58.923Z"
   },
   {
    "duration": 352,
    "start_time": "2025-02-23T12:45:59.132Z"
   },
   {
    "duration": 813,
    "start_time": "2025-02-23T12:45:59.486Z"
   },
   {
    "duration": 6,
    "start_time": "2025-02-23T12:46:00.301Z"
   },
   {
    "duration": 46,
    "start_time": "2025-02-23T12:46:00.308Z"
   },
   {
    "duration": 3,
    "start_time": "2025-02-23T12:46:00.356Z"
   },
   {
    "duration": 80,
    "start_time": "2025-02-23T12:46:00.361Z"
   },
   {
    "duration": 723,
    "start_time": "2025-02-23T12:46:00.442Z"
   },
   {
    "duration": 5,
    "start_time": "2025-02-23T12:46:01.167Z"
   },
   {
    "duration": 10,
    "start_time": "2025-02-23T12:46:01.174Z"
   },
   {
    "duration": 5,
    "start_time": "2025-02-23T12:46:01.185Z"
   },
   {
    "duration": 72,
    "start_time": "2025-02-23T12:46:01.192Z"
   },
   {
    "duration": 30,
    "start_time": "2025-02-23T12:46:01.267Z"
   },
   {
    "duration": 30,
    "start_time": "2025-02-23T12:46:01.299Z"
   },
   {
    "duration": 29,
    "start_time": "2025-02-23T12:46:01.331Z"
   },
   {
    "duration": 41,
    "start_time": "2025-02-23T12:46:01.363Z"
   },
   {
    "duration": 61,
    "start_time": "2025-02-23T12:46:01.406Z"
   },
   {
    "duration": 24,
    "start_time": "2025-02-23T12:46:01.469Z"
   },
   {
    "duration": 447,
    "start_time": "2025-02-23T12:46:01.497Z"
   },
   {
    "duration": 188,
    "start_time": "2025-02-23T12:46:01.946Z"
   },
   {
    "duration": 879,
    "start_time": "2025-02-23T12:46:02.136Z"
   },
   {
    "duration": 626,
    "start_time": "2025-02-23T12:46:03.017Z"
   },
   {
    "duration": 20,
    "start_time": "2025-02-23T12:46:03.644Z"
   },
   {
    "duration": 92,
    "start_time": "2025-02-23T12:46:03.666Z"
   },
   {
    "duration": 47,
    "start_time": "2025-02-23T12:46:03.760Z"
   },
   {
    "duration": 4521,
    "start_time": "2025-02-23T12:46:03.809Z"
   },
   {
    "duration": 176,
    "start_time": "2025-02-23T12:46:08.332Z"
   },
   {
    "duration": 5,
    "start_time": "2025-02-23T12:46:08.510Z"
   },
   {
    "duration": 133,
    "start_time": "2025-02-23T12:46:08.517Z"
   },
   {
    "duration": 42,
    "start_time": "2025-02-23T12:46:08.651Z"
   },
   {
    "duration": 83,
    "start_time": "2025-02-23T12:46:08.695Z"
   },
   {
    "duration": 23,
    "start_time": "2025-02-23T12:46:08.779Z"
   },
   {
    "duration": 16,
    "start_time": "2025-02-23T12:46:08.803Z"
   },
   {
    "duration": 53,
    "start_time": "2025-02-23T12:46:08.821Z"
   },
   {
    "duration": 33,
    "start_time": "2025-02-23T12:46:08.876Z"
   },
   {
    "duration": 5,
    "start_time": "2025-02-23T12:46:08.911Z"
   },
   {
    "duration": 55445,
    "start_time": "2025-02-23T12:46:08.918Z"
   },
   {
    "duration": 93,
    "start_time": "2025-02-23T12:47:04.365Z"
   },
   {
    "duration": 3,
    "start_time": "2025-02-23T12:47:04.460Z"
   },
   {
    "duration": 31353,
    "start_time": "2025-02-23T12:47:04.465Z"
   },
   {
    "duration": 2761,
    "start_time": "2025-02-23T12:47:35.819Z"
   },
   {
    "duration": 2,
    "start_time": "2025-02-23T12:47:38.582Z"
   },
   {
    "duration": 6,
    "start_time": "2025-02-23T12:47:38.586Z"
   },
   {
    "duration": 36050,
    "start_time": "2025-02-23T12:47:38.593Z"
   },
   {
    "duration": 3,
    "start_time": "2025-02-23T12:48:14.644Z"
   },
   {
    "duration": 34613,
    "start_time": "2025-02-23T12:48:14.649Z"
   },
   {
    "duration": 3427,
    "start_time": "2025-02-23T12:48:49.264Z"
   },
   {
    "duration": 6,
    "start_time": "2025-02-23T12:48:52.693Z"
   },
   {
    "duration": 4,
    "start_time": "2025-02-23T12:48:52.700Z"
   },
   {
    "duration": 426,
    "start_time": "2025-02-23T12:48:52.705Z"
   },
   {
    "duration": 6,
    "start_time": "2025-02-23T12:48:53.132Z"
   },
   {
    "duration": 174,
    "start_time": "2025-02-23T12:48:53.139Z"
   },
   {
    "duration": 529,
    "start_time": "2025-02-23T12:48:53.314Z"
   },
   {
    "duration": 743,
    "start_time": "2025-02-23T12:48:53.845Z"
   },
   {
    "duration": 3623,
    "start_time": "2025-02-23T12:53:42.046Z"
   },
   {
    "duration": 2767,
    "start_time": "2025-02-23T12:53:45.672Z"
   },
   {
    "duration": 2518,
    "start_time": "2025-02-23T12:53:48.442Z"
   },
   {
    "duration": 1528,
    "start_time": "2025-02-23T12:53:50.964Z"
   },
   {
    "duration": 3,
    "start_time": "2025-02-23T12:53:52.494Z"
   },
   {
    "duration": 13,
    "start_time": "2025-02-23T12:53:52.498Z"
   },
   {
    "duration": 1058,
    "start_time": "2025-02-23T12:53:52.512Z"
   },
   {
    "duration": 137,
    "start_time": "2025-02-23T12:53:53.572Z"
   },
   {
    "duration": 4,
    "start_time": "2025-02-23T12:53:53.711Z"
   },
   {
    "duration": 237,
    "start_time": "2025-02-23T12:53:53.717Z"
   },
   {
    "duration": 366,
    "start_time": "2025-02-23T12:53:53.956Z"
   },
   {
    "duration": 920,
    "start_time": "2025-02-23T12:53:54.323Z"
   },
   {
    "duration": 15,
    "start_time": "2025-02-23T12:53:55.245Z"
   },
   {
    "duration": 23,
    "start_time": "2025-02-23T12:53:55.261Z"
   },
   {
    "duration": 3,
    "start_time": "2025-02-23T12:53:55.286Z"
   },
   {
    "duration": 104,
    "start_time": "2025-02-23T12:53:55.290Z"
   },
   {
    "duration": 771,
    "start_time": "2025-02-23T12:53:55.396Z"
   },
   {
    "duration": 5,
    "start_time": "2025-02-23T12:53:56.168Z"
   },
   {
    "duration": 5,
    "start_time": "2025-02-23T12:53:56.175Z"
   },
   {
    "duration": 7,
    "start_time": "2025-02-23T12:53:56.181Z"
   },
   {
    "duration": 79,
    "start_time": "2025-02-23T12:53:56.189Z"
   },
   {
    "duration": 30,
    "start_time": "2025-02-23T12:53:56.269Z"
   },
   {
    "duration": 29,
    "start_time": "2025-02-23T12:53:56.301Z"
   },
   {
    "duration": 28,
    "start_time": "2025-02-23T12:53:56.331Z"
   },
   {
    "duration": 40,
    "start_time": "2025-02-23T12:53:56.360Z"
   },
   {
    "duration": 56,
    "start_time": "2025-02-23T12:53:56.402Z"
   },
   {
    "duration": 56,
    "start_time": "2025-02-23T12:53:56.460Z"
   },
   {
    "duration": 409,
    "start_time": "2025-02-23T12:53:56.520Z"
   },
   {
    "duration": 191,
    "start_time": "2025-02-23T12:53:56.931Z"
   },
   {
    "duration": 934,
    "start_time": "2025-02-23T12:53:57.124Z"
   },
   {
    "duration": 671,
    "start_time": "2025-02-23T12:53:58.059Z"
   },
   {
    "duration": 27,
    "start_time": "2025-02-23T12:53:58.732Z"
   },
   {
    "duration": 38,
    "start_time": "2025-02-23T12:53:58.761Z"
   },
   {
    "duration": 3,
    "start_time": "2025-02-23T12:53:58.801Z"
   },
   {
    "duration": 5021,
    "start_time": "2025-02-23T12:53:58.806Z"
   },
   {
    "duration": 191,
    "start_time": "2025-02-23T12:54:03.829Z"
   },
   {
    "duration": 5,
    "start_time": "2025-02-23T12:54:04.022Z"
   },
   {
    "duration": 193,
    "start_time": "2025-02-23T12:54:04.029Z"
   },
   {
    "duration": 52,
    "start_time": "2025-02-23T12:54:04.224Z"
   },
   {
    "duration": 79,
    "start_time": "2025-02-23T12:54:04.278Z"
   },
   {
    "duration": 24,
    "start_time": "2025-02-23T12:54:04.359Z"
   },
   {
    "duration": 32,
    "start_time": "2025-02-23T12:54:04.384Z"
   },
   {
    "duration": 41,
    "start_time": "2025-02-23T12:54:04.417Z"
   },
   {
    "duration": 46,
    "start_time": "2025-02-23T12:54:04.460Z"
   },
   {
    "duration": 29,
    "start_time": "2025-02-23T12:54:04.508Z"
   },
   {
    "duration": 71820,
    "start_time": "2025-02-23T12:54:04.538Z"
   },
   {
    "duration": 4,
    "start_time": "2025-02-23T12:55:16.360Z"
   },
   {
    "duration": 104,
    "start_time": "2025-02-23T12:55:16.365Z"
   },
   {
    "duration": 34625,
    "start_time": "2025-02-23T12:55:16.471Z"
   },
   {
    "duration": 3063,
    "start_time": "2025-02-23T12:55:51.098Z"
   },
   {
    "duration": 2,
    "start_time": "2025-02-23T12:55:54.163Z"
   },
   {
    "duration": 3,
    "start_time": "2025-02-23T12:55:54.167Z"
   },
   {
    "duration": 39582,
    "start_time": "2025-02-23T12:55:54.172Z"
   },
   {
    "duration": 3,
    "start_time": "2025-02-23T12:56:33.757Z"
   },
   {
    "duration": 39055,
    "start_time": "2025-02-23T12:56:33.761Z"
   },
   {
    "duration": 3919,
    "start_time": "2025-02-23T12:57:12.818Z"
   },
   {
    "duration": 6,
    "start_time": "2025-02-23T12:57:16.739Z"
   },
   {
    "duration": 12,
    "start_time": "2025-02-23T12:57:16.747Z"
   },
   {
    "duration": 403,
    "start_time": "2025-02-23T12:57:16.760Z"
   },
   {
    "duration": 6,
    "start_time": "2025-02-23T12:57:17.165Z"
   },
   {
    "duration": 194,
    "start_time": "2025-02-23T12:57:17.172Z"
   },
   {
    "duration": 645,
    "start_time": "2025-02-23T12:57:17.367Z"
   },
   {
    "duration": 802,
    "start_time": "2025-02-23T12:57:18.013Z"
   },
   {
    "duration": 422,
    "start_time": "2025-02-23T12:58:46.677Z"
   },
   {
    "duration": 416,
    "start_time": "2025-02-23T12:58:56.705Z"
   },
   {
    "duration": 6,
    "start_time": "2025-02-23T12:59:46.611Z"
   },
   {
    "duration": 778,
    "start_time": "2025-02-23T12:59:49.331Z"
   },
   {
    "duration": 526,
    "start_time": "2025-02-23T13:00:13.078Z"
   },
   {
    "duration": 417,
    "start_time": "2025-02-23T13:00:22.229Z"
   },
   {
    "duration": 5,
    "start_time": "2025-02-23T13:00:54.048Z"
   },
   {
    "duration": 418,
    "start_time": "2025-02-23T13:02:40.627Z"
   },
   {
    "duration": 6,
    "start_time": "2025-02-23T13:02:50.296Z"
   },
   {
    "duration": 13,
    "start_time": "2025-02-23T13:04:44.859Z"
   },
   {
    "duration": 23,
    "start_time": "2025-02-23T13:05:31.745Z"
   },
   {
    "duration": 5,
    "start_time": "2025-02-23T13:06:35.425Z"
   },
   {
    "duration": 6,
    "start_time": "2025-02-23T13:07:20.988Z"
   },
   {
    "duration": 3142,
    "start_time": "2025-02-23T13:09:52.431Z"
   },
   {
    "duration": 2759,
    "start_time": "2025-02-23T13:09:55.575Z"
   },
   {
    "duration": 2587,
    "start_time": "2025-02-23T13:09:58.336Z"
   },
   {
    "duration": 1414,
    "start_time": "2025-02-23T13:10:00.925Z"
   },
   {
    "duration": 3,
    "start_time": "2025-02-23T13:10:02.340Z"
   },
   {
    "duration": 9,
    "start_time": "2025-02-23T13:10:02.344Z"
   },
   {
    "duration": 1072,
    "start_time": "2025-02-23T13:10:02.355Z"
   },
   {
    "duration": 131,
    "start_time": "2025-02-23T13:10:03.429Z"
   },
   {
    "duration": 3,
    "start_time": "2025-02-23T13:10:03.561Z"
   },
   {
    "duration": 214,
    "start_time": "2025-02-23T13:10:03.566Z"
   },
   {
    "duration": 353,
    "start_time": "2025-02-23T13:10:03.782Z"
   },
   {
    "duration": 808,
    "start_time": "2025-02-23T13:10:04.136Z"
   },
   {
    "duration": 14,
    "start_time": "2025-02-23T13:10:04.946Z"
   },
   {
    "duration": 35,
    "start_time": "2025-02-23T13:10:04.961Z"
   },
   {
    "duration": 2,
    "start_time": "2025-02-23T13:10:04.997Z"
   },
   {
    "duration": 82,
    "start_time": "2025-02-23T13:10:05.001Z"
   },
   {
    "duration": 784,
    "start_time": "2025-02-23T13:10:05.085Z"
   },
   {
    "duration": 4,
    "start_time": "2025-02-23T13:10:05.871Z"
   },
   {
    "duration": 31,
    "start_time": "2025-02-23T13:10:05.876Z"
   },
   {
    "duration": 4,
    "start_time": "2025-02-23T13:10:05.909Z"
   },
   {
    "duration": 59,
    "start_time": "2025-02-23T13:10:05.914Z"
   },
   {
    "duration": 29,
    "start_time": "2025-02-23T13:10:05.975Z"
   },
   {
    "duration": 30,
    "start_time": "2025-02-23T13:10:06.005Z"
   },
   {
    "duration": 24,
    "start_time": "2025-02-23T13:10:06.037Z"
   },
   {
    "duration": 38,
    "start_time": "2025-02-23T13:10:06.063Z"
   },
   {
    "duration": 57,
    "start_time": "2025-02-23T13:10:06.103Z"
   },
   {
    "duration": 25,
    "start_time": "2025-02-23T13:10:06.161Z"
   },
   {
    "duration": 424,
    "start_time": "2025-02-23T13:10:06.189Z"
   },
   {
    "duration": 197,
    "start_time": "2025-02-23T13:10:06.615Z"
   },
   {
    "duration": 878,
    "start_time": "2025-02-23T13:10:06.814Z"
   },
   {
    "duration": 596,
    "start_time": "2025-02-23T13:10:07.694Z"
   },
   {
    "duration": 19,
    "start_time": "2025-02-23T13:10:08.292Z"
   },
   {
    "duration": 25,
    "start_time": "2025-02-23T13:10:08.312Z"
   },
   {
    "duration": 3,
    "start_time": "2025-02-23T13:10:08.338Z"
   },
   {
    "duration": 4419,
    "start_time": "2025-02-23T13:10:08.343Z"
   },
   {
    "duration": 182,
    "start_time": "2025-02-23T13:10:12.764Z"
   },
   {
    "duration": 5,
    "start_time": "2025-02-23T13:10:12.948Z"
   },
   {
    "duration": 141,
    "start_time": "2025-02-23T13:10:12.958Z"
   },
   {
    "duration": 37,
    "start_time": "2025-02-23T13:10:13.100Z"
   },
   {
    "duration": 77,
    "start_time": "2025-02-23T13:10:13.139Z"
   },
   {
    "duration": 75,
    "start_time": "2025-02-23T13:10:13.218Z"
   },
   {
    "duration": 26,
    "start_time": "2025-02-23T13:10:13.295Z"
   },
   {
    "duration": 6,
    "start_time": "2025-02-23T13:10:13.323Z"
   },
   {
    "duration": 4,
    "start_time": "2025-02-23T13:10:13.331Z"
   },
   {
    "duration": 4,
    "start_time": "2025-02-23T13:10:13.336Z"
   },
   {
    "duration": 56916,
    "start_time": "2025-02-23T13:10:13.342Z"
   },
   {
    "duration": 3,
    "start_time": "2025-02-23T13:11:10.261Z"
   },
   {
    "duration": 93,
    "start_time": "2025-02-23T13:11:10.266Z"
   },
   {
    "duration": 31453,
    "start_time": "2025-02-23T13:11:10.361Z"
   },
   {
    "duration": 2755,
    "start_time": "2025-02-23T13:11:41.816Z"
   },
   {
    "duration": 2,
    "start_time": "2025-02-23T13:11:44.573Z"
   },
   {
    "duration": 3,
    "start_time": "2025-02-23T13:11:44.576Z"
   },
   {
    "duration": 35827,
    "start_time": "2025-02-23T13:11:44.581Z"
   },
   {
    "duration": 3,
    "start_time": "2025-02-23T13:12:20.409Z"
   },
   {
    "duration": 34916,
    "start_time": "2025-02-23T13:12:20.414Z"
   },
   {
    "duration": 3447,
    "start_time": "2025-02-23T13:12:55.332Z"
   },
   {
    "duration": 6,
    "start_time": "2025-02-23T13:12:58.781Z"
   },
   {
    "duration": 6,
    "start_time": "2025-02-23T13:12:58.788Z"
   },
   {
    "duration": 445,
    "start_time": "2025-02-23T13:12:58.796Z"
   },
   {
    "duration": 5,
    "start_time": "2025-02-23T13:12:59.243Z"
   },
   {
    "duration": 181,
    "start_time": "2025-02-23T13:12:59.258Z"
   },
   {
    "duration": 496,
    "start_time": "2025-02-23T13:12:59.440Z"
   },
   {
    "duration": 760,
    "start_time": "2025-02-23T13:12:59.937Z"
   },
   {
    "duration": 397,
    "start_time": "2025-02-23T13:13:00.699Z"
   },
   {
    "duration": 6,
    "start_time": "2025-02-23T13:13:01.098Z"
   },
   {
    "duration": 409,
    "start_time": "2025-02-23T13:14:10.820Z"
   },
   {
    "duration": 391,
    "start_time": "2025-02-23T13:14:22.642Z"
   },
   {
    "duration": 3016,
    "start_time": "2025-02-23T13:18:02.174Z"
   },
   {
    "duration": 2716,
    "start_time": "2025-02-23T13:18:05.193Z"
   },
   {
    "duration": 2493,
    "start_time": "2025-02-23T13:18:07.911Z"
   },
   {
    "duration": 1457,
    "start_time": "2025-02-23T13:18:10.407Z"
   },
   {
    "duration": 2,
    "start_time": "2025-02-23T13:18:11.866Z"
   },
   {
    "duration": 31,
    "start_time": "2025-02-23T13:18:11.869Z"
   },
   {
    "duration": 1047,
    "start_time": "2025-02-23T13:18:11.901Z"
   },
   {
    "duration": 123,
    "start_time": "2025-02-23T13:18:12.950Z"
   },
   {
    "duration": 4,
    "start_time": "2025-02-23T13:18:13.075Z"
   },
   {
    "duration": 233,
    "start_time": "2025-02-23T13:18:13.082Z"
   },
   {
    "duration": 336,
    "start_time": "2025-02-23T13:18:13.316Z"
   },
   {
    "duration": 823,
    "start_time": "2025-02-23T13:18:13.654Z"
   },
   {
    "duration": 5,
    "start_time": "2025-02-23T13:18:14.479Z"
   },
   {
    "duration": 26,
    "start_time": "2025-02-23T13:18:14.485Z"
   },
   {
    "duration": 75,
    "start_time": "2025-02-23T13:18:14.512Z"
   },
   {
    "duration": 99,
    "start_time": "2025-02-23T13:18:14.589Z"
   },
   {
    "duration": 786,
    "start_time": "2025-02-23T13:18:14.689Z"
   },
   {
    "duration": 4,
    "start_time": "2025-02-23T13:18:15.477Z"
   },
   {
    "duration": 5,
    "start_time": "2025-02-23T13:18:15.482Z"
   },
   {
    "duration": 4,
    "start_time": "2025-02-23T13:18:15.488Z"
   },
   {
    "duration": 82,
    "start_time": "2025-02-23T13:18:15.493Z"
   },
   {
    "duration": 83,
    "start_time": "2025-02-23T13:18:15.576Z"
   },
   {
    "duration": 31,
    "start_time": "2025-02-23T13:18:15.660Z"
   },
   {
    "duration": 7,
    "start_time": "2025-02-23T13:18:15.693Z"
   },
   {
    "duration": 97,
    "start_time": "2025-02-23T13:18:15.702Z"
   },
   {
    "duration": 139,
    "start_time": "2025-02-23T13:18:15.801Z"
   },
   {
    "duration": 27,
    "start_time": "2025-02-23T13:18:15.942Z"
   },
   {
    "duration": 477,
    "start_time": "2025-02-23T13:18:15.973Z"
   },
   {
    "duration": 192,
    "start_time": "2025-02-23T13:18:16.452Z"
   },
   {
    "duration": 863,
    "start_time": "2025-02-23T13:18:16.645Z"
   },
   {
    "duration": 604,
    "start_time": "2025-02-23T13:18:17.510Z"
   },
   {
    "duration": 20,
    "start_time": "2025-02-23T13:18:18.116Z"
   },
   {
    "duration": 66,
    "start_time": "2025-02-23T13:18:18.138Z"
   },
   {
    "duration": 3,
    "start_time": "2025-02-23T13:18:18.206Z"
   },
   {
    "duration": 4574,
    "start_time": "2025-02-23T13:18:18.211Z"
   },
   {
    "duration": 188,
    "start_time": "2025-02-23T13:18:22.786Z"
   },
   {
    "duration": 6,
    "start_time": "2025-02-23T13:18:22.975Z"
   },
   {
    "duration": 145,
    "start_time": "2025-02-23T13:18:22.982Z"
   },
   {
    "duration": 43,
    "start_time": "2025-02-23T13:18:23.129Z"
   },
   {
    "duration": 68,
    "start_time": "2025-02-23T13:18:23.173Z"
   },
   {
    "duration": 34,
    "start_time": "2025-02-23T13:18:23.243Z"
   },
   {
    "duration": 35,
    "start_time": "2025-02-23T13:18:23.278Z"
   },
   {
    "duration": 7,
    "start_time": "2025-02-23T13:18:23.315Z"
   },
   {
    "duration": 4,
    "start_time": "2025-02-23T13:18:23.323Z"
   },
   {
    "duration": 3,
    "start_time": "2025-02-23T13:18:23.329Z"
   },
   {
    "duration": 56925,
    "start_time": "2025-02-23T13:18:23.334Z"
   },
   {
    "duration": 2,
    "start_time": "2025-02-23T13:19:20.262Z"
   },
   {
    "duration": 11,
    "start_time": "2025-02-23T13:19:20.357Z"
   },
   {
    "duration": 32590,
    "start_time": "2025-02-23T13:19:20.370Z"
   },
   {
    "duration": 2718,
    "start_time": "2025-02-23T13:19:52.962Z"
   },
   {
    "duration": 3,
    "start_time": "2025-02-23T13:19:55.681Z"
   },
   {
    "duration": 4,
    "start_time": "2025-02-23T13:19:55.685Z"
   },
   {
    "duration": 36671,
    "start_time": "2025-02-23T13:19:55.690Z"
   },
   {
    "duration": 3,
    "start_time": "2025-02-23T13:20:32.363Z"
   },
   {
    "duration": 36493,
    "start_time": "2025-02-23T13:20:32.367Z"
   },
   {
    "duration": 3523,
    "start_time": "2025-02-23T13:21:08.862Z"
   },
   {
    "duration": 5,
    "start_time": "2025-02-23T13:21:12.387Z"
   },
   {
    "duration": 3,
    "start_time": "2025-02-23T13:21:12.394Z"
   },
   {
    "duration": 430,
    "start_time": "2025-02-23T13:21:12.398Z"
   },
   {
    "duration": 5,
    "start_time": "2025-02-23T13:21:12.830Z"
   },
   {
    "duration": 181,
    "start_time": "2025-02-23T13:21:12.836Z"
   },
   {
    "duration": 539,
    "start_time": "2025-02-23T13:21:13.019Z"
   },
   {
    "duration": 759,
    "start_time": "2025-02-23T13:21:13.560Z"
   },
   {
    "duration": 409,
    "start_time": "2025-02-23T13:21:14.321Z"
   },
   {
    "duration": 7,
    "start_time": "2025-02-23T13:21:14.732Z"
   },
   {
    "duration": 412,
    "start_time": "2025-02-23T13:21:14.741Z"
   },
   {
    "duration": 3303,
    "start_time": "2025-02-23T13:32:54.870Z"
   },
   {
    "duration": 2644,
    "start_time": "2025-02-23T13:32:58.175Z"
   },
   {
    "duration": 2484,
    "start_time": "2025-02-23T13:33:00.822Z"
   },
   {
    "duration": 1443,
    "start_time": "2025-02-23T13:33:03.308Z"
   },
   {
    "duration": 3,
    "start_time": "2025-02-23T13:33:04.753Z"
   },
   {
    "duration": 4,
    "start_time": "2025-02-23T13:33:04.758Z"
   },
   {
    "duration": 1071,
    "start_time": "2025-02-23T13:33:04.764Z"
   },
   {
    "duration": 128,
    "start_time": "2025-02-23T13:33:05.836Z"
   },
   {
    "duration": 5,
    "start_time": "2025-02-23T13:33:05.965Z"
   },
   {
    "duration": 177,
    "start_time": "2025-02-23T13:33:05.972Z"
   },
   {
    "duration": 358,
    "start_time": "2025-02-23T13:33:06.150Z"
   },
   {
    "duration": 800,
    "start_time": "2025-02-23T13:33:06.509Z"
   },
   {
    "duration": 6,
    "start_time": "2025-02-23T13:33:07.310Z"
   },
   {
    "duration": 62,
    "start_time": "2025-02-23T13:33:07.317Z"
   },
   {
    "duration": 3,
    "start_time": "2025-02-23T13:33:07.380Z"
   },
   {
    "duration": 87,
    "start_time": "2025-02-23T13:33:07.384Z"
   },
   {
    "duration": 726,
    "start_time": "2025-02-23T13:33:07.473Z"
   },
   {
    "duration": 4,
    "start_time": "2025-02-23T13:33:08.201Z"
   },
   {
    "duration": 21,
    "start_time": "2025-02-23T13:33:08.206Z"
   },
   {
    "duration": 4,
    "start_time": "2025-02-23T13:33:08.228Z"
   },
   {
    "duration": 61,
    "start_time": "2025-02-23T13:33:08.233Z"
   },
   {
    "duration": 28,
    "start_time": "2025-02-23T13:33:08.296Z"
   },
   {
    "duration": 46,
    "start_time": "2025-02-23T13:33:08.326Z"
   },
   {
    "duration": 7,
    "start_time": "2025-02-23T13:33:08.374Z"
   },
   {
    "duration": 40,
    "start_time": "2025-02-23T13:33:08.382Z"
   },
   {
    "duration": 54,
    "start_time": "2025-02-23T13:33:08.425Z"
   },
   {
    "duration": 25,
    "start_time": "2025-02-23T13:33:08.481Z"
   },
   {
    "duration": 416,
    "start_time": "2025-02-23T13:33:08.510Z"
   },
   {
    "duration": 197,
    "start_time": "2025-02-23T13:33:08.927Z"
   },
   {
    "duration": 911,
    "start_time": "2025-02-23T13:33:09.126Z"
   },
   {
    "duration": 636,
    "start_time": "2025-02-23T13:33:10.039Z"
   },
   {
    "duration": 21,
    "start_time": "2025-02-23T13:33:10.676Z"
   },
   {
    "duration": 28,
    "start_time": "2025-02-23T13:33:10.699Z"
   },
   {
    "duration": 3,
    "start_time": "2025-02-23T13:33:10.729Z"
   },
   {
    "duration": 4719,
    "start_time": "2025-02-23T13:33:10.734Z"
   },
   {
    "duration": 198,
    "start_time": "2025-02-23T13:33:15.455Z"
   },
   {
    "duration": 6,
    "start_time": "2025-02-23T13:33:15.654Z"
   },
   {
    "duration": 145,
    "start_time": "2025-02-23T13:33:15.661Z"
   },
   {
    "duration": 52,
    "start_time": "2025-02-23T13:33:15.807Z"
   },
   {
    "duration": 77,
    "start_time": "2025-02-23T13:33:15.860Z"
   },
   {
    "duration": 23,
    "start_time": "2025-02-23T13:33:15.938Z"
   },
   {
    "duration": 26,
    "start_time": "2025-02-23T13:33:15.962Z"
   },
   {
    "duration": 12,
    "start_time": "2025-02-23T13:33:15.990Z"
   },
   {
    "duration": 8,
    "start_time": "2025-02-23T13:33:16.004Z"
   },
   {
    "duration": 12,
    "start_time": "2025-02-23T13:33:16.013Z"
   },
   {
    "duration": 61932,
    "start_time": "2025-02-23T13:33:16.026Z"
   },
   {
    "duration": 2,
    "start_time": "2025-02-23T13:34:17.960Z"
   },
   {
    "duration": 4,
    "start_time": "2025-02-23T13:34:17.964Z"
   },
   {
    "duration": 34777,
    "start_time": "2025-02-23T13:34:17.970Z"
   },
   {
    "duration": 3684,
    "start_time": "2025-02-23T13:34:52.748Z"
   },
   {
    "duration": 3,
    "start_time": "2025-02-23T13:34:56.434Z"
   },
   {
    "duration": 3,
    "start_time": "2025-02-23T13:34:56.438Z"
   },
   {
    "duration": 39718,
    "start_time": "2025-02-23T13:34:56.443Z"
   },
   {
    "duration": 3,
    "start_time": "2025-02-23T13:35:36.163Z"
   },
   {
    "duration": 39292,
    "start_time": "2025-02-23T13:35:36.167Z"
   },
   {
    "duration": 3837,
    "start_time": "2025-02-23T13:36:15.461Z"
   },
   {
    "duration": 6,
    "start_time": "2025-02-23T13:36:19.299Z"
   },
   {
    "duration": 7,
    "start_time": "2025-02-23T13:36:19.306Z"
   },
   {
    "duration": 433,
    "start_time": "2025-02-23T13:36:19.314Z"
   },
   {
    "duration": 9,
    "start_time": "2025-02-23T13:36:19.749Z"
   },
   {
    "duration": 192,
    "start_time": "2025-02-23T13:36:19.760Z"
   },
   {
    "duration": 659,
    "start_time": "2025-02-23T13:36:19.953Z"
   },
   {
    "duration": 823,
    "start_time": "2025-02-23T13:36:20.613Z"
   },
   {
    "duration": 454,
    "start_time": "2025-02-23T13:36:21.438Z"
   },
   {
    "duration": 7,
    "start_time": "2025-02-23T13:36:21.893Z"
   },
   {
    "duration": 457,
    "start_time": "2025-02-23T13:36:21.901Z"
   },
   {
    "duration": 6,
    "start_time": "2025-02-23T13:37:33.230Z"
   },
   {
    "duration": 760,
    "start_time": "2025-02-23T13:37:35.729Z"
   },
   {
    "duration": 6,
    "start_time": "2025-02-23T13:39:46.640Z"
   },
   {
    "duration": 834,
    "start_time": "2025-02-23T13:39:49.932Z"
   },
   {
    "duration": 6,
    "start_time": "2025-02-23T13:42:25.779Z"
   },
   {
    "duration": 750,
    "start_time": "2025-02-23T13:42:29.022Z"
   },
   {
    "duration": 6,
    "start_time": "2025-02-23T13:42:43.354Z"
   },
   {
    "duration": 744,
    "start_time": "2025-02-23T13:42:46.055Z"
   },
   {
    "duration": 22,
    "start_time": "2025-02-23T13:58:51.698Z"
   },
   {
    "duration": 7,
    "start_time": "2025-02-23T13:59:00.023Z"
   },
   {
    "duration": 7,
    "start_time": "2025-02-23T13:59:10.157Z"
   },
   {
    "duration": 7,
    "start_time": "2025-02-23T13:59:17.523Z"
   },
   {
    "duration": 7,
    "start_time": "2025-02-23T13:59:43.834Z"
   },
   {
    "duration": 6,
    "start_time": "2025-02-23T13:59:52.675Z"
   },
   {
    "duration": 6,
    "start_time": "2025-02-23T14:00:12.664Z"
   },
   {
    "duration": 7,
    "start_time": "2025-02-23T14:00:25.003Z"
   },
   {
    "duration": 8815,
    "start_time": "2025-02-24T17:50:34.462Z"
   },
   {
    "duration": 25106,
    "start_time": "2025-02-24T17:50:43.279Z"
   },
   {
    "duration": 7274,
    "start_time": "2025-02-24T17:51:08.387Z"
   },
   {
    "duration": 1697,
    "start_time": "2025-02-24T17:51:15.664Z"
   },
   {
    "duration": 3,
    "start_time": "2025-02-24T17:51:17.363Z"
   },
   {
    "duration": 8,
    "start_time": "2025-02-24T17:51:17.368Z"
   },
   {
    "duration": 1152,
    "start_time": "2025-02-24T17:51:17.378Z"
   },
   {
    "duration": 144,
    "start_time": "2025-02-24T17:51:18.532Z"
   },
   {
    "duration": 5,
    "start_time": "2025-02-24T17:51:18.678Z"
   },
   {
    "duration": 215,
    "start_time": "2025-02-24T17:51:18.685Z"
   },
   {
    "duration": 391,
    "start_time": "2025-02-24T17:51:18.901Z"
   },
   {
    "duration": 866,
    "start_time": "2025-02-24T17:51:19.298Z"
   },
   {
    "duration": 6,
    "start_time": "2025-02-24T17:51:20.166Z"
   },
   {
    "duration": 40,
    "start_time": "2025-02-24T17:51:20.174Z"
   },
   {
    "duration": 3,
    "start_time": "2025-02-24T17:51:20.216Z"
   },
   {
    "duration": 101,
    "start_time": "2025-02-24T17:51:20.220Z"
   },
   {
    "duration": 889,
    "start_time": "2025-02-24T17:51:20.323Z"
   },
   {
    "duration": 4,
    "start_time": "2025-02-24T17:51:21.214Z"
   },
   {
    "duration": 7,
    "start_time": "2025-02-24T17:51:21.219Z"
   },
   {
    "duration": 23,
    "start_time": "2025-02-24T17:51:21.228Z"
   },
   {
    "duration": 109,
    "start_time": "2025-02-24T17:51:21.252Z"
   },
   {
    "duration": 37,
    "start_time": "2025-02-24T17:51:21.363Z"
   },
   {
    "duration": 33,
    "start_time": "2025-02-24T17:51:21.402Z"
   },
   {
    "duration": 8,
    "start_time": "2025-02-24T17:51:21.436Z"
   },
   {
    "duration": 65,
    "start_time": "2025-02-24T17:51:21.446Z"
   },
   {
    "duration": 44,
    "start_time": "2025-02-24T17:51:21.513Z"
   },
   {
    "duration": 70,
    "start_time": "2025-02-24T17:51:21.559Z"
   },
   {
    "duration": 355,
    "start_time": "2025-02-24T17:51:21.634Z"
   },
   {
    "duration": 208,
    "start_time": "2025-02-24T17:51:21.991Z"
   },
   {
    "duration": 980,
    "start_time": "2025-02-24T17:51:22.201Z"
   },
   {
    "duration": 776,
    "start_time": "2025-02-24T17:51:23.184Z"
   },
   {
    "duration": 37,
    "start_time": "2025-02-24T17:51:23.962Z"
   },
   {
    "duration": 108,
    "start_time": "2025-02-24T17:51:24.002Z"
   },
   {
    "duration": 3,
    "start_time": "2025-02-24T17:51:24.112Z"
   },
   {
    "duration": 4950,
    "start_time": "2025-02-24T17:51:24.116Z"
   },
   {
    "duration": 204,
    "start_time": "2025-02-24T17:51:29.068Z"
   },
   {
    "duration": 6,
    "start_time": "2025-02-24T17:51:29.274Z"
   },
   {
    "duration": 204,
    "start_time": "2025-02-24T17:51:29.281Z"
   },
   {
    "duration": 51,
    "start_time": "2025-02-24T17:51:29.487Z"
   },
   {
    "duration": 83,
    "start_time": "2025-02-24T17:51:29.539Z"
   },
   {
    "duration": 25,
    "start_time": "2025-02-24T17:51:29.624Z"
   },
   {
    "duration": 20,
    "start_time": "2025-02-24T17:51:29.651Z"
   },
   {
    "duration": 45,
    "start_time": "2025-02-24T17:51:29.673Z"
   },
   {
    "duration": 21,
    "start_time": "2025-02-24T17:51:29.720Z"
   },
   {
    "duration": 21,
    "start_time": "2025-02-24T17:51:29.743Z"
   },
   {
    "duration": 70834,
    "start_time": "2025-02-24T17:51:29.766Z"
   },
   {
    "duration": 3,
    "start_time": "2025-02-24T17:52:40.602Z"
   },
   {
    "duration": 101,
    "start_time": "2025-02-24T17:52:40.607Z"
   },
   {
    "duration": 37452,
    "start_time": "2025-02-24T17:52:40.710Z"
   },
   {
    "duration": 4094,
    "start_time": "2025-02-24T17:53:18.164Z"
   },
   {
    "duration": 2,
    "start_time": "2025-02-24T17:53:22.260Z"
   },
   {
    "duration": 12,
    "start_time": "2025-02-24T17:53:22.263Z"
   },
   {
    "duration": 44047,
    "start_time": "2025-02-24T17:53:22.277Z"
   },
   {
    "duration": 3,
    "start_time": "2025-02-24T17:54:06.326Z"
   },
   {
    "duration": 41702,
    "start_time": "2025-02-24T17:54:06.330Z"
   },
   {
    "duration": 4140,
    "start_time": "2025-02-24T17:54:48.034Z"
   },
   {
    "duration": 7,
    "start_time": "2025-02-24T17:54:52.175Z"
   },
   {
    "duration": 16,
    "start_time": "2025-02-24T17:54:52.184Z"
   },
   {
    "duration": 520,
    "start_time": "2025-02-24T17:54:52.202Z"
   },
   {
    "duration": 6,
    "start_time": "2025-02-24T17:54:52.724Z"
   },
   {
    "duration": 209,
    "start_time": "2025-02-24T17:54:52.732Z"
   },
   {
    "duration": 557,
    "start_time": "2025-02-24T17:54:52.943Z"
   },
   {
    "duration": 830,
    "start_time": "2025-02-24T17:54:53.502Z"
   },
   {
    "duration": 453,
    "start_time": "2025-02-24T17:54:54.334Z"
   },
   {
    "duration": 29,
    "start_time": "2025-02-24T17:54:54.789Z"
   },
   {
    "duration": 6,
    "start_time": "2025-02-24T17:54:54.820Z"
   },
   {
    "duration": 489,
    "start_time": "2025-02-24T17:54:54.828Z"
   },
   {
    "duration": 20,
    "start_time": "2025-02-24T18:00:46.838Z"
   },
   {
    "duration": 34,
    "start_time": "2025-02-24T18:01:53.951Z"
   },
   {
    "duration": 133,
    "start_time": "2025-02-24T18:06:47.919Z"
   },
   {
    "duration": 9,
    "start_time": "2025-02-24T18:06:58.972Z"
   },
   {
    "duration": 7,
    "start_time": "2025-02-24T18:07:23.339Z"
   },
   {
    "duration": 10,
    "start_time": "2025-02-24T18:07:49.985Z"
   },
   {
    "duration": 21,
    "start_time": "2025-02-24T18:08:27.787Z"
   },
   {
    "duration": 19,
    "start_time": "2025-02-24T18:09:00.210Z"
   },
   {
    "duration": 1105,
    "start_time": "2025-02-24T18:11:06.539Z"
   },
   {
    "duration": 16,
    "start_time": "2025-02-24T18:11:47.805Z"
   },
   {
    "duration": 6,
    "start_time": "2025-02-24T18:12:14.809Z"
   },
   {
    "duration": 4,
    "start_time": "2025-02-24T18:14:05.877Z"
   },
   {
    "duration": 5,
    "start_time": "2025-02-24T18:14:11.979Z"
   },
   {
    "duration": 103,
    "start_time": "2025-02-24T18:14:30.129Z"
   },
   {
    "duration": 12,
    "start_time": "2025-02-24T18:15:48.906Z"
   },
   {
    "duration": 3541,
    "start_time": "2025-02-24T18:17:38.372Z"
   },
   {
    "duration": 8,
    "start_time": "2025-02-24T18:17:51.723Z"
   },
   {
    "duration": 3,
    "start_time": "2025-02-24T18:17:53.136Z"
   },
   {
    "duration": 4167,
    "start_time": "2025-02-24T18:19:44.110Z"
   },
   {
    "duration": 3517,
    "start_time": "2025-02-24T18:19:48.279Z"
   },
   {
    "duration": 8,
    "start_time": "2025-02-24T18:19:54.502Z"
   },
   {
    "duration": 3,
    "start_time": "2025-02-24T18:19:56.388Z"
   },
   {
    "duration": 456,
    "start_time": "2025-02-24T18:20:08.473Z"
   },
   {
    "duration": 18,
    "start_time": "2025-02-24T18:23:58.908Z"
   },
   {
    "duration": 6,
    "start_time": "2025-02-24T18:23:59.786Z"
   },
   {
    "duration": 20,
    "start_time": "2025-02-24T18:24:22.155Z"
   },
   {
    "duration": 6,
    "start_time": "2025-02-24T18:24:25.365Z"
   },
   {
    "duration": 239,
    "start_time": "2025-02-24T18:24:30.562Z"
   },
   {
    "duration": 3841,
    "start_time": "2025-02-24T18:25:08.943Z"
   },
   {
    "duration": 6,
    "start_time": "2025-02-24T18:26:24.956Z"
   },
   {
    "duration": 3,
    "start_time": "2025-02-24T18:26:26.146Z"
   },
   {
    "duration": 477,
    "start_time": "2025-02-24T18:26:27.325Z"
   },
   {
    "duration": 6801,
    "start_time": "2025-02-25T15:29:37.628Z"
   },
   {
    "duration": 5288,
    "start_time": "2025-02-25T15:29:44.432Z"
   },
   {
    "duration": 3309,
    "start_time": "2025-02-25T15:29:49.723Z"
   },
   {
    "duration": 1748,
    "start_time": "2025-02-25T15:29:53.035Z"
   },
   {
    "duration": 3,
    "start_time": "2025-02-25T15:29:54.784Z"
   },
   {
    "duration": 47,
    "start_time": "2025-02-25T15:29:54.788Z"
   },
   {
    "duration": 1114,
    "start_time": "2025-02-25T15:29:54.837Z"
   },
   {
    "duration": 144,
    "start_time": "2025-02-25T15:29:55.952Z"
   },
   {
    "duration": 11,
    "start_time": "2025-02-25T15:29:56.098Z"
   },
   {
    "duration": 213,
    "start_time": "2025-02-25T15:29:56.112Z"
   },
   {
    "duration": 373,
    "start_time": "2025-02-25T15:29:56.327Z"
   },
   {
    "duration": 835,
    "start_time": "2025-02-25T15:29:56.701Z"
   },
   {
    "duration": 5,
    "start_time": "2025-02-25T15:29:57.538Z"
   },
   {
    "duration": 45,
    "start_time": "2025-02-25T15:29:57.545Z"
   },
   {
    "duration": 3,
    "start_time": "2025-02-25T15:29:57.591Z"
   },
   {
    "duration": 81,
    "start_time": "2025-02-25T15:29:57.595Z"
   },
   {
    "duration": 740,
    "start_time": "2025-02-25T15:29:57.677Z"
   },
   {
    "duration": 4,
    "start_time": "2025-02-25T15:29:58.419Z"
   },
   {
    "duration": 4,
    "start_time": "2025-02-25T15:29:58.425Z"
   },
   {
    "duration": 3,
    "start_time": "2025-02-25T15:29:58.431Z"
   },
   {
    "duration": 81,
    "start_time": "2025-02-25T15:29:58.436Z"
   },
   {
    "duration": 28,
    "start_time": "2025-02-25T15:29:58.519Z"
   },
   {
    "duration": 32,
    "start_time": "2025-02-25T15:29:58.548Z"
   },
   {
    "duration": 7,
    "start_time": "2025-02-25T15:29:58.582Z"
   },
   {
    "duration": 61,
    "start_time": "2025-02-25T15:29:58.590Z"
   },
   {
    "duration": 109,
    "start_time": "2025-02-25T15:29:58.652Z"
   },
   {
    "duration": 26,
    "start_time": "2025-02-25T15:29:58.762Z"
   },
   {
    "duration": 332,
    "start_time": "2025-02-25T15:29:58.880Z"
   },
   {
    "duration": 186,
    "start_time": "2025-02-25T15:29:59.214Z"
   },
   {
    "duration": 897,
    "start_time": "2025-02-25T15:29:59.408Z"
   },
   {
    "duration": 626,
    "start_time": "2025-02-25T15:30:00.308Z"
   },
   {
    "duration": 18,
    "start_time": "2025-02-25T15:30:00.936Z"
   },
   {
    "duration": 32,
    "start_time": "2025-02-25T15:30:00.956Z"
   },
   {
    "duration": 7,
    "start_time": "2025-02-25T15:30:00.990Z"
   },
   {
    "duration": 4933,
    "start_time": "2025-02-25T15:30:00.998Z"
   },
   {
    "duration": 194,
    "start_time": "2025-02-25T15:30:05.934Z"
   },
   {
    "duration": 6,
    "start_time": "2025-02-25T15:30:06.130Z"
   },
   {
    "duration": 155,
    "start_time": "2025-02-25T15:30:06.138Z"
   },
   {
    "duration": 47,
    "start_time": "2025-02-25T15:30:06.295Z"
   },
   {
    "duration": 84,
    "start_time": "2025-02-25T15:30:06.344Z"
   },
   {
    "duration": 23,
    "start_time": "2025-02-25T15:30:06.430Z"
   },
   {
    "duration": 35,
    "start_time": "2025-02-25T15:30:06.455Z"
   },
   {
    "duration": 49,
    "start_time": "2025-02-25T15:30:06.492Z"
   },
   {
    "duration": 7,
    "start_time": "2025-02-25T15:30:06.543Z"
   },
   {
    "duration": 27,
    "start_time": "2025-02-25T15:30:06.552Z"
   },
   {
    "duration": 62234,
    "start_time": "2025-02-25T15:30:06.581Z"
   },
   {
    "duration": 92,
    "start_time": "2025-02-25T15:31:08.817Z"
   },
   {
    "duration": 2,
    "start_time": "2025-02-25T15:31:08.911Z"
   },
   {
    "duration": 34706,
    "start_time": "2025-02-25T15:31:08.915Z"
   },
   {
    "duration": 3691,
    "start_time": "2025-02-25T15:31:43.622Z"
   },
   {
    "duration": 17,
    "start_time": "2025-02-25T15:31:47.314Z"
   },
   {
    "duration": 8,
    "start_time": "2025-02-25T15:31:47.333Z"
   },
   {
    "duration": 3584,
    "start_time": "2025-02-25T15:31:47.342Z"
   },
   {
    "duration": 2,
    "start_time": "2025-02-25T15:31:50.928Z"
   },
   {
    "duration": 16,
    "start_time": "2025-02-25T15:31:50.931Z"
   },
   {
    "duration": 39473,
    "start_time": "2025-02-25T15:31:50.949Z"
   },
   {
    "duration": 3,
    "start_time": "2025-02-25T15:32:30.423Z"
   },
   {
    "duration": 39618,
    "start_time": "2025-02-25T15:32:30.427Z"
   },
   {
    "duration": 19,
    "start_time": "2025-02-25T15:33:10.046Z"
   },
   {
    "duration": 16,
    "start_time": "2025-02-25T15:33:10.067Z"
   },
   {
    "duration": 26,
    "start_time": "2025-02-25T15:33:10.085Z"
   },
   {
    "duration": 3938,
    "start_time": "2025-02-25T15:33:10.112Z"
   },
   {
    "duration": 3278,
    "start_time": "2025-02-25T15:33:14.051Z"
   },
   {
    "duration": 7,
    "start_time": "2025-02-25T15:33:17.330Z"
   },
   {
    "duration": 20,
    "start_time": "2025-02-25T15:33:17.338Z"
   },
   {
    "duration": 472,
    "start_time": "2025-02-25T15:33:17.360Z"
   },
   {
    "duration": 6,
    "start_time": "2025-02-25T15:33:17.834Z"
   },
   {
    "duration": 195,
    "start_time": "2025-02-25T15:33:17.842Z"
   },
   {
    "duration": 621,
    "start_time": "2025-02-25T15:33:18.039Z"
   },
   {
    "duration": 815,
    "start_time": "2025-02-25T15:33:18.662Z"
   },
   {
    "duration": 440,
    "start_time": "2025-02-25T15:33:19.479Z"
   },
   {
    "duration": 23,
    "start_time": "2025-02-25T15:33:19.921Z"
   },
   {
    "duration": 6,
    "start_time": "2025-02-25T15:33:19.946Z"
   },
   {
    "duration": 435,
    "start_time": "2025-02-25T15:33:19.953Z"
   },
   {
    "duration": 136,
    "start_time": "2025-02-25T15:41:12.737Z"
   },
   {
    "duration": 2232,
    "start_time": "2025-02-25T15:43:26.297Z"
   },
   {
    "duration": 12,
    "start_time": "2025-02-25T15:44:11.240Z"
   },
   {
    "duration": 153,
    "start_time": "2025-02-25T15:44:20.782Z"
   },
   {
    "duration": 110,
    "start_time": "2025-02-25T15:44:39.325Z"
   },
   {
    "duration": 12,
    "start_time": "2025-02-25T15:45:20.736Z"
   },
   {
    "duration": 19,
    "start_time": "2025-02-25T15:45:28.628Z"
   },
   {
    "duration": 24,
    "start_time": "2025-02-25T15:46:42.999Z"
   },
   {
    "duration": 6,
    "start_time": "2025-02-25T15:53:26.053Z"
   },
   {
    "duration": 171,
    "start_time": "2025-02-25T15:53:28.421Z"
   },
   {
    "duration": 585,
    "start_time": "2025-02-25T15:53:29.548Z"
   },
   {
    "duration": 586,
    "start_time": "2025-02-25T15:54:03.763Z"
   },
   {
    "duration": 6,
    "start_time": "2025-02-25T15:54:37.774Z"
   },
   {
    "duration": 595,
    "start_time": "2025-02-25T15:54:39.115Z"
   },
   {
    "duration": 844,
    "start_time": "2025-02-25T15:54:44.331Z"
   },
   {
    "duration": 3082,
    "start_time": "2025-02-25T15:58:05.777Z"
   },
   {
    "duration": 2830,
    "start_time": "2025-02-25T15:58:08.862Z"
   },
   {
    "duration": 2481,
    "start_time": "2025-02-25T15:58:11.695Z"
   },
   {
    "duration": 1411,
    "start_time": "2025-02-25T15:58:14.179Z"
   },
   {
    "duration": 3,
    "start_time": "2025-02-25T15:58:15.591Z"
   },
   {
    "duration": 46,
    "start_time": "2025-02-25T15:58:15.595Z"
   },
   {
    "duration": 1056,
    "start_time": "2025-02-25T15:58:15.643Z"
   },
   {
    "duration": 125,
    "start_time": "2025-02-25T15:58:16.700Z"
   },
   {
    "duration": 3,
    "start_time": "2025-02-25T15:58:16.826Z"
   },
   {
    "duration": 215,
    "start_time": "2025-02-25T15:58:16.831Z"
   },
   {
    "duration": 335,
    "start_time": "2025-02-25T15:58:17.047Z"
   },
   {
    "duration": 775,
    "start_time": "2025-02-25T15:58:17.384Z"
   },
   {
    "duration": 6,
    "start_time": "2025-02-25T15:58:18.160Z"
   },
   {
    "duration": 30,
    "start_time": "2025-02-25T15:58:18.167Z"
   },
   {
    "duration": 12,
    "start_time": "2025-02-25T15:58:18.198Z"
   },
   {
    "duration": 78,
    "start_time": "2025-02-25T15:58:18.211Z"
   },
   {
    "duration": 757,
    "start_time": "2025-02-25T15:58:18.291Z"
   },
   {
    "duration": 4,
    "start_time": "2025-02-25T15:58:19.050Z"
   },
   {
    "duration": 8,
    "start_time": "2025-02-25T15:58:19.055Z"
   },
   {
    "duration": 4,
    "start_time": "2025-02-25T15:58:19.064Z"
   },
   {
    "duration": 65,
    "start_time": "2025-02-25T15:58:19.069Z"
   },
   {
    "duration": 28,
    "start_time": "2025-02-25T15:58:19.136Z"
   },
   {
    "duration": 51,
    "start_time": "2025-02-25T15:58:19.166Z"
   },
   {
    "duration": 9,
    "start_time": "2025-02-25T15:58:19.218Z"
   },
   {
    "duration": 41,
    "start_time": "2025-02-25T15:58:19.229Z"
   },
   {
    "duration": 64,
    "start_time": "2025-02-25T15:58:19.272Z"
   },
   {
    "duration": 41,
    "start_time": "2025-02-25T15:58:19.337Z"
   },
   {
    "duration": 323,
    "start_time": "2025-02-25T15:58:19.458Z"
   },
   {
    "duration": 196,
    "start_time": "2025-02-25T15:58:19.782Z"
   },
   {
    "duration": 881,
    "start_time": "2025-02-25T15:58:19.981Z"
   },
   {
    "duration": 598,
    "start_time": "2025-02-25T15:58:20.864Z"
   },
   {
    "duration": 21,
    "start_time": "2025-02-25T15:58:21.464Z"
   },
   {
    "duration": 32,
    "start_time": "2025-02-25T15:58:21.486Z"
   },
   {
    "duration": 4,
    "start_time": "2025-02-25T15:58:21.519Z"
   },
   {
    "duration": 4642,
    "start_time": "2025-02-25T15:58:21.525Z"
   },
   {
    "duration": 193,
    "start_time": "2025-02-25T15:58:26.168Z"
   },
   {
    "duration": 5,
    "start_time": "2025-02-25T15:58:26.363Z"
   },
   {
    "duration": 140,
    "start_time": "2025-02-25T15:58:26.370Z"
   },
   {
    "duration": 42,
    "start_time": "2025-02-25T15:58:26.512Z"
   },
   {
    "duration": 85,
    "start_time": "2025-02-25T15:58:26.556Z"
   },
   {
    "duration": 22,
    "start_time": "2025-02-25T15:58:26.642Z"
   },
   {
    "duration": 52,
    "start_time": "2025-02-25T15:58:26.666Z"
   },
   {
    "duration": 23,
    "start_time": "2025-02-25T15:58:26.720Z"
   },
   {
    "duration": 144,
    "start_time": "2025-02-25T15:58:26.745Z"
   },
   {
    "duration": 8,
    "start_time": "2025-02-25T15:58:26.891Z"
   },
   {
    "duration": 62310,
    "start_time": "2025-02-25T15:58:26.900Z"
   },
   {
    "duration": 3,
    "start_time": "2025-02-25T15:59:29.212Z"
   },
   {
    "duration": 8,
    "start_time": "2025-02-25T15:59:29.216Z"
   },
   {
    "duration": 34433,
    "start_time": "2025-02-25T15:59:29.226Z"
   },
   {
    "duration": 2968,
    "start_time": "2025-02-25T16:00:03.660Z"
   },
   {
    "duration": 20,
    "start_time": "2025-02-25T16:00:06.629Z"
   },
   {
    "duration": 245,
    "start_time": "2025-02-25T16:00:06.651Z"
   },
   {
    "duration": 3581,
    "start_time": "2025-02-25T16:00:06.898Z"
   },
   {
    "duration": 2,
    "start_time": "2025-02-25T16:00:10.481Z"
   },
   {
    "duration": 20,
    "start_time": "2025-02-25T16:00:10.484Z"
   },
   {
    "duration": 38735,
    "start_time": "2025-02-25T16:00:10.506Z"
   },
   {
    "duration": 2,
    "start_time": "2025-02-25T16:00:49.243Z"
   },
   {
    "duration": 38640,
    "start_time": "2025-02-25T16:00:49.247Z"
   },
   {
    "duration": 3867,
    "start_time": "2025-02-25T16:01:27.889Z"
   },
   {
    "duration": 15,
    "start_time": "2025-02-25T16:01:31.758Z"
   },
   {
    "duration": 8,
    "start_time": "2025-02-25T16:01:31.774Z"
   },
   {
    "duration": 3285,
    "start_time": "2025-02-25T16:01:31.783Z"
   },
   {
    "duration": 6,
    "start_time": "2025-02-25T16:01:35.069Z"
   },
   {
    "duration": 47,
    "start_time": "2025-02-25T16:01:35.077Z"
   },
   {
    "duration": 488,
    "start_time": "2025-02-25T16:01:35.126Z"
   },
   {
    "duration": 6,
    "start_time": "2025-02-25T16:01:35.615Z"
   },
   {
    "duration": 698,
    "start_time": "2025-02-25T16:01:35.622Z"
   },
   {
    "duration": 852,
    "start_time": "2025-02-25T16:01:36.321Z"
   },
   {
    "duration": 416,
    "start_time": "2025-02-25T16:01:37.175Z"
   },
   {
    "duration": 32,
    "start_time": "2025-02-25T16:01:37.592Z"
   },
   {
    "duration": 6,
    "start_time": "2025-02-25T16:01:37.625Z"
   },
   {
    "duration": 424,
    "start_time": "2025-02-25T16:01:37.632Z"
   },
   {
    "duration": 4,
    "start_time": "2025-02-25T16:01:38.060Z"
   },
   {
    "duration": 3326,
    "start_time": "2025-02-25T16:02:20.909Z"
   },
   {
    "duration": 2872,
    "start_time": "2025-02-25T16:02:24.238Z"
   },
   {
    "duration": 2480,
    "start_time": "2025-02-25T16:02:27.112Z"
   },
   {
    "duration": 1496,
    "start_time": "2025-02-25T16:02:29.594Z"
   },
   {
    "duration": 3,
    "start_time": "2025-02-25T16:02:31.092Z"
   },
   {
    "duration": 18,
    "start_time": "2025-02-25T16:02:31.096Z"
   },
   {
    "duration": 1044,
    "start_time": "2025-02-25T16:02:31.115Z"
   },
   {
    "duration": 143,
    "start_time": "2025-02-25T16:02:32.161Z"
   },
   {
    "duration": 7,
    "start_time": "2025-02-25T16:02:32.310Z"
   },
   {
    "duration": 207,
    "start_time": "2025-02-25T16:02:32.320Z"
   },
   {
    "duration": 368,
    "start_time": "2025-02-25T16:02:32.529Z"
   },
   {
    "duration": 828,
    "start_time": "2025-02-25T16:02:32.899Z"
   },
   {
    "duration": 6,
    "start_time": "2025-02-25T16:02:33.728Z"
   },
   {
    "duration": 30,
    "start_time": "2025-02-25T16:02:33.736Z"
   },
   {
    "duration": 2,
    "start_time": "2025-02-25T16:02:33.768Z"
   },
   {
    "duration": 95,
    "start_time": "2025-02-25T16:02:33.771Z"
   },
   {
    "duration": 719,
    "start_time": "2025-02-25T16:02:33.868Z"
   },
   {
    "duration": 4,
    "start_time": "2025-02-25T16:02:34.589Z"
   },
   {
    "duration": 34,
    "start_time": "2025-02-25T16:02:34.594Z"
   },
   {
    "duration": 23,
    "start_time": "2025-02-25T16:02:34.630Z"
   },
   {
    "duration": 64,
    "start_time": "2025-02-25T16:02:34.655Z"
   },
   {
    "duration": 29,
    "start_time": "2025-02-25T16:02:34.721Z"
   },
   {
    "duration": 51,
    "start_time": "2025-02-25T16:02:34.752Z"
   },
   {
    "duration": 15,
    "start_time": "2025-02-25T16:02:34.805Z"
   },
   {
    "duration": 148,
    "start_time": "2025-02-25T16:02:34.821Z"
   },
   {
    "duration": 41,
    "start_time": "2025-02-25T16:02:34.971Z"
   },
   {
    "duration": 25,
    "start_time": "2025-02-25T16:02:35.014Z"
   },
   {
    "duration": 329,
    "start_time": "2025-02-25T16:02:35.119Z"
   },
   {
    "duration": 193,
    "start_time": "2025-02-25T16:02:35.450Z"
   },
   {
    "duration": 898,
    "start_time": "2025-02-25T16:02:35.644Z"
   },
   {
    "duration": 619,
    "start_time": "2025-02-25T16:02:36.543Z"
   },
   {
    "duration": 20,
    "start_time": "2025-02-25T16:02:37.164Z"
   },
   {
    "duration": 28,
    "start_time": "2025-02-25T16:02:37.185Z"
   },
   {
    "duration": 8,
    "start_time": "2025-02-25T16:02:37.214Z"
   },
   {
    "duration": 4645,
    "start_time": "2025-02-25T16:02:37.223Z"
   },
   {
    "duration": 193,
    "start_time": "2025-02-25T16:02:41.869Z"
   },
   {
    "duration": 5,
    "start_time": "2025-02-25T16:02:42.063Z"
   },
   {
    "duration": 147,
    "start_time": "2025-02-25T16:02:42.070Z"
   },
   {
    "duration": 46,
    "start_time": "2025-02-25T16:02:42.218Z"
   },
   {
    "duration": 95,
    "start_time": "2025-02-25T16:02:42.265Z"
   },
   {
    "duration": 21,
    "start_time": "2025-02-25T16:02:42.362Z"
   },
   {
    "duration": 32,
    "start_time": "2025-02-25T16:02:42.385Z"
   },
   {
    "duration": 8,
    "start_time": "2025-02-25T16:02:42.418Z"
   },
   {
    "duration": 18,
    "start_time": "2025-02-25T16:02:42.428Z"
   },
   {
    "duration": 13,
    "start_time": "2025-02-25T16:02:42.447Z"
   },
   {
    "duration": 60748,
    "start_time": "2025-02-25T16:02:42.462Z"
   },
   {
    "duration": 3,
    "start_time": "2025-02-25T16:03:43.211Z"
   },
   {
    "duration": 4,
    "start_time": "2025-02-25T16:03:43.216Z"
   },
   {
    "duration": 33742,
    "start_time": "2025-02-25T16:03:43.224Z"
   },
   {
    "duration": 3089,
    "start_time": "2025-02-25T16:04:16.967Z"
   },
   {
    "duration": 19,
    "start_time": "2025-02-25T16:04:20.057Z"
   },
   {
    "duration": 15,
    "start_time": "2025-02-25T16:04:20.078Z"
   },
   {
    "duration": 3500,
    "start_time": "2025-02-25T16:04:20.094Z"
   },
   {
    "duration": 2,
    "start_time": "2025-02-25T16:04:23.596Z"
   },
   {
    "duration": 14,
    "start_time": "2025-02-25T16:04:23.600Z"
   },
   {
    "duration": 40051,
    "start_time": "2025-02-25T16:04:23.616Z"
   },
   {
    "duration": 3,
    "start_time": "2025-02-25T16:05:03.668Z"
   },
   {
    "duration": 38627,
    "start_time": "2025-02-25T16:05:03.673Z"
   },
   {
    "duration": 3851,
    "start_time": "2025-02-25T16:05:42.301Z"
   },
   {
    "duration": 17,
    "start_time": "2025-02-25T16:05:46.154Z"
   },
   {
    "duration": 12,
    "start_time": "2025-02-25T16:05:46.173Z"
   },
   {
    "duration": 3230,
    "start_time": "2025-02-25T16:05:46.187Z"
   },
   {
    "duration": 8,
    "start_time": "2025-02-25T16:05:49.418Z"
   },
   {
    "duration": 36,
    "start_time": "2025-02-25T16:05:49.427Z"
   },
   {
    "duration": 460,
    "start_time": "2025-02-25T16:05:49.465Z"
   },
   {
    "duration": 6,
    "start_time": "2025-02-25T16:05:49.927Z"
   },
   {
    "duration": 692,
    "start_time": "2025-02-25T16:05:49.934Z"
   },
   {
    "duration": 846,
    "start_time": "2025-02-25T16:05:50.627Z"
   },
   {
    "duration": 426,
    "start_time": "2025-02-25T16:05:51.475Z"
   },
   {
    "duration": 27,
    "start_time": "2025-02-25T16:05:51.903Z"
   },
   {
    "duration": 7,
    "start_time": "2025-02-25T16:05:51.932Z"
   },
   {
    "duration": 445,
    "start_time": "2025-02-25T16:05:51.941Z"
   },
   {
    "duration": 21,
    "start_time": "2025-02-25T16:07:53.649Z"
   },
   {
    "duration": 3072,
    "start_time": "2025-02-25T16:08:12.649Z"
   },
   {
    "duration": 2798,
    "start_time": "2025-02-25T16:08:15.723Z"
   },
   {
    "duration": 2403,
    "start_time": "2025-02-25T16:08:18.523Z"
   },
   {
    "duration": 1483,
    "start_time": "2025-02-25T16:08:20.928Z"
   },
   {
    "duration": 3,
    "start_time": "2025-02-25T16:08:22.413Z"
   },
   {
    "duration": 17,
    "start_time": "2025-02-25T16:08:22.418Z"
   },
   {
    "duration": 1046,
    "start_time": "2025-02-25T16:08:22.437Z"
   },
   {
    "duration": 130,
    "start_time": "2025-02-25T16:08:23.485Z"
   },
   {
    "duration": 3,
    "start_time": "2025-02-25T16:08:23.616Z"
   },
   {
    "duration": 227,
    "start_time": "2025-02-25T16:08:23.621Z"
   },
   {
    "duration": 340,
    "start_time": "2025-02-25T16:08:23.850Z"
   },
   {
    "duration": 788,
    "start_time": "2025-02-25T16:08:24.191Z"
   },
   {
    "duration": 5,
    "start_time": "2025-02-25T16:08:24.981Z"
   },
   {
    "duration": 46,
    "start_time": "2025-02-25T16:08:24.987Z"
   },
   {
    "duration": 5,
    "start_time": "2025-02-25T16:08:25.034Z"
   },
   {
    "duration": 95,
    "start_time": "2025-02-25T16:08:25.041Z"
   },
   {
    "duration": 717,
    "start_time": "2025-02-25T16:08:25.138Z"
   },
   {
    "duration": 4,
    "start_time": "2025-02-25T16:08:25.857Z"
   },
   {
    "duration": 6,
    "start_time": "2025-02-25T16:08:25.863Z"
   },
   {
    "duration": 6,
    "start_time": "2025-02-25T16:08:25.871Z"
   },
   {
    "duration": 70,
    "start_time": "2025-02-25T16:08:25.878Z"
   },
   {
    "duration": 30,
    "start_time": "2025-02-25T16:08:25.950Z"
   },
   {
    "duration": 52,
    "start_time": "2025-02-25T16:08:25.982Z"
   },
   {
    "duration": 8,
    "start_time": "2025-02-25T16:08:26.036Z"
   },
   {
    "duration": 42,
    "start_time": "2025-02-25T16:08:26.047Z"
   },
   {
    "duration": 68,
    "start_time": "2025-02-25T16:08:26.091Z"
   },
   {
    "duration": 25,
    "start_time": "2025-02-25T16:08:26.160Z"
   },
   {
    "duration": 321,
    "start_time": "2025-02-25T16:08:26.269Z"
   },
   {
    "duration": 182,
    "start_time": "2025-02-25T16:08:26.592Z"
   },
   {
    "duration": 880,
    "start_time": "2025-02-25T16:08:26.776Z"
   },
   {
    "duration": 612,
    "start_time": "2025-02-25T16:08:27.658Z"
   },
   {
    "duration": 20,
    "start_time": "2025-02-25T16:08:28.272Z"
   },
   {
    "duration": 27,
    "start_time": "2025-02-25T16:08:28.294Z"
   },
   {
    "duration": 4,
    "start_time": "2025-02-25T16:08:28.323Z"
   },
   {
    "duration": 4661,
    "start_time": "2025-02-25T16:08:28.328Z"
   },
   {
    "duration": 208,
    "start_time": "2025-02-25T16:08:32.991Z"
   },
   {
    "duration": 9,
    "start_time": "2025-02-25T16:08:33.201Z"
   },
   {
    "duration": 155,
    "start_time": "2025-02-25T16:08:33.211Z"
   },
   {
    "duration": 47,
    "start_time": "2025-02-25T16:08:33.367Z"
   },
   {
    "duration": 44,
    "start_time": "2025-02-25T16:08:33.415Z"
   },
   {
    "duration": 26,
    "start_time": "2025-02-25T16:08:33.461Z"
   },
   {
    "duration": 55,
    "start_time": "2025-02-25T16:08:33.489Z"
   },
   {
    "duration": 6,
    "start_time": "2025-02-25T16:08:33.546Z"
   },
   {
    "duration": 8,
    "start_time": "2025-02-25T16:08:33.554Z"
   },
   {
    "duration": 18,
    "start_time": "2025-02-25T16:08:33.563Z"
   },
   {
    "duration": 61930,
    "start_time": "2025-02-25T16:08:33.582Z"
   },
   {
    "duration": 3,
    "start_time": "2025-02-25T16:09:35.515Z"
   },
   {
    "duration": 6,
    "start_time": "2025-02-25T16:09:35.520Z"
   },
   {
    "duration": 34400,
    "start_time": "2025-02-25T16:09:35.610Z"
   },
   {
    "duration": 3214,
    "start_time": "2025-02-25T16:10:10.012Z"
   },
   {
    "duration": 21,
    "start_time": "2025-02-25T16:10:13.227Z"
   },
   {
    "duration": 5,
    "start_time": "2025-02-25T16:10:13.249Z"
   },
   {
    "duration": 3506,
    "start_time": "2025-02-25T16:10:13.255Z"
   },
   {
    "duration": 2,
    "start_time": "2025-02-25T16:10:16.763Z"
   },
   {
    "duration": 21,
    "start_time": "2025-02-25T16:10:16.766Z"
   },
   {
    "duration": 38893,
    "start_time": "2025-02-25T16:10:16.789Z"
   },
   {
    "duration": 3,
    "start_time": "2025-02-25T16:10:55.684Z"
   },
   {
    "duration": 3101,
    "start_time": "2025-02-25T16:11:32.967Z"
   },
   {
    "duration": 2624,
    "start_time": "2025-02-25T16:11:36.070Z"
   },
   {
    "duration": 2446,
    "start_time": "2025-02-25T16:11:38.696Z"
   },
   {
    "duration": 1470,
    "start_time": "2025-02-25T16:11:41.145Z"
   },
   {
    "duration": 2,
    "start_time": "2025-02-25T16:11:42.617Z"
   },
   {
    "duration": 5,
    "start_time": "2025-02-25T16:11:42.620Z"
   },
   {
    "duration": 1047,
    "start_time": "2025-02-25T16:11:42.626Z"
   },
   {
    "duration": 126,
    "start_time": "2025-02-25T16:11:43.674Z"
   },
   {
    "duration": 8,
    "start_time": "2025-02-25T16:11:43.802Z"
   },
   {
    "duration": 202,
    "start_time": "2025-02-25T16:11:43.813Z"
   },
   {
    "duration": 381,
    "start_time": "2025-02-25T16:11:44.017Z"
   },
   {
    "duration": 880,
    "start_time": "2025-02-25T16:11:44.400Z"
   },
   {
    "duration": 5,
    "start_time": "2025-02-25T16:11:45.282Z"
   },
   {
    "duration": 36,
    "start_time": "2025-02-25T16:11:45.289Z"
   },
   {
    "duration": 2,
    "start_time": "2025-02-25T16:11:45.327Z"
   },
   {
    "duration": 155,
    "start_time": "2025-02-25T16:11:45.331Z"
   },
   {
    "duration": 712,
    "start_time": "2025-02-25T16:11:45.488Z"
   },
   {
    "duration": 9,
    "start_time": "2025-02-25T16:11:46.201Z"
   },
   {
    "duration": 12,
    "start_time": "2025-02-25T16:11:46.211Z"
   },
   {
    "duration": 10,
    "start_time": "2025-02-25T16:11:46.225Z"
   },
   {
    "duration": 59,
    "start_time": "2025-02-25T16:11:46.236Z"
   },
   {
    "duration": 28,
    "start_time": "2025-02-25T16:11:46.297Z"
   },
   {
    "duration": 32,
    "start_time": "2025-02-25T16:11:46.327Z"
   },
   {
    "duration": 7,
    "start_time": "2025-02-25T16:11:46.360Z"
   },
   {
    "duration": 61,
    "start_time": "2025-02-25T16:11:46.369Z"
   },
   {
    "duration": 43,
    "start_time": "2025-02-25T16:11:46.431Z"
   },
   {
    "duration": 38,
    "start_time": "2025-02-25T16:11:46.475Z"
   },
   {
    "duration": 325,
    "start_time": "2025-02-25T16:11:46.586Z"
   },
   {
    "duration": 182,
    "start_time": "2025-02-25T16:11:46.913Z"
   },
   {
    "duration": 884,
    "start_time": "2025-02-25T16:11:47.097Z"
   },
   {
    "duration": 616,
    "start_time": "2025-02-25T16:11:47.982Z"
   },
   {
    "duration": 21,
    "start_time": "2025-02-25T16:11:48.600Z"
   },
   {
    "duration": 27,
    "start_time": "2025-02-25T16:11:48.622Z"
   },
   {
    "duration": 6,
    "start_time": "2025-02-25T16:11:48.651Z"
   },
   {
    "duration": 4693,
    "start_time": "2025-02-25T16:11:48.658Z"
   },
   {
    "duration": 189,
    "start_time": "2025-02-25T16:11:53.352Z"
   },
   {
    "duration": 5,
    "start_time": "2025-02-25T16:11:53.542Z"
   },
   {
    "duration": 147,
    "start_time": "2025-02-25T16:11:53.549Z"
   },
   {
    "duration": 44,
    "start_time": "2025-02-25T16:11:53.697Z"
   },
   {
    "duration": 29,
    "start_time": "2025-02-25T16:11:53.742Z"
   },
   {
    "duration": 39,
    "start_time": "2025-02-25T16:11:53.772Z"
   },
   {
    "duration": 16,
    "start_time": "2025-02-25T16:11:53.812Z"
   },
   {
    "duration": 5,
    "start_time": "2025-02-25T16:11:53.830Z"
   },
   {
    "duration": 4,
    "start_time": "2025-02-25T16:11:53.836Z"
   },
   {
    "duration": 5,
    "start_time": "2025-02-25T16:11:53.841Z"
   },
   {
    "duration": 61369,
    "start_time": "2025-02-25T16:11:53.847Z"
   },
   {
    "duration": 92,
    "start_time": "2025-02-25T16:12:55.218Z"
   },
   {
    "duration": 17,
    "start_time": "2025-02-25T16:12:55.312Z"
   },
   {
    "duration": 34094,
    "start_time": "2025-02-25T16:12:55.330Z"
   },
   {
    "duration": 3062,
    "start_time": "2025-02-25T16:13:29.425Z"
   },
   {
    "duration": 130,
    "start_time": "2025-02-25T16:13:32.489Z"
   },
   {
    "duration": 0,
    "start_time": "2025-02-25T16:13:32.621Z"
   },
   {
    "duration": 0,
    "start_time": "2025-02-25T16:13:32.622Z"
   },
   {
    "duration": 0,
    "start_time": "2025-02-25T16:13:32.623Z"
   },
   {
    "duration": 0,
    "start_time": "2025-02-25T16:13:32.624Z"
   },
   {
    "duration": 0,
    "start_time": "2025-02-25T16:13:32.625Z"
   },
   {
    "duration": 0,
    "start_time": "2025-02-25T16:13:32.626Z"
   },
   {
    "duration": 0,
    "start_time": "2025-02-25T16:13:32.627Z"
   },
   {
    "duration": 0,
    "start_time": "2025-02-25T16:13:32.628Z"
   },
   {
    "duration": 0,
    "start_time": "2025-02-25T16:13:32.629Z"
   },
   {
    "duration": 0,
    "start_time": "2025-02-25T16:13:32.630Z"
   },
   {
    "duration": 0,
    "start_time": "2025-02-25T16:13:32.631Z"
   },
   {
    "duration": 0,
    "start_time": "2025-02-25T16:13:32.632Z"
   },
   {
    "duration": 0,
    "start_time": "2025-02-25T16:13:32.633Z"
   },
   {
    "duration": 0,
    "start_time": "2025-02-25T16:13:32.634Z"
   },
   {
    "duration": 0,
    "start_time": "2025-02-25T16:13:32.635Z"
   },
   {
    "duration": 0,
    "start_time": "2025-02-25T16:13:32.636Z"
   },
   {
    "duration": 0,
    "start_time": "2025-02-25T16:13:32.637Z"
   },
   {
    "duration": 0,
    "start_time": "2025-02-25T16:13:32.638Z"
   },
   {
    "duration": 0,
    "start_time": "2025-02-25T16:13:32.639Z"
   },
   {
    "duration": 0,
    "start_time": "2025-02-25T16:13:32.640Z"
   },
   {
    "duration": 0,
    "start_time": "2025-02-25T16:13:32.641Z"
   },
   {
    "duration": 7,
    "start_time": "2025-02-25T16:14:03.236Z"
   },
   {
    "duration": 21,
    "start_time": "2025-02-25T16:14:12.711Z"
   },
   {
    "duration": 4,
    "start_time": "2025-02-25T16:14:20.554Z"
   },
   {
    "duration": 2278,
    "start_time": "2025-02-25T16:14:23.280Z"
   },
   {
    "duration": 3,
    "start_time": "2025-02-25T16:14:26.989Z"
   },
   {
    "duration": 3,
    "start_time": "2025-02-25T16:14:28.256Z"
   },
   {
    "duration": 39036,
    "start_time": "2025-02-25T16:14:29.110Z"
   },
   {
    "duration": 2,
    "start_time": "2025-02-25T16:15:08.148Z"
   },
   {
    "duration": 73840,
    "start_time": "2025-02-25T16:15:08.152Z"
   },
   {
    "duration": 3905,
    "start_time": "2025-02-25T16:16:21.995Z"
   },
   {
    "duration": 20,
    "start_time": "2025-02-25T16:16:36.328Z"
   },
   {
    "duration": 5,
    "start_time": "2025-02-25T16:16:37.618Z"
   },
   {
    "duration": 3130,
    "start_time": "2025-02-25T16:16:38.206Z"
   },
   {
    "duration": 6,
    "start_time": "2025-02-25T16:16:41.338Z"
   },
   {
    "duration": 29,
    "start_time": "2025-02-25T16:16:41.345Z"
   },
   {
    "duration": 443,
    "start_time": "2025-02-25T16:16:41.375Z"
   },
   {
    "duration": 5,
    "start_time": "2025-02-25T16:16:43.032Z"
   },
   {
    "duration": 670,
    "start_time": "2025-02-25T16:16:43.533Z"
   },
   {
    "duration": 841,
    "start_time": "2025-02-25T16:16:44.210Z"
   },
   {
    "duration": 433,
    "start_time": "2025-02-25T16:16:45.108Z"
   },
   {
    "duration": 23,
    "start_time": "2025-02-25T16:16:45.543Z"
   },
   {
    "duration": 7,
    "start_time": "2025-02-25T16:16:45.919Z"
   },
   {
    "duration": 416,
    "start_time": "2025-02-25T16:16:46.501Z"
   }
  ],
  "kernelspec": {
   "display_name": "Python 3 (ipykernel)",
   "language": "python",
   "name": "python3"
  },
  "language_info": {
   "codemirror_mode": {
    "name": "ipython",
    "version": 3
   },
   "file_extension": ".py",
   "mimetype": "text/x-python",
   "name": "python",
   "nbconvert_exporter": "python",
   "pygments_lexer": "ipython3",
   "version": "3.9.20"
  },
  "toc": {
   "base_numbering": 1,
   "nav_menu": {},
   "number_sections": true,
   "sideBar": true,
   "skip_h1_title": true,
   "title_cell": "Table of Contents",
   "title_sidebar": "Contents",
   "toc_cell": false,
   "toc_position": {
    "height": "calc(100% - 180px)",
    "left": "10px",
    "top": "150px",
    "width": "328.528px"
   },
   "toc_section_display": true,
   "toc_window_display": false
  }
 },
 "nbformat": 4,
 "nbformat_minor": 4
}
